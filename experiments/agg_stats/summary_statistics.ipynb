{
 "cells": [
  {
   "cell_type": "code",
   "execution_count": 1,
   "metadata": {},
   "outputs": [],
   "source": [
    "import pandas as pd\n",
    "import sys\n",
    "import os\n",
    "import numpy as np\n",
    "current_path = os.getcwd() \n",
    "one_level_up = os.path.abspath(os.path.join(current_path,  \"..\"))"
   ]
  },
  {
   "cell_type": "code",
   "execution_count": 2,
   "metadata": {},
   "outputs": [],
   "source": [
    "def get_stats(method, model, data=None):\n",
    "    if data:\n",
    "        path = one_level_up+'/'+model+'/metrics/'+model+'_'+method+'_'+data+'_results.csv' \n",
    "    else:\n",
    "        path = one_level_up+'/'+model+'/metrics/'+model+'_'+method+'_results.csv'\n",
    "    df = pd.read_csv(path)\n",
    "    res_cind = df.groupby(['dataset'])['cindex_test'].agg([np.mean, np.std]).rename(\n",
    "    columns={\n",
    "        'mean': 'mean_cindex',\n",
    "        'std': 'std_cindex'\n",
    "    })\n",
    "    res_ibs = df.groupby(['dataset'])['ibs_test'].agg([np.mean, np.std]).rename(\n",
    "    columns={\n",
    "        'mean': 'mean_ibs',\n",
    "        'std': 'std_ibs'\n",
    "    })\n",
    "    df_res = pd.concat([res_cind,res_ibs],axis=1).reset_index()\n",
    "    return df_res"
   ]
  },
  {
   "cell_type": "code",
   "execution_count": 8,
   "metadata": {},
   "outputs": [
    {
     "data": {
      "text/html": [
       "<div>\n",
       "<style scoped>\n",
       "    .dataframe tbody tr th:only-of-type {\n",
       "        vertical-align: middle;\n",
       "    }\n",
       "\n",
       "    .dataframe tbody tr th {\n",
       "        vertical-align: top;\n",
       "    }\n",
       "\n",
       "    .dataframe thead th {\n",
       "        text-align: right;\n",
       "    }\n",
       "</style>\n",
       "<table border=\"1\" class=\"dataframe\">\n",
       "  <thead>\n",
       "    <tr style=\"text-align: right;\">\n",
       "      <th></th>\n",
       "      <th>dataset</th>\n",
       "      <th>mean_cindex</th>\n",
       "      <th>std_cindex</th>\n",
       "      <th>mean_ibs</th>\n",
       "      <th>std_ibs</th>\n",
       "    </tr>\n",
       "  </thead>\n",
       "  <tbody>\n",
       "    <tr>\n",
       "      <th>0</th>\n",
       "      <td>FLCHAIN</td>\n",
       "      <td>0.639888</td>\n",
       "      <td>0.096533</td>\n",
       "      <td>0.124141</td>\n",
       "      <td>0.008754</td>\n",
       "    </tr>\n",
       "    <tr>\n",
       "      <th>1</th>\n",
       "      <td>METABRIC</td>\n",
       "      <td>0.568791</td>\n",
       "      <td>0.018909</td>\n",
       "      <td>0.187613</td>\n",
       "      <td>0.009086</td>\n",
       "    </tr>\n",
       "    <tr>\n",
       "      <th>2</th>\n",
       "      <td>RGBSG</td>\n",
       "      <td>0.524140</td>\n",
       "      <td>0.023848</td>\n",
       "      <td>0.203608</td>\n",
       "      <td>0.003141</td>\n",
       "    </tr>\n",
       "    <tr>\n",
       "      <th>3</th>\n",
       "      <td>SUPPORT</td>\n",
       "      <td>0.580666</td>\n",
       "      <td>0.009018</td>\n",
       "      <td>0.201645</td>\n",
       "      <td>0.001138</td>\n",
       "    </tr>\n",
       "  </tbody>\n",
       "</table>\n",
       "</div>"
      ],
      "text/plain": [
       "    dataset  mean_cindex  std_cindex  mean_ibs   std_ibs\n",
       "0   FLCHAIN     0.639888    0.096533  0.124141  0.008754\n",
       "1  METABRIC     0.568791    0.018909  0.187613  0.009086\n",
       "2     RGBSG     0.524140    0.023848  0.203608  0.003141\n",
       "3   SUPPORT     0.580666    0.009018  0.201645  0.001138"
      ]
     },
     "execution_count": 8,
     "metadata": {},
     "output_type": "execute_result"
    }
   ],
   "source": [
    "df_gbdt = get_stats(method='gbdt', model='ah', data=None)\n",
    "df_gbdt"
   ]
  },
  {
   "cell_type": "code",
   "execution_count": 10,
   "metadata": {},
   "outputs": [
    {
     "data": {
      "text/html": [
       "<div>\n",
       "<style scoped>\n",
       "    .dataframe tbody tr th:only-of-type {\n",
       "        vertical-align: middle;\n",
       "    }\n",
       "\n",
       "    .dataframe tbody tr th {\n",
       "        vertical-align: top;\n",
       "    }\n",
       "\n",
       "    .dataframe thead th {\n",
       "        text-align: right;\n",
       "    }\n",
       "</style>\n",
       "<table border=\"1\" class=\"dataframe\">\n",
       "  <thead>\n",
       "    <tr style=\"text-align: right;\">\n",
       "      <th></th>\n",
       "      <th>dataset</th>\n",
       "      <th>mean_cindex</th>\n",
       "      <th>std_cindex</th>\n",
       "      <th>mean_ibs</th>\n",
       "      <th>std_ibs</th>\n",
       "    </tr>\n",
       "  </thead>\n",
       "  <tbody>\n",
       "    <tr>\n",
       "      <th>0</th>\n",
       "      <td>FLCHAIN</td>\n",
       "      <td>0.588768</td>\n",
       "      <td>0.280300</td>\n",
       "      <td>0.129009</td>\n",
       "      <td>0.004456</td>\n",
       "    </tr>\n",
       "    <tr>\n",
       "      <th>1</th>\n",
       "      <td>METABRIC</td>\n",
       "      <td>0.568441</td>\n",
       "      <td>0.016000</td>\n",
       "      <td>0.186600</td>\n",
       "      <td>0.007642</td>\n",
       "    </tr>\n",
       "    <tr>\n",
       "      <th>2</th>\n",
       "      <td>RGBSG</td>\n",
       "      <td>0.529420</td>\n",
       "      <td>0.020130</td>\n",
       "      <td>0.203149</td>\n",
       "      <td>0.002909</td>\n",
       "    </tr>\n",
       "    <tr>\n",
       "      <th>3</th>\n",
       "      <td>SUPPORT</td>\n",
       "      <td>0.579318</td>\n",
       "      <td>0.009567</td>\n",
       "      <td>0.201492</td>\n",
       "      <td>0.000941</td>\n",
       "    </tr>\n",
       "  </tbody>\n",
       "</table>\n",
       "</div>"
      ],
      "text/plain": [
       "    dataset  mean_cindex  std_cindex  mean_ibs   std_ibs\n",
       "0   FLCHAIN     0.588768    0.280300  0.129009  0.004456\n",
       "1  METABRIC     0.568441    0.016000  0.186600  0.007642\n",
       "2     RGBSG     0.529420    0.020130  0.203149  0.002909\n",
       "3   SUPPORT     0.579318    0.009567  0.201492  0.000941"
      ]
     },
     "execution_count": 10,
     "metadata": {},
     "output_type": "execute_result"
    }
   ],
   "source": [
    "df_dl = get_stats(method='dl', model='ah', data=None)\n",
    "df_dl"
   ]
  },
  {
   "cell_type": "code",
   "execution_count": 14,
   "metadata": {},
   "outputs": [
    {
     "name": "stdout",
     "output_type": "stream",
     "text": [
      "[1.08682575 1.00061558 0.99002783 1.00232676]\n",
      "[0.96226055 1.00542587 1.00225511 1.00076121]\n"
     ]
    }
   ],
   "source": [
    "df_gbdt = get_stats(method='gbdt', model='ah', data=None)\n",
    "df_dl = get_stats(method='dl', model='ah', data=None)\n",
    "print((df_gbdt['mean_cindex']/df_dl['mean_cindex']).values.round(4))\n",
    "print((df_gbdt['mean_ibs']/df_dl['mean_ibs']).values.round(4))"
   ]
  },
  {
   "cell_type": "code",
   "execution_count": 17,
   "metadata": {},
   "outputs": [],
   "source": [
    "# tcga\n",
    "df_gbdt = get_stats(method='gbdt', model='ah', data='tcga')\n",
    "df_dl = get_stats(method='dl', model='ah', data='tcga')\n",
    "(df_gbdt['mean_cindex']/df_dl['mean_cindex']).to_csv('cindex_tcga.csv')\n",
    "(df_gbdt['mean_ibs']/df_dl['mean_ibs']).to_csv('ibs_tcga.csv')"
   ]
  },
  {
   "cell_type": "code",
   "execution_count": null,
   "metadata": {},
   "outputs": [],
   "source": []
  }
 ],
 "metadata": {
  "kernelspec": {
   "display_name": "xgbsurv",
   "language": "python",
   "name": "python3"
  },
  "language_info": {
   "codemirror_mode": {
    "name": "ipython",
    "version": 3
   },
   "file_extension": ".py",
   "mimetype": "text/x-python",
   "name": "python",
   "nbconvert_exporter": "python",
   "pygments_lexer": "ipython3",
   "version": "3.11.3"
  },
  "orig_nbformat": 4
 },
 "nbformat": 4,
 "nbformat_minor": 2
}
