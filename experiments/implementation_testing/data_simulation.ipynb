{
 "cells": [
  {
   "cell_type": "code",
   "execution_count": 3,
   "metadata": {},
   "outputs": [],
   "source": [
    "import pandas as pd\n",
    "from pysurvival.models.simulations import SimulationModel\n",
    "import numpy as np"
   ]
  },
  {
   "cell_type": "code",
   "execution_count": 4,
   "metadata": {},
   "outputs": [
    {
     "name": "stdout",
     "output_type": "stream",
     "text": [
      "Number of data-points: 1000 - Number of events: 370.0\n",
      "Number of data-points: 10000 - Number of events: 3744.0\n",
      "Number of data-points: 100000 - Number of events: 37187.0\n"
     ]
    },
    {
     "data": {
      "text/html": [
       "<div>\n",
       "<style scoped>\n",
       "    .dataframe tbody tr th:only-of-type {\n",
       "        vertical-align: middle;\n",
       "    }\n",
       "\n",
       "    .dataframe tbody tr th {\n",
       "        vertical-align: top;\n",
       "    }\n",
       "\n",
       "    .dataframe thead th {\n",
       "        text-align: right;\n",
       "    }\n",
       "</style>\n",
       "<table border=\"1\" class=\"dataframe\">\n",
       "  <thead>\n",
       "    <tr style=\"text-align: right;\">\n",
       "      <th></th>\n",
       "      <th>x_1</th>\n",
       "      <th>x_2</th>\n",
       "      <th>x_3</th>\n",
       "      <th>x_4</th>\n",
       "      <th>x_5</th>\n",
       "      <th>time</th>\n",
       "      <th>event</th>\n",
       "    </tr>\n",
       "  </thead>\n",
       "  <tbody>\n",
       "    <tr>\n",
       "      <th>0</th>\n",
       "      <td>0.029421</td>\n",
       "      <td>9.164799</td>\n",
       "      <td>0.167285</td>\n",
       "      <td>9.176764</td>\n",
       "      <td>0.623511</td>\n",
       "      <td>0.904514</td>\n",
       "      <td>1.0</td>\n",
       "    </tr>\n",
       "    <tr>\n",
       "      <th>1</th>\n",
       "      <td>0.015608</td>\n",
       "      <td>1.563280</td>\n",
       "      <td>0.151669</td>\n",
       "      <td>4.111674</td>\n",
       "      <td>8.107149</td>\n",
       "      <td>30.051213</td>\n",
       "      <td>0.0</td>\n",
       "    </tr>\n",
       "  </tbody>\n",
       "</table>\n",
       "</div>"
      ],
      "text/plain": [
       "        x_1       x_2       x_3       x_4       x_5       time  event\n",
       "0  0.029421  9.164799  0.167285  9.176764  0.623511   0.904514    1.0\n",
       "1  0.015608  1.563280  0.151669  4.111674  8.107149  30.051213    0.0"
      ]
     },
     "execution_count": 4,
     "metadata": {},
     "output_type": "execute_result"
    }
   ],
   "source": [
    "path = '/Users/JUSC/Documents/xgbsurv_benchmarking/implementation_testing/simulation_data'\n",
    "# Initializing the simulation model\n",
    "sim = SimulationModel( survival_distribution =  'exponential',\n",
    "                       risk_type = 'linear',\n",
    "                       censored_parameter = 30.0,\n",
    "                       alpha = 0.01,\n",
    "                       beta = 5., )\n",
    "\n",
    "# Generating N Random samples\n",
    "N = [1000, 10000, 100000]\n",
    "\n",
    "for size in N:    \n",
    "    dataset = sim.generate_data(num_samples = size, num_features=5)\n",
    "    preds = sim.predict_risk(dataset[['x_1', 'x_2', 'x_3', 'x_4', 'x_5']].to_numpy())\n",
    "    dataset.to_csv(path+'/survival_simulation_'+str(size)+'.csv', index = False)\n",
    "    pd.DataFrame(preds).to_csv(path+'/survival_simulation_preds_'+str(size)+'.csv', index = False)\n",
    "# Showing a few data-points\n",
    "dataset.head(2)\n"
   ]
  },
  {
   "cell_type": "code",
   "execution_count": 5,
   "metadata": {},
   "outputs": [
    {
     "data": {
      "text/plain": [
       "(100000, 7)"
      ]
     },
     "execution_count": 5,
     "metadata": {},
     "output_type": "execute_result"
    }
   ],
   "source": [
    "dataset.shape"
   ]
  },
  {
   "cell_type": "code",
   "execution_count": 6,
   "metadata": {},
   "outputs": [
    {
     "data": {
      "text/plain": [
       "Index(['x_1', 'x_2', 'x_3', 'x_4', 'x_5', 'time', 'event'], dtype='object')"
      ]
     },
     "execution_count": 6,
     "metadata": {},
     "output_type": "execute_result"
    }
   ],
   "source": [
    "dataset.event.sum()\n",
    "dataset.columns"
   ]
  },
  {
   "cell_type": "code",
   "execution_count": 7,
   "metadata": {},
   "outputs": [],
   "source": [
    "## Hazard/risk Predictions\n",
    "preds = sim.predict_risk(dataset[['x_1', 'x_2', 'x_3', 'x_4', 'x_5']].to_numpy())\n",
    "\n"
   ]
  },
  {
   "cell_type": "code",
   "execution_count": 8,
   "metadata": {},
   "outputs": [
    {
     "data": {
      "text/plain": [
       "array([[ 2.94206573e-02,  9.16479927e+00,  1.67285442e-01,\n",
       "         9.17676429e+00,  6.23510841e-01],\n",
       "       [ 1.56083557e-02,  1.56327964e+00,  1.51668656e-01,\n",
       "         4.11167381e+00,  8.10714935e+00],\n",
       "       [ 2.25516826e-04,  5.04035402e+00,  3.10149674e-01,\n",
       "         5.09245186e-01,  7.20077121e+00],\n",
       "       ...,\n",
       "       [ 2.55548868e-03,  1.56655712e+00,  1.62347039e-01,\n",
       "         2.75710502e+00,  7.40889998e+00],\n",
       "       [ 6.30006473e-03,  3.99165080e+00,  5.42294614e-02,\n",
       "         5.40842785e-01, -1.01667542e+00],\n",
       "       [ 2.42703557e-03,  7.72906582e+00,  3.51312246e-02,\n",
       "         3.07589965e+00,  9.60297938e+00]])"
      ]
     },
     "execution_count": 8,
     "metadata": {},
     "output_type": "execute_result"
    }
   ],
   "source": [
    "dataset[['x_1', 'x_2', 'x_3', 'x_4', 'x_5']].to_numpy()"
   ]
  },
  {
   "cell_type": "code",
   "execution_count": 9,
   "metadata": {},
   "outputs": [
    {
     "name": "stdout",
     "output_type": "stream",
     "text": [
      "grad nv\n",
      "grad v\n",
      "hess nv\n",
      "hess v\n",
      "[-0.   -0.9   0.1   0.35  0.35  0.35 -0.65 -0.65  0.35  0.35  0.35] [-0.   -0.9   0.1   0.35  0.35  0.35 -0.65 -0.65  0.35  0.35  0.35]\n",
      "[0.         0.06487213 0.07208014 0.24327048 0.24327048 0.24327048\n",
      " 0.24327048 0.24327048 1.29744254 1.29744254 1.29744254] [-0.          0.06487213  0.07208014  0.24327048  0.24327048  0.24327048\n",
      "  0.24327048  0.24327048  1.29744254  1.29744254  1.29744254]\n"
     ]
    }
   ],
   "source": [
    "\n",
    "# gradient from nv version\n",
    "\n",
    "def cox_ph_gradient_nv(log_partial_hazard, time, event):\n",
    "    # comparison gradient function like in sksurv without cython\n",
    "    n_samples = event.shape[0]\n",
    "\n",
    "    gradient = np.empty(n_samples)\n",
    "    exp_tsj = np.zeros(n_samples)\n",
    "\n",
    "    exp_pred = np.exp(log_partial_hazard)\n",
    "\n",
    "    for i in range(n_samples):\n",
    "        for j in range(n_samples):\n",
    "            if time[j] >= time[i]:\n",
    "                exp_tsj[i] += exp_pred[j]\n",
    "\n",
    "    for i in range(n_samples):\n",
    "        s = 0\n",
    "        for j in range(n_samples):\n",
    "            if event[j] and time[i] >= time[j]:\n",
    "                s += exp_pred[i] / exp_tsj[j]\n",
    "        gradient[i] = event[i] - s\n",
    "\n",
    "    return -gradient\n",
    "\n",
    "# gradient v version\n",
    "\n",
    "def cox_ph_denominator(log_partial_hazard, risk_matrix):\n",
    "    return np.sum(\n",
    "        risk_matrix * np.array([np.exp(log_partial_hazard)] * log_partial_hazard.shape[0]), \n",
    "        axis=1)\n",
    "\n",
    "def cox_ph_gradient(log_partial_hazard, time,event):\n",
    "    n = event.shape[0]\n",
    "    risk_matrix = get_risk_matrix(time)\n",
    "    denominator = cox_ph_denominator(log_partial_hazard, risk_matrix)\n",
    "    numerator = np.exp(log_partial_hazard)\n",
    "    gradient = event - np.sum(\n",
    "    (\n",
    "        event.repeat(event.shape[0]).reshape((n, n)).T\n",
    "        * get_risk_matrix(time).T\n",
    "        * numerator.repeat(event.shape[0]).reshape((n, n))\n",
    "    )\n",
    "    / denominator.repeat(event.shape[0]).reshape((n, n)).T,\n",
    "    axis=1,)\n",
    "    return -gradient \n",
    "\n",
    "\n",
    "\n",
    "\n",
    "# hessian nv version\n",
    "\n",
    "def cox_ph_denominator_hess_nv(log_partial_hazard, time):\n",
    "    denominator = np.zeros(time.shape[0])\n",
    "    for j in range(time.shape[0]): \n",
    "        for k in range(time.shape[0]):\n",
    "            denominator[j] += (time[k] >= time[j]) * np.exp(log_partial_hazard[k])\n",
    "    return np.square(denominator)\n",
    "\n",
    "def cox_ph_numerator_hess_nv(log_partial_hazard, time):\n",
    "    numerator = np.zeros(time.shape[0])\n",
    "    for j in range(time.shape[0]):\n",
    "        for k in range(time.shape[0]):\n",
    "            numerator[j] += (time[k] >= time[j]) * np.exp(log_partial_hazard[k]) - (time[k] >= time[j]) * np.square(np.exp(log_partial_hazard[k]))\n",
    "    return np.exp(log_partial_hazard)*numerator\n",
    "\n",
    "def cox_ph_hessian_nv(log_partial_hazard, time, event):\n",
    "    #time, event = transform_back(y)\n",
    "    hess = np.zeros(time.shape[0])\n",
    "    numerator = cox_ph_numerator_hess_nv(log_partial_hazard, time)\n",
    "    denominator = cox_ph_denominator_hess_nv(log_partial_hazard, time)\n",
    "    for i in range(time.shape[0]):\n",
    "        for j in range(time.shape[0]):\n",
    "            hess[i] -= event[j] * (time[i] >= time[j]) * numerator[i] / denominator[i]\n",
    "    return hess\n",
    "\n",
    "\n",
    "\n",
    "\n",
    "# hess v version\n",
    "\n",
    "def get_risk_matrix(time):\n",
    "    return (np.outer(time, time) >= np.square(time)).astype(int).T\n",
    "\n",
    "def cox_ph_numerator_hess(log_partial_hazard, time):\n",
    "    risk_matrix = get_risk_matrix(time)\n",
    "    numerator = np.sum(risk_matrix * np.exp(log_partial_hazard),axis=1) - np.sum(risk_matrix * np.square(np.exp(log_partial_hazard)),axis=1)\n",
    "    #print('risk_part',np.sum(risk_matrix * np.exp(log_partial_hazard),axis=1))\n",
    "    #print(np.exp(log_partial_hazard)*numerator)\n",
    "    return np.exp(log_partial_hazard)*numerator\n",
    "\n",
    "def cox_ph_denominator_hess(log_partial_hazard, time):\n",
    "    risk_matrix = get_risk_matrix(time)\n",
    "    denominator = np.sum(risk_matrix * np.exp(log_partial_hazard),axis=1)\n",
    "    return np.square(denominator)\n",
    "\n",
    "def cox_ph_hessian(log_partial_hazard, time, event):\n",
    "    n = event.shape[0]\n",
    "    risk_matrix = get_risk_matrix(time)\n",
    "    numerator = cox_ph_numerator_hess(log_partial_hazard, time)\n",
    "    denominator = cox_ph_denominator_hess(log_partial_hazard, time)\n",
    "    #print('num', numerator)\n",
    "    #print('denominator', denominator)\n",
    "    #print('(numerator / denominator)',(numerator / denominator))\n",
    "    hess = -np.sum(event[:,None]*risk_matrix*(numerator / denominator), axis=0)\n",
    "    return hess\n",
    "\n",
    "\n",
    "time = np.array([1,2,3,4,4,4,4,4,5,5,5], dtype='int')\n",
    "event = np.array([0,1,0,0,0,0,1,1,1,1,1], dtype='int')#np.zeros(9) \n",
    "log_hazard = np.array([0.5,0.5,0.5,0.5,0.5,0.5,0.5,0.5,0.5,0.5,0.5], dtype='float')\n",
    "\n",
    "print('grad nv')\n",
    "a = cox_ph_gradient_nv(log_hazard, time, event)\n",
    "print('grad v')\n",
    "b = cox_ph_gradient(log_hazard, time,event)\n",
    "\n",
    "np.testing.assert_allclose(a,b)\n",
    "print('hess nv')\n",
    "c = cox_ph_hessian_nv(log_hazard, time, event)\n",
    "print('hess v')\n",
    "d = cox_ph_hessian(log_hazard, time, event)\n",
    "np.testing.assert_allclose(c,d)\n",
    "\n",
    "print(a,b)\n",
    "print(c,d)\n"
   ]
  },
  {
   "cell_type": "code",
   "execution_count": null,
   "metadata": {},
   "outputs": [],
   "source": []
  }
 ],
 "metadata": {
  "kernelspec": {
   "display_name": "pysurvival",
   "language": "python",
   "name": "python3"
  },
  "language_info": {
   "codemirror_mode": {
    "name": "ipython",
    "version": 3
   },
   "file_extension": ".py",
   "mimetype": "text/x-python",
   "name": "python",
   "nbconvert_exporter": "python",
   "pygments_lexer": "ipython3",
   "version": "3.7.16"
  },
  "orig_nbformat": 4
 },
 "nbformat": 4,
 "nbformat_minor": 2
}
