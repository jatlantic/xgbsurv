{
 "cells": [
  {
   "cell_type": "code",
   "execution_count": 7,
   "metadata": {},
   "outputs": [],
   "source": [
    "import numpy as np\n",
    "import pandas as pd\n",
    "import math\n",
    "import numpy as np\n",
    "from numba import jit\n",
    "#import numba_special\n",
    "#import numba_scipy\n",
    "#from numba_scipy.special import erf as erfvec\n",
    "from scipy.special import erf as erfvec\n",
    "import time as t\n",
    "from math import log\n",
    "from math import exp, sqrt, pi\n",
    "from math import erf as erfmath\n",
    "from numba import njit\n",
    "import os\n",
    "current_path = os.getcwd() \n",
    "one_level_up = os.path.abspath(os.path.join(current_path,  \"..\"))\n",
    "two_levels_up = os.path.abspath(os.path.join(current_path,  \"..\",\"..\"))"
   ]
  },
  {
   "cell_type": "code",
   "execution_count": 4,
   "metadata": {},
   "outputs": [],
   "source": [
    "## Load Simulation Data"
   ]
  },
  {
   "cell_type": "code",
   "execution_count": 5,
   "metadata": {},
   "outputs": [
    {
     "data": {
      "text/html": [
       "<div>\n",
       "<style scoped>\n",
       "    .dataframe tbody tr th:only-of-type {\n",
       "        vertical-align: middle;\n",
       "    }\n",
       "\n",
       "    .dataframe tbody tr th {\n",
       "        vertical-align: top;\n",
       "    }\n",
       "\n",
       "    .dataframe thead th {\n",
       "        text-align: right;\n",
       "    }\n",
       "</style>\n",
       "<table border=\"1\" class=\"dataframe\">\n",
       "  <thead>\n",
       "    <tr style=\"text-align: right;\">\n",
       "      <th></th>\n",
       "      <th>x_1</th>\n",
       "      <th>x_2</th>\n",
       "      <th>x_3</th>\n",
       "      <th>x_4</th>\n",
       "      <th>x_5</th>\n",
       "      <th>time</th>\n",
       "      <th>event</th>\n",
       "    </tr>\n",
       "  </thead>\n",
       "  <tbody>\n",
       "    <tr>\n",
       "      <th>104</th>\n",
       "      <td>10.782665</td>\n",
       "      <td>6.321241</td>\n",
       "      <td>0.154621</td>\n",
       "      <td>19.208570</td>\n",
       "      <td>17.674405</td>\n",
       "      <td>0.000330</td>\n",
       "      <td>1.0</td>\n",
       "    </tr>\n",
       "    <tr>\n",
       "      <th>638</th>\n",
       "      <td>4.839507</td>\n",
       "      <td>9.959547</td>\n",
       "      <td>0.141726</td>\n",
       "      <td>19.185224</td>\n",
       "      <td>12.585120</td>\n",
       "      <td>0.000471</td>\n",
       "      <td>1.0</td>\n",
       "    </tr>\n",
       "  </tbody>\n",
       "</table>\n",
       "</div>"
      ],
      "text/plain": [
       "           x_1       x_2       x_3        x_4        x_5      time  event\n",
       "104  10.782665  6.321241  0.154621  19.208570  17.674405  0.000330    1.0\n",
       "638   4.839507  9.959547  0.141726  19.185224  12.585120  0.000471    1.0"
      ]
     },
     "execution_count": 5,
     "metadata": {},
     "output_type": "execute_result"
    }
   ],
   "source": [
    "hazard = log_hazard = np.random.normal(0, 1, 1000)\n",
    "df = pd.read_csv(current_path+'/simulation_data/survival_simulation_1000.csv')\n",
    "#df.event = 1\n",
    "df.sort_values(by='time', inplace=True)\n",
    "df.head(2)"
   ]
  },
  {
   "cell_type": "code",
   "execution_count": 4,
   "metadata": {},
   "outputs": [],
   "source": [
    "time = np.array([1.0,1.0,1.0,3.0,5.0,5.0,5.0,8.0,9.0, 9.0])\n",
    "event = np.array([1.0,1.0,1.0,1.0,1.0,1.0,0.0,1.0,0.0, 1.0])"
   ]
  },
  {
   "cell_type": "code",
   "execution_count": 5,
   "metadata": {},
   "outputs": [],
   "source": [
    "def risk_matrix_loop(time):\n",
    "    n_samples = time.shape[0]\n",
    "    risk_sum = np.copy(n_samples)\n",
    "    risk_set = np.zeros_like(np.unique(time))\n",
    "    idx=0\n",
    "    previous_time = time[0]\n",
    "    set_count = 0\n",
    "    for k in range(n_samples):\n",
    "        current_time = time[k]\n",
    "        if current_time > previous_time:\n",
    "\n",
    "            risk_set[idx] = risk_sum\n",
    "            risk_sum -= set_count\n",
    "            set_count = 0\n",
    "            idx+=1\n",
    "        set_count += 1\n",
    "        previous_time = current_time\n",
    "    risk_set[idx] = set_count\n",
    "    return risk_set\n"
   ]
  },
  {
   "cell_type": "code",
   "execution_count": 6,
   "metadata": {},
   "outputs": [
    {
     "data": {
      "text/plain": [
       "array([10.,  7.,  6.,  3.,  2.])"
      ]
     },
     "execution_count": 6,
     "metadata": {},
     "output_type": "execute_result"
    }
   ],
   "source": [
    "risk_matrix_loop(time)"
   ]
  },
  {
   "cell_type": "code",
   "execution_count": 38,
   "metadata": {},
   "outputs": [],
   "source": [
    "def risk_matrix_vectorized(time):\n",
    "    return np.sum(np.unique((np.outer(time,time)>=np.square(time)).astype(int).T,axis=0),axis=1)[::-1]"
   ]
  },
  {
   "cell_type": "code",
   "execution_count": 43,
   "metadata": {},
   "outputs": [],
   "source": [
    "# def risk_matrix_vectorized2(time):\n",
    "#     unique_time, counts = np.unique(time,return_counts=True)\n",
    "#     risk_set = time.shape[0]\n",
    "#     risk_set_final = risk_set - np.cumsum(counts)\n",
    "#     return risk_set_final[::-1]"
   ]
  },
  {
   "cell_type": "code",
   "execution_count": 44,
   "metadata": {},
   "outputs": [],
   "source": [
    "#risk_matrix_vectorized2(time)"
   ]
  },
  {
   "cell_type": "code",
   "execution_count": 45,
   "metadata": {},
   "outputs": [
    {
     "data": {
      "text/plain": [
       "array([10,  7,  6,  3,  2])"
      ]
     },
     "execution_count": 45,
     "metadata": {},
     "output_type": "execute_result"
    }
   ],
   "source": [
    "risk_matrix_vectorized(time)"
   ]
  },
  {
   "cell_type": "code",
   "execution_count": 42,
   "metadata": {},
   "outputs": [],
   "source": [
    "@jit(nopython=True, cache=True)\n",
    "def risk_matrix_loop_numba(time):\n",
    "    n_samples = time.shape[0]\n",
    "    risk_sum = n_samples\n",
    "    risk_set = np.zeros_like(np.unique(time))\n",
    "    idx=0\n",
    "    previous_time = time[0]\n",
    "    set_count = 0\n",
    "    for k in range(n_samples):\n",
    "        current_time = time[k]\n",
    "        if current_time > previous_time:\n",
    "\n",
    "            risk_set[idx] = risk_sum\n",
    "            risk_sum -= set_count\n",
    "            set_count = 0\n",
    "            idx+=1\n",
    "        set_count += 1\n",
    "        previous_time = current_time\n",
    "    risk_set[idx] = set_count\n",
    "    return risk_set"
   ]
  },
  {
   "cell_type": "code",
   "execution_count": 10,
   "metadata": {},
   "outputs": [
    {
     "data": {
      "text/plain": [
       "array([10.,  7.,  6.,  3.,  2.])"
      ]
     },
     "execution_count": 10,
     "metadata": {},
     "output_type": "execute_result"
    }
   ],
   "source": [
    "risk_matrix_loop_numba(time)"
   ]
  },
  {
   "attachments": {},
   "cell_type": "markdown",
   "metadata": {},
   "source": [
    "## Comparison"
   ]
  },
  {
   "attachments": {},
   "cell_type": "markdown",
   "metadata": {},
   "source": [
    "## Compare times"
   ]
  },
  {
   "cell_type": "code",
   "execution_count": 11,
   "metadata": {},
   "outputs": [
    {
     "name": "stdout",
     "output_type": "stream",
     "text": [
      "\\begin{tabular}{lrrrr}\n",
      "\\toprule\n",
      "Function & Mean & Standard Deviation & Sample Size & Number Repetitions \\\\\n",
      "\\midrule\n",
      "Difference Loop & 0.000749 & 0.000035 & 1000 & 50 \\\\\n",
      "Difference Loop Numba & 0.000024 & 0.000005 & 1000 & 50 \\\\\n",
      "Difference Vectorized & 0.095366 & 0.000005 & 1000 & 50 \\\\\n",
      "\\bottomrule\n",
      "\\end{tabular}\n",
      "\n"
     ]
    },
    {
     "data": {
      "text/html": [
       "<div>\n",
       "<style scoped>\n",
       "    .dataframe tbody tr th:only-of-type {\n",
       "        vertical-align: middle;\n",
       "    }\n",
       "\n",
       "    .dataframe tbody tr th {\n",
       "        vertical-align: top;\n",
       "    }\n",
       "\n",
       "    .dataframe thead th {\n",
       "        text-align: right;\n",
       "    }\n",
       "</style>\n",
       "<table border=\"1\" class=\"dataframe\">\n",
       "  <thead>\n",
       "    <tr style=\"text-align: right;\">\n",
       "      <th></th>\n",
       "      <th>Function</th>\n",
       "      <th>Mean</th>\n",
       "      <th>Standard Deviation</th>\n",
       "      <th>Sample Size</th>\n",
       "      <th>Number Repetitions</th>\n",
       "    </tr>\n",
       "  </thead>\n",
       "  <tbody>\n",
       "    <tr>\n",
       "      <th>0</th>\n",
       "      <td>Difference Loop</td>\n",
       "      <td>0.000749</td>\n",
       "      <td>0.000035</td>\n",
       "      <td>1000</td>\n",
       "      <td>50</td>\n",
       "    </tr>\n",
       "    <tr>\n",
       "      <th>1</th>\n",
       "      <td>Difference Loop Numba</td>\n",
       "      <td>0.000024</td>\n",
       "      <td>0.000005</td>\n",
       "      <td>1000</td>\n",
       "      <td>50</td>\n",
       "    </tr>\n",
       "    <tr>\n",
       "      <th>2</th>\n",
       "      <td>Difference Vectorized</td>\n",
       "      <td>0.095366</td>\n",
       "      <td>0.000005</td>\n",
       "      <td>1000</td>\n",
       "      <td>50</td>\n",
       "    </tr>\n",
       "  </tbody>\n",
       "</table>\n",
       "</div>"
      ],
      "text/plain": [
       "                Function      Mean  Standard Deviation  Sample Size   \n",
       "0        Difference Loop  0.000749            0.000035         1000  \\\n",
       "1  Difference Loop Numba  0.000024            0.000005         1000   \n",
       "2  Difference Vectorized  0.095366            0.000005         1000   \n",
       "\n",
       "   Number Repetitions  \n",
       "0                  50  \n",
       "1                  50  \n",
       "2                  50  "
      ]
     },
     "execution_count": 11,
     "metadata": {},
     "output_type": "execute_result"
    }
   ],
   "source": [
    "def function1(time):\n",
    "    return risk_matrix_loop(time)\n",
    "    \n",
    "\n",
    "def function2(time):\n",
    "    return risk_matrix_loop_numba(time)\n",
    "\n",
    "def function3(time):\n",
    "    return risk_matrix_vectorized(time)\n",
    "\n",
    "path = current_path+'/simulation_data'\n",
    "def comparison(num_runs = 10, size=10000):\n",
    "\n",
    "    hazard = log_hazard = np.random.normal(0, 1, size)\n",
    "    df = pd.read_csv(path+'/survival_simulation_'+str(size)+'.csv')\n",
    "    n_samples = df.shape[0]\n",
    "\n",
    "    df.sort_values(by='time', inplace=True)\n",
    "    time = df.time.to_numpy()\n",
    "    event = df.event.to_numpy().astype('bool')\n",
    "    # Empty list to store the execution times\n",
    "    function1_times = []\n",
    "    function2_times = []\n",
    "    function3_times = []\n",
    "\n",
    "    # Loop to run each function and record the execution times\n",
    "    for i in range(num_runs):\n",
    "        start_time = t.time()\n",
    "        function1(time)\n",
    "        end_time = t.time()\n",
    "        function1_times.append(end_time - start_time)\n",
    "\n",
    "        start_time = t.time()\n",
    "        function2(time)\n",
    "        end_time = t.time()\n",
    "        function2_times.append(end_time - start_time)\n",
    "\n",
    "        start_time = t.time()\n",
    "        function3(time)\n",
    "        end_time = t.time()\n",
    "        function3_times.append(end_time - start_time)\n",
    "\n",
    "    # Calculate the mean and standard deviation of the execution times for each function\n",
    "    function1_mean = sum(function1_times) / len(function1_times)\n",
    "    function1_std = pd.Series(function1_times).std()\n",
    "    function2_mean = sum(function2_times) / len(function2_times)\n",
    "    function2_std = pd.Series(function2_times).std()\n",
    "    function3_mean = sum(function3_times) / len(function3_times)\n",
    "    function3_std = pd.Series(function2_times).std()\n",
    "\n",
    "    # Create a Pandas dataframe to display the results\n",
    "    df = pd.DataFrame({\n",
    "        'Function': ['Difference Loop', 'Difference Loop Numba', 'Difference Vectorized'],\n",
    "        'Mean': [function1_mean, function2_mean, function3_mean],\n",
    "        'Standard Deviation': [function1_std, function2_std,function3_std],\n",
    "        'Sample Size': [size, size, size],\n",
    "        'Number Repetitions': [num_runs, num_runs, num_runs]\n",
    "    })\n",
    "    return df\n",
    "\n",
    "df_1000 = comparison(num_runs = 50, size=1000)\n",
    "print(df_1000.to_latex(index=False))\n",
    "df_1000.to_csv(one_level_up+'/implementation_testing/results/risk_matrix_difference_comparison_1000.csv', index=False)\n",
    "df_1000"
   ]
  },
  {
   "cell_type": "code",
   "execution_count": 12,
   "metadata": {},
   "outputs": [
    {
     "name": "stdout",
     "output_type": "stream",
     "text": [
      "\\begin{tabular}{lrrrr}\n",
      "\\toprule\n",
      "Function & Mean & Standard Deviation & Sample Size & Number Repetitions \\\\\n",
      "\\midrule\n",
      "Difference Loop & 0.007300 & 0.000090 & 10000 & 50 \\\\\n",
      "Difference Loop Numba & 0.000139 & 0.000027 & 10000 & 50 \\\\\n",
      "Difference Vectorized & 17.158938 & 0.000027 & 10000 & 50 \\\\\n",
      "\\bottomrule\n",
      "\\end{tabular}\n",
      "\n"
     ]
    },
    {
     "data": {
      "text/html": [
       "<div>\n",
       "<style scoped>\n",
       "    .dataframe tbody tr th:only-of-type {\n",
       "        vertical-align: middle;\n",
       "    }\n",
       "\n",
       "    .dataframe tbody tr th {\n",
       "        vertical-align: top;\n",
       "    }\n",
       "\n",
       "    .dataframe thead th {\n",
       "        text-align: right;\n",
       "    }\n",
       "</style>\n",
       "<table border=\"1\" class=\"dataframe\">\n",
       "  <thead>\n",
       "    <tr style=\"text-align: right;\">\n",
       "      <th></th>\n",
       "      <th>Function</th>\n",
       "      <th>Mean</th>\n",
       "      <th>Standard Deviation</th>\n",
       "      <th>Sample Size</th>\n",
       "      <th>Number Repetitions</th>\n",
       "    </tr>\n",
       "  </thead>\n",
       "  <tbody>\n",
       "    <tr>\n",
       "      <th>0</th>\n",
       "      <td>Difference Loop</td>\n",
       "      <td>0.007300</td>\n",
       "      <td>0.000090</td>\n",
       "      <td>10000</td>\n",
       "      <td>50</td>\n",
       "    </tr>\n",
       "    <tr>\n",
       "      <th>1</th>\n",
       "      <td>Difference Loop Numba</td>\n",
       "      <td>0.000139</td>\n",
       "      <td>0.000027</td>\n",
       "      <td>10000</td>\n",
       "      <td>50</td>\n",
       "    </tr>\n",
       "    <tr>\n",
       "      <th>2</th>\n",
       "      <td>Difference Vectorized</td>\n",
       "      <td>17.158938</td>\n",
       "      <td>0.000027</td>\n",
       "      <td>10000</td>\n",
       "      <td>50</td>\n",
       "    </tr>\n",
       "  </tbody>\n",
       "</table>\n",
       "</div>"
      ],
      "text/plain": [
       "                Function       Mean  Standard Deviation  Sample Size   \n",
       "0        Difference Loop   0.007300            0.000090        10000  \\\n",
       "1  Difference Loop Numba   0.000139            0.000027        10000   \n",
       "2  Difference Vectorized  17.158938            0.000027        10000   \n",
       "\n",
       "   Number Repetitions  \n",
       "0                  50  \n",
       "1                  50  \n",
       "2                  50  "
      ]
     },
     "execution_count": 12,
     "metadata": {},
     "output_type": "execute_result"
    }
   ],
   "source": [
    "df_10000 = comparison(num_runs = 50, size=10000)\n",
    "print(df_10000.to_latex(index=False))\n",
    "df_10000.to_csv(one_level_up+'/implementation_testing/results/risk_matrix_difference_comparison_10000.csv', index=False)\n",
    "df_10000"
   ]
  },
  {
   "cell_type": "code",
   "execution_count": null,
   "metadata": {},
   "outputs": [],
   "source": []
  },
  {
   "cell_type": "code",
   "execution_count": null,
   "metadata": {},
   "outputs": [],
   "source": []
  }
 ],
 "metadata": {
  "kernelspec": {
   "display_name": "experiments",
   "language": "python",
   "name": "python3"
  },
  "language_info": {
   "codemirror_mode": {
    "name": "ipython",
    "version": 3
   },
   "file_extension": ".py",
   "mimetype": "text/x-python",
   "name": "python",
   "nbconvert_exporter": "python",
   "pygments_lexer": "ipython3",
   "version": "3.11.3"
  },
  "orig_nbformat": 4
 },
 "nbformat": 4,
 "nbformat_minor": 2
}
