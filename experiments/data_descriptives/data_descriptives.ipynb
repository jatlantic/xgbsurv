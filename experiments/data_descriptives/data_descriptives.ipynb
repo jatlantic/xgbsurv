{
 "cells": [
  {
   "cell_type": "code",
   "execution_count": 1,
   "metadata": {},
   "outputs": [],
   "source": [
    "from xgbsurv.datasets import (load_metabric, load_flchain, load_rgbsg, load_support, load_tcga)\n",
    "from xgbsurv.models.utils import transform_back, transform\n",
    "import os\n",
    "import sys\n",
    "import pandas as pd\n",
    "current_path = os.getcwd() \n",
    "one_level_up = os.path.abspath(os.path.join(current_path,  \"..\"))\n",
    "two_levels_up = os.path.abspath(os.path.join(current_path,  \"..\",\"..\"))\n",
    "sys.path.append(one_level_up+'/dl_pipeline')"
   ]
  },
  {
   "cell_type": "code",
   "execution_count": 2,
   "metadata": {},
   "outputs": [
    {
     "name": "stdout",
     "output_type": "stream",
     "text": [
      "Requirement already satisfied: plotly_express in /Users/JUSC/miniconda3/envs/xgbsurv/lib/python3.11/site-packages (0.4.1)\n",
      "Requirement already satisfied: pandas>=0.20.0 in /Users/JUSC/miniconda3/envs/xgbsurv/lib/python3.11/site-packages (from plotly_express) (1.4.0)\n",
      "Requirement already satisfied: plotly>=4.1.0 in /Users/JUSC/miniconda3/envs/xgbsurv/lib/python3.11/site-packages (from plotly_express) (5.15.0)\n",
      "Requirement already satisfied: statsmodels>=0.9.0 in /Users/JUSC/miniconda3/envs/xgbsurv/lib/python3.11/site-packages (from plotly_express) (0.14.0)\n",
      "Requirement already satisfied: scipy>=0.18 in /Users/JUSC/miniconda3/envs/xgbsurv/lib/python3.11/site-packages (from plotly_express) (1.10.1)\n",
      "Requirement already satisfied: patsy>=0.5 in /Users/JUSC/miniconda3/envs/xgbsurv/lib/python3.11/site-packages (from plotly_express) (0.5.3)\n",
      "Requirement already satisfied: numpy>=1.11 in /Users/JUSC/miniconda3/envs/xgbsurv/lib/python3.11/site-packages (from plotly_express) (1.24.3)\n",
      "Requirement already satisfied: python-dateutil>=2.8.1 in /Users/JUSC/miniconda3/envs/xgbsurv/lib/python3.11/site-packages (from pandas>=0.20.0->plotly_express) (2.8.2)\n",
      "Requirement already satisfied: pytz>=2020.1 in /Users/JUSC/miniconda3/envs/xgbsurv/lib/python3.11/site-packages (from pandas>=0.20.0->plotly_express) (2023.3)\n",
      "Requirement already satisfied: six in /Users/JUSC/miniconda3/envs/xgbsurv/lib/python3.11/site-packages (from patsy>=0.5->plotly_express) (1.16.0)\n",
      "Requirement already satisfied: tenacity>=6.2.0 in /Users/JUSC/miniconda3/envs/xgbsurv/lib/python3.11/site-packages (from plotly>=4.1.0->plotly_express) (8.2.2)\n",
      "Requirement already satisfied: packaging in /Users/JUSC/miniconda3/envs/xgbsurv/lib/python3.11/site-packages (from plotly>=4.1.0->plotly_express) (23.1)\n",
      "Requirement already satisfied: nbformat in /Users/JUSC/miniconda3/envs/xgbsurv/lib/python3.11/site-packages (5.9.0)\n",
      "Requirement already satisfied: fastjsonschema in /Users/JUSC/miniconda3/envs/xgbsurv/lib/python3.11/site-packages (from nbformat) (2.17.1)\n",
      "Requirement already satisfied: jsonschema>=2.6 in /Users/JUSC/miniconda3/envs/xgbsurv/lib/python3.11/site-packages (from nbformat) (4.17.3)\n",
      "Requirement already satisfied: jupyter-core in /Users/JUSC/miniconda3/envs/xgbsurv/lib/python3.11/site-packages (from nbformat) (5.3.0)\n",
      "Requirement already satisfied: traitlets>=5.1 in /Users/JUSC/miniconda3/envs/xgbsurv/lib/python3.11/site-packages (from nbformat) (5.9.0)\n",
      "Requirement already satisfied: attrs>=17.4.0 in /Users/JUSC/miniconda3/envs/xgbsurv/lib/python3.11/site-packages (from jsonschema>=2.6->nbformat) (23.1.0)\n",
      "Requirement already satisfied: pyrsistent!=0.17.0,!=0.17.1,!=0.17.2,>=0.14.0 in /Users/JUSC/miniconda3/envs/xgbsurv/lib/python3.11/site-packages (from jsonschema>=2.6->nbformat) (0.19.3)\n",
      "Requirement already satisfied: platformdirs>=2.5 in /Users/JUSC/miniconda3/envs/xgbsurv/lib/python3.11/site-packages (from jupyter-core->nbformat) (3.5.1)\n",
      "Requirement already satisfied: kaleido in /Users/JUSC/miniconda3/envs/xgbsurv/lib/python3.11/site-packages (0.2.1)\n"
     ]
    }
   ],
   "source": [
    "!pip install plotly_express\n",
    "!pip install nbformat\n",
    "!pip install -U kaleido\n",
    "import plotly_express as px"
   ]
  },
  {
   "cell_type": "code",
   "execution_count": 18,
   "metadata": {},
   "outputs": [],
   "source": [
    "for fu in [load_metabric, load_flchain, load_rgbsg, load_support, load_tcga]:\n",
    "    data = fu(path=two_levels_up+\"/xgbsurv/datasets/data/\",as_frame=False)\n",
    "    df = data.data\n",
    "    time, event = transform_back(data.target)\n",
    "    df = pd.DataFrame()\n",
    "    df['time'] = pd.Series(time)\n",
    "    df['event'] = pd.Series(event).astype('bool')\n",
    "    dataset_name = data.filename.split('_')[0]\n",
    "    fig = px.histogram(df, x=time, color='event', title=dataset_name+': Time and Event Distribution', labels={'x':'time', 'count':'Count'})\n",
    "    fig.write_image(\"images/\"+dataset_name+\".png\", scale=5)\n",
    "    fig"
   ]
  },
  {
   "cell_type": "code",
   "execution_count": 19,
   "metadata": {},
   "outputs": [
    {
     "data": {
      "application/vnd.plotly.v1+json": {
       "config": {
        "plotlyServerURL": "https://plot.ly"
       },
       "data": [
        {
         "alignmentgroup": "True",
         "bingroup": "x",
         "hovertemplate": "event=False<br>time=%{x}<br>count=%{y}<extra></extra>",
         "legendgroup": "False",
         "marker": {
          "color": "#636efa",
          "pattern": {
           "shape": ""
          }
         },
         "name": "False",
         "offsetgroup": "False",
         "orientation": "v",
         "showlegend": true,
         "type": "histogram",
         "x": [
          13,
          15,
          17,
          20,
          28,
          35,
          37,
          46,
          55,
          59,
          64,
          64,
          67,
          68,
          82,
          84,
          89,
          95,
          105,
          110,
          117,
          129,
          158,
          163,
          187,
          189,
          224,
          251,
          276,
          293,
          330,
          333,
          337,
          345,
          345,
          359,
          361,
          364,
          365,
          366,
          368,
          368,
          369,
          370,
          372,
          372,
          373,
          376,
          377,
          379,
          382,
          383,
          384,
          384,
          389,
          394,
          398,
          398,
          399,
          410,
          415,
          415,
          416,
          423,
          425,
          428,
          428,
          433,
          455,
          457,
          460,
          466,
          466,
          467,
          469,
          474,
          475,
          477,
          480,
          481,
          484,
          485,
          491,
          495,
          495,
          503,
          507,
          508,
          512,
          522,
          524,
          536,
          536,
          539,
          540,
          542,
          546,
          560,
          562,
          572,
          572,
          573,
          578,
          578,
          580,
          581,
          582,
          588,
          590,
          603,
          610,
          618,
          633,
          636,
          638,
          640,
          641,
          642,
          646,
          648,
          649,
          665,
          691,
          699,
          700,
          731,
          750,
          758,
          761,
          773,
          783,
          789,
          798,
          799,
          812,
          813,
          820,
          832,
          832,
          840,
          842,
          851,
          864,
          873,
          887,
          893,
          897,
          899,
          906,
          921,
          945,
          997,
          1003,
          1029,
          1048,
          1072,
          1090,
          1094,
          1108,
          1110,
          1115,
          1127,
          1174,
          1181,
          1186,
          1219,
          1326,
          1350,
          1370,
          1429,
          1454,
          1455,
          1460,
          1522,
          1529,
          1538,
          1542,
          1561,
          1582,
          1604,
          1621,
          1639,
          1649,
          1708,
          1714,
          1761,
          1792,
          1806,
          1830,
          1845,
          1884,
          1912,
          1947,
          1949,
          1952,
          2008,
          2009,
          2020,
          2024,
          2027,
          2044,
          2049,
          2109,
          2139,
          2177,
          2293,
          2312,
          2330,
          2380,
          2423,
          2625,
          2656,
          2703,
          2790,
          2868,
          2886,
          2964,
          3011,
          3314,
          3364,
          3420,
          3432,
          3817,
          3981,
          4343,
          4967,
          5041,
          5050
         ],
         "xaxis": "x",
         "yaxis": "y"
        },
        {
         "alignmentgroup": "True",
         "bingroup": "x",
         "hovertemplate": "event=True<br>time=%{x}<br>count=%{y}<extra></extra>",
         "legendgroup": "True",
         "marker": {
          "color": "#EF553B",
          "pattern": {
           "shape": ""
          }
         },
         "name": "True",
         "offsetgroup": "True",
         "orientation": "v",
         "showlegend": true,
         "type": "histogram",
         "x": [
          19,
          20,
          56,
          56,
          57,
          62,
          65,
          68,
          69,
          76,
          81,
          88,
          90,
          92,
          93,
          98,
          99,
          106,
          118,
          122,
          128,
          131,
          142,
          144,
          146,
          149,
          154,
          154,
          163,
          168,
          168,
          173,
          182,
          191,
          200,
          200,
          205,
          206,
          211,
          213,
          216,
          220,
          223,
          232,
          232,
          237,
          246,
          248,
          250,
          251,
          253,
          254,
          254,
          258,
          259,
          261,
          262,
          272,
          272,
          272,
          273,
          274,
          278,
          294,
          294,
          303,
          311,
          321,
          324,
          324,
          328,
          332,
          340,
          344,
          344,
          356,
          362,
          364,
          370,
          370,
          385,
          385,
          386,
          388,
          391,
          393,
          400,
          406,
          408,
          413,
          413,
          413,
          415,
          418,
          434,
          437,
          453,
          454,
          455,
          460,
          467,
          467,
          474,
          486,
          492,
          495,
          508,
          510,
          510,
          522,
          530,
          536,
          539,
          544,
          544,
          547,
          547,
          550,
          565,
          565,
          575,
          577,
          579,
          590,
          593,
          599,
          602,
          612,
          615,
          617,
          623,
          630,
          651,
          665,
          674,
          680,
          685,
          690,
          696,
          706,
          712,
          719,
          734,
          739,
          778,
          795,
          819,
          823,
          835,
          859,
          864,
          904,
          941,
          949,
          974,
          1004,
          1005,
          1008,
          1036,
          1064,
          1077,
          1163,
          1270,
          1348,
          1367,
          1420,
          1423,
          1556,
          1670,
          1718,
          1804,
          1869,
          1971,
          2020,
          2641,
          2828,
          2954,
          3183
         ],
         "xaxis": "x",
         "yaxis": "y"
        }
       ],
       "layout": {
        "barmode": "relative",
        "legend": {
         "title": {
          "text": "event"
         },
         "tracegroupgap": 0
        },
        "template": {
         "data": {
          "bar": [
           {
            "error_x": {
             "color": "#2a3f5f"
            },
            "error_y": {
             "color": "#2a3f5f"
            },
            "marker": {
             "line": {
              "color": "#E5ECF6",
              "width": 0.5
             },
             "pattern": {
              "fillmode": "overlay",
              "size": 10,
              "solidity": 0.2
             }
            },
            "type": "bar"
           }
          ],
          "barpolar": [
           {
            "marker": {
             "line": {
              "color": "#E5ECF6",
              "width": 0.5
             },
             "pattern": {
              "fillmode": "overlay",
              "size": 10,
              "solidity": 0.2
             }
            },
            "type": "barpolar"
           }
          ],
          "carpet": [
           {
            "aaxis": {
             "endlinecolor": "#2a3f5f",
             "gridcolor": "white",
             "linecolor": "white",
             "minorgridcolor": "white",
             "startlinecolor": "#2a3f5f"
            },
            "baxis": {
             "endlinecolor": "#2a3f5f",
             "gridcolor": "white",
             "linecolor": "white",
             "minorgridcolor": "white",
             "startlinecolor": "#2a3f5f"
            },
            "type": "carpet"
           }
          ],
          "choropleth": [
           {
            "colorbar": {
             "outlinewidth": 0,
             "ticks": ""
            },
            "type": "choropleth"
           }
          ],
          "contour": [
           {
            "colorbar": {
             "outlinewidth": 0,
             "ticks": ""
            },
            "colorscale": [
             [
              0,
              "#0d0887"
             ],
             [
              0.1111111111111111,
              "#46039f"
             ],
             [
              0.2222222222222222,
              "#7201a8"
             ],
             [
              0.3333333333333333,
              "#9c179e"
             ],
             [
              0.4444444444444444,
              "#bd3786"
             ],
             [
              0.5555555555555556,
              "#d8576b"
             ],
             [
              0.6666666666666666,
              "#ed7953"
             ],
             [
              0.7777777777777778,
              "#fb9f3a"
             ],
             [
              0.8888888888888888,
              "#fdca26"
             ],
             [
              1,
              "#f0f921"
             ]
            ],
            "type": "contour"
           }
          ],
          "contourcarpet": [
           {
            "colorbar": {
             "outlinewidth": 0,
             "ticks": ""
            },
            "type": "contourcarpet"
           }
          ],
          "heatmap": [
           {
            "colorbar": {
             "outlinewidth": 0,
             "ticks": ""
            },
            "colorscale": [
             [
              0,
              "#0d0887"
             ],
             [
              0.1111111111111111,
              "#46039f"
             ],
             [
              0.2222222222222222,
              "#7201a8"
             ],
             [
              0.3333333333333333,
              "#9c179e"
             ],
             [
              0.4444444444444444,
              "#bd3786"
             ],
             [
              0.5555555555555556,
              "#d8576b"
             ],
             [
              0.6666666666666666,
              "#ed7953"
             ],
             [
              0.7777777777777778,
              "#fb9f3a"
             ],
             [
              0.8888888888888888,
              "#fdca26"
             ],
             [
              1,
              "#f0f921"
             ]
            ],
            "type": "heatmap"
           }
          ],
          "heatmapgl": [
           {
            "colorbar": {
             "outlinewidth": 0,
             "ticks": ""
            },
            "colorscale": [
             [
              0,
              "#0d0887"
             ],
             [
              0.1111111111111111,
              "#46039f"
             ],
             [
              0.2222222222222222,
              "#7201a8"
             ],
             [
              0.3333333333333333,
              "#9c179e"
             ],
             [
              0.4444444444444444,
              "#bd3786"
             ],
             [
              0.5555555555555556,
              "#d8576b"
             ],
             [
              0.6666666666666666,
              "#ed7953"
             ],
             [
              0.7777777777777778,
              "#fb9f3a"
             ],
             [
              0.8888888888888888,
              "#fdca26"
             ],
             [
              1,
              "#f0f921"
             ]
            ],
            "type": "heatmapgl"
           }
          ],
          "histogram": [
           {
            "marker": {
             "pattern": {
              "fillmode": "overlay",
              "size": 10,
              "solidity": 0.2
             }
            },
            "type": "histogram"
           }
          ],
          "histogram2d": [
           {
            "colorbar": {
             "outlinewidth": 0,
             "ticks": ""
            },
            "colorscale": [
             [
              0,
              "#0d0887"
             ],
             [
              0.1111111111111111,
              "#46039f"
             ],
             [
              0.2222222222222222,
              "#7201a8"
             ],
             [
              0.3333333333333333,
              "#9c179e"
             ],
             [
              0.4444444444444444,
              "#bd3786"
             ],
             [
              0.5555555555555556,
              "#d8576b"
             ],
             [
              0.6666666666666666,
              "#ed7953"
             ],
             [
              0.7777777777777778,
              "#fb9f3a"
             ],
             [
              0.8888888888888888,
              "#fdca26"
             ],
             [
              1,
              "#f0f921"
             ]
            ],
            "type": "histogram2d"
           }
          ],
          "histogram2dcontour": [
           {
            "colorbar": {
             "outlinewidth": 0,
             "ticks": ""
            },
            "colorscale": [
             [
              0,
              "#0d0887"
             ],
             [
              0.1111111111111111,
              "#46039f"
             ],
             [
              0.2222222222222222,
              "#7201a8"
             ],
             [
              0.3333333333333333,
              "#9c179e"
             ],
             [
              0.4444444444444444,
              "#bd3786"
             ],
             [
              0.5555555555555556,
              "#d8576b"
             ],
             [
              0.6666666666666666,
              "#ed7953"
             ],
             [
              0.7777777777777778,
              "#fb9f3a"
             ],
             [
              0.8888888888888888,
              "#fdca26"
             ],
             [
              1,
              "#f0f921"
             ]
            ],
            "type": "histogram2dcontour"
           }
          ],
          "mesh3d": [
           {
            "colorbar": {
             "outlinewidth": 0,
             "ticks": ""
            },
            "type": "mesh3d"
           }
          ],
          "parcoords": [
           {
            "line": {
             "colorbar": {
              "outlinewidth": 0,
              "ticks": ""
             }
            },
            "type": "parcoords"
           }
          ],
          "pie": [
           {
            "automargin": true,
            "type": "pie"
           }
          ],
          "scatter": [
           {
            "fillpattern": {
             "fillmode": "overlay",
             "size": 10,
             "solidity": 0.2
            },
            "type": "scatter"
           }
          ],
          "scatter3d": [
           {
            "line": {
             "colorbar": {
              "outlinewidth": 0,
              "ticks": ""
             }
            },
            "marker": {
             "colorbar": {
              "outlinewidth": 0,
              "ticks": ""
             }
            },
            "type": "scatter3d"
           }
          ],
          "scattercarpet": [
           {
            "marker": {
             "colorbar": {
              "outlinewidth": 0,
              "ticks": ""
             }
            },
            "type": "scattercarpet"
           }
          ],
          "scattergeo": [
           {
            "marker": {
             "colorbar": {
              "outlinewidth": 0,
              "ticks": ""
             }
            },
            "type": "scattergeo"
           }
          ],
          "scattergl": [
           {
            "marker": {
             "colorbar": {
              "outlinewidth": 0,
              "ticks": ""
             }
            },
            "type": "scattergl"
           }
          ],
          "scattermapbox": [
           {
            "marker": {
             "colorbar": {
              "outlinewidth": 0,
              "ticks": ""
             }
            },
            "type": "scattermapbox"
           }
          ],
          "scatterpolar": [
           {
            "marker": {
             "colorbar": {
              "outlinewidth": 0,
              "ticks": ""
             }
            },
            "type": "scatterpolar"
           }
          ],
          "scatterpolargl": [
           {
            "marker": {
             "colorbar": {
              "outlinewidth": 0,
              "ticks": ""
             }
            },
            "type": "scatterpolargl"
           }
          ],
          "scatterternary": [
           {
            "marker": {
             "colorbar": {
              "outlinewidth": 0,
              "ticks": ""
             }
            },
            "type": "scatterternary"
           }
          ],
          "surface": [
           {
            "colorbar": {
             "outlinewidth": 0,
             "ticks": ""
            },
            "colorscale": [
             [
              0,
              "#0d0887"
             ],
             [
              0.1111111111111111,
              "#46039f"
             ],
             [
              0.2222222222222222,
              "#7201a8"
             ],
             [
              0.3333333333333333,
              "#9c179e"
             ],
             [
              0.4444444444444444,
              "#bd3786"
             ],
             [
              0.5555555555555556,
              "#d8576b"
             ],
             [
              0.6666666666666666,
              "#ed7953"
             ],
             [
              0.7777777777777778,
              "#fb9f3a"
             ],
             [
              0.8888888888888888,
              "#fdca26"
             ],
             [
              1,
              "#f0f921"
             ]
            ],
            "type": "surface"
           }
          ],
          "table": [
           {
            "cells": {
             "fill": {
              "color": "#EBF0F8"
             },
             "line": {
              "color": "white"
             }
            },
            "header": {
             "fill": {
              "color": "#C8D4E3"
             },
             "line": {
              "color": "white"
             }
            },
            "type": "table"
           }
          ]
         },
         "layout": {
          "annotationdefaults": {
           "arrowcolor": "#2a3f5f",
           "arrowhead": 0,
           "arrowwidth": 1
          },
          "autotypenumbers": "strict",
          "coloraxis": {
           "colorbar": {
            "outlinewidth": 0,
            "ticks": ""
           }
          },
          "colorscale": {
           "diverging": [
            [
             0,
             "#8e0152"
            ],
            [
             0.1,
             "#c51b7d"
            ],
            [
             0.2,
             "#de77ae"
            ],
            [
             0.3,
             "#f1b6da"
            ],
            [
             0.4,
             "#fde0ef"
            ],
            [
             0.5,
             "#f7f7f7"
            ],
            [
             0.6,
             "#e6f5d0"
            ],
            [
             0.7,
             "#b8e186"
            ],
            [
             0.8,
             "#7fbc41"
            ],
            [
             0.9,
             "#4d9221"
            ],
            [
             1,
             "#276419"
            ]
           ],
           "sequential": [
            [
             0,
             "#0d0887"
            ],
            [
             0.1111111111111111,
             "#46039f"
            ],
            [
             0.2222222222222222,
             "#7201a8"
            ],
            [
             0.3333333333333333,
             "#9c179e"
            ],
            [
             0.4444444444444444,
             "#bd3786"
            ],
            [
             0.5555555555555556,
             "#d8576b"
            ],
            [
             0.6666666666666666,
             "#ed7953"
            ],
            [
             0.7777777777777778,
             "#fb9f3a"
            ],
            [
             0.8888888888888888,
             "#fdca26"
            ],
            [
             1,
             "#f0f921"
            ]
           ],
           "sequentialminus": [
            [
             0,
             "#0d0887"
            ],
            [
             0.1111111111111111,
             "#46039f"
            ],
            [
             0.2222222222222222,
             "#7201a8"
            ],
            [
             0.3333333333333333,
             "#9c179e"
            ],
            [
             0.4444444444444444,
             "#bd3786"
            ],
            [
             0.5555555555555556,
             "#d8576b"
            ],
            [
             0.6666666666666666,
             "#ed7953"
            ],
            [
             0.7777777777777778,
             "#fb9f3a"
            ],
            [
             0.8888888888888888,
             "#fdca26"
            ],
            [
             1,
             "#f0f921"
            ]
           ]
          },
          "colorway": [
           "#636efa",
           "#EF553B",
           "#00cc96",
           "#ab63fa",
           "#FFA15A",
           "#19d3f3",
           "#FF6692",
           "#B6E880",
           "#FF97FF",
           "#FECB52"
          ],
          "font": {
           "color": "#2a3f5f"
          },
          "geo": {
           "bgcolor": "white",
           "lakecolor": "white",
           "landcolor": "#E5ECF6",
           "showlakes": true,
           "showland": true,
           "subunitcolor": "white"
          },
          "hoverlabel": {
           "align": "left"
          },
          "hovermode": "closest",
          "mapbox": {
           "style": "light"
          },
          "paper_bgcolor": "white",
          "plot_bgcolor": "#E5ECF6",
          "polar": {
           "angularaxis": {
            "gridcolor": "white",
            "linecolor": "white",
            "ticks": ""
           },
           "bgcolor": "#E5ECF6",
           "radialaxis": {
            "gridcolor": "white",
            "linecolor": "white",
            "ticks": ""
           }
          },
          "scene": {
           "xaxis": {
            "backgroundcolor": "#E5ECF6",
            "gridcolor": "white",
            "gridwidth": 2,
            "linecolor": "white",
            "showbackground": true,
            "ticks": "",
            "zerolinecolor": "white"
           },
           "yaxis": {
            "backgroundcolor": "#E5ECF6",
            "gridcolor": "white",
            "gridwidth": 2,
            "linecolor": "white",
            "showbackground": true,
            "ticks": "",
            "zerolinecolor": "white"
           },
           "zaxis": {
            "backgroundcolor": "#E5ECF6",
            "gridcolor": "white",
            "gridwidth": 2,
            "linecolor": "white",
            "showbackground": true,
            "ticks": "",
            "zerolinecolor": "white"
           }
          },
          "shapedefaults": {
           "line": {
            "color": "#2a3f5f"
           }
          },
          "ternary": {
           "aaxis": {
            "gridcolor": "white",
            "linecolor": "white",
            "ticks": ""
           },
           "baxis": {
            "gridcolor": "white",
            "linecolor": "white",
            "ticks": ""
           },
           "bgcolor": "#E5ECF6",
           "caxis": {
            "gridcolor": "white",
            "linecolor": "white",
            "ticks": ""
           }
          },
          "title": {
           "x": 0.05
          },
          "xaxis": {
           "automargin": true,
           "gridcolor": "white",
           "linecolor": "white",
           "ticks": "",
           "title": {
            "standoff": 15
           },
           "zerolinecolor": "white",
           "zerolinewidth": 2
          },
          "yaxis": {
           "automargin": true,
           "gridcolor": "white",
           "linecolor": "white",
           "ticks": "",
           "title": {
            "standoff": 15
           },
           "zerolinecolor": "white",
           "zerolinewidth": 2
          }
         }
        },
        "title": {
         "text": "BLCA: Time and Event Distribution"
        },
        "xaxis": {
         "anchor": "y",
         "domain": [
          0,
          1
         ],
         "title": {
          "text": "time"
         }
        },
        "yaxis": {
         "anchor": "x",
         "domain": [
          0,
          1
         ],
         "title": {
          "text": "count"
         }
        }
       }
      }
     },
     "metadata": {},
     "output_type": "display_data"
    }
   ],
   "source": [
    "fig"
   ]
  },
  {
   "cell_type": "code",
   "execution_count": 20,
   "metadata": {},
   "outputs": [],
   "source": [
    "data = load_support(path=two_levels_up+\"/xgbsurv/datasets/data/\",as_frame=True)"
   ]
  },
  {
   "cell_type": "code",
   "execution_count": 21,
   "metadata": {},
   "outputs": [
    {
     "data": {
      "text/html": [
       "<div>\n",
       "<style scoped>\n",
       "    .dataframe tbody tr th:only-of-type {\n",
       "        vertical-align: middle;\n",
       "    }\n",
       "\n",
       "    .dataframe tbody tr th {\n",
       "        vertical-align: top;\n",
       "    }\n",
       "\n",
       "    .dataframe thead th {\n",
       "        text-align: right;\n",
       "    }\n",
       "</style>\n",
       "<table border=\"1\" class=\"dataframe\">\n",
       "  <thead>\n",
       "    <tr style=\"text-align: right;\">\n",
       "      <th></th>\n",
       "      <th>age</th>\n",
       "      <th>sex</th>\n",
       "      <th>race</th>\n",
       "      <th>n_comorbidities</th>\n",
       "      <th>diabetes</th>\n",
       "      <th>dementia</th>\n",
       "      <th>cancer</th>\n",
       "      <th>blood_pressure</th>\n",
       "      <th>heart_rate</th>\n",
       "      <th>respiration_rate</th>\n",
       "      <th>temperature</th>\n",
       "      <th>white_blood_cell</th>\n",
       "      <th>serum_sodium</th>\n",
       "      <th>serum_creatinine</th>\n",
       "    </tr>\n",
       "  </thead>\n",
       "  <tbody>\n",
       "    <tr>\n",
       "      <th>0</th>\n",
       "      <td>24.218990</td>\n",
       "      <td>0</td>\n",
       "      <td>1.0</td>\n",
       "      <td>2.0</td>\n",
       "      <td>0</td>\n",
       "      <td>0</td>\n",
       "      <td>2.0</td>\n",
       "      <td>5.0</td>\n",
       "      <td>0.0</td>\n",
       "      <td>35.0</td>\n",
       "      <td>36.093750</td>\n",
       "      <td>138.0</td>\n",
       "      <td>5.099609</td>\n",
       "      <td>4.899414</td>\n",
       "    </tr>\n",
       "    <tr>\n",
       "      <th>1</th>\n",
       "      <td>64.892937</td>\n",
       "      <td>0</td>\n",
       "      <td>1.0</td>\n",
       "      <td>1.0</td>\n",
       "      <td>0</td>\n",
       "      <td>0</td>\n",
       "      <td>0.0</td>\n",
       "      <td>64.0</td>\n",
       "      <td>63.0</td>\n",
       "      <td>30.0</td>\n",
       "      <td>38.195309</td>\n",
       "      <td>143.0</td>\n",
       "      <td>6.500000</td>\n",
       "      <td>1.399902</td>\n",
       "    </tr>\n",
       "    <tr>\n",
       "      <th>2</th>\n",
       "      <td>65.989990</td>\n",
       "      <td>0</td>\n",
       "      <td>3.0</td>\n",
       "      <td>2.0</td>\n",
       "      <td>0</td>\n",
       "      <td>0</td>\n",
       "      <td>0.0</td>\n",
       "      <td>0.0</td>\n",
       "      <td>0.0</td>\n",
       "      <td>0.0</td>\n",
       "      <td>37.695309</td>\n",
       "      <td>129.0</td>\n",
       "      <td>10.898438</td>\n",
       "      <td>1.099854</td>\n",
       "    </tr>\n",
       "    <tr>\n",
       "      <th>3</th>\n",
       "      <td>80.623962</td>\n",
       "      <td>1</td>\n",
       "      <td>3.0</td>\n",
       "      <td>1.0</td>\n",
       "      <td>0</td>\n",
       "      <td>0</td>\n",
       "      <td>2.0</td>\n",
       "      <td>56.0</td>\n",
       "      <td>96.0</td>\n",
       "      <td>13.0</td>\n",
       "      <td>36.093750</td>\n",
       "      <td>139.0</td>\n",
       "      <td>16.199219</td>\n",
       "      <td>6.500000</td>\n",
       "    </tr>\n",
       "    <tr>\n",
       "      <th>4</th>\n",
       "      <td>45.103001</td>\n",
       "      <td>0</td>\n",
       "      <td>4.0</td>\n",
       "      <td>1.0</td>\n",
       "      <td>0</td>\n",
       "      <td>0</td>\n",
       "      <td>1.0</td>\n",
       "      <td>33.0</td>\n",
       "      <td>0.0</td>\n",
       "      <td>30.0</td>\n",
       "      <td>37.796879</td>\n",
       "      <td>154.0</td>\n",
       "      <td>15.099609</td>\n",
       "      <td>3.699707</td>\n",
       "    </tr>\n",
       "    <tr>\n",
       "      <th>...</th>\n",
       "      <td>...</td>\n",
       "      <td>...</td>\n",
       "      <td>...</td>\n",
       "      <td>...</td>\n",
       "      <td>...</td>\n",
       "      <td>...</td>\n",
       "      <td>...</td>\n",
       "      <td>...</td>\n",
       "      <td>...</td>\n",
       "      <td>...</td>\n",
       "      <td>...</td>\n",
       "      <td>...</td>\n",
       "      <td>...</td>\n",
       "      <td>...</td>\n",
       "    </tr>\n",
       "    <tr>\n",
       "      <th>8868</th>\n",
       "      <td>51.835999</td>\n",
       "      <td>1</td>\n",
       "      <td>2.0</td>\n",
       "      <td>1.0</td>\n",
       "      <td>0</td>\n",
       "      <td>0</td>\n",
       "      <td>1.0</td>\n",
       "      <td>93.0</td>\n",
       "      <td>80.0</td>\n",
       "      <td>26.0</td>\n",
       "      <td>36.398441</td>\n",
       "      <td>138.0</td>\n",
       "      <td>3.500000</td>\n",
       "      <td>0.699951</td>\n",
       "    </tr>\n",
       "    <tr>\n",
       "      <th>8869</th>\n",
       "      <td>62.849979</td>\n",
       "      <td>0</td>\n",
       "      <td>0.0</td>\n",
       "      <td>0.0</td>\n",
       "      <td>0</td>\n",
       "      <td>0</td>\n",
       "      <td>0.0</td>\n",
       "      <td>97.0</td>\n",
       "      <td>69.0</td>\n",
       "      <td>22.0</td>\n",
       "      <td>36.000000</td>\n",
       "      <td>141.0</td>\n",
       "      <td>6.000000</td>\n",
       "      <td>1.199951</td>\n",
       "    </tr>\n",
       "    <tr>\n",
       "      <th>8870</th>\n",
       "      <td>79.884949</td>\n",
       "      <td>1</td>\n",
       "      <td>1.0</td>\n",
       "      <td>1.0</td>\n",
       "      <td>0</td>\n",
       "      <td>0</td>\n",
       "      <td>1.0</td>\n",
       "      <td>59.0</td>\n",
       "      <td>112.0</td>\n",
       "      <td>20.0</td>\n",
       "      <td>37.898441</td>\n",
       "      <td>143.0</td>\n",
       "      <td>13.500000</td>\n",
       "      <td>0.799927</td>\n",
       "    </tr>\n",
       "    <tr>\n",
       "      <th>8871</th>\n",
       "      <td>83.662956</td>\n",
       "      <td>0</td>\n",
       "      <td>2.0</td>\n",
       "      <td>1.0</td>\n",
       "      <td>0</td>\n",
       "      <td>0</td>\n",
       "      <td>1.0</td>\n",
       "      <td>76.0</td>\n",
       "      <td>63.0</td>\n",
       "      <td>24.0</td>\n",
       "      <td>35.796879</td>\n",
       "      <td>139.0</td>\n",
       "      <td>9.898438</td>\n",
       "      <td>1.299805</td>\n",
       "    </tr>\n",
       "    <tr>\n",
       "      <th>8872</th>\n",
       "      <td>65.809998</td>\n",
       "      <td>0</td>\n",
       "      <td>1.0</td>\n",
       "      <td>2.0</td>\n",
       "      <td>0</td>\n",
       "      <td>0</td>\n",
       "      <td>1.0</td>\n",
       "      <td>113.0</td>\n",
       "      <td>100.0</td>\n",
       "      <td>20.0</td>\n",
       "      <td>37.593750</td>\n",
       "      <td>143.0</td>\n",
       "      <td>5.399414</td>\n",
       "      <td>1.799805</td>\n",
       "    </tr>\n",
       "  </tbody>\n",
       "</table>\n",
       "<p>8873 rows × 14 columns</p>\n",
       "</div>"
      ],
      "text/plain": [
       "            age  sex race  n_comorbidities  diabetes  dementia cancer  \\\n",
       "0     24.218990    0  1.0              2.0         0         0    2.0   \n",
       "1     64.892937    0  1.0              1.0         0         0    0.0   \n",
       "2     65.989990    0  3.0              2.0         0         0    0.0   \n",
       "3     80.623962    1  3.0              1.0         0         0    2.0   \n",
       "4     45.103001    0  4.0              1.0         0         0    1.0   \n",
       "...         ...  ...  ...              ...       ...       ...    ...   \n",
       "8868  51.835999    1  2.0              1.0         0         0    1.0   \n",
       "8869  62.849979    0  0.0              0.0         0         0    0.0   \n",
       "8870  79.884949    1  1.0              1.0         0         0    1.0   \n",
       "8871  83.662956    0  2.0              1.0         0         0    1.0   \n",
       "8872  65.809998    0  1.0              2.0         0         0    1.0   \n",
       "\n",
       "      blood_pressure  heart_rate  respiration_rate  temperature  \\\n",
       "0                5.0         0.0              35.0    36.093750   \n",
       "1               64.0        63.0              30.0    38.195309   \n",
       "2                0.0         0.0               0.0    37.695309   \n",
       "3               56.0        96.0              13.0    36.093750   \n",
       "4               33.0         0.0              30.0    37.796879   \n",
       "...              ...         ...               ...          ...   \n",
       "8868            93.0        80.0              26.0    36.398441   \n",
       "8869            97.0        69.0              22.0    36.000000   \n",
       "8870            59.0       112.0              20.0    37.898441   \n",
       "8871            76.0        63.0              24.0    35.796879   \n",
       "8872           113.0       100.0              20.0    37.593750   \n",
       "\n",
       "      white_blood_cell  serum_sodium  serum_creatinine  \n",
       "0                138.0      5.099609          4.899414  \n",
       "1                143.0      6.500000          1.399902  \n",
       "2                129.0     10.898438          1.099854  \n",
       "3                139.0     16.199219          6.500000  \n",
       "4                154.0     15.099609          3.699707  \n",
       "...                ...           ...               ...  \n",
       "8868             138.0      3.500000          0.699951  \n",
       "8869             141.0      6.000000          1.199951  \n",
       "8870             143.0     13.500000          0.799927  \n",
       "8871             139.0      9.898438          1.299805  \n",
       "8872             143.0      5.399414          1.799805  \n",
       "\n",
       "[8873 rows x 14 columns]"
      ]
     },
     "execution_count": 21,
     "metadata": {},
     "output_type": "execute_result"
    }
   ],
   "source": [
    "data.data"
   ]
  },
  {
   "cell_type": "code",
   "execution_count": null,
   "metadata": {},
   "outputs": [],
   "source": []
  }
 ],
 "metadata": {
  "kernelspec": {
   "display_name": "xgbsurv",
   "language": "python",
   "name": "python3"
  },
  "language_info": {
   "codemirror_mode": {
    "name": "ipython",
    "version": 3
   },
   "file_extension": ".py",
   "mimetype": "text/x-python",
   "name": "python",
   "nbconvert_exporter": "python",
   "pygments_lexer": "ipython3",
   "version": "3.11.3"
  },
  "orig_nbformat": 4
 },
 "nbformat": 4,
 "nbformat_minor": 2
}
