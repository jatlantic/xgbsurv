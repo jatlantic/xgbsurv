{
 "cells": [
  {
   "attachments": {},
   "cell_type": "markdown",
   "metadata": {},
   "source": [
    "# Introduction to the xgbsurv package - EH\n",
    "\n",
    "This notebook introduces `xgbsurv` using a specific dataset. It structured by the following steps:\n",
    "\n",
    "- Load data\n",
    "- Load model\n",
    "- Fit model\n",
    "- Predict and evaluate model\n",
    "\n",
    "The syntax conveniently follows that of sklearn."
   ]
  },
  {
   "cell_type": "code",
   "execution_count": 1,
   "metadata": {},
   "outputs": [],
   "source": [
    "from xgbsurv.datasets import load_metabric\n",
    "from xgbsurv import XGBSurv\n",
    "from xgbsurv.models.utils import sort_X_y, transform_back, sort_X_y_pandas\n",
    "from pycox.evaluation import EvalSurv\n",
    "from sklearn.model_selection import train_test_split\n",
    "import numpy as np\n",
    "import pandas as pd\n",
    "import matplotlib.pyplot as plt\n",
    "import os\n",
    "current_path = os.getcwd() \n",
    "one_level_up = os.path.abspath(os.path.join(current_path,  \"..\"))"
   ]
  },
  {
   "attachments": {},
   "cell_type": "markdown",
   "metadata": {},
   "source": [
    "## Load Data"
   ]
  },
  {
   "cell_type": "code",
   "execution_count": 2,
   "metadata": {},
   "outputs": [],
   "source": [
    "data = load_metabric(path=one_level_up+\"/xgbsurv/datasets/data/\", as_frame=True)\n",
    "# stratify by event indicated by sign\n",
    "target_sign = np.sign(data.target)\n",
    "X_train, X_test, y_train, y_test = train_test_split(data.data, data.target, stratify=target_sign)\n",
    "# sort data\n",
    "X_train, y_train = sort_X_y_pandas(X_train, y_train)\n",
    "y_train = pd.concat([y_train,y_train], axis=1)\n",
    "y_train.columns = ['target1', 'target2']\n",
    "X_test, y_test = sort_X_y_pandas(X_test, y_test)"
   ]
  },
  {
   "attachments": {},
   "cell_type": "markdown",
   "metadata": {},
   "source": [
    "## Load Model"
   ]
  },
  {
   "cell_type": "code",
   "execution_count": 3,
   "metadata": {},
   "outputs": [
    {
     "data": {
      "text/html": [
       "<style>#sk-container-id-1 {color: black;background-color: white;}#sk-container-id-1 pre{padding: 0;}#sk-container-id-1 div.sk-toggleable {background-color: white;}#sk-container-id-1 label.sk-toggleable__label {cursor: pointer;display: block;width: 100%;margin-bottom: 0;padding: 0.3em;box-sizing: border-box;text-align: center;}#sk-container-id-1 label.sk-toggleable__label-arrow:before {content: \"▸\";float: left;margin-right: 0.25em;color: #696969;}#sk-container-id-1 label.sk-toggleable__label-arrow:hover:before {color: black;}#sk-container-id-1 div.sk-estimator:hover label.sk-toggleable__label-arrow:before {color: black;}#sk-container-id-1 div.sk-toggleable__content {max-height: 0;max-width: 0;overflow: hidden;text-align: left;background-color: #f0f8ff;}#sk-container-id-1 div.sk-toggleable__content pre {margin: 0.2em;color: black;border-radius: 0.25em;background-color: #f0f8ff;}#sk-container-id-1 input.sk-toggleable__control:checked~div.sk-toggleable__content {max-height: 200px;max-width: 100%;overflow: auto;}#sk-container-id-1 input.sk-toggleable__control:checked~label.sk-toggleable__label-arrow:before {content: \"▾\";}#sk-container-id-1 div.sk-estimator input.sk-toggleable__control:checked~label.sk-toggleable__label {background-color: #d4ebff;}#sk-container-id-1 div.sk-label input.sk-toggleable__control:checked~label.sk-toggleable__label {background-color: #d4ebff;}#sk-container-id-1 input.sk-hidden--visually {border: 0;clip: rect(1px 1px 1px 1px);clip: rect(1px, 1px, 1px, 1px);height: 1px;margin: -1px;overflow: hidden;padding: 0;position: absolute;width: 1px;}#sk-container-id-1 div.sk-estimator {font-family: monospace;background-color: #f0f8ff;border: 1px dotted black;border-radius: 0.25em;box-sizing: border-box;margin-bottom: 0.5em;}#sk-container-id-1 div.sk-estimator:hover {background-color: #d4ebff;}#sk-container-id-1 div.sk-parallel-item::after {content: \"\";width: 100%;border-bottom: 1px solid gray;flex-grow: 1;}#sk-container-id-1 div.sk-label:hover label.sk-toggleable__label {background-color: #d4ebff;}#sk-container-id-1 div.sk-serial::before {content: \"\";position: absolute;border-left: 1px solid gray;box-sizing: border-box;top: 0;bottom: 0;left: 50%;z-index: 0;}#sk-container-id-1 div.sk-serial {display: flex;flex-direction: column;align-items: center;background-color: white;padding-right: 0.2em;padding-left: 0.2em;position: relative;}#sk-container-id-1 div.sk-item {position: relative;z-index: 1;}#sk-container-id-1 div.sk-parallel {display: flex;align-items: stretch;justify-content: center;background-color: white;position: relative;}#sk-container-id-1 div.sk-item::before, #sk-container-id-1 div.sk-parallel-item::before {content: \"\";position: absolute;border-left: 1px solid gray;box-sizing: border-box;top: 0;bottom: 0;left: 50%;z-index: -1;}#sk-container-id-1 div.sk-parallel-item {display: flex;flex-direction: column;z-index: 1;position: relative;background-color: white;}#sk-container-id-1 div.sk-parallel-item:first-child::after {align-self: flex-end;width: 50%;}#sk-container-id-1 div.sk-parallel-item:last-child::after {align-self: flex-start;width: 50%;}#sk-container-id-1 div.sk-parallel-item:only-child::after {width: 0;}#sk-container-id-1 div.sk-dashed-wrapped {border: 1px dashed gray;margin: 0 0.4em 0.5em 0.4em;box-sizing: border-box;padding-bottom: 0.4em;background-color: white;}#sk-container-id-1 div.sk-label label {font-family: monospace;font-weight: bold;display: inline-block;line-height: 1.2em;}#sk-container-id-1 div.sk-label-container {text-align: center;}#sk-container-id-1 div.sk-container {/* jupyter's `normalize.less` sets `[hidden] { display: none; }` but bootstrap.min.css set `[hidden] { display: none !important; }` so we also need the `!important` here to be able to override the default hidden behavior on the sphinx rendered scikit-learn.org. See: https://github.com/scikit-learn/scikit-learn/issues/21755 */display: inline-block !important;position: relative;}#sk-container-id-1 div.sk-text-repr-fallback {display: none;}</style><div id=\"sk-container-id-1\" class=\"sk-top-container\"><div class=\"sk-text-repr-fallback\"><pre>XGBSurv(base_score=None, booster=None, callbacks=None, colsample_bylevel=None,\n",
       "        colsample_bynode=None, colsample_bytree=None,\n",
       "        disable_default_eval_metric=1, early_stopping_rounds=None,\n",
       "        enable_categorical=False,\n",
       "        eval_metric=CPUDispatcher(&lt;function eh_likelihood at 0x176532980&gt;),\n",
       "        feature_types=None, gamma=None, gpu_id=None, grow_policy=None,\n",
       "        importance_type=None, interaction_constraints=None, learning_rate=0.3,\n",
       "        max_bin=None, max_cat_threshold=None, max_cat_to_onehot=None,\n",
       "        max_delta_step=None, max_depth=None, max_leaves=None,\n",
       "        min_child_weight=None, missing=nan, monotone_constraints=None,\n",
       "        n_estimators=100, n_jobs=None, num_parallel_tree=None,\n",
       "        objective=CPUDispatcher(&lt;function eh_objective at 0x176533100&gt;), ...)</pre><b>In a Jupyter environment, please rerun this cell to show the HTML representation or trust the notebook. <br />On GitHub, the HTML representation is unable to render, please try loading this page with nbviewer.org.</b></div><div class=\"sk-container\" hidden><div class=\"sk-item\"><div class=\"sk-estimator sk-toggleable\"><input class=\"sk-toggleable__control sk-hidden--visually\" id=\"sk-estimator-id-1\" type=\"checkbox\" checked><label for=\"sk-estimator-id-1\" class=\"sk-toggleable__label sk-toggleable__label-arrow\">XGBSurv</label><div class=\"sk-toggleable__content\"><pre>XGBSurv(base_score=None, booster=None, callbacks=None, colsample_bylevel=None,\n",
       "        colsample_bynode=None, colsample_bytree=None,\n",
       "        disable_default_eval_metric=1, early_stopping_rounds=None,\n",
       "        enable_categorical=False,\n",
       "        eval_metric=CPUDispatcher(&lt;function eh_likelihood at 0x176532980&gt;),\n",
       "        feature_types=None, gamma=None, gpu_id=None, grow_policy=None,\n",
       "        importance_type=None, interaction_constraints=None, learning_rate=0.3,\n",
       "        max_bin=None, max_cat_threshold=None, max_cat_to_onehot=None,\n",
       "        max_delta_step=None, max_depth=None, max_leaves=None,\n",
       "        min_child_weight=None, missing=nan, monotone_constraints=None,\n",
       "        n_estimators=100, n_jobs=None, num_parallel_tree=None,\n",
       "        objective=CPUDispatcher(&lt;function eh_objective at 0x176533100&gt;), ...)</pre></div></div></div></div></div>"
      ],
      "text/plain": [
       "XGBSurv(base_score=None, booster=None, callbacks=None, colsample_bylevel=None,\n",
       "        colsample_bynode=None, colsample_bytree=None,\n",
       "        disable_default_eval_metric=1, early_stopping_rounds=None,\n",
       "        enable_categorical=False,\n",
       "        eval_metric=CPUDispatcher(<function eh_likelihood at 0x176532980>),\n",
       "        feature_types=None, gamma=None, gpu_id=None, grow_policy=None,\n",
       "        importance_type=None, interaction_constraints=None, learning_rate=0.3,\n",
       "        max_bin=None, max_cat_threshold=None, max_cat_to_onehot=None,\n",
       "        max_delta_step=None, max_depth=None, max_leaves=None,\n",
       "        min_child_weight=None, missing=nan, monotone_constraints=None,\n",
       "        n_estimators=100, n_jobs=None, num_parallel_tree=None,\n",
       "        objective=CPUDispatcher(<function eh_objective at 0x176533100>), ...)"
      ]
     },
     "execution_count": 3,
     "metadata": {},
     "output_type": "execute_result"
    }
   ],
   "source": [
    "model = XGBSurv(n_estimators=100, objective=\"eh_objective\",\n",
    "                                             eval_metric=\"eh_loss\",\n",
    "                                             learning_rate=0.3,\n",
    "                                             random_state=42, \n",
    "                                             disable_default_eval_metric=1,\n",
    "                                             )\n",
    "model"
   ]
  },
  {
   "attachments": {},
   "cell_type": "markdown",
   "metadata": {},
   "source": [
    "The options of loss and objective functions can be obtained like below:"
   ]
  },
  {
   "cell_type": "code",
   "execution_count": 4,
   "metadata": {},
   "outputs": [
    {
     "name": "stdout",
     "output_type": "stream",
     "text": [
      "dict_keys(['breslow_loss', 'efron_loss', 'cind_loss', 'deephit_loss', 'aft_loss', 'ah_loss', 'eh_loss'])\n",
      "dict_keys(['breslow_objective', 'efron_objective', 'cind_objective', 'deephit_objective', 'aft_objective', 'ah_objective', 'eh_objective'])\n"
     ]
    }
   ],
   "source": [
    "print(model.get_loss_functions().keys())\n",
    "print(model.get_objective_functions().keys())"
   ]
  },
  {
   "attachments": {},
   "cell_type": "markdown",
   "metadata": {},
   "source": [
    "## Fit Model"
   ]
  },
  {
   "cell_type": "code",
   "execution_count": 5,
   "metadata": {},
   "outputs": [],
   "source": [
    "eval_set = [(X_train, y_train)]"
   ]
  },
  {
   "cell_type": "code",
   "execution_count": 6,
   "metadata": {},
   "outputs": [
    {
     "name": "stdout",
     "output_type": "stream",
     "text": [
      "Data type is not correct - use either pandas DataFrame/Series or numpy ndarray. \n",
      "[0]\tvalidation_0-eh_likelihood:2557.10650\n",
      "[1]\tvalidation_0-eh_likelihood:2537.59223\n",
      "[2]\tvalidation_0-eh_likelihood:2517.61340\n",
      "[3]\tvalidation_0-eh_likelihood:2497.44811\n",
      "[4]\tvalidation_0-eh_likelihood:2481.28753\n",
      "[5]\tvalidation_0-eh_likelihood:2464.45708\n",
      "[6]\tvalidation_0-eh_likelihood:2447.47449\n",
      "[7]\tvalidation_0-eh_likelihood:2429.89252\n",
      "[8]\tvalidation_0-eh_likelihood:2412.75665\n",
      "[9]\tvalidation_0-eh_likelihood:2391.02645\n",
      "[10]\tvalidation_0-eh_likelihood:2374.42113\n",
      "[11]\tvalidation_0-eh_likelihood:2359.24142\n",
      "[12]\tvalidation_0-eh_likelihood:2340.99202\n",
      "[13]\tvalidation_0-eh_likelihood:2317.44070\n",
      "[14]\tvalidation_0-eh_likelihood:2298.83226\n",
      "[15]\tvalidation_0-eh_likelihood:2279.24846\n",
      "[16]\tvalidation_0-eh_likelihood:2266.69866\n",
      "[17]\tvalidation_0-eh_likelihood:2254.74185\n",
      "[18]\tvalidation_0-eh_likelihood:2242.74450\n",
      "[19]\tvalidation_0-eh_likelihood:2220.67664\n",
      "[20]\tvalidation_0-eh_likelihood:2208.31054\n",
      "[21]\tvalidation_0-eh_likelihood:2195.39650\n",
      "[22]\tvalidation_0-eh_likelihood:2184.27680\n",
      "[23]\tvalidation_0-eh_likelihood:2166.91316\n",
      "[24]\tvalidation_0-eh_likelihood:2152.58981\n",
      "[25]\tvalidation_0-eh_likelihood:2133.23711\n",
      "[26]\tvalidation_0-eh_likelihood:2119.45422\n",
      "[27]\tvalidation_0-eh_likelihood:2105.44930\n",
      "[28]\tvalidation_0-eh_likelihood:2092.22318\n",
      "[29]\tvalidation_0-eh_likelihood:2084.75458\n",
      "[30]\tvalidation_0-eh_likelihood:2071.01750\n",
      "[31]\tvalidation_0-eh_likelihood:2063.84540\n",
      "[32]\tvalidation_0-eh_likelihood:2058.85960\n",
      "[33]\tvalidation_0-eh_likelihood:2054.76699\n",
      "[34]\tvalidation_0-eh_likelihood:2046.95357\n",
      "[35]\tvalidation_0-eh_likelihood:2035.80281\n",
      "[36]\tvalidation_0-eh_likelihood:2029.43158\n",
      "[37]\tvalidation_0-eh_likelihood:2023.79830\n",
      "[38]\tvalidation_0-eh_likelihood:2020.53952\n",
      "[39]\tvalidation_0-eh_likelihood:2013.88153\n",
      "[40]\tvalidation_0-eh_likelihood:2008.71839\n",
      "[41]\tvalidation_0-eh_likelihood:2004.93242\n",
      "[42]\tvalidation_0-eh_likelihood:2003.35624\n",
      "[43]\tvalidation_0-eh_likelihood:1996.75053\n",
      "[44]\tvalidation_0-eh_likelihood:1995.22935\n",
      "[45]\tvalidation_0-eh_likelihood:1988.35072\n",
      "[46]\tvalidation_0-eh_likelihood:1984.72098\n",
      "[47]\tvalidation_0-eh_likelihood:1979.45756\n",
      "[48]\tvalidation_0-eh_likelihood:1978.06472\n",
      "[49]\tvalidation_0-eh_likelihood:1971.82286\n",
      "[50]\tvalidation_0-eh_likelihood:1969.03613\n",
      "[51]\tvalidation_0-eh_likelihood:1966.02704\n",
      "[52]\tvalidation_0-eh_likelihood:1963.73399\n",
      "[53]\tvalidation_0-eh_likelihood:1955.49723\n",
      "[54]\tvalidation_0-eh_likelihood:1950.67720\n",
      "[55]\tvalidation_0-eh_likelihood:1946.38176\n",
      "[56]\tvalidation_0-eh_likelihood:1942.44104\n",
      "[57]\tvalidation_0-eh_likelihood:1940.17049\n",
      "[58]\tvalidation_0-eh_likelihood:1940.67631\n",
      "[59]\tvalidation_0-eh_likelihood:1938.97537\n",
      "[60]\tvalidation_0-eh_likelihood:1938.97036\n",
      "[61]\tvalidation_0-eh_likelihood:1937.53127\n",
      "[62]\tvalidation_0-eh_likelihood:1937.38942\n",
      "[63]\tvalidation_0-eh_likelihood:1935.75975\n",
      "[64]\tvalidation_0-eh_likelihood:1933.15994\n",
      "[65]\tvalidation_0-eh_likelihood:1931.68652\n",
      "[66]\tvalidation_0-eh_likelihood:1929.10423\n",
      "[67]\tvalidation_0-eh_likelihood:1927.03830\n",
      "[68]\tvalidation_0-eh_likelihood:1924.47408\n",
      "[69]\tvalidation_0-eh_likelihood:1922.32280\n",
      "[70]\tvalidation_0-eh_likelihood:1917.84571\n",
      "[71]\tvalidation_0-eh_likelihood:1916.05125\n",
      "[72]\tvalidation_0-eh_likelihood:1912.86934\n",
      "[73]\tvalidation_0-eh_likelihood:1912.92884\n",
      "[74]\tvalidation_0-eh_likelihood:1910.01828\n",
      "[75]\tvalidation_0-eh_likelihood:1909.61986\n",
      "[76]\tvalidation_0-eh_likelihood:1907.57892\n",
      "[77]\tvalidation_0-eh_likelihood:1906.72651\n",
      "[78]\tvalidation_0-eh_likelihood:1904.24998\n",
      "[79]\tvalidation_0-eh_likelihood:1903.81434\n",
      "[80]\tvalidation_0-eh_likelihood:1901.77317\n",
      "[81]\tvalidation_0-eh_likelihood:1899.32859\n",
      "[82]\tvalidation_0-eh_likelihood:1895.79357\n",
      "[83]\tvalidation_0-eh_likelihood:1893.21223\n",
      "[84]\tvalidation_0-eh_likelihood:1889.69619\n",
      "[85]\tvalidation_0-eh_likelihood:1887.62192\n",
      "[86]\tvalidation_0-eh_likelihood:1884.56071\n",
      "[87]\tvalidation_0-eh_likelihood:1884.73524\n",
      "[88]\tvalidation_0-eh_likelihood:1882.28078\n",
      "[89]\tvalidation_0-eh_likelihood:1879.82591\n",
      "[90]\tvalidation_0-eh_likelihood:1878.25279\n",
      "[91]\tvalidation_0-eh_likelihood:1876.44495\n",
      "[92]\tvalidation_0-eh_likelihood:1875.68243\n",
      "[93]\tvalidation_0-eh_likelihood:1873.81880\n",
      "[94]\tvalidation_0-eh_likelihood:1872.09640\n",
      "[95]\tvalidation_0-eh_likelihood:1870.05879\n",
      "[96]\tvalidation_0-eh_likelihood:1868.74861\n",
      "[97]\tvalidation_0-eh_likelihood:1865.79119\n",
      "[98]\tvalidation_0-eh_likelihood:1863.55805\n",
      "[99]\tvalidation_0-eh_likelihood:1861.30236\n"
     ]
    },
    {
     "data": {
      "text/html": [
       "<style>#sk-container-id-2 {color: black;background-color: white;}#sk-container-id-2 pre{padding: 0;}#sk-container-id-2 div.sk-toggleable {background-color: white;}#sk-container-id-2 label.sk-toggleable__label {cursor: pointer;display: block;width: 100%;margin-bottom: 0;padding: 0.3em;box-sizing: border-box;text-align: center;}#sk-container-id-2 label.sk-toggleable__label-arrow:before {content: \"▸\";float: left;margin-right: 0.25em;color: #696969;}#sk-container-id-2 label.sk-toggleable__label-arrow:hover:before {color: black;}#sk-container-id-2 div.sk-estimator:hover label.sk-toggleable__label-arrow:before {color: black;}#sk-container-id-2 div.sk-toggleable__content {max-height: 0;max-width: 0;overflow: hidden;text-align: left;background-color: #f0f8ff;}#sk-container-id-2 div.sk-toggleable__content pre {margin: 0.2em;color: black;border-radius: 0.25em;background-color: #f0f8ff;}#sk-container-id-2 input.sk-toggleable__control:checked~div.sk-toggleable__content {max-height: 200px;max-width: 100%;overflow: auto;}#sk-container-id-2 input.sk-toggleable__control:checked~label.sk-toggleable__label-arrow:before {content: \"▾\";}#sk-container-id-2 div.sk-estimator input.sk-toggleable__control:checked~label.sk-toggleable__label {background-color: #d4ebff;}#sk-container-id-2 div.sk-label input.sk-toggleable__control:checked~label.sk-toggleable__label {background-color: #d4ebff;}#sk-container-id-2 input.sk-hidden--visually {border: 0;clip: rect(1px 1px 1px 1px);clip: rect(1px, 1px, 1px, 1px);height: 1px;margin: -1px;overflow: hidden;padding: 0;position: absolute;width: 1px;}#sk-container-id-2 div.sk-estimator {font-family: monospace;background-color: #f0f8ff;border: 1px dotted black;border-radius: 0.25em;box-sizing: border-box;margin-bottom: 0.5em;}#sk-container-id-2 div.sk-estimator:hover {background-color: #d4ebff;}#sk-container-id-2 div.sk-parallel-item::after {content: \"\";width: 100%;border-bottom: 1px solid gray;flex-grow: 1;}#sk-container-id-2 div.sk-label:hover label.sk-toggleable__label {background-color: #d4ebff;}#sk-container-id-2 div.sk-serial::before {content: \"\";position: absolute;border-left: 1px solid gray;box-sizing: border-box;top: 0;bottom: 0;left: 50%;z-index: 0;}#sk-container-id-2 div.sk-serial {display: flex;flex-direction: column;align-items: center;background-color: white;padding-right: 0.2em;padding-left: 0.2em;position: relative;}#sk-container-id-2 div.sk-item {position: relative;z-index: 1;}#sk-container-id-2 div.sk-parallel {display: flex;align-items: stretch;justify-content: center;background-color: white;position: relative;}#sk-container-id-2 div.sk-item::before, #sk-container-id-2 div.sk-parallel-item::before {content: \"\";position: absolute;border-left: 1px solid gray;box-sizing: border-box;top: 0;bottom: 0;left: 50%;z-index: -1;}#sk-container-id-2 div.sk-parallel-item {display: flex;flex-direction: column;z-index: 1;position: relative;background-color: white;}#sk-container-id-2 div.sk-parallel-item:first-child::after {align-self: flex-end;width: 50%;}#sk-container-id-2 div.sk-parallel-item:last-child::after {align-self: flex-start;width: 50%;}#sk-container-id-2 div.sk-parallel-item:only-child::after {width: 0;}#sk-container-id-2 div.sk-dashed-wrapped {border: 1px dashed gray;margin: 0 0.4em 0.5em 0.4em;box-sizing: border-box;padding-bottom: 0.4em;background-color: white;}#sk-container-id-2 div.sk-label label {font-family: monospace;font-weight: bold;display: inline-block;line-height: 1.2em;}#sk-container-id-2 div.sk-label-container {text-align: center;}#sk-container-id-2 div.sk-container {/* jupyter's `normalize.less` sets `[hidden] { display: none; }` but bootstrap.min.css set `[hidden] { display: none !important; }` so we also need the `!important` here to be able to override the default hidden behavior on the sphinx rendered scikit-learn.org. See: https://github.com/scikit-learn/scikit-learn/issues/21755 */display: inline-block !important;position: relative;}#sk-container-id-2 div.sk-text-repr-fallback {display: none;}</style><div id=\"sk-container-id-2\" class=\"sk-top-container\"><div class=\"sk-text-repr-fallback\"><pre>XGBSurv(base_score=None, booster=None, callbacks=None, colsample_bylevel=None,\n",
       "        colsample_bynode=None, colsample_bytree=None,\n",
       "        disable_default_eval_metric=1, early_stopping_rounds=None,\n",
       "        enable_categorical=False,\n",
       "        eval_metric=CPUDispatcher(&lt;function eh_likelihood at 0x176532980&gt;),\n",
       "        feature_types=None, gamma=None, gpu_id=None, grow_policy=None,\n",
       "        importance_type=None, interaction_constraints=None, learning_rate=0.3,\n",
       "        max_bin=None, max_cat_threshold=None, max_cat_to_onehot=None,\n",
       "        max_delta_step=None, max_depth=None, max_leaves=None,\n",
       "        min_child_weight=None, missing=nan, monotone_constraints=None,\n",
       "        n_estimators=100, n_jobs=None, num_parallel_tree=None,\n",
       "        objective=CPUDispatcher(&lt;function eh_objective at 0x176533100&gt;), ...)</pre><b>In a Jupyter environment, please rerun this cell to show the HTML representation or trust the notebook. <br />On GitHub, the HTML representation is unable to render, please try loading this page with nbviewer.org.</b></div><div class=\"sk-container\" hidden><div class=\"sk-item\"><div class=\"sk-estimator sk-toggleable\"><input class=\"sk-toggleable__control sk-hidden--visually\" id=\"sk-estimator-id-2\" type=\"checkbox\" checked><label for=\"sk-estimator-id-2\" class=\"sk-toggleable__label sk-toggleable__label-arrow\">XGBSurv</label><div class=\"sk-toggleable__content\"><pre>XGBSurv(base_score=None, booster=None, callbacks=None, colsample_bylevel=None,\n",
       "        colsample_bynode=None, colsample_bytree=None,\n",
       "        disable_default_eval_metric=1, early_stopping_rounds=None,\n",
       "        enable_categorical=False,\n",
       "        eval_metric=CPUDispatcher(&lt;function eh_likelihood at 0x176532980&gt;),\n",
       "        feature_types=None, gamma=None, gpu_id=None, grow_policy=None,\n",
       "        importance_type=None, interaction_constraints=None, learning_rate=0.3,\n",
       "        max_bin=None, max_cat_threshold=None, max_cat_to_onehot=None,\n",
       "        max_delta_step=None, max_depth=None, max_leaves=None,\n",
       "        min_child_weight=None, missing=nan, monotone_constraints=None,\n",
       "        n_estimators=100, n_jobs=None, num_parallel_tree=None,\n",
       "        objective=CPUDispatcher(&lt;function eh_objective at 0x176533100&gt;), ...)</pre></div></div></div></div></div>"
      ],
      "text/plain": [
       "XGBSurv(base_score=None, booster=None, callbacks=None, colsample_bylevel=None,\n",
       "        colsample_bynode=None, colsample_bytree=None,\n",
       "        disable_default_eval_metric=1, early_stopping_rounds=None,\n",
       "        enable_categorical=False,\n",
       "        eval_metric=CPUDispatcher(<function eh_likelihood at 0x176532980>),\n",
       "        feature_types=None, gamma=None, gpu_id=None, grow_policy=None,\n",
       "        importance_type=None, interaction_constraints=None, learning_rate=0.3,\n",
       "        max_bin=None, max_cat_threshold=None, max_cat_to_onehot=None,\n",
       "        max_delta_step=None, max_depth=None, max_leaves=None,\n",
       "        min_child_weight=None, missing=nan, monotone_constraints=None,\n",
       "        n_estimators=100, n_jobs=None, num_parallel_tree=None,\n",
       "        objective=CPUDispatcher(<function eh_objective at 0x176533100>), ...)"
      ]
     },
     "execution_count": 6,
     "metadata": {},
     "output_type": "execute_result"
    }
   ],
   "source": [
    "model.fit(X_train, y_train, eval_set=eval_set)"
   ]
  },
  {
   "attachments": {},
   "cell_type": "markdown",
   "metadata": {},
   "source": [
    "The model can be saved like below. Note that objective and eval_metric are not saved."
   ]
  },
  {
   "cell_type": "code",
   "execution_count": 7,
   "metadata": {},
   "outputs": [],
   "source": [
    "#model.save_model(\"introduction_model_breslow.json\")"
   ]
  },
  {
   "attachments": {},
   "cell_type": "markdown",
   "metadata": {},
   "source": [
    "## Predict"
   ]
  },
  {
   "cell_type": "code",
   "execution_count": 8,
   "metadata": {},
   "outputs": [],
   "source": [
    "preds_train = model.predict(X_train, output_margin=True)\n",
    "preds_test = model.predict(X_test, output_margin=True)"
   ]
  },
  {
   "attachments": {},
   "cell_type": "markdown",
   "metadata": {},
   "source": [
    "### Predict Cumulative Hazard"
   ]
  },
  {
   "cell_type": "code",
   "execution_count": 9,
   "metadata": {},
   "outputs": [
    {
     "name": "stdout",
     "output_type": "stream",
     "text": [
      "integration_values.shape[0] 91564\n"
     ]
    },
    {
     "data": {
      "text/html": [
       "<div>\n",
       "<style scoped>\n",
       "    .dataframe tbody tr th:only-of-type {\n",
       "        vertical-align: middle;\n",
       "    }\n",
       "\n",
       "    .dataframe tbody tr th {\n",
       "        vertical-align: top;\n",
       "    }\n",
       "\n",
       "    .dataframe thead th {\n",
       "        text-align: right;\n",
       "    }\n",
       "</style>\n",
       "<table border=\"1\" class=\"dataframe\">\n",
       "  <thead>\n",
       "    <tr style=\"text-align: right;\">\n",
       "      <th></th>\n",
       "      <th>0</th>\n",
       "      <th>1</th>\n",
       "      <th>2</th>\n",
       "      <th>3</th>\n",
       "      <th>4</th>\n",
       "      <th>5</th>\n",
       "      <th>6</th>\n",
       "      <th>7</th>\n",
       "      <th>8</th>\n",
       "      <th>9</th>\n",
       "      <th>...</th>\n",
       "      <th>466</th>\n",
       "      <th>467</th>\n",
       "      <th>468</th>\n",
       "      <th>469</th>\n",
       "      <th>470</th>\n",
       "      <th>471</th>\n",
       "      <th>472</th>\n",
       "      <th>473</th>\n",
       "      <th>474</th>\n",
       "      <th>475</th>\n",
       "    </tr>\n",
       "  </thead>\n",
       "  <tbody>\n",
       "    <tr>\n",
       "      <th>299.399994</th>\n",
       "      <td>1.468990</td>\n",
       "      <td>2.805342</td>\n",
       "      <td>5.269084</td>\n",
       "      <td>2.075346</td>\n",
       "      <td>2.152511</td>\n",
       "      <td>2.292607</td>\n",
       "      <td>2.194230</td>\n",
       "      <td>2.314440</td>\n",
       "      <td>2.332852</td>\n",
       "      <td>1.193653</td>\n",
       "      <td>...</td>\n",
       "      <td>1.688367</td>\n",
       "      <td>0.443537</td>\n",
       "      <td>1.668636</td>\n",
       "      <td>5.714819</td>\n",
       "      <td>0.743076</td>\n",
       "      <td>1.243939</td>\n",
       "      <td>1.954172</td>\n",
       "      <td>1.634828</td>\n",
       "      <td>2.169060</td>\n",
       "      <td>0.646752</td>\n",
       "    </tr>\n",
       "    <tr>\n",
       "      <th>322.833344</th>\n",
       "      <td>1.477181</td>\n",
       "      <td>2.806536</td>\n",
       "      <td>5.310263</td>\n",
       "      <td>2.293927</td>\n",
       "      <td>2.160190</td>\n",
       "      <td>2.292885</td>\n",
       "      <td>2.331486</td>\n",
       "      <td>2.746846</td>\n",
       "      <td>2.348609</td>\n",
       "      <td>1.197296</td>\n",
       "      <td>...</td>\n",
       "      <td>1.929700</td>\n",
       "      <td>0.501414</td>\n",
       "      <td>1.747693</td>\n",
       "      <td>6.857201</td>\n",
       "      <td>0.743123</td>\n",
       "      <td>1.245690</td>\n",
       "      <td>2.084330</td>\n",
       "      <td>1.823439</td>\n",
       "      <td>2.412873</td>\n",
       "      <td>0.789741</td>\n",
       "    </tr>\n",
       "    <tr>\n",
       "      <th>335.600006</th>\n",
       "      <td>1.479794</td>\n",
       "      <td>2.806870</td>\n",
       "      <td>5.323672</td>\n",
       "      <td>2.394498</td>\n",
       "      <td>2.162561</td>\n",
       "      <td>2.292959</td>\n",
       "      <td>2.388063</td>\n",
       "      <td>2.979499</td>\n",
       "      <td>2.361232</td>\n",
       "      <td>1.198414</td>\n",
       "      <td>...</td>\n",
       "      <td>2.050099</td>\n",
       "      <td>0.529537</td>\n",
       "      <td>1.778772</td>\n",
       "      <td>7.484111</td>\n",
       "      <td>0.743135</td>\n",
       "      <td>1.246206</td>\n",
       "      <td>2.139067</td>\n",
       "      <td>1.912492</td>\n",
       "      <td>2.526772</td>\n",
       "      <td>0.878592</td>\n",
       "    </tr>\n",
       "  </tbody>\n",
       "</table>\n",
       "<p>3 rows × 476 columns</p>\n",
       "</div>"
      ],
      "text/plain": [
       "                 0         1         2         3         4         5    \\\n",
       "299.399994  1.468990  2.805342  5.269084  2.075346  2.152511  2.292607   \n",
       "322.833344  1.477181  2.806536  5.310263  2.293927  2.160190  2.292885   \n",
       "335.600006  1.479794  2.806870  5.323672  2.394498  2.162561  2.292959   \n",
       "\n",
       "                 6         7         8         9    ...       466       467  \\\n",
       "299.399994  2.194230  2.314440  2.332852  1.193653  ...  1.688367  0.443537   \n",
       "322.833344  2.331486  2.746846  2.348609  1.197296  ...  1.929700  0.501414   \n",
       "335.600006  2.388063  2.979499  2.361232  1.198414  ...  2.050099  0.529537   \n",
       "\n",
       "                 468       469       470       471       472       473  \\\n",
       "299.399994  1.668636  5.714819  0.743076  1.243939  1.954172  1.634828   \n",
       "322.833344  1.747693  6.857201  0.743123  1.245690  2.084330  1.823439   \n",
       "335.600006  1.778772  7.484111  0.743135  1.246206  2.139067  1.912492   \n",
       "\n",
       "                 474       475  \n",
       "299.399994  2.169060  0.646752  \n",
       "322.833344  2.412873  0.789741  \n",
       "335.600006  2.526772  0.878592  \n",
       "\n",
       "[3 rows x 476 columns]"
      ]
     },
     "execution_count": 9,
     "metadata": {},
     "output_type": "execute_result"
    }
   ],
   "source": [
    "df_cum_hazards = model.predict_cumulative_hazard_function(X_train.to_numpy(), X_test.to_numpy(), y_train.to_numpy(), y_test.to_numpy())\n",
    "df_cum_hazards.tail(3)"
   ]
  },
  {
   "attachments": {},
   "cell_type": "markdown",
   "metadata": {},
   "source": [
    "## Predict Survival Function"
   ]
  },
  {
   "cell_type": "code",
   "execution_count": 10,
   "metadata": {},
   "outputs": [
    {
     "name": "stdout",
     "output_type": "stream",
     "text": [
      "integration_values.shape[0] 91564\n"
     ]
    },
    {
     "data": {
      "text/html": [
       "<div>\n",
       "<style scoped>\n",
       "    .dataframe tbody tr th:only-of-type {\n",
       "        vertical-align: middle;\n",
       "    }\n",
       "\n",
       "    .dataframe tbody tr th {\n",
       "        vertical-align: top;\n",
       "    }\n",
       "\n",
       "    .dataframe thead th {\n",
       "        text-align: right;\n",
       "    }\n",
       "</style>\n",
       "<table border=\"1\" class=\"dataframe\">\n",
       "  <thead>\n",
       "    <tr style=\"text-align: right;\">\n",
       "      <th></th>\n",
       "      <th>0</th>\n",
       "      <th>1</th>\n",
       "      <th>2</th>\n",
       "      <th>3</th>\n",
       "      <th>4</th>\n",
       "      <th>5</th>\n",
       "      <th>6</th>\n",
       "      <th>7</th>\n",
       "      <th>8</th>\n",
       "      <th>9</th>\n",
       "      <th>...</th>\n",
       "      <th>466</th>\n",
       "      <th>467</th>\n",
       "      <th>468</th>\n",
       "      <th>469</th>\n",
       "      <th>470</th>\n",
       "      <th>471</th>\n",
       "      <th>472</th>\n",
       "      <th>473</th>\n",
       "      <th>474</th>\n",
       "      <th>475</th>\n",
       "    </tr>\n",
       "  </thead>\n",
       "  <tbody>\n",
       "    <tr>\n",
       "      <th>299.399994</th>\n",
       "      <td>0.230158</td>\n",
       "      <td>0.060486</td>\n",
       "      <td>0.005148</td>\n",
       "      <td>0.125513</td>\n",
       "      <td>0.116192</td>\n",
       "      <td>0.101003</td>\n",
       "      <td>0.111444</td>\n",
       "      <td>0.098822</td>\n",
       "      <td>0.097019</td>\n",
       "      <td>0.303112</td>\n",
       "      <td>...</td>\n",
       "      <td>0.184821</td>\n",
       "      <td>0.641763</td>\n",
       "      <td>0.188504</td>\n",
       "      <td>0.003297</td>\n",
       "      <td>0.475648</td>\n",
       "      <td>0.288247</td>\n",
       "      <td>0.141682</td>\n",
       "      <td>0.194986</td>\n",
       "      <td>0.114285</td>\n",
       "      <td>0.523744</td>\n",
       "    </tr>\n",
       "    <tr>\n",
       "      <th>322.833344</th>\n",
       "      <td>0.228280</td>\n",
       "      <td>0.060414</td>\n",
       "      <td>0.004941</td>\n",
       "      <td>0.100870</td>\n",
       "      <td>0.115303</td>\n",
       "      <td>0.100975</td>\n",
       "      <td>0.097151</td>\n",
       "      <td>0.064130</td>\n",
       "      <td>0.095502</td>\n",
       "      <td>0.302010</td>\n",
       "      <td>...</td>\n",
       "      <td>0.145192</td>\n",
       "      <td>0.605674</td>\n",
       "      <td>0.174175</td>\n",
       "      <td>0.001052</td>\n",
       "      <td>0.475626</td>\n",
       "      <td>0.287742</td>\n",
       "      <td>0.124390</td>\n",
       "      <td>0.161470</td>\n",
       "      <td>0.089558</td>\n",
       "      <td>0.453962</td>\n",
       "    </tr>\n",
       "    <tr>\n",
       "      <th>335.600006</th>\n",
       "      <td>0.227685</td>\n",
       "      <td>0.060394</td>\n",
       "      <td>0.004875</td>\n",
       "      <td>0.091218</td>\n",
       "      <td>0.115030</td>\n",
       "      <td>0.100967</td>\n",
       "      <td>0.091807</td>\n",
       "      <td>0.050818</td>\n",
       "      <td>0.094304</td>\n",
       "      <td>0.301672</td>\n",
       "      <td>...</td>\n",
       "      <td>0.128722</td>\n",
       "      <td>0.588878</td>\n",
       "      <td>0.168845</td>\n",
       "      <td>0.000562</td>\n",
       "      <td>0.475620</td>\n",
       "      <td>0.287594</td>\n",
       "      <td>0.117765</td>\n",
       "      <td>0.147712</td>\n",
       "      <td>0.079917</td>\n",
       "      <td>0.415367</td>\n",
       "    </tr>\n",
       "  </tbody>\n",
       "</table>\n",
       "<p>3 rows × 476 columns</p>\n",
       "</div>"
      ],
      "text/plain": [
       "                 0         1         2         3         4         5    \\\n",
       "299.399994  0.230158  0.060486  0.005148  0.125513  0.116192  0.101003   \n",
       "322.833344  0.228280  0.060414  0.004941  0.100870  0.115303  0.100975   \n",
       "335.600006  0.227685  0.060394  0.004875  0.091218  0.115030  0.100967   \n",
       "\n",
       "                 6         7         8         9    ...       466       467  \\\n",
       "299.399994  0.111444  0.098822  0.097019  0.303112  ...  0.184821  0.641763   \n",
       "322.833344  0.097151  0.064130  0.095502  0.302010  ...  0.145192  0.605674   \n",
       "335.600006  0.091807  0.050818  0.094304  0.301672  ...  0.128722  0.588878   \n",
       "\n",
       "                 468       469       470       471       472       473  \\\n",
       "299.399994  0.188504  0.003297  0.475648  0.288247  0.141682  0.194986   \n",
       "322.833344  0.174175  0.001052  0.475626  0.287742  0.124390  0.161470   \n",
       "335.600006  0.168845  0.000562  0.475620  0.287594  0.117765  0.147712   \n",
       "\n",
       "                 474       475  \n",
       "299.399994  0.114285  0.523744  \n",
       "322.833344  0.089558  0.453962  \n",
       "335.600006  0.079917  0.415367  \n",
       "\n",
       "[3 rows x 476 columns]"
      ]
     },
     "execution_count": 10,
     "metadata": {},
     "output_type": "execute_result"
    }
   ],
   "source": [
    "df_survival_function = model.predict_survival_function(X_train.to_numpy(), X_test.to_numpy(), y_train.to_numpy(), y_test.to_numpy())\n",
    "df_survival_function.tail(3)"
   ]
  },
  {
   "attachments": {},
   "cell_type": "markdown",
   "metadata": {},
   "source": [
    "### Visualize Predictions"
   ]
  },
  {
   "cell_type": "code",
   "execution_count": 11,
   "metadata": {},
   "outputs": [
    {
     "data": {
      "text/plain": [
       "Text(0.5, 1.0, 'Cumulative Hazard Breslow')"
      ]
     },
     "execution_count": 11,
     "metadata": {},
     "output_type": "execute_result"
    },
    {
     "data": {
      "image/png": "[encoded data removed]",
      "text/plain": [
       "<Figure size 640x480 with 1 Axes>"
      ]
     },
     "metadata": {},
     "output_type": "display_data"
    }
   ],
   "source": [
    "df_cum_hazards.iloc[:, :5].plot(drawstyle='steps-post')\n",
    "plt.ylabel('S(t | x)')\n",
    "_ = plt.xlabel('Time')\n",
    "plt.title(\"Cumulative Hazard EH\")"
   ]
  },
  {
   "cell_type": "code",
   "execution_count": 12,
   "metadata": {},
   "outputs": [
    {
     "data": {
      "text/plain": [
       "Text(0.5, 1.0, 'Survival Curve Breslow')"
      ]
     },
     "execution_count": 12,
     "metadata": {},
     "output_type": "execute_result"
    },
    {
     "data": {
      "image/png": "[encoded data removed]",
      "text/plain": [
       "<Figure size 640x480 with 1 Axes>"
      ]
     },
     "metadata": {},
     "output_type": "display_data"
    }
   ],
   "source": [
    "df_survival_function.iloc[:, :5].plot(drawstyle='steps-post')\n",
    "plt.ylabel('S(t | x)')\n",
    "_ = plt.xlabel('Time')\n",
    "plt.title(\"Survival Curve EH\")"
   ]
  },
  {
   "attachments": {},
   "cell_type": "markdown",
   "metadata": {},
   "source": [
    "## Evaluate"
   ]
  },
  {
   "attachments": {},
   "cell_type": "markdown",
   "metadata": {},
   "source": [
    "### Test"
   ]
  },
  {
   "cell_type": "code",
   "execution_count": 13,
   "metadata": {},
   "outputs": [
    {
     "name": "stdout",
     "output_type": "stream",
     "text": [
      "Concordance Index 0.6362757358154886\n"
     ]
    }
   ],
   "source": [
    "durations_test, events_test = transform_back(y_test.values)\n",
    "time_grid = np.linspace(durations_test.min(), durations_test.max(), 100)\n",
    "ev = EvalSurv(df_survival_function, durations_test, events_test, censor_surv='km')\n",
    "print('Concordance Index',ev.concordance_td('antolini'))"
   ]
  },
  {
   "cell_type": "code",
   "execution_count": 14,
   "metadata": {},
   "outputs": [
    {
     "name": "stdout",
     "output_type": "stream",
     "text": [
      "Integrated Brier Score: 0.17641782534742892\n"
     ]
    }
   ],
   "source": [
    "print('Integrated Brier Score:',ev.integrated_brier_score(time_grid))"
   ]
  },
  {
   "cell_type": "code",
   "execution_count": null,
   "metadata": {},
   "outputs": [],
   "source": []
  }
 ],
 "metadata": {
  "kernelspec": {
   "display_name": "xgbsurv",
   "language": "python",
   "name": "python3"
  },
  "language_info": {
   "codemirror_mode": {
    "name": "ipython",
    "version": 3
   },
   "file_extension": ".py",
   "mimetype": "text/x-python",
   "name": "python",
   "nbconvert_exporter": "python",
   "pygments_lexer": "ipython3",
   "version": "3.11.3"
  },
  "orig_nbformat": 4
 },
 "nbformat": 4,
 "nbformat_minor": 2
}
