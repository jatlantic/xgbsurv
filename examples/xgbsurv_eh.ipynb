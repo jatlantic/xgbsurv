{
 "cells": [
  {
   "attachments": {},
   "cell_type": "markdown",
   "metadata": {},
   "source": [
    "# Introduction to the xgbsurv package - EH\n",
    "\n",
    "This notebook introduces `xgbsurv` using a specific dataset. It structured by the following steps:\n",
    "\n",
    "- Load data\n",
    "- Load model\n",
    "- Fit model\n",
    "- Predict and evaluate model\n",
    "\n",
    "The syntax conveniently follows that of sklearn."
   ]
  },
  {
   "cell_type": "code",
   "execution_count": 1,
   "metadata": {},
   "outputs": [],
   "source": [
    "from xgbsurv.datasets import load_metabric\n",
    "from xgbsurv import XGBSurv\n",
    "from xgbsurv.models.utils import sort_X_y, transform_back, sort_X_y_pandas\n",
    "from pycox.evaluation import EvalSurv\n",
    "from sklearn.model_selection import train_test_split\n",
    "import numpy as np\n",
    "import pandas as pd\n",
    "import matplotlib.pyplot as plt\n",
    "import os\n",
    "current_path = os.getcwd() \n",
    "one_level_up = os.path.abspath(os.path.join(current_path,  \"..\"))"
   ]
  },
  {
   "attachments": {},
   "cell_type": "markdown",
   "metadata": {},
   "source": [
    "## Load Data"
   ]
  },
  {
   "cell_type": "code",
   "execution_count": 2,
   "metadata": {},
   "outputs": [],
   "source": [
    "data = load_metabric(path=one_level_up+\"/xgbsurv/datasets/data/\", as_frame=True)\n",
    "# stratify by event indicated by sign\n",
    "target_sign = np.sign(data.target)\n",
    "X_train, X_test, y_train, y_test = train_test_split(data.data, data.target, stratify=target_sign)\n",
    "# sort data\n",
    "X_train, y_train = sort_X_y_pandas(X_train, y_train)\n",
    "y_train = pd.concat([y_train,y_train], axis=1)\n",
    "y_train.columns = ['target1', 'target2']\n",
    "X_test, y_test = sort_X_y_pandas(X_test, y_test)"
   ]
  },
  {
   "attachments": {},
   "cell_type": "markdown",
   "metadata": {},
   "source": [
    "## Load Model"
   ]
  },
  {
   "cell_type": "code",
   "execution_count": 3,
   "metadata": {},
   "outputs": [
    {
     "data": {
      "text/html": [
       "<style>#sk-container-id-1 {color: black;background-color: white;}#sk-container-id-1 pre{padding: 0;}#sk-container-id-1 div.sk-toggleable {background-color: white;}#sk-container-id-1 label.sk-toggleable__label {cursor: pointer;display: block;width: 100%;margin-bottom: 0;padding: 0.3em;box-sizing: border-box;text-align: center;}#sk-container-id-1 label.sk-toggleable__label-arrow:before {content: \"▸\";float: left;margin-right: 0.25em;color: #696969;}#sk-container-id-1 label.sk-toggleable__label-arrow:hover:before {color: black;}#sk-container-id-1 div.sk-estimator:hover label.sk-toggleable__label-arrow:before {color: black;}#sk-container-id-1 div.sk-toggleable__content {max-height: 0;max-width: 0;overflow: hidden;text-align: left;background-color: #f0f8ff;}#sk-container-id-1 div.sk-toggleable__content pre {margin: 0.2em;color: black;border-radius: 0.25em;background-color: #f0f8ff;}#sk-container-id-1 input.sk-toggleable__control:checked~div.sk-toggleable__content {max-height: 200px;max-width: 100%;overflow: auto;}#sk-container-id-1 input.sk-toggleable__control:checked~label.sk-toggleable__label-arrow:before {content: \"▾\";}#sk-container-id-1 div.sk-estimator input.sk-toggleable__control:checked~label.sk-toggleable__label {background-color: #d4ebff;}#sk-container-id-1 div.sk-label input.sk-toggleable__control:checked~label.sk-toggleable__label {background-color: #d4ebff;}#sk-container-id-1 input.sk-hidden--visually {border: 0;clip: rect(1px 1px 1px 1px);clip: rect(1px, 1px, 1px, 1px);height: 1px;margin: -1px;overflow: hidden;padding: 0;position: absolute;width: 1px;}#sk-container-id-1 div.sk-estimator {font-family: monospace;background-color: #f0f8ff;border: 1px dotted black;border-radius: 0.25em;box-sizing: border-box;margin-bottom: 0.5em;}#sk-container-id-1 div.sk-estimator:hover {background-color: #d4ebff;}#sk-container-id-1 div.sk-parallel-item::after {content: \"\";width: 100%;border-bottom: 1px solid gray;flex-grow: 1;}#sk-container-id-1 div.sk-label:hover label.sk-toggleable__label {background-color: #d4ebff;}#sk-container-id-1 div.sk-serial::before {content: \"\";position: absolute;border-left: 1px solid gray;box-sizing: border-box;top: 0;bottom: 0;left: 50%;z-index: 0;}#sk-container-id-1 div.sk-serial {display: flex;flex-direction: column;align-items: center;background-color: white;padding-right: 0.2em;padding-left: 0.2em;position: relative;}#sk-container-id-1 div.sk-item {position: relative;z-index: 1;}#sk-container-id-1 div.sk-parallel {display: flex;align-items: stretch;justify-content: center;background-color: white;position: relative;}#sk-container-id-1 div.sk-item::before, #sk-container-id-1 div.sk-parallel-item::before {content: \"\";position: absolute;border-left: 1px solid gray;box-sizing: border-box;top: 0;bottom: 0;left: 50%;z-index: -1;}#sk-container-id-1 div.sk-parallel-item {display: flex;flex-direction: column;z-index: 1;position: relative;background-color: white;}#sk-container-id-1 div.sk-parallel-item:first-child::after {align-self: flex-end;width: 50%;}#sk-container-id-1 div.sk-parallel-item:last-child::after {align-self: flex-start;width: 50%;}#sk-container-id-1 div.sk-parallel-item:only-child::after {width: 0;}#sk-container-id-1 div.sk-dashed-wrapped {border: 1px dashed gray;margin: 0 0.4em 0.5em 0.4em;box-sizing: border-box;padding-bottom: 0.4em;background-color: white;}#sk-container-id-1 div.sk-label label {font-family: monospace;font-weight: bold;display: inline-block;line-height: 1.2em;}#sk-container-id-1 div.sk-label-container {text-align: center;}#sk-container-id-1 div.sk-container {/* jupyter's `normalize.less` sets `[hidden] { display: none; }` but bootstrap.min.css set `[hidden] { display: none !important; }` so we also need the `!important` here to be able to override the default hidden behavior on the sphinx rendered scikit-learn.org. See: https://github.com/scikit-learn/scikit-learn/issues/21755 */display: inline-block !important;position: relative;}#sk-container-id-1 div.sk-text-repr-fallback {display: none;}</style><div id=\"sk-container-id-1\" class=\"sk-top-container\"><div class=\"sk-text-repr-fallback\"><pre>XGBSurv(base_score=None, booster=None, callbacks=None, colsample_bylevel=None,\n",
       "        colsample_bynode=None, colsample_bytree=None,\n",
       "        disable_default_eval_metric=1, early_stopping_rounds=None,\n",
       "        enable_categorical=False,\n",
       "        eval_metric=CPUDispatcher(&lt;function eh_likelihood at 0x29f2eaa20&gt;),\n",
       "        feature_types=None, gamma=None, gpu_id=None, grow_policy=None,\n",
       "        importance_type=None, interaction_constraints=None, learning_rate=0.3,\n",
       "        max_bin=None, max_cat_threshold=None, max_cat_to_onehot=None,\n",
       "        max_delta_step=None, max_depth=None, max_leaves=None,\n",
       "        min_child_weight=None, missing=nan, monotone_constraints=None,\n",
       "        n_estimators=100, n_jobs=None, num_parallel_tree=None,\n",
       "        objective=CPUDispatcher(&lt;function eh_objective at 0x29f2eb1a0&gt;), ...)</pre><b>In a Jupyter environment, please rerun this cell to show the HTML representation or trust the notebook. <br />On GitHub, the HTML representation is unable to render, please try loading this page with nbviewer.org.</b></div><div class=\"sk-container\" hidden><div class=\"sk-item\"><div class=\"sk-estimator sk-toggleable\"><input class=\"sk-toggleable__control sk-hidden--visually\" id=\"sk-estimator-id-1\" type=\"checkbox\" checked><label for=\"sk-estimator-id-1\" class=\"sk-toggleable__label sk-toggleable__label-arrow\">XGBSurv</label><div class=\"sk-toggleable__content\"><pre>XGBSurv(base_score=None, booster=None, callbacks=None, colsample_bylevel=None,\n",
       "        colsample_bynode=None, colsample_bytree=None,\n",
       "        disable_default_eval_metric=1, early_stopping_rounds=None,\n",
       "        enable_categorical=False,\n",
       "        eval_metric=CPUDispatcher(&lt;function eh_likelihood at 0x29f2eaa20&gt;),\n",
       "        feature_types=None, gamma=None, gpu_id=None, grow_policy=None,\n",
       "        importance_type=None, interaction_constraints=None, learning_rate=0.3,\n",
       "        max_bin=None, max_cat_threshold=None, max_cat_to_onehot=None,\n",
       "        max_delta_step=None, max_depth=None, max_leaves=None,\n",
       "        min_child_weight=None, missing=nan, monotone_constraints=None,\n",
       "        n_estimators=100, n_jobs=None, num_parallel_tree=None,\n",
       "        objective=CPUDispatcher(&lt;function eh_objective at 0x29f2eb1a0&gt;), ...)</pre></div></div></div></div></div>"
      ],
      "text/plain": [
       "XGBSurv(base_score=None, booster=None, callbacks=None, colsample_bylevel=None,\n",
       "        colsample_bynode=None, colsample_bytree=None,\n",
       "        disable_default_eval_metric=1, early_stopping_rounds=None,\n",
       "        enable_categorical=False,\n",
       "        eval_metric=CPUDispatcher(<function eh_likelihood at 0x29f2eaa20>),\n",
       "        feature_types=None, gamma=None, gpu_id=None, grow_policy=None,\n",
       "        importance_type=None, interaction_constraints=None, learning_rate=0.3,\n",
       "        max_bin=None, max_cat_threshold=None, max_cat_to_onehot=None,\n",
       "        max_delta_step=None, max_depth=None, max_leaves=None,\n",
       "        min_child_weight=None, missing=nan, monotone_constraints=None,\n",
       "        n_estimators=100, n_jobs=None, num_parallel_tree=None,\n",
       "        objective=CPUDispatcher(<function eh_objective at 0x29f2eb1a0>), ...)"
      ]
     },
     "execution_count": 3,
     "metadata": {},
     "output_type": "execute_result"
    }
   ],
   "source": [
    "model = XGBSurv(n_estimators=100, objective=\"eh_objective\",\n",
    "                                             eval_metric=\"eh_loss\",\n",
    "                                             learning_rate=0.3,\n",
    "                                             random_state=42, \n",
    "                                             disable_default_eval_metric=1,\n",
    "                                             )\n",
    "model"
   ]
  },
  {
   "attachments": {},
   "cell_type": "markdown",
   "metadata": {},
   "source": [
    "The options of loss and objective functions can be obtained like below:"
   ]
  },
  {
   "cell_type": "code",
   "execution_count": 4,
   "metadata": {},
   "outputs": [
    {
     "name": "stdout",
     "output_type": "stream",
     "text": [
      "dict_keys(['breslow_loss', 'efron_loss', 'cind_loss', 'deephit_loss', 'aft_loss', 'ah_loss', 'eh_loss'])\n",
      "dict_keys(['breslow_objective', 'efron_objective', 'cind_objective', 'deephit_objective', 'aft_objective', 'ah_objective', 'eh_objective'])\n"
     ]
    }
   ],
   "source": [
    "print(model.get_loss_functions().keys())\n",
    "print(model.get_objective_functions().keys())"
   ]
  },
  {
   "attachments": {},
   "cell_type": "markdown",
   "metadata": {},
   "source": [
    "## Fit Model"
   ]
  },
  {
   "cell_type": "code",
   "execution_count": 5,
   "metadata": {},
   "outputs": [],
   "source": [
    "eval_set = [(X_train, y_train)]"
   ]
  },
  {
   "cell_type": "code",
   "execution_count": 6,
   "metadata": {},
   "outputs": [
    {
     "name": "stdout",
     "output_type": "stream",
     "text": [
      "Data type is not correct - use either pandas DataFrame/Series or numpy ndarray. \n",
      "[0]\tvalidation_0-eh_likelihood:2553.77091\n",
      "[1]\tvalidation_0-eh_likelihood:2532.42634\n",
      "[2]\tvalidation_0-eh_likelihood:2512.41480\n",
      "[3]\tvalidation_0-eh_likelihood:2494.22310\n",
      "[4]\tvalidation_0-eh_likelihood:2478.02868\n",
      "[5]\tvalidation_0-eh_likelihood:2462.96059\n",
      "[6]\tvalidation_0-eh_likelihood:2446.73866\n",
      "[7]\tvalidation_0-eh_likelihood:2431.53712\n",
      "[8]\tvalidation_0-eh_likelihood:2411.84648\n",
      "[9]\tvalidation_0-eh_likelihood:2393.25036\n",
      "[10]\tvalidation_0-eh_likelihood:2374.98230\n",
      "[11]\tvalidation_0-eh_likelihood:2363.36467\n",
      "[12]\tvalidation_0-eh_likelihood:2344.40236\n",
      "[13]\tvalidation_0-eh_likelihood:2324.87357\n",
      "[14]\tvalidation_0-eh_likelihood:2310.77148\n",
      "[15]\tvalidation_0-eh_likelihood:2298.65693\n",
      "[16]\tvalidation_0-eh_likelihood:2281.13993\n",
      "[17]\tvalidation_0-eh_likelihood:2270.45760\n",
      "[18]\tvalidation_0-eh_likelihood:2255.04798\n",
      "[19]\tvalidation_0-eh_likelihood:2241.23318\n",
      "[20]\tvalidation_0-eh_likelihood:2230.54081\n",
      "[21]\tvalidation_0-eh_likelihood:2217.60103\n",
      "[22]\tvalidation_0-eh_likelihood:2199.66027\n",
      "[23]\tvalidation_0-eh_likelihood:2194.20843\n",
      "[24]\tvalidation_0-eh_likelihood:2184.06245\n",
      "[25]\tvalidation_0-eh_likelihood:2173.65868\n",
      "[26]\tvalidation_0-eh_likelihood:2166.53587\n",
      "[27]\tvalidation_0-eh_likelihood:2158.98953\n",
      "[28]\tvalidation_0-eh_likelihood:2153.89456\n",
      "[29]\tvalidation_0-eh_likelihood:2146.69412\n",
      "[30]\tvalidation_0-eh_likelihood:2138.33622\n",
      "[31]\tvalidation_0-eh_likelihood:2130.32653\n",
      "[32]\tvalidation_0-eh_likelihood:2125.07316\n",
      "[33]\tvalidation_0-eh_likelihood:2120.78927\n",
      "[34]\tvalidation_0-eh_likelihood:2117.11073\n",
      "[35]\tvalidation_0-eh_likelihood:2111.42661\n",
      "[36]\tvalidation_0-eh_likelihood:2105.54122\n",
      "[37]\tvalidation_0-eh_likelihood:2103.24914\n",
      "[38]\tvalidation_0-eh_likelihood:2101.44486\n",
      "[39]\tvalidation_0-eh_likelihood:2100.26394\n",
      "[40]\tvalidation_0-eh_likelihood:2096.85619\n",
      "[41]\tvalidation_0-eh_likelihood:2094.64251\n",
      "[42]\tvalidation_0-eh_likelihood:2091.76084\n",
      "[43]\tvalidation_0-eh_likelihood:2090.77789\n",
      "[44]\tvalidation_0-eh_likelihood:2087.40682\n",
      "[45]\tvalidation_0-eh_likelihood:2083.67752\n",
      "[46]\tvalidation_0-eh_likelihood:2079.95242\n",
      "[47]\tvalidation_0-eh_likelihood:2077.77451\n",
      "[48]\tvalidation_0-eh_likelihood:2075.41413\n",
      "[49]\tvalidation_0-eh_likelihood:2072.68699\n",
      "[50]\tvalidation_0-eh_likelihood:2070.09729\n",
      "[51]\tvalidation_0-eh_likelihood:2067.50797\n",
      "[52]\tvalidation_0-eh_likelihood:2063.90482\n",
      "[53]\tvalidation_0-eh_likelihood:2060.61190\n",
      "[54]\tvalidation_0-eh_likelihood:2058.66471\n",
      "[55]\tvalidation_0-eh_likelihood:2056.70802\n",
      "[56]\tvalidation_0-eh_likelihood:2054.93418\n",
      "[57]\tvalidation_0-eh_likelihood:2051.09911\n",
      "[58]\tvalidation_0-eh_likelihood:2044.41514\n",
      "[59]\tvalidation_0-eh_likelihood:2037.79217\n",
      "[60]\tvalidation_0-eh_likelihood:2033.68665\n",
      "[61]\tvalidation_0-eh_likelihood:2028.34352\n",
      "[62]\tvalidation_0-eh_likelihood:2025.49252\n",
      "[63]\tvalidation_0-eh_likelihood:2022.20761\n",
      "[64]\tvalidation_0-eh_likelihood:2019.43730\n",
      "[65]\tvalidation_0-eh_likelihood:2018.04837\n",
      "[66]\tvalidation_0-eh_likelihood:2016.23268\n",
      "[67]\tvalidation_0-eh_likelihood:2015.48281\n",
      "[68]\tvalidation_0-eh_likelihood:2014.23565\n",
      "[69]\tvalidation_0-eh_likelihood:2011.69711\n",
      "[70]\tvalidation_0-eh_likelihood:2010.89838\n",
      "[71]\tvalidation_0-eh_likelihood:2009.33945\n",
      "[72]\tvalidation_0-eh_likelihood:2009.00917\n",
      "[73]\tvalidation_0-eh_likelihood:2008.22865\n",
      "[74]\tvalidation_0-eh_likelihood:2007.98140\n",
      "[75]\tvalidation_0-eh_likelihood:2007.64711\n",
      "[76]\tvalidation_0-eh_likelihood:2006.74342\n",
      "[77]\tvalidation_0-eh_likelihood:2006.89934\n",
      "[78]\tvalidation_0-eh_likelihood:2005.47789\n",
      "[79]\tvalidation_0-eh_likelihood:2005.81620\n",
      "[80]\tvalidation_0-eh_likelihood:2004.72394\n",
      "[81]\tvalidation_0-eh_likelihood:2004.85736\n",
      "[82]\tvalidation_0-eh_likelihood:2003.99075\n",
      "[83]\tvalidation_0-eh_likelihood:2004.15095\n",
      "[84]\tvalidation_0-eh_likelihood:2003.61207\n",
      "[85]\tvalidation_0-eh_likelihood:2003.44419\n",
      "[86]\tvalidation_0-eh_likelihood:2002.81857\n",
      "[87]\tvalidation_0-eh_likelihood:2002.75587\n",
      "[88]\tvalidation_0-eh_likelihood:2001.80105\n",
      "[89]\tvalidation_0-eh_likelihood:2001.95691\n",
      "[90]\tvalidation_0-eh_likelihood:2000.82368\n",
      "[91]\tvalidation_0-eh_likelihood:2000.32437\n",
      "[92]\tvalidation_0-eh_likelihood:1998.53904\n",
      "[93]\tvalidation_0-eh_likelihood:1998.47786\n",
      "[94]\tvalidation_0-eh_likelihood:1997.61710\n",
      "[95]\tvalidation_0-eh_likelihood:1997.30450\n",
      "[96]\tvalidation_0-eh_likelihood:1994.29411\n",
      "[97]\tvalidation_0-eh_likelihood:1994.39805\n",
      "[98]\tvalidation_0-eh_likelihood:1991.95599\n",
      "[99]\tvalidation_0-eh_likelihood:1992.10084\n"
     ]
    },
    {
     "data": {
      "text/html": [
       "<style>#sk-container-id-2 {color: black;background-color: white;}#sk-container-id-2 pre{padding: 0;}#sk-container-id-2 div.sk-toggleable {background-color: white;}#sk-container-id-2 label.sk-toggleable__label {cursor: pointer;display: block;width: 100%;margin-bottom: 0;padding: 0.3em;box-sizing: border-box;text-align: center;}#sk-container-id-2 label.sk-toggleable__label-arrow:before {content: \"▸\";float: left;margin-right: 0.25em;color: #696969;}#sk-container-id-2 label.sk-toggleable__label-arrow:hover:before {color: black;}#sk-container-id-2 div.sk-estimator:hover label.sk-toggleable__label-arrow:before {color: black;}#sk-container-id-2 div.sk-toggleable__content {max-height: 0;max-width: 0;overflow: hidden;text-align: left;background-color: #f0f8ff;}#sk-container-id-2 div.sk-toggleable__content pre {margin: 0.2em;color: black;border-radius: 0.25em;background-color: #f0f8ff;}#sk-container-id-2 input.sk-toggleable__control:checked~div.sk-toggleable__content {max-height: 200px;max-width: 100%;overflow: auto;}#sk-container-id-2 input.sk-toggleable__control:checked~label.sk-toggleable__label-arrow:before {content: \"▾\";}#sk-container-id-2 div.sk-estimator input.sk-toggleable__control:checked~label.sk-toggleable__label {background-color: #d4ebff;}#sk-container-id-2 div.sk-label input.sk-toggleable__control:checked~label.sk-toggleable__label {background-color: #d4ebff;}#sk-container-id-2 input.sk-hidden--visually {border: 0;clip: rect(1px 1px 1px 1px);clip: rect(1px, 1px, 1px, 1px);height: 1px;margin: -1px;overflow: hidden;padding: 0;position: absolute;width: 1px;}#sk-container-id-2 div.sk-estimator {font-family: monospace;background-color: #f0f8ff;border: 1px dotted black;border-radius: 0.25em;box-sizing: border-box;margin-bottom: 0.5em;}#sk-container-id-2 div.sk-estimator:hover {background-color: #d4ebff;}#sk-container-id-2 div.sk-parallel-item::after {content: \"\";width: 100%;border-bottom: 1px solid gray;flex-grow: 1;}#sk-container-id-2 div.sk-label:hover label.sk-toggleable__label {background-color: #d4ebff;}#sk-container-id-2 div.sk-serial::before {content: \"\";position: absolute;border-left: 1px solid gray;box-sizing: border-box;top: 0;bottom: 0;left: 50%;z-index: 0;}#sk-container-id-2 div.sk-serial {display: flex;flex-direction: column;align-items: center;background-color: white;padding-right: 0.2em;padding-left: 0.2em;position: relative;}#sk-container-id-2 div.sk-item {position: relative;z-index: 1;}#sk-container-id-2 div.sk-parallel {display: flex;align-items: stretch;justify-content: center;background-color: white;position: relative;}#sk-container-id-2 div.sk-item::before, #sk-container-id-2 div.sk-parallel-item::before {content: \"\";position: absolute;border-left: 1px solid gray;box-sizing: border-box;top: 0;bottom: 0;left: 50%;z-index: -1;}#sk-container-id-2 div.sk-parallel-item {display: flex;flex-direction: column;z-index: 1;position: relative;background-color: white;}#sk-container-id-2 div.sk-parallel-item:first-child::after {align-self: flex-end;width: 50%;}#sk-container-id-2 div.sk-parallel-item:last-child::after {align-self: flex-start;width: 50%;}#sk-container-id-2 div.sk-parallel-item:only-child::after {width: 0;}#sk-container-id-2 div.sk-dashed-wrapped {border: 1px dashed gray;margin: 0 0.4em 0.5em 0.4em;box-sizing: border-box;padding-bottom: 0.4em;background-color: white;}#sk-container-id-2 div.sk-label label {font-family: monospace;font-weight: bold;display: inline-block;line-height: 1.2em;}#sk-container-id-2 div.sk-label-container {text-align: center;}#sk-container-id-2 div.sk-container {/* jupyter's `normalize.less` sets `[hidden] { display: none; }` but bootstrap.min.css set `[hidden] { display: none !important; }` so we also need the `!important` here to be able to override the default hidden behavior on the sphinx rendered scikit-learn.org. See: https://github.com/scikit-learn/scikit-learn/issues/21755 */display: inline-block !important;position: relative;}#sk-container-id-2 div.sk-text-repr-fallback {display: none;}</style><div id=\"sk-container-id-2\" class=\"sk-top-container\"><div class=\"sk-text-repr-fallback\"><pre>XGBSurv(base_score=None, booster=None, callbacks=None, colsample_bylevel=None,\n",
       "        colsample_bynode=None, colsample_bytree=None,\n",
       "        disable_default_eval_metric=1, early_stopping_rounds=None,\n",
       "        enable_categorical=False,\n",
       "        eval_metric=CPUDispatcher(&lt;function eh_likelihood at 0x29f2eaa20&gt;),\n",
       "        feature_types=None, gamma=None, gpu_id=None, grow_policy=None,\n",
       "        importance_type=None, interaction_constraints=None, learning_rate=0.3,\n",
       "        max_bin=None, max_cat_threshold=None, max_cat_to_onehot=None,\n",
       "        max_delta_step=None, max_depth=None, max_leaves=None,\n",
       "        min_child_weight=None, missing=nan, monotone_constraints=None,\n",
       "        n_estimators=100, n_jobs=None, num_parallel_tree=None,\n",
       "        objective=CPUDispatcher(&lt;function eh_objective at 0x29f2eb1a0&gt;), ...)</pre><b>In a Jupyter environment, please rerun this cell to show the HTML representation or trust the notebook. <br />On GitHub, the HTML representation is unable to render, please try loading this page with nbviewer.org.</b></div><div class=\"sk-container\" hidden><div class=\"sk-item\"><div class=\"sk-estimator sk-toggleable\"><input class=\"sk-toggleable__control sk-hidden--visually\" id=\"sk-estimator-id-2\" type=\"checkbox\" checked><label for=\"sk-estimator-id-2\" class=\"sk-toggleable__label sk-toggleable__label-arrow\">XGBSurv</label><div class=\"sk-toggleable__content\"><pre>XGBSurv(base_score=None, booster=None, callbacks=None, colsample_bylevel=None,\n",
       "        colsample_bynode=None, colsample_bytree=None,\n",
       "        disable_default_eval_metric=1, early_stopping_rounds=None,\n",
       "        enable_categorical=False,\n",
       "        eval_metric=CPUDispatcher(&lt;function eh_likelihood at 0x29f2eaa20&gt;),\n",
       "        feature_types=None, gamma=None, gpu_id=None, grow_policy=None,\n",
       "        importance_type=None, interaction_constraints=None, learning_rate=0.3,\n",
       "        max_bin=None, max_cat_threshold=None, max_cat_to_onehot=None,\n",
       "        max_delta_step=None, max_depth=None, max_leaves=None,\n",
       "        min_child_weight=None, missing=nan, monotone_constraints=None,\n",
       "        n_estimators=100, n_jobs=None, num_parallel_tree=None,\n",
       "        objective=CPUDispatcher(&lt;function eh_objective at 0x29f2eb1a0&gt;), ...)</pre></div></div></div></div></div>"
      ],
      "text/plain": [
       "XGBSurv(base_score=None, booster=None, callbacks=None, colsample_bylevel=None,\n",
       "        colsample_bynode=None, colsample_bytree=None,\n",
       "        disable_default_eval_metric=1, early_stopping_rounds=None,\n",
       "        enable_categorical=False,\n",
       "        eval_metric=CPUDispatcher(<function eh_likelihood at 0x29f2eaa20>),\n",
       "        feature_types=None, gamma=None, gpu_id=None, grow_policy=None,\n",
       "        importance_type=None, interaction_constraints=None, learning_rate=0.3,\n",
       "        max_bin=None, max_cat_threshold=None, max_cat_to_onehot=None,\n",
       "        max_delta_step=None, max_depth=None, max_leaves=None,\n",
       "        min_child_weight=None, missing=nan, monotone_constraints=None,\n",
       "        n_estimators=100, n_jobs=None, num_parallel_tree=None,\n",
       "        objective=CPUDispatcher(<function eh_objective at 0x29f2eb1a0>), ...)"
      ]
     },
     "execution_count": 6,
     "metadata": {},
     "output_type": "execute_result"
    }
   ],
   "source": [
    "model.fit(X_train, y_train, eval_set=eval_set)"
   ]
  },
  {
   "attachments": {},
   "cell_type": "markdown",
   "metadata": {},
   "source": [
    "The model can be saved like below. Note that objective and eval_metric are not saved."
   ]
  },
  {
   "cell_type": "code",
   "execution_count": 7,
   "metadata": {},
   "outputs": [],
   "source": [
    "#model.save_model(\"introduction_model_breslow.json\")"
   ]
  },
  {
   "attachments": {},
   "cell_type": "markdown",
   "metadata": {},
   "source": [
    "## Predict"
   ]
  },
  {
   "cell_type": "code",
   "execution_count": 8,
   "metadata": {},
   "outputs": [],
   "source": [
    "preds_train = model.predict(X_train, output_margin=True)\n",
    "preds_test = model.predict(X_test, output_margin=True)"
   ]
  },
  {
   "attachments": {},
   "cell_type": "markdown",
   "metadata": {},
   "source": [
    "### Predict Cumulative Hazard"
   ]
  },
  {
   "cell_type": "code",
   "execution_count": 9,
   "metadata": {},
   "outputs": [
    {
     "name": "stdout",
     "output_type": "stream",
     "text": [
      "integration_values.shape[0] 86901\n"
     ]
    },
    {
     "data": {
      "text/html": [
       "<div>\n",
       "<style scoped>\n",
       "    .dataframe tbody tr th:only-of-type {\n",
       "        vertical-align: middle;\n",
       "    }\n",
       "\n",
       "    .dataframe tbody tr th {\n",
       "        vertical-align: top;\n",
       "    }\n",
       "\n",
       "    .dataframe thead th {\n",
       "        text-align: right;\n",
       "    }\n",
       "</style>\n",
       "<table border=\"1\" class=\"dataframe\">\n",
       "  <thead>\n",
       "    <tr style=\"text-align: right;\">\n",
       "      <th></th>\n",
       "      <th>0</th>\n",
       "      <th>1</th>\n",
       "      <th>2</th>\n",
       "      <th>3</th>\n",
       "      <th>4</th>\n",
       "      <th>5</th>\n",
       "      <th>6</th>\n",
       "      <th>7</th>\n",
       "      <th>8</th>\n",
       "      <th>9</th>\n",
       "      <th>...</th>\n",
       "      <th>466</th>\n",
       "      <th>467</th>\n",
       "      <th>468</th>\n",
       "      <th>469</th>\n",
       "      <th>470</th>\n",
       "      <th>471</th>\n",
       "      <th>472</th>\n",
       "      <th>473</th>\n",
       "      <th>474</th>\n",
       "      <th>475</th>\n",
       "    </tr>\n",
       "  </thead>\n",
       "  <tbody>\n",
       "    <tr>\n",
       "      <th>330.366669</th>\n",
       "      <td>3.888181</td>\n",
       "      <td>3.823744</td>\n",
       "      <td>4.857979</td>\n",
       "      <td>1.779695</td>\n",
       "      <td>3.939373</td>\n",
       "      <td>1.652309</td>\n",
       "      <td>0.803642</td>\n",
       "      <td>1.277773</td>\n",
       "      <td>1.338319</td>\n",
       "      <td>2.815945</td>\n",
       "      <td>...</td>\n",
       "      <td>1.642548</td>\n",
       "      <td>0.830301</td>\n",
       "      <td>1.651918</td>\n",
       "      <td>1.521499</td>\n",
       "      <td>1.856451</td>\n",
       "      <td>0.500144</td>\n",
       "      <td>0.842642</td>\n",
       "      <td>0.921914</td>\n",
       "      <td>2.700545</td>\n",
       "      <td>1.216579</td>\n",
       "    </tr>\n",
       "    <tr>\n",
       "      <th>337.033325</th>\n",
       "      <td>4.025812</td>\n",
       "      <td>3.940147</td>\n",
       "      <td>4.952122</td>\n",
       "      <td>1.808092</td>\n",
       "      <td>3.940907</td>\n",
       "      <td>1.662403</td>\n",
       "      <td>0.813504</td>\n",
       "      <td>1.278195</td>\n",
       "      <td>1.351280</td>\n",
       "      <td>2.817008</td>\n",
       "      <td>...</td>\n",
       "      <td>1.646744</td>\n",
       "      <td>0.839756</td>\n",
       "      <td>1.657544</td>\n",
       "      <td>1.527373</td>\n",
       "      <td>1.864166</td>\n",
       "      <td>0.504906</td>\n",
       "      <td>0.842929</td>\n",
       "      <td>0.936317</td>\n",
       "      <td>2.702076</td>\n",
       "      <td>1.245597</td>\n",
       "    </tr>\n",
       "    <tr>\n",
       "      <th>355.200012</th>\n",
       "      <td>4.384312</td>\n",
       "      <td>4.239062</td>\n",
       "      <td>5.178520</td>\n",
       "      <td>1.874847</td>\n",
       "      <td>3.943890</td>\n",
       "      <td>1.684638</td>\n",
       "      <td>0.836283</td>\n",
       "      <td>1.279016</td>\n",
       "      <td>1.380465</td>\n",
       "      <td>2.819099</td>\n",
       "      <td>...</td>\n",
       "      <td>1.655520</td>\n",
       "      <td>0.861281</td>\n",
       "      <td>1.669244</td>\n",
       "      <td>1.539838</td>\n",
       "      <td>1.880532</td>\n",
       "      <td>0.515611</td>\n",
       "      <td>0.843486</td>\n",
       "      <td>0.970072</td>\n",
       "      <td>2.705102</td>\n",
       "      <td>1.316503</td>\n",
       "    </tr>\n",
       "  </tbody>\n",
       "</table>\n",
       "<p>3 rows × 476 columns</p>\n",
       "</div>"
      ],
      "text/plain": [
       "                 0         1         2         3         4         5    \\\n",
       "330.366669  3.888181  3.823744  4.857979  1.779695  3.939373  1.652309   \n",
       "337.033325  4.025812  3.940147  4.952122  1.808092  3.940907  1.662403   \n",
       "355.200012  4.384312  4.239062  5.178520  1.874847  3.943890  1.684638   \n",
       "\n",
       "                 6         7         8         9    ...       466       467  \\\n",
       "330.366669  0.803642  1.277773  1.338319  2.815945  ...  1.642548  0.830301   \n",
       "337.033325  0.813504  1.278195  1.351280  2.817008  ...  1.646744  0.839756   \n",
       "355.200012  0.836283  1.279016  1.380465  2.819099  ...  1.655520  0.861281   \n",
       "\n",
       "                 468       469       470       471       472       473  \\\n",
       "330.366669  1.651918  1.521499  1.856451  0.500144  0.842642  0.921914   \n",
       "337.033325  1.657544  1.527373  1.864166  0.504906  0.842929  0.936317   \n",
       "355.200012  1.669244  1.539838  1.880532  0.515611  0.843486  0.970072   \n",
       "\n",
       "                 474       475  \n",
       "330.366669  2.700545  1.216579  \n",
       "337.033325  2.702076  1.245597  \n",
       "355.200012  2.705102  1.316503  \n",
       "\n",
       "[3 rows x 476 columns]"
      ]
     },
     "execution_count": 9,
     "metadata": {},
     "output_type": "execute_result"
    }
   ],
   "source": [
    "df_cum_hazards = model.predict_cumulative_hazard_function(X_train.to_numpy(), X_test.to_numpy(), y_train.to_numpy(), y_test.to_numpy())\n",
    "df_cum_hazards.tail(3)"
   ]
  },
  {
   "attachments": {},
   "cell_type": "markdown",
   "metadata": {},
   "source": [
    "## Predict Survival Function"
   ]
  },
  {
   "cell_type": "code",
   "execution_count": 10,
   "metadata": {},
   "outputs": [
    {
     "name": "stdout",
     "output_type": "stream",
     "text": [
      "integration_values.shape[0] 86901\n"
     ]
    },
    {
     "data": {
      "text/html": [
       "<div>\n",
       "<style scoped>\n",
       "    .dataframe tbody tr th:only-of-type {\n",
       "        vertical-align: middle;\n",
       "    }\n",
       "\n",
       "    .dataframe tbody tr th {\n",
       "        vertical-align: top;\n",
       "    }\n",
       "\n",
       "    .dataframe thead th {\n",
       "        text-align: right;\n",
       "    }\n",
       "</style>\n",
       "<table border=\"1\" class=\"dataframe\">\n",
       "  <thead>\n",
       "    <tr style=\"text-align: right;\">\n",
       "      <th></th>\n",
       "      <th>0</th>\n",
       "      <th>1</th>\n",
       "      <th>2</th>\n",
       "      <th>3</th>\n",
       "      <th>4</th>\n",
       "      <th>5</th>\n",
       "      <th>6</th>\n",
       "      <th>7</th>\n",
       "      <th>8</th>\n",
       "      <th>9</th>\n",
       "      <th>...</th>\n",
       "      <th>466</th>\n",
       "      <th>467</th>\n",
       "      <th>468</th>\n",
       "      <th>469</th>\n",
       "      <th>470</th>\n",
       "      <th>471</th>\n",
       "      <th>472</th>\n",
       "      <th>473</th>\n",
       "      <th>474</th>\n",
       "      <th>475</th>\n",
       "    </tr>\n",
       "  </thead>\n",
       "  <tbody>\n",
       "    <tr>\n",
       "      <th>330.366669</th>\n",
       "      <td>0.020483</td>\n",
       "      <td>0.021846</td>\n",
       "      <td>0.007766</td>\n",
       "      <td>0.168690</td>\n",
       "      <td>0.019460</td>\n",
       "      <td>0.191607</td>\n",
       "      <td>0.447696</td>\n",
       "      <td>0.278657</td>\n",
       "      <td>0.262286</td>\n",
       "      <td>0.059848</td>\n",
       "      <td>...</td>\n",
       "      <td>0.193486</td>\n",
       "      <td>0.435918</td>\n",
       "      <td>0.191682</td>\n",
       "      <td>0.218384</td>\n",
       "      <td>0.156226</td>\n",
       "      <td>0.606443</td>\n",
       "      <td>0.430572</td>\n",
       "      <td>0.397757</td>\n",
       "      <td>0.067169</td>\n",
       "      <td>0.296242</td>\n",
       "    </tr>\n",
       "    <tr>\n",
       "      <th>337.033325</th>\n",
       "      <td>0.017849</td>\n",
       "      <td>0.019445</td>\n",
       "      <td>0.007068</td>\n",
       "      <td>0.163967</td>\n",
       "      <td>0.019431</td>\n",
       "      <td>0.189683</td>\n",
       "      <td>0.443302</td>\n",
       "      <td>0.278540</td>\n",
       "      <td>0.258909</td>\n",
       "      <td>0.059785</td>\n",
       "      <td>...</td>\n",
       "      <td>0.192676</td>\n",
       "      <td>0.431816</td>\n",
       "      <td>0.190606</td>\n",
       "      <td>0.217105</td>\n",
       "      <td>0.155026</td>\n",
       "      <td>0.603562</td>\n",
       "      <td>0.430448</td>\n",
       "      <td>0.392069</td>\n",
       "      <td>0.067066</td>\n",
       "      <td>0.287769</td>\n",
       "    </tr>\n",
       "    <tr>\n",
       "      <th>355.200012</th>\n",
       "      <td>0.012471</td>\n",
       "      <td>0.014421</td>\n",
       "      <td>0.005636</td>\n",
       "      <td>0.153378</td>\n",
       "      <td>0.019373</td>\n",
       "      <td>0.185512</td>\n",
       "      <td>0.433318</td>\n",
       "      <td>0.278311</td>\n",
       "      <td>0.251462</td>\n",
       "      <td>0.059660</td>\n",
       "      <td>...</td>\n",
       "      <td>0.190993</td>\n",
       "      <td>0.422620</td>\n",
       "      <td>0.188389</td>\n",
       "      <td>0.214416</td>\n",
       "      <td>0.152509</td>\n",
       "      <td>0.597136</td>\n",
       "      <td>0.430208</td>\n",
       "      <td>0.379056</td>\n",
       "      <td>0.066864</td>\n",
       "      <td>0.268071</td>\n",
       "    </tr>\n",
       "  </tbody>\n",
       "</table>\n",
       "<p>3 rows × 476 columns</p>\n",
       "</div>"
      ],
      "text/plain": [
       "                 0         1         2         3         4         5    \\\n",
       "330.366669  0.020483  0.021846  0.007766  0.168690  0.019460  0.191607   \n",
       "337.033325  0.017849  0.019445  0.007068  0.163967  0.019431  0.189683   \n",
       "355.200012  0.012471  0.014421  0.005636  0.153378  0.019373  0.185512   \n",
       "\n",
       "                 6         7         8         9    ...       466       467  \\\n",
       "330.366669  0.447696  0.278657  0.262286  0.059848  ...  0.193486  0.435918   \n",
       "337.033325  0.443302  0.278540  0.258909  0.059785  ...  0.192676  0.431816   \n",
       "355.200012  0.433318  0.278311  0.251462  0.059660  ...  0.190993  0.422620   \n",
       "\n",
       "                 468       469       470       471       472       473  \\\n",
       "330.366669  0.191682  0.218384  0.156226  0.606443  0.430572  0.397757   \n",
       "337.033325  0.190606  0.217105  0.155026  0.603562  0.430448  0.392069   \n",
       "355.200012  0.188389  0.214416  0.152509  0.597136  0.430208  0.379056   \n",
       "\n",
       "                 474       475  \n",
       "330.366669  0.067169  0.296242  \n",
       "337.033325  0.067066  0.287769  \n",
       "355.200012  0.066864  0.268071  \n",
       "\n",
       "[3 rows x 476 columns]"
      ]
     },
     "execution_count": 10,
     "metadata": {},
     "output_type": "execute_result"
    }
   ],
   "source": [
    "df_survival_function = model.predict_survival_function(X_train.to_numpy(), X_test.to_numpy(), y_train.to_numpy(), y_test.to_numpy())\n",
    "df_survival_function.tail(3)"
   ]
  },
  {
   "attachments": {},
   "cell_type": "markdown",
   "metadata": {},
   "source": [
    "### Visualize Predictions"
   ]
  },
  {
   "cell_type": "code",
   "execution_count": 11,
   "metadata": {},
   "outputs": [
    {
     "data": {
      "text/plain": [
       "Text(0.5, 1.0, 'Cumulative Hazard EH')"
      ]
     },
     "execution_count": 11,
     "metadata": {},
     "output_type": "execute_result"
    },
    {
     "data": {
      "image/png": "[encoded data removed]",
      "text/plain": [
       "<Figure size 640x480 with 1 Axes>"
      ]
     },
     "metadata": {},
     "output_type": "display_data"
    }
   ],
   "source": [
    "df_cum_hazards.iloc[:, :5].plot(drawstyle='steps-post')\n",
    "plt.ylabel('S(t | x)')\n",
    "_ = plt.xlabel('Time')\n",
    "plt.title(\"Cumulative Hazard EH\")"
   ]
  },
  {
   "cell_type": "code",
   "execution_count": 12,
   "metadata": {},
   "outputs": [
    {
     "data": {
      "text/plain": [
       "Text(0.5, 1.0, 'Survival Curve EH')"
      ]
     },
     "execution_count": 12,
     "metadata": {},
     "output_type": "execute_result"
    },
    {
     "data": {
      "image/png": "[encoded data removed]",
      "text/plain": [
       "<Figure size 640x480 with 1 Axes>"
      ]
     },
     "metadata": {},
     "output_type": "display_data"
    }
   ],
   "source": [
    "df_survival_function.iloc[:, :5].plot(drawstyle='steps-post')\n",
    "plt.ylabel('S(t | x)')\n",
    "_ = plt.xlabel('Time')\n",
    "plt.title(\"Survival Curve EH\")"
   ]
  },
  {
   "attachments": {},
   "cell_type": "markdown",
   "metadata": {},
   "source": [
    "## Evaluate"
   ]
  },
  {
   "attachments": {},
   "cell_type": "markdown",
   "metadata": {},
   "source": [
    "### Test"
   ]
  },
  {
   "cell_type": "code",
   "execution_count": 13,
   "metadata": {},
   "outputs": [
    {
     "name": "stdout",
     "output_type": "stream",
     "text": [
      "Concordance Index 0.602072461421579\n"
     ]
    }
   ],
   "source": [
    "durations_test, events_test = transform_back(y_test.values)\n",
    "time_grid = np.linspace(durations_test.min(), durations_test.max(), 100)\n",
    "ev = EvalSurv(df_survival_function, durations_test, events_test, censor_surv='km')\n",
    "print('Concordance Index',ev.concordance_td('antolini'))"
   ]
  },
  {
   "cell_type": "code",
   "execution_count": 14,
   "metadata": {},
   "outputs": [
    {
     "name": "stdout",
     "output_type": "stream",
     "text": [
      "Integrated Brier Score: 0.1829188598307272\n"
     ]
    }
   ],
   "source": [
    "print('Integrated Brier Score:',ev.integrated_brier_score(time_grid))"
   ]
  },
  {
   "cell_type": "code",
   "execution_count": null,
   "metadata": {},
   "outputs": [],
   "source": []
  }
 ],
 "metadata": {
  "kernelspec": {
   "display_name": "xgbsurv",
   "language": "python",
   "name": "python3"
  },
  "language_info": {
   "codemirror_mode": {
    "name": "ipython",
    "version": 3
   },
   "file_extension": ".py",
   "mimetype": "text/x-python",
   "name": "python",
   "nbconvert_exporter": "python",
   "pygments_lexer": "ipython3",
   "version": "3.11.3"
  },
  "orig_nbformat": 4
 },
 "nbformat": 4,
 "nbformat_minor": 2
}
