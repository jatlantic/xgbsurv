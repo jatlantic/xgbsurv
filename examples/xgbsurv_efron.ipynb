{
 "cells": [
  {
   "attachments": {},
   "cell_type": "markdown",
   "metadata": {},
   "source": [
    "# Introduction to the xgbsurv package - Efron\n",
    "\n",
    "This notebook introduces `xgbsurv` using a specific dataset. It structured by the following steps:\n",
    "\n",
    "- Load data\n",
    "- Load model\n",
    "- Fit model\n",
    "- Predict and evaluate model\n",
    "\n",
    "The syntax conveniently follows that of sklearn."
   ]
  },
  {
   "cell_type": "code",
   "execution_count": 1,
   "metadata": {},
   "outputs": [],
   "source": [
    "from xgbsurv.datasets import load_metabric\n",
    "from xgbsurv import XGBSurv\n",
    "from xgbsurv.models.utils import sort_X_y, transform_back\n",
    "from pycox.evaluation import EvalSurv\n",
    "from sklearn.model_selection import train_test_split\n",
    "import numpy as np\n",
    "import matplotlib.pyplot as plt\n",
    "import os\n",
    "current_path = os.getcwd() \n",
    "one_level_up = os.path.abspath(os.path.join(current_path,  \"..\"))"
   ]
  },
  {
   "attachments": {},
   "cell_type": "markdown",
   "metadata": {},
   "source": [
    "## Load Data"
   ]
  },
  {
   "cell_type": "code",
   "execution_count": 2,
   "metadata": {},
   "outputs": [
    {
     "name": "stdout",
     "output_type": "stream",
     "text": [
      "Values are being sorted!\n",
      "Values are being sorted!\n"
     ]
    }
   ],
   "source": [
    "data = load_metabric(path=one_level_up+\"/xgbsurv/datasets/data/\", as_frame=False)\n",
    "# stratify by event indicated by sign\n",
    "target_sign = np.sign(data.target)\n",
    "X_train, X_test, y_train, y_test = train_test_split(data.data, data.target, stratify=target_sign)\n",
    "# sort data\n",
    "X_train, y_train = sort_X_y(X_train, y_train)\n",
    "X_test, y_test = sort_X_y(X_test, y_test)"
   ]
  },
  {
   "attachments": {},
   "cell_type": "markdown",
   "metadata": {},
   "source": [
    "## Load Model"
   ]
  },
  {
   "cell_type": "code",
   "execution_count": 3,
   "metadata": {},
   "outputs": [
    {
     "data": {
      "text/html": [
       "<style>#sk-container-id-1 {color: black;background-color: white;}#sk-container-id-1 pre{padding: 0;}#sk-container-id-1 div.sk-toggleable {background-color: white;}#sk-container-id-1 label.sk-toggleable__label {cursor: pointer;display: block;width: 100%;margin-bottom: 0;padding: 0.3em;box-sizing: border-box;text-align: center;}#sk-container-id-1 label.sk-toggleable__label-arrow:before {content: \"▸\";float: left;margin-right: 0.25em;color: #696969;}#sk-container-id-1 label.sk-toggleable__label-arrow:hover:before {color: black;}#sk-container-id-1 div.sk-estimator:hover label.sk-toggleable__label-arrow:before {color: black;}#sk-container-id-1 div.sk-toggleable__content {max-height: 0;max-width: 0;overflow: hidden;text-align: left;background-color: #f0f8ff;}#sk-container-id-1 div.sk-toggleable__content pre {margin: 0.2em;color: black;border-radius: 0.25em;background-color: #f0f8ff;}#sk-container-id-1 input.sk-toggleable__control:checked~div.sk-toggleable__content {max-height: 200px;max-width: 100%;overflow: auto;}#sk-container-id-1 input.sk-toggleable__control:checked~label.sk-toggleable__label-arrow:before {content: \"▾\";}#sk-container-id-1 div.sk-estimator input.sk-toggleable__control:checked~label.sk-toggleable__label {background-color: #d4ebff;}#sk-container-id-1 div.sk-label input.sk-toggleable__control:checked~label.sk-toggleable__label {background-color: #d4ebff;}#sk-container-id-1 input.sk-hidden--visually {border: 0;clip: rect(1px 1px 1px 1px);clip: rect(1px, 1px, 1px, 1px);height: 1px;margin: -1px;overflow: hidden;padding: 0;position: absolute;width: 1px;}#sk-container-id-1 div.sk-estimator {font-family: monospace;background-color: #f0f8ff;border: 1px dotted black;border-radius: 0.25em;box-sizing: border-box;margin-bottom: 0.5em;}#sk-container-id-1 div.sk-estimator:hover {background-color: #d4ebff;}#sk-container-id-1 div.sk-parallel-item::after {content: \"\";width: 100%;border-bottom: 1px solid gray;flex-grow: 1;}#sk-container-id-1 div.sk-label:hover label.sk-toggleable__label {background-color: #d4ebff;}#sk-container-id-1 div.sk-serial::before {content: \"\";position: absolute;border-left: 1px solid gray;box-sizing: border-box;top: 0;bottom: 0;left: 50%;z-index: 0;}#sk-container-id-1 div.sk-serial {display: flex;flex-direction: column;align-items: center;background-color: white;padding-right: 0.2em;padding-left: 0.2em;position: relative;}#sk-container-id-1 div.sk-item {position: relative;z-index: 1;}#sk-container-id-1 div.sk-parallel {display: flex;align-items: stretch;justify-content: center;background-color: white;position: relative;}#sk-container-id-1 div.sk-item::before, #sk-container-id-1 div.sk-parallel-item::before {content: \"\";position: absolute;border-left: 1px solid gray;box-sizing: border-box;top: 0;bottom: 0;left: 50%;z-index: -1;}#sk-container-id-1 div.sk-parallel-item {display: flex;flex-direction: column;z-index: 1;position: relative;background-color: white;}#sk-container-id-1 div.sk-parallel-item:first-child::after {align-self: flex-end;width: 50%;}#sk-container-id-1 div.sk-parallel-item:last-child::after {align-self: flex-start;width: 50%;}#sk-container-id-1 div.sk-parallel-item:only-child::after {width: 0;}#sk-container-id-1 div.sk-dashed-wrapped {border: 1px dashed gray;margin: 0 0.4em 0.5em 0.4em;box-sizing: border-box;padding-bottom: 0.4em;background-color: white;}#sk-container-id-1 div.sk-label label {font-family: monospace;font-weight: bold;display: inline-block;line-height: 1.2em;}#sk-container-id-1 div.sk-label-container {text-align: center;}#sk-container-id-1 div.sk-container {/* jupyter's `normalize.less` sets `[hidden] { display: none; }` but bootstrap.min.css set `[hidden] { display: none !important; }` so we also need the `!important` here to be able to override the default hidden behavior on the sphinx rendered scikit-learn.org. See: https://github.com/scikit-learn/scikit-learn/issues/21755 */display: inline-block !important;position: relative;}#sk-container-id-1 div.sk-text-repr-fallback {display: none;}</style><div id=\"sk-container-id-1\" class=\"sk-top-container\"><div class=\"sk-text-repr-fallback\"><pre>XGBSurv(base_score=None, booster=None, callbacks=None, colsample_bylevel=None,\n",
       "        colsample_bynode=None, colsample_bytree=None,\n",
       "        disable_default_eval_metric=1, early_stopping_rounds=None,\n",
       "        enable_categorical=False,\n",
       "        eval_metric=CPUDispatcher(&lt;function efron_likelihood at 0x136f09b20&gt;),\n",
       "        feature_types=None, gamma=None, gpu_id=None, grow_policy=None,\n",
       "        importance_type=None, interaction_constraints=None, learning_rate=0.3,\n",
       "        max_bin=None, max_cat_threshold=None, max_cat_to_onehot=None,\n",
       "        max_delta_step=None, max_depth=None, max_leaves=None,\n",
       "        min_child_weight=None, missing=nan, monotone_constraints=None,\n",
       "        n_estimators=100, n_jobs=None, num_parallel_tree=None,\n",
       "        objective=CPUDispatcher(&lt;function efron_objective at 0x136f0a2a0&gt;), ...)</pre><b>In a Jupyter environment, please rerun this cell to show the HTML representation or trust the notebook. <br />On GitHub, the HTML representation is unable to render, please try loading this page with nbviewer.org.</b></div><div class=\"sk-container\" hidden><div class=\"sk-item\"><div class=\"sk-estimator sk-toggleable\"><input class=\"sk-toggleable__control sk-hidden--visually\" id=\"sk-estimator-id-1\" type=\"checkbox\" checked><label for=\"sk-estimator-id-1\" class=\"sk-toggleable__label sk-toggleable__label-arrow\">XGBSurv</label><div class=\"sk-toggleable__content\"><pre>XGBSurv(base_score=None, booster=None, callbacks=None, colsample_bylevel=None,\n",
       "        colsample_bynode=None, colsample_bytree=None,\n",
       "        disable_default_eval_metric=1, early_stopping_rounds=None,\n",
       "        enable_categorical=False,\n",
       "        eval_metric=CPUDispatcher(&lt;function efron_likelihood at 0x136f09b20&gt;),\n",
       "        feature_types=None, gamma=None, gpu_id=None, grow_policy=None,\n",
       "        importance_type=None, interaction_constraints=None, learning_rate=0.3,\n",
       "        max_bin=None, max_cat_threshold=None, max_cat_to_onehot=None,\n",
       "        max_delta_step=None, max_depth=None, max_leaves=None,\n",
       "        min_child_weight=None, missing=nan, monotone_constraints=None,\n",
       "        n_estimators=100, n_jobs=None, num_parallel_tree=None,\n",
       "        objective=CPUDispatcher(&lt;function efron_objective at 0x136f0a2a0&gt;), ...)</pre></div></div></div></div></div>"
      ],
      "text/plain": [
       "XGBSurv(base_score=None, booster=None, callbacks=None, colsample_bylevel=None,\n",
       "        colsample_bynode=None, colsample_bytree=None,\n",
       "        disable_default_eval_metric=1, early_stopping_rounds=None,\n",
       "        enable_categorical=False,\n",
       "        eval_metric=CPUDispatcher(<function efron_likelihood at 0x136f09b20>),\n",
       "        feature_types=None, gamma=None, gpu_id=None, grow_policy=None,\n",
       "        importance_type=None, interaction_constraints=None, learning_rate=0.3,\n",
       "        max_bin=None, max_cat_threshold=None, max_cat_to_onehot=None,\n",
       "        max_delta_step=None, max_depth=None, max_leaves=None,\n",
       "        min_child_weight=None, missing=nan, monotone_constraints=None,\n",
       "        n_estimators=100, n_jobs=None, num_parallel_tree=None,\n",
       "        objective=CPUDispatcher(<function efron_objective at 0x136f0a2a0>), ...)"
      ]
     },
     "execution_count": 3,
     "metadata": {},
     "output_type": "execute_result"
    }
   ],
   "source": [
    "model = XGBSurv(n_estimators=100, objective=\"efron_objective\",\n",
    "                                             eval_metric=\"efron_loss\",\n",
    "                                             learning_rate=0.3,\n",
    "                                             random_state=42, \n",
    "                                             disable_default_eval_metric=1,\n",
    "                                             )\n",
    "model"
   ]
  },
  {
   "attachments": {},
   "cell_type": "markdown",
   "metadata": {},
   "source": [
    "The options of loss and objective functions can be obtained like below:"
   ]
  },
  {
   "cell_type": "code",
   "execution_count": 4,
   "metadata": {},
   "outputs": [
    {
     "name": "stdout",
     "output_type": "stream",
     "text": [
      "dict_keys(['breslow_loss', 'efron_loss', 'cind_loss', 'deephit_loss', 'aft_loss', 'ah_loss', 'eh_loss'])\n",
      "dict_keys(['breslow_objective', 'efron_objective', 'cind_objective', 'deephit_objective', 'aft_objective', 'ah_objective', 'eh_objective'])\n"
     ]
    }
   ],
   "source": [
    "print(model.get_loss_functions().keys())\n",
    "print(model.get_objective_functions().keys())"
   ]
  },
  {
   "attachments": {},
   "cell_type": "markdown",
   "metadata": {},
   "source": [
    "## Fit Model"
   ]
  },
  {
   "cell_type": "code",
   "execution_count": 5,
   "metadata": {},
   "outputs": [],
   "source": [
    "eval_set = [(X_train, y_train)]"
   ]
  },
  {
   "cell_type": "code",
   "execution_count": 6,
   "metadata": {},
   "outputs": [
    {
     "name": "stdout",
     "output_type": "stream",
     "text": [
      "[0]\tvalidation_0-efron_likelihood:6.36616\n",
      "[1]\tvalidation_0-efron_likelihood:6.26730\n",
      "[2]\tvalidation_0-efron_likelihood:6.20719\n",
      "[3]\tvalidation_0-efron_likelihood:6.14300\n",
      "[4]\tvalidation_0-efron_likelihood:6.09564\n",
      "[5]\tvalidation_0-efron_likelihood:6.05859\n",
      "[6]\tvalidation_0-efron_likelihood:6.03398\n",
      "[7]\tvalidation_0-efron_likelihood:6.00126\n",
      "[8]\tvalidation_0-efron_likelihood:5.94426\n",
      "[9]\tvalidation_0-efron_likelihood:5.90954\n",
      "[10]\tvalidation_0-efron_likelihood:5.88586\n",
      "[11]\tvalidation_0-efron_likelihood:5.86904\n",
      "[12]\tvalidation_0-efron_likelihood:5.84211\n",
      "[13]\tvalidation_0-efron_likelihood:5.81658\n",
      "[14]\tvalidation_0-efron_likelihood:5.78275\n",
      "[15]\tvalidation_0-efron_likelihood:5.75842\n",
      "[16]\tvalidation_0-efron_likelihood:5.73602\n",
      "[17]\tvalidation_0-efron_likelihood:5.71288\n",
      "[18]\tvalidation_0-efron_likelihood:5.70094\n",
      "[19]\tvalidation_0-efron_likelihood:5.67872\n",
      "[20]\tvalidation_0-efron_likelihood:5.66081\n",
      "[21]\tvalidation_0-efron_likelihood:5.65000\n",
      "[22]\tvalidation_0-efron_likelihood:5.63141\n",
      "[23]\tvalidation_0-efron_likelihood:5.62229\n",
      "[24]\tvalidation_0-efron_likelihood:5.60698\n",
      "[25]\tvalidation_0-efron_likelihood:5.57452\n",
      "[26]\tvalidation_0-efron_likelihood:5.55826\n",
      "[27]\tvalidation_0-efron_likelihood:5.55155\n",
      "[28]\tvalidation_0-efron_likelihood:5.53843\n",
      "[29]\tvalidation_0-efron_likelihood:5.52094\n",
      "[30]\tvalidation_0-efron_likelihood:5.50284\n",
      "[31]\tvalidation_0-efron_likelihood:5.49152\n",
      "[32]\tvalidation_0-efron_likelihood:5.48234\n",
      "[33]\tvalidation_0-efron_likelihood:5.47645\n",
      "[34]\tvalidation_0-efron_likelihood:5.46117\n",
      "[35]\tvalidation_0-efron_likelihood:5.44993\n",
      "[36]\tvalidation_0-efron_likelihood:5.44316\n",
      "[37]\tvalidation_0-efron_likelihood:5.43438\n",
      "[38]\tvalidation_0-efron_likelihood:5.40976\n",
      "[39]\tvalidation_0-efron_likelihood:5.39761\n",
      "[40]\tvalidation_0-efron_likelihood:5.37803\n",
      "[41]\tvalidation_0-efron_likelihood:5.36190\n",
      "[42]\tvalidation_0-efron_likelihood:5.35284\n",
      "[43]\tvalidation_0-efron_likelihood:5.34772\n",
      "[44]\tvalidation_0-efron_likelihood:5.33515\n",
      "[45]\tvalidation_0-efron_likelihood:5.31602\n",
      "[46]\tvalidation_0-efron_likelihood:5.30318\n",
      "[47]\tvalidation_0-efron_likelihood:5.27577\n",
      "[48]\tvalidation_0-efron_likelihood:5.25761\n",
      "[49]\tvalidation_0-efron_likelihood:5.24411\n",
      "[50]\tvalidation_0-efron_likelihood:5.23489\n",
      "[51]\tvalidation_0-efron_likelihood:5.22145\n",
      "[52]\tvalidation_0-efron_likelihood:5.21343\n",
      "[53]\tvalidation_0-efron_likelihood:5.20549\n",
      "[54]\tvalidation_0-efron_likelihood:5.19705\n",
      "[55]\tvalidation_0-efron_likelihood:5.18105\n",
      "[56]\tvalidation_0-efron_likelihood:5.17156\n",
      "[57]\tvalidation_0-efron_likelihood:5.16543\n",
      "[58]\tvalidation_0-efron_likelihood:5.14931\n",
      "[59]\tvalidation_0-efron_likelihood:5.14293\n",
      "[60]\tvalidation_0-efron_likelihood:5.13531\n",
      "[61]\tvalidation_0-efron_likelihood:5.12995\n",
      "[62]\tvalidation_0-efron_likelihood:5.11808\n",
      "[63]\tvalidation_0-efron_likelihood:5.11340\n",
      "[64]\tvalidation_0-efron_likelihood:5.10291\n",
      "[65]\tvalidation_0-efron_likelihood:5.09524\n",
      "[66]\tvalidation_0-efron_likelihood:5.08098\n",
      "[67]\tvalidation_0-efron_likelihood:5.06980\n",
      "[68]\tvalidation_0-efron_likelihood:5.06004\n",
      "[69]\tvalidation_0-efron_likelihood:5.05145\n",
      "[70]\tvalidation_0-efron_likelihood:5.04089\n",
      "[71]\tvalidation_0-efron_likelihood:5.03533\n",
      "[72]\tvalidation_0-efron_likelihood:5.03059\n",
      "[73]\tvalidation_0-efron_likelihood:5.02185\n",
      "[74]\tvalidation_0-efron_likelihood:5.01039\n",
      "[75]\tvalidation_0-efron_likelihood:5.00472\n",
      "[76]\tvalidation_0-efron_likelihood:5.00171\n",
      "[77]\tvalidation_0-efron_likelihood:4.99989\n",
      "[78]\tvalidation_0-efron_likelihood:4.99037\n",
      "[79]\tvalidation_0-efron_likelihood:4.98470\n",
      "[80]\tvalidation_0-efron_likelihood:4.97182\n",
      "[81]\tvalidation_0-efron_likelihood:4.95891\n",
      "[82]\tvalidation_0-efron_likelihood:4.95356\n",
      "[83]\tvalidation_0-efron_likelihood:4.94764\n",
      "[84]\tvalidation_0-efron_likelihood:4.94433\n",
      "[85]\tvalidation_0-efron_likelihood:4.93760\n",
      "[86]\tvalidation_0-efron_likelihood:4.93555\n",
      "[87]\tvalidation_0-efron_likelihood:4.92661\n",
      "[88]\tvalidation_0-efron_likelihood:4.91448\n",
      "[89]\tvalidation_0-efron_likelihood:4.90829\n",
      "[90]\tvalidation_0-efron_likelihood:4.90472\n",
      "[91]\tvalidation_0-efron_likelihood:4.89544\n",
      "[92]\tvalidation_0-efron_likelihood:4.89185\n",
      "[93]\tvalidation_0-efron_likelihood:4.88259\n",
      "[94]\tvalidation_0-efron_likelihood:4.87402\n",
      "[95]\tvalidation_0-efron_likelihood:4.86647\n",
      "[96]\tvalidation_0-efron_likelihood:4.86167\n",
      "[97]\tvalidation_0-efron_likelihood:4.85446\n",
      "[98]\tvalidation_0-efron_likelihood:4.85307\n",
      "[99]\tvalidation_0-efron_likelihood:4.84590\n"
     ]
    },
    {
     "data": {
      "text/html": [
       "<style>#sk-container-id-2 {color: black;background-color: white;}#sk-container-id-2 pre{padding: 0;}#sk-container-id-2 div.sk-toggleable {background-color: white;}#sk-container-id-2 label.sk-toggleable__label {cursor: pointer;display: block;width: 100%;margin-bottom: 0;padding: 0.3em;box-sizing: border-box;text-align: center;}#sk-container-id-2 label.sk-toggleable__label-arrow:before {content: \"▸\";float: left;margin-right: 0.25em;color: #696969;}#sk-container-id-2 label.sk-toggleable__label-arrow:hover:before {color: black;}#sk-container-id-2 div.sk-estimator:hover label.sk-toggleable__label-arrow:before {color: black;}#sk-container-id-2 div.sk-toggleable__content {max-height: 0;max-width: 0;overflow: hidden;text-align: left;background-color: #f0f8ff;}#sk-container-id-2 div.sk-toggleable__content pre {margin: 0.2em;color: black;border-radius: 0.25em;background-color: #f0f8ff;}#sk-container-id-2 input.sk-toggleable__control:checked~div.sk-toggleable__content {max-height: 200px;max-width: 100%;overflow: auto;}#sk-container-id-2 input.sk-toggleable__control:checked~label.sk-toggleable__label-arrow:before {content: \"▾\";}#sk-container-id-2 div.sk-estimator input.sk-toggleable__control:checked~label.sk-toggleable__label {background-color: #d4ebff;}#sk-container-id-2 div.sk-label input.sk-toggleable__control:checked~label.sk-toggleable__label {background-color: #d4ebff;}#sk-container-id-2 input.sk-hidden--visually {border: 0;clip: rect(1px 1px 1px 1px);clip: rect(1px, 1px, 1px, 1px);height: 1px;margin: -1px;overflow: hidden;padding: 0;position: absolute;width: 1px;}#sk-container-id-2 div.sk-estimator {font-family: monospace;background-color: #f0f8ff;border: 1px dotted black;border-radius: 0.25em;box-sizing: border-box;margin-bottom: 0.5em;}#sk-container-id-2 div.sk-estimator:hover {background-color: #d4ebff;}#sk-container-id-2 div.sk-parallel-item::after {content: \"\";width: 100%;border-bottom: 1px solid gray;flex-grow: 1;}#sk-container-id-2 div.sk-label:hover label.sk-toggleable__label {background-color: #d4ebff;}#sk-container-id-2 div.sk-serial::before {content: \"\";position: absolute;border-left: 1px solid gray;box-sizing: border-box;top: 0;bottom: 0;left: 50%;z-index: 0;}#sk-container-id-2 div.sk-serial {display: flex;flex-direction: column;align-items: center;background-color: white;padding-right: 0.2em;padding-left: 0.2em;position: relative;}#sk-container-id-2 div.sk-item {position: relative;z-index: 1;}#sk-container-id-2 div.sk-parallel {display: flex;align-items: stretch;justify-content: center;background-color: white;position: relative;}#sk-container-id-2 div.sk-item::before, #sk-container-id-2 div.sk-parallel-item::before {content: \"\";position: absolute;border-left: 1px solid gray;box-sizing: border-box;top: 0;bottom: 0;left: 50%;z-index: -1;}#sk-container-id-2 div.sk-parallel-item {display: flex;flex-direction: column;z-index: 1;position: relative;background-color: white;}#sk-container-id-2 div.sk-parallel-item:first-child::after {align-self: flex-end;width: 50%;}#sk-container-id-2 div.sk-parallel-item:last-child::after {align-self: flex-start;width: 50%;}#sk-container-id-2 div.sk-parallel-item:only-child::after {width: 0;}#sk-container-id-2 div.sk-dashed-wrapped {border: 1px dashed gray;margin: 0 0.4em 0.5em 0.4em;box-sizing: border-box;padding-bottom: 0.4em;background-color: white;}#sk-container-id-2 div.sk-label label {font-family: monospace;font-weight: bold;display: inline-block;line-height: 1.2em;}#sk-container-id-2 div.sk-label-container {text-align: center;}#sk-container-id-2 div.sk-container {/* jupyter's `normalize.less` sets `[hidden] { display: none; }` but bootstrap.min.css set `[hidden] { display: none !important; }` so we also need the `!important` here to be able to override the default hidden behavior on the sphinx rendered scikit-learn.org. See: https://github.com/scikit-learn/scikit-learn/issues/21755 */display: inline-block !important;position: relative;}#sk-container-id-2 div.sk-text-repr-fallback {display: none;}</style><div id=\"sk-container-id-2\" class=\"sk-top-container\"><div class=\"sk-text-repr-fallback\"><pre>XGBSurv(base_score=None, booster=None, callbacks=None, colsample_bylevel=None,\n",
       "        colsample_bynode=None, colsample_bytree=None,\n",
       "        disable_default_eval_metric=1, early_stopping_rounds=None,\n",
       "        enable_categorical=False,\n",
       "        eval_metric=CPUDispatcher(&lt;function efron_likelihood at 0x136f09b20&gt;),\n",
       "        feature_types=None, gamma=None, gpu_id=None, grow_policy=None,\n",
       "        importance_type=None, interaction_constraints=None, learning_rate=0.3,\n",
       "        max_bin=None, max_cat_threshold=None, max_cat_to_onehot=None,\n",
       "        max_delta_step=None, max_depth=None, max_leaves=None,\n",
       "        min_child_weight=None, missing=nan, monotone_constraints=None,\n",
       "        n_estimators=100, n_jobs=None, num_parallel_tree=None,\n",
       "        objective=CPUDispatcher(&lt;function efron_objective at 0x136f0a2a0&gt;), ...)</pre><b>In a Jupyter environment, please rerun this cell to show the HTML representation or trust the notebook. <br />On GitHub, the HTML representation is unable to render, please try loading this page with nbviewer.org.</b></div><div class=\"sk-container\" hidden><div class=\"sk-item\"><div class=\"sk-estimator sk-toggleable\"><input class=\"sk-toggleable__control sk-hidden--visually\" id=\"sk-estimator-id-2\" type=\"checkbox\" checked><label for=\"sk-estimator-id-2\" class=\"sk-toggleable__label sk-toggleable__label-arrow\">XGBSurv</label><div class=\"sk-toggleable__content\"><pre>XGBSurv(base_score=None, booster=None, callbacks=None, colsample_bylevel=None,\n",
       "        colsample_bynode=None, colsample_bytree=None,\n",
       "        disable_default_eval_metric=1, early_stopping_rounds=None,\n",
       "        enable_categorical=False,\n",
       "        eval_metric=CPUDispatcher(&lt;function efron_likelihood at 0x136f09b20&gt;),\n",
       "        feature_types=None, gamma=None, gpu_id=None, grow_policy=None,\n",
       "        importance_type=None, interaction_constraints=None, learning_rate=0.3,\n",
       "        max_bin=None, max_cat_threshold=None, max_cat_to_onehot=None,\n",
       "        max_delta_step=None, max_depth=None, max_leaves=None,\n",
       "        min_child_weight=None, missing=nan, monotone_constraints=None,\n",
       "        n_estimators=100, n_jobs=None, num_parallel_tree=None,\n",
       "        objective=CPUDispatcher(&lt;function efron_objective at 0x136f0a2a0&gt;), ...)</pre></div></div></div></div></div>"
      ],
      "text/plain": [
       "XGBSurv(base_score=None, booster=None, callbacks=None, colsample_bylevel=None,\n",
       "        colsample_bynode=None, colsample_bytree=None,\n",
       "        disable_default_eval_metric=1, early_stopping_rounds=None,\n",
       "        enable_categorical=False,\n",
       "        eval_metric=CPUDispatcher(<function efron_likelihood at 0x136f09b20>),\n",
       "        feature_types=None, gamma=None, gpu_id=None, grow_policy=None,\n",
       "        importance_type=None, interaction_constraints=None, learning_rate=0.3,\n",
       "        max_bin=None, max_cat_threshold=None, max_cat_to_onehot=None,\n",
       "        max_delta_step=None, max_depth=None, max_leaves=None,\n",
       "        min_child_weight=None, missing=nan, monotone_constraints=None,\n",
       "        n_estimators=100, n_jobs=None, num_parallel_tree=None,\n",
       "        objective=CPUDispatcher(<function efron_objective at 0x136f0a2a0>), ...)"
      ]
     },
     "execution_count": 6,
     "metadata": {},
     "output_type": "execute_result"
    }
   ],
   "source": [
    "model.fit(X_train, y_train, eval_set=eval_set)"
   ]
  },
  {
   "attachments": {},
   "cell_type": "markdown",
   "metadata": {},
   "source": [
    "The model can be saved like below. Note that objective and eval_metric are not saved."
   ]
  },
  {
   "cell_type": "code",
   "execution_count": 7,
   "metadata": {},
   "outputs": [],
   "source": [
    "#model.save_model(\"introduction_model_breslow.json\")"
   ]
  },
  {
   "attachments": {},
   "cell_type": "markdown",
   "metadata": {},
   "source": [
    "## Predict"
   ]
  },
  {
   "cell_type": "code",
   "execution_count": 8,
   "metadata": {},
   "outputs": [],
   "source": [
    "preds_train = model.predict(X_train, output_margin=True)\n",
    "preds_test = model.predict(X_test, output_margin=True)"
   ]
  },
  {
   "attachments": {},
   "cell_type": "markdown",
   "metadata": {},
   "source": [
    "### Predict Cumulative Hazard"
   ]
  },
  {
   "cell_type": "code",
   "execution_count": 9,
   "metadata": {},
   "outputs": [
    {
     "data": {
      "text/html": [
       "<div>\n",
       "<style scoped>\n",
       "    .dataframe tbody tr th:only-of-type {\n",
       "        vertical-align: middle;\n",
       "    }\n",
       "\n",
       "    .dataframe tbody tr th {\n",
       "        vertical-align: top;\n",
       "    }\n",
       "\n",
       "    .dataframe thead th {\n",
       "        text-align: right;\n",
       "    }\n",
       "</style>\n",
       "<table border=\"1\" class=\"dataframe\">\n",
       "  <thead>\n",
       "    <tr style=\"text-align: right;\">\n",
       "      <th></th>\n",
       "      <th>0</th>\n",
       "      <th>1</th>\n",
       "      <th>2</th>\n",
       "      <th>3</th>\n",
       "      <th>4</th>\n",
       "      <th>5</th>\n",
       "      <th>6</th>\n",
       "      <th>7</th>\n",
       "      <th>8</th>\n",
       "      <th>9</th>\n",
       "      <th>...</th>\n",
       "      <th>466</th>\n",
       "      <th>467</th>\n",
       "      <th>468</th>\n",
       "      <th>469</th>\n",
       "      <th>470</th>\n",
       "      <th>471</th>\n",
       "      <th>472</th>\n",
       "      <th>473</th>\n",
       "      <th>474</th>\n",
       "      <th>475</th>\n",
       "    </tr>\n",
       "  </thead>\n",
       "  <tbody>\n",
       "    <tr>\n",
       "      <th>300.866669</th>\n",
       "      <td>74.463939</td>\n",
       "      <td>116.970158</td>\n",
       "      <td>27.543844</td>\n",
       "      <td>5.318452</td>\n",
       "      <td>41.690502</td>\n",
       "      <td>32.806206</td>\n",
       "      <td>2.384339</td>\n",
       "      <td>1.697297</td>\n",
       "      <td>56.511457</td>\n",
       "      <td>87.684205</td>\n",
       "      <td>...</td>\n",
       "      <td>29.452427</td>\n",
       "      <td>19.615538</td>\n",
       "      <td>2581.685851</td>\n",
       "      <td>35.200142</td>\n",
       "      <td>11.188109</td>\n",
       "      <td>6.993424</td>\n",
       "      <td>4.770373</td>\n",
       "      <td>100.350647</td>\n",
       "      <td>2.961003</td>\n",
       "      <td>24.726515</td>\n",
       "    </tr>\n",
       "    <tr>\n",
       "      <th>307.633331</th>\n",
       "      <td>74.463939</td>\n",
       "      <td>116.970158</td>\n",
       "      <td>27.543844</td>\n",
       "      <td>5.318452</td>\n",
       "      <td>41.690502</td>\n",
       "      <td>32.806206</td>\n",
       "      <td>2.384339</td>\n",
       "      <td>1.697297</td>\n",
       "      <td>56.511457</td>\n",
       "      <td>87.684205</td>\n",
       "      <td>...</td>\n",
       "      <td>29.452427</td>\n",
       "      <td>19.615538</td>\n",
       "      <td>2581.685851</td>\n",
       "      <td>35.200142</td>\n",
       "      <td>11.188109</td>\n",
       "      <td>6.993424</td>\n",
       "      <td>4.770373</td>\n",
       "      <td>100.350647</td>\n",
       "      <td>2.961003</td>\n",
       "      <td>24.726515</td>\n",
       "    </tr>\n",
       "    <tr>\n",
       "      <th>318.200012</th>\n",
       "      <td>74.463939</td>\n",
       "      <td>116.970158</td>\n",
       "      <td>27.543844</td>\n",
       "      <td>5.318452</td>\n",
       "      <td>41.690502</td>\n",
       "      <td>32.806206</td>\n",
       "      <td>2.384339</td>\n",
       "      <td>1.697297</td>\n",
       "      <td>56.511457</td>\n",
       "      <td>87.684205</td>\n",
       "      <td>...</td>\n",
       "      <td>29.452427</td>\n",
       "      <td>19.615538</td>\n",
       "      <td>2581.685851</td>\n",
       "      <td>35.200142</td>\n",
       "      <td>11.188109</td>\n",
       "      <td>6.993424</td>\n",
       "      <td>4.770373</td>\n",
       "      <td>100.350647</td>\n",
       "      <td>2.961003</td>\n",
       "      <td>24.726515</td>\n",
       "    </tr>\n",
       "  </tbody>\n",
       "</table>\n",
       "<p>3 rows × 476 columns</p>\n",
       "</div>"
      ],
      "text/plain": [
       "                  0           1          2         3          4          5    \\\n",
       "300.866669  74.463939  116.970158  27.543844  5.318452  41.690502  32.806206   \n",
       "307.633331  74.463939  116.970158  27.543844  5.318452  41.690502  32.806206   \n",
       "318.200012  74.463939  116.970158  27.543844  5.318452  41.690502  32.806206   \n",
       "\n",
       "                 6         7          8          9    ...        466  \\\n",
       "300.866669  2.384339  1.697297  56.511457  87.684205  ...  29.452427   \n",
       "307.633331  2.384339  1.697297  56.511457  87.684205  ...  29.452427   \n",
       "318.200012  2.384339  1.697297  56.511457  87.684205  ...  29.452427   \n",
       "\n",
       "                  467          468        469        470       471       472  \\\n",
       "300.866669  19.615538  2581.685851  35.200142  11.188109  6.993424  4.770373   \n",
       "307.633331  19.615538  2581.685851  35.200142  11.188109  6.993424  4.770373   \n",
       "318.200012  19.615538  2581.685851  35.200142  11.188109  6.993424  4.770373   \n",
       "\n",
       "                   473       474        475  \n",
       "300.866669  100.350647  2.961003  24.726515  \n",
       "307.633331  100.350647  2.961003  24.726515  \n",
       "318.200012  100.350647  2.961003  24.726515  \n",
       "\n",
       "[3 rows x 476 columns]"
      ]
     },
     "execution_count": 9,
     "metadata": {},
     "output_type": "execute_result"
    }
   ],
   "source": [
    "df_cum_hazards = model.predict_cumulative_hazard_function(X_train, X_test, y_train, y_test)\n",
    "df_cum_hazards.tail(3)"
   ]
  },
  {
   "attachments": {},
   "cell_type": "markdown",
   "metadata": {},
   "source": [
    "## Predict Survival Function"
   ]
  },
  {
   "cell_type": "code",
   "execution_count": 10,
   "metadata": {},
   "outputs": [
    {
     "data": {
      "text/html": [
       "<div>\n",
       "<style scoped>\n",
       "    .dataframe tbody tr th:only-of-type {\n",
       "        vertical-align: middle;\n",
       "    }\n",
       "\n",
       "    .dataframe tbody tr th {\n",
       "        vertical-align: top;\n",
       "    }\n",
       "\n",
       "    .dataframe thead th {\n",
       "        text-align: right;\n",
       "    }\n",
       "</style>\n",
       "<table border=\"1\" class=\"dataframe\">\n",
       "  <thead>\n",
       "    <tr style=\"text-align: right;\">\n",
       "      <th></th>\n",
       "      <th>0</th>\n",
       "      <th>1</th>\n",
       "      <th>2</th>\n",
       "      <th>3</th>\n",
       "      <th>4</th>\n",
       "      <th>5</th>\n",
       "      <th>6</th>\n",
       "      <th>7</th>\n",
       "      <th>8</th>\n",
       "      <th>9</th>\n",
       "      <th>...</th>\n",
       "      <th>466</th>\n",
       "      <th>467</th>\n",
       "      <th>468</th>\n",
       "      <th>469</th>\n",
       "      <th>470</th>\n",
       "      <th>471</th>\n",
       "      <th>472</th>\n",
       "      <th>473</th>\n",
       "      <th>474</th>\n",
       "      <th>475</th>\n",
       "    </tr>\n",
       "  </thead>\n",
       "  <tbody>\n",
       "    <tr>\n",
       "      <th>300.866669</th>\n",
       "      <td>4.578491e-33</td>\n",
       "      <td>1.586741e-51</td>\n",
       "      <td>1.091090e-12</td>\n",
       "      <td>0.0049</td>\n",
       "      <td>7.835112e-19</td>\n",
       "      <td>5.655170e-15</td>\n",
       "      <td>0.09215</td>\n",
       "      <td>0.183178</td>\n",
       "      <td>2.866726e-25</td>\n",
       "      <td>8.302973e-39</td>\n",
       "      <td>...</td>\n",
       "      <td>1.617982e-13</td>\n",
       "      <td>3.027471e-09</td>\n",
       "      <td>0.0</td>\n",
       "      <td>5.161462e-16</td>\n",
       "      <td>0.000014</td>\n",
       "      <td>0.000918</td>\n",
       "      <td>0.008477</td>\n",
       "      <td>2.619797e-44</td>\n",
       "      <td>0.051767</td>\n",
       "      <td>1.825622e-11</td>\n",
       "    </tr>\n",
       "    <tr>\n",
       "      <th>307.633331</th>\n",
       "      <td>4.578491e-33</td>\n",
       "      <td>1.586741e-51</td>\n",
       "      <td>1.091090e-12</td>\n",
       "      <td>0.0049</td>\n",
       "      <td>7.835112e-19</td>\n",
       "      <td>5.655170e-15</td>\n",
       "      <td>0.09215</td>\n",
       "      <td>0.183178</td>\n",
       "      <td>2.866726e-25</td>\n",
       "      <td>8.302973e-39</td>\n",
       "      <td>...</td>\n",
       "      <td>1.617982e-13</td>\n",
       "      <td>3.027471e-09</td>\n",
       "      <td>0.0</td>\n",
       "      <td>5.161462e-16</td>\n",
       "      <td>0.000014</td>\n",
       "      <td>0.000918</td>\n",
       "      <td>0.008477</td>\n",
       "      <td>2.619797e-44</td>\n",
       "      <td>0.051767</td>\n",
       "      <td>1.825622e-11</td>\n",
       "    </tr>\n",
       "    <tr>\n",
       "      <th>318.200012</th>\n",
       "      <td>4.578491e-33</td>\n",
       "      <td>1.586741e-51</td>\n",
       "      <td>1.091090e-12</td>\n",
       "      <td>0.0049</td>\n",
       "      <td>7.835112e-19</td>\n",
       "      <td>5.655170e-15</td>\n",
       "      <td>0.09215</td>\n",
       "      <td>0.183178</td>\n",
       "      <td>2.866726e-25</td>\n",
       "      <td>8.302973e-39</td>\n",
       "      <td>...</td>\n",
       "      <td>1.617982e-13</td>\n",
       "      <td>3.027471e-09</td>\n",
       "      <td>0.0</td>\n",
       "      <td>5.161462e-16</td>\n",
       "      <td>0.000014</td>\n",
       "      <td>0.000918</td>\n",
       "      <td>0.008477</td>\n",
       "      <td>2.619797e-44</td>\n",
       "      <td>0.051767</td>\n",
       "      <td>1.825622e-11</td>\n",
       "    </tr>\n",
       "  </tbody>\n",
       "</table>\n",
       "<p>3 rows × 476 columns</p>\n",
       "</div>"
      ],
      "text/plain": [
       "                     0             1             2       3             4    \\\n",
       "300.866669  4.578491e-33  1.586741e-51  1.091090e-12  0.0049  7.835112e-19   \n",
       "307.633331  4.578491e-33  1.586741e-51  1.091090e-12  0.0049  7.835112e-19   \n",
       "318.200012  4.578491e-33  1.586741e-51  1.091090e-12  0.0049  7.835112e-19   \n",
       "\n",
       "                     5        6         7             8             9    ...  \\\n",
       "300.866669  5.655170e-15  0.09215  0.183178  2.866726e-25  8.302973e-39  ...   \n",
       "307.633331  5.655170e-15  0.09215  0.183178  2.866726e-25  8.302973e-39  ...   \n",
       "318.200012  5.655170e-15  0.09215  0.183178  2.866726e-25  8.302973e-39  ...   \n",
       "\n",
       "                     466           467  468           469       470       471  \\\n",
       "300.866669  1.617982e-13  3.027471e-09  0.0  5.161462e-16  0.000014  0.000918   \n",
       "307.633331  1.617982e-13  3.027471e-09  0.0  5.161462e-16  0.000014  0.000918   \n",
       "318.200012  1.617982e-13  3.027471e-09  0.0  5.161462e-16  0.000014  0.000918   \n",
       "\n",
       "                 472           473       474           475  \n",
       "300.866669  0.008477  2.619797e-44  0.051767  1.825622e-11  \n",
       "307.633331  0.008477  2.619797e-44  0.051767  1.825622e-11  \n",
       "318.200012  0.008477  2.619797e-44  0.051767  1.825622e-11  \n",
       "\n",
       "[3 rows x 476 columns]"
      ]
     },
     "execution_count": 10,
     "metadata": {},
     "output_type": "execute_result"
    }
   ],
   "source": [
    "df_survival_function = model.predict_survival_function(X_train, X_test, y_train, y_test)\n",
    "df_survival_function.tail(3)"
   ]
  },
  {
   "attachments": {},
   "cell_type": "markdown",
   "metadata": {},
   "source": [
    "### Visualize Predictions"
   ]
  },
  {
   "cell_type": "code",
   "execution_count": 11,
   "metadata": {},
   "outputs": [
    {
     "data": {
      "text/plain": [
       "Text(0.5, 1.0, 'Cumulative Hazard Efron')"
      ]
     },
     "execution_count": 11,
     "metadata": {},
     "output_type": "execute_result"
    },
    {
     "data": {
      "image/png": "[encoded data removed]",
      "text/plain": [
       "<Figure size 640x480 with 1 Axes>"
      ]
     },
     "metadata": {},
     "output_type": "display_data"
    }
   ],
   "source": [
    "df_cum_hazards.iloc[:, :5].plot(drawstyle='steps-post')\n",
    "plt.ylabel('S(t | x)')\n",
    "_ = plt.xlabel('Time')\n",
    "plt.title(\"Cumulative Hazard Efron\")"
   ]
  },
  {
   "cell_type": "code",
   "execution_count": 12,
   "metadata": {},
   "outputs": [
    {
     "data": {
      "text/plain": [
       "Text(0.5, 1.0, 'Survival Curve Efron')"
      ]
     },
     "execution_count": 12,
     "metadata": {},
     "output_type": "execute_result"
    },
    {
     "data": {
      "image/png": "[encoded data removed]",
      "text/plain": [
       "<Figure size 640x480 with 1 Axes>"
      ]
     },
     "metadata": {},
     "output_type": "display_data"
    }
   ],
   "source": [
    "df_survival_function.iloc[:, :5].plot(drawstyle='steps-post')\n",
    "plt.ylabel('S(t | x)')\n",
    "_ = plt.xlabel('Time')\n",
    "plt.title(\"Survival Curve Efron\")"
   ]
  },
  {
   "attachments": {},
   "cell_type": "markdown",
   "metadata": {},
   "source": [
    "## Evaluate"
   ]
  },
  {
   "attachments": {},
   "cell_type": "markdown",
   "metadata": {},
   "source": [
    "### Test"
   ]
  },
  {
   "cell_type": "code",
   "execution_count": 13,
   "metadata": {},
   "outputs": [
    {
     "name": "stdout",
     "output_type": "stream",
     "text": [
      "Concordance Index 0.6113839677249605\n"
     ]
    }
   ],
   "source": [
    "durations_test, events_test = transform_back(y_test)\n",
    "time_grid = np.linspace(durations_test.min(), durations_test.max(), 100)\n",
    "ev = EvalSurv(df_survival_function, durations_test, events_test, censor_surv='km')\n",
    "print('Concordance Index',ev.concordance_td('antolini'))"
   ]
  },
  {
   "cell_type": "code",
   "execution_count": 14,
   "metadata": {},
   "outputs": [
    {
     "name": "stdout",
     "output_type": "stream",
     "text": [
      "Integrated Brier Score: 0.21414924734027174\n"
     ]
    }
   ],
   "source": [
    "print('Integrated Brier Score:',ev.integrated_brier_score(time_grid))"
   ]
  },
  {
   "cell_type": "code",
   "execution_count": null,
   "metadata": {},
   "outputs": [],
   "source": []
  }
 ],
 "metadata": {
  "kernelspec": {
   "display_name": "xgbsurv",
   "language": "python",
   "name": "python3"
  },
  "language_info": {
   "codemirror_mode": {
    "name": "ipython",
    "version": 3
   },
   "file_extension": ".py",
   "mimetype": "text/x-python",
   "name": "python",
   "nbconvert_exporter": "python",
   "pygments_lexer": "ipython3",
   "version": "3.11.3"
  },
  "orig_nbformat": 4
 },
 "nbformat": 4,
 "nbformat_minor": 2
}
