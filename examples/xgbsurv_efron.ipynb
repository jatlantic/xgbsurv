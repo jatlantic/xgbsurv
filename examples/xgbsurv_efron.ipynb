{
 "cells": [
  {
   "attachments": {},
   "cell_type": "markdown",
   "metadata": {},
   "source": [
    "# Introduction to the xgbsurv package - Breslow\n",
    "\n",
    "This notebook introduces `xgbsurv` using a specific dataset. It structured by the following steps:\n",
    "\n",
    "- Load data\n",
    "- Load model\n",
    "- Fit model\n",
    "- Predict and evaluate model\n",
    "\n",
    "The syntax conveniently follows that of sklearn."
   ]
  },
  {
   "cell_type": "code",
   "execution_count": 1,
   "metadata": {},
   "outputs": [],
   "source": [
    "from xgbsurv.datasets import load_metabric\n",
    "from xgbsurv import XGBSurv\n",
    "from xgbsurv.models.utils import sort_X_y, transform_back\n",
    "from pycox.evaluation import EvalSurv\n",
    "from sklearn.model_selection import train_test_split\n",
    "import numpy as np\n",
    "import matplotlib.pyplot as plt\n",
    "import os\n",
    "current_path = os.getcwd() \n",
    "one_level_up = os.path.abspath(os.path.join(current_path,  \"..\"))"
   ]
  },
  {
   "attachments": {},
   "cell_type": "markdown",
   "metadata": {},
   "source": [
    "## Load Data"
   ]
  },
  {
   "cell_type": "code",
   "execution_count": 2,
   "metadata": {},
   "outputs": [
    {
     "name": "stdout",
     "output_type": "stream",
     "text": [
      "Values are being sorted!\n",
      "Values are being sorted!\n"
     ]
    }
   ],
   "source": [
    "data = load_metabric(path=one_level_up+\"/xgbsurv/datasets/data/\", as_frame=False)\n",
    "# stratify by event indicated by sign\n",
    "target_sign = np.sign(data.target)\n",
    "X_train, X_test, y_train, y_test = train_test_split(data.data, data.target, stratify=target_sign)\n",
    "# sort data\n",
    "X_train, y_train = sort_X_y(X_train, y_train)\n",
    "X_test, y_test = sort_X_y(X_test, y_test)"
   ]
  },
  {
   "attachments": {},
   "cell_type": "markdown",
   "metadata": {},
   "source": [
    "## Load Model"
   ]
  },
  {
   "cell_type": "code",
   "execution_count": 3,
   "metadata": {},
   "outputs": [
    {
     "data": {
      "text/html": [
       "<style>#sk-container-id-1 {color: black;background-color: white;}#sk-container-id-1 pre{padding: 0;}#sk-container-id-1 div.sk-toggleable {background-color: white;}#sk-container-id-1 label.sk-toggleable__label {cursor: pointer;display: block;width: 100%;margin-bottom: 0;padding: 0.3em;box-sizing: border-box;text-align: center;}#sk-container-id-1 label.sk-toggleable__label-arrow:before {content: \"▸\";float: left;margin-right: 0.25em;color: #696969;}#sk-container-id-1 label.sk-toggleable__label-arrow:hover:before {color: black;}#sk-container-id-1 div.sk-estimator:hover label.sk-toggleable__label-arrow:before {color: black;}#sk-container-id-1 div.sk-toggleable__content {max-height: 0;max-width: 0;overflow: hidden;text-align: left;background-color: #f0f8ff;}#sk-container-id-1 div.sk-toggleable__content pre {margin: 0.2em;color: black;border-radius: 0.25em;background-color: #f0f8ff;}#sk-container-id-1 input.sk-toggleable__control:checked~div.sk-toggleable__content {max-height: 200px;max-width: 100%;overflow: auto;}#sk-container-id-1 input.sk-toggleable__control:checked~label.sk-toggleable__label-arrow:before {content: \"▾\";}#sk-container-id-1 div.sk-estimator input.sk-toggleable__control:checked~label.sk-toggleable__label {background-color: #d4ebff;}#sk-container-id-1 div.sk-label input.sk-toggleable__control:checked~label.sk-toggleable__label {background-color: #d4ebff;}#sk-container-id-1 input.sk-hidden--visually {border: 0;clip: rect(1px 1px 1px 1px);clip: rect(1px, 1px, 1px, 1px);height: 1px;margin: -1px;overflow: hidden;padding: 0;position: absolute;width: 1px;}#sk-container-id-1 div.sk-estimator {font-family: monospace;background-color: #f0f8ff;border: 1px dotted black;border-radius: 0.25em;box-sizing: border-box;margin-bottom: 0.5em;}#sk-container-id-1 div.sk-estimator:hover {background-color: #d4ebff;}#sk-container-id-1 div.sk-parallel-item::after {content: \"\";width: 100%;border-bottom: 1px solid gray;flex-grow: 1;}#sk-container-id-1 div.sk-label:hover label.sk-toggleable__label {background-color: #d4ebff;}#sk-container-id-1 div.sk-serial::before {content: \"\";position: absolute;border-left: 1px solid gray;box-sizing: border-box;top: 0;bottom: 0;left: 50%;z-index: 0;}#sk-container-id-1 div.sk-serial {display: flex;flex-direction: column;align-items: center;background-color: white;padding-right: 0.2em;padding-left: 0.2em;position: relative;}#sk-container-id-1 div.sk-item {position: relative;z-index: 1;}#sk-container-id-1 div.sk-parallel {display: flex;align-items: stretch;justify-content: center;background-color: white;position: relative;}#sk-container-id-1 div.sk-item::before, #sk-container-id-1 div.sk-parallel-item::before {content: \"\";position: absolute;border-left: 1px solid gray;box-sizing: border-box;top: 0;bottom: 0;left: 50%;z-index: -1;}#sk-container-id-1 div.sk-parallel-item {display: flex;flex-direction: column;z-index: 1;position: relative;background-color: white;}#sk-container-id-1 div.sk-parallel-item:first-child::after {align-self: flex-end;width: 50%;}#sk-container-id-1 div.sk-parallel-item:last-child::after {align-self: flex-start;width: 50%;}#sk-container-id-1 div.sk-parallel-item:only-child::after {width: 0;}#sk-container-id-1 div.sk-dashed-wrapped {border: 1px dashed gray;margin: 0 0.4em 0.5em 0.4em;box-sizing: border-box;padding-bottom: 0.4em;background-color: white;}#sk-container-id-1 div.sk-label label {font-family: monospace;font-weight: bold;display: inline-block;line-height: 1.2em;}#sk-container-id-1 div.sk-label-container {text-align: center;}#sk-container-id-1 div.sk-container {/* jupyter's `normalize.less` sets `[hidden] { display: none; }` but bootstrap.min.css set `[hidden] { display: none !important; }` so we also need the `!important` here to be able to override the default hidden behavior on the sphinx rendered scikit-learn.org. See: https://github.com/scikit-learn/scikit-learn/issues/21755 */display: inline-block !important;position: relative;}#sk-container-id-1 div.sk-text-repr-fallback {display: none;}</style><div id=\"sk-container-id-1\" class=\"sk-top-container\"><div class=\"sk-text-repr-fallback\"><pre>XGBSurv(base_score=None, booster=None, callbacks=None, colsample_bylevel=None,\n",
       "        colsample_bynode=None, colsample_bytree=None,\n",
       "        disable_default_eval_metric=1, early_stopping_rounds=None,\n",
       "        enable_categorical=False,\n",
       "        eval_metric=CPUDispatcher(&lt;function efron_likelihood at 0x176fd5b20&gt;),\n",
       "        feature_types=None, gamma=None, gpu_id=None, grow_policy=None,\n",
       "        importance_type=None, interaction_constraints=None, learning_rate=0.3,\n",
       "        max_bin=None, max_cat_threshold=None, max_cat_to_onehot=None,\n",
       "        max_delta_step=None, max_depth=None, max_leaves=None,\n",
       "        min_child_weight=None, missing=nan, monotone_constraints=None,\n",
       "        n_estimators=100, n_jobs=None, num_parallel_tree=None,\n",
       "        objective=CPUDispatcher(&lt;function efron_objective at 0x176fd62a0&gt;), ...)</pre><b>In a Jupyter environment, please rerun this cell to show the HTML representation or trust the notebook. <br />On GitHub, the HTML representation is unable to render, please try loading this page with nbviewer.org.</b></div><div class=\"sk-container\" hidden><div class=\"sk-item\"><div class=\"sk-estimator sk-toggleable\"><input class=\"sk-toggleable__control sk-hidden--visually\" id=\"sk-estimator-id-1\" type=\"checkbox\" checked><label for=\"sk-estimator-id-1\" class=\"sk-toggleable__label sk-toggleable__label-arrow\">XGBSurv</label><div class=\"sk-toggleable__content\"><pre>XGBSurv(base_score=None, booster=None, callbacks=None, colsample_bylevel=None,\n",
       "        colsample_bynode=None, colsample_bytree=None,\n",
       "        disable_default_eval_metric=1, early_stopping_rounds=None,\n",
       "        enable_categorical=False,\n",
       "        eval_metric=CPUDispatcher(&lt;function efron_likelihood at 0x176fd5b20&gt;),\n",
       "        feature_types=None, gamma=None, gpu_id=None, grow_policy=None,\n",
       "        importance_type=None, interaction_constraints=None, learning_rate=0.3,\n",
       "        max_bin=None, max_cat_threshold=None, max_cat_to_onehot=None,\n",
       "        max_delta_step=None, max_depth=None, max_leaves=None,\n",
       "        min_child_weight=None, missing=nan, monotone_constraints=None,\n",
       "        n_estimators=100, n_jobs=None, num_parallel_tree=None,\n",
       "        objective=CPUDispatcher(&lt;function efron_objective at 0x176fd62a0&gt;), ...)</pre></div></div></div></div></div>"
      ],
      "text/plain": [
       "XGBSurv(base_score=None, booster=None, callbacks=None, colsample_bylevel=None,\n",
       "        colsample_bynode=None, colsample_bytree=None,\n",
       "        disable_default_eval_metric=1, early_stopping_rounds=None,\n",
       "        enable_categorical=False,\n",
       "        eval_metric=CPUDispatcher(<function efron_likelihood at 0x176fd5b20>),\n",
       "        feature_types=None, gamma=None, gpu_id=None, grow_policy=None,\n",
       "        importance_type=None, interaction_constraints=None, learning_rate=0.3,\n",
       "        max_bin=None, max_cat_threshold=None, max_cat_to_onehot=None,\n",
       "        max_delta_step=None, max_depth=None, max_leaves=None,\n",
       "        min_child_weight=None, missing=nan, monotone_constraints=None,\n",
       "        n_estimators=100, n_jobs=None, num_parallel_tree=None,\n",
       "        objective=CPUDispatcher(<function efron_objective at 0x176fd62a0>), ...)"
      ]
     },
     "execution_count": 3,
     "metadata": {},
     "output_type": "execute_result"
    }
   ],
   "source": [
    "model = XGBSurv(n_estimators=100, objective=\"efron_objective\",\n",
    "                                             eval_metric=\"efron_loss\",\n",
    "                                             learning_rate=0.3,\n",
    "                                             random_state=42, \n",
    "                                             disable_default_eval_metric=1,\n",
    "                                             )\n",
    "model"
   ]
  },
  {
   "attachments": {},
   "cell_type": "markdown",
   "metadata": {},
   "source": [
    "The options of loss and objective functions can be obtained like below:"
   ]
  },
  {
   "cell_type": "code",
   "execution_count": 4,
   "metadata": {},
   "outputs": [
    {
     "name": "stdout",
     "output_type": "stream",
     "text": [
      "dict_keys(['breslow_loss', 'efron_loss', 'cind_loss', 'deephit_loss', 'aft_loss', 'ah_loss', 'eh_loss'])\n",
      "dict_keys(['breslow_objective', 'efron_objective', 'cind_objective', 'deephit_objective', 'aft_objective', 'ah_objective', 'eh_objective'])\n"
     ]
    }
   ],
   "source": [
    "print(model.get_loss_functions().keys())\n",
    "print(model.get_objective_functions().keys())"
   ]
  },
  {
   "attachments": {},
   "cell_type": "markdown",
   "metadata": {},
   "source": [
    "## Fit Model"
   ]
  },
  {
   "cell_type": "code",
   "execution_count": 5,
   "metadata": {},
   "outputs": [],
   "source": [
    "eval_set = [(X_train, y_train)]"
   ]
  },
  {
   "cell_type": "code",
   "execution_count": 6,
   "metadata": {},
   "outputs": [
    {
     "name": "stdout",
     "output_type": "stream",
     "text": [
      "[0]\tvalidation_0-efron_likelihood:6.39347\n",
      "[1]\tvalidation_0-efron_likelihood:6.30436\n",
      "[2]\tvalidation_0-efron_likelihood:6.22972\n",
      "[3]\tvalidation_0-efron_likelihood:6.18297\n",
      "[4]\tvalidation_0-efron_likelihood:6.13534\n",
      "[5]\tvalidation_0-efron_likelihood:6.08632\n",
      "[6]\tvalidation_0-efron_likelihood:6.04115\n",
      "[7]\tvalidation_0-efron_likelihood:6.00533\n",
      "[8]\tvalidation_0-efron_likelihood:5.96784\n",
      "[9]\tvalidation_0-efron_likelihood:5.94879\n",
      "[10]\tvalidation_0-efron_likelihood:5.91296\n",
      "[11]\tvalidation_0-efron_likelihood:5.89878\n",
      "[12]\tvalidation_0-efron_likelihood:5.86356\n",
      "[13]\tvalidation_0-efron_likelihood:5.85809\n",
      "[14]\tvalidation_0-efron_likelihood:5.83768\n",
      "[15]\tvalidation_0-efron_likelihood:5.81157\n",
      "[16]\tvalidation_0-efron_likelihood:5.80369\n",
      "[17]\tvalidation_0-efron_likelihood:5.79303\n",
      "[18]\tvalidation_0-efron_likelihood:5.78031\n",
      "[19]\tvalidation_0-efron_likelihood:5.76830\n",
      "[20]\tvalidation_0-efron_likelihood:5.75873\n",
      "[21]\tvalidation_0-efron_likelihood:5.75333\n",
      "[22]\tvalidation_0-efron_likelihood:5.73390\n",
      "[23]\tvalidation_0-efron_likelihood:5.72785\n",
      "[24]\tvalidation_0-efron_likelihood:5.72511\n",
      "[25]\tvalidation_0-efron_likelihood:5.72295\n",
      "[26]\tvalidation_0-efron_likelihood:5.71695\n",
      "[27]\tvalidation_0-efron_likelihood:5.68456\n",
      "[28]\tvalidation_0-efron_likelihood:5.66017\n",
      "[29]\tvalidation_0-efron_likelihood:5.63420\n",
      "[30]\tvalidation_0-efron_likelihood:5.60796\n",
      "[31]\tvalidation_0-efron_likelihood:5.60101\n",
      "[32]\tvalidation_0-efron_likelihood:5.58874\n",
      "[33]\tvalidation_0-efron_likelihood:5.57909\n",
      "[34]\tvalidation_0-efron_likelihood:5.55967\n",
      "[35]\tvalidation_0-efron_likelihood:5.53929\n",
      "[36]\tvalidation_0-efron_likelihood:5.52504\n",
      "[37]\tvalidation_0-efron_likelihood:5.50560\n",
      "[38]\tvalidation_0-efron_likelihood:5.49898\n",
      "[39]\tvalidation_0-efron_likelihood:5.47706\n",
      "[40]\tvalidation_0-efron_likelihood:5.46970\n",
      "[41]\tvalidation_0-efron_likelihood:5.45461\n",
      "[42]\tvalidation_0-efron_likelihood:5.44536\n",
      "[43]\tvalidation_0-efron_likelihood:5.43527\n",
      "[44]\tvalidation_0-efron_likelihood:5.41882\n",
      "[45]\tvalidation_0-efron_likelihood:5.39894\n",
      "[46]\tvalidation_0-efron_likelihood:5.37866\n",
      "[47]\tvalidation_0-efron_likelihood:5.37031\n",
      "[48]\tvalidation_0-efron_likelihood:5.35687\n",
      "[49]\tvalidation_0-efron_likelihood:5.35244\n",
      "[50]\tvalidation_0-efron_likelihood:5.33554\n",
      "[51]\tvalidation_0-efron_likelihood:5.32585\n",
      "[52]\tvalidation_0-efron_likelihood:5.31875\n",
      "[53]\tvalidation_0-efron_likelihood:5.31293\n",
      "[54]\tvalidation_0-efron_likelihood:5.29529\n",
      "[55]\tvalidation_0-efron_likelihood:5.28584\n",
      "[56]\tvalidation_0-efron_likelihood:5.28150\n",
      "[57]\tvalidation_0-efron_likelihood:5.27623\n",
      "[58]\tvalidation_0-efron_likelihood:5.26461\n",
      "[59]\tvalidation_0-efron_likelihood:5.25867\n",
      "[60]\tvalidation_0-efron_likelihood:5.24385\n",
      "[61]\tvalidation_0-efron_likelihood:5.23302\n",
      "[62]\tvalidation_0-efron_likelihood:5.22810\n",
      "[63]\tvalidation_0-efron_likelihood:5.21573\n",
      "[64]\tvalidation_0-efron_likelihood:5.20352\n",
      "[65]\tvalidation_0-efron_likelihood:5.19764\n",
      "[66]\tvalidation_0-efron_likelihood:5.18869\n",
      "[67]\tvalidation_0-efron_likelihood:5.17963\n",
      "[68]\tvalidation_0-efron_likelihood:5.16915\n",
      "[69]\tvalidation_0-efron_likelihood:5.16348\n",
      "[70]\tvalidation_0-efron_likelihood:5.14967\n",
      "[71]\tvalidation_0-efron_likelihood:5.14567\n",
      "[72]\tvalidation_0-efron_likelihood:5.13019\n",
      "[73]\tvalidation_0-efron_likelihood:5.11732\n",
      "[74]\tvalidation_0-efron_likelihood:5.10123\n",
      "[75]\tvalidation_0-efron_likelihood:5.09796\n",
      "[76]\tvalidation_0-efron_likelihood:5.09165\n",
      "[77]\tvalidation_0-efron_likelihood:5.07916\n",
      "[78]\tvalidation_0-efron_likelihood:5.07411\n",
      "[79]\tvalidation_0-efron_likelihood:5.07013\n",
      "[80]\tvalidation_0-efron_likelihood:5.06181\n",
      "[81]\tvalidation_0-efron_likelihood:5.05406\n",
      "[82]\tvalidation_0-efron_likelihood:5.05020\n",
      "[83]\tvalidation_0-efron_likelihood:5.03966\n",
      "[84]\tvalidation_0-efron_likelihood:5.02837\n",
      "[85]\tvalidation_0-efron_likelihood:5.02014\n",
      "[86]\tvalidation_0-efron_likelihood:5.01323\n",
      "[87]\tvalidation_0-efron_likelihood:5.00166\n",
      "[88]\tvalidation_0-efron_likelihood:4.99798\n",
      "[89]\tvalidation_0-efron_likelihood:4.99251\n",
      "[90]\tvalidation_0-efron_likelihood:4.98943\n",
      "[91]\tvalidation_0-efron_likelihood:4.98592\n",
      "[92]\tvalidation_0-efron_likelihood:4.98207\n",
      "[93]\tvalidation_0-efron_likelihood:4.97982\n",
      "[94]\tvalidation_0-efron_likelihood:4.97780\n",
      "[95]\tvalidation_0-efron_likelihood:4.96707\n",
      "[96]\tvalidation_0-efron_likelihood:4.95998\n",
      "[97]\tvalidation_0-efron_likelihood:4.95685\n",
      "[98]\tvalidation_0-efron_likelihood:4.94879\n",
      "[99]\tvalidation_0-efron_likelihood:4.94288\n"
     ]
    },
    {
     "data": {
      "text/html": [
       "<style>#sk-container-id-2 {color: black;background-color: white;}#sk-container-id-2 pre{padding: 0;}#sk-container-id-2 div.sk-toggleable {background-color: white;}#sk-container-id-2 label.sk-toggleable__label {cursor: pointer;display: block;width: 100%;margin-bottom: 0;padding: 0.3em;box-sizing: border-box;text-align: center;}#sk-container-id-2 label.sk-toggleable__label-arrow:before {content: \"▸\";float: left;margin-right: 0.25em;color: #696969;}#sk-container-id-2 label.sk-toggleable__label-arrow:hover:before {color: black;}#sk-container-id-2 div.sk-estimator:hover label.sk-toggleable__label-arrow:before {color: black;}#sk-container-id-2 div.sk-toggleable__content {max-height: 0;max-width: 0;overflow: hidden;text-align: left;background-color: #f0f8ff;}#sk-container-id-2 div.sk-toggleable__content pre {margin: 0.2em;color: black;border-radius: 0.25em;background-color: #f0f8ff;}#sk-container-id-2 input.sk-toggleable__control:checked~div.sk-toggleable__content {max-height: 200px;max-width: 100%;overflow: auto;}#sk-container-id-2 input.sk-toggleable__control:checked~label.sk-toggleable__label-arrow:before {content: \"▾\";}#sk-container-id-2 div.sk-estimator input.sk-toggleable__control:checked~label.sk-toggleable__label {background-color: #d4ebff;}#sk-container-id-2 div.sk-label input.sk-toggleable__control:checked~label.sk-toggleable__label {background-color: #d4ebff;}#sk-container-id-2 input.sk-hidden--visually {border: 0;clip: rect(1px 1px 1px 1px);clip: rect(1px, 1px, 1px, 1px);height: 1px;margin: -1px;overflow: hidden;padding: 0;position: absolute;width: 1px;}#sk-container-id-2 div.sk-estimator {font-family: monospace;background-color: #f0f8ff;border: 1px dotted black;border-radius: 0.25em;box-sizing: border-box;margin-bottom: 0.5em;}#sk-container-id-2 div.sk-estimator:hover {background-color: #d4ebff;}#sk-container-id-2 div.sk-parallel-item::after {content: \"\";width: 100%;border-bottom: 1px solid gray;flex-grow: 1;}#sk-container-id-2 div.sk-label:hover label.sk-toggleable__label {background-color: #d4ebff;}#sk-container-id-2 div.sk-serial::before {content: \"\";position: absolute;border-left: 1px solid gray;box-sizing: border-box;top: 0;bottom: 0;left: 50%;z-index: 0;}#sk-container-id-2 div.sk-serial {display: flex;flex-direction: column;align-items: center;background-color: white;padding-right: 0.2em;padding-left: 0.2em;position: relative;}#sk-container-id-2 div.sk-item {position: relative;z-index: 1;}#sk-container-id-2 div.sk-parallel {display: flex;align-items: stretch;justify-content: center;background-color: white;position: relative;}#sk-container-id-2 div.sk-item::before, #sk-container-id-2 div.sk-parallel-item::before {content: \"\";position: absolute;border-left: 1px solid gray;box-sizing: border-box;top: 0;bottom: 0;left: 50%;z-index: -1;}#sk-container-id-2 div.sk-parallel-item {display: flex;flex-direction: column;z-index: 1;position: relative;background-color: white;}#sk-container-id-2 div.sk-parallel-item:first-child::after {align-self: flex-end;width: 50%;}#sk-container-id-2 div.sk-parallel-item:last-child::after {align-self: flex-start;width: 50%;}#sk-container-id-2 div.sk-parallel-item:only-child::after {width: 0;}#sk-container-id-2 div.sk-dashed-wrapped {border: 1px dashed gray;margin: 0 0.4em 0.5em 0.4em;box-sizing: border-box;padding-bottom: 0.4em;background-color: white;}#sk-container-id-2 div.sk-label label {font-family: monospace;font-weight: bold;display: inline-block;line-height: 1.2em;}#sk-container-id-2 div.sk-label-container {text-align: center;}#sk-container-id-2 div.sk-container {/* jupyter's `normalize.less` sets `[hidden] { display: none; }` but bootstrap.min.css set `[hidden] { display: none !important; }` so we also need the `!important` here to be able to override the default hidden behavior on the sphinx rendered scikit-learn.org. See: https://github.com/scikit-learn/scikit-learn/issues/21755 */display: inline-block !important;position: relative;}#sk-container-id-2 div.sk-text-repr-fallback {display: none;}</style><div id=\"sk-container-id-2\" class=\"sk-top-container\"><div class=\"sk-text-repr-fallback\"><pre>XGBSurv(base_score=None, booster=None, callbacks=None, colsample_bylevel=None,\n",
       "        colsample_bynode=None, colsample_bytree=None,\n",
       "        disable_default_eval_metric=1, early_stopping_rounds=None,\n",
       "        enable_categorical=False,\n",
       "        eval_metric=CPUDispatcher(&lt;function efron_likelihood at 0x176fd5b20&gt;),\n",
       "        feature_types=None, gamma=None, gpu_id=None, grow_policy=None,\n",
       "        importance_type=None, interaction_constraints=None, learning_rate=0.3,\n",
       "        max_bin=None, max_cat_threshold=None, max_cat_to_onehot=None,\n",
       "        max_delta_step=None, max_depth=None, max_leaves=None,\n",
       "        min_child_weight=None, missing=nan, monotone_constraints=None,\n",
       "        n_estimators=100, n_jobs=None, num_parallel_tree=None,\n",
       "        objective=CPUDispatcher(&lt;function efron_objective at 0x176fd62a0&gt;), ...)</pre><b>In a Jupyter environment, please rerun this cell to show the HTML representation or trust the notebook. <br />On GitHub, the HTML representation is unable to render, please try loading this page with nbviewer.org.</b></div><div class=\"sk-container\" hidden><div class=\"sk-item\"><div class=\"sk-estimator sk-toggleable\"><input class=\"sk-toggleable__control sk-hidden--visually\" id=\"sk-estimator-id-2\" type=\"checkbox\" checked><label for=\"sk-estimator-id-2\" class=\"sk-toggleable__label sk-toggleable__label-arrow\">XGBSurv</label><div class=\"sk-toggleable__content\"><pre>XGBSurv(base_score=None, booster=None, callbacks=None, colsample_bylevel=None,\n",
       "        colsample_bynode=None, colsample_bytree=None,\n",
       "        disable_default_eval_metric=1, early_stopping_rounds=None,\n",
       "        enable_categorical=False,\n",
       "        eval_metric=CPUDispatcher(&lt;function efron_likelihood at 0x176fd5b20&gt;),\n",
       "        feature_types=None, gamma=None, gpu_id=None, grow_policy=None,\n",
       "        importance_type=None, interaction_constraints=None, learning_rate=0.3,\n",
       "        max_bin=None, max_cat_threshold=None, max_cat_to_onehot=None,\n",
       "        max_delta_step=None, max_depth=None, max_leaves=None,\n",
       "        min_child_weight=None, missing=nan, monotone_constraints=None,\n",
       "        n_estimators=100, n_jobs=None, num_parallel_tree=None,\n",
       "        objective=CPUDispatcher(&lt;function efron_objective at 0x176fd62a0&gt;), ...)</pre></div></div></div></div></div>"
      ],
      "text/plain": [
       "XGBSurv(base_score=None, booster=None, callbacks=None, colsample_bylevel=None,\n",
       "        colsample_bynode=None, colsample_bytree=None,\n",
       "        disable_default_eval_metric=1, early_stopping_rounds=None,\n",
       "        enable_categorical=False,\n",
       "        eval_metric=CPUDispatcher(<function efron_likelihood at 0x176fd5b20>),\n",
       "        feature_types=None, gamma=None, gpu_id=None, grow_policy=None,\n",
       "        importance_type=None, interaction_constraints=None, learning_rate=0.3,\n",
       "        max_bin=None, max_cat_threshold=None, max_cat_to_onehot=None,\n",
       "        max_delta_step=None, max_depth=None, max_leaves=None,\n",
       "        min_child_weight=None, missing=nan, monotone_constraints=None,\n",
       "        n_estimators=100, n_jobs=None, num_parallel_tree=None,\n",
       "        objective=CPUDispatcher(<function efron_objective at 0x176fd62a0>), ...)"
      ]
     },
     "execution_count": 6,
     "metadata": {},
     "output_type": "execute_result"
    }
   ],
   "source": [
    "model.fit(X_train, y_train, eval_set=eval_set)"
   ]
  },
  {
   "attachments": {},
   "cell_type": "markdown",
   "metadata": {},
   "source": [
    "The model can be saved like below. Note that objective and eval_metric are not saved."
   ]
  },
  {
   "cell_type": "code",
   "execution_count": 7,
   "metadata": {},
   "outputs": [],
   "source": [
    "#model.save_model(\"introduction_model_breslow.json\")"
   ]
  },
  {
   "attachments": {},
   "cell_type": "markdown",
   "metadata": {},
   "source": [
    "## Predict"
   ]
  },
  {
   "cell_type": "code",
   "execution_count": 8,
   "metadata": {},
   "outputs": [],
   "source": [
    "preds_train = model.predict(X_train, output_margin=True)\n",
    "preds_test = model.predict(X_test, output_margin=True)"
   ]
  },
  {
   "attachments": {},
   "cell_type": "markdown",
   "metadata": {},
   "source": [
    "### Predict Cumulative Hazard"
   ]
  },
  {
   "cell_type": "code",
   "execution_count": 9,
   "metadata": {},
   "outputs": [
    {
     "data": {
      "text/html": [
       "<div>\n",
       "<style scoped>\n",
       "    .dataframe tbody tr th:only-of-type {\n",
       "        vertical-align: middle;\n",
       "    }\n",
       "\n",
       "    .dataframe tbody tr th {\n",
       "        vertical-align: top;\n",
       "    }\n",
       "\n",
       "    .dataframe thead th {\n",
       "        text-align: right;\n",
       "    }\n",
       "</style>\n",
       "<table border=\"1\" class=\"dataframe\">\n",
       "  <thead>\n",
       "    <tr style=\"text-align: right;\">\n",
       "      <th></th>\n",
       "      <th>0</th>\n",
       "      <th>1</th>\n",
       "      <th>2</th>\n",
       "      <th>3</th>\n",
       "      <th>4</th>\n",
       "      <th>5</th>\n",
       "      <th>6</th>\n",
       "      <th>7</th>\n",
       "      <th>8</th>\n",
       "      <th>9</th>\n",
       "      <th>...</th>\n",
       "      <th>466</th>\n",
       "      <th>467</th>\n",
       "      <th>468</th>\n",
       "      <th>469</th>\n",
       "      <th>470</th>\n",
       "      <th>471</th>\n",
       "      <th>472</th>\n",
       "      <th>473</th>\n",
       "      <th>474</th>\n",
       "      <th>475</th>\n",
       "    </tr>\n",
       "  </thead>\n",
       "  <tbody>\n",
       "    <tr>\n",
       "      <th>297.233337</th>\n",
       "      <td>13.937462</td>\n",
       "      <td>13.990066</td>\n",
       "      <td>8.041028</td>\n",
       "      <td>6.432954</td>\n",
       "      <td>18.476347</td>\n",
       "      <td>0.921052</td>\n",
       "      <td>2.107142</td>\n",
       "      <td>16.889346</td>\n",
       "      <td>43.431215</td>\n",
       "      <td>7.726851</td>\n",
       "      <td>...</td>\n",
       "      <td>0.361727</td>\n",
       "      <td>2.918032</td>\n",
       "      <td>5.642390</td>\n",
       "      <td>36.672990</td>\n",
       "      <td>5.284059</td>\n",
       "      <td>4.124300</td>\n",
       "      <td>3.045750</td>\n",
       "      <td>3.480728</td>\n",
       "      <td>3.415407</td>\n",
       "      <td>123.153840</td>\n",
       "    </tr>\n",
       "    <tr>\n",
       "      <th>297.799988</th>\n",
       "      <td>13.937462</td>\n",
       "      <td>13.990066</td>\n",
       "      <td>8.041028</td>\n",
       "      <td>6.432954</td>\n",
       "      <td>18.476347</td>\n",
       "      <td>0.921052</td>\n",
       "      <td>2.107142</td>\n",
       "      <td>16.889346</td>\n",
       "      <td>43.431215</td>\n",
       "      <td>7.726851</td>\n",
       "      <td>...</td>\n",
       "      <td>0.361727</td>\n",
       "      <td>2.918032</td>\n",
       "      <td>5.642390</td>\n",
       "      <td>36.672990</td>\n",
       "      <td>5.284059</td>\n",
       "      <td>4.124300</td>\n",
       "      <td>3.045750</td>\n",
       "      <td>3.480728</td>\n",
       "      <td>3.415407</td>\n",
       "      <td>123.153840</td>\n",
       "    </tr>\n",
       "    <tr>\n",
       "      <th>300.866669</th>\n",
       "      <td>17.855330</td>\n",
       "      <td>17.922721</td>\n",
       "      <td>10.301389</td>\n",
       "      <td>8.241280</td>\n",
       "      <td>23.670111</td>\n",
       "      <td>1.179963</td>\n",
       "      <td>2.699467</td>\n",
       "      <td>21.637000</td>\n",
       "      <td>55.639879</td>\n",
       "      <td>9.898895</td>\n",
       "      <td>...</td>\n",
       "      <td>0.463410</td>\n",
       "      <td>3.738301</td>\n",
       "      <td>7.228485</td>\n",
       "      <td>46.981894</td>\n",
       "      <td>6.769426</td>\n",
       "      <td>5.283654</td>\n",
       "      <td>3.901921</td>\n",
       "      <td>4.459172</td>\n",
       "      <td>4.375489</td>\n",
       "      <td>157.772807</td>\n",
       "    </tr>\n",
       "  </tbody>\n",
       "</table>\n",
       "<p>3 rows × 476 columns</p>\n",
       "</div>"
      ],
      "text/plain": [
       "                  0          1          2         3          4         5    \\\n",
       "297.233337  13.937462  13.990066   8.041028  6.432954  18.476347  0.921052   \n",
       "297.799988  13.937462  13.990066   8.041028  6.432954  18.476347  0.921052   \n",
       "300.866669  17.855330  17.922721  10.301389  8.241280  23.670111  1.179963   \n",
       "\n",
       "                 6          7          8         9    ...       466       467  \\\n",
       "297.233337  2.107142  16.889346  43.431215  7.726851  ...  0.361727  2.918032   \n",
       "297.799988  2.107142  16.889346  43.431215  7.726851  ...  0.361727  2.918032   \n",
       "300.866669  2.699467  21.637000  55.639879  9.898895  ...  0.463410  3.738301   \n",
       "\n",
       "                 468        469       470       471       472       473  \\\n",
       "297.233337  5.642390  36.672990  5.284059  4.124300  3.045750  3.480728   \n",
       "297.799988  5.642390  36.672990  5.284059  4.124300  3.045750  3.480728   \n",
       "300.866669  7.228485  46.981894  6.769426  5.283654  3.901921  4.459172   \n",
       "\n",
       "                 474         475  \n",
       "297.233337  3.415407  123.153840  \n",
       "297.799988  3.415407  123.153840  \n",
       "300.866669  4.375489  157.772807  \n",
       "\n",
       "[3 rows x 476 columns]"
      ]
     },
     "execution_count": 9,
     "metadata": {},
     "output_type": "execute_result"
    }
   ],
   "source": [
    "df_cum_hazards = model.predict_cumulative_hazard_function(X_train, X_test, y_train, y_test)\n",
    "df_cum_hazards.tail(3)"
   ]
  },
  {
   "attachments": {},
   "cell_type": "markdown",
   "metadata": {},
   "source": [
    "## Predict Survival Function"
   ]
  },
  {
   "cell_type": "code",
   "execution_count": 10,
   "metadata": {},
   "outputs": [
    {
     "data": {
      "text/html": [
       "<div>\n",
       "<style scoped>\n",
       "    .dataframe tbody tr th:only-of-type {\n",
       "        vertical-align: middle;\n",
       "    }\n",
       "\n",
       "    .dataframe tbody tr th {\n",
       "        vertical-align: top;\n",
       "    }\n",
       "\n",
       "    .dataframe thead th {\n",
       "        text-align: right;\n",
       "    }\n",
       "</style>\n",
       "<table border=\"1\" class=\"dataframe\">\n",
       "  <thead>\n",
       "    <tr style=\"text-align: right;\">\n",
       "      <th></th>\n",
       "      <th>0</th>\n",
       "      <th>1</th>\n",
       "      <th>2</th>\n",
       "      <th>3</th>\n",
       "      <th>4</th>\n",
       "      <th>5</th>\n",
       "      <th>6</th>\n",
       "      <th>7</th>\n",
       "      <th>8</th>\n",
       "      <th>9</th>\n",
       "      <th>...</th>\n",
       "      <th>466</th>\n",
       "      <th>467</th>\n",
       "      <th>468</th>\n",
       "      <th>469</th>\n",
       "      <th>470</th>\n",
       "      <th>471</th>\n",
       "      <th>472</th>\n",
       "      <th>473</th>\n",
       "      <th>474</th>\n",
       "      <th>475</th>\n",
       "    </tr>\n",
       "  </thead>\n",
       "  <tbody>\n",
       "    <tr>\n",
       "      <th>297.233337</th>\n",
       "      <td>8.851913e-07</td>\n",
       "      <td>8.398304e-07</td>\n",
       "      <td>0.000322</td>\n",
       "      <td>0.001608</td>\n",
       "      <td>9.458549e-09</td>\n",
       "      <td>0.39810</td>\n",
       "      <td>0.121585</td>\n",
       "      <td>4.624343e-08</td>\n",
       "      <td>1.374241e-19</td>\n",
       "      <td>0.000441</td>\n",
       "      <td>...</td>\n",
       "      <td>0.696472</td>\n",
       "      <td>0.054040</td>\n",
       "      <td>0.003544</td>\n",
       "      <td>1.183376e-16</td>\n",
       "      <td>0.005072</td>\n",
       "      <td>0.016175</td>\n",
       "      <td>0.047561</td>\n",
       "      <td>0.030785</td>\n",
       "      <td>0.032863</td>\n",
       "      <td>3.273156e-54</td>\n",
       "    </tr>\n",
       "    <tr>\n",
       "      <th>297.799988</th>\n",
       "      <td>8.851913e-07</td>\n",
       "      <td>8.398304e-07</td>\n",
       "      <td>0.000322</td>\n",
       "      <td>0.001608</td>\n",
       "      <td>9.458549e-09</td>\n",
       "      <td>0.39810</td>\n",
       "      <td>0.121585</td>\n",
       "      <td>4.624343e-08</td>\n",
       "      <td>1.374241e-19</td>\n",
       "      <td>0.000441</td>\n",
       "      <td>...</td>\n",
       "      <td>0.696472</td>\n",
       "      <td>0.054040</td>\n",
       "      <td>0.003544</td>\n",
       "      <td>1.183376e-16</td>\n",
       "      <td>0.005072</td>\n",
       "      <td>0.016175</td>\n",
       "      <td>0.047561</td>\n",
       "      <td>0.030785</td>\n",
       "      <td>0.032863</td>\n",
       "      <td>3.273156e-54</td>\n",
       "    </tr>\n",
       "    <tr>\n",
       "      <th>300.866669</th>\n",
       "      <td>1.760064e-08</td>\n",
       "      <td>1.645360e-08</td>\n",
       "      <td>0.000034</td>\n",
       "      <td>0.000264</td>\n",
       "      <td>5.250507e-11</td>\n",
       "      <td>0.30729</td>\n",
       "      <td>0.067241</td>\n",
       "      <td>4.010241e-10</td>\n",
       "      <td>6.853427e-25</td>\n",
       "      <td>0.000050</td>\n",
       "      <td>...</td>\n",
       "      <td>0.629135</td>\n",
       "      <td>0.023794</td>\n",
       "      <td>0.000726</td>\n",
       "      <td>3.944780e-21</td>\n",
       "      <td>0.001148</td>\n",
       "      <td>0.005074</td>\n",
       "      <td>0.020203</td>\n",
       "      <td>0.011572</td>\n",
       "      <td>0.012582</td>\n",
       "      <td>3.020928e-69</td>\n",
       "    </tr>\n",
       "  </tbody>\n",
       "</table>\n",
       "<p>3 rows × 476 columns</p>\n",
       "</div>"
      ],
      "text/plain": [
       "                     0             1         2         3             4    \\\n",
       "297.233337  8.851913e-07  8.398304e-07  0.000322  0.001608  9.458549e-09   \n",
       "297.799988  8.851913e-07  8.398304e-07  0.000322  0.001608  9.458549e-09   \n",
       "300.866669  1.760064e-08  1.645360e-08  0.000034  0.000264  5.250507e-11   \n",
       "\n",
       "                5         6             7             8         9    ...  \\\n",
       "297.233337  0.39810  0.121585  4.624343e-08  1.374241e-19  0.000441  ...   \n",
       "297.799988  0.39810  0.121585  4.624343e-08  1.374241e-19  0.000441  ...   \n",
       "300.866669  0.30729  0.067241  4.010241e-10  6.853427e-25  0.000050  ...   \n",
       "\n",
       "                 466       467       468           469       470       471  \\\n",
       "297.233337  0.696472  0.054040  0.003544  1.183376e-16  0.005072  0.016175   \n",
       "297.799988  0.696472  0.054040  0.003544  1.183376e-16  0.005072  0.016175   \n",
       "300.866669  0.629135  0.023794  0.000726  3.944780e-21  0.001148  0.005074   \n",
       "\n",
       "                 472       473       474           475  \n",
       "297.233337  0.047561  0.030785  0.032863  3.273156e-54  \n",
       "297.799988  0.047561  0.030785  0.032863  3.273156e-54  \n",
       "300.866669  0.020203  0.011572  0.012582  3.020928e-69  \n",
       "\n",
       "[3 rows x 476 columns]"
      ]
     },
     "execution_count": 10,
     "metadata": {},
     "output_type": "execute_result"
    }
   ],
   "source": [
    "df_survival_function = model.predict_survival_function(X_train, X_test, y_train, y_test)\n",
    "df_survival_function.tail(3)"
   ]
  },
  {
   "attachments": {},
   "cell_type": "markdown",
   "metadata": {},
   "source": [
    "### Visualize Predictions"
   ]
  },
  {
   "cell_type": "code",
   "execution_count": 11,
   "metadata": {},
   "outputs": [
    {
     "data": {
      "text/plain": [
       "Text(0.5, 1.0, 'Cumulative Hazard Breslow')"
      ]
     },
     "execution_count": 11,
     "metadata": {},
     "output_type": "execute_result"
    },
    {
     "data": {
      "image/png": "[encoded data removed]",
      "text/plain": [
       "<Figure size 640x480 with 1 Axes>"
      ]
     },
     "metadata": {},
     "output_type": "display_data"
    }
   ],
   "source": [
    "df_cum_hazards.iloc[:, :5].plot(drawstyle='steps-post')\n",
    "plt.ylabel('S(t | x)')\n",
    "_ = plt.xlabel('Time')\n",
    "plt.title(\"Cumulative Hazard Breslow\")"
   ]
  },
  {
   "cell_type": "code",
   "execution_count": 12,
   "metadata": {},
   "outputs": [
    {
     "data": {
      "text/plain": [
       "Text(0.5, 1.0, 'Survival Curve Breslow')"
      ]
     },
     "execution_count": 12,
     "metadata": {},
     "output_type": "execute_result"
    },
    {
     "data": {
      "image/png": "[encoded data removed]",
      "text/plain": [
       "<Figure size 640x480 with 1 Axes>"
      ]
     },
     "metadata": {},
     "output_type": "display_data"
    }
   ],
   "source": [
    "df_survival_function.iloc[:, :5].plot(drawstyle='steps-post')\n",
    "plt.ylabel('S(t | x)')\n",
    "_ = plt.xlabel('Time')\n",
    "plt.title(\"Survival Curve Breslow\")"
   ]
  },
  {
   "attachments": {},
   "cell_type": "markdown",
   "metadata": {},
   "source": [
    "## Evaluate"
   ]
  },
  {
   "attachments": {},
   "cell_type": "markdown",
   "metadata": {},
   "source": [
    "### Test"
   ]
  },
  {
   "cell_type": "code",
   "execution_count": 13,
   "metadata": {},
   "outputs": [
    {
     "name": "stdout",
     "output_type": "stream",
     "text": [
      "Concordance Index 0.6165476205742424\n"
     ]
    }
   ],
   "source": [
    "durations_test, events_test = transform_back(y_test)\n",
    "time_grid = np.linspace(durations_test.min(), durations_test.max(), 100)\n",
    "ev = EvalSurv(df_survival_function, durations_test, events_test, censor_surv='km')\n",
    "print('Concordance Index',ev.concordance_td('antolini'))"
   ]
  },
  {
   "cell_type": "code",
   "execution_count": 14,
   "metadata": {},
   "outputs": [
    {
     "name": "stdout",
     "output_type": "stream",
     "text": [
      "Integrated Brier Score: 0.20464930130446557\n"
     ]
    }
   ],
   "source": [
    "print('Integrated Brier Score:',ev.integrated_brier_score(time_grid))"
   ]
  },
  {
   "cell_type": "code",
   "execution_count": null,
   "metadata": {},
   "outputs": [],
   "source": []
  }
 ],
 "metadata": {
  "kernelspec": {
   "display_name": "xgbsurv",
   "language": "python",
   "name": "python3"
  },
  "language_info": {
   "codemirror_mode": {
    "name": "ipython",
    "version": 3
   },
   "file_extension": ".py",
   "mimetype": "text/x-python",
   "name": "python",
   "nbconvert_exporter": "python",
   "pygments_lexer": "ipython3",
   "version": "3.11.3"
  },
  "orig_nbformat": 4
 },
 "nbformat": 4,
 "nbformat_minor": 2
}
