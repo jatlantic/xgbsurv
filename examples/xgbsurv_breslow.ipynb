{
 "cells": [
  {
   "attachments": {},
   "cell_type": "markdown",
   "metadata": {},
   "source": [
    "# Introduction to the xgbsurv package - Breslow\n",
    "\n",
    "This notebook introduces `xgbsurv` using a specific dataset. It structured by the following steps:\n",
    "\n",
    "- Load data\n",
    "- Load model\n",
    "- Fit model\n",
    "- Predict and evaluate model\n",
    "\n",
    "The syntax conveniently follows that of sklearn."
   ]
  },
  {
   "cell_type": "code",
   "execution_count": 22,
   "metadata": {},
   "outputs": [],
   "source": [
    "from xgbsurv.datasets import load_metabric\n",
    "from xgbsurv import XGBSurv\n",
    "from xgbsurv.models.utils import sort_X_y, transform_back\n",
    "from pycox.evaluation import EvalSurv\n",
    "from sklearn.model_selection import train_test_split\n",
    "import numpy as np\n",
    "import matplotlib.pyplot as plt\n",
    "import os\n",
    "current_path = os.getcwd() \n",
    "one_level_up = os.path.abspath(os.path.join(current_path,  \"..\"))"
   ]
  },
  {
   "attachments": {},
   "cell_type": "markdown",
   "metadata": {},
   "source": [
    "## Load Data"
   ]
  },
  {
   "cell_type": "code",
   "execution_count": 23,
   "metadata": {},
   "outputs": [
    {
     "name": "stdout",
     "output_type": "stream",
     "text": [
      "Values are being sorted!\n",
      "Values are being sorted!\n"
     ]
    }
   ],
   "source": [
    "data = load_metabric(path=one_level_up+\"/xgbsurv/datasets/data/\", as_frame=False)\n",
    "# stratify by event indicated by sign\n",
    "target_sign = np.sign(data.target)\n",
    "X_train, X_test, y_train, y_test = train_test_split(data.data, data.target, stratify=target_sign)\n",
    "# sort data\n",
    "X_train, y_train = sort_X_y(X_train, y_train)\n",
    "X_test, y_test = sort_X_y(X_test, y_test)"
   ]
  },
  {
   "attachments": {},
   "cell_type": "markdown",
   "metadata": {},
   "source": [
    "## Load Model"
   ]
  },
  {
   "cell_type": "code",
   "execution_count": 60,
   "metadata": {},
   "outputs": [
    {
     "data": {
      "text/html": [
       "<style>#sk-container-id-14 {color: black;background-color: white;}#sk-container-id-14 pre{padding: 0;}#sk-container-id-14 div.sk-toggleable {background-color: white;}#sk-container-id-14 label.sk-toggleable__label {cursor: pointer;display: block;width: 100%;margin-bottom: 0;padding: 0.3em;box-sizing: border-box;text-align: center;}#sk-container-id-14 label.sk-toggleable__label-arrow:before {content: \"▸\";float: left;margin-right: 0.25em;color: #696969;}#sk-container-id-14 label.sk-toggleable__label-arrow:hover:before {color: black;}#sk-container-id-14 div.sk-estimator:hover label.sk-toggleable__label-arrow:before {color: black;}#sk-container-id-14 div.sk-toggleable__content {max-height: 0;max-width: 0;overflow: hidden;text-align: left;background-color: #f0f8ff;}#sk-container-id-14 div.sk-toggleable__content pre {margin: 0.2em;color: black;border-radius: 0.25em;background-color: #f0f8ff;}#sk-container-id-14 input.sk-toggleable__control:checked~div.sk-toggleable__content {max-height: 200px;max-width: 100%;overflow: auto;}#sk-container-id-14 input.sk-toggleable__control:checked~label.sk-toggleable__label-arrow:before {content: \"▾\";}#sk-container-id-14 div.sk-estimator input.sk-toggleable__control:checked~label.sk-toggleable__label {background-color: #d4ebff;}#sk-container-id-14 div.sk-label input.sk-toggleable__control:checked~label.sk-toggleable__label {background-color: #d4ebff;}#sk-container-id-14 input.sk-hidden--visually {border: 0;clip: rect(1px 1px 1px 1px);clip: rect(1px, 1px, 1px, 1px);height: 1px;margin: -1px;overflow: hidden;padding: 0;position: absolute;width: 1px;}#sk-container-id-14 div.sk-estimator {font-family: monospace;background-color: #f0f8ff;border: 1px dotted black;border-radius: 0.25em;box-sizing: border-box;margin-bottom: 0.5em;}#sk-container-id-14 div.sk-estimator:hover {background-color: #d4ebff;}#sk-container-id-14 div.sk-parallel-item::after {content: \"\";width: 100%;border-bottom: 1px solid gray;flex-grow: 1;}#sk-container-id-14 div.sk-label:hover label.sk-toggleable__label {background-color: #d4ebff;}#sk-container-id-14 div.sk-serial::before {content: \"\";position: absolute;border-left: 1px solid gray;box-sizing: border-box;top: 0;bottom: 0;left: 50%;z-index: 0;}#sk-container-id-14 div.sk-serial {display: flex;flex-direction: column;align-items: center;background-color: white;padding-right: 0.2em;padding-left: 0.2em;position: relative;}#sk-container-id-14 div.sk-item {position: relative;z-index: 1;}#sk-container-id-14 div.sk-parallel {display: flex;align-items: stretch;justify-content: center;background-color: white;position: relative;}#sk-container-id-14 div.sk-item::before, #sk-container-id-14 div.sk-parallel-item::before {content: \"\";position: absolute;border-left: 1px solid gray;box-sizing: border-box;top: 0;bottom: 0;left: 50%;z-index: -1;}#sk-container-id-14 div.sk-parallel-item {display: flex;flex-direction: column;z-index: 1;position: relative;background-color: white;}#sk-container-id-14 div.sk-parallel-item:first-child::after {align-self: flex-end;width: 50%;}#sk-container-id-14 div.sk-parallel-item:last-child::after {align-self: flex-start;width: 50%;}#sk-container-id-14 div.sk-parallel-item:only-child::after {width: 0;}#sk-container-id-14 div.sk-dashed-wrapped {border: 1px dashed gray;margin: 0 0.4em 0.5em 0.4em;box-sizing: border-box;padding-bottom: 0.4em;background-color: white;}#sk-container-id-14 div.sk-label label {font-family: monospace;font-weight: bold;display: inline-block;line-height: 1.2em;}#sk-container-id-14 div.sk-label-container {text-align: center;}#sk-container-id-14 div.sk-container {/* jupyter's `normalize.less` sets `[hidden] { display: none; }` but bootstrap.min.css set `[hidden] { display: none !important; }` so we also need the `!important` here to be able to override the default hidden behavior on the sphinx rendered scikit-learn.org. See: https://github.com/scikit-learn/scikit-learn/issues/21755 */display: inline-block !important;position: relative;}#sk-container-id-14 div.sk-text-repr-fallback {display: none;}</style><div id=\"sk-container-id-14\" class=\"sk-top-container\"><div class=\"sk-text-repr-fallback\"><pre>XGBSurv(base_score=None, booster=None, callbacks=None, colsample_bylevel=None,\n",
       "        colsample_bynode=None, colsample_bytree=None,\n",
       "        disable_default_eval_metric=1, early_stopping_rounds=None,\n",
       "        enable_categorical=False,\n",
       "        eval_metric=CPUDispatcher(&lt;function breslow_likelihood at 0x2974ffce0&gt;),\n",
       "        feature_types=None, gamma=None, gpu_id=None, grow_policy=None,\n",
       "        importance_type=None, interaction_constraints=None, learning_rate=0.3,\n",
       "        max_bin=None, max_cat_threshold=None, max_cat_to_onehot=None,\n",
       "        max_delta_step=None, max_depth=None, max_leaves=None,\n",
       "        min_child_weight=None, missing=nan, monotone_constraints=None,\n",
       "        n_estimators=100, n_jobs=None, num_parallel_tree=None,\n",
       "        objective=CPUDispatcher(&lt;function breslow_objective at 0x297519300&gt;), ...)</pre><b>In a Jupyter environment, please rerun this cell to show the HTML representation or trust the notebook. <br />On GitHub, the HTML representation is unable to render, please try loading this page with nbviewer.org.</b></div><div class=\"sk-container\" hidden><div class=\"sk-item\"><div class=\"sk-estimator sk-toggleable\"><input class=\"sk-toggleable__control sk-hidden--visually\" id=\"sk-estimator-id-14\" type=\"checkbox\" checked><label for=\"sk-estimator-id-14\" class=\"sk-toggleable__label sk-toggleable__label-arrow\">XGBSurv</label><div class=\"sk-toggleable__content\"><pre>XGBSurv(base_score=None, booster=None, callbacks=None, colsample_bylevel=None,\n",
       "        colsample_bynode=None, colsample_bytree=None,\n",
       "        disable_default_eval_metric=1, early_stopping_rounds=None,\n",
       "        enable_categorical=False,\n",
       "        eval_metric=CPUDispatcher(&lt;function breslow_likelihood at 0x2974ffce0&gt;),\n",
       "        feature_types=None, gamma=None, gpu_id=None, grow_policy=None,\n",
       "        importance_type=None, interaction_constraints=None, learning_rate=0.3,\n",
       "        max_bin=None, max_cat_threshold=None, max_cat_to_onehot=None,\n",
       "        max_delta_step=None, max_depth=None, max_leaves=None,\n",
       "        min_child_weight=None, missing=nan, monotone_constraints=None,\n",
       "        n_estimators=100, n_jobs=None, num_parallel_tree=None,\n",
       "        objective=CPUDispatcher(&lt;function breslow_objective at 0x297519300&gt;), ...)</pre></div></div></div></div></div>"
      ],
      "text/plain": [
       "XGBSurv(base_score=None, booster=None, callbacks=None, colsample_bylevel=None,\n",
       "        colsample_bynode=None, colsample_bytree=None,\n",
       "        disable_default_eval_metric=1, early_stopping_rounds=None,\n",
       "        enable_categorical=False,\n",
       "        eval_metric=CPUDispatcher(<function breslow_likelihood at 0x2974ffce0>),\n",
       "        feature_types=None, gamma=None, gpu_id=None, grow_policy=None,\n",
       "        importance_type=None, interaction_constraints=None, learning_rate=0.3,\n",
       "        max_bin=None, max_cat_threshold=None, max_cat_to_onehot=None,\n",
       "        max_delta_step=None, max_depth=None, max_leaves=None,\n",
       "        min_child_weight=None, missing=nan, monotone_constraints=None,\n",
       "        n_estimators=100, n_jobs=None, num_parallel_tree=None,\n",
       "        objective=CPUDispatcher(<function breslow_objective at 0x297519300>), ...)"
      ]
     },
     "execution_count": 60,
     "metadata": {},
     "output_type": "execute_result"
    }
   ],
   "source": [
    "model = XGBSurv(n_estimators=100, objective=\"breslow_objective\",\n",
    "                                             eval_metric=\"breslow_loss\",\n",
    "                                             learning_rate=0.3,\n",
    "                                             random_state=42, \n",
    "                                             disable_default_eval_metric=1,\n",
    "                                             )\n",
    "model"
   ]
  },
  {
   "attachments": {},
   "cell_type": "markdown",
   "metadata": {},
   "source": [
    "The options of loss and objective functions can be obtained like below:"
   ]
  },
  {
   "cell_type": "code",
   "execution_count": 61,
   "metadata": {},
   "outputs": [
    {
     "name": "stdout",
     "output_type": "stream",
     "text": [
      "dict_keys(['breslow_loss', 'efron_loss', 'cind_loss', 'deephit_loss', 'aft_loss', 'ah_loss', 'eh_loss'])\n",
      "dict_keys(['breslow_objective', 'efron_objective', 'cind_objective', 'deephit_objective', 'aft_objective', 'ah_objective', 'eh_objective'])\n"
     ]
    }
   ],
   "source": [
    "print(model.get_loss_functions().keys())\n",
    "print(model.get_objective_functions().keys())"
   ]
  },
  {
   "attachments": {},
   "cell_type": "markdown",
   "metadata": {},
   "source": [
    "## Fit Model"
   ]
  },
  {
   "cell_type": "code",
   "execution_count": 62,
   "metadata": {},
   "outputs": [],
   "source": [
    "eval_set = [(X_train, y_train)]"
   ]
  },
  {
   "cell_type": "code",
   "execution_count": 63,
   "metadata": {},
   "outputs": [
    {
     "name": "stdout",
     "output_type": "stream",
     "text": [
      "[0]\tvalidation_0-breslow_likelihood:6.37333\n",
      "[1]\tvalidation_0-breslow_likelihood:6.28065\n",
      "[2]\tvalidation_0-breslow_likelihood:6.19240\n",
      "[3]\tvalidation_0-breslow_likelihood:6.13472\n",
      "[4]\tvalidation_0-breslow_likelihood:6.08066\n",
      "[5]\tvalidation_0-breslow_likelihood:6.05734\n",
      "[6]\tvalidation_0-breslow_likelihood:6.00029\n",
      "[7]\tvalidation_0-breslow_likelihood:5.95976\n",
      "[8]\tvalidation_0-breslow_likelihood:5.93380\n",
      "[9]\tvalidation_0-breslow_likelihood:5.91447\n",
      "[10]\tvalidation_0-breslow_likelihood:5.89635\n",
      "[11]\tvalidation_0-breslow_likelihood:5.88649\n",
      "[12]\tvalidation_0-breslow_likelihood:5.86888\n",
      "[13]\tvalidation_0-breslow_likelihood:5.83333\n",
      "[14]\tvalidation_0-breslow_likelihood:5.80339\n",
      "[15]\tvalidation_0-breslow_likelihood:5.78721\n",
      "[16]\tvalidation_0-breslow_likelihood:5.77726\n",
      "[17]\tvalidation_0-breslow_likelihood:5.77185\n",
      "[18]\tvalidation_0-breslow_likelihood:5.73977\n",
      "[19]\tvalidation_0-breslow_likelihood:5.70202\n",
      "[20]\tvalidation_0-breslow_likelihood:5.68568\n",
      "[21]\tvalidation_0-breslow_likelihood:5.67442\n",
      "[22]\tvalidation_0-breslow_likelihood:5.66489\n",
      "[23]\tvalidation_0-breslow_likelihood:5.65376\n",
      "[24]\tvalidation_0-breslow_likelihood:5.62753\n",
      "[25]\tvalidation_0-breslow_likelihood:5.60492\n",
      "[26]\tvalidation_0-breslow_likelihood:5.59298\n",
      "[27]\tvalidation_0-breslow_likelihood:5.57777\n",
      "[28]\tvalidation_0-breslow_likelihood:5.57154\n",
      "[29]\tvalidation_0-breslow_likelihood:5.56654\n",
      "[30]\tvalidation_0-breslow_likelihood:5.54344\n",
      "[31]\tvalidation_0-breslow_likelihood:5.53281\n",
      "[32]\tvalidation_0-breslow_likelihood:5.51614\n",
      "[33]\tvalidation_0-breslow_likelihood:5.51044\n",
      "[34]\tvalidation_0-breslow_likelihood:5.49703\n",
      "[35]\tvalidation_0-breslow_likelihood:5.48091\n",
      "[36]\tvalidation_0-breslow_likelihood:5.46304\n",
      "[37]\tvalidation_0-breslow_likelihood:5.44013\n",
      "[38]\tvalidation_0-breslow_likelihood:5.41287\n",
      "[39]\tvalidation_0-breslow_likelihood:5.39838\n",
      "[40]\tvalidation_0-breslow_likelihood:5.38035\n",
      "[41]\tvalidation_0-breslow_likelihood:5.36432\n",
      "[42]\tvalidation_0-breslow_likelihood:5.33774\n",
      "[43]\tvalidation_0-breslow_likelihood:5.32875\n",
      "[44]\tvalidation_0-breslow_likelihood:5.32001\n",
      "[45]\tvalidation_0-breslow_likelihood:5.31754\n",
      "[46]\tvalidation_0-breslow_likelihood:5.30398\n",
      "[47]\tvalidation_0-breslow_likelihood:5.29032\n",
      "[48]\tvalidation_0-breslow_likelihood:5.28168\n",
      "[49]\tvalidation_0-breslow_likelihood:5.27730\n",
      "[50]\tvalidation_0-breslow_likelihood:5.26758\n",
      "[51]\tvalidation_0-breslow_likelihood:5.26233\n",
      "[52]\tvalidation_0-breslow_likelihood:5.25442\n",
      "[53]\tvalidation_0-breslow_likelihood:5.24536\n",
      "[54]\tvalidation_0-breslow_likelihood:5.24164\n",
      "[55]\tvalidation_0-breslow_likelihood:5.23002\n",
      "[56]\tvalidation_0-breslow_likelihood:5.22536\n",
      "[57]\tvalidation_0-breslow_likelihood:5.21789\n",
      "[58]\tvalidation_0-breslow_likelihood:5.21307\n",
      "[59]\tvalidation_0-breslow_likelihood:5.20623\n",
      "[60]\tvalidation_0-breslow_likelihood:5.19928\n",
      "[61]\tvalidation_0-breslow_likelihood:5.19608\n",
      "[62]\tvalidation_0-breslow_likelihood:5.18174\n",
      "[63]\tvalidation_0-breslow_likelihood:5.16969\n",
      "[64]\tvalidation_0-breslow_likelihood:5.16461\n",
      "[65]\tvalidation_0-breslow_likelihood:5.15485\n",
      "[66]\tvalidation_0-breslow_likelihood:5.14814\n",
      "[67]\tvalidation_0-breslow_likelihood:5.14418\n",
      "[68]\tvalidation_0-breslow_likelihood:5.14194\n",
      "[69]\tvalidation_0-breslow_likelihood:5.12894\n",
      "[70]\tvalidation_0-breslow_likelihood:5.11703\n",
      "[71]\tvalidation_0-breslow_likelihood:5.10644\n",
      "[72]\tvalidation_0-breslow_likelihood:5.08801\n",
      "[73]\tvalidation_0-breslow_likelihood:5.07904\n",
      "[74]\tvalidation_0-breslow_likelihood:5.07290\n",
      "[75]\tvalidation_0-breslow_likelihood:5.06278\n",
      "[76]\tvalidation_0-breslow_likelihood:5.05915\n",
      "[77]\tvalidation_0-breslow_likelihood:5.05637\n",
      "[78]\tvalidation_0-breslow_likelihood:5.05280\n",
      "[79]\tvalidation_0-breslow_likelihood:5.05104\n",
      "[80]\tvalidation_0-breslow_likelihood:5.04252\n",
      "[81]\tvalidation_0-breslow_likelihood:5.02592\n",
      "[82]\tvalidation_0-breslow_likelihood:5.02000\n",
      "[83]\tvalidation_0-breslow_likelihood:5.00999\n",
      "[84]\tvalidation_0-breslow_likelihood:4.99856\n",
      "[85]\tvalidation_0-breslow_likelihood:4.99176\n",
      "[86]\tvalidation_0-breslow_likelihood:4.98980\n",
      "[87]\tvalidation_0-breslow_likelihood:4.98132\n",
      "[88]\tvalidation_0-breslow_likelihood:4.97036\n",
      "[89]\tvalidation_0-breslow_likelihood:4.96454\n",
      "[90]\tvalidation_0-breslow_likelihood:4.95645\n",
      "[91]\tvalidation_0-breslow_likelihood:4.94780\n",
      "[92]\tvalidation_0-breslow_likelihood:4.93942\n",
      "[93]\tvalidation_0-breslow_likelihood:4.93031\n",
      "[94]\tvalidation_0-breslow_likelihood:4.92133\n",
      "[95]\tvalidation_0-breslow_likelihood:4.91379\n",
      "[96]\tvalidation_0-breslow_likelihood:4.90933\n",
      "[97]\tvalidation_0-breslow_likelihood:4.90446\n",
      "[98]\tvalidation_0-breslow_likelihood:4.89103\n",
      "[99]\tvalidation_0-breslow_likelihood:4.88373\n"
     ]
    },
    {
     "data": {
      "text/html": [
       "<style>#sk-container-id-15 {color: black;background-color: white;}#sk-container-id-15 pre{padding: 0;}#sk-container-id-15 div.sk-toggleable {background-color: white;}#sk-container-id-15 label.sk-toggleable__label {cursor: pointer;display: block;width: 100%;margin-bottom: 0;padding: 0.3em;box-sizing: border-box;text-align: center;}#sk-container-id-15 label.sk-toggleable__label-arrow:before {content: \"▸\";float: left;margin-right: 0.25em;color: #696969;}#sk-container-id-15 label.sk-toggleable__label-arrow:hover:before {color: black;}#sk-container-id-15 div.sk-estimator:hover label.sk-toggleable__label-arrow:before {color: black;}#sk-container-id-15 div.sk-toggleable__content {max-height: 0;max-width: 0;overflow: hidden;text-align: left;background-color: #f0f8ff;}#sk-container-id-15 div.sk-toggleable__content pre {margin: 0.2em;color: black;border-radius: 0.25em;background-color: #f0f8ff;}#sk-container-id-15 input.sk-toggleable__control:checked~div.sk-toggleable__content {max-height: 200px;max-width: 100%;overflow: auto;}#sk-container-id-15 input.sk-toggleable__control:checked~label.sk-toggleable__label-arrow:before {content: \"▾\";}#sk-container-id-15 div.sk-estimator input.sk-toggleable__control:checked~label.sk-toggleable__label {background-color: #d4ebff;}#sk-container-id-15 div.sk-label input.sk-toggleable__control:checked~label.sk-toggleable__label {background-color: #d4ebff;}#sk-container-id-15 input.sk-hidden--visually {border: 0;clip: rect(1px 1px 1px 1px);clip: rect(1px, 1px, 1px, 1px);height: 1px;margin: -1px;overflow: hidden;padding: 0;position: absolute;width: 1px;}#sk-container-id-15 div.sk-estimator {font-family: monospace;background-color: #f0f8ff;border: 1px dotted black;border-radius: 0.25em;box-sizing: border-box;margin-bottom: 0.5em;}#sk-container-id-15 div.sk-estimator:hover {background-color: #d4ebff;}#sk-container-id-15 div.sk-parallel-item::after {content: \"\";width: 100%;border-bottom: 1px solid gray;flex-grow: 1;}#sk-container-id-15 div.sk-label:hover label.sk-toggleable__label {background-color: #d4ebff;}#sk-container-id-15 div.sk-serial::before {content: \"\";position: absolute;border-left: 1px solid gray;box-sizing: border-box;top: 0;bottom: 0;left: 50%;z-index: 0;}#sk-container-id-15 div.sk-serial {display: flex;flex-direction: column;align-items: center;background-color: white;padding-right: 0.2em;padding-left: 0.2em;position: relative;}#sk-container-id-15 div.sk-item {position: relative;z-index: 1;}#sk-container-id-15 div.sk-parallel {display: flex;align-items: stretch;justify-content: center;background-color: white;position: relative;}#sk-container-id-15 div.sk-item::before, #sk-container-id-15 div.sk-parallel-item::before {content: \"\";position: absolute;border-left: 1px solid gray;box-sizing: border-box;top: 0;bottom: 0;left: 50%;z-index: -1;}#sk-container-id-15 div.sk-parallel-item {display: flex;flex-direction: column;z-index: 1;position: relative;background-color: white;}#sk-container-id-15 div.sk-parallel-item:first-child::after {align-self: flex-end;width: 50%;}#sk-container-id-15 div.sk-parallel-item:last-child::after {align-self: flex-start;width: 50%;}#sk-container-id-15 div.sk-parallel-item:only-child::after {width: 0;}#sk-container-id-15 div.sk-dashed-wrapped {border: 1px dashed gray;margin: 0 0.4em 0.5em 0.4em;box-sizing: border-box;padding-bottom: 0.4em;background-color: white;}#sk-container-id-15 div.sk-label label {font-family: monospace;font-weight: bold;display: inline-block;line-height: 1.2em;}#sk-container-id-15 div.sk-label-container {text-align: center;}#sk-container-id-15 div.sk-container {/* jupyter's `normalize.less` sets `[hidden] { display: none; }` but bootstrap.min.css set `[hidden] { display: none !important; }` so we also need the `!important` here to be able to override the default hidden behavior on the sphinx rendered scikit-learn.org. See: https://github.com/scikit-learn/scikit-learn/issues/21755 */display: inline-block !important;position: relative;}#sk-container-id-15 div.sk-text-repr-fallback {display: none;}</style><div id=\"sk-container-id-15\" class=\"sk-top-container\"><div class=\"sk-text-repr-fallback\"><pre>XGBSurv(base_score=None, booster=None, callbacks=None, colsample_bylevel=None,\n",
       "        colsample_bynode=None, colsample_bytree=None,\n",
       "        disable_default_eval_metric=1, early_stopping_rounds=None,\n",
       "        enable_categorical=False,\n",
       "        eval_metric=CPUDispatcher(&lt;function breslow_likelihood at 0x2974ffce0&gt;),\n",
       "        feature_types=None, gamma=None, gpu_id=None, grow_policy=None,\n",
       "        importance_type=None, interaction_constraints=None, learning_rate=0.3,\n",
       "        max_bin=None, max_cat_threshold=None, max_cat_to_onehot=None,\n",
       "        max_delta_step=None, max_depth=None, max_leaves=None,\n",
       "        min_child_weight=None, missing=nan, monotone_constraints=None,\n",
       "        n_estimators=100, n_jobs=None, num_parallel_tree=None,\n",
       "        objective=CPUDispatcher(&lt;function breslow_objective at 0x297519300&gt;), ...)</pre><b>In a Jupyter environment, please rerun this cell to show the HTML representation or trust the notebook. <br />On GitHub, the HTML representation is unable to render, please try loading this page with nbviewer.org.</b></div><div class=\"sk-container\" hidden><div class=\"sk-item\"><div class=\"sk-estimator sk-toggleable\"><input class=\"sk-toggleable__control sk-hidden--visually\" id=\"sk-estimator-id-15\" type=\"checkbox\" checked><label for=\"sk-estimator-id-15\" class=\"sk-toggleable__label sk-toggleable__label-arrow\">XGBSurv</label><div class=\"sk-toggleable__content\"><pre>XGBSurv(base_score=None, booster=None, callbacks=None, colsample_bylevel=None,\n",
       "        colsample_bynode=None, colsample_bytree=None,\n",
       "        disable_default_eval_metric=1, early_stopping_rounds=None,\n",
       "        enable_categorical=False,\n",
       "        eval_metric=CPUDispatcher(&lt;function breslow_likelihood at 0x2974ffce0&gt;),\n",
       "        feature_types=None, gamma=None, gpu_id=None, grow_policy=None,\n",
       "        importance_type=None, interaction_constraints=None, learning_rate=0.3,\n",
       "        max_bin=None, max_cat_threshold=None, max_cat_to_onehot=None,\n",
       "        max_delta_step=None, max_depth=None, max_leaves=None,\n",
       "        min_child_weight=None, missing=nan, monotone_constraints=None,\n",
       "        n_estimators=100, n_jobs=None, num_parallel_tree=None,\n",
       "        objective=CPUDispatcher(&lt;function breslow_objective at 0x297519300&gt;), ...)</pre></div></div></div></div></div>"
      ],
      "text/plain": [
       "XGBSurv(base_score=None, booster=None, callbacks=None, colsample_bylevel=None,\n",
       "        colsample_bynode=None, colsample_bytree=None,\n",
       "        disable_default_eval_metric=1, early_stopping_rounds=None,\n",
       "        enable_categorical=False,\n",
       "        eval_metric=CPUDispatcher(<function breslow_likelihood at 0x2974ffce0>),\n",
       "        feature_types=None, gamma=None, gpu_id=None, grow_policy=None,\n",
       "        importance_type=None, interaction_constraints=None, learning_rate=0.3,\n",
       "        max_bin=None, max_cat_threshold=None, max_cat_to_onehot=None,\n",
       "        max_delta_step=None, max_depth=None, max_leaves=None,\n",
       "        min_child_weight=None, missing=nan, monotone_constraints=None,\n",
       "        n_estimators=100, n_jobs=None, num_parallel_tree=None,\n",
       "        objective=CPUDispatcher(<function breslow_objective at 0x297519300>), ...)"
      ]
     },
     "execution_count": 63,
     "metadata": {},
     "output_type": "execute_result"
    }
   ],
   "source": [
    "model.fit(X_train, y_train, eval_set=eval_set)"
   ]
  },
  {
   "attachments": {},
   "cell_type": "markdown",
   "metadata": {},
   "source": [
    "The model can be saved like below. Note that objective and eval_metric are not saved."
   ]
  },
  {
   "cell_type": "code",
   "execution_count": 64,
   "metadata": {},
   "outputs": [],
   "source": [
    "#model.save_model(\"introduction_model_breslow.json\")"
   ]
  },
  {
   "attachments": {},
   "cell_type": "markdown",
   "metadata": {},
   "source": [
    "## Predict"
   ]
  },
  {
   "cell_type": "code",
   "execution_count": 65,
   "metadata": {},
   "outputs": [],
   "source": [
    "preds_train = model.predict(X_train, output_margin=True)\n",
    "preds_test = model.predict(X_test, output_margin=True)"
   ]
  },
  {
   "attachments": {},
   "cell_type": "markdown",
   "metadata": {},
   "source": [
    "### Predict Cumulative Hazard"
   ]
  },
  {
   "cell_type": "code",
   "execution_count": 66,
   "metadata": {},
   "outputs": [
    {
     "data": {
      "text/html": [
       "<div>\n",
       "<style scoped>\n",
       "    .dataframe tbody tr th:only-of-type {\n",
       "        vertical-align: middle;\n",
       "    }\n",
       "\n",
       "    .dataframe tbody tr th {\n",
       "        vertical-align: top;\n",
       "    }\n",
       "\n",
       "    .dataframe thead th {\n",
       "        text-align: right;\n",
       "    }\n",
       "</style>\n",
       "<table border=\"1\" class=\"dataframe\">\n",
       "  <thead>\n",
       "    <tr style=\"text-align: right;\">\n",
       "      <th></th>\n",
       "      <th>0</th>\n",
       "      <th>1</th>\n",
       "      <th>2</th>\n",
       "      <th>3</th>\n",
       "      <th>4</th>\n",
       "      <th>5</th>\n",
       "      <th>6</th>\n",
       "      <th>7</th>\n",
       "      <th>8</th>\n",
       "      <th>9</th>\n",
       "      <th>...</th>\n",
       "      <th>466</th>\n",
       "      <th>467</th>\n",
       "      <th>468</th>\n",
       "      <th>469</th>\n",
       "      <th>470</th>\n",
       "      <th>471</th>\n",
       "      <th>472</th>\n",
       "      <th>473</th>\n",
       "      <th>474</th>\n",
       "      <th>475</th>\n",
       "    </tr>\n",
       "  </thead>\n",
       "  <tbody>\n",
       "    <tr>\n",
       "      <th>299.399994</th>\n",
       "      <td>0.783262</td>\n",
       "      <td>8.433967</td>\n",
       "      <td>39.639253</td>\n",
       "      <td>424.688113</td>\n",
       "      <td>34.067807</td>\n",
       "      <td>4.128186</td>\n",
       "      <td>14.506498</td>\n",
       "      <td>25.355337</td>\n",
       "      <td>37.249669</td>\n",
       "      <td>18.398964</td>\n",
       "      <td>...</td>\n",
       "      <td>2.936324</td>\n",
       "      <td>31.845438</td>\n",
       "      <td>7.401373</td>\n",
       "      <td>6.610906</td>\n",
       "      <td>75.181144</td>\n",
       "      <td>4.817302</td>\n",
       "      <td>6.355900</td>\n",
       "      <td>2.195146</td>\n",
       "      <td>7.860963</td>\n",
       "      <td>28.259287</td>\n",
       "    </tr>\n",
       "    <tr>\n",
       "      <th>307.933319</th>\n",
       "      <td>0.899393</td>\n",
       "      <td>9.684437</td>\n",
       "      <td>45.516403</td>\n",
       "      <td>487.654874</td>\n",
       "      <td>39.118901</td>\n",
       "      <td>4.740255</td>\n",
       "      <td>16.657316</td>\n",
       "      <td>29.114669</td>\n",
       "      <td>42.772525</td>\n",
       "      <td>21.126903</td>\n",
       "      <td>...</td>\n",
       "      <td>3.371681</td>\n",
       "      <td>36.567030</td>\n",
       "      <td>8.498745</td>\n",
       "      <td>7.591078</td>\n",
       "      <td>86.327944</td>\n",
       "      <td>5.531543</td>\n",
       "      <td>7.298264</td>\n",
       "      <td>2.520611</td>\n",
       "      <td>9.026475</td>\n",
       "      <td>32.449175</td>\n",
       "    </tr>\n",
       "    <tr>\n",
       "      <th>330.366669</th>\n",
       "      <td>0.899393</td>\n",
       "      <td>9.684437</td>\n",
       "      <td>45.516403</td>\n",
       "      <td>487.654874</td>\n",
       "      <td>39.118901</td>\n",
       "      <td>4.740255</td>\n",
       "      <td>16.657316</td>\n",
       "      <td>29.114669</td>\n",
       "      <td>42.772525</td>\n",
       "      <td>21.126903</td>\n",
       "      <td>...</td>\n",
       "      <td>3.371681</td>\n",
       "      <td>36.567030</td>\n",
       "      <td>8.498745</td>\n",
       "      <td>7.591078</td>\n",
       "      <td>86.327944</td>\n",
       "      <td>5.531543</td>\n",
       "      <td>7.298264</td>\n",
       "      <td>2.520611</td>\n",
       "      <td>9.026475</td>\n",
       "      <td>32.449175</td>\n",
       "    </tr>\n",
       "  </tbody>\n",
       "</table>\n",
       "<p>3 rows × 476 columns</p>\n",
       "</div>"
      ],
      "text/plain": [
       "                 0         1          2           3          4         5    \\\n",
       "299.399994  0.783262  8.433967  39.639253  424.688113  34.067807  4.128186   \n",
       "307.933319  0.899393  9.684437  45.516403  487.654874  39.118901  4.740255   \n",
       "330.366669  0.899393  9.684437  45.516403  487.654874  39.118901  4.740255   \n",
       "\n",
       "                  6          7          8          9    ...       466  \\\n",
       "299.399994  14.506498  25.355337  37.249669  18.398964  ...  2.936324   \n",
       "307.933319  16.657316  29.114669  42.772525  21.126903  ...  3.371681   \n",
       "330.366669  16.657316  29.114669  42.772525  21.126903  ...  3.371681   \n",
       "\n",
       "                  467       468       469        470       471       472  \\\n",
       "299.399994  31.845438  7.401373  6.610906  75.181144  4.817302  6.355900   \n",
       "307.933319  36.567030  8.498745  7.591078  86.327944  5.531543  7.298264   \n",
       "330.366669  36.567030  8.498745  7.591078  86.327944  5.531543  7.298264   \n",
       "\n",
       "                 473       474        475  \n",
       "299.399994  2.195146  7.860963  28.259287  \n",
       "307.933319  2.520611  9.026475  32.449175  \n",
       "330.366669  2.520611  9.026475  32.449175  \n",
       "\n",
       "[3 rows x 476 columns]"
      ]
     },
     "execution_count": 66,
     "metadata": {},
     "output_type": "execute_result"
    }
   ],
   "source": [
    "df_cum_hazards = model.predict_cumulative_hazard_function(X_train, X_test, y_train, y_test)\n",
    "df_cum_hazards.tail(3)"
   ]
  },
  {
   "attachments": {},
   "cell_type": "markdown",
   "metadata": {},
   "source": [
    "## Predict Survival Function"
   ]
  },
  {
   "cell_type": "code",
   "execution_count": 67,
   "metadata": {},
   "outputs": [
    {
     "data": {
      "text/html": [
       "<div>\n",
       "<style scoped>\n",
       "    .dataframe tbody tr th:only-of-type {\n",
       "        vertical-align: middle;\n",
       "    }\n",
       "\n",
       "    .dataframe tbody tr th {\n",
       "        vertical-align: top;\n",
       "    }\n",
       "\n",
       "    .dataframe thead th {\n",
       "        text-align: right;\n",
       "    }\n",
       "</style>\n",
       "<table border=\"1\" class=\"dataframe\">\n",
       "  <thead>\n",
       "    <tr style=\"text-align: right;\">\n",
       "      <th></th>\n",
       "      <th>0</th>\n",
       "      <th>1</th>\n",
       "      <th>2</th>\n",
       "      <th>3</th>\n",
       "      <th>4</th>\n",
       "      <th>5</th>\n",
       "      <th>6</th>\n",
       "      <th>7</th>\n",
       "      <th>8</th>\n",
       "      <th>9</th>\n",
       "      <th>...</th>\n",
       "      <th>466</th>\n",
       "      <th>467</th>\n",
       "      <th>468</th>\n",
       "      <th>469</th>\n",
       "      <th>470</th>\n",
       "      <th>471</th>\n",
       "      <th>472</th>\n",
       "      <th>473</th>\n",
       "      <th>474</th>\n",
       "      <th>475</th>\n",
       "    </tr>\n",
       "  </thead>\n",
       "  <tbody>\n",
       "    <tr>\n",
       "      <th>299.399994</th>\n",
       "      <td>0.456913</td>\n",
       "      <td>0.000217</td>\n",
       "      <td>6.093840e-18</td>\n",
       "      <td>3.633257e-185</td>\n",
       "      <td>1.601545e-15</td>\n",
       "      <td>0.016112</td>\n",
       "      <td>5.010813e-07</td>\n",
       "      <td>9.734576e-12</td>\n",
       "      <td>6.647741e-17</td>\n",
       "      <td>1.021954e-08</td>\n",
       "      <td>...</td>\n",
       "      <td>0.053060</td>\n",
       "      <td>1.478094e-14</td>\n",
       "      <td>0.000610</td>\n",
       "      <td>0.001346</td>\n",
       "      <td>2.234827e-33</td>\n",
       "      <td>0.008089</td>\n",
       "      <td>0.001736</td>\n",
       "      <td>0.111342</td>\n",
       "      <td>0.000386</td>\n",
       "      <td>5.335164e-13</td>\n",
       "    </tr>\n",
       "    <tr>\n",
       "      <th>307.933319</th>\n",
       "      <td>0.406817</td>\n",
       "      <td>0.000062</td>\n",
       "      <td>1.707959e-20</td>\n",
       "      <td>1.637491e-212</td>\n",
       "      <td>1.025362e-17</td>\n",
       "      <td>0.008736</td>\n",
       "      <td>5.832026e-08</td>\n",
       "      <td>2.268089e-13</td>\n",
       "      <td>2.655391e-19</td>\n",
       "      <td>6.678862e-10</td>\n",
       "      <td>...</td>\n",
       "      <td>0.034332</td>\n",
       "      <td>1.315651e-16</td>\n",
       "      <td>0.000204</td>\n",
       "      <td>0.000505</td>\n",
       "      <td>3.222927e-38</td>\n",
       "      <td>0.003960</td>\n",
       "      <td>0.000677</td>\n",
       "      <td>0.080410</td>\n",
       "      <td>0.000120</td>\n",
       "      <td>8.081693e-15</td>\n",
       "    </tr>\n",
       "    <tr>\n",
       "      <th>330.366669</th>\n",
       "      <td>0.406817</td>\n",
       "      <td>0.000062</td>\n",
       "      <td>1.707959e-20</td>\n",
       "      <td>1.637491e-212</td>\n",
       "      <td>1.025362e-17</td>\n",
       "      <td>0.008736</td>\n",
       "      <td>5.832026e-08</td>\n",
       "      <td>2.268089e-13</td>\n",
       "      <td>2.655391e-19</td>\n",
       "      <td>6.678862e-10</td>\n",
       "      <td>...</td>\n",
       "      <td>0.034332</td>\n",
       "      <td>1.315651e-16</td>\n",
       "      <td>0.000204</td>\n",
       "      <td>0.000505</td>\n",
       "      <td>3.222927e-38</td>\n",
       "      <td>0.003960</td>\n",
       "      <td>0.000677</td>\n",
       "      <td>0.080410</td>\n",
       "      <td>0.000120</td>\n",
       "      <td>8.081693e-15</td>\n",
       "    </tr>\n",
       "  </tbody>\n",
       "</table>\n",
       "<p>3 rows × 476 columns</p>\n",
       "</div>"
      ],
      "text/plain": [
       "                 0         1             2              3             4    \\\n",
       "299.399994  0.456913  0.000217  6.093840e-18  3.633257e-185  1.601545e-15   \n",
       "307.933319  0.406817  0.000062  1.707959e-20  1.637491e-212  1.025362e-17   \n",
       "330.366669  0.406817  0.000062  1.707959e-20  1.637491e-212  1.025362e-17   \n",
       "\n",
       "                 5             6             7             8             9    \\\n",
       "299.399994  0.016112  5.010813e-07  9.734576e-12  6.647741e-17  1.021954e-08   \n",
       "307.933319  0.008736  5.832026e-08  2.268089e-13  2.655391e-19  6.678862e-10   \n",
       "330.366669  0.008736  5.832026e-08  2.268089e-13  2.655391e-19  6.678862e-10   \n",
       "\n",
       "            ...       466           467       468       469           470  \\\n",
       "299.399994  ...  0.053060  1.478094e-14  0.000610  0.001346  2.234827e-33   \n",
       "307.933319  ...  0.034332  1.315651e-16  0.000204  0.000505  3.222927e-38   \n",
       "330.366669  ...  0.034332  1.315651e-16  0.000204  0.000505  3.222927e-38   \n",
       "\n",
       "                 471       472       473       474           475  \n",
       "299.399994  0.008089  0.001736  0.111342  0.000386  5.335164e-13  \n",
       "307.933319  0.003960  0.000677  0.080410  0.000120  8.081693e-15  \n",
       "330.366669  0.003960  0.000677  0.080410  0.000120  8.081693e-15  \n",
       "\n",
       "[3 rows x 476 columns]"
      ]
     },
     "execution_count": 67,
     "metadata": {},
     "output_type": "execute_result"
    }
   ],
   "source": [
    "df_survival_function = model.predict_survival_function(X_train, X_test, y_train, y_test)\n",
    "df_survival_function.tail(3)"
   ]
  },
  {
   "attachments": {},
   "cell_type": "markdown",
   "metadata": {},
   "source": [
    "### Visualize Predictions"
   ]
  },
  {
   "cell_type": "code",
   "execution_count": 68,
   "metadata": {},
   "outputs": [
    {
     "data": {
      "text/plain": [
       "Text(0.5, 1.0, 'Cumulative Hazard Breslow')"
      ]
     },
     "execution_count": 68,
     "metadata": {},
     "output_type": "execute_result"
    },
    {
     "data": {
      "image/png": "[encoded data removed]",
      "text/plain": [
       "<Figure size 640x480 with 1 Axes>"
      ]
     },
     "metadata": {},
     "output_type": "display_data"
    }
   ],
   "source": [
    "df_cum_hazards.iloc[:, :5].plot(drawstyle='steps-post')\n",
    "plt.ylabel('S(t | x)')\n",
    "_ = plt.xlabel('Time')\n",
    "plt.title(\"Cumulative Hazard Breslow\")"
   ]
  },
  {
   "cell_type": "code",
   "execution_count": 69,
   "metadata": {},
   "outputs": [
    {
     "data": {
      "text/plain": [
       "Text(0.5, 1.0, 'Survival Curve Breslow')"
      ]
     },
     "execution_count": 69,
     "metadata": {},
     "output_type": "execute_result"
    },
    {
     "data": {
      "image/png": "[encoded data removed]",
      "text/plain": [
       "<Figure size 640x480 with 1 Axes>"
      ]
     },
     "metadata": {},
     "output_type": "display_data"
    }
   ],
   "source": [
    "df_survival_function.iloc[:, :5].plot(drawstyle='steps-post')\n",
    "plt.ylabel('S(t | x)')\n",
    "_ = plt.xlabel('Time')\n",
    "plt.title(\"Survival Curve Breslow\")"
   ]
  },
  {
   "attachments": {},
   "cell_type": "markdown",
   "metadata": {},
   "source": [
    "## Evaluate"
   ]
  },
  {
   "attachments": {},
   "cell_type": "markdown",
   "metadata": {},
   "source": [
    "### Test"
   ]
  },
  {
   "cell_type": "code",
   "execution_count": 70,
   "metadata": {},
   "outputs": [
    {
     "name": "stdout",
     "output_type": "stream",
     "text": [
      "Concordance Index 0.6052811144155626\n"
     ]
    }
   ],
   "source": [
    "durations_test, events_test = transform_back(y_test)\n",
    "time_grid = np.linspace(durations_test.min(), durations_test.max(), 100)\n",
    "ev = EvalSurv(df_survival_function, durations_test, events_test, censor_surv='km')\n",
    "print('Concordance Index',ev.concordance_td('antolini'))"
   ]
  },
  {
   "cell_type": "code",
   "execution_count": 71,
   "metadata": {},
   "outputs": [
    {
     "name": "stdout",
     "output_type": "stream",
     "text": [
      "Integrated Brier Score: 0.21303154724014361\n"
     ]
    }
   ],
   "source": [
    "print('Integrated Brier Score:',ev.integrated_brier_score(time_grid))"
   ]
  },
  {
   "cell_type": "code",
   "execution_count": null,
   "metadata": {},
   "outputs": [],
   "source": []
  }
 ],
 "metadata": {
  "kernelspec": {
   "display_name": "xgbsurv",
   "language": "python",
   "name": "python3"
  },
  "language_info": {
   "codemirror_mode": {
    "name": "ipython",
    "version": 3
   },
   "file_extension": ".py",
   "mimetype": "text/x-python",
   "name": "python",
   "nbconvert_exporter": "python",
   "pygments_lexer": "ipython3",
   "version": "3.11.3"
  },
  "orig_nbformat": 4
 },
 "nbformat": 4,
 "nbformat_minor": 2
}
