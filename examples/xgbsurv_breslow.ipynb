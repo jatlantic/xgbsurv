{
 "cells": [
  {
   "attachments": {},
   "cell_type": "markdown",
   "metadata": {},
   "source": [
    "# Introduction to the xgbsurv package - Breslow\n",
    "\n",
    "This notebook introduces `xgbsurv` using a specific dataset. It structured by the following steps:\n",
    "\n",
    "- Load data\n",
    "- Load model\n",
    "- Fit model\n",
    "- Predict and evaluate model\n",
    "\n",
    "The syntax conveniently follows that of sklearn."
   ]
  },
  {
   "cell_type": "code",
   "execution_count": 1,
   "metadata": {},
   "outputs": [],
   "source": [
    "from xgbsurv.datasets import load_metabric\n",
    "from xgbsurv import XGBSurv\n",
    "from xgbsurv.models.utils import sort_X_y, transform_back\n",
    "from pycox.evaluation import EvalSurv\n",
    "from sklearn.model_selection import train_test_split\n",
    "import numpy as np\n",
    "import matplotlib.pyplot as plt\n",
    "import os\n",
    "current_path = os.getcwd() \n",
    "one_level_up = os.path.abspath(os.path.join(current_path,  \"..\"))"
   ]
  },
  {
   "attachments": {},
   "cell_type": "markdown",
   "metadata": {},
   "source": [
    "## Load Data"
   ]
  },
  {
   "cell_type": "code",
   "execution_count": 2,
   "metadata": {},
   "outputs": [
    {
     "name": "stdout",
     "output_type": "stream",
     "text": [
      "Values are being sorted!\n",
      "Values are being sorted!\n"
     ]
    }
   ],
   "source": [
    "data = load_metabric(path=one_level_up+\"/xgbsurv/datasets/data/\", as_frame=False)\n",
    "# stratify by event indicated by sign\n",
    "target_sign = np.sign(data.target)\n",
    "X_train, X_test, y_train, y_test = train_test_split(data.data, data.target, stratify=target_sign)\n",
    "# sort data\n",
    "X_train, y_train = sort_X_y(X_train, y_train)\n",
    "X_test, y_test = sort_X_y(X_test, y_test)"
   ]
  },
  {
   "attachments": {},
   "cell_type": "markdown",
   "metadata": {},
   "source": [
    "## Load Model"
   ]
  },
  {
   "cell_type": "code",
   "execution_count": 3,
   "metadata": {},
   "outputs": [
    {
     "data": {
      "text/html": [
       "<style>#sk-container-id-1 {color: black;background-color: white;}#sk-container-id-1 pre{padding: 0;}#sk-container-id-1 div.sk-toggleable {background-color: white;}#sk-container-id-1 label.sk-toggleable__label {cursor: pointer;display: block;width: 100%;margin-bottom: 0;padding: 0.3em;box-sizing: border-box;text-align: center;}#sk-container-id-1 label.sk-toggleable__label-arrow:before {content: \"▸\";float: left;margin-right: 0.25em;color: #696969;}#sk-container-id-1 label.sk-toggleable__label-arrow:hover:before {color: black;}#sk-container-id-1 div.sk-estimator:hover label.sk-toggleable__label-arrow:before {color: black;}#sk-container-id-1 div.sk-toggleable__content {max-height: 0;max-width: 0;overflow: hidden;text-align: left;background-color: #f0f8ff;}#sk-container-id-1 div.sk-toggleable__content pre {margin: 0.2em;color: black;border-radius: 0.25em;background-color: #f0f8ff;}#sk-container-id-1 input.sk-toggleable__control:checked~div.sk-toggleable__content {max-height: 200px;max-width: 100%;overflow: auto;}#sk-container-id-1 input.sk-toggleable__control:checked~label.sk-toggleable__label-arrow:before {content: \"▾\";}#sk-container-id-1 div.sk-estimator input.sk-toggleable__control:checked~label.sk-toggleable__label {background-color: #d4ebff;}#sk-container-id-1 div.sk-label input.sk-toggleable__control:checked~label.sk-toggleable__label {background-color: #d4ebff;}#sk-container-id-1 input.sk-hidden--visually {border: 0;clip: rect(1px 1px 1px 1px);clip: rect(1px, 1px, 1px, 1px);height: 1px;margin: -1px;overflow: hidden;padding: 0;position: absolute;width: 1px;}#sk-container-id-1 div.sk-estimator {font-family: monospace;background-color: #f0f8ff;border: 1px dotted black;border-radius: 0.25em;box-sizing: border-box;margin-bottom: 0.5em;}#sk-container-id-1 div.sk-estimator:hover {background-color: #d4ebff;}#sk-container-id-1 div.sk-parallel-item::after {content: \"\";width: 100%;border-bottom: 1px solid gray;flex-grow: 1;}#sk-container-id-1 div.sk-label:hover label.sk-toggleable__label {background-color: #d4ebff;}#sk-container-id-1 div.sk-serial::before {content: \"\";position: absolute;border-left: 1px solid gray;box-sizing: border-box;top: 0;bottom: 0;left: 50%;z-index: 0;}#sk-container-id-1 div.sk-serial {display: flex;flex-direction: column;align-items: center;background-color: white;padding-right: 0.2em;padding-left: 0.2em;position: relative;}#sk-container-id-1 div.sk-item {position: relative;z-index: 1;}#sk-container-id-1 div.sk-parallel {display: flex;align-items: stretch;justify-content: center;background-color: white;position: relative;}#sk-container-id-1 div.sk-item::before, #sk-container-id-1 div.sk-parallel-item::before {content: \"\";position: absolute;border-left: 1px solid gray;box-sizing: border-box;top: 0;bottom: 0;left: 50%;z-index: -1;}#sk-container-id-1 div.sk-parallel-item {display: flex;flex-direction: column;z-index: 1;position: relative;background-color: white;}#sk-container-id-1 div.sk-parallel-item:first-child::after {align-self: flex-end;width: 50%;}#sk-container-id-1 div.sk-parallel-item:last-child::after {align-self: flex-start;width: 50%;}#sk-container-id-1 div.sk-parallel-item:only-child::after {width: 0;}#sk-container-id-1 div.sk-dashed-wrapped {border: 1px dashed gray;margin: 0 0.4em 0.5em 0.4em;box-sizing: border-box;padding-bottom: 0.4em;background-color: white;}#sk-container-id-1 div.sk-label label {font-family: monospace;font-weight: bold;display: inline-block;line-height: 1.2em;}#sk-container-id-1 div.sk-label-container {text-align: center;}#sk-container-id-1 div.sk-container {/* jupyter's `normalize.less` sets `[hidden] { display: none; }` but bootstrap.min.css set `[hidden] { display: none !important; }` so we also need the `!important` here to be able to override the default hidden behavior on the sphinx rendered scikit-learn.org. See: https://github.com/scikit-learn/scikit-learn/issues/21755 */display: inline-block !important;position: relative;}#sk-container-id-1 div.sk-text-repr-fallback {display: none;}</style><div id=\"sk-container-id-1\" class=\"sk-top-container\"><div class=\"sk-text-repr-fallback\"><pre>XGBSurv(base_score=None, booster=None, callbacks=None, colsample_bylevel=None,\n",
       "        colsample_bynode=None, colsample_bytree=None,\n",
       "        disable_default_eval_metric=1, early_stopping_rounds=None,\n",
       "        enable_categorical=False,\n",
       "        eval_metric=CPUDispatcher(&lt;function breslow_likelihood at 0x2b6d93ba0&gt;),\n",
       "        feature_types=None, gamma=None, gpu_id=None, grow_policy=None,\n",
       "        importance_type=None, interaction_constraints=None, learning_rate=0.3,\n",
       "        max_bin=None, max_cat_threshold=None, max_cat_to_onehot=None,\n",
       "        max_delta_step=None, max_depth=None, max_leaves=None,\n",
       "        min_child_weight=None, missing=nan, monotone_constraints=None,\n",
       "        n_estimators=100, n_jobs=None, num_parallel_tree=None,\n",
       "        objective=CPUDispatcher(&lt;function breslow_objective at 0x2b6da91c0&gt;), ...)</pre><b>In a Jupyter environment, please rerun this cell to show the HTML representation or trust the notebook. <br />On GitHub, the HTML representation is unable to render, please try loading this page with nbviewer.org.</b></div><div class=\"sk-container\" hidden><div class=\"sk-item\"><div class=\"sk-estimator sk-toggleable\"><input class=\"sk-toggleable__control sk-hidden--visually\" id=\"sk-estimator-id-1\" type=\"checkbox\" checked><label for=\"sk-estimator-id-1\" class=\"sk-toggleable__label sk-toggleable__label-arrow\">XGBSurv</label><div class=\"sk-toggleable__content\"><pre>XGBSurv(base_score=None, booster=None, callbacks=None, colsample_bylevel=None,\n",
       "        colsample_bynode=None, colsample_bytree=None,\n",
       "        disable_default_eval_metric=1, early_stopping_rounds=None,\n",
       "        enable_categorical=False,\n",
       "        eval_metric=CPUDispatcher(&lt;function breslow_likelihood at 0x2b6d93ba0&gt;),\n",
       "        feature_types=None, gamma=None, gpu_id=None, grow_policy=None,\n",
       "        importance_type=None, interaction_constraints=None, learning_rate=0.3,\n",
       "        max_bin=None, max_cat_threshold=None, max_cat_to_onehot=None,\n",
       "        max_delta_step=None, max_depth=None, max_leaves=None,\n",
       "        min_child_weight=None, missing=nan, monotone_constraints=None,\n",
       "        n_estimators=100, n_jobs=None, num_parallel_tree=None,\n",
       "        objective=CPUDispatcher(&lt;function breslow_objective at 0x2b6da91c0&gt;), ...)</pre></div></div></div></div></div>"
      ],
      "text/plain": [
       "XGBSurv(base_score=None, booster=None, callbacks=None, colsample_bylevel=None,\n",
       "        colsample_bynode=None, colsample_bytree=None,\n",
       "        disable_default_eval_metric=1, early_stopping_rounds=None,\n",
       "        enable_categorical=False,\n",
       "        eval_metric=CPUDispatcher(<function breslow_likelihood at 0x2b6d93ba0>),\n",
       "        feature_types=None, gamma=None, gpu_id=None, grow_policy=None,\n",
       "        importance_type=None, interaction_constraints=None, learning_rate=0.3,\n",
       "        max_bin=None, max_cat_threshold=None, max_cat_to_onehot=None,\n",
       "        max_delta_step=None, max_depth=None, max_leaves=None,\n",
       "        min_child_weight=None, missing=nan, monotone_constraints=None,\n",
       "        n_estimators=100, n_jobs=None, num_parallel_tree=None,\n",
       "        objective=CPUDispatcher(<function breslow_objective at 0x2b6da91c0>), ...)"
      ]
     },
     "execution_count": 3,
     "metadata": {},
     "output_type": "execute_result"
    }
   ],
   "source": [
    "model = XGBSurv(n_estimators=100, objective=\"breslow_objective\",\n",
    "                                             eval_metric=\"breslow_loss\",\n",
    "                                             learning_rate=0.3,\n",
    "                                             random_state=42, \n",
    "                                             disable_default_eval_metric=1,\n",
    "                                             )\n",
    "model"
   ]
  },
  {
   "attachments": {},
   "cell_type": "markdown",
   "metadata": {},
   "source": [
    "The options of loss and objective functions can be obtained like below:"
   ]
  },
  {
   "cell_type": "code",
   "execution_count": 4,
   "metadata": {},
   "outputs": [
    {
     "name": "stdout",
     "output_type": "stream",
     "text": [
      "dict_keys(['breslow_loss', 'efron_loss', 'cind_loss', 'deephit_loss', 'aft_loss', 'ah_loss', 'eh_loss'])\n",
      "dict_keys(['breslow_objective', 'efron_objective', 'cind_objective', 'deephit_objective', 'aft_objective', 'ah_objective', 'eh_objective'])\n"
     ]
    }
   ],
   "source": [
    "print(model.get_loss_functions().keys())\n",
    "print(model.get_objective_functions().keys())"
   ]
  },
  {
   "attachments": {},
   "cell_type": "markdown",
   "metadata": {},
   "source": [
    "## Fit Model"
   ]
  },
  {
   "cell_type": "code",
   "execution_count": 5,
   "metadata": {},
   "outputs": [],
   "source": [
    "eval_set = [(X_train, y_train)]"
   ]
  },
  {
   "cell_type": "code",
   "execution_count": 6,
   "metadata": {},
   "outputs": [
    {
     "name": "stdout",
     "output_type": "stream",
     "text": [
      "[0]\tvalidation_0-breslow_likelihood:6.39154\n",
      "[1]\tvalidation_0-breslow_likelihood:6.29171\n",
      "[2]\tvalidation_0-breslow_likelihood:6.23933\n",
      "[3]\tvalidation_0-breslow_likelihood:6.18378\n",
      "[4]\tvalidation_0-breslow_likelihood:6.13789\n",
      "[5]\tvalidation_0-breslow_likelihood:6.09657\n",
      "[6]\tvalidation_0-breslow_likelihood:6.05241\n",
      "[7]\tvalidation_0-breslow_likelihood:6.03064\n",
      "[8]\tvalidation_0-breslow_likelihood:5.98344\n",
      "[9]\tvalidation_0-breslow_likelihood:5.94991\n",
      "[10]\tvalidation_0-breslow_likelihood:5.92966\n",
      "[11]\tvalidation_0-breslow_likelihood:5.92142\n",
      "[12]\tvalidation_0-breslow_likelihood:5.88774\n",
      "[13]\tvalidation_0-breslow_likelihood:5.87049\n",
      "[14]\tvalidation_0-breslow_likelihood:5.82993\n",
      "[15]\tvalidation_0-breslow_likelihood:5.81171\n",
      "[16]\tvalidation_0-breslow_likelihood:5.79779\n",
      "[17]\tvalidation_0-breslow_likelihood:5.78524\n",
      "[18]\tvalidation_0-breslow_likelihood:5.76378\n",
      "[19]\tvalidation_0-breslow_likelihood:5.74106\n",
      "[20]\tvalidation_0-breslow_likelihood:5.73111\n",
      "[21]\tvalidation_0-breslow_likelihood:5.72677\n",
      "[22]\tvalidation_0-breslow_likelihood:5.71575\n",
      "[23]\tvalidation_0-breslow_likelihood:5.70828\n",
      "[24]\tvalidation_0-breslow_likelihood:5.68554\n",
      "[25]\tvalidation_0-breslow_likelihood:5.65882\n",
      "[26]\tvalidation_0-breslow_likelihood:5.63819\n",
      "[27]\tvalidation_0-breslow_likelihood:5.62436\n",
      "[28]\tvalidation_0-breslow_likelihood:5.61655\n",
      "[29]\tvalidation_0-breslow_likelihood:5.59714\n",
      "[30]\tvalidation_0-breslow_likelihood:5.57754\n",
      "[31]\tvalidation_0-breslow_likelihood:5.55037\n",
      "[32]\tvalidation_0-breslow_likelihood:5.53837\n",
      "[33]\tvalidation_0-breslow_likelihood:5.52923\n",
      "[34]\tvalidation_0-breslow_likelihood:5.51464\n",
      "[35]\tvalidation_0-breslow_likelihood:5.48716\n",
      "[36]\tvalidation_0-breslow_likelihood:5.47772\n",
      "[37]\tvalidation_0-breslow_likelihood:5.45758\n",
      "[38]\tvalidation_0-breslow_likelihood:5.44658\n",
      "[39]\tvalidation_0-breslow_likelihood:5.43891\n",
      "[40]\tvalidation_0-breslow_likelihood:5.42814\n",
      "[41]\tvalidation_0-breslow_likelihood:5.41178\n",
      "[42]\tvalidation_0-breslow_likelihood:5.40780\n",
      "[43]\tvalidation_0-breslow_likelihood:5.40406\n",
      "[44]\tvalidation_0-breslow_likelihood:5.39651\n",
      "[45]\tvalidation_0-breslow_likelihood:5.37761\n",
      "[46]\tvalidation_0-breslow_likelihood:5.36599\n",
      "[47]\tvalidation_0-breslow_likelihood:5.34911\n",
      "[48]\tvalidation_0-breslow_likelihood:5.34105\n",
      "[49]\tvalidation_0-breslow_likelihood:5.32894\n",
      "[50]\tvalidation_0-breslow_likelihood:5.31350\n",
      "[51]\tvalidation_0-breslow_likelihood:5.30173\n",
      "[52]\tvalidation_0-breslow_likelihood:5.29108\n",
      "[53]\tvalidation_0-breslow_likelihood:5.28071\n",
      "[54]\tvalidation_0-breslow_likelihood:5.26595\n",
      "[55]\tvalidation_0-breslow_likelihood:5.26268\n",
      "[56]\tvalidation_0-breslow_likelihood:5.25176\n",
      "[57]\tvalidation_0-breslow_likelihood:5.23795\n",
      "[58]\tvalidation_0-breslow_likelihood:5.22071\n",
      "[59]\tvalidation_0-breslow_likelihood:5.20791\n",
      "[60]\tvalidation_0-breslow_likelihood:5.19947\n",
      "[61]\tvalidation_0-breslow_likelihood:5.19218\n",
      "[62]\tvalidation_0-breslow_likelihood:5.18072\n",
      "[63]\tvalidation_0-breslow_likelihood:5.16512\n",
      "[64]\tvalidation_0-breslow_likelihood:5.15664\n",
      "[65]\tvalidation_0-breslow_likelihood:5.14533\n",
      "[66]\tvalidation_0-breslow_likelihood:5.13933\n",
      "[67]\tvalidation_0-breslow_likelihood:5.13465\n",
      "[68]\tvalidation_0-breslow_likelihood:5.12346\n",
      "[69]\tvalidation_0-breslow_likelihood:5.10933\n",
      "[70]\tvalidation_0-breslow_likelihood:5.10508\n",
      "[71]\tvalidation_0-breslow_likelihood:5.09670\n",
      "[72]\tvalidation_0-breslow_likelihood:5.08605\n",
      "[73]\tvalidation_0-breslow_likelihood:5.08225\n",
      "[74]\tvalidation_0-breslow_likelihood:5.07317\n",
      "[75]\tvalidation_0-breslow_likelihood:5.06780\n",
      "[76]\tvalidation_0-breslow_likelihood:5.06028\n",
      "[77]\tvalidation_0-breslow_likelihood:5.05495\n",
      "[78]\tvalidation_0-breslow_likelihood:5.04629\n",
      "[79]\tvalidation_0-breslow_likelihood:5.03885\n",
      "[80]\tvalidation_0-breslow_likelihood:5.03217\n",
      "[81]\tvalidation_0-breslow_likelihood:5.02477\n",
      "[82]\tvalidation_0-breslow_likelihood:5.02068\n",
      "[83]\tvalidation_0-breslow_likelihood:5.01776\n",
      "[84]\tvalidation_0-breslow_likelihood:5.01043\n",
      "[85]\tvalidation_0-breslow_likelihood:5.00348\n",
      "[86]\tvalidation_0-breslow_likelihood:4.99801\n",
      "[87]\tvalidation_0-breslow_likelihood:4.99180\n",
      "[88]\tvalidation_0-breslow_likelihood:4.98444\n",
      "[89]\tvalidation_0-breslow_likelihood:4.97364\n",
      "[90]\tvalidation_0-breslow_likelihood:4.96780\n",
      "[91]\tvalidation_0-breslow_likelihood:4.96103\n",
      "[92]\tvalidation_0-breslow_likelihood:4.95725\n",
      "[93]\tvalidation_0-breslow_likelihood:4.94440\n",
      "[94]\tvalidation_0-breslow_likelihood:4.93639\n",
      "[95]\tvalidation_0-breslow_likelihood:4.92790\n",
      "[96]\tvalidation_0-breslow_likelihood:4.92448\n",
      "[97]\tvalidation_0-breslow_likelihood:4.91801\n",
      "[98]\tvalidation_0-breslow_likelihood:4.90985\n",
      "[99]\tvalidation_0-breslow_likelihood:4.90488\n"
     ]
    },
    {
     "data": {
      "text/html": [
       "<style>#sk-container-id-2 {color: black;background-color: white;}#sk-container-id-2 pre{padding: 0;}#sk-container-id-2 div.sk-toggleable {background-color: white;}#sk-container-id-2 label.sk-toggleable__label {cursor: pointer;display: block;width: 100%;margin-bottom: 0;padding: 0.3em;box-sizing: border-box;text-align: center;}#sk-container-id-2 label.sk-toggleable__label-arrow:before {content: \"▸\";float: left;margin-right: 0.25em;color: #696969;}#sk-container-id-2 label.sk-toggleable__label-arrow:hover:before {color: black;}#sk-container-id-2 div.sk-estimator:hover label.sk-toggleable__label-arrow:before {color: black;}#sk-container-id-2 div.sk-toggleable__content {max-height: 0;max-width: 0;overflow: hidden;text-align: left;background-color: #f0f8ff;}#sk-container-id-2 div.sk-toggleable__content pre {margin: 0.2em;color: black;border-radius: 0.25em;background-color: #f0f8ff;}#sk-container-id-2 input.sk-toggleable__control:checked~div.sk-toggleable__content {max-height: 200px;max-width: 100%;overflow: auto;}#sk-container-id-2 input.sk-toggleable__control:checked~label.sk-toggleable__label-arrow:before {content: \"▾\";}#sk-container-id-2 div.sk-estimator input.sk-toggleable__control:checked~label.sk-toggleable__label {background-color: #d4ebff;}#sk-container-id-2 div.sk-label input.sk-toggleable__control:checked~label.sk-toggleable__label {background-color: #d4ebff;}#sk-container-id-2 input.sk-hidden--visually {border: 0;clip: rect(1px 1px 1px 1px);clip: rect(1px, 1px, 1px, 1px);height: 1px;margin: -1px;overflow: hidden;padding: 0;position: absolute;width: 1px;}#sk-container-id-2 div.sk-estimator {font-family: monospace;background-color: #f0f8ff;border: 1px dotted black;border-radius: 0.25em;box-sizing: border-box;margin-bottom: 0.5em;}#sk-container-id-2 div.sk-estimator:hover {background-color: #d4ebff;}#sk-container-id-2 div.sk-parallel-item::after {content: \"\";width: 100%;border-bottom: 1px solid gray;flex-grow: 1;}#sk-container-id-2 div.sk-label:hover label.sk-toggleable__label {background-color: #d4ebff;}#sk-container-id-2 div.sk-serial::before {content: \"\";position: absolute;border-left: 1px solid gray;box-sizing: border-box;top: 0;bottom: 0;left: 50%;z-index: 0;}#sk-container-id-2 div.sk-serial {display: flex;flex-direction: column;align-items: center;background-color: white;padding-right: 0.2em;padding-left: 0.2em;position: relative;}#sk-container-id-2 div.sk-item {position: relative;z-index: 1;}#sk-container-id-2 div.sk-parallel {display: flex;align-items: stretch;justify-content: center;background-color: white;position: relative;}#sk-container-id-2 div.sk-item::before, #sk-container-id-2 div.sk-parallel-item::before {content: \"\";position: absolute;border-left: 1px solid gray;box-sizing: border-box;top: 0;bottom: 0;left: 50%;z-index: -1;}#sk-container-id-2 div.sk-parallel-item {display: flex;flex-direction: column;z-index: 1;position: relative;background-color: white;}#sk-container-id-2 div.sk-parallel-item:first-child::after {align-self: flex-end;width: 50%;}#sk-container-id-2 div.sk-parallel-item:last-child::after {align-self: flex-start;width: 50%;}#sk-container-id-2 div.sk-parallel-item:only-child::after {width: 0;}#sk-container-id-2 div.sk-dashed-wrapped {border: 1px dashed gray;margin: 0 0.4em 0.5em 0.4em;box-sizing: border-box;padding-bottom: 0.4em;background-color: white;}#sk-container-id-2 div.sk-label label {font-family: monospace;font-weight: bold;display: inline-block;line-height: 1.2em;}#sk-container-id-2 div.sk-label-container {text-align: center;}#sk-container-id-2 div.sk-container {/* jupyter's `normalize.less` sets `[hidden] { display: none; }` but bootstrap.min.css set `[hidden] { display: none !important; }` so we also need the `!important` here to be able to override the default hidden behavior on the sphinx rendered scikit-learn.org. See: https://github.com/scikit-learn/scikit-learn/issues/21755 */display: inline-block !important;position: relative;}#sk-container-id-2 div.sk-text-repr-fallback {display: none;}</style><div id=\"sk-container-id-2\" class=\"sk-top-container\"><div class=\"sk-text-repr-fallback\"><pre>XGBSurv(base_score=None, booster=None, callbacks=None, colsample_bylevel=None,\n",
       "        colsample_bynode=None, colsample_bytree=None,\n",
       "        disable_default_eval_metric=1, early_stopping_rounds=None,\n",
       "        enable_categorical=False,\n",
       "        eval_metric=CPUDispatcher(&lt;function breslow_likelihood at 0x2b6d93ba0&gt;),\n",
       "        feature_types=None, gamma=None, gpu_id=None, grow_policy=None,\n",
       "        importance_type=None, interaction_constraints=None, learning_rate=0.3,\n",
       "        max_bin=None, max_cat_threshold=None, max_cat_to_onehot=None,\n",
       "        max_delta_step=None, max_depth=None, max_leaves=None,\n",
       "        min_child_weight=None, missing=nan, monotone_constraints=None,\n",
       "        n_estimators=100, n_jobs=None, num_parallel_tree=None,\n",
       "        objective=CPUDispatcher(&lt;function breslow_objective at 0x2b6da91c0&gt;), ...)</pre><b>In a Jupyter environment, please rerun this cell to show the HTML representation or trust the notebook. <br />On GitHub, the HTML representation is unable to render, please try loading this page with nbviewer.org.</b></div><div class=\"sk-container\" hidden><div class=\"sk-item\"><div class=\"sk-estimator sk-toggleable\"><input class=\"sk-toggleable__control sk-hidden--visually\" id=\"sk-estimator-id-2\" type=\"checkbox\" checked><label for=\"sk-estimator-id-2\" class=\"sk-toggleable__label sk-toggleable__label-arrow\">XGBSurv</label><div class=\"sk-toggleable__content\"><pre>XGBSurv(base_score=None, booster=None, callbacks=None, colsample_bylevel=None,\n",
       "        colsample_bynode=None, colsample_bytree=None,\n",
       "        disable_default_eval_metric=1, early_stopping_rounds=None,\n",
       "        enable_categorical=False,\n",
       "        eval_metric=CPUDispatcher(&lt;function breslow_likelihood at 0x2b6d93ba0&gt;),\n",
       "        feature_types=None, gamma=None, gpu_id=None, grow_policy=None,\n",
       "        importance_type=None, interaction_constraints=None, learning_rate=0.3,\n",
       "        max_bin=None, max_cat_threshold=None, max_cat_to_onehot=None,\n",
       "        max_delta_step=None, max_depth=None, max_leaves=None,\n",
       "        min_child_weight=None, missing=nan, monotone_constraints=None,\n",
       "        n_estimators=100, n_jobs=None, num_parallel_tree=None,\n",
       "        objective=CPUDispatcher(&lt;function breslow_objective at 0x2b6da91c0&gt;), ...)</pre></div></div></div></div></div>"
      ],
      "text/plain": [
       "XGBSurv(base_score=None, booster=None, callbacks=None, colsample_bylevel=None,\n",
       "        colsample_bynode=None, colsample_bytree=None,\n",
       "        disable_default_eval_metric=1, early_stopping_rounds=None,\n",
       "        enable_categorical=False,\n",
       "        eval_metric=CPUDispatcher(<function breslow_likelihood at 0x2b6d93ba0>),\n",
       "        feature_types=None, gamma=None, gpu_id=None, grow_policy=None,\n",
       "        importance_type=None, interaction_constraints=None, learning_rate=0.3,\n",
       "        max_bin=None, max_cat_threshold=None, max_cat_to_onehot=None,\n",
       "        max_delta_step=None, max_depth=None, max_leaves=None,\n",
       "        min_child_weight=None, missing=nan, monotone_constraints=None,\n",
       "        n_estimators=100, n_jobs=None, num_parallel_tree=None,\n",
       "        objective=CPUDispatcher(<function breslow_objective at 0x2b6da91c0>), ...)"
      ]
     },
     "execution_count": 6,
     "metadata": {},
     "output_type": "execute_result"
    }
   ],
   "source": [
    "model.fit(X_train, y_train, eval_set=eval_set)"
   ]
  },
  {
   "attachments": {},
   "cell_type": "markdown",
   "metadata": {},
   "source": [
    "The model can be saved like below. Note that objective and eval_metric are not saved."
   ]
  },
  {
   "cell_type": "code",
   "execution_count": 7,
   "metadata": {},
   "outputs": [],
   "source": [
    "#model.save_model(\"introduction_model_breslow.json\")"
   ]
  },
  {
   "attachments": {},
   "cell_type": "markdown",
   "metadata": {},
   "source": [
    "## Predict"
   ]
  },
  {
   "cell_type": "code",
   "execution_count": 8,
   "metadata": {},
   "outputs": [],
   "source": [
    "preds_train = model.predict(X_train, output_margin=True)\n",
    "preds_test = model.predict(X_test, output_margin=True)"
   ]
  },
  {
   "attachments": {},
   "cell_type": "markdown",
   "metadata": {},
   "source": [
    "### Predict Cumulative Hazard"
   ]
  },
  {
   "cell_type": "code",
   "execution_count": 9,
   "metadata": {},
   "outputs": [
    {
     "data": {
      "text/html": [
       "<div>\n",
       "<style scoped>\n",
       "    .dataframe tbody tr th:only-of-type {\n",
       "        vertical-align: middle;\n",
       "    }\n",
       "\n",
       "    .dataframe tbody tr th {\n",
       "        vertical-align: top;\n",
       "    }\n",
       "\n",
       "    .dataframe thead th {\n",
       "        text-align: right;\n",
       "    }\n",
       "</style>\n",
       "<table border=\"1\" class=\"dataframe\">\n",
       "  <thead>\n",
       "    <tr style=\"text-align: right;\">\n",
       "      <th></th>\n",
       "      <th>0</th>\n",
       "      <th>1</th>\n",
       "      <th>2</th>\n",
       "      <th>3</th>\n",
       "      <th>4</th>\n",
       "      <th>5</th>\n",
       "      <th>6</th>\n",
       "      <th>7</th>\n",
       "      <th>8</th>\n",
       "      <th>9</th>\n",
       "      <th>...</th>\n",
       "      <th>466</th>\n",
       "      <th>467</th>\n",
       "      <th>468</th>\n",
       "      <th>469</th>\n",
       "      <th>470</th>\n",
       "      <th>471</th>\n",
       "      <th>472</th>\n",
       "      <th>473</th>\n",
       "      <th>474</th>\n",
       "      <th>475</th>\n",
       "    </tr>\n",
       "  </thead>\n",
       "  <tbody>\n",
       "    <tr>\n",
       "      <th>335.600006</th>\n",
       "      <td>151.540846</td>\n",
       "      <td>72.720338</td>\n",
       "      <td>5.652612</td>\n",
       "      <td>15.041346</td>\n",
       "      <td>74.852594</td>\n",
       "      <td>44.493194</td>\n",
       "      <td>7.885862</td>\n",
       "      <td>20.772466</td>\n",
       "      <td>69.919324</td>\n",
       "      <td>362.131636</td>\n",
       "      <td>...</td>\n",
       "      <td>5.788926</td>\n",
       "      <td>1.285801</td>\n",
       "      <td>2.260201</td>\n",
       "      <td>31.824238</td>\n",
       "      <td>2.924198</td>\n",
       "      <td>14.807779</td>\n",
       "      <td>49.437517</td>\n",
       "      <td>15.305214</td>\n",
       "      <td>16.365364</td>\n",
       "      <td>6.845888</td>\n",
       "    </tr>\n",
       "    <tr>\n",
       "      <th>351.000000</th>\n",
       "      <td>191.056376</td>\n",
       "      <td>91.682768</td>\n",
       "      <td>7.126578</td>\n",
       "      <td>18.963502</td>\n",
       "      <td>94.371028</td>\n",
       "      <td>56.095163</td>\n",
       "      <td>9.942166</td>\n",
       "      <td>26.189058</td>\n",
       "      <td>88.151367</td>\n",
       "      <td>456.560459</td>\n",
       "      <td>...</td>\n",
       "      <td>7.298436</td>\n",
       "      <td>1.621084</td>\n",
       "      <td>2.849567</td>\n",
       "      <td>40.122671</td>\n",
       "      <td>3.686707</td>\n",
       "      <td>18.669030</td>\n",
       "      <td>62.328759</td>\n",
       "      <td>19.296176</td>\n",
       "      <td>20.632768</td>\n",
       "      <td>8.631010</td>\n",
       "    </tr>\n",
       "    <tr>\n",
       "      <th>355.200012</th>\n",
       "      <td>191.056376</td>\n",
       "      <td>91.682768</td>\n",
       "      <td>7.126578</td>\n",
       "      <td>18.963502</td>\n",
       "      <td>94.371028</td>\n",
       "      <td>56.095163</td>\n",
       "      <td>9.942166</td>\n",
       "      <td>26.189058</td>\n",
       "      <td>88.151367</td>\n",
       "      <td>456.560459</td>\n",
       "      <td>...</td>\n",
       "      <td>7.298436</td>\n",
       "      <td>1.621084</td>\n",
       "      <td>2.849567</td>\n",
       "      <td>40.122671</td>\n",
       "      <td>3.686707</td>\n",
       "      <td>18.669030</td>\n",
       "      <td>62.328759</td>\n",
       "      <td>19.296176</td>\n",
       "      <td>20.632768</td>\n",
       "      <td>8.631010</td>\n",
       "    </tr>\n",
       "  </tbody>\n",
       "</table>\n",
       "<p>3 rows × 476 columns</p>\n",
       "</div>"
      ],
      "text/plain": [
       "                   0          1         2          3          4          5    \\\n",
       "335.600006  151.540846  72.720338  5.652612  15.041346  74.852594  44.493194   \n",
       "351.000000  191.056376  91.682768  7.126578  18.963502  94.371028  56.095163   \n",
       "355.200012  191.056376  91.682768  7.126578  18.963502  94.371028  56.095163   \n",
       "\n",
       "                 6          7          8           9    ...       466  \\\n",
       "335.600006  7.885862  20.772466  69.919324  362.131636  ...  5.788926   \n",
       "351.000000  9.942166  26.189058  88.151367  456.560459  ...  7.298436   \n",
       "355.200012  9.942166  26.189058  88.151367  456.560459  ...  7.298436   \n",
       "\n",
       "                 467       468        469       470        471        472  \\\n",
       "335.600006  1.285801  2.260201  31.824238  2.924198  14.807779  49.437517   \n",
       "351.000000  1.621084  2.849567  40.122671  3.686707  18.669030  62.328759   \n",
       "355.200012  1.621084  2.849567  40.122671  3.686707  18.669030  62.328759   \n",
       "\n",
       "                  473        474       475  \n",
       "335.600006  15.305214  16.365364  6.845888  \n",
       "351.000000  19.296176  20.632768  8.631010  \n",
       "355.200012  19.296176  20.632768  8.631010  \n",
       "\n",
       "[3 rows x 476 columns]"
      ]
     },
     "execution_count": 9,
     "metadata": {},
     "output_type": "execute_result"
    }
   ],
   "source": [
    "df_cum_hazards = model.predict_cumulative_hazard_function(X_train, X_test, y_train, y_test)\n",
    "df_cum_hazards.tail(3)"
   ]
  },
  {
   "attachments": {},
   "cell_type": "markdown",
   "metadata": {},
   "source": [
    "## Predict Survival Function"
   ]
  },
  {
   "cell_type": "code",
   "execution_count": 10,
   "metadata": {},
   "outputs": [
    {
     "data": {
      "text/html": [
       "<div>\n",
       "<style scoped>\n",
       "    .dataframe tbody tr th:only-of-type {\n",
       "        vertical-align: middle;\n",
       "    }\n",
       "\n",
       "    .dataframe tbody tr th {\n",
       "        vertical-align: top;\n",
       "    }\n",
       "\n",
       "    .dataframe thead th {\n",
       "        text-align: right;\n",
       "    }\n",
       "</style>\n",
       "<table border=\"1\" class=\"dataframe\">\n",
       "  <thead>\n",
       "    <tr style=\"text-align: right;\">\n",
       "      <th></th>\n",
       "      <th>0</th>\n",
       "      <th>1</th>\n",
       "      <th>2</th>\n",
       "      <th>3</th>\n",
       "      <th>4</th>\n",
       "      <th>5</th>\n",
       "      <th>6</th>\n",
       "      <th>7</th>\n",
       "      <th>8</th>\n",
       "      <th>9</th>\n",
       "      <th>...</th>\n",
       "      <th>466</th>\n",
       "      <th>467</th>\n",
       "      <th>468</th>\n",
       "      <th>469</th>\n",
       "      <th>470</th>\n",
       "      <th>471</th>\n",
       "      <th>472</th>\n",
       "      <th>473</th>\n",
       "      <th>474</th>\n",
       "      <th>475</th>\n",
       "    </tr>\n",
       "  </thead>\n",
       "  <tbody>\n",
       "    <tr>\n",
       "      <th>335.600006</th>\n",
       "      <td>1.536905e-66</td>\n",
       "      <td>2.617934e-32</td>\n",
       "      <td>0.003508</td>\n",
       "      <td>2.935123e-07</td>\n",
       "      <td>3.104069e-33</td>\n",
       "      <td>4.751724e-20</td>\n",
       "      <td>0.000376</td>\n",
       "      <td>9.519910e-10</td>\n",
       "      <td>4.309466e-31</td>\n",
       "      <td>5.348462e-158</td>\n",
       "      <td>...</td>\n",
       "      <td>0.003061</td>\n",
       "      <td>0.276429</td>\n",
       "      <td>0.104329</td>\n",
       "      <td>1.509764e-14</td>\n",
       "      <td>0.053708</td>\n",
       "      <td>3.707347e-07</td>\n",
       "      <td>3.385003e-22</td>\n",
       "      <td>2.254394e-07</td>\n",
       "      <td>7.809313e-08</td>\n",
       "      <td>0.001064</td>\n",
       "    </tr>\n",
       "    <tr>\n",
       "      <th>351.000000</th>\n",
       "      <td>1.059912e-83</td>\n",
       "      <td>1.522929e-40</td>\n",
       "      <td>0.000803</td>\n",
       "      <td>5.811066e-09</td>\n",
       "      <td>1.035579e-41</td>\n",
       "      <td>4.346905e-25</td>\n",
       "      <td>0.000048</td>\n",
       "      <td>4.228990e-12</td>\n",
       "      <td>5.204126e-39</td>\n",
       "      <td>5.227714e-199</td>\n",
       "      <td>...</td>\n",
       "      <td>0.000677</td>\n",
       "      <td>0.197684</td>\n",
       "      <td>0.057869</td>\n",
       "      <td>3.757900e-18</td>\n",
       "      <td>0.025054</td>\n",
       "      <td>7.800874e-09</td>\n",
       "      <td>8.530289e-28</td>\n",
       "      <td>4.166557e-09</td>\n",
       "      <td>1.094719e-09</td>\n",
       "      <td>0.000178</td>\n",
       "    </tr>\n",
       "    <tr>\n",
       "      <th>355.200012</th>\n",
       "      <td>1.059912e-83</td>\n",
       "      <td>1.522929e-40</td>\n",
       "      <td>0.000803</td>\n",
       "      <td>5.811066e-09</td>\n",
       "      <td>1.035579e-41</td>\n",
       "      <td>4.346905e-25</td>\n",
       "      <td>0.000048</td>\n",
       "      <td>4.228990e-12</td>\n",
       "      <td>5.204126e-39</td>\n",
       "      <td>5.227714e-199</td>\n",
       "      <td>...</td>\n",
       "      <td>0.000677</td>\n",
       "      <td>0.197684</td>\n",
       "      <td>0.057869</td>\n",
       "      <td>3.757900e-18</td>\n",
       "      <td>0.025054</td>\n",
       "      <td>7.800874e-09</td>\n",
       "      <td>8.530289e-28</td>\n",
       "      <td>4.166557e-09</td>\n",
       "      <td>1.094719e-09</td>\n",
       "      <td>0.000178</td>\n",
       "    </tr>\n",
       "  </tbody>\n",
       "</table>\n",
       "<p>3 rows × 476 columns</p>\n",
       "</div>"
      ],
      "text/plain": [
       "                     0             1         2             3             4    \\\n",
       "335.600006  1.536905e-66  2.617934e-32  0.003508  2.935123e-07  3.104069e-33   \n",
       "351.000000  1.059912e-83  1.522929e-40  0.000803  5.811066e-09  1.035579e-41   \n",
       "355.200012  1.059912e-83  1.522929e-40  0.000803  5.811066e-09  1.035579e-41   \n",
       "\n",
       "                     5         6             7             8              9    \\\n",
       "335.600006  4.751724e-20  0.000376  9.519910e-10  4.309466e-31  5.348462e-158   \n",
       "351.000000  4.346905e-25  0.000048  4.228990e-12  5.204126e-39  5.227714e-199   \n",
       "355.200012  4.346905e-25  0.000048  4.228990e-12  5.204126e-39  5.227714e-199   \n",
       "\n",
       "            ...       466       467       468           469       470  \\\n",
       "335.600006  ...  0.003061  0.276429  0.104329  1.509764e-14  0.053708   \n",
       "351.000000  ...  0.000677  0.197684  0.057869  3.757900e-18  0.025054   \n",
       "355.200012  ...  0.000677  0.197684  0.057869  3.757900e-18  0.025054   \n",
       "\n",
       "                     471           472           473           474       475  \n",
       "335.600006  3.707347e-07  3.385003e-22  2.254394e-07  7.809313e-08  0.001064  \n",
       "351.000000  7.800874e-09  8.530289e-28  4.166557e-09  1.094719e-09  0.000178  \n",
       "355.200012  7.800874e-09  8.530289e-28  4.166557e-09  1.094719e-09  0.000178  \n",
       "\n",
       "[3 rows x 476 columns]"
      ]
     },
     "execution_count": 10,
     "metadata": {},
     "output_type": "execute_result"
    }
   ],
   "source": [
    "df_survival_function = model.predict_survival_function(X_train, X_test, y_train, y_test)\n",
    "df_survival_function.tail(3)"
   ]
  },
  {
   "attachments": {},
   "cell_type": "markdown",
   "metadata": {},
   "source": [
    "### Visualize Predictions"
   ]
  },
  {
   "cell_type": "code",
   "execution_count": 11,
   "metadata": {},
   "outputs": [
    {
     "data": {
      "text/plain": [
       "Text(0.5, 1.0, 'Cumulative Hazard Breslow')"
      ]
     },
     "execution_count": 11,
     "metadata": {},
     "output_type": "execute_result"
    },
    {
     "data": {
      "image/png": "[encoded data removed]",
      "text/plain": [
       "<Figure size 640x480 with 1 Axes>"
      ]
     },
     "metadata": {},
     "output_type": "display_data"
    }
   ],
   "source": [
    "df_cum_hazards.iloc[:, :5].plot(drawstyle='steps-post')\n",
    "plt.ylabel('S(t | x)')\n",
    "_ = plt.xlabel('Time')\n",
    "plt.title(\"Cumulative Hazard Breslow\")"
   ]
  },
  {
   "cell_type": "code",
   "execution_count": 12,
   "metadata": {},
   "outputs": [
    {
     "data": {
      "text/plain": [
       "Text(0.5, 1.0, 'Survival Curve Breslow')"
      ]
     },
     "execution_count": 12,
     "metadata": {},
     "output_type": "execute_result"
    },
    {
     "data": {
      "image/png": "[encoded data removed]",
      "text/plain": [
       "<Figure size 640x480 with 1 Axes>"
      ]
     },
     "metadata": {},
     "output_type": "display_data"
    }
   ],
   "source": [
    "df_survival_function.iloc[:, :5].plot(drawstyle='steps-post')\n",
    "plt.ylabel('S(t | x)')\n",
    "_ = plt.xlabel('Time')\n",
    "plt.title(\"Survival Curve Breslow\")"
   ]
  },
  {
   "attachments": {},
   "cell_type": "markdown",
   "metadata": {},
   "source": [
    "## Evaluate"
   ]
  },
  {
   "attachments": {},
   "cell_type": "markdown",
   "metadata": {},
   "source": [
    "### Test"
   ]
  },
  {
   "cell_type": "code",
   "execution_count": 13,
   "metadata": {},
   "outputs": [
    {
     "name": "stdout",
     "output_type": "stream",
     "text": [
      "Concordance Index 0.6419597510214993\n"
     ]
    }
   ],
   "source": [
    "durations_test, events_test = transform_back(y_test)\n",
    "time_grid = np.linspace(durations_test.min(), durations_test.max(), 100)\n",
    "ev = EvalSurv(df_survival_function, durations_test, events_test, censor_surv='km')\n",
    "print('Concordance Index',ev.concordance_td('antolini'))"
   ]
  },
  {
   "cell_type": "code",
   "execution_count": 14,
   "metadata": {},
   "outputs": [
    {
     "name": "stdout",
     "output_type": "stream",
     "text": [
      "Integrated Brier Score: 0.20830603995710714\n"
     ]
    }
   ],
   "source": [
    "print('Integrated Brier Score:',ev.integrated_brier_score(time_grid))"
   ]
  },
  {
   "cell_type": "code",
   "execution_count": null,
   "metadata": {},
   "outputs": [],
   "source": []
  }
 ],
 "metadata": {
  "kernelspec": {
   "display_name": "xgbsurv",
   "language": "python",
   "name": "python3"
  },
  "language_info": {
   "codemirror_mode": {
    "name": "ipython",
    "version": 3
   },
   "file_extension": ".py",
   "mimetype": "text/x-python",
   "name": "python",
   "nbconvert_exporter": "python",
   "pygments_lexer": "ipython3",
   "version": "3.11.3"
  },
  "orig_nbformat": 4
 },
 "nbformat": 4,
 "nbformat_minor": 2
}
