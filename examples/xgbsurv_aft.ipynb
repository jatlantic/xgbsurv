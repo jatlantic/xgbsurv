{
 "cells": [
  {
   "attachments": {},
   "cell_type": "markdown",
   "metadata": {},
   "source": [
    "# Introduction to the xgbsurv package - AFT\n",
    "\n",
    "This notebook introduces `xgbsurv` using a specific dataset. It structured by the following steps:\n",
    "\n",
    "- Load data\n",
    "- Load model\n",
    "- Fit model\n",
    "- Predict and evaluate model\n",
    "\n",
    "The syntax conveniently follows that of sklearn."
   ]
  },
  {
   "cell_type": "code",
   "execution_count": 1,
   "metadata": {},
   "outputs": [],
   "source": [
    "from xgbsurv.datasets import load_metabric\n",
    "from xgbsurv import XGBSurv\n",
    "from xgbsurv.models.utils import sort_X_y, transform_back\n",
    "from pycox.evaluation import EvalSurv\n",
    "from sklearn.model_selection import train_test_split\n",
    "import numpy as np\n",
    "import matplotlib.pyplot as plt\n",
    "import os\n",
    "current_path = os.getcwd() \n",
    "one_level_up = os.path.abspath(os.path.join(current_path,  \"..\"))"
   ]
  },
  {
   "attachments": {},
   "cell_type": "markdown",
   "metadata": {},
   "source": [
    "## Load Data"
   ]
  },
  {
   "cell_type": "code",
   "execution_count": 2,
   "metadata": {},
   "outputs": [
    {
     "name": "stdout",
     "output_type": "stream",
     "text": [
      "Values are being sorted!\n",
      "Values are being sorted!\n"
     ]
    }
   ],
   "source": [
    "data = load_metabric(path=one_level_up+\"/xgbsurv/datasets/data/\", as_frame=False)\n",
    "# stratify by event indicated by sign\n",
    "target_sign = np.sign(data.target)\n",
    "X_train, X_test, y_train, y_test = train_test_split(data.data, data.target, stratify=target_sign)\n",
    "# sort data\n",
    "X_train, y_train = sort_X_y(X_train, y_train)\n",
    "X_test, y_test = sort_X_y(X_test, y_test)"
   ]
  },
  {
   "attachments": {},
   "cell_type": "markdown",
   "metadata": {},
   "source": [
    "## Load Model"
   ]
  },
  {
   "cell_type": "code",
   "execution_count": 3,
   "metadata": {},
   "outputs": [
    {
     "data": {
      "text/html": [
       "<style>#sk-container-id-1 {color: black;background-color: white;}#sk-container-id-1 pre{padding: 0;}#sk-container-id-1 div.sk-toggleable {background-color: white;}#sk-container-id-1 label.sk-toggleable__label {cursor: pointer;display: block;width: 100%;margin-bottom: 0;padding: 0.3em;box-sizing: border-box;text-align: center;}#sk-container-id-1 label.sk-toggleable__label-arrow:before {content: \"▸\";float: left;margin-right: 0.25em;color: #696969;}#sk-container-id-1 label.sk-toggleable__label-arrow:hover:before {color: black;}#sk-container-id-1 div.sk-estimator:hover label.sk-toggleable__label-arrow:before {color: black;}#sk-container-id-1 div.sk-toggleable__content {max-height: 0;max-width: 0;overflow: hidden;text-align: left;background-color: #f0f8ff;}#sk-container-id-1 div.sk-toggleable__content pre {margin: 0.2em;color: black;border-radius: 0.25em;background-color: #f0f8ff;}#sk-container-id-1 input.sk-toggleable__control:checked~div.sk-toggleable__content {max-height: 200px;max-width: 100%;overflow: auto;}#sk-container-id-1 input.sk-toggleable__control:checked~label.sk-toggleable__label-arrow:before {content: \"▾\";}#sk-container-id-1 div.sk-estimator input.sk-toggleable__control:checked~label.sk-toggleable__label {background-color: #d4ebff;}#sk-container-id-1 div.sk-label input.sk-toggleable__control:checked~label.sk-toggleable__label {background-color: #d4ebff;}#sk-container-id-1 input.sk-hidden--visually {border: 0;clip: rect(1px 1px 1px 1px);clip: rect(1px, 1px, 1px, 1px);height: 1px;margin: -1px;overflow: hidden;padding: 0;position: absolute;width: 1px;}#sk-container-id-1 div.sk-estimator {font-family: monospace;background-color: #f0f8ff;border: 1px dotted black;border-radius: 0.25em;box-sizing: border-box;margin-bottom: 0.5em;}#sk-container-id-1 div.sk-estimator:hover {background-color: #d4ebff;}#sk-container-id-1 div.sk-parallel-item::after {content: \"\";width: 100%;border-bottom: 1px solid gray;flex-grow: 1;}#sk-container-id-1 div.sk-label:hover label.sk-toggleable__label {background-color: #d4ebff;}#sk-container-id-1 div.sk-serial::before {content: \"\";position: absolute;border-left: 1px solid gray;box-sizing: border-box;top: 0;bottom: 0;left: 50%;z-index: 0;}#sk-container-id-1 div.sk-serial {display: flex;flex-direction: column;align-items: center;background-color: white;padding-right: 0.2em;padding-left: 0.2em;position: relative;}#sk-container-id-1 div.sk-item {position: relative;z-index: 1;}#sk-container-id-1 div.sk-parallel {display: flex;align-items: stretch;justify-content: center;background-color: white;position: relative;}#sk-container-id-1 div.sk-item::before, #sk-container-id-1 div.sk-parallel-item::before {content: \"\";position: absolute;border-left: 1px solid gray;box-sizing: border-box;top: 0;bottom: 0;left: 50%;z-index: -1;}#sk-container-id-1 div.sk-parallel-item {display: flex;flex-direction: column;z-index: 1;position: relative;background-color: white;}#sk-container-id-1 div.sk-parallel-item:first-child::after {align-self: flex-end;width: 50%;}#sk-container-id-1 div.sk-parallel-item:last-child::after {align-self: flex-start;width: 50%;}#sk-container-id-1 div.sk-parallel-item:only-child::after {width: 0;}#sk-container-id-1 div.sk-dashed-wrapped {border: 1px dashed gray;margin: 0 0.4em 0.5em 0.4em;box-sizing: border-box;padding-bottom: 0.4em;background-color: white;}#sk-container-id-1 div.sk-label label {font-family: monospace;font-weight: bold;display: inline-block;line-height: 1.2em;}#sk-container-id-1 div.sk-label-container {text-align: center;}#sk-container-id-1 div.sk-container {/* jupyter's `normalize.less` sets `[hidden] { display: none; }` but bootstrap.min.css set `[hidden] { display: none !important; }` so we also need the `!important` here to be able to override the default hidden behavior on the sphinx rendered scikit-learn.org. See: https://github.com/scikit-learn/scikit-learn/issues/21755 */display: inline-block !important;position: relative;}#sk-container-id-1 div.sk-text-repr-fallback {display: none;}</style><div id=\"sk-container-id-1\" class=\"sk-top-container\"><div class=\"sk-text-repr-fallback\"><pre>XGBSurv(base_score=None, booster=None, callbacks=None, colsample_bylevel=None,\n",
       "        colsample_bynode=None, colsample_bytree=None,\n",
       "        disable_default_eval_metric=1, early_stopping_rounds=None,\n",
       "        enable_categorical=False,\n",
       "        eval_metric=CPUDispatcher(&lt;function aft_likelihood at 0x28fe0c360&gt;),\n",
       "        feature_types=None, gamma=None, gpu_id=None, grow_policy=None,\n",
       "        importance_type=None, interaction_constraints=None, learning_rate=0.3,\n",
       "        max_bin=None, max_cat_threshold=None, max_cat_to_onehot=None,\n",
       "        max_delta_step=None, max_depth=None, max_leaves=None,\n",
       "        min_child_weight=None, missing=nan, monotone_constraints=None,\n",
       "        n_estimators=100, n_jobs=None, num_parallel_tree=None,\n",
       "        objective=CPUDispatcher(&lt;function aft_objective at 0x2a00439c0&gt;), ...)</pre><b>In a Jupyter environment, please rerun this cell to show the HTML representation or trust the notebook. <br />On GitHub, the HTML representation is unable to render, please try loading this page with nbviewer.org.</b></div><div class=\"sk-container\" hidden><div class=\"sk-item\"><div class=\"sk-estimator sk-toggleable\"><input class=\"sk-toggleable__control sk-hidden--visually\" id=\"sk-estimator-id-1\" type=\"checkbox\" checked><label for=\"sk-estimator-id-1\" class=\"sk-toggleable__label sk-toggleable__label-arrow\">XGBSurv</label><div class=\"sk-toggleable__content\"><pre>XGBSurv(base_score=None, booster=None, callbacks=None, colsample_bylevel=None,\n",
       "        colsample_bynode=None, colsample_bytree=None,\n",
       "        disable_default_eval_metric=1, early_stopping_rounds=None,\n",
       "        enable_categorical=False,\n",
       "        eval_metric=CPUDispatcher(&lt;function aft_likelihood at 0x28fe0c360&gt;),\n",
       "        feature_types=None, gamma=None, gpu_id=None, grow_policy=None,\n",
       "        importance_type=None, interaction_constraints=None, learning_rate=0.3,\n",
       "        max_bin=None, max_cat_threshold=None, max_cat_to_onehot=None,\n",
       "        max_delta_step=None, max_depth=None, max_leaves=None,\n",
       "        min_child_weight=None, missing=nan, monotone_constraints=None,\n",
       "        n_estimators=100, n_jobs=None, num_parallel_tree=None,\n",
       "        objective=CPUDispatcher(&lt;function aft_objective at 0x2a00439c0&gt;), ...)</pre></div></div></div></div></div>"
      ],
      "text/plain": [
       "XGBSurv(base_score=None, booster=None, callbacks=None, colsample_bylevel=None,\n",
       "        colsample_bynode=None, colsample_bytree=None,\n",
       "        disable_default_eval_metric=1, early_stopping_rounds=None,\n",
       "        enable_categorical=False,\n",
       "        eval_metric=CPUDispatcher(<function aft_likelihood at 0x28fe0c360>),\n",
       "        feature_types=None, gamma=None, gpu_id=None, grow_policy=None,\n",
       "        importance_type=None, interaction_constraints=None, learning_rate=0.3,\n",
       "        max_bin=None, max_cat_threshold=None, max_cat_to_onehot=None,\n",
       "        max_delta_step=None, max_depth=None, max_leaves=None,\n",
       "        min_child_weight=None, missing=nan, monotone_constraints=None,\n",
       "        n_estimators=100, n_jobs=None, num_parallel_tree=None,\n",
       "        objective=CPUDispatcher(<function aft_objective at 0x2a00439c0>), ...)"
      ]
     },
     "execution_count": 3,
     "metadata": {},
     "output_type": "execute_result"
    }
   ],
   "source": [
    "model = XGBSurv(n_estimators=100, objective=\"aft_objective\",\n",
    "                                             eval_metric=\"aft_loss\",\n",
    "                                             learning_rate=0.3,\n",
    "                                             random_state=42, \n",
    "                                             disable_default_eval_metric=1,\n",
    "                                             )\n",
    "model"
   ]
  },
  {
   "attachments": {},
   "cell_type": "markdown",
   "metadata": {},
   "source": [
    "The options of loss and objective functions can be obtained like below:"
   ]
  },
  {
   "cell_type": "code",
   "execution_count": 4,
   "metadata": {},
   "outputs": [
    {
     "name": "stdout",
     "output_type": "stream",
     "text": [
      "dict_keys(['breslow_loss', 'efron_loss', 'cind_loss', 'deephit_loss', 'aft_loss', 'ah_loss', 'eh_loss'])\n",
      "dict_keys(['breslow_objective', 'efron_objective', 'cind_objective', 'deephit_objective', 'aft_objective', 'ah_objective', 'eh_objective'])\n"
     ]
    }
   ],
   "source": [
    "print(model.get_loss_functions().keys())\n",
    "print(model.get_objective_functions().keys())"
   ]
  },
  {
   "attachments": {},
   "cell_type": "markdown",
   "metadata": {},
   "source": [
    "## Fit Model"
   ]
  },
  {
   "cell_type": "code",
   "execution_count": 5,
   "metadata": {},
   "outputs": [],
   "source": [
    "eval_set = [(X_train, y_train)]"
   ]
  },
  {
   "cell_type": "code",
   "execution_count": 6,
   "metadata": {},
   "outputs": [
    {
     "name": "stdout",
     "output_type": "stream",
     "text": [
      "[0]\tvalidation_0-aft_likelihood:2544.48974\n",
      "[1]\tvalidation_0-aft_likelihood:2519.20841\n",
      "[2]\tvalidation_0-aft_likelihood:2493.05942\n",
      "[3]\tvalidation_0-aft_likelihood:2468.12801\n",
      "[4]\tvalidation_0-aft_likelihood:2444.77146\n",
      "[5]\tvalidation_0-aft_likelihood:2419.77697\n",
      "[6]\tvalidation_0-aft_likelihood:2394.45945\n",
      "[7]\tvalidation_0-aft_likelihood:2375.18752\n",
      "[8]\tvalidation_0-aft_likelihood:2347.46956\n",
      "[9]\tvalidation_0-aft_likelihood:2318.75660\n",
      "[10]\tvalidation_0-aft_likelihood:2299.22171\n",
      "[11]\tvalidation_0-aft_likelihood:2281.01238\n",
      "[12]\tvalidation_0-aft_likelihood:2267.74981\n",
      "[13]\tvalidation_0-aft_likelihood:2253.95432\n",
      "[14]\tvalidation_0-aft_likelihood:2237.00974\n",
      "[15]\tvalidation_0-aft_likelihood:2223.04365\n",
      "[16]\tvalidation_0-aft_likelihood:2217.67512\n",
      "[17]\tvalidation_0-aft_likelihood:2208.10002\n",
      "[18]\tvalidation_0-aft_likelihood:2197.81936\n",
      "[19]\tvalidation_0-aft_likelihood:2181.23658\n",
      "[20]\tvalidation_0-aft_likelihood:2168.14106\n",
      "[21]\tvalidation_0-aft_likelihood:2158.85753\n",
      "[22]\tvalidation_0-aft_likelihood:2154.43993\n",
      "[23]\tvalidation_0-aft_likelihood:2151.81105\n",
      "[24]\tvalidation_0-aft_likelihood:2147.57328\n",
      "[25]\tvalidation_0-aft_likelihood:2144.36261\n",
      "[26]\tvalidation_0-aft_likelihood:2143.03533\n",
      "[27]\tvalidation_0-aft_likelihood:2139.28685\n",
      "[28]\tvalidation_0-aft_likelihood:2139.37504\n",
      "[29]\tvalidation_0-aft_likelihood:2138.25710\n",
      "[30]\tvalidation_0-aft_likelihood:2137.60224\n",
      "[31]\tvalidation_0-aft_likelihood:2134.10657\n",
      "[32]\tvalidation_0-aft_likelihood:2133.58795\n",
      "[33]\tvalidation_0-aft_likelihood:2129.24107\n",
      "[34]\tvalidation_0-aft_likelihood:2126.07443\n",
      "[35]\tvalidation_0-aft_likelihood:2124.48299\n",
      "[36]\tvalidation_0-aft_likelihood:2124.25215\n",
      "[37]\tvalidation_0-aft_likelihood:2123.08738\n",
      "[38]\tvalidation_0-aft_likelihood:2120.72950\n",
      "[39]\tvalidation_0-aft_likelihood:2120.22553\n",
      "[40]\tvalidation_0-aft_likelihood:2119.51244\n",
      "[41]\tvalidation_0-aft_likelihood:2120.31636\n",
      "[42]\tvalidation_0-aft_likelihood:2115.81579\n",
      "[43]\tvalidation_0-aft_likelihood:2112.68304\n",
      "[44]\tvalidation_0-aft_likelihood:2113.01455\n",
      "[45]\tvalidation_0-aft_likelihood:2116.91768\n",
      "[46]\tvalidation_0-aft_likelihood:2113.26999\n",
      "[47]\tvalidation_0-aft_likelihood:2114.80354\n",
      "[48]\tvalidation_0-aft_likelihood:2117.85510\n",
      "[49]\tvalidation_0-aft_likelihood:2116.91390\n",
      "[50]\tvalidation_0-aft_likelihood:2115.05076\n",
      "[51]\tvalidation_0-aft_likelihood:2112.27816\n",
      "[52]\tvalidation_0-aft_likelihood:2111.60929\n",
      "[53]\tvalidation_0-aft_likelihood:2111.07384\n",
      "[54]\tvalidation_0-aft_likelihood:2112.53123\n",
      "[55]\tvalidation_0-aft_likelihood:2110.03818\n",
      "[56]\tvalidation_0-aft_likelihood:2112.76936\n",
      "[57]\tvalidation_0-aft_likelihood:2108.78520\n",
      "[58]\tvalidation_0-aft_likelihood:2109.63878\n",
      "[59]\tvalidation_0-aft_likelihood:2106.38208\n",
      "[60]\tvalidation_0-aft_likelihood:2110.40412\n",
      "[61]\tvalidation_0-aft_likelihood:2104.55146\n",
      "[62]\tvalidation_0-aft_likelihood:2100.55814\n",
      "[63]\tvalidation_0-aft_likelihood:2099.04077\n",
      "[64]\tvalidation_0-aft_likelihood:2097.68968\n",
      "[65]\tvalidation_0-aft_likelihood:2091.00746\n",
      "[66]\tvalidation_0-aft_likelihood:2090.94054\n",
      "[67]\tvalidation_0-aft_likelihood:2090.23647\n",
      "[68]\tvalidation_0-aft_likelihood:2091.07137\n",
      "[69]\tvalidation_0-aft_likelihood:2087.26673\n",
      "[70]\tvalidation_0-aft_likelihood:2084.97761\n",
      "[71]\tvalidation_0-aft_likelihood:2081.86604\n",
      "[72]\tvalidation_0-aft_likelihood:2081.30895\n",
      "[73]\tvalidation_0-aft_likelihood:2077.50602\n",
      "[74]\tvalidation_0-aft_likelihood:2076.06605\n",
      "[75]\tvalidation_0-aft_likelihood:2074.26347\n",
      "[76]\tvalidation_0-aft_likelihood:2074.78453\n",
      "[77]\tvalidation_0-aft_likelihood:2075.05141\n",
      "[78]\tvalidation_0-aft_likelihood:2072.52643\n",
      "[79]\tvalidation_0-aft_likelihood:2075.75535\n",
      "[80]\tvalidation_0-aft_likelihood:2071.95443\n",
      "[81]\tvalidation_0-aft_likelihood:2070.15440\n",
      "[82]\tvalidation_0-aft_likelihood:2063.58404\n",
      "[83]\tvalidation_0-aft_likelihood:2063.75410\n",
      "[84]\tvalidation_0-aft_likelihood:2061.74820\n",
      "[85]\tvalidation_0-aft_likelihood:2062.54104\n",
      "[86]\tvalidation_0-aft_likelihood:2060.52160\n",
      "[87]\tvalidation_0-aft_likelihood:2060.70067\n",
      "[88]\tvalidation_0-aft_likelihood:2060.72407\n",
      "[89]\tvalidation_0-aft_likelihood:2062.37138\n",
      "[90]\tvalidation_0-aft_likelihood:2062.02436\n",
      "[91]\tvalidation_0-aft_likelihood:2056.74151\n",
      "[92]\tvalidation_0-aft_likelihood:2057.25873\n",
      "[93]\tvalidation_0-aft_likelihood:2058.06847\n",
      "[94]\tvalidation_0-aft_likelihood:2059.40944\n",
      "[95]\tvalidation_0-aft_likelihood:2058.25758\n",
      "[96]\tvalidation_0-aft_likelihood:2063.38116\n",
      "[97]\tvalidation_0-aft_likelihood:2058.28464\n",
      "[98]\tvalidation_0-aft_likelihood:2059.37312\n",
      "[99]\tvalidation_0-aft_likelihood:2060.75396\n"
     ]
    },
    {
     "data": {
      "text/html": [
       "<style>#sk-container-id-2 {color: black;background-color: white;}#sk-container-id-2 pre{padding: 0;}#sk-container-id-2 div.sk-toggleable {background-color: white;}#sk-container-id-2 label.sk-toggleable__label {cursor: pointer;display: block;width: 100%;margin-bottom: 0;padding: 0.3em;box-sizing: border-box;text-align: center;}#sk-container-id-2 label.sk-toggleable__label-arrow:before {content: \"▸\";float: left;margin-right: 0.25em;color: #696969;}#sk-container-id-2 label.sk-toggleable__label-arrow:hover:before {color: black;}#sk-container-id-2 div.sk-estimator:hover label.sk-toggleable__label-arrow:before {color: black;}#sk-container-id-2 div.sk-toggleable__content {max-height: 0;max-width: 0;overflow: hidden;text-align: left;background-color: #f0f8ff;}#sk-container-id-2 div.sk-toggleable__content pre {margin: 0.2em;color: black;border-radius: 0.25em;background-color: #f0f8ff;}#sk-container-id-2 input.sk-toggleable__control:checked~div.sk-toggleable__content {max-height: 200px;max-width: 100%;overflow: auto;}#sk-container-id-2 input.sk-toggleable__control:checked~label.sk-toggleable__label-arrow:before {content: \"▾\";}#sk-container-id-2 div.sk-estimator input.sk-toggleable__control:checked~label.sk-toggleable__label {background-color: #d4ebff;}#sk-container-id-2 div.sk-label input.sk-toggleable__control:checked~label.sk-toggleable__label {background-color: #d4ebff;}#sk-container-id-2 input.sk-hidden--visually {border: 0;clip: rect(1px 1px 1px 1px);clip: rect(1px, 1px, 1px, 1px);height: 1px;margin: -1px;overflow: hidden;padding: 0;position: absolute;width: 1px;}#sk-container-id-2 div.sk-estimator {font-family: monospace;background-color: #f0f8ff;border: 1px dotted black;border-radius: 0.25em;box-sizing: border-box;margin-bottom: 0.5em;}#sk-container-id-2 div.sk-estimator:hover {background-color: #d4ebff;}#sk-container-id-2 div.sk-parallel-item::after {content: \"\";width: 100%;border-bottom: 1px solid gray;flex-grow: 1;}#sk-container-id-2 div.sk-label:hover label.sk-toggleable__label {background-color: #d4ebff;}#sk-container-id-2 div.sk-serial::before {content: \"\";position: absolute;border-left: 1px solid gray;box-sizing: border-box;top: 0;bottom: 0;left: 50%;z-index: 0;}#sk-container-id-2 div.sk-serial {display: flex;flex-direction: column;align-items: center;background-color: white;padding-right: 0.2em;padding-left: 0.2em;position: relative;}#sk-container-id-2 div.sk-item {position: relative;z-index: 1;}#sk-container-id-2 div.sk-parallel {display: flex;align-items: stretch;justify-content: center;background-color: white;position: relative;}#sk-container-id-2 div.sk-item::before, #sk-container-id-2 div.sk-parallel-item::before {content: \"\";position: absolute;border-left: 1px solid gray;box-sizing: border-box;top: 0;bottom: 0;left: 50%;z-index: -1;}#sk-container-id-2 div.sk-parallel-item {display: flex;flex-direction: column;z-index: 1;position: relative;background-color: white;}#sk-container-id-2 div.sk-parallel-item:first-child::after {align-self: flex-end;width: 50%;}#sk-container-id-2 div.sk-parallel-item:last-child::after {align-self: flex-start;width: 50%;}#sk-container-id-2 div.sk-parallel-item:only-child::after {width: 0;}#sk-container-id-2 div.sk-dashed-wrapped {border: 1px dashed gray;margin: 0 0.4em 0.5em 0.4em;box-sizing: border-box;padding-bottom: 0.4em;background-color: white;}#sk-container-id-2 div.sk-label label {font-family: monospace;font-weight: bold;display: inline-block;line-height: 1.2em;}#sk-container-id-2 div.sk-label-container {text-align: center;}#sk-container-id-2 div.sk-container {/* jupyter's `normalize.less` sets `[hidden] { display: none; }` but bootstrap.min.css set `[hidden] { display: none !important; }` so we also need the `!important` here to be able to override the default hidden behavior on the sphinx rendered scikit-learn.org. See: https://github.com/scikit-learn/scikit-learn/issues/21755 */display: inline-block !important;position: relative;}#sk-container-id-2 div.sk-text-repr-fallback {display: none;}</style><div id=\"sk-container-id-2\" class=\"sk-top-container\"><div class=\"sk-text-repr-fallback\"><pre>XGBSurv(base_score=None, booster=None, callbacks=None, colsample_bylevel=None,\n",
       "        colsample_bynode=None, colsample_bytree=None,\n",
       "        disable_default_eval_metric=1, early_stopping_rounds=None,\n",
       "        enable_categorical=False,\n",
       "        eval_metric=CPUDispatcher(&lt;function aft_likelihood at 0x28fe0c360&gt;),\n",
       "        feature_types=None, gamma=None, gpu_id=None, grow_policy=None,\n",
       "        importance_type=None, interaction_constraints=None, learning_rate=0.3,\n",
       "        max_bin=None, max_cat_threshold=None, max_cat_to_onehot=None,\n",
       "        max_delta_step=None, max_depth=None, max_leaves=None,\n",
       "        min_child_weight=None, missing=nan, monotone_constraints=None,\n",
       "        n_estimators=100, n_jobs=None, num_parallel_tree=None,\n",
       "        objective=CPUDispatcher(&lt;function aft_objective at 0x2a00439c0&gt;), ...)</pre><b>In a Jupyter environment, please rerun this cell to show the HTML representation or trust the notebook. <br />On GitHub, the HTML representation is unable to render, please try loading this page with nbviewer.org.</b></div><div class=\"sk-container\" hidden><div class=\"sk-item\"><div class=\"sk-estimator sk-toggleable\"><input class=\"sk-toggleable__control sk-hidden--visually\" id=\"sk-estimator-id-2\" type=\"checkbox\" checked><label for=\"sk-estimator-id-2\" class=\"sk-toggleable__label sk-toggleable__label-arrow\">XGBSurv</label><div class=\"sk-toggleable__content\"><pre>XGBSurv(base_score=None, booster=None, callbacks=None, colsample_bylevel=None,\n",
       "        colsample_bynode=None, colsample_bytree=None,\n",
       "        disable_default_eval_metric=1, early_stopping_rounds=None,\n",
       "        enable_categorical=False,\n",
       "        eval_metric=CPUDispatcher(&lt;function aft_likelihood at 0x28fe0c360&gt;),\n",
       "        feature_types=None, gamma=None, gpu_id=None, grow_policy=None,\n",
       "        importance_type=None, interaction_constraints=None, learning_rate=0.3,\n",
       "        max_bin=None, max_cat_threshold=None, max_cat_to_onehot=None,\n",
       "        max_delta_step=None, max_depth=None, max_leaves=None,\n",
       "        min_child_weight=None, missing=nan, monotone_constraints=None,\n",
       "        n_estimators=100, n_jobs=None, num_parallel_tree=None,\n",
       "        objective=CPUDispatcher(&lt;function aft_objective at 0x2a00439c0&gt;), ...)</pre></div></div></div></div></div>"
      ],
      "text/plain": [
       "XGBSurv(base_score=None, booster=None, callbacks=None, colsample_bylevel=None,\n",
       "        colsample_bynode=None, colsample_bytree=None,\n",
       "        disable_default_eval_metric=1, early_stopping_rounds=None,\n",
       "        enable_categorical=False,\n",
       "        eval_metric=CPUDispatcher(<function aft_likelihood at 0x28fe0c360>),\n",
       "        feature_types=None, gamma=None, gpu_id=None, grow_policy=None,\n",
       "        importance_type=None, interaction_constraints=None, learning_rate=0.3,\n",
       "        max_bin=None, max_cat_threshold=None, max_cat_to_onehot=None,\n",
       "        max_delta_step=None, max_depth=None, max_leaves=None,\n",
       "        min_child_weight=None, missing=nan, monotone_constraints=None,\n",
       "        n_estimators=100, n_jobs=None, num_parallel_tree=None,\n",
       "        objective=CPUDispatcher(<function aft_objective at 0x2a00439c0>), ...)"
      ]
     },
     "execution_count": 6,
     "metadata": {},
     "output_type": "execute_result"
    }
   ],
   "source": [
    "model.fit(X_train, y_train, eval_set=eval_set)"
   ]
  },
  {
   "attachments": {},
   "cell_type": "markdown",
   "metadata": {},
   "source": [
    "The model can be saved like below. Note that objective and eval_metric are not saved."
   ]
  },
  {
   "cell_type": "code",
   "execution_count": 7,
   "metadata": {},
   "outputs": [],
   "source": [
    "#model.save_model(\"introduction_model_breslow.json\")"
   ]
  },
  {
   "attachments": {},
   "cell_type": "markdown",
   "metadata": {},
   "source": [
    "## Predict"
   ]
  },
  {
   "cell_type": "code",
   "execution_count": 8,
   "metadata": {},
   "outputs": [],
   "source": [
    "preds_train = model.predict(X_train, output_margin=True)\n",
    "preds_test = model.predict(X_test, output_margin=True)"
   ]
  },
  {
   "attachments": {},
   "cell_type": "markdown",
   "metadata": {},
   "source": [
    "### Predict Cumulative Hazard"
   ]
  },
  {
   "cell_type": "code",
   "execution_count": 9,
   "metadata": {},
   "outputs": [
    {
     "data": {
      "text/html": [
       "<div>\n",
       "<style scoped>\n",
       "    .dataframe tbody tr th:only-of-type {\n",
       "        vertical-align: middle;\n",
       "    }\n",
       "\n",
       "    .dataframe tbody tr th {\n",
       "        vertical-align: top;\n",
       "    }\n",
       "\n",
       "    .dataframe thead th {\n",
       "        text-align: right;\n",
       "    }\n",
       "</style>\n",
       "<table border=\"1\" class=\"dataframe\">\n",
       "  <thead>\n",
       "    <tr style=\"text-align: right;\">\n",
       "      <th></th>\n",
       "      <th>0</th>\n",
       "      <th>1</th>\n",
       "      <th>2</th>\n",
       "      <th>3</th>\n",
       "      <th>4</th>\n",
       "      <th>5</th>\n",
       "      <th>6</th>\n",
       "      <th>7</th>\n",
       "      <th>8</th>\n",
       "      <th>9</th>\n",
       "      <th>...</th>\n",
       "      <th>466</th>\n",
       "      <th>467</th>\n",
       "      <th>468</th>\n",
       "      <th>469</th>\n",
       "      <th>470</th>\n",
       "      <th>471</th>\n",
       "      <th>472</th>\n",
       "      <th>473</th>\n",
       "      <th>474</th>\n",
       "      <th>475</th>\n",
       "    </tr>\n",
       "  </thead>\n",
       "  <tbody>\n",
       "    <tr>\n",
       "      <th>335.733337</th>\n",
       "      <td>0.632305</td>\n",
       "      <td>3.939879</td>\n",
       "      <td>3.177861</td>\n",
       "      <td>0.393528</td>\n",
       "      <td>0.800501</td>\n",
       "      <td>1.020239</td>\n",
       "      <td>6.032359</td>\n",
       "      <td>2.000150</td>\n",
       "      <td>4.705243</td>\n",
       "      <td>0.553711</td>\n",
       "      <td>...</td>\n",
       "      <td>2.037321</td>\n",
       "      <td>3.985135</td>\n",
       "      <td>0.376771</td>\n",
       "      <td>5.932850</td>\n",
       "      <td>2.924134</td>\n",
       "      <td>0.455359</td>\n",
       "      <td>3.586049</td>\n",
       "      <td>1.394158</td>\n",
       "      <td>5.727282</td>\n",
       "      <td>5.323738</td>\n",
       "    </tr>\n",
       "    <tr>\n",
       "      <th>351.000000</th>\n",
       "      <td>0.698887</td>\n",
       "      <td>4.207121</td>\n",
       "      <td>3.433460</td>\n",
       "      <td>0.415645</td>\n",
       "      <td>0.890815</td>\n",
       "      <td>1.136586</td>\n",
       "      <td>6.032470</td>\n",
       "      <td>2.198890</td>\n",
       "      <td>4.948664</td>\n",
       "      <td>0.607564</td>\n",
       "      <td>...</td>\n",
       "      <td>2.238591</td>\n",
       "      <td>4.251966</td>\n",
       "      <td>0.394913</td>\n",
       "      <td>5.969167</td>\n",
       "      <td>3.169672</td>\n",
       "      <td>0.490846</td>\n",
       "      <td>3.851651</td>\n",
       "      <td>1.547113</td>\n",
       "      <td>5.822961</td>\n",
       "      <td>5.500202</td>\n",
       "    </tr>\n",
       "    <tr>\n",
       "      <th>355.200012</th>\n",
       "      <td>0.718338</td>\n",
       "      <td>4.277973</td>\n",
       "      <td>3.503292</td>\n",
       "      <td>0.422360</td>\n",
       "      <td>0.916862</td>\n",
       "      <td>1.169865</td>\n",
       "      <td>6.032492</td>\n",
       "      <td>2.254111</td>\n",
       "      <td>5.011583</td>\n",
       "      <td>0.623354</td>\n",
       "      <td>...</td>\n",
       "      <td>2.294192</td>\n",
       "      <td>4.322649</td>\n",
       "      <td>0.400495</td>\n",
       "      <td>5.976834</td>\n",
       "      <td>3.238539</td>\n",
       "      <td>0.501446</td>\n",
       "      <td>3.923131</td>\n",
       "      <td>1.590222</td>\n",
       "      <td>5.844386</td>\n",
       "      <td>5.543854</td>\n",
       "    </tr>\n",
       "  </tbody>\n",
       "</table>\n",
       "<p>3 rows × 476 columns</p>\n",
       "</div>"
      ],
      "text/plain": [
       "                 0         1         2         3         4         5    \\\n",
       "335.733337  0.632305  3.939879  3.177861  0.393528  0.800501  1.020239   \n",
       "351.000000  0.698887  4.207121  3.433460  0.415645  0.890815  1.136586   \n",
       "355.200012  0.718338  4.277973  3.503292  0.422360  0.916862  1.169865   \n",
       "\n",
       "                 6         7         8         9    ...       466       467  \\\n",
       "335.733337  6.032359  2.000150  4.705243  0.553711  ...  2.037321  3.985135   \n",
       "351.000000  6.032470  2.198890  4.948664  0.607564  ...  2.238591  4.251966   \n",
       "355.200012  6.032492  2.254111  5.011583  0.623354  ...  2.294192  4.322649   \n",
       "\n",
       "                 468       469       470       471       472       473  \\\n",
       "335.733337  0.376771  5.932850  2.924134  0.455359  3.586049  1.394158   \n",
       "351.000000  0.394913  5.969167  3.169672  0.490846  3.851651  1.547113   \n",
       "355.200012  0.400495  5.976834  3.238539  0.501446  3.923131  1.590222   \n",
       "\n",
       "                 474       475  \n",
       "335.733337  5.727282  5.323738  \n",
       "351.000000  5.822961  5.500202  \n",
       "355.200012  5.844386  5.543854  \n",
       "\n",
       "[3 rows x 476 columns]"
      ]
     },
     "execution_count": 9,
     "metadata": {},
     "output_type": "execute_result"
    }
   ],
   "source": [
    "df_cum_hazards = model.predict_cumulative_hazard_function(X_train, X_test, y_train, y_test)\n",
    "df_cum_hazards.tail(3)"
   ]
  },
  {
   "attachments": {},
   "cell_type": "markdown",
   "metadata": {},
   "source": [
    "## Predict Survival Function"
   ]
  },
  {
   "cell_type": "code",
   "execution_count": 10,
   "metadata": {},
   "outputs": [
    {
     "data": {
      "text/html": [
       "<div>\n",
       "<style scoped>\n",
       "    .dataframe tbody tr th:only-of-type {\n",
       "        vertical-align: middle;\n",
       "    }\n",
       "\n",
       "    .dataframe tbody tr th {\n",
       "        vertical-align: top;\n",
       "    }\n",
       "\n",
       "    .dataframe thead th {\n",
       "        text-align: right;\n",
       "    }\n",
       "</style>\n",
       "<table border=\"1\" class=\"dataframe\">\n",
       "  <thead>\n",
       "    <tr style=\"text-align: right;\">\n",
       "      <th></th>\n",
       "      <th>0</th>\n",
       "      <th>1</th>\n",
       "      <th>2</th>\n",
       "      <th>3</th>\n",
       "      <th>4</th>\n",
       "      <th>5</th>\n",
       "      <th>6</th>\n",
       "      <th>7</th>\n",
       "      <th>8</th>\n",
       "      <th>9</th>\n",
       "      <th>...</th>\n",
       "      <th>466</th>\n",
       "      <th>467</th>\n",
       "      <th>468</th>\n",
       "      <th>469</th>\n",
       "      <th>470</th>\n",
       "      <th>471</th>\n",
       "      <th>472</th>\n",
       "      <th>473</th>\n",
       "      <th>474</th>\n",
       "      <th>475</th>\n",
       "    </tr>\n",
       "  </thead>\n",
       "  <tbody>\n",
       "    <tr>\n",
       "      <th>335.733337</th>\n",
       "      <td>0.531365</td>\n",
       "      <td>0.019451</td>\n",
       "      <td>0.041675</td>\n",
       "      <td>0.674672</td>\n",
       "      <td>0.449104</td>\n",
       "      <td>0.360509</td>\n",
       "      <td>0.0024</td>\n",
       "      <td>0.135315</td>\n",
       "      <td>0.009048</td>\n",
       "      <td>0.574813</td>\n",
       "      <td>...</td>\n",
       "      <td>0.130377</td>\n",
       "      <td>0.018590</td>\n",
       "      <td>0.686073</td>\n",
       "      <td>0.002651</td>\n",
       "      <td>0.053711</td>\n",
       "      <td>0.634220</td>\n",
       "      <td>0.027708</td>\n",
       "      <td>0.248042</td>\n",
       "      <td>0.003256</td>\n",
       "      <td>0.004874</td>\n",
       "    </tr>\n",
       "    <tr>\n",
       "      <th>351.000000</th>\n",
       "      <td>0.497138</td>\n",
       "      <td>0.014889</td>\n",
       "      <td>0.032275</td>\n",
       "      <td>0.659914</td>\n",
       "      <td>0.410321</td>\n",
       "      <td>0.320913</td>\n",
       "      <td>0.0024</td>\n",
       "      <td>0.110926</td>\n",
       "      <td>0.007093</td>\n",
       "      <td>0.544676</td>\n",
       "      <td>...</td>\n",
       "      <td>0.106609</td>\n",
       "      <td>0.014236</td>\n",
       "      <td>0.673739</td>\n",
       "      <td>0.002556</td>\n",
       "      <td>0.042017</td>\n",
       "      <td>0.612109</td>\n",
       "      <td>0.021245</td>\n",
       "      <td>0.212862</td>\n",
       "      <td>0.002959</td>\n",
       "      <td>0.004086</td>\n",
       "    </tr>\n",
       "    <tr>\n",
       "      <th>355.200012</th>\n",
       "      <td>0.487562</td>\n",
       "      <td>0.013871</td>\n",
       "      <td>0.030098</td>\n",
       "      <td>0.655498</td>\n",
       "      <td>0.399772</td>\n",
       "      <td>0.310409</td>\n",
       "      <td>0.0024</td>\n",
       "      <td>0.104967</td>\n",
       "      <td>0.006660</td>\n",
       "      <td>0.536143</td>\n",
       "      <td>...</td>\n",
       "      <td>0.100843</td>\n",
       "      <td>0.013265</td>\n",
       "      <td>0.669988</td>\n",
       "      <td>0.002537</td>\n",
       "      <td>0.039221</td>\n",
       "      <td>0.605654</td>\n",
       "      <td>0.019779</td>\n",
       "      <td>0.203880</td>\n",
       "      <td>0.002896</td>\n",
       "      <td>0.003911</td>\n",
       "    </tr>\n",
       "  </tbody>\n",
       "</table>\n",
       "<p>3 rows × 476 columns</p>\n",
       "</div>"
      ],
      "text/plain": [
       "                 0         1         2         3         4         5    \\\n",
       "335.733337  0.531365  0.019451  0.041675  0.674672  0.449104  0.360509   \n",
       "351.000000  0.497138  0.014889  0.032275  0.659914  0.410321  0.320913   \n",
       "355.200012  0.487562  0.013871  0.030098  0.655498  0.399772  0.310409   \n",
       "\n",
       "               6         7         8         9    ...       466       467  \\\n",
       "335.733337  0.0024  0.135315  0.009048  0.574813  ...  0.130377  0.018590   \n",
       "351.000000  0.0024  0.110926  0.007093  0.544676  ...  0.106609  0.014236   \n",
       "355.200012  0.0024  0.104967  0.006660  0.536143  ...  0.100843  0.013265   \n",
       "\n",
       "                 468       469       470       471       472       473  \\\n",
       "335.733337  0.686073  0.002651  0.053711  0.634220  0.027708  0.248042   \n",
       "351.000000  0.673739  0.002556  0.042017  0.612109  0.021245  0.212862   \n",
       "355.200012  0.669988  0.002537  0.039221  0.605654  0.019779  0.203880   \n",
       "\n",
       "                 474       475  \n",
       "335.733337  0.003256  0.004874  \n",
       "351.000000  0.002959  0.004086  \n",
       "355.200012  0.002896  0.003911  \n",
       "\n",
       "[3 rows x 476 columns]"
      ]
     },
     "execution_count": 10,
     "metadata": {},
     "output_type": "execute_result"
    }
   ],
   "source": [
    "df_survival_function = model.predict_survival_function(X_train, X_test, y_train, y_test)\n",
    "df_survival_function.tail(3)"
   ]
  },
  {
   "attachments": {},
   "cell_type": "markdown",
   "metadata": {},
   "source": [
    "### Visualize Predictions"
   ]
  },
  {
   "cell_type": "code",
   "execution_count": 11,
   "metadata": {},
   "outputs": [
    {
     "data": {
      "text/plain": [
       "Text(0.5, 1.0, 'Cumulative Hazard Breslow')"
      ]
     },
     "execution_count": 11,
     "metadata": {},
     "output_type": "execute_result"
    },
    {
     "data": {
      "image/png": "[encoded data removed]",
      "text/plain": [
       "<Figure size 640x480 with 1 Axes>"
      ]
     },
     "metadata": {},
     "output_type": "display_data"
    }
   ],
   "source": [
    "df_cum_hazards.iloc[:, :5].plot(drawstyle='steps-post')\n",
    "plt.ylabel('S(t | x)')\n",
    "_ = plt.xlabel('Time')\n",
    "plt.title(\"Cumulative Hazard Breslow\")"
   ]
  },
  {
   "cell_type": "code",
   "execution_count": 12,
   "metadata": {},
   "outputs": [
    {
     "data": {
      "text/plain": [
       "Text(0.5, 1.0, 'Survival Curve Breslow')"
      ]
     },
     "execution_count": 12,
     "metadata": {},
     "output_type": "execute_result"
    },
    {
     "data": {
      "image/png": "[encoded data removed]",
      "text/plain": [
       "<Figure size 640x480 with 1 Axes>"
      ]
     },
     "metadata": {},
     "output_type": "display_data"
    }
   ],
   "source": [
    "df_survival_function.iloc[:, :5].plot(drawstyle='steps-post')\n",
    "plt.ylabel('S(t | x)')\n",
    "_ = plt.xlabel('Time')\n",
    "plt.title(\"Survival Curve Breslow\")"
   ]
  },
  {
   "attachments": {},
   "cell_type": "markdown",
   "metadata": {},
   "source": [
    "## Evaluate"
   ]
  },
  {
   "attachments": {},
   "cell_type": "markdown",
   "metadata": {},
   "source": [
    "### Test"
   ]
  },
  {
   "cell_type": "code",
   "execution_count": 13,
   "metadata": {},
   "outputs": [
    {
     "name": "stdout",
     "output_type": "stream",
     "text": [
      "Concordance Index 0.5975628527449974\n"
     ]
    }
   ],
   "source": [
    "durations_test, events_test = transform_back(y_test)\n",
    "time_grid = np.linspace(durations_test.min(), durations_test.max(), 100)\n",
    "ev = EvalSurv(df_survival_function, durations_test, events_test, censor_surv='km')\n",
    "print('Concordance Index',ev.concordance_td('antolini'))"
   ]
  },
  {
   "cell_type": "code",
   "execution_count": 14,
   "metadata": {},
   "outputs": [
    {
     "name": "stdout",
     "output_type": "stream",
     "text": [
      "Integrated Brier Score: 0.21278237756672985\n"
     ]
    }
   ],
   "source": [
    "print('Integrated Brier Score:',ev.integrated_brier_score(time_grid))"
   ]
  },
  {
   "cell_type": "code",
   "execution_count": null,
   "metadata": {},
   "outputs": [],
   "source": []
  }
 ],
 "metadata": {
  "kernelspec": {
   "display_name": "xgbsurv",
   "language": "python",
   "name": "python3"
  },
  "language_info": {
   "codemirror_mode": {
    "name": "ipython",
    "version": 3
   },
   "file_extension": ".py",
   "mimetype": "text/x-python",
   "name": "python",
   "nbconvert_exporter": "python",
   "pygments_lexer": "ipython3",
   "version": "3.11.3"
  },
  "orig_nbformat": 4
 },
 "nbformat": 4,
 "nbformat_minor": 2
}
