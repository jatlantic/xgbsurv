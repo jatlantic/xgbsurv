{
 "cells": [
  {
   "attachments": {},
   "cell_type": "markdown",
   "metadata": {},
   "source": [
    "# Introduction to the xgbsurv package - Accelerated Failure Time\n",
    "\n",
    "This notebook introduces `xgbsurv` using a specific dataset. It structured by the following steps:\n",
    "\n",
    "- Load data\n",
    "- Load model\n",
    "- Fit model\n",
    "- Predict and evaluate model\n",
    "\n",
    "The syntax conveniently follows that of sklearn."
   ]
  },
  {
   "cell_type": "code",
   "execution_count": 1,
   "metadata": {},
   "outputs": [],
   "source": [
    "from xgbsurv.datasets import load_metabric,\n",
    "from xgbsurv import XGBSurv\n",
    "from sklearn.model_selection import train_test_split\n",
    "import numpy as np\n",
    "from xgbsurv.evaluation import cindex_censored, ibs\n",
    "%load_ext autoreload\n",
    "%autoreload 2\n"
   ]
  },
  {
   "attachments": {},
   "cell_type": "markdown",
   "metadata": {},
   "source": [
    "## Load Data"
   ]
  },
  {
   "cell_type": "code",
   "execution_count": 17,
   "metadata": {},
   "outputs": [],
   "source": [
    "data, target = load_metabric(path=\"/Users/JUSC/Documents/xgbsurv/xgbsurv/datasets/data/\", as_frame=False)\n",
    "target_sign = np.sign(target)\n",
    "X_train, X_test, y_train, y_test = train_test_split(data, target, stratify=target_sign)"
   ]
  },
  {
   "attachments": {},
   "cell_type": "markdown",
   "metadata": {},
   "source": [
    "## Load Model"
   ]
  },
  {
   "cell_type": "code",
   "execution_count": 18,
   "metadata": {},
   "outputs": [],
   "source": [
    "model = XGBSurv(n_estimators=100, objective=\"aft_objective\",\n",
    "                                             eval_metric=\"aft_loss\",\n",
    "                                             learning_rate=0.3,\n",
    "                                             random_state=7, \n",
    "                                             disable_default_eval_metric=True,\n",
    "                                             base_score=0.0)"
   ]
  },
  {
   "attachments": {},
   "cell_type": "markdown",
   "metadata": {},
   "source": [
    "The options of loss and objective functions can be obtained like below:"
   ]
  },
  {
   "cell_type": "code",
   "execution_count": 19,
   "metadata": {},
   "outputs": [
    {
     "name": "stdout",
     "output_type": "stream",
     "text": [
      "dict_keys(['breslow_loss', 'efron_loss', 'cind_loss', 'deephit_loss', 'aft_loss', 'ah_loss'])\n",
      "dict_keys(['breslow_objective', 'efron_objective', 'cind_objective', 'deephit_objective', 'aft_objective', 'ah_objective'])\n"
     ]
    }
   ],
   "source": [
    "print(model.get_loss_functions().keys())\n",
    "print(model.get_objective_functions().keys())"
   ]
  },
  {
   "attachments": {},
   "cell_type": "markdown",
   "metadata": {},
   "source": [
    "## Fit Model"
   ]
  },
  {
   "cell_type": "code",
   "execution_count": 20,
   "metadata": {},
   "outputs": [],
   "source": [
    "eval_set = [(X_train, y_train)]"
   ]
  },
  {
   "cell_type": "code",
   "execution_count": 21,
   "metadata": {},
   "outputs": [
    {
     "name": "stdout",
     "output_type": "stream",
     "text": [
      "[0]\tvalidation_0-aft_likelihood:2.25441\n",
      "[1]\tvalidation_0-aft_likelihood:2.25258\n",
      "[2]\tvalidation_0-aft_likelihood:2.25088\n",
      "[3]\tvalidation_0-aft_likelihood:2.24929\n",
      "[4]\tvalidation_0-aft_likelihood:2.24773\n",
      "[5]\tvalidation_0-aft_likelihood:2.24627\n",
      "[6]\tvalidation_0-aft_likelihood:2.24501\n",
      "[7]\tvalidation_0-aft_likelihood:2.24383\n",
      "[8]\tvalidation_0-aft_likelihood:2.24278\n",
      "[9]\tvalidation_0-aft_likelihood:2.24165\n",
      "[10]\tvalidation_0-aft_likelihood:2.24057\n",
      "[11]\tvalidation_0-aft_likelihood:2.23977\n",
      "[12]\tvalidation_0-aft_likelihood:2.23883\n",
      "[13]\tvalidation_0-aft_likelihood:2.23804\n",
      "[14]\tvalidation_0-aft_likelihood:2.23734\n",
      "[15]\tvalidation_0-aft_likelihood:2.23652\n",
      "[16]\tvalidation_0-aft_likelihood:2.23569\n",
      "[17]\tvalidation_0-aft_likelihood:2.23511\n",
      "[18]\tvalidation_0-aft_likelihood:2.23454\n",
      "[19]\tvalidation_0-aft_likelihood:2.23404\n",
      "[20]\tvalidation_0-aft_likelihood:2.23332\n",
      "[21]\tvalidation_0-aft_likelihood:2.23271\n",
      "[22]\tvalidation_0-aft_likelihood:2.23222\n",
      "[23]\tvalidation_0-aft_likelihood:2.23184\n",
      "[24]\tvalidation_0-aft_likelihood:2.23154\n",
      "[25]\tvalidation_0-aft_likelihood:2.23131\n",
      "[26]\tvalidation_0-aft_likelihood:2.23106\n",
      "[27]\tvalidation_0-aft_likelihood:2.23093\n",
      "[28]\tvalidation_0-aft_likelihood:2.23082\n",
      "[29]\tvalidation_0-aft_likelihood:2.23064\n",
      "[30]\tvalidation_0-aft_likelihood:2.23057\n",
      "[31]\tvalidation_0-aft_likelihood:2.23060\n",
      "[32]\tvalidation_0-aft_likelihood:2.23069\n",
      "[33]\tvalidation_0-aft_likelihood:2.23088\n",
      "[34]\tvalidation_0-aft_likelihood:2.23099\n",
      "[35]\tvalidation_0-aft_likelihood:2.23110\n",
      "[36]\tvalidation_0-aft_likelihood:2.23123\n",
      "[37]\tvalidation_0-aft_likelihood:2.23109\n",
      "[38]\tvalidation_0-aft_likelihood:2.23139\n",
      "[39]\tvalidation_0-aft_likelihood:2.23133\n",
      "[40]\tvalidation_0-aft_likelihood:2.23173\n",
      "[41]\tvalidation_0-aft_likelihood:2.23210\n",
      "[42]\tvalidation_0-aft_likelihood:2.23243\n",
      "[43]\tvalidation_0-aft_likelihood:2.23269\n",
      "[44]\tvalidation_0-aft_likelihood:2.23302\n",
      "[45]\tvalidation_0-aft_likelihood:2.23330\n",
      "[46]\tvalidation_0-aft_likelihood:2.23371\n",
      "[47]\tvalidation_0-aft_likelihood:2.23413\n",
      "[48]\tvalidation_0-aft_likelihood:2.23453\n",
      "[49]\tvalidation_0-aft_likelihood:2.23498\n",
      "[50]\tvalidation_0-aft_likelihood:2.23545\n",
      "[51]\tvalidation_0-aft_likelihood:2.23597\n",
      "[52]\tvalidation_0-aft_likelihood:2.23647\n",
      "[53]\tvalidation_0-aft_likelihood:2.23692\n",
      "[54]\tvalidation_0-aft_likelihood:2.23748\n",
      "[55]\tvalidation_0-aft_likelihood:2.23813\n",
      "[56]\tvalidation_0-aft_likelihood:2.23836\n",
      "[57]\tvalidation_0-aft_likelihood:2.23889\n",
      "[58]\tvalidation_0-aft_likelihood:2.23952\n",
      "[59]\tvalidation_0-aft_likelihood:2.23986\n",
      "[60]\tvalidation_0-aft_likelihood:2.24026\n",
      "[61]\tvalidation_0-aft_likelihood:2.24093\n",
      "[62]\tvalidation_0-aft_likelihood:2.24126\n",
      "[63]\tvalidation_0-aft_likelihood:2.24201\n",
      "[64]\tvalidation_0-aft_likelihood:2.24283\n",
      "[65]\tvalidation_0-aft_likelihood:2.24332\n",
      "[66]\tvalidation_0-aft_likelihood:2.24404\n",
      "[67]\tvalidation_0-aft_likelihood:2.24426\n",
      "[68]\tvalidation_0-aft_likelihood:2.24442\n",
      "[69]\tvalidation_0-aft_likelihood:2.24472\n",
      "[70]\tvalidation_0-aft_likelihood:2.24503\n",
      "[71]\tvalidation_0-aft_likelihood:2.24532\n",
      "[72]\tvalidation_0-aft_likelihood:2.24595\n",
      "[73]\tvalidation_0-aft_likelihood:2.24673\n",
      "[74]\tvalidation_0-aft_likelihood:2.24735\n",
      "[75]\tvalidation_0-aft_likelihood:2.24802\n",
      "[76]\tvalidation_0-aft_likelihood:2.24863\n",
      "[77]\tvalidation_0-aft_likelihood:2.24940\n",
      "[78]\tvalidation_0-aft_likelihood:2.25003\n",
      "[79]\tvalidation_0-aft_likelihood:2.25067\n",
      "[80]\tvalidation_0-aft_likelihood:2.25157\n",
      "[81]\tvalidation_0-aft_likelihood:2.25239\n",
      "[82]\tvalidation_0-aft_likelihood:2.25277\n",
      "[83]\tvalidation_0-aft_likelihood:2.25350\n",
      "[84]\tvalidation_0-aft_likelihood:2.25439\n",
      "[85]\tvalidation_0-aft_likelihood:2.25474\n",
      "[86]\tvalidation_0-aft_likelihood:2.25522\n",
      "[87]\tvalidation_0-aft_likelihood:2.25572\n",
      "[88]\tvalidation_0-aft_likelihood:2.25621\n",
      "[89]\tvalidation_0-aft_likelihood:2.25623\n",
      "[90]\tvalidation_0-aft_likelihood:2.25635\n",
      "[91]\tvalidation_0-aft_likelihood:2.25666\n",
      "[92]\tvalidation_0-aft_likelihood:2.25700\n",
      "[93]\tvalidation_0-aft_likelihood:2.25721\n",
      "[94]\tvalidation_0-aft_likelihood:2.25731\n",
      "[95]\tvalidation_0-aft_likelihood:2.25765\n",
      "[96]\tvalidation_0-aft_likelihood:2.25754\n",
      "[97]\tvalidation_0-aft_likelihood:2.25752\n",
      "[98]\tvalidation_0-aft_likelihood:2.25776\n",
      "[99]\tvalidation_0-aft_likelihood:2.25804\n"
     ]
    },
    {
     "data": {
      "text/html": [
       "<style>#sk-container-id-3 {color: black;background-color: white;}#sk-container-id-3 pre{padding: 0;}#sk-container-id-3 div.sk-toggleable {background-color: white;}#sk-container-id-3 label.sk-toggleable__label {cursor: pointer;display: block;width: 100%;margin-bottom: 0;padding: 0.3em;box-sizing: border-box;text-align: center;}#sk-container-id-3 label.sk-toggleable__label-arrow:before {content: \"▸\";float: left;margin-right: 0.25em;color: #696969;}#sk-container-id-3 label.sk-toggleable__label-arrow:hover:before {color: black;}#sk-container-id-3 div.sk-estimator:hover label.sk-toggleable__label-arrow:before {color: black;}#sk-container-id-3 div.sk-toggleable__content {max-height: 0;max-width: 0;overflow: hidden;text-align: left;background-color: #f0f8ff;}#sk-container-id-3 div.sk-toggleable__content pre {margin: 0.2em;color: black;border-radius: 0.25em;background-color: #f0f8ff;}#sk-container-id-3 input.sk-toggleable__control:checked~div.sk-toggleable__content {max-height: 200px;max-width: 100%;overflow: auto;}#sk-container-id-3 input.sk-toggleable__control:checked~label.sk-toggleable__label-arrow:before {content: \"▾\";}#sk-container-id-3 div.sk-estimator input.sk-toggleable__control:checked~label.sk-toggleable__label {background-color: #d4ebff;}#sk-container-id-3 div.sk-label input.sk-toggleable__control:checked~label.sk-toggleable__label {background-color: #d4ebff;}#sk-container-id-3 input.sk-hidden--visually {border: 0;clip: rect(1px 1px 1px 1px);clip: rect(1px, 1px, 1px, 1px);height: 1px;margin: -1px;overflow: hidden;padding: 0;position: absolute;width: 1px;}#sk-container-id-3 div.sk-estimator {font-family: monospace;background-color: #f0f8ff;border: 1px dotted black;border-radius: 0.25em;box-sizing: border-box;margin-bottom: 0.5em;}#sk-container-id-3 div.sk-estimator:hover {background-color: #d4ebff;}#sk-container-id-3 div.sk-parallel-item::after {content: \"\";width: 100%;border-bottom: 1px solid gray;flex-grow: 1;}#sk-container-id-3 div.sk-label:hover label.sk-toggleable__label {background-color: #d4ebff;}#sk-container-id-3 div.sk-serial::before {content: \"\";position: absolute;border-left: 1px solid gray;box-sizing: border-box;top: 0;bottom: 0;left: 50%;z-index: 0;}#sk-container-id-3 div.sk-serial {display: flex;flex-direction: column;align-items: center;background-color: white;padding-right: 0.2em;padding-left: 0.2em;position: relative;}#sk-container-id-3 div.sk-item {position: relative;z-index: 1;}#sk-container-id-3 div.sk-parallel {display: flex;align-items: stretch;justify-content: center;background-color: white;position: relative;}#sk-container-id-3 div.sk-item::before, #sk-container-id-3 div.sk-parallel-item::before {content: \"\";position: absolute;border-left: 1px solid gray;box-sizing: border-box;top: 0;bottom: 0;left: 50%;z-index: -1;}#sk-container-id-3 div.sk-parallel-item {display: flex;flex-direction: column;z-index: 1;position: relative;background-color: white;}#sk-container-id-3 div.sk-parallel-item:first-child::after {align-self: flex-end;width: 50%;}#sk-container-id-3 div.sk-parallel-item:last-child::after {align-self: flex-start;width: 50%;}#sk-container-id-3 div.sk-parallel-item:only-child::after {width: 0;}#sk-container-id-3 div.sk-dashed-wrapped {border: 1px dashed gray;margin: 0 0.4em 0.5em 0.4em;box-sizing: border-box;padding-bottom: 0.4em;background-color: white;}#sk-container-id-3 div.sk-label label {font-family: monospace;font-weight: bold;display: inline-block;line-height: 1.2em;}#sk-container-id-3 div.sk-label-container {text-align: center;}#sk-container-id-3 div.sk-container {/* jupyter's `normalize.less` sets `[hidden] { display: none; }` but bootstrap.min.css set `[hidden] { display: none !important; }` so we also need the `!important` here to be able to override the default hidden behavior on the sphinx rendered scikit-learn.org. See: https://github.com/scikit-learn/scikit-learn/issues/21755 */display: inline-block !important;position: relative;}#sk-container-id-3 div.sk-text-repr-fallback {display: none;}</style><div id=\"sk-container-id-3\" class=\"sk-top-container\"><div class=\"sk-text-repr-fallback\"><pre>XGBSurv(base_score=0.0, booster=None, callbacks=None, colsample_bylevel=None,\n",
       "        colsample_bynode=None, colsample_bytree=None,\n",
       "        disable_default_eval_metric=True, early_stopping_rounds=None,\n",
       "        enable_categorical=False,\n",
       "        eval_metric=CPUDispatcher(&lt;function aft_likelihood at 0x7fdd79ddc4c0&gt;),\n",
       "        feature_types=None, gamma=None, gpu_id=None, grow_policy=None,\n",
       "        importance_type=None, interaction_constraints=None, learning_rate=0.3,\n",
       "        max_bin=None, max_cat_threshold=None, max_cat_to_onehot=None,\n",
       "        max_delta_step=None, max_depth=None, max_leaves=None,\n",
       "        min_child_weight=None, missing=nan, monotone_constraints=None,\n",
       "        n_estimators=100, n_jobs=None, num_parallel_tree=None,\n",
       "        objective=CPUDispatcher(&lt;function aft_objective at 0x7fdd79ddd480&gt;), ...)</pre><b>In a Jupyter environment, please rerun this cell to show the HTML representation or trust the notebook. <br />On GitHub, the HTML representation is unable to render, please try loading this page with nbviewer.org.</b></div><div class=\"sk-container\" hidden><div class=\"sk-item\"><div class=\"sk-estimator sk-toggleable\"><input class=\"sk-toggleable__control sk-hidden--visually\" id=\"sk-estimator-id-3\" type=\"checkbox\" checked><label for=\"sk-estimator-id-3\" class=\"sk-toggleable__label sk-toggleable__label-arrow\">XGBSurv</label><div class=\"sk-toggleable__content\"><pre>XGBSurv(base_score=0.0, booster=None, callbacks=None, colsample_bylevel=None,\n",
       "        colsample_bynode=None, colsample_bytree=None,\n",
       "        disable_default_eval_metric=True, early_stopping_rounds=None,\n",
       "        enable_categorical=False,\n",
       "        eval_metric=CPUDispatcher(&lt;function aft_likelihood at 0x7fdd79ddc4c0&gt;),\n",
       "        feature_types=None, gamma=None, gpu_id=None, grow_policy=None,\n",
       "        importance_type=None, interaction_constraints=None, learning_rate=0.3,\n",
       "        max_bin=None, max_cat_threshold=None, max_cat_to_onehot=None,\n",
       "        max_delta_step=None, max_depth=None, max_leaves=None,\n",
       "        min_child_weight=None, missing=nan, monotone_constraints=None,\n",
       "        n_estimators=100, n_jobs=None, num_parallel_tree=None,\n",
       "        objective=CPUDispatcher(&lt;function aft_objective at 0x7fdd79ddd480&gt;), ...)</pre></div></div></div></div></div>"
      ],
      "text/plain": [
       "XGBSurv(base_score=0.0, booster=None, callbacks=None, colsample_bylevel=None,\n",
       "        colsample_bynode=None, colsample_bytree=None,\n",
       "        disable_default_eval_metric=True, early_stopping_rounds=None,\n",
       "        enable_categorical=False,\n",
       "        eval_metric=CPUDispatcher(<function aft_likelihood at 0x7fdd79ddc4c0>),\n",
       "        feature_types=None, gamma=None, gpu_id=None, grow_policy=None,\n",
       "        importance_type=None, interaction_constraints=None, learning_rate=0.3,\n",
       "        max_bin=None, max_cat_threshold=None, max_cat_to_onehot=None,\n",
       "        max_delta_step=None, max_depth=None, max_leaves=None,\n",
       "        min_child_weight=None, missing=nan, monotone_constraints=None,\n",
       "        n_estimators=100, n_jobs=None, num_parallel_tree=None,\n",
       "        objective=CPUDispatcher(<function aft_objective at 0x7fdd79ddd480>), ...)"
      ]
     },
     "execution_count": 21,
     "metadata": {},
     "output_type": "execute_result"
    }
   ],
   "source": [
    "model.fit(X_train, y_train, eval_set=eval_set)"
   ]
  },
  {
   "attachments": {},
   "cell_type": "markdown",
   "metadata": {},
   "source": [
    "The model can be saved like below. Note that objective and eval_metric are not saved."
   ]
  },
  {
   "attachments": {},
   "cell_type": "markdown",
   "metadata": {},
   "source": [
    "## Predict"
   ]
  },
  {
   "cell_type": "code",
   "execution_count": 22,
   "metadata": {},
   "outputs": [],
   "source": [
    "preds_train = model.predict(X_train, output_margin=True)\n",
    "preds_test = model.predict(X_test, output_margin=True)"
   ]
  },
  {
   "attachments": {},
   "cell_type": "markdown",
   "metadata": {},
   "source": [
    "## Evaluate"
   ]
  },
  {
   "cell_type": "code",
   "execution_count": 23,
   "metadata": {},
   "outputs": [],
   "source": [
    "#from sksurv.metrics import concordance_index_censored\n"
   ]
  },
  {
   "cell_type": "code",
   "execution_count": 24,
   "metadata": {},
   "outputs": [
    {
     "data": {
      "text/plain": [
       "0.7675853845693046"
      ]
     },
     "execution_count": 24,
     "metadata": {},
     "output_type": "execute_result"
    }
   ],
   "source": [
    "# train\n",
    "cindex_censored(y_train, preds_train)"
   ]
  },
  {
   "cell_type": "code",
   "execution_count": 25,
   "metadata": {},
   "outputs": [
    {
     "data": {
      "text/plain": [
       "0.6170342828333754"
      ]
     },
     "execution_count": 25,
     "metadata": {},
     "output_type": "execute_result"
    }
   ],
   "source": [
    "# test\n",
    "cindex_censored(y_test, preds_test)"
   ]
  },
  {
   "attachments": {},
   "cell_type": "markdown",
   "metadata": {},
   "source": [
    "## With Early Stopping"
   ]
  },
  {
   "cell_type": "code",
   "execution_count": 26,
   "metadata": {},
   "outputs": [],
   "source": [
    "data, target = load_metabric(path=\"/Users/JUSC/Documents/xgbsurv/xgbsurv/datasets/data/\", as_frame=False)\n",
    "target_sign = np.sign(target)\n",
    "X_train, X_test, y_train, y_test = train_test_split(data, target, stratify=target_sign)"
   ]
  },
  {
   "cell_type": "code",
   "execution_count": 27,
   "metadata": {},
   "outputs": [],
   "source": [
    "model = XGBSurv(n_estimators=100, objective=\"aft_objective\",\n",
    "                                             eval_metric=\"aft_loss\",\n",
    "                                             learning_rate=0.3,\n",
    "                                             random_state=7, \n",
    "                                             disable_default_eval_metric=True,\n",
    "                                             base_score=0.0, early_stopping_rounds=20)"
   ]
  },
  {
   "cell_type": "code",
   "execution_count": 28,
   "metadata": {},
   "outputs": [
    {
     "name": "stdout",
     "output_type": "stream",
     "text": [
      "[0]\tvalidation_0-aft_likelihood:2.27951\tvalidation_1-aft_likelihood:2.38658\n",
      "[1]\tvalidation_0-aft_likelihood:2.27738\tvalidation_1-aft_likelihood:2.38560\n",
      "[2]\tvalidation_0-aft_likelihood:2.27522\tvalidation_1-aft_likelihood:2.38508\n",
      "[3]\tvalidation_0-aft_likelihood:2.27331\tvalidation_1-aft_likelihood:2.38422\n",
      "[4]\tvalidation_0-aft_likelihood:2.27152\tvalidation_1-aft_likelihood:2.38346\n",
      "[5]\tvalidation_0-aft_likelihood:2.26987\tvalidation_1-aft_likelihood:2.38274\n",
      "[6]\tvalidation_0-aft_likelihood:2.26831\tvalidation_1-aft_likelihood:2.38212\n",
      "[7]\tvalidation_0-aft_likelihood:2.26686\tvalidation_1-aft_likelihood:2.38143\n",
      "[8]\tvalidation_0-aft_likelihood:2.26542\tvalidation_1-aft_likelihood:2.38114\n",
      "[9]\tvalidation_0-aft_likelihood:2.26406\tvalidation_1-aft_likelihood:2.38036\n",
      "[10]\tvalidation_0-aft_likelihood:2.26286\tvalidation_1-aft_likelihood:2.37959\n",
      "[11]\tvalidation_0-aft_likelihood:2.26169\tvalidation_1-aft_likelihood:2.37917\n",
      "[12]\tvalidation_0-aft_likelihood:2.26075\tvalidation_1-aft_likelihood:2.37871\n",
      "[13]\tvalidation_0-aft_likelihood:2.25985\tvalidation_1-aft_likelihood:2.37835\n",
      "[14]\tvalidation_0-aft_likelihood:2.25907\tvalidation_1-aft_likelihood:2.37796\n",
      "[15]\tvalidation_0-aft_likelihood:2.25834\tvalidation_1-aft_likelihood:2.37769\n",
      "[16]\tvalidation_0-aft_likelihood:2.25768\tvalidation_1-aft_likelihood:2.37731\n",
      "[17]\tvalidation_0-aft_likelihood:2.25714\tvalidation_1-aft_likelihood:2.37721\n",
      "[18]\tvalidation_0-aft_likelihood:2.25665\tvalidation_1-aft_likelihood:2.37672\n",
      "[19]\tvalidation_0-aft_likelihood:2.25628\tvalidation_1-aft_likelihood:2.37644\n",
      "[20]\tvalidation_0-aft_likelihood:2.25596\tvalidation_1-aft_likelihood:2.37642\n",
      "[21]\tvalidation_0-aft_likelihood:2.25576\tvalidation_1-aft_likelihood:2.37623\n",
      "[22]\tvalidation_0-aft_likelihood:2.25552\tvalidation_1-aft_likelihood:2.37611\n",
      "[23]\tvalidation_0-aft_likelihood:2.25536\tvalidation_1-aft_likelihood:2.37563\n",
      "[24]\tvalidation_0-aft_likelihood:2.25527\tvalidation_1-aft_likelihood:2.37557\n",
      "[25]\tvalidation_0-aft_likelihood:2.25532\tvalidation_1-aft_likelihood:2.37562\n",
      "[26]\tvalidation_0-aft_likelihood:2.25529\tvalidation_1-aft_likelihood:2.37532\n",
      "[27]\tvalidation_0-aft_likelihood:2.25540\tvalidation_1-aft_likelihood:2.37522\n",
      "[28]\tvalidation_0-aft_likelihood:2.25534\tvalidation_1-aft_likelihood:2.37471\n",
      "[29]\tvalidation_0-aft_likelihood:2.25544\tvalidation_1-aft_likelihood:2.37448\n",
      "[30]\tvalidation_0-aft_likelihood:2.25561\tvalidation_1-aft_likelihood:2.37433\n",
      "[31]\tvalidation_0-aft_likelihood:2.25583\tvalidation_1-aft_likelihood:2.37415\n",
      "[32]\tvalidation_0-aft_likelihood:2.25592\tvalidation_1-aft_likelihood:2.37412\n",
      "[33]\tvalidation_0-aft_likelihood:2.25618\tvalidation_1-aft_likelihood:2.37422\n",
      "[34]\tvalidation_0-aft_likelihood:2.25642\tvalidation_1-aft_likelihood:2.37413\n",
      "[35]\tvalidation_0-aft_likelihood:2.25691\tvalidation_1-aft_likelihood:2.37423\n",
      "[36]\tvalidation_0-aft_likelihood:2.25733\tvalidation_1-aft_likelihood:2.37439\n",
      "[37]\tvalidation_0-aft_likelihood:2.25784\tvalidation_1-aft_likelihood:2.37435\n",
      "[38]\tvalidation_0-aft_likelihood:2.25833\tvalidation_1-aft_likelihood:2.37471\n",
      "[39]\tvalidation_0-aft_likelihood:2.25888\tvalidation_1-aft_likelihood:2.37483\n",
      "[40]\tvalidation_0-aft_likelihood:2.25940\tvalidation_1-aft_likelihood:2.37523\n",
      "[41]\tvalidation_0-aft_likelihood:2.25998\tvalidation_1-aft_likelihood:2.37546\n",
      "[42]\tvalidation_0-aft_likelihood:2.26067\tvalidation_1-aft_likelihood:2.37575\n",
      "[43]\tvalidation_0-aft_likelihood:2.26108\tvalidation_1-aft_likelihood:2.37595\n",
      "[44]\tvalidation_0-aft_likelihood:2.26192\tvalidation_1-aft_likelihood:2.37633\n",
      "[45]\tvalidation_0-aft_likelihood:2.26269\tvalidation_1-aft_likelihood:2.37696\n",
      "[46]\tvalidation_0-aft_likelihood:2.26341\tvalidation_1-aft_likelihood:2.37716\n",
      "[47]\tvalidation_0-aft_likelihood:2.26416\tvalidation_1-aft_likelihood:2.37733\n",
      "[48]\tvalidation_0-aft_likelihood:2.26486\tvalidation_1-aft_likelihood:2.37763\n",
      "[49]\tvalidation_0-aft_likelihood:2.26584\tvalidation_1-aft_likelihood:2.37810\n",
      "[50]\tvalidation_0-aft_likelihood:2.26679\tvalidation_1-aft_likelihood:2.37840\n",
      "[51]\tvalidation_0-aft_likelihood:2.26767\tvalidation_1-aft_likelihood:2.37845\n"
     ]
    },
    {
     "data": {
      "text/html": [
       "<style>#sk-container-id-4 {color: black;background-color: white;}#sk-container-id-4 pre{padding: 0;}#sk-container-id-4 div.sk-toggleable {background-color: white;}#sk-container-id-4 label.sk-toggleable__label {cursor: pointer;display: block;width: 100%;margin-bottom: 0;padding: 0.3em;box-sizing: border-box;text-align: center;}#sk-container-id-4 label.sk-toggleable__label-arrow:before {content: \"▸\";float: left;margin-right: 0.25em;color: #696969;}#sk-container-id-4 label.sk-toggleable__label-arrow:hover:before {color: black;}#sk-container-id-4 div.sk-estimator:hover label.sk-toggleable__label-arrow:before {color: black;}#sk-container-id-4 div.sk-toggleable__content {max-height: 0;max-width: 0;overflow: hidden;text-align: left;background-color: #f0f8ff;}#sk-container-id-4 div.sk-toggleable__content pre {margin: 0.2em;color: black;border-radius: 0.25em;background-color: #f0f8ff;}#sk-container-id-4 input.sk-toggleable__control:checked~div.sk-toggleable__content {max-height: 200px;max-width: 100%;overflow: auto;}#sk-container-id-4 input.sk-toggleable__control:checked~label.sk-toggleable__label-arrow:before {content: \"▾\";}#sk-container-id-4 div.sk-estimator input.sk-toggleable__control:checked~label.sk-toggleable__label {background-color: #d4ebff;}#sk-container-id-4 div.sk-label input.sk-toggleable__control:checked~label.sk-toggleable__label {background-color: #d4ebff;}#sk-container-id-4 input.sk-hidden--visually {border: 0;clip: rect(1px 1px 1px 1px);clip: rect(1px, 1px, 1px, 1px);height: 1px;margin: -1px;overflow: hidden;padding: 0;position: absolute;width: 1px;}#sk-container-id-4 div.sk-estimator {font-family: monospace;background-color: #f0f8ff;border: 1px dotted black;border-radius: 0.25em;box-sizing: border-box;margin-bottom: 0.5em;}#sk-container-id-4 div.sk-estimator:hover {background-color: #d4ebff;}#sk-container-id-4 div.sk-parallel-item::after {content: \"\";width: 100%;border-bottom: 1px solid gray;flex-grow: 1;}#sk-container-id-4 div.sk-label:hover label.sk-toggleable__label {background-color: #d4ebff;}#sk-container-id-4 div.sk-serial::before {content: \"\";position: absolute;border-left: 1px solid gray;box-sizing: border-box;top: 0;bottom: 0;left: 50%;z-index: 0;}#sk-container-id-4 div.sk-serial {display: flex;flex-direction: column;align-items: center;background-color: white;padding-right: 0.2em;padding-left: 0.2em;position: relative;}#sk-container-id-4 div.sk-item {position: relative;z-index: 1;}#sk-container-id-4 div.sk-parallel {display: flex;align-items: stretch;justify-content: center;background-color: white;position: relative;}#sk-container-id-4 div.sk-item::before, #sk-container-id-4 div.sk-parallel-item::before {content: \"\";position: absolute;border-left: 1px solid gray;box-sizing: border-box;top: 0;bottom: 0;left: 50%;z-index: -1;}#sk-container-id-4 div.sk-parallel-item {display: flex;flex-direction: column;z-index: 1;position: relative;background-color: white;}#sk-container-id-4 div.sk-parallel-item:first-child::after {align-self: flex-end;width: 50%;}#sk-container-id-4 div.sk-parallel-item:last-child::after {align-self: flex-start;width: 50%;}#sk-container-id-4 div.sk-parallel-item:only-child::after {width: 0;}#sk-container-id-4 div.sk-dashed-wrapped {border: 1px dashed gray;margin: 0 0.4em 0.5em 0.4em;box-sizing: border-box;padding-bottom: 0.4em;background-color: white;}#sk-container-id-4 div.sk-label label {font-family: monospace;font-weight: bold;display: inline-block;line-height: 1.2em;}#sk-container-id-4 div.sk-label-container {text-align: center;}#sk-container-id-4 div.sk-container {/* jupyter's `normalize.less` sets `[hidden] { display: none; }` but bootstrap.min.css set `[hidden] { display: none !important; }` so we also need the `!important` here to be able to override the default hidden behavior on the sphinx rendered scikit-learn.org. See: https://github.com/scikit-learn/scikit-learn/issues/21755 */display: inline-block !important;position: relative;}#sk-container-id-4 div.sk-text-repr-fallback {display: none;}</style><div id=\"sk-container-id-4\" class=\"sk-top-container\"><div class=\"sk-text-repr-fallback\"><pre>XGBSurv(base_score=0.0, booster=None, callbacks=None, colsample_bylevel=None,\n",
       "        colsample_bynode=None, colsample_bytree=None,\n",
       "        disable_default_eval_metric=True, early_stopping_rounds=20,\n",
       "        enable_categorical=False,\n",
       "        eval_metric=CPUDispatcher(&lt;function aft_likelihood at 0x7fdd79ddc4c0&gt;),\n",
       "        feature_types=None, gamma=None, gpu_id=None, grow_policy=None,\n",
       "        importance_type=None, interaction_constraints=None, learning_rate=0.3,\n",
       "        max_bin=None, max_cat_threshold=None, max_cat_to_onehot=None,\n",
       "        max_delta_step=None, max_depth=None, max_leaves=None,\n",
       "        min_child_weight=None, missing=nan, monotone_constraints=None,\n",
       "        n_estimators=100, n_jobs=None, num_parallel_tree=None,\n",
       "        objective=CPUDispatcher(&lt;function aft_objective at 0x7fdd79ddd480&gt;), ...)</pre><b>In a Jupyter environment, please rerun this cell to show the HTML representation or trust the notebook. <br />On GitHub, the HTML representation is unable to render, please try loading this page with nbviewer.org.</b></div><div class=\"sk-container\" hidden><div class=\"sk-item\"><div class=\"sk-estimator sk-toggleable\"><input class=\"sk-toggleable__control sk-hidden--visually\" id=\"sk-estimator-id-4\" type=\"checkbox\" checked><label for=\"sk-estimator-id-4\" class=\"sk-toggleable__label sk-toggleable__label-arrow\">XGBSurv</label><div class=\"sk-toggleable__content\"><pre>XGBSurv(base_score=0.0, booster=None, callbacks=None, colsample_bylevel=None,\n",
       "        colsample_bynode=None, colsample_bytree=None,\n",
       "        disable_default_eval_metric=True, early_stopping_rounds=20,\n",
       "        enable_categorical=False,\n",
       "        eval_metric=CPUDispatcher(&lt;function aft_likelihood at 0x7fdd79ddc4c0&gt;),\n",
       "        feature_types=None, gamma=None, gpu_id=None, grow_policy=None,\n",
       "        importance_type=None, interaction_constraints=None, learning_rate=0.3,\n",
       "        max_bin=None, max_cat_threshold=None, max_cat_to_onehot=None,\n",
       "        max_delta_step=None, max_depth=None, max_leaves=None,\n",
       "        min_child_weight=None, missing=nan, monotone_constraints=None,\n",
       "        n_estimators=100, n_jobs=None, num_parallel_tree=None,\n",
       "        objective=CPUDispatcher(&lt;function aft_objective at 0x7fdd79ddd480&gt;), ...)</pre></div></div></div></div></div>"
      ],
      "text/plain": [
       "XGBSurv(base_score=0.0, booster=None, callbacks=None, colsample_bylevel=None,\n",
       "        colsample_bynode=None, colsample_bytree=None,\n",
       "        disable_default_eval_metric=True, early_stopping_rounds=20,\n",
       "        enable_categorical=False,\n",
       "        eval_metric=CPUDispatcher(<function aft_likelihood at 0x7fdd79ddc4c0>),\n",
       "        feature_types=None, gamma=None, gpu_id=None, grow_policy=None,\n",
       "        importance_type=None, interaction_constraints=None, learning_rate=0.3,\n",
       "        max_bin=None, max_cat_threshold=None, max_cat_to_onehot=None,\n",
       "        max_delta_step=None, max_depth=None, max_leaves=None,\n",
       "        min_child_weight=None, missing=nan, monotone_constraints=None,\n",
       "        n_estimators=100, n_jobs=None, num_parallel_tree=None,\n",
       "        objective=CPUDispatcher(<function aft_objective at 0x7fdd79ddd480>), ...)"
      ]
     },
     "execution_count": 28,
     "metadata": {},
     "output_type": "execute_result"
    }
   ],
   "source": [
    "model.fit(X_train, y_train, eval_test_size=0.1)"
   ]
  },
  {
   "cell_type": "code",
   "execution_count": 29,
   "metadata": {},
   "outputs": [
    {
     "data": {
      "text/plain": [
       "0.7500766520649215"
      ]
     },
     "execution_count": 29,
     "metadata": {},
     "output_type": "execute_result"
    }
   ],
   "source": [
    "preds_train = model.predict(X_train, output_margin=True)\n",
    "preds_test = model.predict(X_test, output_margin=True)\n",
    "# train\n",
    "cindex_censored(y_train, preds_train)"
   ]
  },
  {
   "cell_type": "code",
   "execution_count": 30,
   "metadata": {},
   "outputs": [
    {
     "data": {
      "text/plain": [
       "0.6005902074011753"
      ]
     },
     "execution_count": 30,
     "metadata": {},
     "output_type": "execute_result"
    }
   ],
   "source": [
    "# test\n",
    "cindex_censored(y_test, preds_test)"
   ]
  },
  {
   "cell_type": "code",
   "execution_count": null,
   "metadata": {},
   "outputs": [],
   "source": []
  }
 ],
 "metadata": {
  "kernelspec": {
   "display_name": "xgbsurv",
   "language": "python",
   "name": "python3"
  },
  "language_info": {
   "codemirror_mode": {
    "name": "ipython",
    "version": 3
   },
   "file_extension": ".py",
   "mimetype": "text/x-python",
   "name": "python",
   "nbconvert_exporter": "python",
   "pygments_lexer": "ipython3",
   "version": "3.10.10"
  },
  "orig_nbformat": 4
 },
 "nbformat": 4,
 "nbformat_minor": 2
}
