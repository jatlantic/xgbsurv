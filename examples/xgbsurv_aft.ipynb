{
 "cells": [
  {
   "attachments": {},
   "cell_type": "markdown",
   "metadata": {},
   "source": [
    "# Introduction to the xgbsurv package - Accelerated Failure Time\n",
    "\n",
    "This notebook introduces `xgbsurv` using a specific dataset. It structured by the following steps:\n",
    "\n",
    "- Load data\n",
    "- Load model\n",
    "- Fit model\n",
    "- Predict and evaluate model\n",
    "\n",
    "The syntax conveniently follows that of sklearn."
   ]
  },
  {
   "cell_type": "code",
   "execution_count": 1,
   "metadata": {},
   "outputs": [],
   "source": [
    "from xgbsurv.datasets import load_metabric\n",
    "from xgbsurv import XGBSurv\n",
    "from sklearn.model_selection import train_test_split\n",
    "import numpy as np\n",
    "%load_ext autoreload\n",
    "%autoreload 2\n"
   ]
  },
  {
   "attachments": {},
   "cell_type": "markdown",
   "metadata": {},
   "source": [
    "## Load Data"
   ]
  },
  {
   "cell_type": "code",
   "execution_count": 2,
   "metadata": {},
   "outputs": [],
   "source": [
    "data, target = load_metabric(path=\"/Users/JUSC/Documents/xgbsurv/xgbsurv/datasets/data/\", as_frame=False)\n",
    "target_sign = np.sign(target)\n",
    "X_train, X_test, y_train, y_test = train_test_split(data, target, stratify=target_sign)"
   ]
  },
  {
   "attachments": {},
   "cell_type": "markdown",
   "metadata": {},
   "source": [
    "## Load Model"
   ]
  },
  {
   "cell_type": "code",
   "execution_count": 3,
   "metadata": {},
   "outputs": [],
   "source": [
    "model = XGBSurv(n_estimators=100, objective=\"aft_objective\",\n",
    "                                             eval_metric=\"aft_loss\",\n",
    "                                             learning_rate=0.3,\n",
    "                                             random_state=7, \n",
    "                                             disable_default_eval_metric=True,\n",
    "                                             base_score=0.0)"
   ]
  },
  {
   "cell_type": "markdown",
   "metadata": {},
   "source": [
    "The options of loss and objective functions can be obtained like below:"
   ]
  },
  {
   "cell_type": "code",
   "execution_count": 4,
   "metadata": {},
   "outputs": [
    {
     "name": "stdout",
     "output_type": "stream",
     "text": [
      "dict_keys(['breslow_loss', 'efron_loss', 'cind_loss', 'deephit_loss', 'aft_loss'])\n",
      "dict_keys(['breslow_objective', 'efron_objective', 'cind_objective', 'deephit_objective', 'aft_objective'])\n"
     ]
    }
   ],
   "source": [
    "print(model.get_loss_functions().keys())\n",
    "print(model.get_objective_functions().keys())"
   ]
  },
  {
   "cell_type": "markdown",
   "metadata": {},
   "source": [
    "## Fit Model"
   ]
  },
  {
   "cell_type": "code",
   "execution_count": 5,
   "metadata": {},
   "outputs": [],
   "source": [
    "eval_set = [(X_train, y_train)]"
   ]
  },
  {
   "cell_type": "code",
   "execution_count": 6,
   "metadata": {},
   "outputs": [
    {
     "name": "stdout",
     "output_type": "stream",
     "text": [
      "gradient [-0.00038347  0.00091862 -0.00065103 ... -0.00040878 -0.00064186\n",
      " -0.00021019]\n",
      "[0]\tvalidation_0-aft_likelihood:2.25016\n",
      "gradient [-0.00038391  0.00091957 -0.00065213 ... -0.00040945 -0.0006437\n",
      " -0.00020994]\n",
      "[1]\tvalidation_0-aft_likelihood:2.24802\n",
      "gradient [-0.00038436  0.0009201  -0.00065322 ... -0.00041013 -0.00064555\n",
      " -0.00020966]\n",
      "[2]\tvalidation_0-aft_likelihood:2.24602\n",
      "gradient [-0.0003848   0.00091899 -0.00065423 ... -0.0004108  -0.00064736\n",
      " -0.00020941]\n",
      "[3]\tvalidation_0-aft_likelihood:2.24388\n",
      "gradient [-0.00038285  0.00091923 -0.00065599 ... -0.00041106 -0.00065064\n",
      " -0.00020847]\n",
      "[4]\tvalidation_0-aft_likelihood:2.24185\n",
      "gradient [-0.00038088  0.00092009 -0.00065769 ... -0.00041132 -0.00065389\n",
      " -0.00020751]\n",
      "[5]\tvalidation_0-aft_likelihood:2.24001\n",
      "gradient [-0.00038142  0.00092024 -0.00065923 ... -0.00041168 -0.00065667\n",
      " -0.00020651]\n",
      "[6]\tvalidation_0-aft_likelihood:2.23827\n",
      "gradient [-0.0003819   0.00091882 -0.0006608  ... -0.00041198 -0.00065953\n",
      " -0.00020554]\n",
      "[7]\tvalidation_0-aft_likelihood:2.23668\n",
      "gradient [-0.00038239  0.00091718 -0.0006623  ... -0.00041227 -0.00066234\n",
      " -0.00020456]\n",
      "[8]\tvalidation_0-aft_likelihood:2.23517\n",
      "gradient [-0.00038283  0.00091465 -0.0006638  ... -0.00041251 -0.0006652\n",
      " -0.0002036 ]\n",
      "[9]\tvalidation_0-aft_likelihood:2.23384\n",
      "gradient [-0.00038325  0.00091081 -0.00066525 ... -0.00041274 -0.00066804\n",
      " -0.00020266]\n",
      "[10]\tvalidation_0-aft_likelihood:2.23256\n",
      "gradient [-0.00038366  0.00090636 -0.0006667  ... -0.00041294 -0.00067092\n",
      " -0.00020171]\n",
      "[11]\tvalidation_0-aft_likelihood:2.23146\n",
      "gradient [-0.00038406  0.00090105 -0.00066805 ... -0.00041313 -0.00067374\n",
      " -0.00020079]\n",
      "[12]\tvalidation_0-aft_likelihood:2.23041\n",
      "gradient [-0.00038444  0.00089423 -0.00066943 ... -0.00041328 -0.00067661\n",
      " -0.00019987]\n",
      "[13]\tvalidation_0-aft_likelihood:2.22950\n",
      "gradient [-0.00038483  0.00088713 -0.00067073 ... -0.00041343 -0.00067944\n",
      " -0.00019895]\n",
      "[14]\tvalidation_0-aft_likelihood:2.22872\n",
      "gradient [-0.00038515  0.00087883 -0.00067198 ... -0.0004135  -0.00068226\n",
      " -0.00019809]\n",
      "[15]\tvalidation_0-aft_likelihood:2.22786\n",
      "gradient [-0.00038555  0.00086959 -0.00067415 ... -0.00041363 -0.00068493\n",
      " -0.00019729]\n",
      "[16]\tvalidation_0-aft_likelihood:2.22710\n",
      "gradient [-0.00038592  0.00086103 -0.00067618 ... -0.00041369 -0.00068749\n",
      " -0.00019657]\n",
      "[17]\tvalidation_0-aft_likelihood:2.22626\n",
      "gradient [-0.00038624  0.00085164 -0.00067821 ... -0.00041369 -0.00069008\n",
      " -0.00019591]\n",
      "[18]\tvalidation_0-aft_likelihood:2.22553\n",
      "gradient [-0.00038654  0.00084168 -0.00068025 ... -0.00041366 -0.0006927\n",
      " -0.00019524]\n",
      "[19]\tvalidation_0-aft_likelihood:2.22491\n",
      "gradient [-0.00038683  0.00083106 -0.00068228 ... -0.00041363 -0.0006953\n",
      " -0.00019457]\n",
      "[20]\tvalidation_0-aft_likelihood:2.22440\n",
      "gradient [-0.00038712  0.00081965 -0.00068436 ... -0.00041359 -0.00069796\n",
      " -0.00019388]\n",
      "[21]\tvalidation_0-aft_likelihood:2.22392\n",
      "gradient [-0.00038736  0.00080835 -0.0006863  ... -0.0004135  -0.0007005\n",
      " -0.00019329]\n",
      "[22]\tvalidation_0-aft_likelihood:2.22361\n",
      "gradient [-0.00038758  0.00079715 -0.00068824 ... -0.00041338 -0.00070301\n",
      " -0.00019272]\n",
      "[23]\tvalidation_0-aft_likelihood:2.22332\n",
      "gradient [-0.00038779  0.00078376 -0.00069015 ... -0.00041323 -0.00070552\n",
      " -0.00019218]\n",
      "[24]\tvalidation_0-aft_likelihood:2.22291\n",
      "gradient [-0.00038524  0.00077473 -0.00069221 ... -0.00041255 -0.00070881\n",
      " -0.00019159]\n",
      "[25]\tvalidation_0-aft_likelihood:2.22268\n",
      "gradient [-0.00038537  0.00076659 -0.00069418 ... -0.00041179 -0.00071139\n",
      " -0.00019108]\n",
      "[26]\tvalidation_0-aft_likelihood:2.22241\n",
      "gradient [-0.00038276  0.00075046 -0.00069618 ... -0.00041103 -0.00071462\n",
      " -0.00019055]\n",
      "[27]\tvalidation_0-aft_likelihood:2.22231\n",
      "gradient [-0.00038283  0.00074183 -0.0006982  ... -0.00040993 -0.00071728\n",
      " -0.00019002]\n",
      "[28]\tvalidation_0-aft_likelihood:2.22227\n",
      "gradient [-0.00038288  0.00073335 -0.00069994 ... -0.00040878 -0.00071991\n",
      " -0.00018966]\n",
      "[29]\tvalidation_0-aft_likelihood:2.22219\n",
      "gradient [-0.00038022  0.00072517 -0.00070155 ... -0.00040766 -0.00072303\n",
      " -0.00018932]\n",
      "[30]\tvalidation_0-aft_likelihood:2.22208\n",
      "gradient [-0.00037839  0.00071177 -0.00070361 ... -0.00040657 -0.00072624\n",
      " -0.00018905]\n",
      "[31]\tvalidation_0-aft_likelihood:2.22202\n",
      "gradient [-0.00037651  0.00069779 -0.00070568 ... -0.00040543 -0.00072947\n",
      " -0.00018879]\n",
      "[32]\tvalidation_0-aft_likelihood:2.22198\n",
      "gradient [-0.00037382  0.00068617 -0.00070728 ... -0.00040419 -0.00073264\n",
      " -0.00018849]\n",
      "[33]\tvalidation_0-aft_likelihood:2.22187\n",
      "gradient [-0.00037263  0.0006747  -0.00070865 ... -0.00040287 -0.00073639\n",
      " -0.00018801]\n",
      "[34]\tvalidation_0-aft_likelihood:2.22176\n",
      "gradient [-0.00037071  0.00066126 -0.00071092 ... -0.00040253 -0.00073984\n",
      " -0.00018782]\n",
      "[35]\tvalidation_0-aft_likelihood:2.22177\n",
      "gradient [-0.00036903  0.00065376 -0.00071207 ... -0.00040112 -0.00074346\n",
      " -0.00018745]\n",
      "[36]\tvalidation_0-aft_likelihood:2.22200\n",
      "gradient [-0.00036697  0.00063817 -0.00071411 ... -0.00039975 -0.00074673\n",
      " -0.0001872 ]\n",
      "[37]\tvalidation_0-aft_likelihood:2.22182\n",
      "gradient [-0.00036531  0.00063063 -0.00071551 ... -0.00039959 -0.00075055\n",
      " -0.00018688]\n",
      "[38]\tvalidation_0-aft_likelihood:2.22209\n",
      "gradient [-0.00036321  0.00061397 -0.00071758 ... -0.00039938 -0.00075387\n",
      " -0.00018663]\n",
      "[39]\tvalidation_0-aft_likelihood:2.22222\n",
      "gradient [-0.00036146  0.00060504 -0.00071912 ... -0.00039911 -0.00075748\n",
      " -0.00018633]\n",
      "[40]\tvalidation_0-aft_likelihood:2.22234\n",
      "gradient [-0.00035938  0.00059446 -0.0007213  ... -0.00039895 -0.00076094\n",
      " -0.00018618]\n",
      "[41]\tvalidation_0-aft_likelihood:2.22255\n",
      "gradient [-0.00035759  0.00058581 -0.00072273 ... -0.00039862 -0.00076454\n",
      " -0.00018591]\n",
      "[42]\tvalidation_0-aft_likelihood:2.22298\n",
      "gradient [-0.00035687  0.00057393 -0.00072464 ... -0.00039825 -0.00076739\n",
      " -0.00018574]\n",
      "[43]\tvalidation_0-aft_likelihood:2.22308\n",
      "gradient [-0.00035509  0.00056659 -0.00072628 ... -0.00039797 -0.00077115\n",
      " -0.00018554]\n",
      "[44]\tvalidation_0-aft_likelihood:2.22344\n",
      "gradient [-0.00035262  0.00055546 -0.00072796 ... -0.00039752 -0.00077486\n",
      " -0.00018537]\n",
      "[45]\tvalidation_0-aft_likelihood:2.22363\n",
      "gradient [-0.00035028  0.00055489 -0.00072969 ... -0.00039721 -0.00077868\n",
      " -0.0001852 ]\n",
      "[46]\tvalidation_0-aft_likelihood:2.22427\n",
      "gradient [-0.00034946  0.00055413 -0.00073152 ... -0.00039685 -0.00078146\n",
      " -0.00018506]\n",
      "[47]\tvalidation_0-aft_likelihood:2.22493\n",
      "gradient [-0.00034866  0.00055372 -0.00073341 ... -0.00039649 -0.00078422\n",
      " -0.00018493]\n",
      "[48]\tvalidation_0-aft_likelihood:2.22525\n",
      "gradient [-0.00034552  0.00054318 -0.00073528 ... -0.00039622 -0.00078801\n",
      " -0.00018482]\n",
      "[49]\tvalidation_0-aft_likelihood:2.22584\n",
      "gradient [-0.00034466  0.00053921 -0.00073698 ... -0.0003958  -0.00079066\n",
      " -0.00018461]\n",
      "[50]\tvalidation_0-aft_likelihood:2.22640\n",
      "gradient [-0.00034277  0.00053289 -0.0007385  ... -0.00039497 -0.00079403\n",
      " -0.00018448]\n",
      "[51]\tvalidation_0-aft_likelihood:2.22673\n",
      "gradient [-0.00034093  0.00052715 -0.00074026 ... -0.00039472 -0.00079766\n",
      " -0.00018441]\n",
      "[52]\tvalidation_0-aft_likelihood:2.22741\n",
      "gradient [-0.0003394   0.00052305 -0.00074166 ... -0.00039436 -0.00080068\n",
      " -0.00018426]\n",
      "[53]\tvalidation_0-aft_likelihood:2.22807\n",
      "gradient [-0.00033785  0.00051818 -0.00074302 ... -0.00039406 -0.00080377\n",
      " -0.0001841 ]\n",
      "[54]\tvalidation_0-aft_likelihood:2.22840\n",
      "gradient [-0.00033611  0.00051516 -0.00074462 ... -0.00039387 -0.00080737\n",
      " -0.00018403]\n",
      "[55]\tvalidation_0-aft_likelihood:2.22909\n",
      "gradient [-0.0003345   0.00050836 -0.00074603 ... -0.00039302 -0.00081089\n",
      " -0.00018389]\n",
      "[56]\tvalidation_0-aft_likelihood:2.22957\n",
      "gradient [-0.00033303  0.0005057  -0.00074721 ... -0.00039282 -0.00081417\n",
      " -0.00018376]\n",
      "[57]\tvalidation_0-aft_likelihood:2.23026\n",
      "gradient [-0.00033139  0.00050201 -0.00074862 ... -0.00039226 -0.00081764\n",
      " -0.00018364]\n",
      "[58]\tvalidation_0-aft_likelihood:2.23108\n",
      "gradient [-0.00032909  0.00049715 -0.00075003 ... -0.00039194 -0.00082073\n",
      " -0.00018351]\n",
      "[59]\tvalidation_0-aft_likelihood:2.23178\n",
      "gradient [-0.00032839  0.00049307 -0.00075156 ... -0.0003919  -0.00082344\n",
      " -0.00018339]\n",
      "[60]\tvalidation_0-aft_likelihood:2.23271\n",
      "gradient [-0.00032755  0.00048767 -0.00075356 ... -0.00039152 -0.00082586\n",
      " -0.00018327]\n",
      "[61]\tvalidation_0-aft_likelihood:2.23364\n",
      "gradient [-0.00032446  0.00048341 -0.00075533 ... -0.00039124 -0.00082884\n",
      " -0.00018325]\n",
      "[62]\tvalidation_0-aft_likelihood:2.23461\n",
      "gradient [-0.00032311  0.00047878 -0.00075712 ... -0.00039073 -0.00083125\n",
      " -0.00018315]\n",
      "[63]\tvalidation_0-aft_likelihood:2.23546\n",
      "gradient [-0.00032168  0.00047406 -0.00075938 ... -0.00039036 -0.00083422\n",
      " -0.00018313]\n",
      "[64]\tvalidation_0-aft_likelihood:2.23641\n",
      "gradient [-0.00031975  0.00046798 -0.00076175 ... -0.00038981 -0.00083666\n",
      " -0.00018309]\n",
      "[65]\tvalidation_0-aft_likelihood:2.23729\n",
      "gradient [-0.00031813  0.00046275 -0.00076317 ... -0.00038922 -0.0008395\n",
      " -0.000183  ]\n",
      "[66]\tvalidation_0-aft_likelihood:2.23827\n",
      "gradient [-0.00031673  0.00046088 -0.00076542 ... -0.00038885 -0.00084248\n",
      " -0.00018302]\n",
      "[67]\tvalidation_0-aft_likelihood:2.23933\n",
      "gradient [-0.00031585  0.00045529 -0.00076734 ... -0.00038816 -0.00084516\n",
      " -0.00018302]\n",
      "[68]\tvalidation_0-aft_likelihood:2.23978\n",
      "gradient [-0.00031225  0.0004495  -0.00076794 ... -0.00038472 -0.00084827\n",
      " -0.0001828 ]\n",
      "[69]\tvalidation_0-aft_likelihood:2.24030\n",
      "gradient [-0.00030872  0.00044385 -0.00076847 ... -0.0003813  -0.00085135\n",
      " -0.00018259]\n",
      "[70]\tvalidation_0-aft_likelihood:2.24083\n",
      "gradient [-0.00030527  0.00043854 -0.00076889 ... -0.00037787 -0.00085442\n",
      " -0.0001824 ]\n",
      "[71]\tvalidation_0-aft_likelihood:2.24138\n",
      "gradient [-0.0003018   0.00043359 -0.00077079 ... -0.00037486 -0.00085686\n",
      " -0.00018235]\n",
      "[72]\tvalidation_0-aft_likelihood:2.24233\n",
      "gradient [-0.00030066  0.00043062 -0.000772   ... -0.00037428 -0.00085932\n",
      " -0.00018233]\n",
      "[73]\tvalidation_0-aft_likelihood:2.24300\n",
      "gradient [-0.00029953  0.00043101 -0.0007727  ... -0.00037487 -0.00086172\n",
      " -0.00018228]\n",
      "[74]\tvalidation_0-aft_likelihood:2.24382\n",
      "gradient [-0.00029824  0.00043011 -0.00077407 ... -0.00037371 -0.00086397\n",
      " -0.0001823 ]\n",
      "[75]\tvalidation_0-aft_likelihood:2.24464\n",
      "gradient [-0.000297    0.00042929 -0.00077539 ... -0.00037259 -0.00086619\n",
      " -0.00018233]\n",
      "[76]\tvalidation_0-aft_likelihood:2.24539\n",
      "gradient [-0.00029509  0.00042164 -0.00077666 ... -0.00037149 -0.00086823\n",
      " -0.00018237]\n",
      "[77]\tvalidation_0-aft_likelihood:2.24604\n",
      "gradient [-0.00029324  0.00041509 -0.00077742 ... -0.00036996 -0.00087036\n",
      " -0.00018239]\n",
      "[78]\tvalidation_0-aft_likelihood:2.24681\n",
      "gradient [-0.00029128  0.00040145 -0.00077827 ... -0.00036843 -0.0008721\n",
      " -0.00018239]\n",
      "[79]\tvalidation_0-aft_likelihood:2.24750\n",
      "gradient [-0.00028925  0.00038945 -0.00077897 ... -0.0003668  -0.0008739\n",
      " -0.00018244]\n",
      "[80]\tvalidation_0-aft_likelihood:2.24812\n",
      "gradient [-0.00028747  0.00038163 -0.00077966 ... -0.00036532 -0.00087598\n",
      " -0.00018243]\n",
      "[81]\tvalidation_0-aft_likelihood:2.24890\n",
      "gradient [-0.00028584  0.0003695  -0.00078043 ... -0.00036384 -0.00087776\n",
      " -0.00018245]\n",
      "[82]\tvalidation_0-aft_likelihood:2.24957\n",
      "gradient [-0.00028389  0.00035714 -0.00078154 ... -0.0003627  -0.00087937\n",
      " -0.00018248]\n",
      "[83]\tvalidation_0-aft_likelihood:2.25042\n",
      "gradient [-0.00028229  0.00034437 -0.00078259 ... -0.00036163 -0.00088093\n",
      " -0.00018249]\n",
      "[84]\tvalidation_0-aft_likelihood:2.25125\n",
      "gradient [-0.00028238  0.00033967 -0.00078284 ... -0.00036011 -0.00088338\n",
      " -0.00018254]\n",
      "[85]\tvalidation_0-aft_likelihood:2.25202\n",
      "gradient [-0.00028065  0.00032651 -0.00078358 ... -0.00035888 -0.00088481\n",
      " -0.00018264]\n",
      "[86]\tvalidation_0-aft_likelihood:2.25303\n",
      "gradient [-0.00027889  0.00031218 -0.00078442 ... -0.00035773 -0.00088609\n",
      " -0.00018264]\n",
      "[87]\tvalidation_0-aft_likelihood:2.25391\n",
      "gradient [-0.00027716  0.00030045 -0.00078498 ... -0.00035644 -0.00088732\n",
      " -0.00018277]\n",
      "[88]\tvalidation_0-aft_likelihood:2.25484\n",
      "gradient [-0.00027711  0.00029504 -0.00078588 ... -0.00035491 -0.00089034\n",
      " -0.00018287]\n",
      "[89]\tvalidation_0-aft_likelihood:2.25566\n",
      "gradient [-0.00027551  0.00028329 -0.00078805 ... -0.00035234 -0.0008916\n",
      " -0.0001831 ]\n",
      "[90]\tvalidation_0-aft_likelihood:2.25648\n",
      "gradient [-0.00027395  0.00027363 -0.00078831 ... -0.00035098 -0.00089273\n",
      " -0.0001832 ]\n",
      "[91]\tvalidation_0-aft_likelihood:2.25741\n",
      "gradient [-0.00027398  0.00026508 -0.00078883 ... -0.00034948 -0.00089558\n",
      " -0.00018349]\n",
      "[92]\tvalidation_0-aft_likelihood:2.25837\n",
      "gradient [-0.00027227  0.00025096 -0.00079101 ... -0.00034699 -0.00089651\n",
      " -0.00018368]\n",
      "[93]\tvalidation_0-aft_likelihood:2.25896\n",
      "gradient [-0.0002696   0.00024327 -0.00079152 ... -0.00034591 -0.00089871\n",
      " -0.0001837 ]\n",
      "[94]\tvalidation_0-aft_likelihood:2.25992\n",
      "gradient [-0.00026794  0.00022848 -0.00079165 ... -0.00034442 -0.00089976\n",
      " -0.00018381]\n",
      "[95]\tvalidation_0-aft_likelihood:2.26078\n",
      "gradient [-0.00026636  0.00021698 -0.00079365 ... -0.00034181 -0.00090069\n",
      " -0.00018405]\n",
      "[96]\tvalidation_0-aft_likelihood:2.26138\n",
      "gradient [-0.00026381  0.0002146  -0.00079414 ... -0.00034075 -0.00090264\n",
      " -0.00018404]\n",
      "[97]\tvalidation_0-aft_likelihood:2.26216\n",
      "gradient [-0.00026341  0.00021176 -0.00079464 ... -0.00033965 -0.00090468\n",
      " -0.00018415]\n",
      "[98]\tvalidation_0-aft_likelihood:2.26284\n",
      "gradient [-0.00026133  0.00020499 -0.00079551 ... -0.00033725 -0.00090602\n",
      " -0.00018422]\n",
      "[99]\tvalidation_0-aft_likelihood:2.26344\n"
     ]
    },
    {
     "data": {
      "text/html": [
       "<style>#sk-container-id-1 {color: black;background-color: white;}#sk-container-id-1 pre{padding: 0;}#sk-container-id-1 div.sk-toggleable {background-color: white;}#sk-container-id-1 label.sk-toggleable__label {cursor: pointer;display: block;width: 100%;margin-bottom: 0;padding: 0.3em;box-sizing: border-box;text-align: center;}#sk-container-id-1 label.sk-toggleable__label-arrow:before {content: \"▸\";float: left;margin-right: 0.25em;color: #696969;}#sk-container-id-1 label.sk-toggleable__label-arrow:hover:before {color: black;}#sk-container-id-1 div.sk-estimator:hover label.sk-toggleable__label-arrow:before {color: black;}#sk-container-id-1 div.sk-toggleable__content {max-height: 0;max-width: 0;overflow: hidden;text-align: left;background-color: #f0f8ff;}#sk-container-id-1 div.sk-toggleable__content pre {margin: 0.2em;color: black;border-radius: 0.25em;background-color: #f0f8ff;}#sk-container-id-1 input.sk-toggleable__control:checked~div.sk-toggleable__content {max-height: 200px;max-width: 100%;overflow: auto;}#sk-container-id-1 input.sk-toggleable__control:checked~label.sk-toggleable__label-arrow:before {content: \"▾\";}#sk-container-id-1 div.sk-estimator input.sk-toggleable__control:checked~label.sk-toggleable__label {background-color: #d4ebff;}#sk-container-id-1 div.sk-label input.sk-toggleable__control:checked~label.sk-toggleable__label {background-color: #d4ebff;}#sk-container-id-1 input.sk-hidden--visually {border: 0;clip: rect(1px 1px 1px 1px);clip: rect(1px, 1px, 1px, 1px);height: 1px;margin: -1px;overflow: hidden;padding: 0;position: absolute;width: 1px;}#sk-container-id-1 div.sk-estimator {font-family: monospace;background-color: #f0f8ff;border: 1px dotted black;border-radius: 0.25em;box-sizing: border-box;margin-bottom: 0.5em;}#sk-container-id-1 div.sk-estimator:hover {background-color: #d4ebff;}#sk-container-id-1 div.sk-parallel-item::after {content: \"\";width: 100%;border-bottom: 1px solid gray;flex-grow: 1;}#sk-container-id-1 div.sk-label:hover label.sk-toggleable__label {background-color: #d4ebff;}#sk-container-id-1 div.sk-serial::before {content: \"\";position: absolute;border-left: 1px solid gray;box-sizing: border-box;top: 0;bottom: 0;left: 50%;z-index: 0;}#sk-container-id-1 div.sk-serial {display: flex;flex-direction: column;align-items: center;background-color: white;padding-right: 0.2em;padding-left: 0.2em;position: relative;}#sk-container-id-1 div.sk-item {position: relative;z-index: 1;}#sk-container-id-1 div.sk-parallel {display: flex;align-items: stretch;justify-content: center;background-color: white;position: relative;}#sk-container-id-1 div.sk-item::before, #sk-container-id-1 div.sk-parallel-item::before {content: \"\";position: absolute;border-left: 1px solid gray;box-sizing: border-box;top: 0;bottom: 0;left: 50%;z-index: -1;}#sk-container-id-1 div.sk-parallel-item {display: flex;flex-direction: column;z-index: 1;position: relative;background-color: white;}#sk-container-id-1 div.sk-parallel-item:first-child::after {align-self: flex-end;width: 50%;}#sk-container-id-1 div.sk-parallel-item:last-child::after {align-self: flex-start;width: 50%;}#sk-container-id-1 div.sk-parallel-item:only-child::after {width: 0;}#sk-container-id-1 div.sk-dashed-wrapped {border: 1px dashed gray;margin: 0 0.4em 0.5em 0.4em;box-sizing: border-box;padding-bottom: 0.4em;background-color: white;}#sk-container-id-1 div.sk-label label {font-family: monospace;font-weight: bold;display: inline-block;line-height: 1.2em;}#sk-container-id-1 div.sk-label-container {text-align: center;}#sk-container-id-1 div.sk-container {/* jupyter's `normalize.less` sets `[hidden] { display: none; }` but bootstrap.min.css set `[hidden] { display: none !important; }` so we also need the `!important` here to be able to override the default hidden behavior on the sphinx rendered scikit-learn.org. See: https://github.com/scikit-learn/scikit-learn/issues/21755 */display: inline-block !important;position: relative;}#sk-container-id-1 div.sk-text-repr-fallback {display: none;}</style><div id=\"sk-container-id-1\" class=\"sk-top-container\"><div class=\"sk-text-repr-fallback\"><pre>XGBSurv(base_score=0.0, booster=None, callbacks=None, colsample_bylevel=None,\n",
       "        colsample_bynode=None, colsample_bytree=None,\n",
       "        disable_default_eval_metric=True, early_stopping_rounds=None,\n",
       "        enable_categorical=False,\n",
       "        eval_metric=CPUDispatcher(&lt;function aft_likelihood at 0x7f84a8db4430&gt;),\n",
       "        feature_types=None, gamma=None, gpu_id=None, grow_policy=None,\n",
       "        importance_type=None, interaction_constraints=None, learning_rate=0.3,\n",
       "        max_bin=None, max_cat_threshold=None, max_cat_to_onehot=None,\n",
       "        max_delta_step=None, max_depth=None, max_leaves=None,\n",
       "        min_child_weight=None, missing=nan, monotone_constraints=None,\n",
       "        n_estimators=100, n_jobs=None, num_parallel_tree=None,\n",
       "        objective=CPUDispatcher(&lt;function aft_objective at 0x7f84a8db52d0&gt;), ...)</pre><b>In a Jupyter environment, please rerun this cell to show the HTML representation or trust the notebook. <br />On GitHub, the HTML representation is unable to render, please try loading this page with nbviewer.org.</b></div><div class=\"sk-container\" hidden><div class=\"sk-item\"><div class=\"sk-estimator sk-toggleable\"><input class=\"sk-toggleable__control sk-hidden--visually\" id=\"sk-estimator-id-1\" type=\"checkbox\" checked><label for=\"sk-estimator-id-1\" class=\"sk-toggleable__label sk-toggleable__label-arrow\">XGBSurv</label><div class=\"sk-toggleable__content\"><pre>XGBSurv(base_score=0.0, booster=None, callbacks=None, colsample_bylevel=None,\n",
       "        colsample_bynode=None, colsample_bytree=None,\n",
       "        disable_default_eval_metric=True, early_stopping_rounds=None,\n",
       "        enable_categorical=False,\n",
       "        eval_metric=CPUDispatcher(&lt;function aft_likelihood at 0x7f84a8db4430&gt;),\n",
       "        feature_types=None, gamma=None, gpu_id=None, grow_policy=None,\n",
       "        importance_type=None, interaction_constraints=None, learning_rate=0.3,\n",
       "        max_bin=None, max_cat_threshold=None, max_cat_to_onehot=None,\n",
       "        max_delta_step=None, max_depth=None, max_leaves=None,\n",
       "        min_child_weight=None, missing=nan, monotone_constraints=None,\n",
       "        n_estimators=100, n_jobs=None, num_parallel_tree=None,\n",
       "        objective=CPUDispatcher(&lt;function aft_objective at 0x7f84a8db52d0&gt;), ...)</pre></div></div></div></div></div>"
      ],
      "text/plain": [
       "XGBSurv(base_score=0.0, booster=None, callbacks=None, colsample_bylevel=None,\n",
       "        colsample_bynode=None, colsample_bytree=None,\n",
       "        disable_default_eval_metric=True, early_stopping_rounds=None,\n",
       "        enable_categorical=False,\n",
       "        eval_metric=CPUDispatcher(<function aft_likelihood at 0x7f84a8db4430>),\n",
       "        feature_types=None, gamma=None, gpu_id=None, grow_policy=None,\n",
       "        importance_type=None, interaction_constraints=None, learning_rate=0.3,\n",
       "        max_bin=None, max_cat_threshold=None, max_cat_to_onehot=None,\n",
       "        max_delta_step=None, max_depth=None, max_leaves=None,\n",
       "        min_child_weight=None, missing=nan, monotone_constraints=None,\n",
       "        n_estimators=100, n_jobs=None, num_parallel_tree=None,\n",
       "        objective=CPUDispatcher(<function aft_objective at 0x7f84a8db52d0>), ...)"
      ]
     },
     "execution_count": 6,
     "metadata": {},
     "output_type": "execute_result"
    }
   ],
   "source": [
    "model.fit(X_train, y_train, eval_set=eval_set)"
   ]
  },
  {
   "attachments": {},
   "cell_type": "markdown",
   "metadata": {},
   "source": [
    "The model can be saved like below. Note that objective and eval_metric are not saved."
   ]
  },
  {
   "cell_type": "code",
   "execution_count": 7,
   "metadata": {},
   "outputs": [
    {
     "name": "stderr",
     "output_type": "stream",
     "text": [
      "/Users/JUSC/miniconda3/envs/xgbsurv/lib/python3.10/site-packages/xgboost/sklearn.py:761: UserWarning: objective is not saved in Scikit-Learn meta.\n",
      "  warnings.warn(\n",
      "/Users/JUSC/miniconda3/envs/xgbsurv/lib/python3.10/site-packages/xgboost/sklearn.py:761: UserWarning: eval_metric is not saved in Scikit-Learn meta.\n",
      "  warnings.warn(\n",
      "/Users/JUSC/miniconda3/envs/xgbsurv/lib/python3.10/site-packages/xgboost/sklearn.py:761: UserWarning: y is not saved in Scikit-Learn meta.\n",
      "  warnings.warn(\n",
      "/Users/JUSC/miniconda3/envs/xgbsurv/lib/python3.10/site-packages/xgboost/sklearn.py:761: UserWarning: X is not saved in Scikit-Learn meta.\n",
      "  warnings.warn(\n"
     ]
    }
   ],
   "source": [
    "model.save_model(\"aft_model.json\")"
   ]
  },
  {
   "cell_type": "markdown",
   "metadata": {},
   "source": [
    "## Predict"
   ]
  },
  {
   "cell_type": "code",
   "execution_count": 8,
   "metadata": {},
   "outputs": [],
   "source": [
    "preds_train = model.predict(X_train, output_margin=True)\n",
    "preds_test = model.predict(X_test, output_margin=True)"
   ]
  },
  {
   "cell_type": "code",
   "execution_count": 9,
   "metadata": {},
   "outputs": [
    {
     "data": {
      "text/plain": [
       "array([-0.19664694,  0.03747117,  0.20572296, -0.5110288 ,  0.25593626,\n",
       "       -0.12037577, -0.37777936,  0.4138791 ,  0.15182146, -0.18654987,\n",
       "       -0.06907195,  0.15294518, -0.1494228 ,  0.39027557, -0.14986373,\n",
       "        0.1207994 ,  0.05859881, -0.23284891, -0.1411149 ,  0.05613565,\n",
       "        0.01947766, -0.24143383, -0.27849904,  0.211208  ,  0.21652137,\n",
       "       -0.1386647 ,  0.134942  ,  0.08852444, -0.14568774,  0.15107696,\n",
       "        0.15035832, -0.0099461 ,  0.36334425, -0.32113457,  0.27168718,\n",
       "       -0.1500694 ,  0.12703529, -0.14256918, -0.07817414, -0.1233663 ,\n",
       "        0.29236835, -0.2883798 , -0.06976104, -0.51431584,  0.07568631,\n",
       "        0.0238933 ,  0.19463752, -0.16118217,  0.26836222, -0.1386647 ,\n",
       "        0.18002872,  0.20518917,  0.29348204,  0.2529692 ,  0.31707793,\n",
       "       -0.09532505, -0.15831205, -0.16515766, -0.44173452,  0.02593636,\n",
       "        0.21801522, -0.09828568, -0.29537186, -0.14558174, -0.16273256,\n",
       "        0.37342507,  0.06822326,  0.3329116 , -0.34557107,  0.16067828,\n",
       "        0.1563255 , -0.24614838,  0.33954525, -0.27590662,  0.23722336,\n",
       "       -0.13265102, -0.17630862,  0.18188334, -0.16519777,  0.01398953,\n",
       "        0.04685786,  0.04410034,  0.12953828,  0.07349987,  0.2614535 ,\n",
       "        0.16501765,  0.4009805 , -0.14191277, -0.13306195, -0.0736222 ,\n",
       "       -0.4449303 ,  0.01773288, -0.45632464, -0.15949944, -0.5111908 ,\n",
       "        0.28055254,  0.19504642,  0.0456375 , -0.5110288 , -0.2100555 ,\n",
       "       -0.22893848,  0.3741065 , -0.02966984, -0.35949627,  0.1319746 ,\n",
       "        0.178624  , -0.5110288 ,  0.14464746, -0.12037577, -0.23530631,\n",
       "        0.17566049, -0.11954978, -0.09275641,  0.2924714 ,  0.11457981,\n",
       "        0.10070747, -0.01363505, -0.01780238,  0.5476316 ,  0.35650522,\n",
       "       -0.15791588,  0.2586468 , -0.11787663,  0.24253532,  0.00587832,\n",
       "       -0.31000695, -0.20626877,  0.0793824 ,  0.39496934, -0.08846068,\n",
       "        0.04346341, -0.01272183, -0.15490326,  0.41277575,  0.54613394,\n",
       "        0.17740658,  0.34640333,  0.26849896,  0.19185941,  0.13125663,\n",
       "       -0.16429232,  0.01734962, -0.0908238 ,  0.2515026 ,  0.27591747,\n",
       "        0.21034664,  0.03744869,  0.01687519, -0.1387818 , -0.25145245,\n",
       "       -0.09507251, -0.3111442 , -0.42631182,  0.05581705, -0.3234067 ,\n",
       "        0.08463242, -0.17432763, -0.10876886, -0.15949944,  0.13264313,\n",
       "       -0.17242818,  0.29699168, -0.3556479 ,  0.00876965,  0.08820776,\n",
       "       -0.08635259, -0.32853702, -0.1714732 ,  0.1594918 ,  0.19542624,\n",
       "       -0.50790375,  0.08594632, -0.42594528,  0.02506918, -0.02419365,\n",
       "        0.30611002,  0.08939426, -0.09397234, -0.1463509 ,  0.41367388,\n",
       "       -0.15896188, -0.21200202,  0.17175637, -0.31293827,  0.46490106,\n",
       "       -0.50969785, -0.38408625,  0.33760628,  0.33144668,  0.17366587,\n",
       "        0.4489328 , -0.20184721, -0.04456629, -0.01662494,  0.27503845,\n",
       "        0.44105282, -0.167474  , -0.2479694 ,  0.16148324,  0.11135306,\n",
       "       -0.12858362, -0.29908866, -0.21437353,  0.13171026, -0.05842002,\n",
       "        0.16388308,  0.18918331, -0.22746272,  0.10362817, -0.19184162,\n",
       "        0.00534588,  0.1538209 , -0.28825262,  0.33782142, -0.01026667,\n",
       "        0.0101742 ,  0.14458656,  0.12832384, -0.14876117, -0.23927832,\n",
       "        0.07588536,  0.08337435, -0.33410648, -0.22339946, -0.20770738,\n",
       "        0.09650287,  0.06038547, -0.2166463 , -0.02891676, -0.1544093 ,\n",
       "       -0.04355891,  0.1880365 , -0.16245295,  0.11050559,  0.02765611,\n",
       "        0.1000316 , -0.25499415, -0.07361215,  0.09666115, -0.25891095,\n",
       "       -0.14727685,  0.15333574, -0.21001555,  0.22018375,  0.16361701,\n",
       "        0.36987454, -0.0239573 ,  0.09075882,  0.10329583,  0.05143874,\n",
       "        0.16409007, -0.16270244, -0.09250224, -0.41431096,  0.26300222,\n",
       "        0.18453978, -0.296447  ,  0.13220173, -0.23284891,  0.11002199,\n",
       "        0.14732403, -0.22856393, -0.14222741, -0.02300056,  0.13097934,\n",
       "       -0.39438462,  0.10052318, -0.17574966, -0.26665545, -0.15288436,\n",
       "        0.28018218,  0.04717349, -0.14774483,  0.21242777, -0.06766795,\n",
       "       -0.16192046,  0.10026996,  0.5079223 ,  0.14233474,  0.09080413,\n",
       "       -0.20626877,  0.24865301, -0.29600853, -0.18025741,  0.3718276 ,\n",
       "        0.2630705 , -0.14364795,  0.04765417,  0.18713391, -0.01711819,\n",
       "        0.30432793, -0.31603172,  0.22437681, -0.21858107,  0.36998034,\n",
       "       -0.08943159, -0.21053247,  0.10913345, -0.1961824 , -0.01239546,\n",
       "       -0.2724741 , -0.21739651, -0.1420523 , -0.28294522,  0.17713398,\n",
       "        0.6582143 , -0.12760311, -0.12818415, -0.12448394, -0.22144844,\n",
       "       -0.03346699, -0.14096737, -0.24000183, -0.13742548, -0.21674035,\n",
       "       -0.06615362,  0.08138791,  0.15615481, -0.11772398,  0.32063827,\n",
       "       -0.06119741, -0.33653402,  0.05446291, -0.17475452, -0.00839476,\n",
       "       -0.25189367, -0.2376506 , -0.1012854 , -0.4973121 , -0.10716812,\n",
       "        0.04807248,  0.07206361, -0.09333372, -0.15109311, -0.05803413,\n",
       "        0.05416831, -0.28023735,  0.18777616, -0.2785999 ,  0.12170207,\n",
       "       -0.09528422, -0.12730795, -0.32620594, -0.2619235 , -0.28857753,\n",
       "        0.18870339,  0.1999732 ,  0.2568741 ,  0.21616872,  0.20737906,\n",
       "        0.32563433,  0.21462946,  0.10226001,  0.25485155, -0.13735965,\n",
       "        0.61640596,  0.18759352,  0.4506613 ,  0.23293218, -0.02752842,\n",
       "        0.567044  ,  0.2825875 ,  0.18366759,  0.12343609,  0.21521614,\n",
       "        0.17507118, -0.15140048, -0.14256918, -0.04749395,  0.32252437,\n",
       "        0.04273149,  0.21213786, -0.316549  , -0.22182442, -0.03085979,\n",
       "       -0.10828184, -0.26886007, -0.20673646,  0.14020132,  0.5247114 ,\n",
       "        0.33222878, -0.15668091,  0.25625512,  0.18855311, -0.01263537,\n",
       "       -0.07350341, -0.03226358, -0.12713543,  0.08529891, -0.14816768,\n",
       "       -0.1998886 ,  0.31252384,  0.33987066, -0.07731073, -0.13896784,\n",
       "        0.10382064,  0.22614136,  0.04850229,  0.06784067, -0.01363544,\n",
       "        0.39420715,  0.27893123, -0.13029197, -0.19508189,  0.00360863,\n",
       "       -0.12338833,  0.48331016,  0.23395574, -0.18387105,  0.05608597,\n",
       "       -0.07871445, -0.48284498, -0.01845806,  0.4451214 , -0.14980802,\n",
       "       -0.19707498, -0.5110288 , -0.17324667,  0.03543089,  0.04266682,\n",
       "       -0.34165254, -0.03780707,  0.27731824, -0.13254492,  0.06334738,\n",
       "       -0.1383055 , -0.44747216, -0.4331219 , -0.15949944,  0.09268041,\n",
       "        0.4218619 ,  0.21543536, -0.24295297,  0.22192793,  0.07787295,\n",
       "       -0.09202143,  0.46729946,  0.02652027,  0.18078227,  0.40125376,\n",
       "        0.40665102,  0.4630362 , -0.22024052, -0.07342163, -0.03032235,\n",
       "       -0.16862124, -0.22005232, -0.09528521,  0.15828687, -0.15497479,\n",
       "       -0.23908703,  0.7041943 ,  0.00170973, -0.13274352, -0.42909926,\n",
       "       -0.23046885,  0.16245474,  0.1496953 ,  0.1423001 , -0.44626126,\n",
       "       -0.14131805,  0.4766428 , -0.15010224,  0.39265594,  0.2560884 ,\n",
       "       -0.22005232,  0.27599388, -0.08130573,  0.33550647, -0.09730912,\n",
       "       -0.16267179,  0.27633882,  0.18152215, -0.5212138 ,  0.13342221,\n",
       "        0.20493464], dtype=float32)"
      ]
     },
     "execution_count": 9,
     "metadata": {},
     "output_type": "execute_result"
    }
   ],
   "source": [
    "preds_test"
   ]
  },
  {
   "cell_type": "markdown",
   "metadata": {},
   "source": [
    "## Evaluate"
   ]
  },
  {
   "cell_type": "code",
   "execution_count": 10,
   "metadata": {},
   "outputs": [],
   "source": [
    "#from sksurv.metrics import concordance_index_censored\n",
    "from xgbsurv.evaluation import cindex_censored, ibs"
   ]
  },
  {
   "cell_type": "code",
   "execution_count": 11,
   "metadata": {},
   "outputs": [
    {
     "data": {
      "text/plain": [
       "0.7712782493126619"
      ]
     },
     "execution_count": 11,
     "metadata": {},
     "output_type": "execute_result"
    }
   ],
   "source": [
    "# train\n",
    "cindex_censored(y_train, preds_train)"
   ]
  },
  {
   "cell_type": "code",
   "execution_count": 12,
   "metadata": {},
   "outputs": [
    {
     "data": {
      "text/plain": [
       "0.612474707486584"
      ]
     },
     "execution_count": 12,
     "metadata": {},
     "output_type": "execute_result"
    }
   ],
   "source": [
    "# test\n",
    "cindex_censored(y_test, preds_test)"
   ]
  },
  {
   "cell_type": "code",
   "execution_count": null,
   "metadata": {},
   "outputs": [
    {
     "ename": "NameError",
     "evalue": "name 'preds' is not defined",
     "output_type": "error",
     "traceback": [
      "\u001b[0;31m---------------------------------------------------------------------------\u001b[0m",
      "\u001b[0;31mNameError\u001b[0m                                 Traceback (most recent call last)",
      "Cell \u001b[0;32mIn[30], line 2\u001b[0m\n\u001b[1;32m      1\u001b[0m times \u001b[39m=\u001b[39m np\u001b[39m.\u001b[39marange(\u001b[39m356\u001b[39m)\n\u001b[0;32m----> 2\u001b[0m ibs(target, target, preds, times)\n",
      "\u001b[0;31mNameError\u001b[0m: name 'preds' is not defined"
     ]
    }
   ],
   "source": [
    "times = np.arange(356)\n",
    "ibs(target, target, preds, times)"
   ]
  },
  {
   "cell_type": "code",
   "execution_count": null,
   "metadata": {},
   "outputs": [],
   "source": []
  }
 ],
 "metadata": {
  "kernelspec": {
   "display_name": "xgbsurv",
   "language": "python",
   "name": "python3"
  },
  "language_info": {
   "codemirror_mode": {
    "name": "ipython",
    "version": 3
   },
   "file_extension": ".py",
   "mimetype": "text/x-python",
   "name": "python",
   "nbconvert_exporter": "python",
   "pygments_lexer": "ipython3",
   "version": "3.10.10"
  },
  "orig_nbformat": 4
 },
 "nbformat": 4,
 "nbformat_minor": 2
}
