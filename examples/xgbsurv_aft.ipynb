{
 "cells": [
  {
   "attachments": {},
   "cell_type": "markdown",
   "metadata": {},
   "source": [
    "# Introduction to the xgbsurv package\n",
    "\n",
    "This notebook introduces `xgbsurv` using a specific dataset. It structured by the following steps:\n",
    "\n",
    "- Load data\n",
    "- Load model\n",
    "- Fit model\n",
    "- Predict and evaluate model\n",
    "\n",
    "The syntax conveniently follows that of sklearn."
   ]
  },
  {
   "cell_type": "code",
   "execution_count": 11,
   "metadata": {},
   "outputs": [
    {
     "ename": "ImportError",
     "evalue": "cannot import name 'aft_baseline_hazard_estimator' from 'xgbsurv.models' (/Users/JUSC/miniconda3/envs/xgbsurv/lib/python3.10/site-packages/xgbsurv/models/__init__.py)",
     "output_type": "error",
     "traceback": [
      "\u001b[0;31m---------------------------------------------------------------------------\u001b[0m",
      "\u001b[0;31mImportError\u001b[0m                               Traceback (most recent call last)",
      "Cell \u001b[0;32mIn[11], line 4\u001b[0m\n\u001b[1;32m      2\u001b[0m \u001b[39mfrom\u001b[39;00m \u001b[39mxgbsurv\u001b[39;00m \u001b[39mimport\u001b[39;00m XGBSurv\n\u001b[1;32m      3\u001b[0m \u001b[39mfrom\u001b[39;00m \u001b[39mxgbsurv\u001b[39;00m\u001b[39m.\u001b[39;00m\u001b[39mmodels\u001b[39;00m\u001b[39m.\u001b[39;00m\u001b[39mutils\u001b[39;00m \u001b[39mimport\u001b[39;00m sort_X_y, transform_back\n\u001b[0;32m----> 4\u001b[0m \u001b[39mfrom\u001b[39;00m \u001b[39mxgbsurv\u001b[39;00m\u001b[39m.\u001b[39;00m\u001b[39mmodels\u001b[39;00m \u001b[39mimport\u001b[39;00m aft_baseline_hazard_estimator\n\u001b[1;32m      5\u001b[0m \u001b[39mfrom\u001b[39;00m \u001b[39mpycox\u001b[39;00m\u001b[39m.\u001b[39;00m\u001b[39mevaluation\u001b[39;00m \u001b[39mimport\u001b[39;00m EvalSurv\n\u001b[1;32m      6\u001b[0m \u001b[39mfrom\u001b[39;00m \u001b[39msklearn\u001b[39;00m\u001b[39m.\u001b[39;00m\u001b[39mmodel_selection\u001b[39;00m \u001b[39mimport\u001b[39;00m train_test_split\n",
      "\u001b[0;31mImportError\u001b[0m: cannot import name 'aft_baseline_hazard_estimator' from 'xgbsurv.models' (/Users/JUSC/miniconda3/envs/xgbsurv/lib/python3.10/site-packages/xgbsurv/models/__init__.py)"
     ]
    }
   ],
   "source": [
    "from xgbsurv.datasets import load_metabric\n",
    "from xgbsurv import XGBSurv\n",
    "from xgbsurv.models.utils import sort_X_y, transform_back\n",
    "#from xgbsurv.models import aft_baseline_hazard_estimator\n",
    "from pycox.evaluation import EvalSurv\n",
    "from sklearn.model_selection import train_test_split\n",
    "import numpy as np\n",
    "import matplotlib.pyplot as plt\n",
    "%load_ext autoreload\n",
    "%autoreload 2\n"
   ]
  },
  {
   "attachments": {},
   "cell_type": "markdown",
   "metadata": {},
   "source": [
    "## Load Data"
   ]
  },
  {
   "cell_type": "code",
   "execution_count": 3,
   "metadata": {},
   "outputs": [],
   "source": [
    "data = load_metabric(path=\"/Users/JUSC/Documents/xgbsurv/xgbsurv/datasets/data/\", as_frame=False)\n",
    "# stratify by event indicated by sign\n",
    "target_sign = np.sign(data.target)\n",
    "X_train, X_test, y_train, y_test = train_test_split(data.data, data.target, stratify=target_sign)\n",
    "# sort data\n",
    "X_train, y_train = sort_X_y(X_train, y_train)\n",
    "X_test, y_test = sort_X_y(X_test, y_test)"
   ]
  },
  {
   "attachments": {},
   "cell_type": "markdown",
   "metadata": {},
   "source": [
    "## Load Model"
   ]
  },
  {
   "cell_type": "code",
   "execution_count": 4,
   "metadata": {},
   "outputs": [],
   "source": [
    "model = XGBSurv(n_estimators=25, objective=\"aft_objective\",\n",
    "                                             eval_metric=\"aft_loss\",\n",
    "                                             learning_rate=0.3,\n",
    "                                             random_state=7, \n",
    "                                             disable_default_eval_metric=True)"
   ]
  },
  {
   "attachments": {},
   "cell_type": "markdown",
   "metadata": {},
   "source": [
    "The options of loss and objective functions can be obtained like below:"
   ]
  },
  {
   "cell_type": "code",
   "execution_count": 5,
   "metadata": {},
   "outputs": [
    {
     "name": "stdout",
     "output_type": "stream",
     "text": [
      "dict_keys(['breslow_loss', 'efron_loss', 'cind_loss', 'deephit_loss', 'aft_loss', 'ah_loss', 'eh_loss'])\n",
      "dict_keys(['breslow_objective', 'efron_objective', 'cind_objective', 'deephit_objective', 'aft_objective', 'ah_objective', 'eh_objective'])\n"
     ]
    }
   ],
   "source": [
    "print(model.get_loss_functions().keys())\n",
    "print(model.get_objective_functions().keys())"
   ]
  },
  {
   "attachments": {},
   "cell_type": "markdown",
   "metadata": {},
   "source": [
    "## Fit Model"
   ]
  },
  {
   "cell_type": "code",
   "execution_count": 6,
   "metadata": {},
   "outputs": [],
   "source": [
    "eval_set = [(X_train, y_train)]"
   ]
  },
  {
   "cell_type": "code",
   "execution_count": 7,
   "metadata": {},
   "outputs": [
    {
     "name": "stdout",
     "output_type": "stream",
     "text": [
      "[0]\tvalidation_0-aft_likelihood:3.11824\n",
      "[1]\tvalidation_0-aft_likelihood:3.11824\n",
      "[2]\tvalidation_0-aft_likelihood:3.11824\n",
      "[3]\tvalidation_0-aft_likelihood:3.11824\n",
      "[4]\tvalidation_0-aft_likelihood:3.11824\n",
      "[5]\tvalidation_0-aft_likelihood:3.11824\n",
      "[6]\tvalidation_0-aft_likelihood:3.11824\n",
      "[7]\tvalidation_0-aft_likelihood:3.11824\n",
      "[8]\tvalidation_0-aft_likelihood:3.11824\n",
      "[9]\tvalidation_0-aft_likelihood:3.11824\n",
      "[10]\tvalidation_0-aft_likelihood:3.11824\n",
      "[11]\tvalidation_0-aft_likelihood:3.11824\n",
      "[12]\tvalidation_0-aft_likelihood:3.11824\n",
      "[13]\tvalidation_0-aft_likelihood:3.11824\n",
      "[14]\tvalidation_0-aft_likelihood:3.11824\n",
      "[15]\tvalidation_0-aft_likelihood:3.11824\n",
      "[16]\tvalidation_0-aft_likelihood:3.11824\n",
      "[17]\tvalidation_0-aft_likelihood:3.11824\n",
      "[18]\tvalidation_0-aft_likelihood:3.11824\n",
      "[19]\tvalidation_0-aft_likelihood:3.11824\n",
      "[20]\tvalidation_0-aft_likelihood:3.11824\n",
      "[21]\tvalidation_0-aft_likelihood:3.11824\n",
      "[22]\tvalidation_0-aft_likelihood:3.11824\n",
      "[23]\tvalidation_0-aft_likelihood:3.11824\n",
      "[24]\tvalidation_0-aft_likelihood:3.11824\n"
     ]
    },
    {
     "data": {
      "text/html": [
       "<style>#sk-container-id-1 {color: black;background-color: white;}#sk-container-id-1 pre{padding: 0;}#sk-container-id-1 div.sk-toggleable {background-color: white;}#sk-container-id-1 label.sk-toggleable__label {cursor: pointer;display: block;width: 100%;margin-bottom: 0;padding: 0.3em;box-sizing: border-box;text-align: center;}#sk-container-id-1 label.sk-toggleable__label-arrow:before {content: \"▸\";float: left;margin-right: 0.25em;color: #696969;}#sk-container-id-1 label.sk-toggleable__label-arrow:hover:before {color: black;}#sk-container-id-1 div.sk-estimator:hover label.sk-toggleable__label-arrow:before {color: black;}#sk-container-id-1 div.sk-toggleable__content {max-height: 0;max-width: 0;overflow: hidden;text-align: left;background-color: #f0f8ff;}#sk-container-id-1 div.sk-toggleable__content pre {margin: 0.2em;color: black;border-radius: 0.25em;background-color: #f0f8ff;}#sk-container-id-1 input.sk-toggleable__control:checked~div.sk-toggleable__content {max-height: 200px;max-width: 100%;overflow: auto;}#sk-container-id-1 input.sk-toggleable__control:checked~label.sk-toggleable__label-arrow:before {content: \"▾\";}#sk-container-id-1 div.sk-estimator input.sk-toggleable__control:checked~label.sk-toggleable__label {background-color: #d4ebff;}#sk-container-id-1 div.sk-label input.sk-toggleable__control:checked~label.sk-toggleable__label {background-color: #d4ebff;}#sk-container-id-1 input.sk-hidden--visually {border: 0;clip: rect(1px 1px 1px 1px);clip: rect(1px, 1px, 1px, 1px);height: 1px;margin: -1px;overflow: hidden;padding: 0;position: absolute;width: 1px;}#sk-container-id-1 div.sk-estimator {font-family: monospace;background-color: #f0f8ff;border: 1px dotted black;border-radius: 0.25em;box-sizing: border-box;margin-bottom: 0.5em;}#sk-container-id-1 div.sk-estimator:hover {background-color: #d4ebff;}#sk-container-id-1 div.sk-parallel-item::after {content: \"\";width: 100%;border-bottom: 1px solid gray;flex-grow: 1;}#sk-container-id-1 div.sk-label:hover label.sk-toggleable__label {background-color: #d4ebff;}#sk-container-id-1 div.sk-serial::before {content: \"\";position: absolute;border-left: 1px solid gray;box-sizing: border-box;top: 0;bottom: 0;left: 50%;z-index: 0;}#sk-container-id-1 div.sk-serial {display: flex;flex-direction: column;align-items: center;background-color: white;padding-right: 0.2em;padding-left: 0.2em;position: relative;}#sk-container-id-1 div.sk-item {position: relative;z-index: 1;}#sk-container-id-1 div.sk-parallel {display: flex;align-items: stretch;justify-content: center;background-color: white;position: relative;}#sk-container-id-1 div.sk-item::before, #sk-container-id-1 div.sk-parallel-item::before {content: \"\";position: absolute;border-left: 1px solid gray;box-sizing: border-box;top: 0;bottom: 0;left: 50%;z-index: -1;}#sk-container-id-1 div.sk-parallel-item {display: flex;flex-direction: column;z-index: 1;position: relative;background-color: white;}#sk-container-id-1 div.sk-parallel-item:first-child::after {align-self: flex-end;width: 50%;}#sk-container-id-1 div.sk-parallel-item:last-child::after {align-self: flex-start;width: 50%;}#sk-container-id-1 div.sk-parallel-item:only-child::after {width: 0;}#sk-container-id-1 div.sk-dashed-wrapped {border: 1px dashed gray;margin: 0 0.4em 0.5em 0.4em;box-sizing: border-box;padding-bottom: 0.4em;background-color: white;}#sk-container-id-1 div.sk-label label {font-family: monospace;font-weight: bold;display: inline-block;line-height: 1.2em;}#sk-container-id-1 div.sk-label-container {text-align: center;}#sk-container-id-1 div.sk-container {/* jupyter's `normalize.less` sets `[hidden] { display: none; }` but bootstrap.min.css set `[hidden] { display: none !important; }` so we also need the `!important` here to be able to override the default hidden behavior on the sphinx rendered scikit-learn.org. See: https://github.com/scikit-learn/scikit-learn/issues/21755 */display: inline-block !important;position: relative;}#sk-container-id-1 div.sk-text-repr-fallback {display: none;}</style><div id=\"sk-container-id-1\" class=\"sk-top-container\"><div class=\"sk-text-repr-fallback\"><pre>XGBSurv(base_score=None, booster=None, callbacks=None, colsample_bylevel=None,\n",
       "        colsample_bynode=None, colsample_bytree=None,\n",
       "        disable_default_eval_metric=True, early_stopping_rounds=None,\n",
       "        enable_categorical=False,\n",
       "        eval_metric=CPUDispatcher(&lt;function aft_likelihood at 0x7f8129b7bd00&gt;),\n",
       "        feature_types=None, gamma=None, gpu_id=None, grow_policy=None,\n",
       "        importance_type=None, interaction_constraints=None, learning_rate=0.3,\n",
       "        max_bin=None, max_cat_threshold=None, max_cat_to_onehot=None,\n",
       "        max_delta_step=None, max_depth=None, max_leaves=None,\n",
       "        min_child_weight=None, missing=nan, monotone_constraints=None,\n",
       "        n_estimators=25, n_jobs=None, num_parallel_tree=None,\n",
       "        objective=CPUDispatcher(&lt;function aft_objective at 0x7f8129bb8af0&gt;), ...)</pre><b>In a Jupyter environment, please rerun this cell to show the HTML representation or trust the notebook. <br />On GitHub, the HTML representation is unable to render, please try loading this page with nbviewer.org.</b></div><div class=\"sk-container\" hidden><div class=\"sk-item\"><div class=\"sk-estimator sk-toggleable\"><input class=\"sk-toggleable__control sk-hidden--visually\" id=\"sk-estimator-id-1\" type=\"checkbox\" checked><label for=\"sk-estimator-id-1\" class=\"sk-toggleable__label sk-toggleable__label-arrow\">XGBSurv</label><div class=\"sk-toggleable__content\"><pre>XGBSurv(base_score=None, booster=None, callbacks=None, colsample_bylevel=None,\n",
       "        colsample_bynode=None, colsample_bytree=None,\n",
       "        disable_default_eval_metric=True, early_stopping_rounds=None,\n",
       "        enable_categorical=False,\n",
       "        eval_metric=CPUDispatcher(&lt;function aft_likelihood at 0x7f8129b7bd00&gt;),\n",
       "        feature_types=None, gamma=None, gpu_id=None, grow_policy=None,\n",
       "        importance_type=None, interaction_constraints=None, learning_rate=0.3,\n",
       "        max_bin=None, max_cat_threshold=None, max_cat_to_onehot=None,\n",
       "        max_delta_step=None, max_depth=None, max_leaves=None,\n",
       "        min_child_weight=None, missing=nan, monotone_constraints=None,\n",
       "        n_estimators=25, n_jobs=None, num_parallel_tree=None,\n",
       "        objective=CPUDispatcher(&lt;function aft_objective at 0x7f8129bb8af0&gt;), ...)</pre></div></div></div></div></div>"
      ],
      "text/plain": [
       "XGBSurv(base_score=None, booster=None, callbacks=None, colsample_bylevel=None,\n",
       "        colsample_bynode=None, colsample_bytree=None,\n",
       "        disable_default_eval_metric=True, early_stopping_rounds=None,\n",
       "        enable_categorical=False,\n",
       "        eval_metric=CPUDispatcher(<function aft_likelihood at 0x7f8129b7bd00>),\n",
       "        feature_types=None, gamma=None, gpu_id=None, grow_policy=None,\n",
       "        importance_type=None, interaction_constraints=None, learning_rate=0.3,\n",
       "        max_bin=None, max_cat_threshold=None, max_cat_to_onehot=None,\n",
       "        max_delta_step=None, max_depth=None, max_leaves=None,\n",
       "        min_child_weight=None, missing=nan, monotone_constraints=None,\n",
       "        n_estimators=25, n_jobs=None, num_parallel_tree=None,\n",
       "        objective=CPUDispatcher(<function aft_objective at 0x7f8129bb8af0>), ...)"
      ]
     },
     "execution_count": 7,
     "metadata": {},
     "output_type": "execute_result"
    }
   ],
   "source": [
    "model.fit(X_train, y_train, eval_set=eval_set)"
   ]
  },
  {
   "attachments": {},
   "cell_type": "markdown",
   "metadata": {},
   "source": [
    "The model can be saved like below. Note that objective and eval_metric are not saved."
   ]
  },
  {
   "cell_type": "code",
   "execution_count": 8,
   "metadata": {},
   "outputs": [],
   "source": [
    "model.save_model(\"introduction_model_breslow.json\")"
   ]
  },
  {
   "attachments": {},
   "cell_type": "markdown",
   "metadata": {},
   "source": [
    "## Predict"
   ]
  },
  {
   "cell_type": "code",
   "execution_count": 9,
   "metadata": {},
   "outputs": [],
   "source": [
    "preds_train = model.predict(X_train, output_margin=True)\n",
    "preds_test = model.predict(X_test, output_margin=True)"
   ]
  },
  {
   "cell_type": "code",
   "execution_count": null,
   "metadata": {},
   "outputs": [],
   "source": []
  },
  {
   "attachments": {},
   "cell_type": "markdown",
   "metadata": {},
   "source": [
    "### Predict Cumulative Hazard"
   ]
  },
  {
   "cell_type": "code",
   "execution_count": 10,
   "metadata": {},
   "outputs": [
    {
     "ename": "KeyboardInterrupt",
     "evalue": "",
     "output_type": "error",
     "traceback": [
      "\u001b[0;31m---------------------------------------------------------------------------\u001b[0m",
      "\u001b[0;31mKeyboardInterrupt\u001b[0m                         Traceback (most recent call last)",
      "Cell \u001b[0;32mIn[10], line 1\u001b[0m\n\u001b[0;32m----> 1\u001b[0m df_cum_hazards \u001b[39m=\u001b[39m model\u001b[39m.\u001b[39;49mpredict_cumulative_hazard_function(X_train, X_test, y_train, y_test)\n\u001b[1;32m      2\u001b[0m df_cum_hazards\u001b[39m.\u001b[39mhead(\u001b[39m3\u001b[39m)\n",
      "File \u001b[0;32m~/miniconda3/envs/xgbsurv/lib/python3.10/site-packages/xgbsurv/base.py:112\u001b[0m, in \u001b[0;36mXGBSurv.predict_cumulative_hazard_function\u001b[0;34m(self, X_train, X_test, y_train, y_test)\u001b[0m\n\u001b[1;32m    110\u001b[0m     train_pred_hazards \u001b[39m=\u001b[39m \u001b[39msuper\u001b[39m(XGBSurv, \u001b[39mself\u001b[39m)\u001b[39m.\u001b[39mpredict(X_train, output_margin\u001b[39m=\u001b[39m\u001b[39mTrue\u001b[39;00m)\n\u001b[1;32m    111\u001b[0m     test_pred_hazards \u001b[39m=\u001b[39m \u001b[39msuper\u001b[39m(XGBSurv, \u001b[39mself\u001b[39m)\u001b[39m.\u001b[39mpredict(X_test, output_margin\u001b[39m=\u001b[39m\u001b[39mTrue\u001b[39;00m)\n\u001b[0;32m--> 112\u001b[0m     \u001b[39mreturn\u001b[39;00m pred_dict[\u001b[39mstr\u001b[39;49m(\u001b[39mself\u001b[39;49m\u001b[39m.\u001b[39;49mmodel_type)](X_train, \n\u001b[1;32m    113\u001b[0m     X_test, y_train, y_test,\n\u001b[1;32m    114\u001b[0m     train_pred_hazards, test_pred_hazards\n\u001b[1;32m    115\u001b[0m     )\n\u001b[1;32m    116\u001b[0m \u001b[39melse\u001b[39;00m:\n\u001b[1;32m    117\u001b[0m     \u001b[39mraise\u001b[39;00m \u001b[39mNotImplementedError\u001b[39;00m(\u001b[39m\"\u001b[39m\u001b[39mCumulative hazard not applicable to the model you provided.\u001b[39m\u001b[39m\"\u001b[39m)\n",
      "File \u001b[0;32m~/miniconda3/envs/xgbsurv/lib/python3.10/site-packages/xgbsurv/models/eh_aft_final.py:406\u001b[0m, in \u001b[0;36maft_get_cumulative_hazard_function\u001b[0;34m(X_train, X_test, y_train, y_test, predictor_train, predictor_test)\u001b[0m\n\u001b[1;32m    404\u001b[0m             cumulative_hazard[_, ix] \u001b[39m=\u001b[39m \u001b[39m0.0\u001b[39m\n\u001b[1;32m    405\u001b[0m         \u001b[39melse\u001b[39;00m:\n\u001b[0;32m--> 406\u001b[0m             cumulative_hazard[_, ix] \u001b[39m=\u001b[39m quad(\n\u001b[1;32m    407\u001b[0m                 aft_baseline_hazard_estimator, \u001b[39m0\u001b[39;49m, q \u001b[39m*\u001b[39;49m predictor_test[_],\n\u001b[1;32m    408\u001b[0m                 args\u001b[39m=\u001b[39;49m(time_train, event_train, predictor_train)\n\u001b[1;32m    409\u001b[0m             )[\u001b[39m0\u001b[39m]\n\u001b[1;32m    410\u001b[0m \u001b[39mif\u001b[39;00m zero_flag:\n\u001b[1;32m    411\u001b[0m     cumulative_hazard \u001b[39m=\u001b[39m cumulative_hazard[:, \u001b[39m1\u001b[39m:]\n",
      "File \u001b[0;32m~/miniconda3/envs/xgbsurv/lib/python3.10/site-packages/scipy/integrate/_quadpack_py.py:463\u001b[0m, in \u001b[0;36mquad\u001b[0;34m(func, a, b, args, full_output, epsabs, epsrel, limit, points, weight, wvar, wopts, maxp1, limlst, complex_func)\u001b[0m\n\u001b[1;32m    460\u001b[0m     \u001b[39mreturn\u001b[39;00m retval\n\u001b[1;32m    462\u001b[0m \u001b[39mif\u001b[39;00m weight \u001b[39mis\u001b[39;00m \u001b[39mNone\u001b[39;00m:\n\u001b[0;32m--> 463\u001b[0m     retval \u001b[39m=\u001b[39m _quad(func, a, b, args, full_output, epsabs, epsrel, limit,\n\u001b[1;32m    464\u001b[0m                    points)\n\u001b[1;32m    465\u001b[0m \u001b[39melse\u001b[39;00m:\n\u001b[1;32m    466\u001b[0m     \u001b[39mif\u001b[39;00m points \u001b[39mis\u001b[39;00m \u001b[39mnot\u001b[39;00m \u001b[39mNone\u001b[39;00m:\n",
      "File \u001b[0;32m~/miniconda3/envs/xgbsurv/lib/python3.10/site-packages/scipy/integrate/_quadpack_py.py:575\u001b[0m, in \u001b[0;36m_quad\u001b[0;34m(func, a, b, args, full_output, epsabs, epsrel, limit, points)\u001b[0m\n\u001b[1;32m    573\u001b[0m \u001b[39mif\u001b[39;00m points \u001b[39mis\u001b[39;00m \u001b[39mNone\u001b[39;00m:\n\u001b[1;32m    574\u001b[0m     \u001b[39mif\u001b[39;00m infbounds \u001b[39m==\u001b[39m \u001b[39m0\u001b[39m:\n\u001b[0;32m--> 575\u001b[0m         \u001b[39mreturn\u001b[39;00m _quadpack\u001b[39m.\u001b[39;49m_qagse(func,a,b,args,full_output,epsabs,epsrel,limit)\n\u001b[1;32m    576\u001b[0m     \u001b[39melse\u001b[39;00m:\n\u001b[1;32m    577\u001b[0m         \u001b[39mreturn\u001b[39;00m _quadpack\u001b[39m.\u001b[39m_qagie(func,bound,infbounds,args,full_output,epsabs,epsrel,limit)\n",
      "\u001b[0;31mKeyboardInterrupt\u001b[0m: "
     ]
    }
   ],
   "source": [
    "df_cum_hazards = model.predict_cumulative_hazard_function(X_train, X_test, y_train, y_test)\n",
    "df_cum_hazards.head(3)"
   ]
  },
  {
   "attachments": {},
   "cell_type": "markdown",
   "metadata": {},
   "source": [
    "## Predict Survival Function"
   ]
  },
  {
   "cell_type": "code",
   "execution_count": null,
   "metadata": {},
   "outputs": [
    {
     "data": {
      "text/html": [
       "<div>\n",
       "<style scoped>\n",
       "    .dataframe tbody tr th:only-of-type {\n",
       "        vertical-align: middle;\n",
       "    }\n",
       "\n",
       "    .dataframe tbody tr th {\n",
       "        vertical-align: top;\n",
       "    }\n",
       "\n",
       "    .dataframe thead th {\n",
       "        text-align: right;\n",
       "    }\n",
       "</style>\n",
       "<table border=\"1\" class=\"dataframe\">\n",
       "  <thead>\n",
       "    <tr style=\"text-align: right;\">\n",
       "      <th></th>\n",
       "      <th>0</th>\n",
       "      <th>1</th>\n",
       "      <th>2</th>\n",
       "      <th>3</th>\n",
       "      <th>4</th>\n",
       "      <th>5</th>\n",
       "      <th>6</th>\n",
       "      <th>7</th>\n",
       "      <th>8</th>\n",
       "      <th>9</th>\n",
       "      <th>...</th>\n",
       "      <th>466</th>\n",
       "      <th>467</th>\n",
       "      <th>468</th>\n",
       "      <th>469</th>\n",
       "      <th>470</th>\n",
       "      <th>471</th>\n",
       "      <th>472</th>\n",
       "      <th>473</th>\n",
       "      <th>474</th>\n",
       "      <th>475</th>\n",
       "    </tr>\n",
       "  </thead>\n",
       "  <tbody>\n",
       "    <tr>\n",
       "      <th>335.600006</th>\n",
       "      <td>0.000529</td>\n",
       "      <td>0.063709</td>\n",
       "      <td>0.000069</td>\n",
       "      <td>0.000022</td>\n",
       "      <td>2.383518e-20</td>\n",
       "      <td>0.016777</td>\n",
       "      <td>0.004039</td>\n",
       "      <td>2.702898e-41</td>\n",
       "      <td>0.011218</td>\n",
       "      <td>0.000065</td>\n",
       "      <td>...</td>\n",
       "      <td>0.007239</td>\n",
       "      <td>0.128352</td>\n",
       "      <td>0.067446</td>\n",
       "      <td>0.099142</td>\n",
       "      <td>0.171123</td>\n",
       "      <td>0.000001</td>\n",
       "      <td>0.000801</td>\n",
       "      <td>0.000965</td>\n",
       "      <td>0.085625</td>\n",
       "      <td>0.0647</td>\n",
       "    </tr>\n",
       "    <tr>\n",
       "      <th>335.733337</th>\n",
       "      <td>0.000529</td>\n",
       "      <td>0.063709</td>\n",
       "      <td>0.000069</td>\n",
       "      <td>0.000022</td>\n",
       "      <td>2.383518e-20</td>\n",
       "      <td>0.016777</td>\n",
       "      <td>0.004039</td>\n",
       "      <td>2.702898e-41</td>\n",
       "      <td>0.011218</td>\n",
       "      <td>0.000065</td>\n",
       "      <td>...</td>\n",
       "      <td>0.007239</td>\n",
       "      <td>0.128352</td>\n",
       "      <td>0.067446</td>\n",
       "      <td>0.099142</td>\n",
       "      <td>0.171123</td>\n",
       "      <td>0.000001</td>\n",
       "      <td>0.000801</td>\n",
       "      <td>0.000965</td>\n",
       "      <td>0.085625</td>\n",
       "      <td>0.0647</td>\n",
       "    </tr>\n",
       "    <tr>\n",
       "      <th>351.000000</th>\n",
       "      <td>0.000529</td>\n",
       "      <td>0.063709</td>\n",
       "      <td>0.000069</td>\n",
       "      <td>0.000022</td>\n",
       "      <td>2.383518e-20</td>\n",
       "      <td>0.016777</td>\n",
       "      <td>0.004039</td>\n",
       "      <td>2.702898e-41</td>\n",
       "      <td>0.011218</td>\n",
       "      <td>0.000065</td>\n",
       "      <td>...</td>\n",
       "      <td>0.007239</td>\n",
       "      <td>0.128352</td>\n",
       "      <td>0.067446</td>\n",
       "      <td>0.099142</td>\n",
       "      <td>0.171123</td>\n",
       "      <td>0.000001</td>\n",
       "      <td>0.000801</td>\n",
       "      <td>0.000965</td>\n",
       "      <td>0.085625</td>\n",
       "      <td>0.0647</td>\n",
       "    </tr>\n",
       "  </tbody>\n",
       "</table>\n",
       "<p>3 rows × 476 columns</p>\n",
       "</div>"
      ],
      "text/plain": [
       "                 0         1         2         3             4         5    \\\n",
       "335.600006  0.000529  0.063709  0.000069  0.000022  2.383518e-20  0.016777   \n",
       "335.733337  0.000529  0.063709  0.000069  0.000022  2.383518e-20  0.016777   \n",
       "351.000000  0.000529  0.063709  0.000069  0.000022  2.383518e-20  0.016777   \n",
       "\n",
       "                 6             7         8         9    ...       466  \\\n",
       "335.600006  0.004039  2.702898e-41  0.011218  0.000065  ...  0.007239   \n",
       "335.733337  0.004039  2.702898e-41  0.011218  0.000065  ...  0.007239   \n",
       "351.000000  0.004039  2.702898e-41  0.011218  0.000065  ...  0.007239   \n",
       "\n",
       "                 467       468       469       470       471       472  \\\n",
       "335.600006  0.128352  0.067446  0.099142  0.171123  0.000001  0.000801   \n",
       "335.733337  0.128352  0.067446  0.099142  0.171123  0.000001  0.000801   \n",
       "351.000000  0.128352  0.067446  0.099142  0.171123  0.000001  0.000801   \n",
       "\n",
       "                 473       474     475  \n",
       "335.600006  0.000965  0.085625  0.0647  \n",
       "335.733337  0.000965  0.085625  0.0647  \n",
       "351.000000  0.000965  0.085625  0.0647  \n",
       "\n",
       "[3 rows x 476 columns]"
      ]
     },
     "execution_count": 10,
     "metadata": {},
     "output_type": "execute_result"
    }
   ],
   "source": [
    "df_survival_function = model.predict_survival_function(X_train, X_test, y_train, y_test)\n",
    "df_survival_function.tail(3)"
   ]
  },
  {
   "attachments": {},
   "cell_type": "markdown",
   "metadata": {},
   "source": [
    "### Visualize Predictions"
   ]
  },
  {
   "cell_type": "code",
   "execution_count": null,
   "metadata": {},
   "outputs": [
    {
     "data": {
      "text/plain": [
       "Text(0.5, 1.0, 'Survival Curve Test Set')"
      ]
     },
     "execution_count": 11,
     "metadata": {},
     "output_type": "execute_result"
    },
    {
     "data": {
      "image/png": "[encoded data removed]",
      "text/plain": [
       "<Figure size 640x480 with 1 Axes>"
      ]
     },
     "metadata": {},
     "output_type": "display_data"
    }
   ],
   "source": [
    "df_survival_function.iloc[:, :5].plot(drawstyle='steps-post')\n",
    "plt.ylabel('S(t | x)')\n",
    "_ = plt.xlabel('Time')\n",
    "plt.title(\"Survival Curve Test Set\")"
   ]
  },
  {
   "attachments": {},
   "cell_type": "markdown",
   "metadata": {},
   "source": [
    "## Evaluate"
   ]
  },
  {
   "cell_type": "code",
   "execution_count": null,
   "metadata": {},
   "outputs": [
    {
     "name": "stdout",
     "output_type": "stream",
     "text": [
      "Concordance Index 0.632643010808429\n"
     ]
    }
   ],
   "source": [
    "durations_test, events_test = transform_back(y_test)\n",
    "time_grid = np.linspace(durations_test.min(), durations_test.max(), 100)\n",
    "ev = EvalSurv(df_survival_function, durations_test, events_test, censor_surv='km')\n",
    "print('Concordance Index',ev.concordance_td('antolini'))"
   ]
  },
  {
   "cell_type": "code",
   "execution_count": null,
   "metadata": {},
   "outputs": [
    {
     "name": "stdout",
     "output_type": "stream",
     "text": [
      "Integrated Brier Score: 0.1823026110315267\n"
     ]
    }
   ],
   "source": [
    "print('Integrated Brier Score:',ev.integrated_brier_score(time_grid))"
   ]
  }
 ],
 "metadata": {
  "kernelspec": {
   "display_name": "xgbsurv",
   "language": "python",
   "name": "python3"
  },
  "language_info": {
   "codemirror_mode": {
    "name": "ipython",
    "version": 3
   },
   "file_extension": ".py",
   "mimetype": "text/x-python",
   "name": "python",
   "nbconvert_exporter": "python",
   "pygments_lexer": "ipython3",
   "version": "3.10.10"
  },
  "orig_nbformat": 4
 },
 "nbformat": 4,
 "nbformat_minor": 2
}
