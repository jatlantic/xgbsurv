{
 "cells": [
  {
   "attachments": {},
   "cell_type": "markdown",
   "metadata": {},
   "source": [
    "# Introduction to the xgbsurv package - AFT\n",
    "\n",
    "This notebook introduces `xgbsurv` using a specific dataset. It structured by the following steps:\n",
    "\n",
    "- Load data\n",
    "- Load model\n",
    "- Fit model\n",
    "- Predict and evaluate model\n",
    "\n",
    "The syntax conveniently follows that of sklearn."
   ]
  },
  {
   "cell_type": "code",
   "execution_count": 1,
   "metadata": {},
   "outputs": [],
   "source": [
    "from xgbsurv.datasets import load_metabric\n",
    "from xgbsurv import XGBSurv\n",
    "from xgbsurv.models.utils import sort_X_y, transform_back\n",
    "from pycox.evaluation import EvalSurv\n",
    "from sklearn.model_selection import train_test_split\n",
    "import numpy as np\n",
    "import matplotlib.pyplot as plt\n",
    "import os\n",
    "current_path = os.getcwd() \n",
    "one_level_up = os.path.abspath(os.path.join(current_path,  \"..\"))"
   ]
  },
  {
   "attachments": {},
   "cell_type": "markdown",
   "metadata": {},
   "source": [
    "## Load Data"
   ]
  },
  {
   "cell_type": "code",
   "execution_count": 2,
   "metadata": {},
   "outputs": [
    {
     "name": "stdout",
     "output_type": "stream",
     "text": [
      "Values are being sorted!\n",
      "Values are being sorted!\n"
     ]
    }
   ],
   "source": [
    "data = load_metabric(path=one_level_up+\"/xgbsurv/datasets/data/\", as_frame=False)\n",
    "# stratify by event indicated by sign\n",
    "target_sign = np.sign(data.target)\n",
    "X_train, X_test, y_train, y_test = train_test_split(data.data, data.target, stratify=target_sign)\n",
    "# sort data\n",
    "X_train, y_train = sort_X_y(X_train, y_train)\n",
    "X_test, y_test = sort_X_y(X_test, y_test)"
   ]
  },
  {
   "attachments": {},
   "cell_type": "markdown",
   "metadata": {},
   "source": [
    "## Load Model"
   ]
  },
  {
   "cell_type": "code",
   "execution_count": 3,
   "metadata": {},
   "outputs": [
    {
     "data": {
      "text/html": [
       "<style>#sk-container-id-1 {color: black;background-color: white;}#sk-container-id-1 pre{padding: 0;}#sk-container-id-1 div.sk-toggleable {background-color: white;}#sk-container-id-1 label.sk-toggleable__label {cursor: pointer;display: block;width: 100%;margin-bottom: 0;padding: 0.3em;box-sizing: border-box;text-align: center;}#sk-container-id-1 label.sk-toggleable__label-arrow:before {content: \"▸\";float: left;margin-right: 0.25em;color: #696969;}#sk-container-id-1 label.sk-toggleable__label-arrow:hover:before {color: black;}#sk-container-id-1 div.sk-estimator:hover label.sk-toggleable__label-arrow:before {color: black;}#sk-container-id-1 div.sk-toggleable__content {max-height: 0;max-width: 0;overflow: hidden;text-align: left;background-color: #f0f8ff;}#sk-container-id-1 div.sk-toggleable__content pre {margin: 0.2em;color: black;border-radius: 0.25em;background-color: #f0f8ff;}#sk-container-id-1 input.sk-toggleable__control:checked~div.sk-toggleable__content {max-height: 200px;max-width: 100%;overflow: auto;}#sk-container-id-1 input.sk-toggleable__control:checked~label.sk-toggleable__label-arrow:before {content: \"▾\";}#sk-container-id-1 div.sk-estimator input.sk-toggleable__control:checked~label.sk-toggleable__label {background-color: #d4ebff;}#sk-container-id-1 div.sk-label input.sk-toggleable__control:checked~label.sk-toggleable__label {background-color: #d4ebff;}#sk-container-id-1 input.sk-hidden--visually {border: 0;clip: rect(1px 1px 1px 1px);clip: rect(1px, 1px, 1px, 1px);height: 1px;margin: -1px;overflow: hidden;padding: 0;position: absolute;width: 1px;}#sk-container-id-1 div.sk-estimator {font-family: monospace;background-color: #f0f8ff;border: 1px dotted black;border-radius: 0.25em;box-sizing: border-box;margin-bottom: 0.5em;}#sk-container-id-1 div.sk-estimator:hover {background-color: #d4ebff;}#sk-container-id-1 div.sk-parallel-item::after {content: \"\";width: 100%;border-bottom: 1px solid gray;flex-grow: 1;}#sk-container-id-1 div.sk-label:hover label.sk-toggleable__label {background-color: #d4ebff;}#sk-container-id-1 div.sk-serial::before {content: \"\";position: absolute;border-left: 1px solid gray;box-sizing: border-box;top: 0;bottom: 0;left: 50%;z-index: 0;}#sk-container-id-1 div.sk-serial {display: flex;flex-direction: column;align-items: center;background-color: white;padding-right: 0.2em;padding-left: 0.2em;position: relative;}#sk-container-id-1 div.sk-item {position: relative;z-index: 1;}#sk-container-id-1 div.sk-parallel {display: flex;align-items: stretch;justify-content: center;background-color: white;position: relative;}#sk-container-id-1 div.sk-item::before, #sk-container-id-1 div.sk-parallel-item::before {content: \"\";position: absolute;border-left: 1px solid gray;box-sizing: border-box;top: 0;bottom: 0;left: 50%;z-index: -1;}#sk-container-id-1 div.sk-parallel-item {display: flex;flex-direction: column;z-index: 1;position: relative;background-color: white;}#sk-container-id-1 div.sk-parallel-item:first-child::after {align-self: flex-end;width: 50%;}#sk-container-id-1 div.sk-parallel-item:last-child::after {align-self: flex-start;width: 50%;}#sk-container-id-1 div.sk-parallel-item:only-child::after {width: 0;}#sk-container-id-1 div.sk-dashed-wrapped {border: 1px dashed gray;margin: 0 0.4em 0.5em 0.4em;box-sizing: border-box;padding-bottom: 0.4em;background-color: white;}#sk-container-id-1 div.sk-label label {font-family: monospace;font-weight: bold;display: inline-block;line-height: 1.2em;}#sk-container-id-1 div.sk-label-container {text-align: center;}#sk-container-id-1 div.sk-container {/* jupyter's `normalize.less` sets `[hidden] { display: none; }` but bootstrap.min.css set `[hidden] { display: none !important; }` so we also need the `!important` here to be able to override the default hidden behavior on the sphinx rendered scikit-learn.org. See: https://github.com/scikit-learn/scikit-learn/issues/21755 */display: inline-block !important;position: relative;}#sk-container-id-1 div.sk-text-repr-fallback {display: none;}</style><div id=\"sk-container-id-1\" class=\"sk-top-container\"><div class=\"sk-text-repr-fallback\"><pre>XGBSurv(base_score=None, booster=None, callbacks=None, colsample_bylevel=None,\n",
       "        colsample_bynode=None, colsample_bytree=None,\n",
       "        disable_default_eval_metric=1, early_stopping_rounds=None,\n",
       "        enable_categorical=False,\n",
       "        eval_metric=CPUDispatcher(&lt;function aft_likelihood at 0x17f724360&gt;),\n",
       "        feature_types=None, gamma=None, gpu_id=None, grow_policy=None,\n",
       "        importance_type=None, interaction_constraints=None, learning_rate=0.3,\n",
       "        max_bin=None, max_cat_threshold=None, max_cat_to_onehot=None,\n",
       "        max_delta_step=None, max_depth=None, max_leaves=None,\n",
       "        min_child_weight=None, missing=nan, monotone_constraints=None,\n",
       "        n_estimators=100, n_jobs=None, num_parallel_tree=None,\n",
       "        objective=CPUDispatcher(&lt;function aft_objective at 0x17f88f9c0&gt;), ...)</pre><b>In a Jupyter environment, please rerun this cell to show the HTML representation or trust the notebook. <br />On GitHub, the HTML representation is unable to render, please try loading this page with nbviewer.org.</b></div><div class=\"sk-container\" hidden><div class=\"sk-item\"><div class=\"sk-estimator sk-toggleable\"><input class=\"sk-toggleable__control sk-hidden--visually\" id=\"sk-estimator-id-1\" type=\"checkbox\" checked><label for=\"sk-estimator-id-1\" class=\"sk-toggleable__label sk-toggleable__label-arrow\">XGBSurv</label><div class=\"sk-toggleable__content\"><pre>XGBSurv(base_score=None, booster=None, callbacks=None, colsample_bylevel=None,\n",
       "        colsample_bynode=None, colsample_bytree=None,\n",
       "        disable_default_eval_metric=1, early_stopping_rounds=None,\n",
       "        enable_categorical=False,\n",
       "        eval_metric=CPUDispatcher(&lt;function aft_likelihood at 0x17f724360&gt;),\n",
       "        feature_types=None, gamma=None, gpu_id=None, grow_policy=None,\n",
       "        importance_type=None, interaction_constraints=None, learning_rate=0.3,\n",
       "        max_bin=None, max_cat_threshold=None, max_cat_to_onehot=None,\n",
       "        max_delta_step=None, max_depth=None, max_leaves=None,\n",
       "        min_child_weight=None, missing=nan, monotone_constraints=None,\n",
       "        n_estimators=100, n_jobs=None, num_parallel_tree=None,\n",
       "        objective=CPUDispatcher(&lt;function aft_objective at 0x17f88f9c0&gt;), ...)</pre></div></div></div></div></div>"
      ],
      "text/plain": [
       "XGBSurv(base_score=None, booster=None, callbacks=None, colsample_bylevel=None,\n",
       "        colsample_bynode=None, colsample_bytree=None,\n",
       "        disable_default_eval_metric=1, early_stopping_rounds=None,\n",
       "        enable_categorical=False,\n",
       "        eval_metric=CPUDispatcher(<function aft_likelihood at 0x17f724360>),\n",
       "        feature_types=None, gamma=None, gpu_id=None, grow_policy=None,\n",
       "        importance_type=None, interaction_constraints=None, learning_rate=0.3,\n",
       "        max_bin=None, max_cat_threshold=None, max_cat_to_onehot=None,\n",
       "        max_delta_step=None, max_depth=None, max_leaves=None,\n",
       "        min_child_weight=None, missing=nan, monotone_constraints=None,\n",
       "        n_estimators=100, n_jobs=None, num_parallel_tree=None,\n",
       "        objective=CPUDispatcher(<function aft_objective at 0x17f88f9c0>), ...)"
      ]
     },
     "execution_count": 3,
     "metadata": {},
     "output_type": "execute_result"
    }
   ],
   "source": [
    "model = XGBSurv(n_estimators=100, objective=\"aft_objective\",\n",
    "                                             eval_metric=\"aft_loss\",\n",
    "                                             learning_rate=0.3,\n",
    "                                             random_state=42, \n",
    "                                             disable_default_eval_metric=1,\n",
    "                                             )\n",
    "model"
   ]
  },
  {
   "attachments": {},
   "cell_type": "markdown",
   "metadata": {},
   "source": [
    "The options of loss and objective functions can be obtained like below:"
   ]
  },
  {
   "cell_type": "code",
   "execution_count": 4,
   "metadata": {},
   "outputs": [
    {
     "name": "stdout",
     "output_type": "stream",
     "text": [
      "dict_keys(['breslow_loss', 'efron_loss', 'cind_loss', 'deephit_loss', 'aft_loss', 'ah_loss', 'eh_loss'])\n",
      "dict_keys(['breslow_objective', 'efron_objective', 'cind_objective', 'deephit_objective', 'aft_objective', 'ah_objective', 'eh_objective'])\n"
     ]
    }
   ],
   "source": [
    "print(model.get_loss_functions().keys())\n",
    "print(model.get_objective_functions().keys())"
   ]
  },
  {
   "attachments": {},
   "cell_type": "markdown",
   "metadata": {},
   "source": [
    "## Fit Model"
   ]
  },
  {
   "cell_type": "code",
   "execution_count": 5,
   "metadata": {},
   "outputs": [],
   "source": [
    "eval_set = [(X_train, y_train)]"
   ]
  },
  {
   "cell_type": "code",
   "execution_count": 6,
   "metadata": {},
   "outputs": [
    {
     "name": "stdout",
     "output_type": "stream",
     "text": [
      "[0]\tvalidation_0-aft_likelihood:2554.18542\n",
      "[1]\tvalidation_0-aft_likelihood:2534.26961\n",
      "[2]\tvalidation_0-aft_likelihood:2514.79900\n",
      "[3]\tvalidation_0-aft_likelihood:2495.22329\n",
      "[4]\tvalidation_0-aft_likelihood:2473.85150\n",
      "[5]\tvalidation_0-aft_likelihood:2446.74324\n",
      "[6]\tvalidation_0-aft_likelihood:2422.43445\n",
      "[7]\tvalidation_0-aft_likelihood:2404.29219\n",
      "[8]\tvalidation_0-aft_likelihood:2389.26978\n",
      "[9]\tvalidation_0-aft_likelihood:2373.48454\n",
      "[10]\tvalidation_0-aft_likelihood:2350.77725\n",
      "[11]\tvalidation_0-aft_likelihood:2326.95093\n",
      "[12]\tvalidation_0-aft_likelihood:2321.53376\n",
      "[13]\tvalidation_0-aft_likelihood:2312.04458\n",
      "[14]\tvalidation_0-aft_likelihood:2299.01395\n",
      "[15]\tvalidation_0-aft_likelihood:2282.00081\n",
      "[16]\tvalidation_0-aft_likelihood:2254.40943\n",
      "[17]\tvalidation_0-aft_likelihood:2238.13440\n",
      "[18]\tvalidation_0-aft_likelihood:2227.57456\n",
      "[19]\tvalidation_0-aft_likelihood:2215.30066\n",
      "[20]\tvalidation_0-aft_likelihood:2206.27383\n",
      "[21]\tvalidation_0-aft_likelihood:2198.70920\n",
      "[22]\tvalidation_0-aft_likelihood:2186.91081\n",
      "[23]\tvalidation_0-aft_likelihood:2179.52163\n",
      "[24]\tvalidation_0-aft_likelihood:2168.98717\n",
      "[25]\tvalidation_0-aft_likelihood:2157.90243\n",
      "[26]\tvalidation_0-aft_likelihood:2152.58331\n",
      "[27]\tvalidation_0-aft_likelihood:2149.81148\n",
      "[28]\tvalidation_0-aft_likelihood:2144.93800\n",
      "[29]\tvalidation_0-aft_likelihood:2142.77366\n",
      "[30]\tvalidation_0-aft_likelihood:2141.97016\n",
      "[31]\tvalidation_0-aft_likelihood:2140.12469\n",
      "[32]\tvalidation_0-aft_likelihood:2138.36566\n",
      "[33]\tvalidation_0-aft_likelihood:2136.01014\n",
      "[34]\tvalidation_0-aft_likelihood:2132.32646\n",
      "[35]\tvalidation_0-aft_likelihood:2129.19121\n",
      "[36]\tvalidation_0-aft_likelihood:2128.06617\n",
      "[37]\tvalidation_0-aft_likelihood:2124.68552\n",
      "[38]\tvalidation_0-aft_likelihood:2124.82520\n",
      "[39]\tvalidation_0-aft_likelihood:2123.89079\n",
      "[40]\tvalidation_0-aft_likelihood:2123.43081\n",
      "[41]\tvalidation_0-aft_likelihood:2121.27123\n",
      "[42]\tvalidation_0-aft_likelihood:2121.15587\n",
      "[43]\tvalidation_0-aft_likelihood:2117.78880\n",
      "[44]\tvalidation_0-aft_likelihood:2118.28204\n",
      "[45]\tvalidation_0-aft_likelihood:2115.75466\n",
      "[46]\tvalidation_0-aft_likelihood:2116.41982\n",
      "[47]\tvalidation_0-aft_likelihood:2114.61286\n",
      "[48]\tvalidation_0-aft_likelihood:2114.51477\n",
      "[49]\tvalidation_0-aft_likelihood:2113.76778\n",
      "[50]\tvalidation_0-aft_likelihood:2114.49630\n",
      "[51]\tvalidation_0-aft_likelihood:2112.95711\n",
      "[52]\tvalidation_0-aft_likelihood:2113.38111\n",
      "[53]\tvalidation_0-aft_likelihood:2113.71715\n",
      "[54]\tvalidation_0-aft_likelihood:2111.78262\n",
      "[55]\tvalidation_0-aft_likelihood:2111.34284\n",
      "[56]\tvalidation_0-aft_likelihood:2108.09917\n",
      "[57]\tvalidation_0-aft_likelihood:2108.69686\n",
      "[58]\tvalidation_0-aft_likelihood:2105.78085\n",
      "[59]\tvalidation_0-aft_likelihood:2105.89741\n",
      "[60]\tvalidation_0-aft_likelihood:2105.83358\n",
      "[61]\tvalidation_0-aft_likelihood:2107.64973\n",
      "[62]\tvalidation_0-aft_likelihood:2104.38655\n",
      "[63]\tvalidation_0-aft_likelihood:2105.02444\n",
      "[64]\tvalidation_0-aft_likelihood:2102.41538\n",
      "[65]\tvalidation_0-aft_likelihood:2103.08606\n",
      "[66]\tvalidation_0-aft_likelihood:2101.39308\n",
      "[67]\tvalidation_0-aft_likelihood:2102.77941\n",
      "[68]\tvalidation_0-aft_likelihood:2099.43556\n",
      "[69]\tvalidation_0-aft_likelihood:2100.84930\n",
      "[70]\tvalidation_0-aft_likelihood:2098.86173\n",
      "[71]\tvalidation_0-aft_likelihood:2097.92832\n",
      "[72]\tvalidation_0-aft_likelihood:2095.06322\n",
      "[73]\tvalidation_0-aft_likelihood:2097.52973\n",
      "[74]\tvalidation_0-aft_likelihood:2098.06920\n",
      "[75]\tvalidation_0-aft_likelihood:2097.72557\n",
      "[76]\tvalidation_0-aft_likelihood:2096.71297\n",
      "[77]\tvalidation_0-aft_likelihood:2094.21729\n",
      "[78]\tvalidation_0-aft_likelihood:2095.52636\n",
      "[79]\tvalidation_0-aft_likelihood:2095.35620\n",
      "[80]\tvalidation_0-aft_likelihood:2095.90117\n",
      "[81]\tvalidation_0-aft_likelihood:2094.70890\n",
      "[82]\tvalidation_0-aft_likelihood:2094.85640\n",
      "[83]\tvalidation_0-aft_likelihood:2095.35504\n",
      "[84]\tvalidation_0-aft_likelihood:2096.45798\n",
      "[85]\tvalidation_0-aft_likelihood:2095.39546\n",
      "[86]\tvalidation_0-aft_likelihood:2096.32911\n",
      "[87]\tvalidation_0-aft_likelihood:2094.70074\n",
      "[88]\tvalidation_0-aft_likelihood:2096.10542\n",
      "[89]\tvalidation_0-aft_likelihood:2094.46984\n",
      "[90]\tvalidation_0-aft_likelihood:2095.45551\n",
      "[91]\tvalidation_0-aft_likelihood:2094.92663\n",
      "[92]\tvalidation_0-aft_likelihood:2095.28942\n",
      "[93]\tvalidation_0-aft_likelihood:2092.56875\n",
      "[94]\tvalidation_0-aft_likelihood:2092.49429\n",
      "[95]\tvalidation_0-aft_likelihood:2091.63954\n",
      "[96]\tvalidation_0-aft_likelihood:2091.46405\n",
      "[97]\tvalidation_0-aft_likelihood:2089.64288\n",
      "[98]\tvalidation_0-aft_likelihood:2088.92240\n",
      "[99]\tvalidation_0-aft_likelihood:2089.33662\n"
     ]
    },
    {
     "data": {
      "text/html": [
       "<style>#sk-container-id-2 {color: black;background-color: white;}#sk-container-id-2 pre{padding: 0;}#sk-container-id-2 div.sk-toggleable {background-color: white;}#sk-container-id-2 label.sk-toggleable__label {cursor: pointer;display: block;width: 100%;margin-bottom: 0;padding: 0.3em;box-sizing: border-box;text-align: center;}#sk-container-id-2 label.sk-toggleable__label-arrow:before {content: \"▸\";float: left;margin-right: 0.25em;color: #696969;}#sk-container-id-2 label.sk-toggleable__label-arrow:hover:before {color: black;}#sk-container-id-2 div.sk-estimator:hover label.sk-toggleable__label-arrow:before {color: black;}#sk-container-id-2 div.sk-toggleable__content {max-height: 0;max-width: 0;overflow: hidden;text-align: left;background-color: #f0f8ff;}#sk-container-id-2 div.sk-toggleable__content pre {margin: 0.2em;color: black;border-radius: 0.25em;background-color: #f0f8ff;}#sk-container-id-2 input.sk-toggleable__control:checked~div.sk-toggleable__content {max-height: 200px;max-width: 100%;overflow: auto;}#sk-container-id-2 input.sk-toggleable__control:checked~label.sk-toggleable__label-arrow:before {content: \"▾\";}#sk-container-id-2 div.sk-estimator input.sk-toggleable__control:checked~label.sk-toggleable__label {background-color: #d4ebff;}#sk-container-id-2 div.sk-label input.sk-toggleable__control:checked~label.sk-toggleable__label {background-color: #d4ebff;}#sk-container-id-2 input.sk-hidden--visually {border: 0;clip: rect(1px 1px 1px 1px);clip: rect(1px, 1px, 1px, 1px);height: 1px;margin: -1px;overflow: hidden;padding: 0;position: absolute;width: 1px;}#sk-container-id-2 div.sk-estimator {font-family: monospace;background-color: #f0f8ff;border: 1px dotted black;border-radius: 0.25em;box-sizing: border-box;margin-bottom: 0.5em;}#sk-container-id-2 div.sk-estimator:hover {background-color: #d4ebff;}#sk-container-id-2 div.sk-parallel-item::after {content: \"\";width: 100%;border-bottom: 1px solid gray;flex-grow: 1;}#sk-container-id-2 div.sk-label:hover label.sk-toggleable__label {background-color: #d4ebff;}#sk-container-id-2 div.sk-serial::before {content: \"\";position: absolute;border-left: 1px solid gray;box-sizing: border-box;top: 0;bottom: 0;left: 50%;z-index: 0;}#sk-container-id-2 div.sk-serial {display: flex;flex-direction: column;align-items: center;background-color: white;padding-right: 0.2em;padding-left: 0.2em;position: relative;}#sk-container-id-2 div.sk-item {position: relative;z-index: 1;}#sk-container-id-2 div.sk-parallel {display: flex;align-items: stretch;justify-content: center;background-color: white;position: relative;}#sk-container-id-2 div.sk-item::before, #sk-container-id-2 div.sk-parallel-item::before {content: \"\";position: absolute;border-left: 1px solid gray;box-sizing: border-box;top: 0;bottom: 0;left: 50%;z-index: -1;}#sk-container-id-2 div.sk-parallel-item {display: flex;flex-direction: column;z-index: 1;position: relative;background-color: white;}#sk-container-id-2 div.sk-parallel-item:first-child::after {align-self: flex-end;width: 50%;}#sk-container-id-2 div.sk-parallel-item:last-child::after {align-self: flex-start;width: 50%;}#sk-container-id-2 div.sk-parallel-item:only-child::after {width: 0;}#sk-container-id-2 div.sk-dashed-wrapped {border: 1px dashed gray;margin: 0 0.4em 0.5em 0.4em;box-sizing: border-box;padding-bottom: 0.4em;background-color: white;}#sk-container-id-2 div.sk-label label {font-family: monospace;font-weight: bold;display: inline-block;line-height: 1.2em;}#sk-container-id-2 div.sk-label-container {text-align: center;}#sk-container-id-2 div.sk-container {/* jupyter's `normalize.less` sets `[hidden] { display: none; }` but bootstrap.min.css set `[hidden] { display: none !important; }` so we also need the `!important` here to be able to override the default hidden behavior on the sphinx rendered scikit-learn.org. See: https://github.com/scikit-learn/scikit-learn/issues/21755 */display: inline-block !important;position: relative;}#sk-container-id-2 div.sk-text-repr-fallback {display: none;}</style><div id=\"sk-container-id-2\" class=\"sk-top-container\"><div class=\"sk-text-repr-fallback\"><pre>XGBSurv(base_score=None, booster=None, callbacks=None, colsample_bylevel=None,\n",
       "        colsample_bynode=None, colsample_bytree=None,\n",
       "        disable_default_eval_metric=1, early_stopping_rounds=None,\n",
       "        enable_categorical=False,\n",
       "        eval_metric=CPUDispatcher(&lt;function aft_likelihood at 0x17f724360&gt;),\n",
       "        feature_types=None, gamma=None, gpu_id=None, grow_policy=None,\n",
       "        importance_type=None, interaction_constraints=None, learning_rate=0.3,\n",
       "        max_bin=None, max_cat_threshold=None, max_cat_to_onehot=None,\n",
       "        max_delta_step=None, max_depth=None, max_leaves=None,\n",
       "        min_child_weight=None, missing=nan, monotone_constraints=None,\n",
       "        n_estimators=100, n_jobs=None, num_parallel_tree=None,\n",
       "        objective=CPUDispatcher(&lt;function aft_objective at 0x17f88f9c0&gt;), ...)</pre><b>In a Jupyter environment, please rerun this cell to show the HTML representation or trust the notebook. <br />On GitHub, the HTML representation is unable to render, please try loading this page with nbviewer.org.</b></div><div class=\"sk-container\" hidden><div class=\"sk-item\"><div class=\"sk-estimator sk-toggleable\"><input class=\"sk-toggleable__control sk-hidden--visually\" id=\"sk-estimator-id-2\" type=\"checkbox\" checked><label for=\"sk-estimator-id-2\" class=\"sk-toggleable__label sk-toggleable__label-arrow\">XGBSurv</label><div class=\"sk-toggleable__content\"><pre>XGBSurv(base_score=None, booster=None, callbacks=None, colsample_bylevel=None,\n",
       "        colsample_bynode=None, colsample_bytree=None,\n",
       "        disable_default_eval_metric=1, early_stopping_rounds=None,\n",
       "        enable_categorical=False,\n",
       "        eval_metric=CPUDispatcher(&lt;function aft_likelihood at 0x17f724360&gt;),\n",
       "        feature_types=None, gamma=None, gpu_id=None, grow_policy=None,\n",
       "        importance_type=None, interaction_constraints=None, learning_rate=0.3,\n",
       "        max_bin=None, max_cat_threshold=None, max_cat_to_onehot=None,\n",
       "        max_delta_step=None, max_depth=None, max_leaves=None,\n",
       "        min_child_weight=None, missing=nan, monotone_constraints=None,\n",
       "        n_estimators=100, n_jobs=None, num_parallel_tree=None,\n",
       "        objective=CPUDispatcher(&lt;function aft_objective at 0x17f88f9c0&gt;), ...)</pre></div></div></div></div></div>"
      ],
      "text/plain": [
       "XGBSurv(base_score=None, booster=None, callbacks=None, colsample_bylevel=None,\n",
       "        colsample_bynode=None, colsample_bytree=None,\n",
       "        disable_default_eval_metric=1, early_stopping_rounds=None,\n",
       "        enable_categorical=False,\n",
       "        eval_metric=CPUDispatcher(<function aft_likelihood at 0x17f724360>),\n",
       "        feature_types=None, gamma=None, gpu_id=None, grow_policy=None,\n",
       "        importance_type=None, interaction_constraints=None, learning_rate=0.3,\n",
       "        max_bin=None, max_cat_threshold=None, max_cat_to_onehot=None,\n",
       "        max_delta_step=None, max_depth=None, max_leaves=None,\n",
       "        min_child_weight=None, missing=nan, monotone_constraints=None,\n",
       "        n_estimators=100, n_jobs=None, num_parallel_tree=None,\n",
       "        objective=CPUDispatcher(<function aft_objective at 0x17f88f9c0>), ...)"
      ]
     },
     "execution_count": 6,
     "metadata": {},
     "output_type": "execute_result"
    }
   ],
   "source": [
    "model.fit(X_train, y_train, eval_set=eval_set)"
   ]
  },
  {
   "attachments": {},
   "cell_type": "markdown",
   "metadata": {},
   "source": [
    "The model can be saved like below. Note that objective and eval_metric are not saved."
   ]
  },
  {
   "cell_type": "code",
   "execution_count": 7,
   "metadata": {},
   "outputs": [],
   "source": [
    "#model.save_model(\"introduction_model_breslow.json\")"
   ]
  },
  {
   "attachments": {},
   "cell_type": "markdown",
   "metadata": {},
   "source": [
    "## Predict"
   ]
  },
  {
   "cell_type": "code",
   "execution_count": 8,
   "metadata": {},
   "outputs": [],
   "source": [
    "preds_train = model.predict(X_train, output_margin=True)\n",
    "preds_test = model.predict(X_test, output_margin=True)"
   ]
  },
  {
   "attachments": {},
   "cell_type": "markdown",
   "metadata": {},
   "source": [
    "### Predict Cumulative Hazard"
   ]
  },
  {
   "cell_type": "code",
   "execution_count": 9,
   "metadata": {},
   "outputs": [
    {
     "data": {
      "text/html": [
       "<div>\n",
       "<style scoped>\n",
       "    .dataframe tbody tr th:only-of-type {\n",
       "        vertical-align: middle;\n",
       "    }\n",
       "\n",
       "    .dataframe tbody tr th {\n",
       "        vertical-align: top;\n",
       "    }\n",
       "\n",
       "    .dataframe thead th {\n",
       "        text-align: right;\n",
       "    }\n",
       "</style>\n",
       "<table border=\"1\" class=\"dataframe\">\n",
       "  <thead>\n",
       "    <tr style=\"text-align: right;\">\n",
       "      <th></th>\n",
       "      <th>0</th>\n",
       "      <th>1</th>\n",
       "      <th>2</th>\n",
       "      <th>3</th>\n",
       "      <th>4</th>\n",
       "      <th>5</th>\n",
       "      <th>6</th>\n",
       "      <th>7</th>\n",
       "      <th>8</th>\n",
       "      <th>9</th>\n",
       "      <th>...</th>\n",
       "      <th>466</th>\n",
       "      <th>467</th>\n",
       "      <th>468</th>\n",
       "      <th>469</th>\n",
       "      <th>470</th>\n",
       "      <th>471</th>\n",
       "      <th>472</th>\n",
       "      <th>473</th>\n",
       "      <th>474</th>\n",
       "      <th>475</th>\n",
       "    </tr>\n",
       "  </thead>\n",
       "  <tbody>\n",
       "    <tr>\n",
       "      <th>298.033325</th>\n",
       "      <td>4.934182</td>\n",
       "      <td>3.294833</td>\n",
       "      <td>0.470793</td>\n",
       "      <td>1.543050</td>\n",
       "      <td>5.024541</td>\n",
       "      <td>0.661493</td>\n",
       "      <td>1.319198</td>\n",
       "      <td>0.123189</td>\n",
       "      <td>1.154556</td>\n",
       "      <td>1.012374</td>\n",
       "      <td>...</td>\n",
       "      <td>2.460112</td>\n",
       "      <td>3.176105</td>\n",
       "      <td>0.485375</td>\n",
       "      <td>6.318718</td>\n",
       "      <td>2.249832</td>\n",
       "      <td>0.600944</td>\n",
       "      <td>1.185147</td>\n",
       "      <td>1.761367</td>\n",
       "      <td>1.716226</td>\n",
       "      <td>1.838036</td>\n",
       "    </tr>\n",
       "    <tr>\n",
       "      <th>307.633331</th>\n",
       "      <td>5.119298</td>\n",
       "      <td>3.467880</td>\n",
       "      <td>0.485102</td>\n",
       "      <td>1.647663</td>\n",
       "      <td>5.209711</td>\n",
       "      <td>0.694434</td>\n",
       "      <td>1.409802</td>\n",
       "      <td>0.137489</td>\n",
       "      <td>1.233216</td>\n",
       "      <td>1.079563</td>\n",
       "      <td>...</td>\n",
       "      <td>2.608584</td>\n",
       "      <td>3.345973</td>\n",
       "      <td>0.500351</td>\n",
       "      <td>6.486617</td>\n",
       "      <td>2.389834</td>\n",
       "      <td>0.627012</td>\n",
       "      <td>1.266258</td>\n",
       "      <td>1.878496</td>\n",
       "      <td>1.830940</td>\n",
       "      <td>1.959081</td>\n",
       "    </tr>\n",
       "    <tr>\n",
       "      <th>335.600006</th>\n",
       "      <td>5.625728</td>\n",
       "      <td>3.959672</td>\n",
       "      <td>0.528509</td>\n",
       "      <td>1.966391</td>\n",
       "      <td>5.711171</td>\n",
       "      <td>0.804628</td>\n",
       "      <td>1.689048</td>\n",
       "      <td>0.180789</td>\n",
       "      <td>1.479232</td>\n",
       "      <td>1.292472</td>\n",
       "      <td>...</td>\n",
       "      <td>3.042008</td>\n",
       "      <td>3.832781</td>\n",
       "      <td>0.547077</td>\n",
       "      <td>6.919723</td>\n",
       "      <td>2.801914</td>\n",
       "      <td>0.714656</td>\n",
       "      <td>1.518857</td>\n",
       "      <td>2.230132</td>\n",
       "      <td>2.175723</td>\n",
       "      <td>2.322145</td>\n",
       "    </tr>\n",
       "  </tbody>\n",
       "</table>\n",
       "<p>3 rows × 476 columns</p>\n",
       "</div>"
      ],
      "text/plain": [
       "                 0         1         2         3         4         5    \\\n",
       "298.033325  4.934182  3.294833  0.470793  1.543050  5.024541  0.661493   \n",
       "307.633331  5.119298  3.467880  0.485102  1.647663  5.209711  0.694434   \n",
       "335.600006  5.625728  3.959672  0.528509  1.966391  5.711171  0.804628   \n",
       "\n",
       "                 6         7         8         9    ...       466       467  \\\n",
       "298.033325  1.319198  0.123189  1.154556  1.012374  ...  2.460112  3.176105   \n",
       "307.633331  1.409802  0.137489  1.233216  1.079563  ...  2.608584  3.345973   \n",
       "335.600006  1.689048  0.180789  1.479232  1.292472  ...  3.042008  3.832781   \n",
       "\n",
       "                 468       469       470       471       472       473  \\\n",
       "298.033325  0.485375  6.318718  2.249832  0.600944  1.185147  1.761367   \n",
       "307.633331  0.500351  6.486617  2.389834  0.627012  1.266258  1.878496   \n",
       "335.600006  0.547077  6.919723  2.801914  0.714656  1.518857  2.230132   \n",
       "\n",
       "                 474       475  \n",
       "298.033325  1.716226  1.838036  \n",
       "307.633331  1.830940  1.959081  \n",
       "335.600006  2.175723  2.322145  \n",
       "\n",
       "[3 rows x 476 columns]"
      ]
     },
     "execution_count": 9,
     "metadata": {},
     "output_type": "execute_result"
    }
   ],
   "source": [
    "df_cum_hazards = model.predict_cumulative_hazard_function(X_train, X_test, y_train, y_test)\n",
    "df_cum_hazards.tail(3)"
   ]
  },
  {
   "attachments": {},
   "cell_type": "markdown",
   "metadata": {},
   "source": [
    "## Predict Survival Function"
   ]
  },
  {
   "cell_type": "code",
   "execution_count": 10,
   "metadata": {},
   "outputs": [
    {
     "data": {
      "text/html": [
       "<div>\n",
       "<style scoped>\n",
       "    .dataframe tbody tr th:only-of-type {\n",
       "        vertical-align: middle;\n",
       "    }\n",
       "\n",
       "    .dataframe tbody tr th {\n",
       "        vertical-align: top;\n",
       "    }\n",
       "\n",
       "    .dataframe thead th {\n",
       "        text-align: right;\n",
       "    }\n",
       "</style>\n",
       "<table border=\"1\" class=\"dataframe\">\n",
       "  <thead>\n",
       "    <tr style=\"text-align: right;\">\n",
       "      <th></th>\n",
       "      <th>0</th>\n",
       "      <th>1</th>\n",
       "      <th>2</th>\n",
       "      <th>3</th>\n",
       "      <th>4</th>\n",
       "      <th>5</th>\n",
       "      <th>6</th>\n",
       "      <th>7</th>\n",
       "      <th>8</th>\n",
       "      <th>9</th>\n",
       "      <th>...</th>\n",
       "      <th>466</th>\n",
       "      <th>467</th>\n",
       "      <th>468</th>\n",
       "      <th>469</th>\n",
       "      <th>470</th>\n",
       "      <th>471</th>\n",
       "      <th>472</th>\n",
       "      <th>473</th>\n",
       "      <th>474</th>\n",
       "      <th>475</th>\n",
       "    </tr>\n",
       "  </thead>\n",
       "  <tbody>\n",
       "    <tr>\n",
       "      <th>298.033325</th>\n",
       "      <td>0.007196</td>\n",
       "      <td>0.037074</td>\n",
       "      <td>0.624507</td>\n",
       "      <td>0.213728</td>\n",
       "      <td>0.006575</td>\n",
       "      <td>0.516080</td>\n",
       "      <td>0.267350</td>\n",
       "      <td>0.884096</td>\n",
       "      <td>0.315198</td>\n",
       "      <td>0.363355</td>\n",
       "      <td>...</td>\n",
       "      <td>0.085425</td>\n",
       "      <td>0.041748</td>\n",
       "      <td>0.615466</td>\n",
       "      <td>0.001802</td>\n",
       "      <td>0.105417</td>\n",
       "      <td>0.548294</td>\n",
       "      <td>0.305701</td>\n",
       "      <td>0.171810</td>\n",
       "      <td>0.179743</td>\n",
       "      <td>0.159130</td>\n",
       "    </tr>\n",
       "    <tr>\n",
       "      <th>307.633331</th>\n",
       "      <td>0.005980</td>\n",
       "      <td>0.031183</td>\n",
       "      <td>0.615634</td>\n",
       "      <td>0.192499</td>\n",
       "      <td>0.005463</td>\n",
       "      <td>0.499357</td>\n",
       "      <td>0.244192</td>\n",
       "      <td>0.871544</td>\n",
       "      <td>0.291354</td>\n",
       "      <td>0.339744</td>\n",
       "      <td>...</td>\n",
       "      <td>0.073639</td>\n",
       "      <td>0.035226</td>\n",
       "      <td>0.606318</td>\n",
       "      <td>0.001524</td>\n",
       "      <td>0.091645</td>\n",
       "      <td>0.534186</td>\n",
       "      <td>0.281884</td>\n",
       "      <td>0.152820</td>\n",
       "      <td>0.160263</td>\n",
       "      <td>0.140988</td>\n",
       "    </tr>\n",
       "    <tr>\n",
       "      <th>335.600006</th>\n",
       "      <td>0.003604</td>\n",
       "      <td>0.019069</td>\n",
       "      <td>0.589483</td>\n",
       "      <td>0.139961</td>\n",
       "      <td>0.003309</td>\n",
       "      <td>0.447254</td>\n",
       "      <td>0.184695</td>\n",
       "      <td>0.834612</td>\n",
       "      <td>0.227813</td>\n",
       "      <td>0.274591</td>\n",
       "      <td>...</td>\n",
       "      <td>0.047739</td>\n",
       "      <td>0.021649</td>\n",
       "      <td>0.578639</td>\n",
       "      <td>0.000988</td>\n",
       "      <td>0.060694</td>\n",
       "      <td>0.489360</td>\n",
       "      <td>0.218962</td>\n",
       "      <td>0.107514</td>\n",
       "      <td>0.113526</td>\n",
       "      <td>0.098063</td>\n",
       "    </tr>\n",
       "  </tbody>\n",
       "</table>\n",
       "<p>3 rows × 476 columns</p>\n",
       "</div>"
      ],
      "text/plain": [
       "                 0         1         2         3         4         5    \\\n",
       "298.033325  0.007196  0.037074  0.624507  0.213728  0.006575  0.516080   \n",
       "307.633331  0.005980  0.031183  0.615634  0.192499  0.005463  0.499357   \n",
       "335.600006  0.003604  0.019069  0.589483  0.139961  0.003309  0.447254   \n",
       "\n",
       "                 6         7         8         9    ...       466       467  \\\n",
       "298.033325  0.267350  0.884096  0.315198  0.363355  ...  0.085425  0.041748   \n",
       "307.633331  0.244192  0.871544  0.291354  0.339744  ...  0.073639  0.035226   \n",
       "335.600006  0.184695  0.834612  0.227813  0.274591  ...  0.047739  0.021649   \n",
       "\n",
       "                 468       469       470       471       472       473  \\\n",
       "298.033325  0.615466  0.001802  0.105417  0.548294  0.305701  0.171810   \n",
       "307.633331  0.606318  0.001524  0.091645  0.534186  0.281884  0.152820   \n",
       "335.600006  0.578639  0.000988  0.060694  0.489360  0.218962  0.107514   \n",
       "\n",
       "                 474       475  \n",
       "298.033325  0.179743  0.159130  \n",
       "307.633331  0.160263  0.140988  \n",
       "335.600006  0.113526  0.098063  \n",
       "\n",
       "[3 rows x 476 columns]"
      ]
     },
     "execution_count": 10,
     "metadata": {},
     "output_type": "execute_result"
    }
   ],
   "source": [
    "df_survival_function = model.predict_survival_function(X_train, X_test, y_train, y_test)\n",
    "df_survival_function.tail(3)"
   ]
  },
  {
   "attachments": {},
   "cell_type": "markdown",
   "metadata": {},
   "source": [
    "### Visualize Predictions"
   ]
  },
  {
   "cell_type": "code",
   "execution_count": 11,
   "metadata": {},
   "outputs": [
    {
     "data": {
      "text/plain": [
       "Text(0.5, 1.0, 'Cumulative Hazard AFT')"
      ]
     },
     "execution_count": 11,
     "metadata": {},
     "output_type": "execute_result"
    },
    {
     "data": {
      "image/png": "[encoded data removed]",
      "text/plain": [
       "<Figure size 640x480 with 1 Axes>"
      ]
     },
     "metadata": {},
     "output_type": "display_data"
    }
   ],
   "source": [
    "df_cum_hazards.iloc[:, :5].plot(drawstyle='steps-post')\n",
    "plt.ylabel('S(t | x)')\n",
    "_ = plt.xlabel('Time')\n",
    "plt.title(\"Cumulative Hazard AFT\")"
   ]
  },
  {
   "cell_type": "code",
   "execution_count": 12,
   "metadata": {},
   "outputs": [
    {
     "data": {
      "text/plain": [
       "Text(0.5, 1.0, 'Survival Curve AFT')"
      ]
     },
     "execution_count": 12,
     "metadata": {},
     "output_type": "execute_result"
    },
    {
     "data": {
      "image/png": "[encoded data removed]",
      "text/plain": [
       "<Figure size 640x480 with 1 Axes>"
      ]
     },
     "metadata": {},
     "output_type": "display_data"
    }
   ],
   "source": [
    "df_survival_function.iloc[:, :5].plot(drawstyle='steps-post')\n",
    "plt.ylabel('S(t | x)')\n",
    "_ = plt.xlabel('Time')\n",
    "plt.title(\"Survival Curve AFT\")"
   ]
  },
  {
   "attachments": {},
   "cell_type": "markdown",
   "metadata": {},
   "source": [
    "## Evaluate"
   ]
  },
  {
   "attachments": {},
   "cell_type": "markdown",
   "metadata": {},
   "source": [
    "### Test"
   ]
  },
  {
   "cell_type": "code",
   "execution_count": 13,
   "metadata": {},
   "outputs": [
    {
     "name": "stdout",
     "output_type": "stream",
     "text": [
      "Concordance Index 0.5906403174356182\n"
     ]
    }
   ],
   "source": [
    "durations_test, events_test = transform_back(y_test)\n",
    "time_grid = np.linspace(durations_test.min(), durations_test.max(), 100)\n",
    "ev = EvalSurv(df_survival_function, durations_test, events_test, censor_surv='km')\n",
    "print('Concordance Index',ev.concordance_td('antolini'))"
   ]
  },
  {
   "cell_type": "code",
   "execution_count": 14,
   "metadata": {},
   "outputs": [
    {
     "name": "stdout",
     "output_type": "stream",
     "text": [
      "Integrated Brier Score: 0.18750317575577505\n"
     ]
    }
   ],
   "source": [
    "print('Integrated Brier Score:',ev.integrated_brier_score(time_grid))"
   ]
  },
  {
   "cell_type": "code",
   "execution_count": null,
   "metadata": {},
   "outputs": [],
   "source": []
  }
 ],
 "metadata": {
  "kernelspec": {
   "display_name": "xgbsurv",
   "language": "python",
   "name": "python3"
  },
  "language_info": {
   "codemirror_mode": {
    "name": "ipython",
    "version": 3
   },
   "file_extension": ".py",
   "mimetype": "text/x-python",
   "name": "python",
   "nbconvert_exporter": "python",
   "pygments_lexer": "ipython3",
   "version": "3.11.3"
  },
  "orig_nbformat": 4
 },
 "nbformat": 4,
 "nbformat_minor": 2
}
