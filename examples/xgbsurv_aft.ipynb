{
 "cells": [
  {
   "attachments": {},
   "cell_type": "markdown",
   "metadata": {},
   "source": [
    "# Introduction to the xgbsurv package\n",
    "\n",
    "This notebook introduces `xgbsurv` using a specific dataset. It structured by the following steps:\n",
    "\n",
    "- Load data\n",
    "- Load model\n",
    "- Fit model\n",
    "- Predict and evaluate model\n",
    "\n",
    "The syntax conveniently follows that of sklearn."
   ]
  },
  {
   "cell_type": "code",
   "execution_count": 1,
   "metadata": {},
   "outputs": [],
   "source": [
    "from xgbsurv.datasets import load_metabric\n",
    "from xgbsurv import XGBSurv\n",
    "from xgbsurv.models.utils import sort_X_y, transform_back\n",
    "#from xgbsurv.models import aft_baseline_hazard_estimator\n",
    "from pycox.evaluation import EvalSurv\n",
    "from sklearn.model_selection import train_test_split\n",
    "import numpy as np\n",
    "import matplotlib.pyplot as plt\n",
    "%load_ext autoreload\n",
    "%autoreload 2\n"
   ]
  },
  {
   "attachments": {},
   "cell_type": "markdown",
   "metadata": {},
   "source": [
    "## Load Data"
   ]
  },
  {
   "cell_type": "code",
   "execution_count": 2,
   "metadata": {},
   "outputs": [],
   "source": [
    "data = load_metabric(path=\"/Users/JUSC/Documents/xgbsurv/xgbsurv/datasets/data/\", as_frame=False)\n",
    "# stratify by event indicated by sign\n",
    "target_sign = np.sign(data.target)\n",
    "X_train, X_test, y_train, y_test = train_test_split(data.data, data.target, stratify=target_sign)\n",
    "# sort data\n",
    "X_train, y_train = sort_X_y(X_train, y_train)\n",
    "X_test, y_test = sort_X_y(X_test, y_test)"
   ]
  },
  {
   "attachments": {},
   "cell_type": "markdown",
   "metadata": {},
   "source": [
    "## Load Model"
   ]
  },
  {
   "cell_type": "code",
   "execution_count": 3,
   "metadata": {},
   "outputs": [],
   "source": [
    "model = XGBSurv(n_estimators=25, objective=\"aft_objective\",\n",
    "                                             eval_metric=\"aft_loss\",\n",
    "                                             learning_rate=0.3,\n",
    "                                             random_state=7, \n",
    "                                             disable_default_eval_metric=True)"
   ]
  },
  {
   "attachments": {},
   "cell_type": "markdown",
   "metadata": {},
   "source": [
    "The options of loss and objective functions can be obtained like below:"
   ]
  },
  {
   "cell_type": "code",
   "execution_count": 4,
   "metadata": {},
   "outputs": [
    {
     "name": "stdout",
     "output_type": "stream",
     "text": [
      "dict_keys(['breslow_loss', 'efron_loss', 'cind_loss', 'deephit_loss', 'aft_loss', 'ah_loss', 'eh_loss'])\n",
      "dict_keys(['breslow_objective', 'efron_objective', 'cind_objective', 'deephit_objective', 'aft_objective', 'ah_objective', 'eh_objective'])\n"
     ]
    }
   ],
   "source": [
    "print(model.get_loss_functions().keys())\n",
    "print(model.get_objective_functions().keys())"
   ]
  },
  {
   "attachments": {},
   "cell_type": "markdown",
   "metadata": {},
   "source": [
    "## Fit Model"
   ]
  },
  {
   "cell_type": "code",
   "execution_count": 5,
   "metadata": {},
   "outputs": [],
   "source": [
    "eval_set = [(X_train, y_train)]"
   ]
  },
  {
   "cell_type": "code",
   "execution_count": 6,
   "metadata": {},
   "outputs": [
    {
     "name": "stdout",
     "output_type": "stream",
     "text": [
      "[0]\tvalidation_0-aft_likelihood:3.12115\n",
      "[1]\tvalidation_0-aft_likelihood:3.12112\n",
      "[2]\tvalidation_0-aft_likelihood:3.12108\n",
      "[3]\tvalidation_0-aft_likelihood:3.12105\n",
      "[4]\tvalidation_0-aft_likelihood:3.12102\n",
      "[5]\tvalidation_0-aft_likelihood:3.12099\n",
      "[6]\tvalidation_0-aft_likelihood:3.12096\n",
      "[7]\tvalidation_0-aft_likelihood:3.12092\n",
      "[8]\tvalidation_0-aft_likelihood:3.12089\n",
      "[9]\tvalidation_0-aft_likelihood:3.12086\n",
      "[10]\tvalidation_0-aft_likelihood:3.12083\n",
      "[11]\tvalidation_0-aft_likelihood:3.12080\n",
      "[12]\tvalidation_0-aft_likelihood:3.12076\n",
      "[13]\tvalidation_0-aft_likelihood:3.12073\n",
      "[14]\tvalidation_0-aft_likelihood:3.12070\n",
      "[15]\tvalidation_0-aft_likelihood:3.12067\n",
      "[16]\tvalidation_0-aft_likelihood:3.12064\n",
      "[17]\tvalidation_0-aft_likelihood:3.12060\n",
      "[18]\tvalidation_0-aft_likelihood:3.12057\n",
      "[19]\tvalidation_0-aft_likelihood:3.12054\n",
      "[20]\tvalidation_0-aft_likelihood:3.12051\n",
      "[21]\tvalidation_0-aft_likelihood:3.12047\n",
      "[22]\tvalidation_0-aft_likelihood:3.12044\n",
      "[23]\tvalidation_0-aft_likelihood:3.12041\n",
      "[24]\tvalidation_0-aft_likelihood:3.12038\n"
     ]
    },
    {
     "data": {
      "text/html": [
       "<style>#sk-container-id-1 {color: black;background-color: white;}#sk-container-id-1 pre{padding: 0;}#sk-container-id-1 div.sk-toggleable {background-color: white;}#sk-container-id-1 label.sk-toggleable__label {cursor: pointer;display: block;width: 100%;margin-bottom: 0;padding: 0.3em;box-sizing: border-box;text-align: center;}#sk-container-id-1 label.sk-toggleable__label-arrow:before {content: \"▸\";float: left;margin-right: 0.25em;color: #696969;}#sk-container-id-1 label.sk-toggleable__label-arrow:hover:before {color: black;}#sk-container-id-1 div.sk-estimator:hover label.sk-toggleable__label-arrow:before {color: black;}#sk-container-id-1 div.sk-toggleable__content {max-height: 0;max-width: 0;overflow: hidden;text-align: left;background-color: #f0f8ff;}#sk-container-id-1 div.sk-toggleable__content pre {margin: 0.2em;color: black;border-radius: 0.25em;background-color: #f0f8ff;}#sk-container-id-1 input.sk-toggleable__control:checked~div.sk-toggleable__content {max-height: 200px;max-width: 100%;overflow: auto;}#sk-container-id-1 input.sk-toggleable__control:checked~label.sk-toggleable__label-arrow:before {content: \"▾\";}#sk-container-id-1 div.sk-estimator input.sk-toggleable__control:checked~label.sk-toggleable__label {background-color: #d4ebff;}#sk-container-id-1 div.sk-label input.sk-toggleable__control:checked~label.sk-toggleable__label {background-color: #d4ebff;}#sk-container-id-1 input.sk-hidden--visually {border: 0;clip: rect(1px 1px 1px 1px);clip: rect(1px, 1px, 1px, 1px);height: 1px;margin: -1px;overflow: hidden;padding: 0;position: absolute;width: 1px;}#sk-container-id-1 div.sk-estimator {font-family: monospace;background-color: #f0f8ff;border: 1px dotted black;border-radius: 0.25em;box-sizing: border-box;margin-bottom: 0.5em;}#sk-container-id-1 div.sk-estimator:hover {background-color: #d4ebff;}#sk-container-id-1 div.sk-parallel-item::after {content: \"\";width: 100%;border-bottom: 1px solid gray;flex-grow: 1;}#sk-container-id-1 div.sk-label:hover label.sk-toggleable__label {background-color: #d4ebff;}#sk-container-id-1 div.sk-serial::before {content: \"\";position: absolute;border-left: 1px solid gray;box-sizing: border-box;top: 0;bottom: 0;left: 50%;z-index: 0;}#sk-container-id-1 div.sk-serial {display: flex;flex-direction: column;align-items: center;background-color: white;padding-right: 0.2em;padding-left: 0.2em;position: relative;}#sk-container-id-1 div.sk-item {position: relative;z-index: 1;}#sk-container-id-1 div.sk-parallel {display: flex;align-items: stretch;justify-content: center;background-color: white;position: relative;}#sk-container-id-1 div.sk-item::before, #sk-container-id-1 div.sk-parallel-item::before {content: \"\";position: absolute;border-left: 1px solid gray;box-sizing: border-box;top: 0;bottom: 0;left: 50%;z-index: -1;}#sk-container-id-1 div.sk-parallel-item {display: flex;flex-direction: column;z-index: 1;position: relative;background-color: white;}#sk-container-id-1 div.sk-parallel-item:first-child::after {align-self: flex-end;width: 50%;}#sk-container-id-1 div.sk-parallel-item:last-child::after {align-self: flex-start;width: 50%;}#sk-container-id-1 div.sk-parallel-item:only-child::after {width: 0;}#sk-container-id-1 div.sk-dashed-wrapped {border: 1px dashed gray;margin: 0 0.4em 0.5em 0.4em;box-sizing: border-box;padding-bottom: 0.4em;background-color: white;}#sk-container-id-1 div.sk-label label {font-family: monospace;font-weight: bold;display: inline-block;line-height: 1.2em;}#sk-container-id-1 div.sk-label-container {text-align: center;}#sk-container-id-1 div.sk-container {/* jupyter's `normalize.less` sets `[hidden] { display: none; }` but bootstrap.min.css set `[hidden] { display: none !important; }` so we also need the `!important` here to be able to override the default hidden behavior on the sphinx rendered scikit-learn.org. See: https://github.com/scikit-learn/scikit-learn/issues/21755 */display: inline-block !important;position: relative;}#sk-container-id-1 div.sk-text-repr-fallback {display: none;}</style><div id=\"sk-container-id-1\" class=\"sk-top-container\"><div class=\"sk-text-repr-fallback\"><pre>XGBSurv(base_score=None, booster=None, callbacks=None, colsample_bylevel=None,\n",
       "        colsample_bynode=None, colsample_bytree=None,\n",
       "        disable_default_eval_metric=True, early_stopping_rounds=None,\n",
       "        enable_categorical=False,\n",
       "        eval_metric=CPUDispatcher(&lt;function aft_likelihood at 0x7fb78286bc70&gt;),\n",
       "        feature_types=None, gamma=None, gpu_id=None, grow_policy=None,\n",
       "        importance_type=None, interaction_constraints=None, learning_rate=0.3,\n",
       "        max_bin=None, max_cat_threshold=None, max_cat_to_onehot=None,\n",
       "        max_delta_step=None, max_depth=None, max_leaves=None,\n",
       "        min_child_weight=None, missing=nan, monotone_constraints=None,\n",
       "        n_estimators=25, n_jobs=None, num_parallel_tree=None,\n",
       "        objective=CPUDispatcher(&lt;function aft_objective at 0x7fb7828b0a60&gt;), ...)</pre><b>In a Jupyter environment, please rerun this cell to show the HTML representation or trust the notebook. <br />On GitHub, the HTML representation is unable to render, please try loading this page with nbviewer.org.</b></div><div class=\"sk-container\" hidden><div class=\"sk-item\"><div class=\"sk-estimator sk-toggleable\"><input class=\"sk-toggleable__control sk-hidden--visually\" id=\"sk-estimator-id-1\" type=\"checkbox\" checked><label for=\"sk-estimator-id-1\" class=\"sk-toggleable__label sk-toggleable__label-arrow\">XGBSurv</label><div class=\"sk-toggleable__content\"><pre>XGBSurv(base_score=None, booster=None, callbacks=None, colsample_bylevel=None,\n",
       "        colsample_bynode=None, colsample_bytree=None,\n",
       "        disable_default_eval_metric=True, early_stopping_rounds=None,\n",
       "        enable_categorical=False,\n",
       "        eval_metric=CPUDispatcher(&lt;function aft_likelihood at 0x7fb78286bc70&gt;),\n",
       "        feature_types=None, gamma=None, gpu_id=None, grow_policy=None,\n",
       "        importance_type=None, interaction_constraints=None, learning_rate=0.3,\n",
       "        max_bin=None, max_cat_threshold=None, max_cat_to_onehot=None,\n",
       "        max_delta_step=None, max_depth=None, max_leaves=None,\n",
       "        min_child_weight=None, missing=nan, monotone_constraints=None,\n",
       "        n_estimators=25, n_jobs=None, num_parallel_tree=None,\n",
       "        objective=CPUDispatcher(&lt;function aft_objective at 0x7fb7828b0a60&gt;), ...)</pre></div></div></div></div></div>"
      ],
      "text/plain": [
       "XGBSurv(base_score=None, booster=None, callbacks=None, colsample_bylevel=None,\n",
       "        colsample_bynode=None, colsample_bytree=None,\n",
       "        disable_default_eval_metric=True, early_stopping_rounds=None,\n",
       "        enable_categorical=False,\n",
       "        eval_metric=CPUDispatcher(<function aft_likelihood at 0x7fb78286bc70>),\n",
       "        feature_types=None, gamma=None, gpu_id=None, grow_policy=None,\n",
       "        importance_type=None, interaction_constraints=None, learning_rate=0.3,\n",
       "        max_bin=None, max_cat_threshold=None, max_cat_to_onehot=None,\n",
       "        max_delta_step=None, max_depth=None, max_leaves=None,\n",
       "        min_child_weight=None, missing=nan, monotone_constraints=None,\n",
       "        n_estimators=25, n_jobs=None, num_parallel_tree=None,\n",
       "        objective=CPUDispatcher(<function aft_objective at 0x7fb7828b0a60>), ...)"
      ]
     },
     "execution_count": 6,
     "metadata": {},
     "output_type": "execute_result"
    }
   ],
   "source": [
    "model.fit(X_train, y_train, eval_set=eval_set)"
   ]
  },
  {
   "attachments": {},
   "cell_type": "markdown",
   "metadata": {},
   "source": [
    "The model can be saved like below. Note that objective and eval_metric are not saved."
   ]
  },
  {
   "cell_type": "code",
   "execution_count": 7,
   "metadata": {},
   "outputs": [],
   "source": [
    "model.save_model(\"introduction_model_breslow.json\")"
   ]
  },
  {
   "attachments": {},
   "cell_type": "markdown",
   "metadata": {},
   "source": [
    "## Predict"
   ]
  },
  {
   "cell_type": "code",
   "execution_count": 8,
   "metadata": {},
   "outputs": [
    {
     "data": {
      "text/plain": [
       "0.0007307678716562423"
      ]
     },
     "execution_count": 8,
     "metadata": {},
     "output_type": "execute_result"
    }
   ],
   "source": [
    "preds_train = model.predict(X_train, output_margin=True)\n",
    "preds_test = model.predict(X_test, output_margin=True)\n",
    "time_train, event_train = transform_back(y_train)\n",
    "#rlp = np.log(time_train * np.exp(preds_train))\n",
    "#from xgbsurv.evaluation import cindex_censored, ibs\n",
    "#cindex_censored(y_train, rlp)"
   ]
  },
  {
   "attachments": {},
   "cell_type": "markdown",
   "metadata": {},
   "source": [
    "### Predict Cumulative Hazard"
   ]
  },
  {
   "cell_type": "code",
   "execution_count": 9,
   "metadata": {},
   "outputs": [
    {
     "ename": "TypeError",
     "evalue": "only size-1 arrays can be converted to Python scalars",
     "output_type": "error",
     "traceback": [
      "\u001b[0;31m---------------------------------------------------------------------------\u001b[0m",
      "\u001b[0;31mTypeError\u001b[0m                                 Traceback (most recent call last)",
      "Cell \u001b[0;32mIn[9], line 1\u001b[0m\n\u001b[0;32m----> 1\u001b[0m df_cum_hazards \u001b[39m=\u001b[39m model\u001b[39m.\u001b[39;49mpredict_cumulative_hazard_function(X_train[:\u001b[39m100\u001b[39;49m], X_test[:\u001b[39m100\u001b[39;49m], y_train[:\u001b[39m100\u001b[39;49m], y_test[:\u001b[39m100\u001b[39;49m])\n\u001b[1;32m      2\u001b[0m df_cum_hazards\u001b[39m.\u001b[39mhead(\u001b[39m3\u001b[39m)\n",
      "File \u001b[0;32m~/miniconda3/envs/xgbsurv/lib/python3.10/site-packages/xgbsurv/base.py:112\u001b[0m, in \u001b[0;36mXGBSurv.predict_cumulative_hazard_function\u001b[0;34m(self, X_train, X_test, y_train, y_test)\u001b[0m\n\u001b[1;32m    110\u001b[0m     train_pred_hazards \u001b[39m=\u001b[39m \u001b[39msuper\u001b[39m(XGBSurv, \u001b[39mself\u001b[39m)\u001b[39m.\u001b[39mpredict(X_train, output_margin\u001b[39m=\u001b[39m\u001b[39mTrue\u001b[39;00m)\n\u001b[1;32m    111\u001b[0m     test_pred_hazards \u001b[39m=\u001b[39m \u001b[39msuper\u001b[39m(XGBSurv, \u001b[39mself\u001b[39m)\u001b[39m.\u001b[39mpredict(X_test, output_margin\u001b[39m=\u001b[39m\u001b[39mTrue\u001b[39;00m)\n\u001b[0;32m--> 112\u001b[0m     \u001b[39mreturn\u001b[39;00m pred_dict[\u001b[39mstr\u001b[39;49m(\u001b[39mself\u001b[39;49m\u001b[39m.\u001b[39;49mmodel_type)](X_train, \n\u001b[1;32m    113\u001b[0m     X_test, y_train, y_test,\n\u001b[1;32m    114\u001b[0m     train_pred_hazards, test_pred_hazards\n\u001b[1;32m    115\u001b[0m     )\n\u001b[1;32m    116\u001b[0m \u001b[39melse\u001b[39;00m:\n\u001b[1;32m    117\u001b[0m     \u001b[39mraise\u001b[39;00m \u001b[39mNotImplementedError\u001b[39;00m(\u001b[39m\"\u001b[39m\u001b[39mCumulative hazard not applicable to the model you provided.\u001b[39m\u001b[39m\"\u001b[39m)\n",
      "File \u001b[0;32m~/miniconda3/envs/xgbsurv/lib/python3.10/site-packages/xgbsurv/models/eh_aft_final.py:461\u001b[0m, in \u001b[0;36maft_get_cumulative_hazard_function\u001b[0;34m(X_train, X_test, y_train, y_test, predictor_train, predictor_test)\u001b[0m\n\u001b[1;32m    456\u001b[0m hazard_function_integrate \u001b[39m=\u001b[39m partial(aft_baseline_hazard_estimator, time_train\u001b[39m=\u001b[39mtime_train, event_train\u001b[39m=\u001b[39mevent_train, predictor_train\u001b[39m=\u001b[39mpredictor_train)\n\u001b[1;32m    459\u001b[0m \u001b[39mfor\u001b[39;00m _ \u001b[39min\u001b[39;00m \u001b[39mrange\u001b[39m(n_samples):\n\u001b[1;32m    460\u001b[0m     cumulative_hazard[_, :] \u001b[39m=\u001b[39m cumtrapz(\n\u001b[0;32m--> 461\u001b[0m         y \u001b[39m=\u001b[39m aft_baseline_hazard_estimator(time_test \u001b[39m*\u001b[39;49m theta[_],time_train\u001b[39m=\u001b[39;49mtime_train, event_train\u001b[39m=\u001b[39;49mevent_train, predictor_train\u001b[39m=\u001b[39;49mpredictor_train),\n\u001b[1;32m    462\u001b[0m         \u001b[39m#y=hazard_function_integrate(time_test * theta[_]),\u001b[39;00m\n\u001b[1;32m    463\u001b[0m         x\u001b[39m=\u001b[39mtime_test,\n\u001b[1;32m    464\u001b[0m         initial\u001b[39m=\u001b[39m\u001b[39m0\u001b[39m,\n\u001b[1;32m    465\u001b[0m     )\n\u001b[1;32m    466\u001b[0m \u001b[39mif\u001b[39;00m zero_flag:\n\u001b[1;32m    467\u001b[0m     cumulative_hazard \u001b[39m=\u001b[39m cumulative_hazard[:, \u001b[39m1\u001b[39m:]\n",
      "File \u001b[0;32m~/miniconda3/envs/xgbsurv/lib/python3.10/site-packages/xgbsurv/models/eh_aft_final.py:356\u001b[0m, in \u001b[0;36maft_baseline_hazard_estimator\u001b[0;34m(time, time_train, event_train, predictor_train)\u001b[0m\n\u001b[1;32m    354\u001b[0m inverse_bandwidth: \u001b[39mfloat\u001b[39m \u001b[39m=\u001b[39m \u001b[39m1\u001b[39m \u001b[39m/\u001b[39m bandwidth\n\u001b[1;32m    355\u001b[0m inverse_sample_size: \u001b[39mfloat\u001b[39m \u001b[39m=\u001b[39m \u001b[39m1\u001b[39m \u001b[39m/\u001b[39m n_samples\n\u001b[0;32m--> 356\u001b[0m log_time: \u001b[39mfloat\u001b[39m \u001b[39m=\u001b[39m log(time \u001b[39m+\u001b[39;49m EPS)\n\u001b[1;32m    357\u001b[0m inverse_bandwidth_sample_size_time: \u001b[39mfloat\u001b[39m \u001b[39m=\u001b[39m (\n\u001b[1;32m    358\u001b[0m     inverse_sample_size \u001b[39m*\u001b[39m (\u001b[39m1\u001b[39m \u001b[39m/\u001b[39m (time \u001b[39m+\u001b[39m EPS)) \u001b[39m*\u001b[39m inverse_bandwidth\n\u001b[1;32m    359\u001b[0m )\n\u001b[1;32m    361\u001b[0m R_lp: np\u001b[39m.\u001b[39marray \u001b[39m=\u001b[39m np\u001b[39m.\u001b[39mlog(time_train \u001b[39m*\u001b[39m np\u001b[39m.\u001b[39mexp(predictor_train))\n",
      "\u001b[0;31mTypeError\u001b[0m: only size-1 arrays can be converted to Python scalars"
     ]
    }
   ],
   "source": [
    "df_cum_hazards = model.predict_cumulative_hazard_function(X_train[:100], X_test[:100], y_train[:100], y_test[:100])\n",
    "df_cum_hazards.head(3)"
   ]
  },
  {
   "cell_type": "code",
   "execution_count": null,
   "metadata": {},
   "outputs": [
    {
     "data": {
      "text/plain": [
       "(1427, 9)"
      ]
     },
     "execution_count": 10,
     "metadata": {},
     "output_type": "execute_result"
    }
   ],
   "source": [
    "X_train.shape"
   ]
  },
  {
   "cell_type": "code",
   "execution_count": null,
   "metadata": {},
   "outputs": [],
   "source": []
  },
  {
   "cell_type": "code",
   "execution_count": null,
   "metadata": {},
   "outputs": [
    {
     "data": {
      "text/html": [
       "<div>\n",
       "<style scoped>\n",
       "    .dataframe tbody tr th:only-of-type {\n",
       "        vertical-align: middle;\n",
       "    }\n",
       "\n",
       "    .dataframe tbody tr th {\n",
       "        vertical-align: top;\n",
       "    }\n",
       "\n",
       "    .dataframe thead th {\n",
       "        text-align: right;\n",
       "    }\n",
       "</style>\n",
       "<table border=\"1\" class=\"dataframe\">\n",
       "  <thead>\n",
       "    <tr style=\"text-align: right;\">\n",
       "      <th></th>\n",
       "      <th>1.433333</th>\n",
       "      <th>2.400000</th>\n",
       "      <th>2.500000</th>\n",
       "      <th>4.866667</th>\n",
       "      <th>7.866667</th>\n",
       "      <th>9.833333</th>\n",
       "      <th>10.066667</th>\n",
       "      <th>10.633333</th>\n",
       "      <th>11.866667</th>\n",
       "      <th>12.933333</th>\n",
       "      <th>...</th>\n",
       "      <th>50.666668</th>\n",
       "      <th>50.900002</th>\n",
       "      <th>51.200001</th>\n",
       "      <th>52.299999</th>\n",
       "      <th>52.299999</th>\n",
       "      <th>52.466667</th>\n",
       "      <th>52.733334</th>\n",
       "      <th>53.633335</th>\n",
       "      <th>54.933334</th>\n",
       "      <th>55.466667</th>\n",
       "    </tr>\n",
       "  </thead>\n",
       "  <tbody>\n",
       "    <tr>\n",
       "      <th>0</th>\n",
       "      <td>0.010038</td>\n",
       "      <td>0.010283</td>\n",
       "      <td>0.010338</td>\n",
       "      <td>0.014739</td>\n",
       "      <td>0.028451</td>\n",
       "      <td>0.040720</td>\n",
       "      <td>0.042307</td>\n",
       "      <td>0.046267</td>\n",
       "      <td>0.055393</td>\n",
       "      <td>0.063835</td>\n",
       "      <td>...</td>\n",
       "      <td>0.691458</td>\n",
       "      <td>0.696791</td>\n",
       "      <td>0.703662</td>\n",
       "      <td>0.728987</td>\n",
       "      <td>0.728987</td>\n",
       "      <td>0.732841</td>\n",
       "      <td>0.739018</td>\n",
       "      <td>0.759944</td>\n",
       "      <td>0.790383</td>\n",
       "      <td>0.802940</td>\n",
       "    </tr>\n",
       "    <tr>\n",
       "      <th>1</th>\n",
       "      <td>0.010036</td>\n",
       "      <td>0.010276</td>\n",
       "      <td>0.010330</td>\n",
       "      <td>0.014654</td>\n",
       "      <td>0.028206</td>\n",
       "      <td>0.040357</td>\n",
       "      <td>0.041929</td>\n",
       "      <td>0.045852</td>\n",
       "      <td>0.054894</td>\n",
       "      <td>0.063258</td>\n",
       "      <td>...</td>\n",
       "      <td>0.685115</td>\n",
       "      <td>0.690408</td>\n",
       "      <td>0.697227</td>\n",
       "      <td>0.722360</td>\n",
       "      <td>0.722360</td>\n",
       "      <td>0.726186</td>\n",
       "      <td>0.732316</td>\n",
       "      <td>0.753088</td>\n",
       "      <td>0.783304</td>\n",
       "      <td>0.795769</td>\n",
       "    </tr>\n",
       "    <tr>\n",
       "      <th>2</th>\n",
       "      <td>0.010038</td>\n",
       "      <td>0.010283</td>\n",
       "      <td>0.010338</td>\n",
       "      <td>0.014739</td>\n",
       "      <td>0.028451</td>\n",
       "      <td>0.040720</td>\n",
       "      <td>0.042307</td>\n",
       "      <td>0.046267</td>\n",
       "      <td>0.055393</td>\n",
       "      <td>0.063835</td>\n",
       "      <td>...</td>\n",
       "      <td>0.691458</td>\n",
       "      <td>0.696791</td>\n",
       "      <td>0.703662</td>\n",
       "      <td>0.728987</td>\n",
       "      <td>0.728987</td>\n",
       "      <td>0.732841</td>\n",
       "      <td>0.739018</td>\n",
       "      <td>0.759944</td>\n",
       "      <td>0.790383</td>\n",
       "      <td>0.802940</td>\n",
       "    </tr>\n",
       "    <tr>\n",
       "      <th>3</th>\n",
       "      <td>0.010037</td>\n",
       "      <td>0.010278</td>\n",
       "      <td>0.010332</td>\n",
       "      <td>0.014675</td>\n",
       "      <td>0.028266</td>\n",
       "      <td>0.040446</td>\n",
       "      <td>0.042022</td>\n",
       "      <td>0.045955</td>\n",
       "      <td>0.055017</td>\n",
       "      <td>0.063400</td>\n",
       "      <td>...</td>\n",
       "      <td>0.686681</td>\n",
       "      <td>0.691984</td>\n",
       "      <td>0.698816</td>\n",
       "      <td>0.723997</td>\n",
       "      <td>0.723997</td>\n",
       "      <td>0.727829</td>\n",
       "      <td>0.733971</td>\n",
       "      <td>0.754781</td>\n",
       "      <td>0.785052</td>\n",
       "      <td>0.797540</td>\n",
       "    </tr>\n",
       "    <tr>\n",
       "      <th>4</th>\n",
       "      <td>0.010039</td>\n",
       "      <td>0.010289</td>\n",
       "      <td>0.010346</td>\n",
       "      <td>0.014819</td>\n",
       "      <td>0.028681</td>\n",
       "      <td>0.041061</td>\n",
       "      <td>0.042662</td>\n",
       "      <td>0.046656</td>\n",
       "      <td>0.055862</td>\n",
       "      <td>0.064377</td>\n",
       "      <td>...</td>\n",
       "      <td>0.697403</td>\n",
       "      <td>0.702775</td>\n",
       "      <td>0.709695</td>\n",
       "      <td>0.735198</td>\n",
       "      <td>0.735198</td>\n",
       "      <td>0.739079</td>\n",
       "      <td>0.745299</td>\n",
       "      <td>0.766370</td>\n",
       "      <td>0.797018</td>\n",
       "      <td>0.809659</td>\n",
       "    </tr>\n",
       "    <tr>\n",
       "      <th>...</th>\n",
       "      <td>...</td>\n",
       "      <td>...</td>\n",
       "      <td>...</td>\n",
       "      <td>...</td>\n",
       "      <td>...</td>\n",
       "      <td>...</td>\n",
       "      <td>...</td>\n",
       "      <td>...</td>\n",
       "      <td>...</td>\n",
       "      <td>...</td>\n",
       "      <td>...</td>\n",
       "      <td>...</td>\n",
       "      <td>...</td>\n",
       "      <td>...</td>\n",
       "      <td>...</td>\n",
       "      <td>...</td>\n",
       "      <td>...</td>\n",
       "      <td>...</td>\n",
       "      <td>...</td>\n",
       "      <td>...</td>\n",
       "      <td>...</td>\n",
       "    </tr>\n",
       "    <tr>\n",
       "      <th>95</th>\n",
       "      <td>0.010036</td>\n",
       "      <td>0.010275</td>\n",
       "      <td>0.010329</td>\n",
       "      <td>0.014642</td>\n",
       "      <td>0.028173</td>\n",
       "      <td>0.040309</td>\n",
       "      <td>0.041879</td>\n",
       "      <td>0.045798</td>\n",
       "      <td>0.054829</td>\n",
       "      <td>0.063182</td>\n",
       "      <td>...</td>\n",
       "      <td>0.684280</td>\n",
       "      <td>0.689568</td>\n",
       "      <td>0.696380</td>\n",
       "      <td>0.721488</td>\n",
       "      <td>0.721488</td>\n",
       "      <td>0.725310</td>\n",
       "      <td>0.731434</td>\n",
       "      <td>0.752185</td>\n",
       "      <td>0.782372</td>\n",
       "      <td>0.794825</td>\n",
       "    </tr>\n",
       "    <tr>\n",
       "      <th>96</th>\n",
       "      <td>0.010038</td>\n",
       "      <td>0.010283</td>\n",
       "      <td>0.010338</td>\n",
       "      <td>0.014739</td>\n",
       "      <td>0.028451</td>\n",
       "      <td>0.040720</td>\n",
       "      <td>0.042307</td>\n",
       "      <td>0.046267</td>\n",
       "      <td>0.055393</td>\n",
       "      <td>0.063835</td>\n",
       "      <td>...</td>\n",
       "      <td>0.691458</td>\n",
       "      <td>0.696791</td>\n",
       "      <td>0.703662</td>\n",
       "      <td>0.728987</td>\n",
       "      <td>0.728987</td>\n",
       "      <td>0.732841</td>\n",
       "      <td>0.739018</td>\n",
       "      <td>0.759944</td>\n",
       "      <td>0.790383</td>\n",
       "      <td>0.802940</td>\n",
       "    </tr>\n",
       "    <tr>\n",
       "      <th>97</th>\n",
       "      <td>0.010037</td>\n",
       "      <td>0.010281</td>\n",
       "      <td>0.010336</td>\n",
       "      <td>0.014719</td>\n",
       "      <td>0.028394</td>\n",
       "      <td>0.040637</td>\n",
       "      <td>0.042220</td>\n",
       "      <td>0.046172</td>\n",
       "      <td>0.055279</td>\n",
       "      <td>0.063703</td>\n",
       "      <td>...</td>\n",
       "      <td>0.690003</td>\n",
       "      <td>0.695327</td>\n",
       "      <td>0.702187</td>\n",
       "      <td>0.727467</td>\n",
       "      <td>0.727467</td>\n",
       "      <td>0.731315</td>\n",
       "      <td>0.737481</td>\n",
       "      <td>0.758372</td>\n",
       "      <td>0.788760</td>\n",
       "      <td>0.801296</td>\n",
       "    </tr>\n",
       "    <tr>\n",
       "      <th>98</th>\n",
       "      <td>0.010040</td>\n",
       "      <td>0.010295</td>\n",
       "      <td>0.010352</td>\n",
       "      <td>0.014891</td>\n",
       "      <td>0.028886</td>\n",
       "      <td>0.041365</td>\n",
       "      <td>0.042978</td>\n",
       "      <td>0.047003</td>\n",
       "      <td>0.056279</td>\n",
       "      <td>0.064861</td>\n",
       "      <td>...</td>\n",
       "      <td>0.702696</td>\n",
       "      <td>0.708101</td>\n",
       "      <td>0.715065</td>\n",
       "      <td>0.740726</td>\n",
       "      <td>0.740726</td>\n",
       "      <td>0.744632</td>\n",
       "      <td>0.750889</td>\n",
       "      <td>0.772089</td>\n",
       "      <td>0.802922</td>\n",
       "      <td>0.815638</td>\n",
       "    </tr>\n",
       "    <tr>\n",
       "      <th>99</th>\n",
       "      <td>0.010039</td>\n",
       "      <td>0.010291</td>\n",
       "      <td>0.010348</td>\n",
       "      <td>0.014841</td>\n",
       "      <td>0.028744</td>\n",
       "      <td>0.041154</td>\n",
       "      <td>0.042758</td>\n",
       "      <td>0.046762</td>\n",
       "      <td>0.055989</td>\n",
       "      <td>0.064525</td>\n",
       "      <td>...</td>\n",
       "      <td>0.699017</td>\n",
       "      <td>0.704398</td>\n",
       "      <td>0.711332</td>\n",
       "      <td>0.736883</td>\n",
       "      <td>0.736883</td>\n",
       "      <td>0.740772</td>\n",
       "      <td>0.747003</td>\n",
       "      <td>0.768114</td>\n",
       "      <td>0.798817</td>\n",
       "      <td>0.811482</td>\n",
       "    </tr>\n",
       "  </tbody>\n",
       "</table>\n",
       "<p>100 rows × 100 columns</p>\n",
       "</div>"
      ],
      "text/plain": [
       "    1.433333   2.400000   2.500000   4.866667   7.866667   9.833333   \\\n",
       "0    0.010038   0.010283   0.010338   0.014739   0.028451   0.040720   \n",
       "1    0.010036   0.010276   0.010330   0.014654   0.028206   0.040357   \n",
       "2    0.010038   0.010283   0.010338   0.014739   0.028451   0.040720   \n",
       "3    0.010037   0.010278   0.010332   0.014675   0.028266   0.040446   \n",
       "4    0.010039   0.010289   0.010346   0.014819   0.028681   0.041061   \n",
       "..        ...        ...        ...        ...        ...        ...   \n",
       "95   0.010036   0.010275   0.010329   0.014642   0.028173   0.040309   \n",
       "96   0.010038   0.010283   0.010338   0.014739   0.028451   0.040720   \n",
       "97   0.010037   0.010281   0.010336   0.014719   0.028394   0.040637   \n",
       "98   0.010040   0.010295   0.010352   0.014891   0.028886   0.041365   \n",
       "99   0.010039   0.010291   0.010348   0.014841   0.028744   0.041154   \n",
       "\n",
       "    10.066667  10.633333  11.866667  12.933333  ...  50.666668  50.900002  \\\n",
       "0    0.042307   0.046267   0.055393   0.063835  ...   0.691458   0.696791   \n",
       "1    0.041929   0.045852   0.054894   0.063258  ...   0.685115   0.690408   \n",
       "2    0.042307   0.046267   0.055393   0.063835  ...   0.691458   0.696791   \n",
       "3    0.042022   0.045955   0.055017   0.063400  ...   0.686681   0.691984   \n",
       "4    0.042662   0.046656   0.055862   0.064377  ...   0.697403   0.702775   \n",
       "..        ...        ...        ...        ...  ...        ...        ...   \n",
       "95   0.041879   0.045798   0.054829   0.063182  ...   0.684280   0.689568   \n",
       "96   0.042307   0.046267   0.055393   0.063835  ...   0.691458   0.696791   \n",
       "97   0.042220   0.046172   0.055279   0.063703  ...   0.690003   0.695327   \n",
       "98   0.042978   0.047003   0.056279   0.064861  ...   0.702696   0.708101   \n",
       "99   0.042758   0.046762   0.055989   0.064525  ...   0.699017   0.704398   \n",
       "\n",
       "    51.200001  52.299999  52.299999  52.466667  52.733334  53.633335  \\\n",
       "0    0.703662   0.728987   0.728987   0.732841   0.739018   0.759944   \n",
       "1    0.697227   0.722360   0.722360   0.726186   0.732316   0.753088   \n",
       "2    0.703662   0.728987   0.728987   0.732841   0.739018   0.759944   \n",
       "3    0.698816   0.723997   0.723997   0.727829   0.733971   0.754781   \n",
       "4    0.709695   0.735198   0.735198   0.739079   0.745299   0.766370   \n",
       "..        ...        ...        ...        ...        ...        ...   \n",
       "95   0.696380   0.721488   0.721488   0.725310   0.731434   0.752185   \n",
       "96   0.703662   0.728987   0.728987   0.732841   0.739018   0.759944   \n",
       "97   0.702187   0.727467   0.727467   0.731315   0.737481   0.758372   \n",
       "98   0.715065   0.740726   0.740726   0.744632   0.750889   0.772089   \n",
       "99   0.711332   0.736883   0.736883   0.740772   0.747003   0.768114   \n",
       "\n",
       "    54.933334  55.466667  \n",
       "0    0.790383   0.802940  \n",
       "1    0.783304   0.795769  \n",
       "2    0.790383   0.802940  \n",
       "3    0.785052   0.797540  \n",
       "4    0.797018   0.809659  \n",
       "..        ...        ...  \n",
       "95   0.782372   0.794825  \n",
       "96   0.790383   0.802940  \n",
       "97   0.788760   0.801296  \n",
       "98   0.802922   0.815638  \n",
       "99   0.798817   0.811482  \n",
       "\n",
       "[100 rows x 100 columns]"
      ]
     },
     "execution_count": 11,
     "metadata": {},
     "output_type": "execute_result"
    }
   ],
   "source": [
    "df_cum_hazards"
   ]
  },
  {
   "attachments": {},
   "cell_type": "markdown",
   "metadata": {},
   "source": [
    "## Predict Survival Function"
   ]
  },
  {
   "cell_type": "code",
   "execution_count": null,
   "metadata": {},
   "outputs": [
    {
     "ename": "KeyboardInterrupt",
     "evalue": "",
     "output_type": "error",
     "traceback": [
      "\u001b[0;31m---------------------------------------------------------------------------\u001b[0m",
      "\u001b[0;31mKeyboardInterrupt\u001b[0m                         Traceback (most recent call last)",
      "Cell \u001b[0;32mIn[12], line 1\u001b[0m\n\u001b[0;32m----> 1\u001b[0m df_survival_function \u001b[39m=\u001b[39m model\u001b[39m.\u001b[39;49mpredict_survival_function(X_train, X_test, y_train, y_test)\n\u001b[1;32m      2\u001b[0m df_survival_function\u001b[39m.\u001b[39mtail(\u001b[39m3\u001b[39m)\n",
      "File \u001b[0;32m~/miniconda3/envs/xgbsurv/lib/python3.10/site-packages/xgbsurv/base.py:130\u001b[0m, in \u001b[0;36mXGBSurv.predict_survival_function\u001b[0;34m(self, X_train, X_test, y_train, y_test)\u001b[0m\n\u001b[1;32m    128\u001b[0m X_train, y_train \u001b[39m=\u001b[39m \u001b[39mself\u001b[39m\u001b[39m.\u001b[39m_sort_X_y(X_train, y_train)\n\u001b[1;32m    129\u001b[0m X_test, y_test \u001b[39m=\u001b[39m \u001b[39mself\u001b[39m\u001b[39m.\u001b[39m_sort_X_y(X_test, y_test)\n\u001b[0;32m--> 130\u001b[0m df_cumulative_hazard \u001b[39m=\u001b[39m \u001b[39mself\u001b[39;49m\u001b[39m.\u001b[39;49mpredict_cumulative_hazard_function(X_train, \n\u001b[1;32m    131\u001b[0m     X_test, y_train, y_test)\n\u001b[1;32m    132\u001b[0m \u001b[39mreturn\u001b[39;00m np\u001b[39m.\u001b[39mexp(\u001b[39m-\u001b[39mdf_cumulative_hazard)\n",
      "File \u001b[0;32m~/miniconda3/envs/xgbsurv/lib/python3.10/site-packages/xgbsurv/base.py:112\u001b[0m, in \u001b[0;36mXGBSurv.predict_cumulative_hazard_function\u001b[0;34m(self, X_train, X_test, y_train, y_test)\u001b[0m\n\u001b[1;32m    110\u001b[0m     train_pred_hazards \u001b[39m=\u001b[39m \u001b[39msuper\u001b[39m(XGBSurv, \u001b[39mself\u001b[39m)\u001b[39m.\u001b[39mpredict(X_train, output_margin\u001b[39m=\u001b[39m\u001b[39mTrue\u001b[39;00m)\n\u001b[1;32m    111\u001b[0m     test_pred_hazards \u001b[39m=\u001b[39m \u001b[39msuper\u001b[39m(XGBSurv, \u001b[39mself\u001b[39m)\u001b[39m.\u001b[39mpredict(X_test, output_margin\u001b[39m=\u001b[39m\u001b[39mTrue\u001b[39;00m)\n\u001b[0;32m--> 112\u001b[0m     \u001b[39mreturn\u001b[39;00m pred_dict[\u001b[39mstr\u001b[39;49m(\u001b[39mself\u001b[39;49m\u001b[39m.\u001b[39;49mmodel_type)](X_train, \n\u001b[1;32m    113\u001b[0m     X_test, y_train, y_test,\n\u001b[1;32m    114\u001b[0m     train_pred_hazards, test_pred_hazards\n\u001b[1;32m    115\u001b[0m     )\n\u001b[1;32m    116\u001b[0m \u001b[39melse\u001b[39;00m:\n\u001b[1;32m    117\u001b[0m     \u001b[39mraise\u001b[39;00m \u001b[39mNotImplementedError\u001b[39;00m(\u001b[39m\"\u001b[39m\u001b[39mCumulative hazard not applicable to the model you provided.\u001b[39m\u001b[39m\"\u001b[39m)\n",
      "File \u001b[0;32m~/miniconda3/envs/xgbsurv/lib/python3.10/site-packages/xgbsurv/models/eh_aft_final.py:465\u001b[0m, in \u001b[0;36maft_get_cumulative_hazard_function\u001b[0;34m(X_train, X_test, y_train, y_test, predictor_train, predictor_test)\u001b[0m\n\u001b[1;32m    462\u001b[0m             cumulative_hazard[_, ix] \u001b[39m=\u001b[39m \u001b[39m0.0\u001b[39m\n\u001b[1;32m    463\u001b[0m         \u001b[39melse\u001b[39;00m:\n\u001b[1;32m    464\u001b[0m             \u001b[39m#print(cumulative_hazard)\u001b[39;00m\n\u001b[0;32m--> 465\u001b[0m             cumulative_hazard[_, ix] \u001b[39m=\u001b[39m quad(\n\u001b[1;32m    466\u001b[0m                aft_baseline_hazard_estimator, \u001b[39m0\u001b[39;49m, q \u001b[39m*\u001b[39;49m predictor_test[_],\n\u001b[1;32m    467\u001b[0m                args\u001b[39m=\u001b[39;49m(time_train, event_train, predictor_train)\n\u001b[1;32m    468\u001b[0m             )[\u001b[39m0\u001b[39m]\n\u001b[1;32m    469\u001b[0m \u001b[39mif\u001b[39;00m zero_flag:\n\u001b[1;32m    470\u001b[0m     cumulative_hazard \u001b[39m=\u001b[39m cumulative_hazard[:, \u001b[39m1\u001b[39m:]\n",
      "File \u001b[0;32m~/miniconda3/envs/xgbsurv/lib/python3.10/site-packages/scipy/integrate/_quadpack_py.py:463\u001b[0m, in \u001b[0;36mquad\u001b[0;34m(func, a, b, args, full_output, epsabs, epsrel, limit, points, weight, wvar, wopts, maxp1, limlst, complex_func)\u001b[0m\n\u001b[1;32m    460\u001b[0m     \u001b[39mreturn\u001b[39;00m retval\n\u001b[1;32m    462\u001b[0m \u001b[39mif\u001b[39;00m weight \u001b[39mis\u001b[39;00m \u001b[39mNone\u001b[39;00m:\n\u001b[0;32m--> 463\u001b[0m     retval \u001b[39m=\u001b[39m _quad(func, a, b, args, full_output, epsabs, epsrel, limit,\n\u001b[1;32m    464\u001b[0m                    points)\n\u001b[1;32m    465\u001b[0m \u001b[39melse\u001b[39;00m:\n\u001b[1;32m    466\u001b[0m     \u001b[39mif\u001b[39;00m points \u001b[39mis\u001b[39;00m \u001b[39mnot\u001b[39;00m \u001b[39mNone\u001b[39;00m:\n",
      "File \u001b[0;32m~/miniconda3/envs/xgbsurv/lib/python3.10/site-packages/scipy/integrate/_quadpack_py.py:575\u001b[0m, in \u001b[0;36m_quad\u001b[0;34m(func, a, b, args, full_output, epsabs, epsrel, limit, points)\u001b[0m\n\u001b[1;32m    573\u001b[0m \u001b[39mif\u001b[39;00m points \u001b[39mis\u001b[39;00m \u001b[39mNone\u001b[39;00m:\n\u001b[1;32m    574\u001b[0m     \u001b[39mif\u001b[39;00m infbounds \u001b[39m==\u001b[39m \u001b[39m0\u001b[39m:\n\u001b[0;32m--> 575\u001b[0m         \u001b[39mreturn\u001b[39;00m _quadpack\u001b[39m.\u001b[39;49m_qagse(func,a,b,args,full_output,epsabs,epsrel,limit)\n\u001b[1;32m    576\u001b[0m     \u001b[39melse\u001b[39;00m:\n\u001b[1;32m    577\u001b[0m         \u001b[39mreturn\u001b[39;00m _quadpack\u001b[39m.\u001b[39m_qagie(func,bound,infbounds,args,full_output,epsabs,epsrel,limit)\n",
      "File \u001b[0;32m~/miniconda3/envs/xgbsurv/lib/python3.10/site-packages/xgbsurv/models/eh_aft_final.py:367\u001b[0m, in \u001b[0;36maft_baseline_hazard_estimator\u001b[0;34m(time, time_train, event_train, predictor_train)\u001b[0m\n\u001b[1;32m    365\u001b[0m \u001b[39mfor\u001b[39;00m _ \u001b[39min\u001b[39;00m \u001b[39mrange\u001b[39m(n_samples):\n\u001b[1;32m    366\u001b[0m     difference_div: \u001b[39mfloat\u001b[39m \u001b[39m=\u001b[39m difference_lp_log_time[_]\n\u001b[0;32m--> 367\u001b[0m     denominator \u001b[39m+\u001b[39m\u001b[39m=\u001b[39m gaussian_integrated_kernel(difference_div)\n\u001b[1;32m    368\u001b[0m     \u001b[39mif\u001b[39;00m event_train[_]:\n\u001b[1;32m    369\u001b[0m         numerator \u001b[39m+\u001b[39m\u001b[39m=\u001b[39m gaussian_kernel(difference_div)\n",
      "\u001b[0;31mKeyboardInterrupt\u001b[0m: "
     ]
    }
   ],
   "source": [
    "df_survival_function = model.predict_survival_function(X_train, X_test, y_train, y_test)\n",
    "df_survival_function.tail(3)"
   ]
  },
  {
   "attachments": {},
   "cell_type": "markdown",
   "metadata": {},
   "source": [
    "### Visualize Predictions"
   ]
  },
  {
   "cell_type": "code",
   "execution_count": null,
   "metadata": {},
   "outputs": [
    {
     "ename": "NameError",
     "evalue": "name 'df_survival_function' is not defined",
     "output_type": "error",
     "traceback": [
      "\u001b[0;31m---------------------------------------------------------------------------\u001b[0m",
      "\u001b[0;31mNameError\u001b[0m                                 Traceback (most recent call last)",
      "Cell \u001b[0;32mIn[22], line 1\u001b[0m\n\u001b[0;32m----> 1\u001b[0m df_survival_function\u001b[39m.\u001b[39miloc[:, :\u001b[39m5\u001b[39m]\u001b[39m.\u001b[39mplot(drawstyle\u001b[39m=\u001b[39m\u001b[39m'\u001b[39m\u001b[39msteps-post\u001b[39m\u001b[39m'\u001b[39m)\n\u001b[1;32m      2\u001b[0m plt\u001b[39m.\u001b[39mylabel(\u001b[39m'\u001b[39m\u001b[39mS(t | x)\u001b[39m\u001b[39m'\u001b[39m)\n\u001b[1;32m      3\u001b[0m _ \u001b[39m=\u001b[39m plt\u001b[39m.\u001b[39mxlabel(\u001b[39m'\u001b[39m\u001b[39mTime\u001b[39m\u001b[39m'\u001b[39m)\n",
      "\u001b[0;31mNameError\u001b[0m: name 'df_survival_function' is not defined"
     ]
    }
   ],
   "source": [
    "df_survival_function.iloc[:, :5].plot(drawstyle='steps-post')\n",
    "plt.ylabel('S(t | x)')\n",
    "_ = plt.xlabel('Time')\n",
    "plt.title(\"Survival Curve Test Set\")"
   ]
  },
  {
   "attachments": {},
   "cell_type": "markdown",
   "metadata": {},
   "source": [
    "## Evaluate"
   ]
  },
  {
   "cell_type": "code",
   "execution_count": null,
   "metadata": {},
   "outputs": [
    {
     "ename": "NameError",
     "evalue": "name 'df_survival_function' is not defined",
     "output_type": "error",
     "traceback": [
      "\u001b[0;31m---------------------------------------------------------------------------\u001b[0m",
      "\u001b[0;31mNameError\u001b[0m                                 Traceback (most recent call last)",
      "Cell \u001b[0;32mIn[23], line 3\u001b[0m\n\u001b[1;32m      1\u001b[0m durations_test, events_test \u001b[39m=\u001b[39m transform_back(y_test)\n\u001b[1;32m      2\u001b[0m time_grid \u001b[39m=\u001b[39m np\u001b[39m.\u001b[39mlinspace(durations_test\u001b[39m.\u001b[39mmin(), durations_test\u001b[39m.\u001b[39mmax(), \u001b[39m100\u001b[39m)\n\u001b[0;32m----> 3\u001b[0m ev \u001b[39m=\u001b[39m EvalSurv(df_survival_function, durations_test, events_test, censor_surv\u001b[39m=\u001b[39m\u001b[39m'\u001b[39m\u001b[39mkm\u001b[39m\u001b[39m'\u001b[39m)\n\u001b[1;32m      4\u001b[0m \u001b[39mprint\u001b[39m(\u001b[39m'\u001b[39m\u001b[39mConcordance Index\u001b[39m\u001b[39m'\u001b[39m,ev\u001b[39m.\u001b[39mconcordance_td(\u001b[39m'\u001b[39m\u001b[39mantolini\u001b[39m\u001b[39m'\u001b[39m))\n",
      "\u001b[0;31mNameError\u001b[0m: name 'df_survival_function' is not defined"
     ]
    }
   ],
   "source": [
    "durations_test, events_test = transform_back(y_test)\n",
    "time_grid = np.linspace(durations_test.min(), durations_test.max(), 100)\n",
    "ev = EvalSurv(df_survival_function, durations_test, events_test, censor_surv='km')\n",
    "print('Concordance Index',ev.concordance_td('antolini'))"
   ]
  },
  {
   "cell_type": "code",
   "execution_count": null,
   "metadata": {},
   "outputs": [
    {
     "ename": "NameError",
     "evalue": "name 'ev' is not defined",
     "output_type": "error",
     "traceback": [
      "\u001b[0;31m---------------------------------------------------------------------------\u001b[0m",
      "\u001b[0;31mNameError\u001b[0m                                 Traceback (most recent call last)",
      "Cell \u001b[0;32mIn[24], line 1\u001b[0m\n\u001b[0;32m----> 1\u001b[0m \u001b[39mprint\u001b[39m(\u001b[39m'\u001b[39m\u001b[39mIntegrated Brier Score:\u001b[39m\u001b[39m'\u001b[39m,ev\u001b[39m.\u001b[39mintegrated_brier_score(time_grid))\n",
      "\u001b[0;31mNameError\u001b[0m: name 'ev' is not defined"
     ]
    }
   ],
   "source": [
    "print('Integrated Brier Score:',ev.integrated_brier_score(time_grid))"
   ]
  },
  {
   "cell_type": "code",
   "execution_count": null,
   "metadata": {},
   "outputs": [],
   "source": []
  }
 ],
 "metadata": {
  "kernelspec": {
   "display_name": "xgbsurv",
   "language": "python",
   "name": "python3"
  },
  "language_info": {
   "codemirror_mode": {
    "name": "ipython",
    "version": 3
   },
   "file_extension": ".py",
   "mimetype": "text/x-python",
   "name": "python",
   "nbconvert_exporter": "python",
   "pygments_lexer": "ipython3",
   "version": "3.10.10"
  },
  "orig_nbformat": 4
 },
 "nbformat": 4,
 "nbformat_minor": 2
}
