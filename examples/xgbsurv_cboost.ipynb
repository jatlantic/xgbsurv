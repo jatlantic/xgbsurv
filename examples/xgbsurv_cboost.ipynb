{
 "cells": [
  {
   "attachments": {},
   "cell_type": "markdown",
   "metadata": {},
   "source": [
    "# Introduction to the xgbsurv package - Breslow\n",
    "\n",
    "This notebook introduces `xgbsurv` using a specific dataset. It structured by the following steps:\n",
    "\n",
    "- Load data\n",
    "- Load model\n",
    "- Fit model\n",
    "- Predict and evaluate model\n",
    "\n",
    "The syntax conveniently follows that of sklearn."
   ]
  },
  {
   "cell_type": "code",
   "execution_count": 1,
   "metadata": {},
   "outputs": [],
   "source": [
    "from xgbsurv.datasets import load_metabric\n",
    "from xgbsurv import XGBSurv\n",
    "from xgbsurv.models.utils import sort_X_y, transform_back\n",
    "from xgbsurv.evaluation import cindex_censored\n",
    "from pycox.evaluation import EvalSurv\n",
    "from sklearn.model_selection import train_test_split\n",
    "import numpy as np\n",
    "import matplotlib.pyplot as plt\n",
    "import os\n",
    "current_path = os.getcwd() \n",
    "one_level_up = os.path.abspath(os.path.join(current_path,  \"..\"))"
   ]
  },
  {
   "attachments": {},
   "cell_type": "markdown",
   "metadata": {},
   "source": [
    "## Load Data"
   ]
  },
  {
   "cell_type": "code",
   "execution_count": 2,
   "metadata": {},
   "outputs": [
    {
     "name": "stdout",
     "output_type": "stream",
     "text": [
      "Values are being sorted!\n",
      "Values are being sorted!\n"
     ]
    }
   ],
   "source": [
    "data = load_metabric(path=one_level_up+\"/xgbsurv/datasets/data/\", as_frame=False)\n",
    "# stratify by event indicated by sign\n",
    "target_sign = np.sign(data.target)\n",
    "X_train, X_test, y_train, y_test = train_test_split(data.data, data.target, stratify=target_sign)\n",
    "# sort data\n",
    "X_train, y_train = sort_X_y(X_train, y_train)\n",
    "X_test, y_test = sort_X_y(X_test, y_test)"
   ]
  },
  {
   "attachments": {},
   "cell_type": "markdown",
   "metadata": {},
   "source": [
    "## Load Model"
   ]
  },
  {
   "cell_type": "code",
   "execution_count": 3,
   "metadata": {},
   "outputs": [
    {
     "data": {
      "text/html": [
       "<style>#sk-container-id-1 {color: black;background-color: white;}#sk-container-id-1 pre{padding: 0;}#sk-container-id-1 div.sk-toggleable {background-color: white;}#sk-container-id-1 label.sk-toggleable__label {cursor: pointer;display: block;width: 100%;margin-bottom: 0;padding: 0.3em;box-sizing: border-box;text-align: center;}#sk-container-id-1 label.sk-toggleable__label-arrow:before {content: \"▸\";float: left;margin-right: 0.25em;color: #696969;}#sk-container-id-1 label.sk-toggleable__label-arrow:hover:before {color: black;}#sk-container-id-1 div.sk-estimator:hover label.sk-toggleable__label-arrow:before {color: black;}#sk-container-id-1 div.sk-toggleable__content {max-height: 0;max-width: 0;overflow: hidden;text-align: left;background-color: #f0f8ff;}#sk-container-id-1 div.sk-toggleable__content pre {margin: 0.2em;color: black;border-radius: 0.25em;background-color: #f0f8ff;}#sk-container-id-1 input.sk-toggleable__control:checked~div.sk-toggleable__content {max-height: 200px;max-width: 100%;overflow: auto;}#sk-container-id-1 input.sk-toggleable__control:checked~label.sk-toggleable__label-arrow:before {content: \"▾\";}#sk-container-id-1 div.sk-estimator input.sk-toggleable__control:checked~label.sk-toggleable__label {background-color: #d4ebff;}#sk-container-id-1 div.sk-label input.sk-toggleable__control:checked~label.sk-toggleable__label {background-color: #d4ebff;}#sk-container-id-1 input.sk-hidden--visually {border: 0;clip: rect(1px 1px 1px 1px);clip: rect(1px, 1px, 1px, 1px);height: 1px;margin: -1px;overflow: hidden;padding: 0;position: absolute;width: 1px;}#sk-container-id-1 div.sk-estimator {font-family: monospace;background-color: #f0f8ff;border: 1px dotted black;border-radius: 0.25em;box-sizing: border-box;margin-bottom: 0.5em;}#sk-container-id-1 div.sk-estimator:hover {background-color: #d4ebff;}#sk-container-id-1 div.sk-parallel-item::after {content: \"\";width: 100%;border-bottom: 1px solid gray;flex-grow: 1;}#sk-container-id-1 div.sk-label:hover label.sk-toggleable__label {background-color: #d4ebff;}#sk-container-id-1 div.sk-serial::before {content: \"\";position: absolute;border-left: 1px solid gray;box-sizing: border-box;top: 0;bottom: 0;left: 50%;z-index: 0;}#sk-container-id-1 div.sk-serial {display: flex;flex-direction: column;align-items: center;background-color: white;padding-right: 0.2em;padding-left: 0.2em;position: relative;}#sk-container-id-1 div.sk-item {position: relative;z-index: 1;}#sk-container-id-1 div.sk-parallel {display: flex;align-items: stretch;justify-content: center;background-color: white;position: relative;}#sk-container-id-1 div.sk-item::before, #sk-container-id-1 div.sk-parallel-item::before {content: \"\";position: absolute;border-left: 1px solid gray;box-sizing: border-box;top: 0;bottom: 0;left: 50%;z-index: -1;}#sk-container-id-1 div.sk-parallel-item {display: flex;flex-direction: column;z-index: 1;position: relative;background-color: white;}#sk-container-id-1 div.sk-parallel-item:first-child::after {align-self: flex-end;width: 50%;}#sk-container-id-1 div.sk-parallel-item:last-child::after {align-self: flex-start;width: 50%;}#sk-container-id-1 div.sk-parallel-item:only-child::after {width: 0;}#sk-container-id-1 div.sk-dashed-wrapped {border: 1px dashed gray;margin: 0 0.4em 0.5em 0.4em;box-sizing: border-box;padding-bottom: 0.4em;background-color: white;}#sk-container-id-1 div.sk-label label {font-family: monospace;font-weight: bold;display: inline-block;line-height: 1.2em;}#sk-container-id-1 div.sk-label-container {text-align: center;}#sk-container-id-1 div.sk-container {/* jupyter's `normalize.less` sets `[hidden] { display: none; }` but bootstrap.min.css set `[hidden] { display: none !important; }` so we also need the `!important` here to be able to override the default hidden behavior on the sphinx rendered scikit-learn.org. See: https://github.com/scikit-learn/scikit-learn/issues/21755 */display: inline-block !important;position: relative;}#sk-container-id-1 div.sk-text-repr-fallback {display: none;}</style><div id=\"sk-container-id-1\" class=\"sk-top-container\"><div class=\"sk-text-repr-fallback\"><pre>XGBSurv(base_score=None, booster=None, callbacks=None, colsample_bylevel=None,\n",
       "        colsample_bynode=None, colsample_bytree=None,\n",
       "        disable_default_eval_metric=1, early_stopping_rounds=None,\n",
       "        enable_categorical=False,\n",
       "        eval_metric=&lt;function cind_loss at 0x17f6c7420&gt;, feature_types=None,\n",
       "        gamma=None, gpu_id=None, grow_policy=None, importance_type=None,\n",
       "        interaction_constraints=None, learning_rate=0.3, max_bin=None,\n",
       "        max_cat_threshold=None, max_cat_to_onehot=None, max_delta_step=None,\n",
       "        max_depth=None, max_leaves=None, min_child_weight=None, missing=nan,\n",
       "        monotone_constraints=None, n_estimators=100, n_jobs=None,\n",
       "        num_parallel_tree=None,\n",
       "        objective=&lt;function cind_objective at 0x17f6c7600&gt;, ...)</pre><b>In a Jupyter environment, please rerun this cell to show the HTML representation or trust the notebook. <br />On GitHub, the HTML representation is unable to render, please try loading this page with nbviewer.org.</b></div><div class=\"sk-container\" hidden><div class=\"sk-item\"><div class=\"sk-estimator sk-toggleable\"><input class=\"sk-toggleable__control sk-hidden--visually\" id=\"sk-estimator-id-1\" type=\"checkbox\" checked><label for=\"sk-estimator-id-1\" class=\"sk-toggleable__label sk-toggleable__label-arrow\">XGBSurv</label><div class=\"sk-toggleable__content\"><pre>XGBSurv(base_score=None, booster=None, callbacks=None, colsample_bylevel=None,\n",
       "        colsample_bynode=None, colsample_bytree=None,\n",
       "        disable_default_eval_metric=1, early_stopping_rounds=None,\n",
       "        enable_categorical=False,\n",
       "        eval_metric=&lt;function cind_loss at 0x17f6c7420&gt;, feature_types=None,\n",
       "        gamma=None, gpu_id=None, grow_policy=None, importance_type=None,\n",
       "        interaction_constraints=None, learning_rate=0.3, max_bin=None,\n",
       "        max_cat_threshold=None, max_cat_to_onehot=None, max_delta_step=None,\n",
       "        max_depth=None, max_leaves=None, min_child_weight=None, missing=nan,\n",
       "        monotone_constraints=None, n_estimators=100, n_jobs=None,\n",
       "        num_parallel_tree=None,\n",
       "        objective=&lt;function cind_objective at 0x17f6c7600&gt;, ...)</pre></div></div></div></div></div>"
      ],
      "text/plain": [
       "XGBSurv(base_score=None, booster=None, callbacks=None, colsample_bylevel=None,\n",
       "        colsample_bynode=None, colsample_bytree=None,\n",
       "        disable_default_eval_metric=1, early_stopping_rounds=None,\n",
       "        enable_categorical=False,\n",
       "        eval_metric=<function cind_loss at 0x17f6c7420>, feature_types=None,\n",
       "        gamma=None, gpu_id=None, grow_policy=None, importance_type=None,\n",
       "        interaction_constraints=None, learning_rate=0.3, max_bin=None,\n",
       "        max_cat_threshold=None, max_cat_to_onehot=None, max_delta_step=None,\n",
       "        max_depth=None, max_leaves=None, min_child_weight=None, missing=nan,\n",
       "        monotone_constraints=None, n_estimators=100, n_jobs=None,\n",
       "        num_parallel_tree=None,\n",
       "        objective=<function cind_objective at 0x17f6c7600>, ...)"
      ]
     },
     "execution_count": 3,
     "metadata": {},
     "output_type": "execute_result"
    }
   ],
   "source": [
    "model = XGBSurv(n_estimators=100, objective=\"cind_objective\",\n",
    "                                             eval_metric=\"cind_loss\",\n",
    "                                             learning_rate=0.3,\n",
    "                                             random_state=42, \n",
    "                                             disable_default_eval_metric=1,\n",
    "                                             )\n",
    "model"
   ]
  },
  {
   "attachments": {},
   "cell_type": "markdown",
   "metadata": {},
   "source": [
    "The options of loss and objective functions can be obtained like below:"
   ]
  },
  {
   "cell_type": "code",
   "execution_count": 4,
   "metadata": {},
   "outputs": [
    {
     "name": "stdout",
     "output_type": "stream",
     "text": [
      "dict_keys(['breslow_loss', 'efron_loss', 'cind_loss', 'deephit_loss', 'aft_loss', 'ah_loss', 'eh_loss'])\n",
      "dict_keys(['breslow_objective', 'efron_objective', 'cind_objective', 'deephit_objective', 'aft_objective', 'ah_objective', 'eh_objective'])\n"
     ]
    }
   ],
   "source": [
    "print(model.get_loss_functions().keys())\n",
    "print(model.get_objective_functions().keys())"
   ]
  },
  {
   "attachments": {},
   "cell_type": "markdown",
   "metadata": {},
   "source": [
    "## Fit Model"
   ]
  },
  {
   "cell_type": "code",
   "execution_count": 5,
   "metadata": {},
   "outputs": [],
   "source": [
    "eval_set = [(X_train, y_train)]"
   ]
  },
  {
   "cell_type": "code",
   "execution_count": 6,
   "metadata": {},
   "outputs": [
    {
     "name": "stdout",
     "output_type": "stream",
     "text": [
      "[0]\tvalidation_0-cind_loss:404.66783\n",
      "[1]\tvalidation_0-cind_loss:396.11028\n",
      "[2]\tvalidation_0-cind_loss:387.63888\n",
      "[3]\tvalidation_0-cind_loss:379.63556\n",
      "[4]\tvalidation_0-cind_loss:372.38694\n",
      "[5]\tvalidation_0-cind_loss:366.03649\n",
      "[6]\tvalidation_0-cind_loss:359.61474\n",
      "[7]\tvalidation_0-cind_loss:353.44977\n",
      "[8]\tvalidation_0-cind_loss:346.26213\n",
      "[9]\tvalidation_0-cind_loss:341.04881\n",
      "[10]\tvalidation_0-cind_loss:334.59096\n",
      "[11]\tvalidation_0-cind_loss:328.60658\n",
      "[12]\tvalidation_0-cind_loss:323.84192\n",
      "[13]\tvalidation_0-cind_loss:318.44819\n",
      "[14]\tvalidation_0-cind_loss:314.17773\n",
      "[15]\tvalidation_0-cind_loss:309.88120\n",
      "[16]\tvalidation_0-cind_loss:305.99119\n",
      "[17]\tvalidation_0-cind_loss:301.45461\n",
      "[18]\tvalidation_0-cind_loss:297.89785\n",
      "[19]\tvalidation_0-cind_loss:294.66603\n",
      "[20]\tvalidation_0-cind_loss:290.59012\n",
      "[21]\tvalidation_0-cind_loss:286.79064\n",
      "[22]\tvalidation_0-cind_loss:283.26882\n",
      "[23]\tvalidation_0-cind_loss:279.81337\n",
      "[24]\tvalidation_0-cind_loss:276.47015\n",
      "[25]\tvalidation_0-cind_loss:273.30644\n",
      "[26]\tvalidation_0-cind_loss:270.47878\n",
      "[27]\tvalidation_0-cind_loss:267.78543\n",
      "[28]\tvalidation_0-cind_loss:264.83318\n",
      "[29]\tvalidation_0-cind_loss:262.41585\n",
      "[30]\tvalidation_0-cind_loss:259.93856\n",
      "[31]\tvalidation_0-cind_loss:257.90465\n",
      "[32]\tvalidation_0-cind_loss:255.76839\n",
      "[33]\tvalidation_0-cind_loss:253.23400\n",
      "[34]\tvalidation_0-cind_loss:251.35043\n",
      "[35]\tvalidation_0-cind_loss:249.37372\n",
      "[36]\tvalidation_0-cind_loss:247.09221\n",
      "[37]\tvalidation_0-cind_loss:245.33151\n",
      "[38]\tvalidation_0-cind_loss:243.70667\n",
      "[39]\tvalidation_0-cind_loss:242.07373\n",
      "[40]\tvalidation_0-cind_loss:240.33720\n",
      "[41]\tvalidation_0-cind_loss:238.89805\n",
      "[42]\tvalidation_0-cind_loss:237.39322\n",
      "[43]\tvalidation_0-cind_loss:236.11935\n",
      "[44]\tvalidation_0-cind_loss:234.73321\n",
      "[45]\tvalidation_0-cind_loss:233.63211\n",
      "[46]\tvalidation_0-cind_loss:232.22389\n",
      "[47]\tvalidation_0-cind_loss:230.95248\n",
      "[48]\tvalidation_0-cind_loss:230.13529\n",
      "[49]\tvalidation_0-cind_loss:229.39255\n",
      "[50]\tvalidation_0-cind_loss:227.91375\n",
      "[51]\tvalidation_0-cind_loss:226.97587\n",
      "[52]\tvalidation_0-cind_loss:225.73302\n",
      "[53]\tvalidation_0-cind_loss:224.84136\n",
      "[54]\tvalidation_0-cind_loss:224.03134\n",
      "[55]\tvalidation_0-cind_loss:223.42652\n",
      "[56]\tvalidation_0-cind_loss:222.19183\n",
      "[57]\tvalidation_0-cind_loss:221.53033\n",
      "[58]\tvalidation_0-cind_loss:220.91214\n",
      "[59]\tvalidation_0-cind_loss:220.02373\n",
      "[60]\tvalidation_0-cind_loss:219.50966\n",
      "[61]\tvalidation_0-cind_loss:218.04752\n",
      "[62]\tvalidation_0-cind_loss:217.58708\n",
      "[63]\tvalidation_0-cind_loss:216.69422\n",
      "[64]\tvalidation_0-cind_loss:216.19108\n",
      "[65]\tvalidation_0-cind_loss:215.55641\n",
      "[66]\tvalidation_0-cind_loss:215.04157\n",
      "[67]\tvalidation_0-cind_loss:213.36933\n",
      "[68]\tvalidation_0-cind_loss:211.74338\n",
      "[69]\tvalidation_0-cind_loss:210.71179\n",
      "[70]\tvalidation_0-cind_loss:210.08332\n",
      "[71]\tvalidation_0-cind_loss:208.13398\n",
      "[72]\tvalidation_0-cind_loss:206.31163\n",
      "[73]\tvalidation_0-cind_loss:204.81994\n",
      "[74]\tvalidation_0-cind_loss:203.75695\n",
      "[75]\tvalidation_0-cind_loss:202.76539\n",
      "[76]\tvalidation_0-cind_loss:201.78718\n",
      "[77]\tvalidation_0-cind_loss:200.77292\n",
      "[78]\tvalidation_0-cind_loss:200.07458\n",
      "[79]\tvalidation_0-cind_loss:199.17004\n",
      "[80]\tvalidation_0-cind_loss:198.34839\n",
      "[81]\tvalidation_0-cind_loss:196.95506\n",
      "[82]\tvalidation_0-cind_loss:196.08942\n",
      "[83]\tvalidation_0-cind_loss:195.30376\n",
      "[84]\tvalidation_0-cind_loss:194.26920\n",
      "[85]\tvalidation_0-cind_loss:193.66665\n",
      "[86]\tvalidation_0-cind_loss:193.01928\n",
      "[87]\tvalidation_0-cind_loss:192.44932\n",
      "[88]\tvalidation_0-cind_loss:191.96288\n",
      "[89]\tvalidation_0-cind_loss:191.30363\n",
      "[90]\tvalidation_0-cind_loss:190.93611\n",
      "[91]\tvalidation_0-cind_loss:190.33642\n",
      "[92]\tvalidation_0-cind_loss:189.46565\n",
      "[93]\tvalidation_0-cind_loss:188.56133\n",
      "[94]\tvalidation_0-cind_loss:187.92295\n",
      "[95]\tvalidation_0-cind_loss:187.39102\n",
      "[96]\tvalidation_0-cind_loss:186.82092\n",
      "[97]\tvalidation_0-cind_loss:185.99701\n",
      "[98]\tvalidation_0-cind_loss:185.27652\n",
      "[99]\tvalidation_0-cind_loss:184.81209\n"
     ]
    },
    {
     "data": {
      "text/html": [
       "<style>#sk-container-id-2 {color: black;background-color: white;}#sk-container-id-2 pre{padding: 0;}#sk-container-id-2 div.sk-toggleable {background-color: white;}#sk-container-id-2 label.sk-toggleable__label {cursor: pointer;display: block;width: 100%;margin-bottom: 0;padding: 0.3em;box-sizing: border-box;text-align: center;}#sk-container-id-2 label.sk-toggleable__label-arrow:before {content: \"▸\";float: left;margin-right: 0.25em;color: #696969;}#sk-container-id-2 label.sk-toggleable__label-arrow:hover:before {color: black;}#sk-container-id-2 div.sk-estimator:hover label.sk-toggleable__label-arrow:before {color: black;}#sk-container-id-2 div.sk-toggleable__content {max-height: 0;max-width: 0;overflow: hidden;text-align: left;background-color: #f0f8ff;}#sk-container-id-2 div.sk-toggleable__content pre {margin: 0.2em;color: black;border-radius: 0.25em;background-color: #f0f8ff;}#sk-container-id-2 input.sk-toggleable__control:checked~div.sk-toggleable__content {max-height: 200px;max-width: 100%;overflow: auto;}#sk-container-id-2 input.sk-toggleable__control:checked~label.sk-toggleable__label-arrow:before {content: \"▾\";}#sk-container-id-2 div.sk-estimator input.sk-toggleable__control:checked~label.sk-toggleable__label {background-color: #d4ebff;}#sk-container-id-2 div.sk-label input.sk-toggleable__control:checked~label.sk-toggleable__label {background-color: #d4ebff;}#sk-container-id-2 input.sk-hidden--visually {border: 0;clip: rect(1px 1px 1px 1px);clip: rect(1px, 1px, 1px, 1px);height: 1px;margin: -1px;overflow: hidden;padding: 0;position: absolute;width: 1px;}#sk-container-id-2 div.sk-estimator {font-family: monospace;background-color: #f0f8ff;border: 1px dotted black;border-radius: 0.25em;box-sizing: border-box;margin-bottom: 0.5em;}#sk-container-id-2 div.sk-estimator:hover {background-color: #d4ebff;}#sk-container-id-2 div.sk-parallel-item::after {content: \"\";width: 100%;border-bottom: 1px solid gray;flex-grow: 1;}#sk-container-id-2 div.sk-label:hover label.sk-toggleable__label {background-color: #d4ebff;}#sk-container-id-2 div.sk-serial::before {content: \"\";position: absolute;border-left: 1px solid gray;box-sizing: border-box;top: 0;bottom: 0;left: 50%;z-index: 0;}#sk-container-id-2 div.sk-serial {display: flex;flex-direction: column;align-items: center;background-color: white;padding-right: 0.2em;padding-left: 0.2em;position: relative;}#sk-container-id-2 div.sk-item {position: relative;z-index: 1;}#sk-container-id-2 div.sk-parallel {display: flex;align-items: stretch;justify-content: center;background-color: white;position: relative;}#sk-container-id-2 div.sk-item::before, #sk-container-id-2 div.sk-parallel-item::before {content: \"\";position: absolute;border-left: 1px solid gray;box-sizing: border-box;top: 0;bottom: 0;left: 50%;z-index: -1;}#sk-container-id-2 div.sk-parallel-item {display: flex;flex-direction: column;z-index: 1;position: relative;background-color: white;}#sk-container-id-2 div.sk-parallel-item:first-child::after {align-self: flex-end;width: 50%;}#sk-container-id-2 div.sk-parallel-item:last-child::after {align-self: flex-start;width: 50%;}#sk-container-id-2 div.sk-parallel-item:only-child::after {width: 0;}#sk-container-id-2 div.sk-dashed-wrapped {border: 1px dashed gray;margin: 0 0.4em 0.5em 0.4em;box-sizing: border-box;padding-bottom: 0.4em;background-color: white;}#sk-container-id-2 div.sk-label label {font-family: monospace;font-weight: bold;display: inline-block;line-height: 1.2em;}#sk-container-id-2 div.sk-label-container {text-align: center;}#sk-container-id-2 div.sk-container {/* jupyter's `normalize.less` sets `[hidden] { display: none; }` but bootstrap.min.css set `[hidden] { display: none !important; }` so we also need the `!important` here to be able to override the default hidden behavior on the sphinx rendered scikit-learn.org. See: https://github.com/scikit-learn/scikit-learn/issues/21755 */display: inline-block !important;position: relative;}#sk-container-id-2 div.sk-text-repr-fallback {display: none;}</style><div id=\"sk-container-id-2\" class=\"sk-top-container\"><div class=\"sk-text-repr-fallback\"><pre>XGBSurv(base_score=None, booster=None, callbacks=None, colsample_bylevel=None,\n",
       "        colsample_bynode=None, colsample_bytree=None,\n",
       "        disable_default_eval_metric=1, early_stopping_rounds=None,\n",
       "        enable_categorical=False,\n",
       "        eval_metric=&lt;function cind_loss at 0x17f6c7420&gt;, feature_types=None,\n",
       "        gamma=None, gpu_id=None, grow_policy=None, importance_type=None,\n",
       "        interaction_constraints=None, learning_rate=0.3, max_bin=None,\n",
       "        max_cat_threshold=None, max_cat_to_onehot=None, max_delta_step=None,\n",
       "        max_depth=None, max_leaves=None, min_child_weight=None, missing=nan,\n",
       "        monotone_constraints=None, n_estimators=100, n_jobs=None,\n",
       "        num_parallel_tree=None,\n",
       "        objective=&lt;function cind_objective at 0x17f6c7600&gt;, ...)</pre><b>In a Jupyter environment, please rerun this cell to show the HTML representation or trust the notebook. <br />On GitHub, the HTML representation is unable to render, please try loading this page with nbviewer.org.</b></div><div class=\"sk-container\" hidden><div class=\"sk-item\"><div class=\"sk-estimator sk-toggleable\"><input class=\"sk-toggleable__control sk-hidden--visually\" id=\"sk-estimator-id-2\" type=\"checkbox\" checked><label for=\"sk-estimator-id-2\" class=\"sk-toggleable__label sk-toggleable__label-arrow\">XGBSurv</label><div class=\"sk-toggleable__content\"><pre>XGBSurv(base_score=None, booster=None, callbacks=None, colsample_bylevel=None,\n",
       "        colsample_bynode=None, colsample_bytree=None,\n",
       "        disable_default_eval_metric=1, early_stopping_rounds=None,\n",
       "        enable_categorical=False,\n",
       "        eval_metric=&lt;function cind_loss at 0x17f6c7420&gt;, feature_types=None,\n",
       "        gamma=None, gpu_id=None, grow_policy=None, importance_type=None,\n",
       "        interaction_constraints=None, learning_rate=0.3, max_bin=None,\n",
       "        max_cat_threshold=None, max_cat_to_onehot=None, max_delta_step=None,\n",
       "        max_depth=None, max_leaves=None, min_child_weight=None, missing=nan,\n",
       "        monotone_constraints=None, n_estimators=100, n_jobs=None,\n",
       "        num_parallel_tree=None,\n",
       "        objective=&lt;function cind_objective at 0x17f6c7600&gt;, ...)</pre></div></div></div></div></div>"
      ],
      "text/plain": [
       "XGBSurv(base_score=None, booster=None, callbacks=None, colsample_bylevel=None,\n",
       "        colsample_bynode=None, colsample_bytree=None,\n",
       "        disable_default_eval_metric=1, early_stopping_rounds=None,\n",
       "        enable_categorical=False,\n",
       "        eval_metric=<function cind_loss at 0x17f6c7420>, feature_types=None,\n",
       "        gamma=None, gpu_id=None, grow_policy=None, importance_type=None,\n",
       "        interaction_constraints=None, learning_rate=0.3, max_bin=None,\n",
       "        max_cat_threshold=None, max_cat_to_onehot=None, max_delta_step=None,\n",
       "        max_depth=None, max_leaves=None, min_child_weight=None, missing=nan,\n",
       "        monotone_constraints=None, n_estimators=100, n_jobs=None,\n",
       "        num_parallel_tree=None,\n",
       "        objective=<function cind_objective at 0x17f6c7600>, ...)"
      ]
     },
     "execution_count": 6,
     "metadata": {},
     "output_type": "execute_result"
    }
   ],
   "source": [
    "model.fit(X_train, y_train, eval_set=eval_set)"
   ]
  },
  {
   "attachments": {},
   "cell_type": "markdown",
   "metadata": {},
   "source": [
    "The model can be saved like below. Note that objective and eval_metric are not saved."
   ]
  },
  {
   "cell_type": "code",
   "execution_count": 7,
   "metadata": {},
   "outputs": [],
   "source": [
    "#model.save_model(\"introduction_model_breslow.json\")"
   ]
  },
  {
   "attachments": {},
   "cell_type": "markdown",
   "metadata": {},
   "source": [
    "## Predict"
   ]
  },
  {
   "cell_type": "code",
   "execution_count": 8,
   "metadata": {},
   "outputs": [],
   "source": [
    "preds_train = model.predict(X_train, output_margin=True)\n",
    "preds_test = model.predict(X_test, output_margin=True)"
   ]
  },
  {
   "attachments": {},
   "cell_type": "markdown",
   "metadata": {},
   "source": [
    "## Predict Survival Function"
   ]
  },
  {
   "cell_type": "code",
   "execution_count": 11,
   "metadata": {},
   "outputs": [
    {
     "data": {
      "text/plain": [
       "0.6180119894047121"
      ]
     },
     "execution_count": 11,
     "metadata": {},
     "output_type": "execute_result"
    }
   ],
   "source": [
    "cindex_score_test = cindex_censored(y_test, preds_test)\n",
    "cindex_score_test"
   ]
  },
  {
   "attachments": {},
   "cell_type": "markdown",
   "metadata": {},
   "source": [
    "## Evaluate"
   ]
  },
  {
   "attachments": {},
   "cell_type": "markdown",
   "metadata": {},
   "source": [
    "### Test"
   ]
  },
  {
   "cell_type": "code",
   "execution_count": null,
   "metadata": {},
   "outputs": [
    {
     "name": "stdout",
     "output_type": "stream",
     "text": [
      "Concordance Index 0.5238516694244558\n"
     ]
    }
   ],
   "source": [
    "durations_test, events_test = transform_back(y_test)\n",
    "time_grid = np.linspace(durations_test.min(), durations_test.max(), 100)\n",
    "ev = EvalSurv(df_survival_function, durations_test, events_test, censor_surv='km')\n",
    "print('Concordance Index',ev.concordance_td('antolini'))"
   ]
  }
 ],
 "metadata": {
  "kernelspec": {
   "display_name": "xgbsurv",
   "language": "python",
   "name": "python3"
  },
  "language_info": {
   "codemirror_mode": {
    "name": "ipython",
    "version": 3
   },
   "file_extension": ".py",
   "mimetype": "text/x-python",
   "name": "python",
   "nbconvert_exporter": "python",
   "pygments_lexer": "ipython3",
   "version": "3.11.3"
  },
  "orig_nbformat": 4
 },
 "nbformat": 4,
 "nbformat_minor": 2
}
