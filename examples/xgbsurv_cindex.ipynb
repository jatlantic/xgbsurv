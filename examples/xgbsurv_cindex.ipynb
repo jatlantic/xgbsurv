{
 "cells": [
  {
   "attachments": {},
   "cell_type": "markdown",
   "metadata": {},
   "source": [
    "# Introduction to the xgbsurv package\n",
    "\n",
    "This notebook introduces `xgbsurv` using a specific dataset. It structured by the following steps:\n",
    "\n",
    "- Load data\n",
    "- Load model\n",
    "- Fit model\n",
    "- Predict and evaluate model\n",
    "\n",
    "The syntax conveniently follows that of sklearn."
   ]
  },
  {
   "cell_type": "code",
   "execution_count": 1,
   "metadata": {},
   "outputs": [],
   "source": [
    "from xgbsurv.datasets import load_metabric\n",
    "from xgbsurv.models.utils import sort_X_y\n",
    "from xgbsurv import XGBSurv\n",
    "from sklearn.model_selection import train_test_split\n",
    "import numpy as np\n",
    "#%load_ext autoreloadconda \n",
    "#%autoreload 2\n"
   ]
  },
  {
   "attachments": {},
   "cell_type": "markdown",
   "metadata": {},
   "source": [
    "## Load Data"
   ]
  },
  {
   "cell_type": "code",
   "execution_count": 2,
   "metadata": {},
   "outputs": [],
   "source": [
    "data, target = load_metabric(path=\"/Users/JUSC/Documents/xgbsurv/xgbsurv/datasets/data/\", as_frame=False, return_X_y=True)\n",
    "target_sign = np.sign(target)\n",
    "X_train, X_test, y_train, y_test = train_test_split(data, target, stratify=target_sign)\n",
    "X_train, y_train = sort_X_y(X_train, y_train) \n",
    "X_test,  y_test = sort_X_y(X_test,  y_test)"
   ]
  },
  {
   "attachments": {},
   "cell_type": "markdown",
   "metadata": {},
   "source": [
    "## Load Model"
   ]
  },
  {
   "cell_type": "code",
   "execution_count": 3,
   "metadata": {},
   "outputs": [],
   "source": [
    "model = XGBSurv(n_estimators=10, objective=\"cind_objective\",\n",
    "                                             eval_metric=\"cind_loss\",\n",
    "                                             learning_rate=0.1,\n",
    "                                             random_state=7, \n",
    "                                             disable_default_eval_metric=True)"
   ]
  },
  {
   "attachments": {},
   "cell_type": "markdown",
   "metadata": {},
   "source": [
    "The options of loss and objective functions can be obtained like below:"
   ]
  },
  {
   "cell_type": "code",
   "execution_count": 4,
   "metadata": {},
   "outputs": [
    {
     "name": "stdout",
     "output_type": "stream",
     "text": [
      "dict_keys(['breslow_loss', 'efron_loss', 'cind_loss', 'deephit_loss', 'aft_loss', 'ah_loss', 'eh_loss'])\n",
      "dict_keys(['breslow_objective', 'efron_objective', 'cind_objective', 'deephit_objective', 'aft_objective', 'ah_objective', 'eh_objective'])\n"
     ]
    }
   ],
   "source": [
    "print(model.get_loss_functions().keys())\n",
    "print(model.get_objective_functions().keys())"
   ]
  },
  {
   "attachments": {},
   "cell_type": "markdown",
   "metadata": {},
   "source": [
    "## Fit Model"
   ]
  },
  {
   "cell_type": "code",
   "execution_count": 5,
   "metadata": {},
   "outputs": [],
   "source": [
    "eval_set = [(X_train, y_train)]"
   ]
  },
  {
   "cell_type": "code",
   "execution_count": 6,
   "metadata": {},
   "outputs": [
    {
     "name": "stdout",
     "output_type": "stream",
     "text": [
      "[0]\tvalidation_0-cind_loss:-416.31332\n",
      "[1]\tvalidation_0-cind_loss:-419.14242\n",
      "[2]\tvalidation_0-cind_loss:-421.98425\n",
      "[3]\tvalidation_0-cind_loss:-424.89049\n",
      "[4]\tvalidation_0-cind_loss:-427.80346\n",
      "[5]\tvalidation_0-cind_loss:-430.69999\n",
      "[6]\tvalidation_0-cind_loss:-433.59587\n",
      "[7]\tvalidation_0-cind_loss:-436.48752\n",
      "[8]\tvalidation_0-cind_loss:-439.37142\n",
      "[9]\tvalidation_0-cind_loss:-442.26470\n"
     ]
    },
    {
     "data": {
      "text/html": [
       "<style>#sk-container-id-1 {color: black;background-color: white;}#sk-container-id-1 pre{padding: 0;}#sk-container-id-1 div.sk-toggleable {background-color: white;}#sk-container-id-1 label.sk-toggleable__label {cursor: pointer;display: block;width: 100%;margin-bottom: 0;padding: 0.3em;box-sizing: border-box;text-align: center;}#sk-container-id-1 label.sk-toggleable__label-arrow:before {content: \"▸\";float: left;margin-right: 0.25em;color: #696969;}#sk-container-id-1 label.sk-toggleable__label-arrow:hover:before {color: black;}#sk-container-id-1 div.sk-estimator:hover label.sk-toggleable__label-arrow:before {color: black;}#sk-container-id-1 div.sk-toggleable__content {max-height: 0;max-width: 0;overflow: hidden;text-align: left;background-color: #f0f8ff;}#sk-container-id-1 div.sk-toggleable__content pre {margin: 0.2em;color: black;border-radius: 0.25em;background-color: #f0f8ff;}#sk-container-id-1 input.sk-toggleable__control:checked~div.sk-toggleable__content {max-height: 200px;max-width: 100%;overflow: auto;}#sk-container-id-1 input.sk-toggleable__control:checked~label.sk-toggleable__label-arrow:before {content: \"▾\";}#sk-container-id-1 div.sk-estimator input.sk-toggleable__control:checked~label.sk-toggleable__label {background-color: #d4ebff;}#sk-container-id-1 div.sk-label input.sk-toggleable__control:checked~label.sk-toggleable__label {background-color: #d4ebff;}#sk-container-id-1 input.sk-hidden--visually {border: 0;clip: rect(1px 1px 1px 1px);clip: rect(1px, 1px, 1px, 1px);height: 1px;margin: -1px;overflow: hidden;padding: 0;position: absolute;width: 1px;}#sk-container-id-1 div.sk-estimator {font-family: monospace;background-color: #f0f8ff;border: 1px dotted black;border-radius: 0.25em;box-sizing: border-box;margin-bottom: 0.5em;}#sk-container-id-1 div.sk-estimator:hover {background-color: #d4ebff;}#sk-container-id-1 div.sk-parallel-item::after {content: \"\";width: 100%;border-bottom: 1px solid gray;flex-grow: 1;}#sk-container-id-1 div.sk-label:hover label.sk-toggleable__label {background-color: #d4ebff;}#sk-container-id-1 div.sk-serial::before {content: \"\";position: absolute;border-left: 1px solid gray;box-sizing: border-box;top: 0;bottom: 0;left: 50%;z-index: 0;}#sk-container-id-1 div.sk-serial {display: flex;flex-direction: column;align-items: center;background-color: white;padding-right: 0.2em;padding-left: 0.2em;position: relative;}#sk-container-id-1 div.sk-item {position: relative;z-index: 1;}#sk-container-id-1 div.sk-parallel {display: flex;align-items: stretch;justify-content: center;background-color: white;position: relative;}#sk-container-id-1 div.sk-item::before, #sk-container-id-1 div.sk-parallel-item::before {content: \"\";position: absolute;border-left: 1px solid gray;box-sizing: border-box;top: 0;bottom: 0;left: 50%;z-index: -1;}#sk-container-id-1 div.sk-parallel-item {display: flex;flex-direction: column;z-index: 1;position: relative;background-color: white;}#sk-container-id-1 div.sk-parallel-item:first-child::after {align-self: flex-end;width: 50%;}#sk-container-id-1 div.sk-parallel-item:last-child::after {align-self: flex-start;width: 50%;}#sk-container-id-1 div.sk-parallel-item:only-child::after {width: 0;}#sk-container-id-1 div.sk-dashed-wrapped {border: 1px dashed gray;margin: 0 0.4em 0.5em 0.4em;box-sizing: border-box;padding-bottom: 0.4em;background-color: white;}#sk-container-id-1 div.sk-label label {font-family: monospace;font-weight: bold;display: inline-block;line-height: 1.2em;}#sk-container-id-1 div.sk-label-container {text-align: center;}#sk-container-id-1 div.sk-container {/* jupyter's `normalize.less` sets `[hidden] { display: none; }` but bootstrap.min.css set `[hidden] { display: none !important; }` so we also need the `!important` here to be able to override the default hidden behavior on the sphinx rendered scikit-learn.org. See: https://github.com/scikit-learn/scikit-learn/issues/21755 */display: inline-block !important;position: relative;}#sk-container-id-1 div.sk-text-repr-fallback {display: none;}</style><div id=\"sk-container-id-1\" class=\"sk-top-container\"><div class=\"sk-text-repr-fallback\"><pre>XGBSurv(base_score=None, booster=None, callbacks=None, colsample_bylevel=None,\n",
       "        colsample_bynode=None, colsample_bytree=None,\n",
       "        disable_default_eval_metric=True, early_stopping_rounds=None,\n",
       "        enable_categorical=False,\n",
       "        eval_metric=&lt;function cind_loss at 0x16af2f560&gt;, feature_types=None,\n",
       "        gamma=None, gpu_id=None, grow_policy=None, importance_type=None,\n",
       "        interaction_constraints=None, learning_rate=0.1, max_bin=None,\n",
       "        max_cat_threshold=None, max_cat_to_onehot=None, max_delta_step=None,\n",
       "        max_depth=None, max_leaves=None, min_child_weight=None, missing=nan,\n",
       "        monotone_constraints=None, n_estimators=10, n_jobs=None,\n",
       "        num_parallel_tree=None,\n",
       "        objective=&lt;function cind_objective at 0x16af2f740&gt;, ...)</pre><b>In a Jupyter environment, please rerun this cell to show the HTML representation or trust the notebook. <br />On GitHub, the HTML representation is unable to render, please try loading this page with nbviewer.org.</b></div><div class=\"sk-container\" hidden><div class=\"sk-item\"><div class=\"sk-estimator sk-toggleable\"><input class=\"sk-toggleable__control sk-hidden--visually\" id=\"sk-estimator-id-1\" type=\"checkbox\" checked><label for=\"sk-estimator-id-1\" class=\"sk-toggleable__label sk-toggleable__label-arrow\">XGBSurv</label><div class=\"sk-toggleable__content\"><pre>XGBSurv(base_score=None, booster=None, callbacks=None, colsample_bylevel=None,\n",
       "        colsample_bynode=None, colsample_bytree=None,\n",
       "        disable_default_eval_metric=True, early_stopping_rounds=None,\n",
       "        enable_categorical=False,\n",
       "        eval_metric=&lt;function cind_loss at 0x16af2f560&gt;, feature_types=None,\n",
       "        gamma=None, gpu_id=None, grow_policy=None, importance_type=None,\n",
       "        interaction_constraints=None, learning_rate=0.1, max_bin=None,\n",
       "        max_cat_threshold=None, max_cat_to_onehot=None, max_delta_step=None,\n",
       "        max_depth=None, max_leaves=None, min_child_weight=None, missing=nan,\n",
       "        monotone_constraints=None, n_estimators=10, n_jobs=None,\n",
       "        num_parallel_tree=None,\n",
       "        objective=&lt;function cind_objective at 0x16af2f740&gt;, ...)</pre></div></div></div></div></div>"
      ],
      "text/plain": [
       "XGBSurv(base_score=None, booster=None, callbacks=None, colsample_bylevel=None,\n",
       "        colsample_bynode=None, colsample_bytree=None,\n",
       "        disable_default_eval_metric=True, early_stopping_rounds=None,\n",
       "        enable_categorical=False,\n",
       "        eval_metric=<function cind_loss at 0x16af2f560>, feature_types=None,\n",
       "        gamma=None, gpu_id=None, grow_policy=None, importance_type=None,\n",
       "        interaction_constraints=None, learning_rate=0.1, max_bin=None,\n",
       "        max_cat_threshold=None, max_cat_to_onehot=None, max_delta_step=None,\n",
       "        max_depth=None, max_leaves=None, min_child_weight=None, missing=nan,\n",
       "        monotone_constraints=None, n_estimators=10, n_jobs=None,\n",
       "        num_parallel_tree=None,\n",
       "        objective=<function cind_objective at 0x16af2f740>, ...)"
      ]
     },
     "execution_count": 6,
     "metadata": {},
     "output_type": "execute_result"
    }
   ],
   "source": [
    "model.fit(X_train, y_train, eval_set=eval_set)"
   ]
  },
  {
   "cell_type": "code",
   "execution_count": 7,
   "metadata": {},
   "outputs": [],
   "source": [
    "#model.fit(X_train, y_train, eval_set=eval_set)"
   ]
  },
  {
   "attachments": {},
   "cell_type": "markdown",
   "metadata": {},
   "source": [
    "The model can be saved like below. Note that objective and eval_metric are not saved."
   ]
  },
  {
   "cell_type": "code",
   "execution_count": 8,
   "metadata": {},
   "outputs": [],
   "source": [
    "model.save_model(\"cind_model.json\")"
   ]
  },
  {
   "attachments": {},
   "cell_type": "markdown",
   "metadata": {},
   "source": [
    "## Predict"
   ]
  },
  {
   "cell_type": "code",
   "execution_count": 9,
   "metadata": {},
   "outputs": [],
   "source": [
    "preds_train = model.predict(X_train)\n",
    "preds_test = model.predict(X_test)"
   ]
  },
  {
   "attachments": {},
   "cell_type": "markdown",
   "metadata": {},
   "source": [
    "### Predict Cumulative Hazard"
   ]
  },
  {
   "attachments": {},
   "cell_type": "markdown",
   "metadata": {},
   "source": [
    "## Evaluate"
   ]
  },
  {
   "cell_type": "code",
   "execution_count": 10,
   "metadata": {},
   "outputs": [],
   "source": [
    "#from sksurv.metrics import concordance_index_censored\n",
    "from xgbsurv.evaluation import cindex_censored, ibs\n",
    "from sksurv.metrics import concordance_index_censored\n",
    "from xgbsurv.models.utils import transform_back\n",
    "np.set_printoptions(suppress=True)"
   ]
  },
  {
   "cell_type": "code",
   "execution_count": 11,
   "metadata": {},
   "outputs": [
    {
     "data": {
      "text/plain": [
       "0.36459058296531566"
      ]
     },
     "execution_count": 11,
     "metadata": {},
     "output_type": "execute_result"
    }
   ],
   "source": [
    "event_time, event_indicator = transform_back(y_test)\n",
    "concordance_index_censored(event_indicator.astype('bool'), event_time, preds_test)[0]"
   ]
  },
  {
   "cell_type": "code",
   "execution_count": 12,
   "metadata": {},
   "outputs": [
    {
     "data": {
      "text/plain": [
       "0.2836651503851431"
      ]
     },
     "execution_count": 12,
     "metadata": {},
     "output_type": "execute_result"
    }
   ],
   "source": [
    "# train\n",
    "cindex_censored(y_train, preds_train)"
   ]
  },
  {
   "cell_type": "code",
   "execution_count": 13,
   "metadata": {},
   "outputs": [
    {
     "data": {
      "text/plain": [
       "0.36459058296531566"
      ]
     },
     "execution_count": 13,
     "metadata": {},
     "output_type": "execute_result"
    }
   ],
   "source": [
    "# test\n",
    "cindex_censored(y_test,preds_test)"
   ]
  },
  {
   "cell_type": "code",
   "execution_count": 14,
   "metadata": {},
   "outputs": [
    {
     "data": {
      "text/plain": [
       "array([   0.1       ,   -0.76666665,   -1.2333333 , ..., -337.03333   ,\n",
       "        351.        ,  355.2       ], dtype=float32)"
      ]
     },
     "execution_count": 14,
     "metadata": {},
     "output_type": "execute_result"
    }
   ],
   "source": [
    "y_train"
   ]
  },
  {
   "cell_type": "code",
   "execution_count": 15,
   "metadata": {},
   "outputs": [
    {
     "data": {
      "text/plain": [
       "(476,)"
      ]
     },
     "execution_count": 15,
     "metadata": {},
     "output_type": "execute_result"
    }
   ],
   "source": [
    "y_test.shape"
   ]
  },
  {
   "cell_type": "code",
   "execution_count": 16,
   "metadata": {},
   "outputs": [
    {
     "data": {
      "text/plain": [
       "array([0.48590532, 0.54625905, 0.4864021 , ..., 0.5182941 , 0.50174665,\n",
       "       0.5532081 ], dtype=float32)"
      ]
     },
     "execution_count": 16,
     "metadata": {},
     "output_type": "execute_result"
    }
   ],
   "source": [
    "preds_train"
   ]
  },
  {
   "cell_type": "code",
   "execution_count": 17,
   "metadata": {},
   "outputs": [
    {
     "data": {
      "text/plain": [
       "array([0.4605856 , 0.49737754, 0.48590532, 0.5315069 , 0.47892365,\n",
       "       0.5182941 , 0.5315069 , 0.49737754, 0.51430863, 0.46143258,\n",
       "       0.49352917, 0.50174665, 0.4605856 , 0.47892365, 0.51317614,\n",
       "       0.5182941 , 0.47434598, 0.49737754, 0.5209666 , 0.4884806 ,\n",
       "       0.4745113 , 0.47434598, 0.5300912 , 0.50174665, 0.4605856 ,\n",
       "       0.49737754, 0.48590532, 0.55315506, 0.51430863, 0.4993268 ,\n",
       "       0.4884806 , 0.4888425 , 0.5206782 , 0.46143258, 0.50174665,\n",
       "       0.47434598, 0.48590532, 0.50174665, 0.48590532, 0.49737754,\n",
       "       0.4888425 , 0.4884806 , 0.48118225, 0.47434598, 0.50174665,\n",
       "       0.49737754, 0.50174665, 0.5209666 , 0.47892365, 0.54625905,\n",
       "       0.47434598, 0.48590532, 0.48590532, 0.46143258, 0.4888425 ,\n",
       "       0.54625905, 0.46143258, 0.5532081 , 0.5300912 , 0.4888425 ,\n",
       "       0.49737754, 0.47892365, 0.49737754, 0.47892365, 0.4884806 ,\n",
       "       0.48590532, 0.4884806 , 0.5300912 , 0.50174665, 0.4993268 ,\n",
       "       0.49737754, 0.48590532, 0.5182941 , 0.49737754, 0.48590532,\n",
       "       0.49737754, 0.50174665, 0.47434598, 0.44942793, 0.46143258,\n",
       "       0.48784378, 0.4864021 , 0.50174665, 0.47434598, 0.47892365,\n",
       "       0.51430863, 0.4993268 , 0.48590532, 0.50174665, 0.49737754,\n",
       "       0.50174665, 0.48590532, 0.47434598, 0.4993268 , 0.47669232,\n",
       "       0.50174665, 0.48784378, 0.46143258, 0.54625905, 0.49737754,\n",
       "       0.5182941 , 0.50174665, 0.46143258, 0.49737754, 0.50174665,\n",
       "       0.5315069 , 0.47434598, 0.46143258, 0.5315069 , 0.5209666 ,\n",
       "       0.5530231 , 0.49737754, 0.49737754, 0.4885975 , 0.5182941 ,\n",
       "       0.4884806 , 0.4890943 , 0.46143258, 0.4993268 , 0.5028902 ,\n",
       "       0.49737754, 0.50174665, 0.5315069 , 0.48590532, 0.5532925 ,\n",
       "       0.5315069 , 0.50174665, 0.49737754, 0.5182941 , 0.4896052 ,\n",
       "       0.54625905, 0.48784378, 0.4888425 , 0.4888425 , 0.48590532,\n",
       "       0.4864021 , 0.49737754, 0.5182941 , 0.50174665, 0.50174665,\n",
       "       0.47892365, 0.4864021 , 0.51367295, 0.49737754, 0.49352917,\n",
       "       0.5182941 , 0.4916352 , 0.5315069 , 0.47892365, 0.4884806 ,\n",
       "       0.51430863, 0.50085384, 0.5315069 , 0.49737754, 0.47892365,\n",
       "       0.50174665, 0.49352917, 0.4888425 , 0.47892365, 0.5300912 ,\n",
       "       0.4896052 , 0.50174665, 0.49737754, 0.49737754, 0.5532925 ,\n",
       "       0.51430863, 0.5182941 , 0.5206782 , 0.5532081 , 0.50174665,\n",
       "       0.50174665, 0.5315069 , 0.48590532, 0.49737754, 0.50174665,\n",
       "       0.48590532, 0.4864021 , 0.49737754, 0.4896052 , 0.4888425 ,\n",
       "       0.48590532, 0.50174665, 0.50174665, 0.49229738, 0.5182941 ,\n",
       "       0.5315069 , 0.49737754, 0.49737754, 0.4826235 , 0.50174665,\n",
       "       0.48784378, 0.5315069 , 0.4794204 , 0.49737754, 0.4888425 ,\n",
       "       0.48590532, 0.4884806 , 0.49737754, 0.50174665, 0.49229738,\n",
       "       0.5182941 , 0.47892365, 0.4884806 , 0.4885975 , 0.48784378,\n",
       "       0.49737754, 0.5315069 , 0.51430863, 0.50174665, 0.4890943 ,\n",
       "       0.4888425 , 0.5315069 , 0.4916352 , 0.4890943 , 0.4896052 ,\n",
       "       0.49737754, 0.47892365, 0.50174665, 0.49737754, 0.5315069 ,\n",
       "       0.4896052 , 0.5206782 , 0.4745113 , 0.4826235 , 0.4864021 ,\n",
       "       0.4890943 , 0.5315069 , 0.48590532, 0.47434598, 0.50174665,\n",
       "       0.49737754, 0.5300912 , 0.50174665, 0.47892365, 0.5209666 ,\n",
       "       0.50174665, 0.50174665, 0.47434598, 0.47892365, 0.5315069 ,\n",
       "       0.5315069 , 0.49737754, 0.47892365, 0.49737754, 0.50085384,\n",
       "       0.54625905, 0.4794204 , 0.5315069 , 0.49737754, 0.51430863,\n",
       "       0.50174665, 0.48590532, 0.4826235 , 0.4993268 , 0.50174665,\n",
       "       0.5182941 , 0.4794204 , 0.50174665, 0.49737754, 0.51430863,\n",
       "       0.4888425 , 0.5206782 , 0.4864021 , 0.49737754, 0.5182941 ,\n",
       "       0.51430863, 0.50174665, 0.50174665, 0.5182941 , 0.5315069 ,\n",
       "       0.4884806 , 0.47434598, 0.51687604, 0.5315069 , 0.48590532,\n",
       "       0.5315069 , 0.50174665, 0.49737754, 0.5209666 , 0.44942793,\n",
       "       0.4884806 , 0.50174665, 0.5315069 , 0.5063629 , 0.50174665,\n",
       "       0.50174665, 0.5123321 , 0.51430863, 0.49737754, 0.50174665,\n",
       "       0.5182941 , 0.4605856 , 0.50174665, 0.5182941 , 0.47434598,\n",
       "       0.4885975 , 0.49737754, 0.48590532, 0.4888425 , 0.47892365,\n",
       "       0.50174665, 0.49352917, 0.49737754, 0.50174665, 0.50174665,\n",
       "       0.5182941 , 0.52491087, 0.49352917, 0.50174665, 0.5315069 ,\n",
       "       0.4745113 , 0.50174665, 0.51430863, 0.48590532, 0.54625905,\n",
       "       0.50174665, 0.50174665, 0.48784378, 0.49737754, 0.47892365,\n",
       "       0.49737754, 0.5532081 , 0.48590532, 0.5315069 , 0.5315069 ,\n",
       "       0.4745113 , 0.4885975 , 0.5315069 , 0.54625905, 0.4864021 ,\n",
       "       0.50174665, 0.50174665, 0.5300912 , 0.5315069 , 0.5315069 ,\n",
       "       0.47821116, 0.50174665, 0.5315069 , 0.49737754, 0.5182941 ,\n",
       "       0.47892365, 0.5315069 , 0.51317614, 0.49737754, 0.5315069 ,\n",
       "       0.50174665, 0.51317614, 0.53392315, 0.5315069 , 0.4993268 ,\n",
       "       0.48590532, 0.5300912 , 0.5063629 , 0.49737754, 0.4745113 ,\n",
       "       0.50174665, 0.49229738, 0.48784378, 0.4884806 , 0.4888425 ,\n",
       "       0.5206782 , 0.4993268 , 0.4888425 , 0.5209666 , 0.49737754,\n",
       "       0.5182941 , 0.49737754, 0.4864021 , 0.5532925 , 0.5206782 ,\n",
       "       0.5182941 , 0.5315069 , 0.5315069 , 0.5315069 , 0.50174665,\n",
       "       0.5315069 , 0.53225   , 0.50174665, 0.4884806 , 0.49737754,\n",
       "       0.49352917, 0.53225   , 0.48784378, 0.5315069 , 0.49737754,\n",
       "       0.5182941 , 0.49737754, 0.50174665, 0.48590532, 0.5315069 ,\n",
       "       0.48015392, 0.48784378, 0.5315069 , 0.50174665, 0.5315069 ,\n",
       "       0.5300912 , 0.49737754, 0.50174665, 0.48590532, 0.5123321 ,\n",
       "       0.5182941 , 0.50174665, 0.49737754, 0.49737754, 0.50174665,\n",
       "       0.49737754, 0.4884806 , 0.47434598, 0.5182941 , 0.50174665,\n",
       "       0.50174665, 0.4888425 , 0.4888425 , 0.53225   , 0.5315069 ,\n",
       "       0.5315069 , 0.4896052 , 0.5209666 , 0.5315069 , 0.5182941 ,\n",
       "       0.4888425 , 0.5182941 , 0.50174665, 0.49737754, 0.5315069 ,\n",
       "       0.51430863, 0.5206782 , 0.4888425 , 0.49737754, 0.5315069 ,\n",
       "       0.4885975 , 0.49737754, 0.50174665, 0.50174665, 0.50174665,\n",
       "       0.4885975 , 0.49737754, 0.5315069 , 0.49737754, 0.5315069 ,\n",
       "       0.5315069 , 0.49737754, 0.48590532, 0.50174665, 0.4993268 ,\n",
       "       0.5315069 , 0.50174665, 0.48784378, 0.5315069 , 0.54625905,\n",
       "       0.5315069 , 0.4888425 , 0.50174665, 0.52491087, 0.49737754,\n",
       "       0.50174665, 0.49737754, 0.49737754, 0.5315069 , 0.4884806 ,\n",
       "       0.4888425 , 0.5315069 , 0.5315069 , 0.50174665, 0.4896052 ,\n",
       "       0.5315069 , 0.5315069 , 0.4605856 , 0.49737754, 0.5182941 ,\n",
       "       0.4884806 , 0.5315069 , 0.5182941 , 0.5315069 , 0.50174665,\n",
       "       0.4888425 ], dtype=float32)"
      ]
     },
     "execution_count": 17,
     "metadata": {},
     "output_type": "execute_result"
    }
   ],
   "source": [
    "preds_test"
   ]
  },
  {
   "cell_type": "code",
   "execution_count": null,
   "metadata": {},
   "outputs": [],
   "source": []
  }
 ],
 "metadata": {
  "kernelspec": {
   "display_name": "xgbsurv",
   "language": "python",
   "name": "python3"
  },
  "language_info": {
   "codemirror_mode": {
    "name": "ipython",
    "version": 3
   },
   "file_extension": ".py",
   "mimetype": "text/x-python",
   "name": "python",
   "nbconvert_exporter": "python",
   "pygments_lexer": "ipython3",
   "version": "3.11.3"
  },
  "orig_nbformat": 4
 },
 "nbformat": 4,
 "nbformat_minor": 2
}
