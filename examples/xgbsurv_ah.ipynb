{
 "cells": [
  {
   "attachments": {},
   "cell_type": "markdown",
   "metadata": {},
   "source": [
    "# Introduction to the xgbsurv package - Accelerated Hazards\n",
    "\n",
    "This notebook introduces `xgbsurv` using a specific dataset. It structured by the following steps:\n",
    "\n",
    "- Load data\n",
    "- Load model\n",
    "- Fit model\n",
    "- Predict and evaluate model\n",
    "\n",
    "The syntax conveniently follows that of sklearn."
   ]
  },
  {
   "cell_type": "code",
   "execution_count": 13,
   "metadata": {},
   "outputs": [
    {
     "name": "stdout",
     "output_type": "stream",
     "text": [
      "The autoreload extension is already loaded. To reload it, use:\n",
      "  %reload_ext autoreload\n"
     ]
    }
   ],
   "source": [
    "from xgbsurv.datasets import load_metabric\n",
    "from xgbsurv import XGBSurv\n",
    "from sklearn.model_selection import train_test_split\n",
    "import numpy as np\n",
    "%load_ext autoreload\n",
    "%autoreload 2\n"
   ]
  },
  {
   "attachments": {},
   "cell_type": "markdown",
   "metadata": {},
   "source": [
    "## Load Data"
   ]
  },
  {
   "cell_type": "code",
   "execution_count": 14,
   "metadata": {},
   "outputs": [],
   "source": [
    "data, target = load_metabric(path=\"/Users/JUSC/Documents/xgbsurv/xgbsurv/datasets/data/\", as_frame=False)\n",
    "target_sign = np.sign(target)\n",
    "X_train, X_test, y_train, y_test = train_test_split(data, target, stratify=target_sign)"
   ]
  },
  {
   "attachments": {},
   "cell_type": "markdown",
   "metadata": {},
   "source": [
    "## Load Model"
   ]
  },
  {
   "cell_type": "code",
   "execution_count": 15,
   "metadata": {},
   "outputs": [],
   "source": [
    "model = XGBSurv(n_estimators=100, objective=\"ah_objective\",\n",
    "                                             eval_metric=\"ah_loss\",\n",
    "                                             learning_rate=0.3,\n",
    "                                             random_state=7, \n",
    "                                             disable_default_eval_metric=True,\n",
    "                                             base_score=0.0)"
   ]
  },
  {
   "cell_type": "markdown",
   "metadata": {},
   "source": [
    "The options of loss and objective functions can be obtained like below:"
   ]
  },
  {
   "cell_type": "code",
   "execution_count": 16,
   "metadata": {},
   "outputs": [
    {
     "name": "stdout",
     "output_type": "stream",
     "text": [
      "dict_keys(['breslow_loss', 'efron_loss', 'cind_loss', 'deephit_loss', 'aft_loss', 'ah_loss'])\n",
      "dict_keys(['breslow_objective', 'efron_objective', 'cind_objective', 'deephit_objective', 'aft_objective', 'ah_objective'])\n"
     ]
    }
   ],
   "source": [
    "print(model.get_loss_functions().keys())\n",
    "print(model.get_objective_functions().keys())"
   ]
  },
  {
   "cell_type": "markdown",
   "metadata": {},
   "source": [
    "## Fit Model"
   ]
  },
  {
   "cell_type": "code",
   "execution_count": 17,
   "metadata": {},
   "outputs": [],
   "source": [
    "eval_set = [(X_train, y_train)]"
   ]
  },
  {
   "cell_type": "code",
   "execution_count": 18,
   "metadata": {},
   "outputs": [
    {
     "name": "stdout",
     "output_type": "stream",
     "text": [
      "[0]\tvalidation_0-ah_likelihood:4.27727\n",
      "[1]\tvalidation_0-ah_likelihood:4.27686\n",
      "[2]\tvalidation_0-ah_likelihood:4.27646\n",
      "[3]\tvalidation_0-ah_likelihood:4.27605\n",
      "[4]\tvalidation_0-ah_likelihood:4.27565\n",
      "[5]\tvalidation_0-ah_likelihood:4.27525\n",
      "[6]\tvalidation_0-ah_likelihood:4.27484\n",
      "[7]\tvalidation_0-ah_likelihood:4.27444\n",
      "[8]\tvalidation_0-ah_likelihood:4.27403\n",
      "[9]\tvalidation_0-ah_likelihood:4.27364\n",
      "[10]\tvalidation_0-ah_likelihood:4.27324\n",
      "[11]\tvalidation_0-ah_likelihood:4.27285\n",
      "[12]\tvalidation_0-ah_likelihood:4.27245\n",
      "[13]\tvalidation_0-ah_likelihood:4.27205\n",
      "[14]\tvalidation_0-ah_likelihood:4.27166\n",
      "[15]\tvalidation_0-ah_likelihood:4.27126\n",
      "[16]\tvalidation_0-ah_likelihood:4.27087\n",
      "[17]\tvalidation_0-ah_likelihood:4.27048\n",
      "[18]\tvalidation_0-ah_likelihood:4.27008\n",
      "[19]\tvalidation_0-ah_likelihood:4.26968\n",
      "[20]\tvalidation_0-ah_likelihood:4.26929\n",
      "[21]\tvalidation_0-ah_likelihood:4.26890\n",
      "[22]\tvalidation_0-ah_likelihood:4.26850\n",
      "[23]\tvalidation_0-ah_likelihood:4.26811\n",
      "[24]\tvalidation_0-ah_likelihood:4.26771\n",
      "[25]\tvalidation_0-ah_likelihood:4.26732\n",
      "[26]\tvalidation_0-ah_likelihood:4.26692\n",
      "[27]\tvalidation_0-ah_likelihood:4.26652\n",
      "[28]\tvalidation_0-ah_likelihood:4.26612\n",
      "[29]\tvalidation_0-ah_likelihood:4.26571\n",
      "[30]\tvalidation_0-ah_likelihood:4.26531\n",
      "[31]\tvalidation_0-ah_likelihood:4.26490\n",
      "[32]\tvalidation_0-ah_likelihood:4.26451\n",
      "[33]\tvalidation_0-ah_likelihood:4.26411\n",
      "[34]\tvalidation_0-ah_likelihood:4.26370\n",
      "[35]\tvalidation_0-ah_likelihood:4.26330\n",
      "[36]\tvalidation_0-ah_likelihood:4.26290\n",
      "[37]\tvalidation_0-ah_likelihood:4.26249\n",
      "[38]\tvalidation_0-ah_likelihood:4.26209\n",
      "[39]\tvalidation_0-ah_likelihood:4.26169\n",
      "[40]\tvalidation_0-ah_likelihood:4.26129\n",
      "[41]\tvalidation_0-ah_likelihood:4.26089\n",
      "[42]\tvalidation_0-ah_likelihood:4.26049\n",
      "[43]\tvalidation_0-ah_likelihood:4.26009\n",
      "[44]\tvalidation_0-ah_likelihood:4.25969\n",
      "[45]\tvalidation_0-ah_likelihood:4.25930\n",
      "[46]\tvalidation_0-ah_likelihood:4.25890\n",
      "[47]\tvalidation_0-ah_likelihood:4.25850\n",
      "[48]\tvalidation_0-ah_likelihood:4.25810\n",
      "[49]\tvalidation_0-ah_likelihood:4.25771\n",
      "[50]\tvalidation_0-ah_likelihood:4.25730\n",
      "[51]\tvalidation_0-ah_likelihood:4.25691\n",
      "[52]\tvalidation_0-ah_likelihood:4.25652\n",
      "[53]\tvalidation_0-ah_likelihood:4.25612\n",
      "[54]\tvalidation_0-ah_likelihood:4.25572\n",
      "[55]\tvalidation_0-ah_likelihood:4.25532\n",
      "[56]\tvalidation_0-ah_likelihood:4.25493\n",
      "[57]\tvalidation_0-ah_likelihood:4.25453\n",
      "[58]\tvalidation_0-ah_likelihood:4.25414\n",
      "[59]\tvalidation_0-ah_likelihood:4.25374\n",
      "[60]\tvalidation_0-ah_likelihood:4.25334\n",
      "[61]\tvalidation_0-ah_likelihood:4.25294\n",
      "[62]\tvalidation_0-ah_likelihood:4.25254\n",
      "[63]\tvalidation_0-ah_likelihood:4.25215\n",
      "[64]\tvalidation_0-ah_likelihood:4.25175\n",
      "[65]\tvalidation_0-ah_likelihood:4.25136\n",
      "[66]\tvalidation_0-ah_likelihood:4.25096\n",
      "[67]\tvalidation_0-ah_likelihood:4.25057\n",
      "[68]\tvalidation_0-ah_likelihood:4.25016\n",
      "[69]\tvalidation_0-ah_likelihood:4.24977\n",
      "[70]\tvalidation_0-ah_likelihood:4.24937\n",
      "[71]\tvalidation_0-ah_likelihood:4.24897\n",
      "[72]\tvalidation_0-ah_likelihood:4.24858\n",
      "[73]\tvalidation_0-ah_likelihood:4.24818\n",
      "[74]\tvalidation_0-ah_likelihood:4.24779\n",
      "[75]\tvalidation_0-ah_likelihood:4.24740\n",
      "[76]\tvalidation_0-ah_likelihood:4.24701\n",
      "[77]\tvalidation_0-ah_likelihood:4.24661\n",
      "[78]\tvalidation_0-ah_likelihood:4.24622\n",
      "[79]\tvalidation_0-ah_likelihood:4.24582\n",
      "[80]\tvalidation_0-ah_likelihood:4.24542\n",
      "[81]\tvalidation_0-ah_likelihood:4.24503\n",
      "[82]\tvalidation_0-ah_likelihood:4.24463\n",
      "[83]\tvalidation_0-ah_likelihood:4.24424\n",
      "[84]\tvalidation_0-ah_likelihood:4.24384\n",
      "[85]\tvalidation_0-ah_likelihood:4.24345\n",
      "[86]\tvalidation_0-ah_likelihood:4.24306\n",
      "[87]\tvalidation_0-ah_likelihood:4.24267\n",
      "[88]\tvalidation_0-ah_likelihood:4.24227\n",
      "[89]\tvalidation_0-ah_likelihood:4.24187\n",
      "[90]\tvalidation_0-ah_likelihood:4.24148\n",
      "[91]\tvalidation_0-ah_likelihood:4.24108\n",
      "[92]\tvalidation_0-ah_likelihood:4.24069\n",
      "[93]\tvalidation_0-ah_likelihood:4.24029\n",
      "[94]\tvalidation_0-ah_likelihood:4.23991\n",
      "[95]\tvalidation_0-ah_likelihood:4.23951\n",
      "[96]\tvalidation_0-ah_likelihood:4.23912\n",
      "[97]\tvalidation_0-ah_likelihood:4.23873\n",
      "[98]\tvalidation_0-ah_likelihood:4.23833\n",
      "[99]\tvalidation_0-ah_likelihood:4.23794\n"
     ]
    },
    {
     "data": {
      "text/html": [
       "<style>#sk-container-id-1 {color: black;background-color: white;}#sk-container-id-1 pre{padding: 0;}#sk-container-id-1 div.sk-toggleable {background-color: white;}#sk-container-id-1 label.sk-toggleable__label {cursor: pointer;display: block;width: 100%;margin-bottom: 0;padding: 0.3em;box-sizing: border-box;text-align: center;}#sk-container-id-1 label.sk-toggleable__label-arrow:before {content: \"▸\";float: left;margin-right: 0.25em;color: #696969;}#sk-container-id-1 label.sk-toggleable__label-arrow:hover:before {color: black;}#sk-container-id-1 div.sk-estimator:hover label.sk-toggleable__label-arrow:before {color: black;}#sk-container-id-1 div.sk-toggleable__content {max-height: 0;max-width: 0;overflow: hidden;text-align: left;background-color: #f0f8ff;}#sk-container-id-1 div.sk-toggleable__content pre {margin: 0.2em;color: black;border-radius: 0.25em;background-color: #f0f8ff;}#sk-container-id-1 input.sk-toggleable__control:checked~div.sk-toggleable__content {max-height: 200px;max-width: 100%;overflow: auto;}#sk-container-id-1 input.sk-toggleable__control:checked~label.sk-toggleable__label-arrow:before {content: \"▾\";}#sk-container-id-1 div.sk-estimator input.sk-toggleable__control:checked~label.sk-toggleable__label {background-color: #d4ebff;}#sk-container-id-1 div.sk-label input.sk-toggleable__control:checked~label.sk-toggleable__label {background-color: #d4ebff;}#sk-container-id-1 input.sk-hidden--visually {border: 0;clip: rect(1px 1px 1px 1px);clip: rect(1px, 1px, 1px, 1px);height: 1px;margin: -1px;overflow: hidden;padding: 0;position: absolute;width: 1px;}#sk-container-id-1 div.sk-estimator {font-family: monospace;background-color: #f0f8ff;border: 1px dotted black;border-radius: 0.25em;box-sizing: border-box;margin-bottom: 0.5em;}#sk-container-id-1 div.sk-estimator:hover {background-color: #d4ebff;}#sk-container-id-1 div.sk-parallel-item::after {content: \"\";width: 100%;border-bottom: 1px solid gray;flex-grow: 1;}#sk-container-id-1 div.sk-label:hover label.sk-toggleable__label {background-color: #d4ebff;}#sk-container-id-1 div.sk-serial::before {content: \"\";position: absolute;border-left: 1px solid gray;box-sizing: border-box;top: 0;bottom: 0;left: 50%;z-index: 0;}#sk-container-id-1 div.sk-serial {display: flex;flex-direction: column;align-items: center;background-color: white;padding-right: 0.2em;padding-left: 0.2em;position: relative;}#sk-container-id-1 div.sk-item {position: relative;z-index: 1;}#sk-container-id-1 div.sk-parallel {display: flex;align-items: stretch;justify-content: center;background-color: white;position: relative;}#sk-container-id-1 div.sk-item::before, #sk-container-id-1 div.sk-parallel-item::before {content: \"\";position: absolute;border-left: 1px solid gray;box-sizing: border-box;top: 0;bottom: 0;left: 50%;z-index: -1;}#sk-container-id-1 div.sk-parallel-item {display: flex;flex-direction: column;z-index: 1;position: relative;background-color: white;}#sk-container-id-1 div.sk-parallel-item:first-child::after {align-self: flex-end;width: 50%;}#sk-container-id-1 div.sk-parallel-item:last-child::after {align-self: flex-start;width: 50%;}#sk-container-id-1 div.sk-parallel-item:only-child::after {width: 0;}#sk-container-id-1 div.sk-dashed-wrapped {border: 1px dashed gray;margin: 0 0.4em 0.5em 0.4em;box-sizing: border-box;padding-bottom: 0.4em;background-color: white;}#sk-container-id-1 div.sk-label label {font-family: monospace;font-weight: bold;display: inline-block;line-height: 1.2em;}#sk-container-id-1 div.sk-label-container {text-align: center;}#sk-container-id-1 div.sk-container {/* jupyter's `normalize.less` sets `[hidden] { display: none; }` but bootstrap.min.css set `[hidden] { display: none !important; }` so we also need the `!important` here to be able to override the default hidden behavior on the sphinx rendered scikit-learn.org. See: https://github.com/scikit-learn/scikit-learn/issues/21755 */display: inline-block !important;position: relative;}#sk-container-id-1 div.sk-text-repr-fallback {display: none;}</style><div id=\"sk-container-id-1\" class=\"sk-top-container\"><div class=\"sk-text-repr-fallback\"><pre>XGBSurv(base_score=0.0, booster=None, callbacks=None, colsample_bylevel=None,\n",
       "        colsample_bynode=None, colsample_bytree=None,\n",
       "        disable_default_eval_metric=True, early_stopping_rounds=None,\n",
       "        enable_categorical=False,\n",
       "        eval_metric=CPUDispatcher(&lt;function ah_likelihood at 0x7fca085da9e0&gt;),\n",
       "        feature_types=None, gamma=None, gpu_id=None, grow_policy=None,\n",
       "        importance_type=None, interaction_constraints=None, learning_rate=0.3,\n",
       "        max_bin=None, max_cat_threshold=None, max_cat_to_onehot=None,\n",
       "        max_delta_step=None, max_depth=None, max_leaves=None,\n",
       "        min_child_weight=None, missing=nan, monotone_constraints=None,\n",
       "        n_estimators=100, n_jobs=None, num_parallel_tree=None,\n",
       "        objective=CPUDispatcher(&lt;function ah_objective at 0x7fca085dac20&gt;), ...)</pre><b>In a Jupyter environment, please rerun this cell to show the HTML representation or trust the notebook. <br />On GitHub, the HTML representation is unable to render, please try loading this page with nbviewer.org.</b></div><div class=\"sk-container\" hidden><div class=\"sk-item\"><div class=\"sk-estimator sk-toggleable\"><input class=\"sk-toggleable__control sk-hidden--visually\" id=\"sk-estimator-id-1\" type=\"checkbox\" checked><label for=\"sk-estimator-id-1\" class=\"sk-toggleable__label sk-toggleable__label-arrow\">XGBSurv</label><div class=\"sk-toggleable__content\"><pre>XGBSurv(base_score=0.0, booster=None, callbacks=None, colsample_bylevel=None,\n",
       "        colsample_bynode=None, colsample_bytree=None,\n",
       "        disable_default_eval_metric=True, early_stopping_rounds=None,\n",
       "        enable_categorical=False,\n",
       "        eval_metric=CPUDispatcher(&lt;function ah_likelihood at 0x7fca085da9e0&gt;),\n",
       "        feature_types=None, gamma=None, gpu_id=None, grow_policy=None,\n",
       "        importance_type=None, interaction_constraints=None, learning_rate=0.3,\n",
       "        max_bin=None, max_cat_threshold=None, max_cat_to_onehot=None,\n",
       "        max_delta_step=None, max_depth=None, max_leaves=None,\n",
       "        min_child_weight=None, missing=nan, monotone_constraints=None,\n",
       "        n_estimators=100, n_jobs=None, num_parallel_tree=None,\n",
       "        objective=CPUDispatcher(&lt;function ah_objective at 0x7fca085dac20&gt;), ...)</pre></div></div></div></div></div>"
      ],
      "text/plain": [
       "XGBSurv(base_score=0.0, booster=None, callbacks=None, colsample_bylevel=None,\n",
       "        colsample_bynode=None, colsample_bytree=None,\n",
       "        disable_default_eval_metric=True, early_stopping_rounds=None,\n",
       "        enable_categorical=False,\n",
       "        eval_metric=CPUDispatcher(<function ah_likelihood at 0x7fca085da9e0>),\n",
       "        feature_types=None, gamma=None, gpu_id=None, grow_policy=None,\n",
       "        importance_type=None, interaction_constraints=None, learning_rate=0.3,\n",
       "        max_bin=None, max_cat_threshold=None, max_cat_to_onehot=None,\n",
       "        max_delta_step=None, max_depth=None, max_leaves=None,\n",
       "        min_child_weight=None, missing=nan, monotone_constraints=None,\n",
       "        n_estimators=100, n_jobs=None, num_parallel_tree=None,\n",
       "        objective=CPUDispatcher(<function ah_objective at 0x7fca085dac20>), ...)"
      ]
     },
     "execution_count": 18,
     "metadata": {},
     "output_type": "execute_result"
    }
   ],
   "source": [
    "model.fit(X_train, y_train, eval_set=eval_set)"
   ]
  },
  {
   "attachments": {},
   "cell_type": "markdown",
   "metadata": {},
   "source": [
    "The model can be saved like below. Note that objective and eval_metric are not saved."
   ]
  },
  {
   "cell_type": "code",
   "execution_count": 19,
   "metadata": {},
   "outputs": [
    {
     "name": "stderr",
     "output_type": "stream",
     "text": [
      "/Users/JUSC/miniconda3/envs/xgbsurv/lib/python3.10/site-packages/xgboost/sklearn.py:761: UserWarning: objective is not saved in Scikit-Learn meta.\n",
      "  warnings.warn(\n",
      "/Users/JUSC/miniconda3/envs/xgbsurv/lib/python3.10/site-packages/xgboost/sklearn.py:761: UserWarning: eval_metric is not saved in Scikit-Learn meta.\n",
      "  warnings.warn(\n",
      "/Users/JUSC/miniconda3/envs/xgbsurv/lib/python3.10/site-packages/xgboost/sklearn.py:761: UserWarning: y is not saved in Scikit-Learn meta.\n",
      "  warnings.warn(\n",
      "/Users/JUSC/miniconda3/envs/xgbsurv/lib/python3.10/site-packages/xgboost/sklearn.py:761: UserWarning: X is not saved in Scikit-Learn meta.\n",
      "  warnings.warn(\n"
     ]
    }
   ],
   "source": [
    "model.save_model(\"aft_model.json\")"
   ]
  },
  {
   "cell_type": "markdown",
   "metadata": {},
   "source": [
    "## Predict"
   ]
  },
  {
   "cell_type": "code",
   "execution_count": 20,
   "metadata": {},
   "outputs": [],
   "source": [
    "preds_train = model.predict(X_train, output_margin=True)\n",
    "preds_test = model.predict(X_test, output_margin=True)"
   ]
  },
  {
   "cell_type": "code",
   "execution_count": 21,
   "metadata": {},
   "outputs": [
    {
     "data": {
      "text/plain": [
       "array([-0.03132122, -0.03036948, -0.02342741, -0.02261352, -0.02277499,\n",
       "       -0.03132122, -0.03132122, -0.03036948, -0.03036948, -0.02261352,\n",
       "       -0.03169414, -0.03036948, -0.02261352, -0.02914932, -0.03169414,\n",
       "       -0.03132122, -0.01586759, -0.02914932, -0.03036948, -0.01586759,\n",
       "       -0.03169414, -0.01586759, -0.02261352, -0.02261352, -0.01945358,\n",
       "       -0.02342741, -0.02358455, -0.02914932, -0.03132122, -0.03132122,\n",
       "       -0.03264588, -0.02261352, -0.01945358, -0.01586759, -0.02263372,\n",
       "       -0.02358455, -0.01586759, -0.01586759, -0.03169414, -0.03132122,\n",
       "       -0.0159177 , -0.03264588, -0.02342741, -0.01586759, -0.02263102,\n",
       "       -0.0159177 , -0.02277499, -0.02261352, -0.02914932, -0.02261352,\n",
       "       -0.02358455, -0.01945358, -0.02261352, -0.02342741, -0.02914932,\n",
       "       -0.01882225, -0.025411  , -0.02342741, -0.02358455, -0.02261352,\n",
       "       -0.03264588, -0.02342741, -0.02914932, -0.01586759, -0.03132122,\n",
       "       -0.02261352, -0.02261352, -0.0159177 , -0.01947467, -0.02261352,\n",
       "       -0.02261352, -0.01586759, -0.02277499, -0.01586759,  0.01157534,\n",
       "       -0.02261352, -0.01945358, -0.02261352, -0.02914932, -0.01586759,\n",
       "       -0.02263102, -0.01202362, -0.02342741, -0.03264588, -0.03132122,\n",
       "       -0.03264588, -0.01101028, -0.01945358, -0.03036948, -0.03169414,\n",
       "       -0.03169414, -0.02914932, -0.01586759, -0.02342741, -0.02261352,\n",
       "       -0.03264588, -0.02358455, -0.02342741, -0.01945358, -0.03264588,\n",
       "       -0.01586759, -0.02261352, -0.02914932, -0.02914932, -0.02733565,\n",
       "       -0.02358455, -0.01586759, -0.02342741, -0.02261352, -0.02914932,\n",
       "       -0.03036948, -0.02261352, -0.02342741, -0.02277499, -0.0159177 ,\n",
       "        0.00489722, -0.02261352, -0.03169414, -0.03169414, -0.0159177 ,\n",
       "       -0.03169414, -0.03132122, -0.02261352, -0.03264588, -0.02914932,\n",
       "        0.00023425, -0.01586759, -0.03036948, -0.01586759, -0.02342741,\n",
       "       -0.02914932, -0.03036948, -0.03264588, -0.03132122, -0.02914932,\n",
       "        0.01757732, -0.02261352, -0.02342741, -0.01586759, -0.01586759,\n",
       "       -0.03036948, -0.01586759, -0.02261352, -0.03036948,  0.01049378,\n",
       "       -0.03169414, -0.01586759, -0.0159177 , -0.01586759, -0.03036948,\n",
       "       -0.03132122, -0.03132122, -0.02914932,  0.00644045, -0.03169414,\n",
       "       -0.025411  , -0.01586759, -0.02358455, -0.02358455, -0.02358455,\n",
       "       -0.03036948, -0.03036948, -0.02401584, -0.02358455, -0.01586759,\n",
       "       -0.03036948, -0.03036948, -0.02261352, -0.01586759, -0.03264588,\n",
       "       -0.02261352, -0.01586759, -0.02261352, -0.01945358, -0.01586759,\n",
       "       -0.01586759,  0.01006342, -0.03264588, -0.02277499, -0.01051428,\n",
       "       -0.02261352, -0.03264588, -0.03169414, -0.02261352, -0.02401584,\n",
       "       -0.03036948, -0.0159177 , -0.03036948, -0.02261352, -0.03169414,\n",
       "       -0.02261352, -0.02261352, -0.01947467, -0.03036948, -0.02914932,\n",
       "       -0.01586759, -0.01945358, -0.025411  , -0.03264588, -0.02261352,\n",
       "       -0.03132122, -0.02914932, -0.02261352, -0.01586759, -0.03036948,\n",
       "       -0.01586759, -0.025411  , -0.03036948, -0.03036948, -0.02261352,\n",
       "       -0.02261352, -0.04242101, -0.03264588, -0.01586759, -0.02261352,\n",
       "       -0.03169414, -0.02261352, -0.02261352, -0.02342741, -0.02358455,\n",
       "       -0.03036948, -0.02914932, -0.01101028, -0.03169414, -0.03169414,\n",
       "       -0.01947467, -0.01586759, -0.03036948, -0.01051428, -0.03132122,\n",
       "       -0.02261352, -0.02130905, -0.02358455, -0.03169414, -0.03036948,\n",
       "       -0.03169414, -0.03169414, -0.03036948, -0.02261352, -0.02914932,\n",
       "       -0.02342741, -0.03132122, -0.02342741, -0.02342741, -0.02277499,\n",
       "       -0.02342741, -0.02342741, -0.03036948, -0.025411  , -0.025411  ,\n",
       "       -0.02914932, -0.03036948, -0.01586759, -0.02401584, -0.02261352,\n",
       "       -0.02261352, -0.02342741, -0.02261352, -0.01586759, -0.03036948,\n",
       "       -0.02342741, -0.02914932, -0.0159177 , -0.03264588, -0.01945358,\n",
       "       -0.025411  ,  0.01239772, -0.03264588, -0.02914932, -0.01586759,\n",
       "       -0.03132122, -0.01586759, -0.02277499, -0.01586759, -0.03036948,\n",
       "       -0.03264588, -0.02342741, -0.02261352, -0.02914932, -0.01586759,\n",
       "       -0.02261352, -0.03169414, -0.01945358, -0.01586759, -0.03036948,\n",
       "       -0.02261352, -0.02342741, -0.02342741, -0.03036948, -0.02277499,\n",
       "       -0.02358455, -0.025411  , -0.02342741, -0.02261352, -0.03169414,\n",
       "       -0.02261352, -0.02277499, -0.01586759, -0.04242101, -0.02401584,\n",
       "       -0.02263372, -0.03132122, -0.02733565, -0.02914932, -0.01586759,\n",
       "       -0.02261352, -0.01945358, -0.03132122, -0.01586759, -0.01945358,\n",
       "       -0.03036948, -0.03264588, -0.01586759, -0.02914932, -0.01586759,\n",
       "       -0.01101028, -0.02358455, -0.03132122, -0.03036948, -0.02261352,\n",
       "       -0.03264588, -0.02401584, -0.02358455, -0.03169414, -0.01586759,\n",
       "       -0.02342741, -0.02277499, -0.03264588, -0.01586759, -0.03169414,\n",
       "       -0.02261352, -0.02914932, -0.02261352, -0.01586759, -0.0159177 ,\n",
       "       -0.02358455, -0.02733565, -0.01945358, -0.02261352, -0.03036948,\n",
       "       -0.00573844, -0.02401584, -0.03036948, -0.02277499, -0.02261352,\n",
       "       -0.03169414, -0.02261352, -0.03132122, -0.02914932, -0.02358455,\n",
       "       -0.02358455, -0.03169414, -0.01586759, -0.03036948, -0.02914932,\n",
       "       -0.02261352, -0.02401584, -0.03036948, -0.02914932, -0.02261352,\n",
       "       -0.03132122, -0.03036948, -0.03036948, -0.01586759, -0.01586759,\n",
       "       -0.02401584, -0.02277499, -0.03036948, -0.03169414,  0.00644045,\n",
       "       -0.01202362, -0.04242101,  0.00644045, -0.03169414, -0.01586759,\n",
       "       -0.03036948, -0.01586759, -0.02342741,  0.01049378, -0.02358455,\n",
       "       -0.02358455, -0.01945358, -0.03264588, -0.02261352, -0.03036948,\n",
       "       -0.02261352, -0.03036948, -0.0159177 , -0.03036948, -0.03169414,\n",
       "       -0.02261352, -0.01586759, -0.02261352, -0.03036948, -0.02914932,\n",
       "       -0.02261352, -0.02342741, -0.025411  , -0.02358455, -0.02261352,\n",
       "       -0.03036948, -0.01586759, -0.01586759, -0.025411  , -0.03036948,\n",
       "       -0.01586759, -0.03036948, -0.02401584, -0.02261352, -0.025411  ,\n",
       "       -0.03132122, -0.03264588, -0.02914932, -0.02342741, -0.0159177 ,\n",
       "       -0.01586759, -0.02261352, -0.02358455, -0.01586759, -0.01586759,\n",
       "       -0.03036948,  0.01157534, -0.03169414, -0.01586759, -0.02261352,\n",
       "       -0.03132122, -0.03169414, -0.02914932, -0.03169414,  0.01757732,\n",
       "       -0.03036948, -0.02261352, -0.02914932, -0.02914932, -0.03036948,\n",
       "       -0.03036948, -0.02358455, -0.02261352, -0.0159177 , -0.03036948,\n",
       "       -0.01550084, -0.02914932, -0.03169414, -0.03036948, -0.02358455,\n",
       "       -0.01945358, -0.03132122, -0.02914932, -0.02358455, -0.01586759,\n",
       "       -0.03132122, -0.02358455, -0.02277499, -0.03169414, -0.01945358,\n",
       "       -0.03036948, -0.03036948, -0.01586759, -0.02342741, -0.01945358,\n",
       "       -0.02277499, -0.02401584, -0.02342741, -0.01945358, -0.03132122,\n",
       "       -0.03036948, -0.03169414, -0.01202362, -0.03132122, -0.03036948,\n",
       "       -0.03169414, -0.01586759, -0.01945358, -0.02261352, -0.02261352,\n",
       "       -0.0159177 ], dtype=float32)"
      ]
     },
     "execution_count": 21,
     "metadata": {},
     "output_type": "execute_result"
    }
   ],
   "source": [
    "preds_test"
   ]
  },
  {
   "cell_type": "markdown",
   "metadata": {},
   "source": [
    "## Evaluate"
   ]
  },
  {
   "cell_type": "code",
   "execution_count": 22,
   "metadata": {},
   "outputs": [],
   "source": [
    "#from sksurv.metrics import concordance_index_censored\n",
    "from xgbsurv.evaluation import cindex_censored, ibs"
   ]
  },
  {
   "cell_type": "code",
   "execution_count": 23,
   "metadata": {},
   "outputs": [
    {
     "data": {
      "text/plain": [
       "0.6719579736693919"
      ]
     },
     "execution_count": 23,
     "metadata": {},
     "output_type": "execute_result"
    }
   ],
   "source": [
    "# train\n",
    "cindex_censored(y_train, preds_train)"
   ]
  },
  {
   "cell_type": "code",
   "execution_count": 24,
   "metadata": {},
   "outputs": [
    {
     "data": {
      "text/plain": [
       "0.608648873117143"
      ]
     },
     "execution_count": 24,
     "metadata": {},
     "output_type": "execute_result"
    }
   ],
   "source": [
    "# test\n",
    "cindex_censored(y_test, preds_test)"
   ]
  },
  {
   "cell_type": "code",
   "execution_count": null,
   "metadata": {},
   "outputs": [],
   "source": []
  }
 ],
 "metadata": {
  "kernelspec": {
   "display_name": "xgbsurv",
   "language": "python",
   "name": "python3"
  },
  "language_info": {
   "codemirror_mode": {
    "name": "ipython",
    "version": 3
   },
   "file_extension": ".py",
   "mimetype": "text/x-python",
   "name": "python",
   "nbconvert_exporter": "python",
   "pygments_lexer": "ipython3",
   "version": "3.10.10"
  },
  "orig_nbformat": 4
 },
 "nbformat": 4,
 "nbformat_minor": 2
}
