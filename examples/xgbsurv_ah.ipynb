{
 "cells": [
  {
   "attachments": {},
   "cell_type": "markdown",
   "metadata": {},
   "source": [
    "# Introduction to the xgbsurv package - Accelerated Hazards\n",
    "\n",
    "This notebook introduces `xgbsurv` using a specific dataset. It structured by the following steps:\n",
    "\n",
    "- Load data\n",
    "- Load model\n",
    "- Fit model\n",
    "- Predict and evaluate model\n",
    "\n",
    "The syntax conveniently follows that of sklearn."
   ]
  },
  {
   "cell_type": "code",
   "execution_count": 25,
   "metadata": {},
   "outputs": [
    {
     "name": "stdout",
     "output_type": "stream",
     "text": [
      "The autoreload extension is already loaded. To reload it, use:\n",
      "  %reload_ext autoreload\n"
     ]
    }
   ],
   "source": [
    "from xgbsurv.datasets import load_metabric\n",
    "from xgbsurv import XGBSurv\n",
    "from sklearn.model_selection import train_test_split\n",
    "import numpy as np\n",
    "%load_ext autoreload\n",
    "%autoreload 2\n"
   ]
  },
  {
   "attachments": {},
   "cell_type": "markdown",
   "metadata": {},
   "source": [
    "## Load Data"
   ]
  },
  {
   "cell_type": "code",
   "execution_count": 26,
   "metadata": {},
   "outputs": [],
   "source": [
    "data, target = load_metabric(path=\"/Users/JUSC/Documents/xgbsurv/xgbsurv/datasets/data/\", as_frame=False)\n",
    "target_sign = np.sign(target)\n",
    "X_train, X_test, y_train, y_test = train_test_split(data, target, stratify=target_sign)"
   ]
  },
  {
   "attachments": {},
   "cell_type": "markdown",
   "metadata": {},
   "source": [
    "## Load Model"
   ]
  },
  {
   "cell_type": "code",
   "execution_count": 27,
   "metadata": {},
   "outputs": [],
   "source": [
    "model = XGBSurv(n_estimators=100, objective=\"ah_objective\",\n",
    "                                             eval_metric=\"ah_loss\",\n",
    "                                             learning_rate=0.3,\n",
    "                                             random_state=7, \n",
    "                                             disable_default_eval_metric=True,\n",
    "                                             base_score=0.0)"
   ]
  },
  {
   "cell_type": "markdown",
   "metadata": {},
   "source": [
    "The options of loss and objective functions can be obtained like below:"
   ]
  },
  {
   "cell_type": "code",
   "execution_count": 28,
   "metadata": {},
   "outputs": [
    {
     "name": "stdout",
     "output_type": "stream",
     "text": [
      "dict_keys(['breslow_loss', 'efron_loss', 'cind_loss', 'deephit_loss', 'aft_loss', 'ah_loss'])\n",
      "dict_keys(['breslow_objective', 'efron_objective', 'cind_objective', 'deephit_objective', 'aft_objective', 'ah_objective'])\n"
     ]
    }
   ],
   "source": [
    "print(model.get_loss_functions().keys())\n",
    "print(model.get_objective_functions().keys())"
   ]
  },
  {
   "cell_type": "markdown",
   "metadata": {},
   "source": [
    "## Fit Model"
   ]
  },
  {
   "cell_type": "code",
   "execution_count": 29,
   "metadata": {},
   "outputs": [],
   "source": [
    "eval_set = [(X_train, y_train)]"
   ]
  },
  {
   "cell_type": "code",
   "execution_count": 30,
   "metadata": {},
   "outputs": [
    {
     "name": "stdout",
     "output_type": "stream",
     "text": [
      "[0]\tvalidation_0-ah_likelihood:3.56551\n",
      "[1]\tvalidation_0-ah_likelihood:3.56516\n",
      "[2]\tvalidation_0-ah_likelihood:3.56481\n",
      "[3]\tvalidation_0-ah_likelihood:3.56447\n",
      "[4]\tvalidation_0-ah_likelihood:3.56412\n",
      "[5]\tvalidation_0-ah_likelihood:3.56377\n",
      "[6]\tvalidation_0-ah_likelihood:3.56342\n",
      "[7]\tvalidation_0-ah_likelihood:3.56307\n",
      "[8]\tvalidation_0-ah_likelihood:3.56272\n",
      "[9]\tvalidation_0-ah_likelihood:3.56238\n",
      "[10]\tvalidation_0-ah_likelihood:3.56203\n",
      "[11]\tvalidation_0-ah_likelihood:3.56168\n",
      "[12]\tvalidation_0-ah_likelihood:3.56133\n",
      "[13]\tvalidation_0-ah_likelihood:3.56099\n",
      "[14]\tvalidation_0-ah_likelihood:3.56064\n",
      "[15]\tvalidation_0-ah_likelihood:3.56029\n",
      "[16]\tvalidation_0-ah_likelihood:3.55994\n",
      "[17]\tvalidation_0-ah_likelihood:3.55960\n",
      "[18]\tvalidation_0-ah_likelihood:3.55925\n",
      "[19]\tvalidation_0-ah_likelihood:3.55890\n",
      "[20]\tvalidation_0-ah_likelihood:3.55856\n",
      "[21]\tvalidation_0-ah_likelihood:3.55821\n",
      "[22]\tvalidation_0-ah_likelihood:3.55786\n",
      "[23]\tvalidation_0-ah_likelihood:3.55751\n",
      "[24]\tvalidation_0-ah_likelihood:3.55717\n",
      "[25]\tvalidation_0-ah_likelihood:3.55682\n",
      "[26]\tvalidation_0-ah_likelihood:3.55647\n",
      "[27]\tvalidation_0-ah_likelihood:3.55613\n",
      "[28]\tvalidation_0-ah_likelihood:3.55578\n",
      "[29]\tvalidation_0-ah_likelihood:3.55544\n",
      "[30]\tvalidation_0-ah_likelihood:3.55509\n",
      "[31]\tvalidation_0-ah_likelihood:3.55486\n",
      "[32]\tvalidation_0-ah_likelihood:3.55462\n",
      "[33]\tvalidation_0-ah_likelihood:3.55439\n",
      "[34]\tvalidation_0-ah_likelihood:3.55416\n",
      "[35]\tvalidation_0-ah_likelihood:3.55392\n",
      "[36]\tvalidation_0-ah_likelihood:3.55369\n",
      "[37]\tvalidation_0-ah_likelihood:3.55346\n",
      "[38]\tvalidation_0-ah_likelihood:3.55323\n",
      "[39]\tvalidation_0-ah_likelihood:3.55299\n",
      "[40]\tvalidation_0-ah_likelihood:3.55276\n",
      "[41]\tvalidation_0-ah_likelihood:3.55253\n",
      "[42]\tvalidation_0-ah_likelihood:3.55230\n",
      "[43]\tvalidation_0-ah_likelihood:3.55206\n",
      "[44]\tvalidation_0-ah_likelihood:3.55183\n",
      "[45]\tvalidation_0-ah_likelihood:3.55160\n",
      "[46]\tvalidation_0-ah_likelihood:3.55137\n",
      "[47]\tvalidation_0-ah_likelihood:3.55114\n",
      "[48]\tvalidation_0-ah_likelihood:3.55091\n",
      "[49]\tvalidation_0-ah_likelihood:3.55067\n",
      "[50]\tvalidation_0-ah_likelihood:3.55044\n",
      "[51]\tvalidation_0-ah_likelihood:3.55021\n",
      "[52]\tvalidation_0-ah_likelihood:3.54998\n",
      "[53]\tvalidation_0-ah_likelihood:3.54975\n",
      "[54]\tvalidation_0-ah_likelihood:3.54951\n",
      "[55]\tvalidation_0-ah_likelihood:3.54928\n",
      "[56]\tvalidation_0-ah_likelihood:3.54905\n",
      "[57]\tvalidation_0-ah_likelihood:3.54882\n",
      "[58]\tvalidation_0-ah_likelihood:3.54859\n",
      "[59]\tvalidation_0-ah_likelihood:3.54836\n",
      "[60]\tvalidation_0-ah_likelihood:3.54813\n",
      "[61]\tvalidation_0-ah_likelihood:3.54790\n",
      "[62]\tvalidation_0-ah_likelihood:3.54767\n",
      "[63]\tvalidation_0-ah_likelihood:3.54744\n",
      "[64]\tvalidation_0-ah_likelihood:3.54721\n",
      "[65]\tvalidation_0-ah_likelihood:3.54698\n",
      "[66]\tvalidation_0-ah_likelihood:3.54675\n",
      "[67]\tvalidation_0-ah_likelihood:3.54651\n",
      "[68]\tvalidation_0-ah_likelihood:3.54628\n",
      "[69]\tvalidation_0-ah_likelihood:3.54605\n",
      "[70]\tvalidation_0-ah_likelihood:3.54582\n",
      "[71]\tvalidation_0-ah_likelihood:3.54559\n",
      "[72]\tvalidation_0-ah_likelihood:3.54536\n",
      "[73]\tvalidation_0-ah_likelihood:3.54513\n",
      "[74]\tvalidation_0-ah_likelihood:3.54490\n",
      "[75]\tvalidation_0-ah_likelihood:3.54467\n",
      "[76]\tvalidation_0-ah_likelihood:3.54444\n",
      "[77]\tvalidation_0-ah_likelihood:3.54421\n",
      "[78]\tvalidation_0-ah_likelihood:3.54398\n",
      "[79]\tvalidation_0-ah_likelihood:3.54375\n",
      "[80]\tvalidation_0-ah_likelihood:3.54352\n",
      "[81]\tvalidation_0-ah_likelihood:3.54330\n",
      "[82]\tvalidation_0-ah_likelihood:3.54306\n",
      "[83]\tvalidation_0-ah_likelihood:3.54284\n",
      "[84]\tvalidation_0-ah_likelihood:3.54261\n",
      "[85]\tvalidation_0-ah_likelihood:3.54238\n",
      "[86]\tvalidation_0-ah_likelihood:3.54215\n",
      "[87]\tvalidation_0-ah_likelihood:3.54192\n",
      "[88]\tvalidation_0-ah_likelihood:3.54169\n",
      "[89]\tvalidation_0-ah_likelihood:3.54146\n",
      "[90]\tvalidation_0-ah_likelihood:3.54123\n",
      "[91]\tvalidation_0-ah_likelihood:3.54100\n",
      "[92]\tvalidation_0-ah_likelihood:3.54077\n",
      "[93]\tvalidation_0-ah_likelihood:3.54054\n",
      "[94]\tvalidation_0-ah_likelihood:3.54031\n",
      "[95]\tvalidation_0-ah_likelihood:3.54008\n",
      "[96]\tvalidation_0-ah_likelihood:3.53986\n",
      "[97]\tvalidation_0-ah_likelihood:3.53963\n",
      "[98]\tvalidation_0-ah_likelihood:3.53940\n",
      "[99]\tvalidation_0-ah_likelihood:3.53917\n"
     ]
    },
    {
     "data": {
      "text/html": [
       "<style>#sk-container-id-2 {color: black;background-color: white;}#sk-container-id-2 pre{padding: 0;}#sk-container-id-2 div.sk-toggleable {background-color: white;}#sk-container-id-2 label.sk-toggleable__label {cursor: pointer;display: block;width: 100%;margin-bottom: 0;padding: 0.3em;box-sizing: border-box;text-align: center;}#sk-container-id-2 label.sk-toggleable__label-arrow:before {content: \"▸\";float: left;margin-right: 0.25em;color: #696969;}#sk-container-id-2 label.sk-toggleable__label-arrow:hover:before {color: black;}#sk-container-id-2 div.sk-estimator:hover label.sk-toggleable__label-arrow:before {color: black;}#sk-container-id-2 div.sk-toggleable__content {max-height: 0;max-width: 0;overflow: hidden;text-align: left;background-color: #f0f8ff;}#sk-container-id-2 div.sk-toggleable__content pre {margin: 0.2em;color: black;border-radius: 0.25em;background-color: #f0f8ff;}#sk-container-id-2 input.sk-toggleable__control:checked~div.sk-toggleable__content {max-height: 200px;max-width: 100%;overflow: auto;}#sk-container-id-2 input.sk-toggleable__control:checked~label.sk-toggleable__label-arrow:before {content: \"▾\";}#sk-container-id-2 div.sk-estimator input.sk-toggleable__control:checked~label.sk-toggleable__label {background-color: #d4ebff;}#sk-container-id-2 div.sk-label input.sk-toggleable__control:checked~label.sk-toggleable__label {background-color: #d4ebff;}#sk-container-id-2 input.sk-hidden--visually {border: 0;clip: rect(1px 1px 1px 1px);clip: rect(1px, 1px, 1px, 1px);height: 1px;margin: -1px;overflow: hidden;padding: 0;position: absolute;width: 1px;}#sk-container-id-2 div.sk-estimator {font-family: monospace;background-color: #f0f8ff;border: 1px dotted black;border-radius: 0.25em;box-sizing: border-box;margin-bottom: 0.5em;}#sk-container-id-2 div.sk-estimator:hover {background-color: #d4ebff;}#sk-container-id-2 div.sk-parallel-item::after {content: \"\";width: 100%;border-bottom: 1px solid gray;flex-grow: 1;}#sk-container-id-2 div.sk-label:hover label.sk-toggleable__label {background-color: #d4ebff;}#sk-container-id-2 div.sk-serial::before {content: \"\";position: absolute;border-left: 1px solid gray;box-sizing: border-box;top: 0;bottom: 0;left: 50%;z-index: 0;}#sk-container-id-2 div.sk-serial {display: flex;flex-direction: column;align-items: center;background-color: white;padding-right: 0.2em;padding-left: 0.2em;position: relative;}#sk-container-id-2 div.sk-item {position: relative;z-index: 1;}#sk-container-id-2 div.sk-parallel {display: flex;align-items: stretch;justify-content: center;background-color: white;position: relative;}#sk-container-id-2 div.sk-item::before, #sk-container-id-2 div.sk-parallel-item::before {content: \"\";position: absolute;border-left: 1px solid gray;box-sizing: border-box;top: 0;bottom: 0;left: 50%;z-index: -1;}#sk-container-id-2 div.sk-parallel-item {display: flex;flex-direction: column;z-index: 1;position: relative;background-color: white;}#sk-container-id-2 div.sk-parallel-item:first-child::after {align-self: flex-end;width: 50%;}#sk-container-id-2 div.sk-parallel-item:last-child::after {align-self: flex-start;width: 50%;}#sk-container-id-2 div.sk-parallel-item:only-child::after {width: 0;}#sk-container-id-2 div.sk-dashed-wrapped {border: 1px dashed gray;margin: 0 0.4em 0.5em 0.4em;box-sizing: border-box;padding-bottom: 0.4em;background-color: white;}#sk-container-id-2 div.sk-label label {font-family: monospace;font-weight: bold;display: inline-block;line-height: 1.2em;}#sk-container-id-2 div.sk-label-container {text-align: center;}#sk-container-id-2 div.sk-container {/* jupyter's `normalize.less` sets `[hidden] { display: none; }` but bootstrap.min.css set `[hidden] { display: none !important; }` so we also need the `!important` here to be able to override the default hidden behavior on the sphinx rendered scikit-learn.org. See: https://github.com/scikit-learn/scikit-learn/issues/21755 */display: inline-block !important;position: relative;}#sk-container-id-2 div.sk-text-repr-fallback {display: none;}</style><div id=\"sk-container-id-2\" class=\"sk-top-container\"><div class=\"sk-text-repr-fallback\"><pre>XGBSurv(base_score=0.0, booster=None, callbacks=None, colsample_bylevel=None,\n",
       "        colsample_bynode=None, colsample_bytree=None,\n",
       "        disable_default_eval_metric=True, early_stopping_rounds=None,\n",
       "        enable_categorical=False,\n",
       "        eval_metric=CPUDispatcher(&lt;function ah_likelihood at 0x7fca085da9e0&gt;),\n",
       "        feature_types=None, gamma=None, gpu_id=None, grow_policy=None,\n",
       "        importance_type=None, interaction_constraints=None, learning_rate=0.3,\n",
       "        max_bin=None, max_cat_threshold=None, max_cat_to_onehot=None,\n",
       "        max_delta_step=None, max_depth=None, max_leaves=None,\n",
       "        min_child_weight=None, missing=nan, monotone_constraints=None,\n",
       "        n_estimators=100, n_jobs=None, num_parallel_tree=None,\n",
       "        objective=CPUDispatcher(&lt;function ah_objective at 0x7fca085dac20&gt;), ...)</pre><b>In a Jupyter environment, please rerun this cell to show the HTML representation or trust the notebook. <br />On GitHub, the HTML representation is unable to render, please try loading this page with nbviewer.org.</b></div><div class=\"sk-container\" hidden><div class=\"sk-item\"><div class=\"sk-estimator sk-toggleable\"><input class=\"sk-toggleable__control sk-hidden--visually\" id=\"sk-estimator-id-2\" type=\"checkbox\" checked><label for=\"sk-estimator-id-2\" class=\"sk-toggleable__label sk-toggleable__label-arrow\">XGBSurv</label><div class=\"sk-toggleable__content\"><pre>XGBSurv(base_score=0.0, booster=None, callbacks=None, colsample_bylevel=None,\n",
       "        colsample_bynode=None, colsample_bytree=None,\n",
       "        disable_default_eval_metric=True, early_stopping_rounds=None,\n",
       "        enable_categorical=False,\n",
       "        eval_metric=CPUDispatcher(&lt;function ah_likelihood at 0x7fca085da9e0&gt;),\n",
       "        feature_types=None, gamma=None, gpu_id=None, grow_policy=None,\n",
       "        importance_type=None, interaction_constraints=None, learning_rate=0.3,\n",
       "        max_bin=None, max_cat_threshold=None, max_cat_to_onehot=None,\n",
       "        max_delta_step=None, max_depth=None, max_leaves=None,\n",
       "        min_child_weight=None, missing=nan, monotone_constraints=None,\n",
       "        n_estimators=100, n_jobs=None, num_parallel_tree=None,\n",
       "        objective=CPUDispatcher(&lt;function ah_objective at 0x7fca085dac20&gt;), ...)</pre></div></div></div></div></div>"
      ],
      "text/plain": [
       "XGBSurv(base_score=0.0, booster=None, callbacks=None, colsample_bylevel=None,\n",
       "        colsample_bynode=None, colsample_bytree=None,\n",
       "        disable_default_eval_metric=True, early_stopping_rounds=None,\n",
       "        enable_categorical=False,\n",
       "        eval_metric=CPUDispatcher(<function ah_likelihood at 0x7fca085da9e0>),\n",
       "        feature_types=None, gamma=None, gpu_id=None, grow_policy=None,\n",
       "        importance_type=None, interaction_constraints=None, learning_rate=0.3,\n",
       "        max_bin=None, max_cat_threshold=None, max_cat_to_onehot=None,\n",
       "        max_delta_step=None, max_depth=None, max_leaves=None,\n",
       "        min_child_weight=None, missing=nan, monotone_constraints=None,\n",
       "        n_estimators=100, n_jobs=None, num_parallel_tree=None,\n",
       "        objective=CPUDispatcher(<function ah_objective at 0x7fca085dac20>), ...)"
      ]
     },
     "execution_count": 30,
     "metadata": {},
     "output_type": "execute_result"
    }
   ],
   "source": [
    "model.fit(X_train, y_train, eval_set=eval_set)"
   ]
  },
  {
   "attachments": {},
   "cell_type": "markdown",
   "metadata": {},
   "source": [
    "The model can be saved like below. Note that objective and eval_metric are not saved."
   ]
  },
  {
   "cell_type": "markdown",
   "metadata": {},
   "source": [
    "## Predict"
   ]
  },
  {
   "cell_type": "code",
   "execution_count": 32,
   "metadata": {},
   "outputs": [],
   "source": [
    "preds_train = model.predict(X_train, output_margin=True)\n",
    "preds_test = model.predict(X_test, output_margin=True)"
   ]
  },
  {
   "cell_type": "code",
   "execution_count": 33,
   "metadata": {},
   "outputs": [
    {
     "data": {
      "text/plain": [
       "array([-0.01782214, -0.02090764, -0.02114228, -0.02090764, -0.03134247,\n",
       "       -0.03134247, -0.02800552, -0.03023037, -0.01791012, -0.02070156,\n",
       "       -0.03134247, -0.02800552, -0.02269631, -0.03134247, -0.01407798,\n",
       "       -0.03134247, -0.03023037, -0.01525407, -0.02090764, -0.01791012,\n",
       "       -0.03134247, -0.01407798, -0.03134247, -0.03023037,  0.01735069,\n",
       "       -0.01791012, -0.03134247, -0.01974595, -0.0220583 , -0.02090764,\n",
       "       -0.02070156, -0.01791012, -0.0207073 , -0.02090764, -0.02800552,\n",
       "       -0.03134247, -0.02090764, -0.02070156, -0.01782214, -0.02070156,\n",
       "       -0.02090764, -0.02070156, -0.03134247, -0.022338  , -0.02040849,\n",
       "       -0.01464348, -0.02057973, -0.02090764, -0.03134247, -0.03134247,\n",
       "       -0.02800552, -0.02090764, -0.0207073 , -0.02336937, -0.02233403,\n",
       "       -0.03134247, -0.02336937, -0.0220583 , -0.03134247, -0.02336937,\n",
       "       -0.02070156, -0.00751907, -0.03134247, -0.03134247, -0.01464348,\n",
       "       -0.03134247, -0.02233403, -0.02269631, -0.01782214, -0.03134247,\n",
       "       -0.03134247, -0.03134247, -0.03134247, -0.01195125, -0.0207073 ,\n",
       "       -0.03134247, -0.01791012, -0.02800552, -0.022338  , -0.01392377,\n",
       "       -0.03134247, -0.02269631, -0.03134247, -0.01791012, -0.02800552,\n",
       "       -0.01407798, -0.03134247, -0.03134247, -0.01800917, -0.03134247,\n",
       "       -0.03134247, -0.0213937 , -0.03134247, -0.03134247, -0.03134247,\n",
       "       -0.03134247, -0.0207073 , -0.01791012, -0.03134247, -0.01407798,\n",
       "       -0.00519221, -0.02269631, -0.01791012, -0.01832177, -0.02269631,\n",
       "       -0.0220583 , -0.0220583 , -0.02800552, -0.01791012, -0.03041701,\n",
       "       -0.0220583 , -0.0220583 , -0.00335328, -0.0220583 , -0.02800552,\n",
       "       -0.01407798, -0.00519221, -0.02070156, -0.02800552, -0.02800552,\n",
       "       -0.03134247, -0.022338  , -0.01791012, -0.00235314, -0.00335328,\n",
       "       -0.02269631, -0.02336937, -0.02800552, -0.01800917, -0.01407798,\n",
       "       -0.03134247, -0.01833017, -0.01407798, -0.02070156, -0.01791012,\n",
       "       -0.03134247, -0.0213937 , -0.01791012, -0.02269631, -0.01791012,\n",
       "       -0.01833017, -0.02269631, -0.03134247, -0.03134247, -0.02336937,\n",
       "       -0.03134247, -0.01791012, -0.03134247, -0.03134247, -0.02336937,\n",
       "       -0.01851017, -0.0220583 ,  0.00772827, -0.03134247, -0.03134247,\n",
       "       -0.02336937, -0.02269631, -0.02336937, -0.02090764, -0.0220583 ,\n",
       "       -0.02800552, -0.03134247, -0.0220583 , -0.02800552, -0.02269631,\n",
       "       -0.02070156, -0.03134247, -0.03134247, -0.0220583 , -0.00376892,\n",
       "       -0.02070156, -0.02336937, -0.02209664, -0.03134247, -0.01341574,\n",
       "       -0.03134247, -0.03134247, -0.01791012, -0.0220583 , -0.02800552,\n",
       "       -0.02800552, -0.01791012, -0.01341574, -0.022338  , -0.01407798,\n",
       "       -0.00335328, -0.01464348, -0.03134247, -0.02090764, -0.03134247,\n",
       "       -0.02070156, -0.03134247, -0.00335328, -0.01290526, -0.02800552,\n",
       "       -0.0220583 , -0.0207073 , -0.02233403, -0.00519221, -0.01791012,\n",
       "       -0.00335328, -0.0220583 , -0.02070156, -0.01782214, -0.01516028,\n",
       "       -0.0250735 , -0.03134247, -0.02090764, -0.01791012, -0.02090764,\n",
       "       -0.03134247, -0.03134247, -0.03134247, -0.02800552, -0.03134247,\n",
       "       -0.0220583 , -0.0220583 , -0.03134247, -0.03583645, -0.01851017,\n",
       "       -0.03134247, -0.01791012, -0.0220583 , -0.02481093, -0.03134247,\n",
       "       -0.02481093, -0.01407798, -0.03134247, -0.0220583 , -0.02269631,\n",
       "       -0.00849885, -0.02233403, -0.03134247, -0.02090764, -0.02090764,\n",
       "       -0.02800552, -0.0220583 , -0.02090764, -0.03134247, -0.02800552,\n",
       "       -0.00335328, -0.03134247, -0.03134247, -0.0220583 , -0.03134247,\n",
       "       -0.02090764, -0.03134247, -0.03134247, -0.03134247, -0.0220583 ,\n",
       "       -0.01833017, -0.03134247, -0.03134247, -0.03134247, -0.02800552,\n",
       "       -0.0220583 , -0.03134247, -0.03134247, -0.02336937, -0.01791012,\n",
       "       -0.0220583 , -0.02336937, -0.03134247, -0.01782214, -0.03134247,\n",
       "       -0.01791012, -0.01464348, -0.01800917, -0.0220583 , -0.02090764,\n",
       "       -0.03134247, -0.03134247, -0.03134247, -0.01392377, -0.01791012,\n",
       "       -0.01464348, -0.03134247, -0.02090764, -0.03134247, -0.02090764,\n",
       "       -0.03023037, -0.03134247, -0.02336937, -0.02090764, -0.03023037,\n",
       "       -0.01833017, -0.02800552, -0.03134247, -0.02800552, -0.03134247,\n",
       "       -0.03134247, -0.01407798, -0.03134247, -0.01151181, -0.01151181,\n",
       "       -0.02090764, -0.01833017, -0.02233403, -0.02233403, -0.01791012,\n",
       "       -0.02336937, -0.02090764, -0.02800552, -0.03134247, -0.0220583 ,\n",
       "       -0.03134247, -0.02090764, -0.01833017, -0.02090764, -0.02269631,\n",
       "       -0.03134247, -0.03134247, -0.01997674, -0.03134247, -0.03134247,\n",
       "       -0.03134247, -0.01832177, -0.02336937, -0.03134247, -0.02800552,\n",
       "       -0.03134247, -0.02800552, -0.03134247, -0.01791012, -0.02800552,\n",
       "       -0.03134247, -0.02233403, -0.02800552, -0.03134247, -0.03134247,\n",
       "       -0.03134247, -0.03134247, -0.03134247, -0.02336937, -0.01407798,\n",
       "       -0.03134247, -0.01791012, -0.01782214, -0.03134247, -0.02336937,\n",
       "       -0.03134247, -0.03134247, -0.03134247, -0.03134247,  0.01969096,\n",
       "       -0.02800552, -0.01791012, -0.03134247, -0.01782214, -0.02800552,\n",
       "       -0.02090764, -0.02090764, -0.03134247, -0.03134247, -0.03134247,\n",
       "       -0.03134247, -0.03134247, -0.01464348, -0.01407798, -0.01195125,\n",
       "       -0.01791012, -0.01557507, -0.01851017, -0.03134247, -0.03134247,\n",
       "       -0.03134247, -0.03134247, -0.02800552, -0.03583645, -0.03583645,\n",
       "       -0.02800552, -0.01800917, -0.02800552, -0.03134247, -0.02090764,\n",
       "       -0.03134247, -0.02269631, -0.03134247, -0.02269631, -0.02233403,\n",
       "       -0.03134247, -0.02090764, -0.03023037, -0.0220583 , -0.03134247,\n",
       "       -0.02090764, -0.02336937, -0.01407798, -0.03134247, -0.01833017,\n",
       "       -0.02800552, -0.03134247, -0.01791012, -0.02800552, -0.02090764,\n",
       "       -0.0220583 , -0.02336937, -0.03134247, -0.02369178, -0.03023037,\n",
       "       -0.03583645, -0.022338  , -0.0220583 , -0.03134247, -0.01791012,\n",
       "       -0.00751907, -0.02800552, -0.03134247, -0.02336937, -0.03583645,\n",
       "       -0.01791012, -0.01464348, -0.02269631, -0.03134247, -0.03134247,\n",
       "       -0.00751907, -0.03134247, -0.03134247, -0.02800552, -0.0220583 ,\n",
       "       -0.03134247, -0.03134247, -0.03134247, -0.03134247, -0.00519221,\n",
       "       -0.0220583 , -0.01407798, -0.02800552, -0.03134247, -0.0220583 ,\n",
       "       -0.02269631, -0.03023037, -0.02090764, -0.02800552, -0.00235314,\n",
       "       -0.03134247, -0.03134247, -0.0220583 , -0.01407798, -0.03134247,\n",
       "       -0.02070156, -0.03134247, -0.01791012, -0.01832177, -0.02040849,\n",
       "       -0.02481093, -0.01464348, -0.00751907, -0.03134247, -0.01833017,\n",
       "       -0.01195125, -0.02233403, -0.0220583 , -0.03023037, -0.0220583 ,\n",
       "       -0.00335328, -0.02233403, -0.03134247, -0.0220583 , -0.01407798,\n",
       "       -0.02269631, -0.022338  , -0.03134247, -0.01404113, -0.01407798,\n",
       "       -0.03023037, -0.02336937, -0.02090764, -0.00286117, -0.03134247,\n",
       "       -0.02800552, -0.01392377,  0.01735069, -0.03134247, -0.01791012,\n",
       "       -0.0220583 ], dtype=float32)"
      ]
     },
     "execution_count": 33,
     "metadata": {},
     "output_type": "execute_result"
    }
   ],
   "source": [
    "preds_test"
   ]
  },
  {
   "cell_type": "markdown",
   "metadata": {},
   "source": [
    "## Evaluate"
   ]
  },
  {
   "cell_type": "code",
   "execution_count": 34,
   "metadata": {},
   "outputs": [],
   "source": [
    "#from sksurv.metrics import concordance_index_censored\n",
    "from xgbsurv.evaluation import cindex_censored, ibs"
   ]
  },
  {
   "cell_type": "code",
   "execution_count": 35,
   "metadata": {},
   "outputs": [
    {
     "data": {
      "text/plain": [
       "0.677029761702031"
      ]
     },
     "execution_count": 35,
     "metadata": {},
     "output_type": "execute_result"
    }
   ],
   "source": [
    "# train\n",
    "cindex_censored(y_train, preds_train)"
   ]
  },
  {
   "cell_type": "code",
   "execution_count": 36,
   "metadata": {},
   "outputs": [
    {
     "data": {
      "text/plain": [
       "0.5699006436452799"
      ]
     },
     "execution_count": 36,
     "metadata": {},
     "output_type": "execute_result"
    }
   ],
   "source": [
    "# test\n",
    "cindex_censored(y_test, preds_test)"
   ]
  },
  {
   "cell_type": "code",
   "execution_count": null,
   "metadata": {},
   "outputs": [],
   "source": []
  }
 ],
 "metadata": {
  "kernelspec": {
   "display_name": "xgbsurv",
   "language": "python",
   "name": "python3"
  },
  "language_info": {
   "codemirror_mode": {
    "name": "ipython",
    "version": 3
   },
   "file_extension": ".py",
   "mimetype": "text/x-python",
   "name": "python",
   "nbconvert_exporter": "python",
   "pygments_lexer": "ipython3",
   "version": "3.10.10"
  },
  "orig_nbformat": 4
 },
 "nbformat": 4,
 "nbformat_minor": 2
}
