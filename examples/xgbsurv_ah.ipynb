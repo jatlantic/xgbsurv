{
 "cells": [
  {
   "attachments": {},
   "cell_type": "markdown",
   "metadata": {},
   "source": [
    "# Introduction to the xgbsurv package - AH\n",
    "\n",
    "This notebook introduces `xgbsurv` using a specific dataset. It structured by the following steps:\n",
    "\n",
    "- Load data\n",
    "- Load model\n",
    "- Fit model\n",
    "- Predict and evaluate model\n",
    "\n",
    "The syntax conveniently follows that of sklearn."
   ]
  },
  {
   "cell_type": "code",
   "execution_count": 1,
   "metadata": {},
   "outputs": [],
   "source": [
    "from xgbsurv.datasets import load_metabric\n",
    "from xgbsurv import XGBSurv\n",
    "from xgbsurv.models.utils import sort_X_y, transform_back\n",
    "from pycox.evaluation import EvalSurv\n",
    "from sklearn.model_selection import train_test_split\n",
    "import numpy as np\n",
    "import matplotlib.pyplot as plt\n",
    "import os\n",
    "current_path = os.getcwd() \n",
    "one_level_up = os.path.abspath(os.path.join(current_path,  \"..\"))"
   ]
  },
  {
   "attachments": {},
   "cell_type": "markdown",
   "metadata": {},
   "source": [
    "## Load Data"
   ]
  },
  {
   "cell_type": "code",
   "execution_count": 2,
   "metadata": {},
   "outputs": [
    {
     "name": "stdout",
     "output_type": "stream",
     "text": [
      "Values are being sorted!\n",
      "Values are being sorted!\n"
     ]
    }
   ],
   "source": [
    "data = load_metabric(path=one_level_up+\"/xgbsurv/datasets/data/\", as_frame=False)\n",
    "# stratify by event indicated by sign\n",
    "target_sign = np.sign(data.target)\n",
    "X_train, X_test, y_train, y_test = train_test_split(data.data, data.target, stratify=target_sign)\n",
    "# sort data\n",
    "X_train, y_train = sort_X_y(X_train, y_train)\n",
    "X_test, y_test = sort_X_y(X_test, y_test)"
   ]
  },
  {
   "attachments": {},
   "cell_type": "markdown",
   "metadata": {},
   "source": [
    "## Load Model"
   ]
  },
  {
   "cell_type": "code",
   "execution_count": 3,
   "metadata": {},
   "outputs": [
    {
     "data": {
      "text/html": [
       "<style>#sk-container-id-1 {color: black;background-color: white;}#sk-container-id-1 pre{padding: 0;}#sk-container-id-1 div.sk-toggleable {background-color: white;}#sk-container-id-1 label.sk-toggleable__label {cursor: pointer;display: block;width: 100%;margin-bottom: 0;padding: 0.3em;box-sizing: border-box;text-align: center;}#sk-container-id-1 label.sk-toggleable__label-arrow:before {content: \"▸\";float: left;margin-right: 0.25em;color: #696969;}#sk-container-id-1 label.sk-toggleable__label-arrow:hover:before {color: black;}#sk-container-id-1 div.sk-estimator:hover label.sk-toggleable__label-arrow:before {color: black;}#sk-container-id-1 div.sk-toggleable__content {max-height: 0;max-width: 0;overflow: hidden;text-align: left;background-color: #f0f8ff;}#sk-container-id-1 div.sk-toggleable__content pre {margin: 0.2em;color: black;border-radius: 0.25em;background-color: #f0f8ff;}#sk-container-id-1 input.sk-toggleable__control:checked~div.sk-toggleable__content {max-height: 200px;max-width: 100%;overflow: auto;}#sk-container-id-1 input.sk-toggleable__control:checked~label.sk-toggleable__label-arrow:before {content: \"▾\";}#sk-container-id-1 div.sk-estimator input.sk-toggleable__control:checked~label.sk-toggleable__label {background-color: #d4ebff;}#sk-container-id-1 div.sk-label input.sk-toggleable__control:checked~label.sk-toggleable__label {background-color: #d4ebff;}#sk-container-id-1 input.sk-hidden--visually {border: 0;clip: rect(1px 1px 1px 1px);clip: rect(1px, 1px, 1px, 1px);height: 1px;margin: -1px;overflow: hidden;padding: 0;position: absolute;width: 1px;}#sk-container-id-1 div.sk-estimator {font-family: monospace;background-color: #f0f8ff;border: 1px dotted black;border-radius: 0.25em;box-sizing: border-box;margin-bottom: 0.5em;}#sk-container-id-1 div.sk-estimator:hover {background-color: #d4ebff;}#sk-container-id-1 div.sk-parallel-item::after {content: \"\";width: 100%;border-bottom: 1px solid gray;flex-grow: 1;}#sk-container-id-1 div.sk-label:hover label.sk-toggleable__label {background-color: #d4ebff;}#sk-container-id-1 div.sk-serial::before {content: \"\";position: absolute;border-left: 1px solid gray;box-sizing: border-box;top: 0;bottom: 0;left: 50%;z-index: 0;}#sk-container-id-1 div.sk-serial {display: flex;flex-direction: column;align-items: center;background-color: white;padding-right: 0.2em;padding-left: 0.2em;position: relative;}#sk-container-id-1 div.sk-item {position: relative;z-index: 1;}#sk-container-id-1 div.sk-parallel {display: flex;align-items: stretch;justify-content: center;background-color: white;position: relative;}#sk-container-id-1 div.sk-item::before, #sk-container-id-1 div.sk-parallel-item::before {content: \"\";position: absolute;border-left: 1px solid gray;box-sizing: border-box;top: 0;bottom: 0;left: 50%;z-index: -1;}#sk-container-id-1 div.sk-parallel-item {display: flex;flex-direction: column;z-index: 1;position: relative;background-color: white;}#sk-container-id-1 div.sk-parallel-item:first-child::after {align-self: flex-end;width: 50%;}#sk-container-id-1 div.sk-parallel-item:last-child::after {align-self: flex-start;width: 50%;}#sk-container-id-1 div.sk-parallel-item:only-child::after {width: 0;}#sk-container-id-1 div.sk-dashed-wrapped {border: 1px dashed gray;margin: 0 0.4em 0.5em 0.4em;box-sizing: border-box;padding-bottom: 0.4em;background-color: white;}#sk-container-id-1 div.sk-label label {font-family: monospace;font-weight: bold;display: inline-block;line-height: 1.2em;}#sk-container-id-1 div.sk-label-container {text-align: center;}#sk-container-id-1 div.sk-container {/* jupyter's `normalize.less` sets `[hidden] { display: none; }` but bootstrap.min.css set `[hidden] { display: none !important; }` so we also need the `!important` here to be able to override the default hidden behavior on the sphinx rendered scikit-learn.org. See: https://github.com/scikit-learn/scikit-learn/issues/21755 */display: inline-block !important;position: relative;}#sk-container-id-1 div.sk-text-repr-fallback {display: none;}</style><div id=\"sk-container-id-1\" class=\"sk-top-container\"><div class=\"sk-text-repr-fallback\"><pre>XGBSurv(base_score=None, booster=None, callbacks=None, colsample_bylevel=None,\n",
       "        colsample_bynode=None, colsample_bytree=None,\n",
       "        disable_default_eval_metric=1, early_stopping_rounds=None,\n",
       "        enable_categorical=False,\n",
       "        eval_metric=CPUDispatcher(&lt;function ah_likelihood at 0x2b79fd260&gt;),\n",
       "        feature_types=None, gamma=None, gpu_id=None, grow_policy=None,\n",
       "        importance_type=None, interaction_constraints=None, learning_rate=0.3,\n",
       "        max_bin=None, max_cat_threshold=None, max_cat_to_onehot=None,\n",
       "        max_delta_step=None, max_depth=None, max_leaves=None,\n",
       "        min_child_weight=None, missing=nan, monotone_constraints=None,\n",
       "        n_estimators=100, n_jobs=None, num_parallel_tree=None,\n",
       "        objective=CPUDispatcher(&lt;function ah_objective at 0x2b79fd4e0&gt;), ...)</pre><b>In a Jupyter environment, please rerun this cell to show the HTML representation or trust the notebook. <br />On GitHub, the HTML representation is unable to render, please try loading this page with nbviewer.org.</b></div><div class=\"sk-container\" hidden><div class=\"sk-item\"><div class=\"sk-estimator sk-toggleable\"><input class=\"sk-toggleable__control sk-hidden--visually\" id=\"sk-estimator-id-1\" type=\"checkbox\" checked><label for=\"sk-estimator-id-1\" class=\"sk-toggleable__label sk-toggleable__label-arrow\">XGBSurv</label><div class=\"sk-toggleable__content\"><pre>XGBSurv(base_score=None, booster=None, callbacks=None, colsample_bylevel=None,\n",
       "        colsample_bynode=None, colsample_bytree=None,\n",
       "        disable_default_eval_metric=1, early_stopping_rounds=None,\n",
       "        enable_categorical=False,\n",
       "        eval_metric=CPUDispatcher(&lt;function ah_likelihood at 0x2b79fd260&gt;),\n",
       "        feature_types=None, gamma=None, gpu_id=None, grow_policy=None,\n",
       "        importance_type=None, interaction_constraints=None, learning_rate=0.3,\n",
       "        max_bin=None, max_cat_threshold=None, max_cat_to_onehot=None,\n",
       "        max_delta_step=None, max_depth=None, max_leaves=None,\n",
       "        min_child_weight=None, missing=nan, monotone_constraints=None,\n",
       "        n_estimators=100, n_jobs=None, num_parallel_tree=None,\n",
       "        objective=CPUDispatcher(&lt;function ah_objective at 0x2b79fd4e0&gt;), ...)</pre></div></div></div></div></div>"
      ],
      "text/plain": [
       "XGBSurv(base_score=None, booster=None, callbacks=None, colsample_bylevel=None,\n",
       "        colsample_bynode=None, colsample_bytree=None,\n",
       "        disable_default_eval_metric=1, early_stopping_rounds=None,\n",
       "        enable_categorical=False,\n",
       "        eval_metric=CPUDispatcher(<function ah_likelihood at 0x2b79fd260>),\n",
       "        feature_types=None, gamma=None, gpu_id=None, grow_policy=None,\n",
       "        importance_type=None, interaction_constraints=None, learning_rate=0.3,\n",
       "        max_bin=None, max_cat_threshold=None, max_cat_to_onehot=None,\n",
       "        max_delta_step=None, max_depth=None, max_leaves=None,\n",
       "        min_child_weight=None, missing=nan, monotone_constraints=None,\n",
       "        n_estimators=100, n_jobs=None, num_parallel_tree=None,\n",
       "        objective=CPUDispatcher(<function ah_objective at 0x2b79fd4e0>), ...)"
      ]
     },
     "execution_count": 3,
     "metadata": {},
     "output_type": "execute_result"
    }
   ],
   "source": [
    "model = XGBSurv(n_estimators=100, objective=\"ah_objective\",\n",
    "                                             eval_metric=\"ah_loss\",\n",
    "                                             learning_rate=0.3,\n",
    "                                             random_state=42, \n",
    "                                             disable_default_eval_metric=1,\n",
    "                                             )\n",
    "model"
   ]
  },
  {
   "attachments": {},
   "cell_type": "markdown",
   "metadata": {},
   "source": [
    "The options of loss and objective functions can be obtained like below:"
   ]
  },
  {
   "cell_type": "code",
   "execution_count": 4,
   "metadata": {},
   "outputs": [
    {
     "name": "stdout",
     "output_type": "stream",
     "text": [
      "dict_keys(['breslow_loss', 'efron_loss', 'cind_loss', 'deephit_loss', 'aft_loss', 'ah_loss', 'eh_loss'])\n",
      "dict_keys(['breslow_objective', 'efron_objective', 'cind_objective', 'deephit_objective', 'aft_objective', 'ah_objective', 'eh_objective'])\n"
     ]
    }
   ],
   "source": [
    "print(model.get_loss_functions().keys())\n",
    "print(model.get_objective_functions().keys())"
   ]
  },
  {
   "attachments": {},
   "cell_type": "markdown",
   "metadata": {},
   "source": [
    "## Fit Model"
   ]
  },
  {
   "cell_type": "code",
   "execution_count": 5,
   "metadata": {},
   "outputs": [],
   "source": [
    "eval_set = [(X_train, y_train)]"
   ]
  },
  {
   "cell_type": "code",
   "execution_count": 6,
   "metadata": {},
   "outputs": [
    {
     "name": "stdout",
     "output_type": "stream",
     "text": [
      "[0]\tvalidation_0-ah_likelihood:2570.00342\n",
      "[1]\tvalidation_0-ah_likelihood:2565.68600\n",
      "[2]\tvalidation_0-ah_likelihood:2560.20158\n",
      "[3]\tvalidation_0-ah_likelihood:2555.41937\n",
      "[4]\tvalidation_0-ah_likelihood:2549.67519\n",
      "[5]\tvalidation_0-ah_likelihood:2541.89742\n",
      "[6]\tvalidation_0-ah_likelihood:2534.34041\n",
      "[7]\tvalidation_0-ah_likelihood:2527.35089\n",
      "[8]\tvalidation_0-ah_likelihood:2519.29435\n",
      "[9]\tvalidation_0-ah_likelihood:2507.68747\n",
      "[10]\tvalidation_0-ah_likelihood:2503.11686\n",
      "[11]\tvalidation_0-ah_likelihood:2492.07667\n",
      "[12]\tvalidation_0-ah_likelihood:2483.61760\n",
      "[13]\tvalidation_0-ah_likelihood:2466.56222\n",
      "[14]\tvalidation_0-ah_likelihood:2444.26127\n",
      "[15]\tvalidation_0-ah_likelihood:2430.26666\n",
      "[16]\tvalidation_0-ah_likelihood:2410.56677\n",
      "[17]\tvalidation_0-ah_likelihood:2404.45566\n",
      "[18]\tvalidation_0-ah_likelihood:2396.03042\n",
      "[19]\tvalidation_0-ah_likelihood:2379.58584\n",
      "[20]\tvalidation_0-ah_likelihood:2371.79053\n",
      "[21]\tvalidation_0-ah_likelihood:2362.06281\n",
      "[22]\tvalidation_0-ah_likelihood:2352.89385\n",
      "[23]\tvalidation_0-ah_likelihood:2338.83894\n",
      "[24]\tvalidation_0-ah_likelihood:2330.07872\n",
      "[25]\tvalidation_0-ah_likelihood:2326.11940\n",
      "[26]\tvalidation_0-ah_likelihood:2320.33204\n",
      "[27]\tvalidation_0-ah_likelihood:2317.46494\n",
      "[28]\tvalidation_0-ah_likelihood:2316.92060\n",
      "[29]\tvalidation_0-ah_likelihood:2312.35588\n",
      "[30]\tvalidation_0-ah_likelihood:2309.55510\n",
      "[31]\tvalidation_0-ah_likelihood:2306.32407\n",
      "[32]\tvalidation_0-ah_likelihood:2306.09715\n",
      "[33]\tvalidation_0-ah_likelihood:2304.42337\n",
      "[34]\tvalidation_0-ah_likelihood:2305.28777\n",
      "[35]\tvalidation_0-ah_likelihood:2306.24686\n",
      "[36]\tvalidation_0-ah_likelihood:2306.22393\n",
      "[37]\tvalidation_0-ah_likelihood:2306.13124\n",
      "[38]\tvalidation_0-ah_likelihood:2305.15370\n",
      "[39]\tvalidation_0-ah_likelihood:2304.23160\n",
      "[40]\tvalidation_0-ah_likelihood:2303.44747\n",
      "[41]\tvalidation_0-ah_likelihood:2303.51532\n",
      "[42]\tvalidation_0-ah_likelihood:2303.27424\n",
      "[43]\tvalidation_0-ah_likelihood:2305.66294\n",
      "[44]\tvalidation_0-ah_likelihood:2306.10334\n",
      "[45]\tvalidation_0-ah_likelihood:2308.51798\n",
      "[46]\tvalidation_0-ah_likelihood:2307.50746\n",
      "[47]\tvalidation_0-ah_likelihood:2307.74520\n",
      "[48]\tvalidation_0-ah_likelihood:2307.02365\n",
      "[49]\tvalidation_0-ah_likelihood:2307.32897\n",
      "[50]\tvalidation_0-ah_likelihood:2306.83899\n",
      "[51]\tvalidation_0-ah_likelihood:2306.88442\n",
      "[52]\tvalidation_0-ah_likelihood:2305.85510\n",
      "[53]\tvalidation_0-ah_likelihood:2305.15819\n",
      "[54]\tvalidation_0-ah_likelihood:2304.15154\n",
      "[55]\tvalidation_0-ah_likelihood:2303.11098\n",
      "[56]\tvalidation_0-ah_likelihood:2303.72711\n",
      "[57]\tvalidation_0-ah_likelihood:2302.78928\n",
      "[58]\tvalidation_0-ah_likelihood:2302.82006\n",
      "[59]\tvalidation_0-ah_likelihood:2301.64557\n",
      "[60]\tvalidation_0-ah_likelihood:2301.34947\n",
      "[61]\tvalidation_0-ah_likelihood:2300.37232\n",
      "[62]\tvalidation_0-ah_likelihood:2301.09371\n",
      "[63]\tvalidation_0-ah_likelihood:2297.75202\n",
      "[64]\tvalidation_0-ah_likelihood:2298.83063\n",
      "[65]\tvalidation_0-ah_likelihood:2297.06122\n",
      "[66]\tvalidation_0-ah_likelihood:2297.99979\n",
      "[67]\tvalidation_0-ah_likelihood:2295.25645\n",
      "[68]\tvalidation_0-ah_likelihood:2296.88966\n",
      "[69]\tvalidation_0-ah_likelihood:2294.62158\n",
      "[70]\tvalidation_0-ah_likelihood:2295.76424\n",
      "[71]\tvalidation_0-ah_likelihood:2293.46738\n",
      "[72]\tvalidation_0-ah_likelihood:2294.64137\n",
      "[73]\tvalidation_0-ah_likelihood:2292.32197\n",
      "[74]\tvalidation_0-ah_likelihood:2293.35952\n",
      "[75]\tvalidation_0-ah_likelihood:2291.02698\n",
      "[76]\tvalidation_0-ah_likelihood:2292.42820\n",
      "[77]\tvalidation_0-ah_likelihood:2287.44840\n",
      "[78]\tvalidation_0-ah_likelihood:2289.49883\n",
      "[79]\tvalidation_0-ah_likelihood:2287.18437\n",
      "[80]\tvalidation_0-ah_likelihood:2287.78451\n",
      "[81]\tvalidation_0-ah_likelihood:2285.69864\n",
      "[82]\tvalidation_0-ah_likelihood:2286.77454\n",
      "[83]\tvalidation_0-ah_likelihood:2285.06622\n",
      "[84]\tvalidation_0-ah_likelihood:2285.97155\n",
      "[85]\tvalidation_0-ah_likelihood:2283.61375\n",
      "[86]\tvalidation_0-ah_likelihood:2284.95889\n",
      "[87]\tvalidation_0-ah_likelihood:2283.82903\n",
      "[88]\tvalidation_0-ah_likelihood:2285.29360\n",
      "[89]\tvalidation_0-ah_likelihood:2283.55772\n",
      "[90]\tvalidation_0-ah_likelihood:2284.78014\n",
      "[91]\tvalidation_0-ah_likelihood:2282.97932\n",
      "[92]\tvalidation_0-ah_likelihood:2284.41860\n",
      "[93]\tvalidation_0-ah_likelihood:2282.71138\n",
      "[94]\tvalidation_0-ah_likelihood:2284.13003\n",
      "[95]\tvalidation_0-ah_likelihood:2282.47525\n",
      "[96]\tvalidation_0-ah_likelihood:2283.91889\n",
      "[97]\tvalidation_0-ah_likelihood:2282.18092\n",
      "[98]\tvalidation_0-ah_likelihood:2283.48952\n",
      "[99]\tvalidation_0-ah_likelihood:2281.57656\n"
     ]
    },
    {
     "data": {
      "text/html": [
       "<style>#sk-container-id-2 {color: black;background-color: white;}#sk-container-id-2 pre{padding: 0;}#sk-container-id-2 div.sk-toggleable {background-color: white;}#sk-container-id-2 label.sk-toggleable__label {cursor: pointer;display: block;width: 100%;margin-bottom: 0;padding: 0.3em;box-sizing: border-box;text-align: center;}#sk-container-id-2 label.sk-toggleable__label-arrow:before {content: \"▸\";float: left;margin-right: 0.25em;color: #696969;}#sk-container-id-2 label.sk-toggleable__label-arrow:hover:before {color: black;}#sk-container-id-2 div.sk-estimator:hover label.sk-toggleable__label-arrow:before {color: black;}#sk-container-id-2 div.sk-toggleable__content {max-height: 0;max-width: 0;overflow: hidden;text-align: left;background-color: #f0f8ff;}#sk-container-id-2 div.sk-toggleable__content pre {margin: 0.2em;color: black;border-radius: 0.25em;background-color: #f0f8ff;}#sk-container-id-2 input.sk-toggleable__control:checked~div.sk-toggleable__content {max-height: 200px;max-width: 100%;overflow: auto;}#sk-container-id-2 input.sk-toggleable__control:checked~label.sk-toggleable__label-arrow:before {content: \"▾\";}#sk-container-id-2 div.sk-estimator input.sk-toggleable__control:checked~label.sk-toggleable__label {background-color: #d4ebff;}#sk-container-id-2 div.sk-label input.sk-toggleable__control:checked~label.sk-toggleable__label {background-color: #d4ebff;}#sk-container-id-2 input.sk-hidden--visually {border: 0;clip: rect(1px 1px 1px 1px);clip: rect(1px, 1px, 1px, 1px);height: 1px;margin: -1px;overflow: hidden;padding: 0;position: absolute;width: 1px;}#sk-container-id-2 div.sk-estimator {font-family: monospace;background-color: #f0f8ff;border: 1px dotted black;border-radius: 0.25em;box-sizing: border-box;margin-bottom: 0.5em;}#sk-container-id-2 div.sk-estimator:hover {background-color: #d4ebff;}#sk-container-id-2 div.sk-parallel-item::after {content: \"\";width: 100%;border-bottom: 1px solid gray;flex-grow: 1;}#sk-container-id-2 div.sk-label:hover label.sk-toggleable__label {background-color: #d4ebff;}#sk-container-id-2 div.sk-serial::before {content: \"\";position: absolute;border-left: 1px solid gray;box-sizing: border-box;top: 0;bottom: 0;left: 50%;z-index: 0;}#sk-container-id-2 div.sk-serial {display: flex;flex-direction: column;align-items: center;background-color: white;padding-right: 0.2em;padding-left: 0.2em;position: relative;}#sk-container-id-2 div.sk-item {position: relative;z-index: 1;}#sk-container-id-2 div.sk-parallel {display: flex;align-items: stretch;justify-content: center;background-color: white;position: relative;}#sk-container-id-2 div.sk-item::before, #sk-container-id-2 div.sk-parallel-item::before {content: \"\";position: absolute;border-left: 1px solid gray;box-sizing: border-box;top: 0;bottom: 0;left: 50%;z-index: -1;}#sk-container-id-2 div.sk-parallel-item {display: flex;flex-direction: column;z-index: 1;position: relative;background-color: white;}#sk-container-id-2 div.sk-parallel-item:first-child::after {align-self: flex-end;width: 50%;}#sk-container-id-2 div.sk-parallel-item:last-child::after {align-self: flex-start;width: 50%;}#sk-container-id-2 div.sk-parallel-item:only-child::after {width: 0;}#sk-container-id-2 div.sk-dashed-wrapped {border: 1px dashed gray;margin: 0 0.4em 0.5em 0.4em;box-sizing: border-box;padding-bottom: 0.4em;background-color: white;}#sk-container-id-2 div.sk-label label {font-family: monospace;font-weight: bold;display: inline-block;line-height: 1.2em;}#sk-container-id-2 div.sk-label-container {text-align: center;}#sk-container-id-2 div.sk-container {/* jupyter's `normalize.less` sets `[hidden] { display: none; }` but bootstrap.min.css set `[hidden] { display: none !important; }` so we also need the `!important` here to be able to override the default hidden behavior on the sphinx rendered scikit-learn.org. See: https://github.com/scikit-learn/scikit-learn/issues/21755 */display: inline-block !important;position: relative;}#sk-container-id-2 div.sk-text-repr-fallback {display: none;}</style><div id=\"sk-container-id-2\" class=\"sk-top-container\"><div class=\"sk-text-repr-fallback\"><pre>XGBSurv(base_score=None, booster=None, callbacks=None, colsample_bylevel=None,\n",
       "        colsample_bynode=None, colsample_bytree=None,\n",
       "        disable_default_eval_metric=1, early_stopping_rounds=None,\n",
       "        enable_categorical=False,\n",
       "        eval_metric=CPUDispatcher(&lt;function ah_likelihood at 0x2b79fd260&gt;),\n",
       "        feature_types=None, gamma=None, gpu_id=None, grow_policy=None,\n",
       "        importance_type=None, interaction_constraints=None, learning_rate=0.3,\n",
       "        max_bin=None, max_cat_threshold=None, max_cat_to_onehot=None,\n",
       "        max_delta_step=None, max_depth=None, max_leaves=None,\n",
       "        min_child_weight=None, missing=nan, monotone_constraints=None,\n",
       "        n_estimators=100, n_jobs=None, num_parallel_tree=None,\n",
       "        objective=CPUDispatcher(&lt;function ah_objective at 0x2b79fd4e0&gt;), ...)</pre><b>In a Jupyter environment, please rerun this cell to show the HTML representation or trust the notebook. <br />On GitHub, the HTML representation is unable to render, please try loading this page with nbviewer.org.</b></div><div class=\"sk-container\" hidden><div class=\"sk-item\"><div class=\"sk-estimator sk-toggleable\"><input class=\"sk-toggleable__control sk-hidden--visually\" id=\"sk-estimator-id-2\" type=\"checkbox\" checked><label for=\"sk-estimator-id-2\" class=\"sk-toggleable__label sk-toggleable__label-arrow\">XGBSurv</label><div class=\"sk-toggleable__content\"><pre>XGBSurv(base_score=None, booster=None, callbacks=None, colsample_bylevel=None,\n",
       "        colsample_bynode=None, colsample_bytree=None,\n",
       "        disable_default_eval_metric=1, early_stopping_rounds=None,\n",
       "        enable_categorical=False,\n",
       "        eval_metric=CPUDispatcher(&lt;function ah_likelihood at 0x2b79fd260&gt;),\n",
       "        feature_types=None, gamma=None, gpu_id=None, grow_policy=None,\n",
       "        importance_type=None, interaction_constraints=None, learning_rate=0.3,\n",
       "        max_bin=None, max_cat_threshold=None, max_cat_to_onehot=None,\n",
       "        max_delta_step=None, max_depth=None, max_leaves=None,\n",
       "        min_child_weight=None, missing=nan, monotone_constraints=None,\n",
       "        n_estimators=100, n_jobs=None, num_parallel_tree=None,\n",
       "        objective=CPUDispatcher(&lt;function ah_objective at 0x2b79fd4e0&gt;), ...)</pre></div></div></div></div></div>"
      ],
      "text/plain": [
       "XGBSurv(base_score=None, booster=None, callbacks=None, colsample_bylevel=None,\n",
       "        colsample_bynode=None, colsample_bytree=None,\n",
       "        disable_default_eval_metric=1, early_stopping_rounds=None,\n",
       "        enable_categorical=False,\n",
       "        eval_metric=CPUDispatcher(<function ah_likelihood at 0x2b79fd260>),\n",
       "        feature_types=None, gamma=None, gpu_id=None, grow_policy=None,\n",
       "        importance_type=None, interaction_constraints=None, learning_rate=0.3,\n",
       "        max_bin=None, max_cat_threshold=None, max_cat_to_onehot=None,\n",
       "        max_delta_step=None, max_depth=None, max_leaves=None,\n",
       "        min_child_weight=None, missing=nan, monotone_constraints=None,\n",
       "        n_estimators=100, n_jobs=None, num_parallel_tree=None,\n",
       "        objective=CPUDispatcher(<function ah_objective at 0x2b79fd4e0>), ...)"
      ]
     },
     "execution_count": 6,
     "metadata": {},
     "output_type": "execute_result"
    }
   ],
   "source": [
    "model.fit(X_train, y_train, eval_set=eval_set)"
   ]
  },
  {
   "attachments": {},
   "cell_type": "markdown",
   "metadata": {},
   "source": [
    "The model can be saved like below. Note that objective and eval_metric are not saved."
   ]
  },
  {
   "cell_type": "code",
   "execution_count": 7,
   "metadata": {},
   "outputs": [],
   "source": [
    "#model.save_model(\"introduction_model_breslow.json\")"
   ]
  },
  {
   "attachments": {},
   "cell_type": "markdown",
   "metadata": {},
   "source": [
    "## Predict"
   ]
  },
  {
   "cell_type": "code",
   "execution_count": 8,
   "metadata": {},
   "outputs": [],
   "source": [
    "preds_train = model.predict(X_train, output_margin=True)\n",
    "preds_test = model.predict(X_test, output_margin=True)"
   ]
  },
  {
   "attachments": {},
   "cell_type": "markdown",
   "metadata": {},
   "source": [
    "### Predict Cumulative Hazard"
   ]
  },
  {
   "cell_type": "code",
   "execution_count": 9,
   "metadata": {},
   "outputs": [
    {
     "name": "stdout",
     "output_type": "stream",
     "text": [
      "integration values 63701\n"
     ]
    },
    {
     "data": {
      "text/html": [
       "<div>\n",
       "<style scoped>\n",
       "    .dataframe tbody tr th:only-of-type {\n",
       "        vertical-align: middle;\n",
       "    }\n",
       "\n",
       "    .dataframe tbody tr th {\n",
       "        vertical-align: top;\n",
       "    }\n",
       "\n",
       "    .dataframe thead th {\n",
       "        text-align: right;\n",
       "    }\n",
       "</style>\n",
       "<table border=\"1\" class=\"dataframe\">\n",
       "  <thead>\n",
       "    <tr style=\"text-align: right;\">\n",
       "      <th></th>\n",
       "      <th>0</th>\n",
       "      <th>1</th>\n",
       "      <th>2</th>\n",
       "      <th>3</th>\n",
       "      <th>4</th>\n",
       "      <th>5</th>\n",
       "      <th>6</th>\n",
       "      <th>7</th>\n",
       "      <th>8</th>\n",
       "      <th>9</th>\n",
       "      <th>...</th>\n",
       "      <th>466</th>\n",
       "      <th>467</th>\n",
       "      <th>468</th>\n",
       "      <th>469</th>\n",
       "      <th>470</th>\n",
       "      <th>471</th>\n",
       "      <th>472</th>\n",
       "      <th>473</th>\n",
       "      <th>474</th>\n",
       "      <th>475</th>\n",
       "    </tr>\n",
       "  </thead>\n",
       "  <tbody>\n",
       "    <tr>\n",
       "      <th>285.433319</th>\n",
       "      <td>1.153169</td>\n",
       "      <td>0.849017</td>\n",
       "      <td>1.513357</td>\n",
       "      <td>1.599026</td>\n",
       "      <td>0.624970</td>\n",
       "      <td>0.946314</td>\n",
       "      <td>1.682381</td>\n",
       "      <td>1.197074</td>\n",
       "      <td>1.560268</td>\n",
       "      <td>1.502320</td>\n",
       "      <td>...</td>\n",
       "      <td>1.225361</td>\n",
       "      <td>1.628571</td>\n",
       "      <td>1.559971</td>\n",
       "      <td>1.683851</td>\n",
       "      <td>1.535468</td>\n",
       "      <td>1.621795</td>\n",
       "      <td>0.815585</td>\n",
       "      <td>1.684179</td>\n",
       "      <td>0.519078</td>\n",
       "      <td>1.656341</td>\n",
       "    </tr>\n",
       "    <tr>\n",
       "      <th>286.066681</th>\n",
       "      <td>1.157804</td>\n",
       "      <td>0.849024</td>\n",
       "      <td>1.514464</td>\n",
       "      <td>1.600791</td>\n",
       "      <td>0.624971</td>\n",
       "      <td>0.946338</td>\n",
       "      <td>1.685790</td>\n",
       "      <td>1.197246</td>\n",
       "      <td>1.565855</td>\n",
       "      <td>1.503411</td>\n",
       "      <td>...</td>\n",
       "      <td>1.225569</td>\n",
       "      <td>1.630532</td>\n",
       "      <td>1.561424</td>\n",
       "      <td>1.687474</td>\n",
       "      <td>1.536736</td>\n",
       "      <td>1.626845</td>\n",
       "      <td>0.815592</td>\n",
       "      <td>1.687886</td>\n",
       "      <td>0.519078</td>\n",
       "      <td>1.661030</td>\n",
       "    </tr>\n",
       "    <tr>\n",
       "      <th>297.233337</th>\n",
       "      <td>1.241708</td>\n",
       "      <td>0.849140</td>\n",
       "      <td>1.531930</td>\n",
       "      <td>1.629329</td>\n",
       "      <td>0.624975</td>\n",
       "      <td>0.946669</td>\n",
       "      <td>1.742483</td>\n",
       "      <td>1.199857</td>\n",
       "      <td>1.663001</td>\n",
       "      <td>1.519851</td>\n",
       "      <td>...</td>\n",
       "      <td>1.228727</td>\n",
       "      <td>1.664989</td>\n",
       "      <td>1.584132</td>\n",
       "      <td>1.747229</td>\n",
       "      <td>1.556445</td>\n",
       "      <td>1.716172</td>\n",
       "      <td>0.815669</td>\n",
       "      <td>1.749050</td>\n",
       "      <td>0.519078</td>\n",
       "      <td>1.742174</td>\n",
       "    </tr>\n",
       "  </tbody>\n",
       "</table>\n",
       "<p>3 rows × 476 columns</p>\n",
       "</div>"
      ],
      "text/plain": [
       "                 0         1         2         3         4         5    \\\n",
       "285.433319  1.153169  0.849017  1.513357  1.599026  0.624970  0.946314   \n",
       "286.066681  1.157804  0.849024  1.514464  1.600791  0.624971  0.946338   \n",
       "297.233337  1.241708  0.849140  1.531930  1.629329  0.624975  0.946669   \n",
       "\n",
       "                 6         7         8         9    ...       466       467  \\\n",
       "285.433319  1.682381  1.197074  1.560268  1.502320  ...  1.225361  1.628571   \n",
       "286.066681  1.685790  1.197246  1.565855  1.503411  ...  1.225569  1.630532   \n",
       "297.233337  1.742483  1.199857  1.663001  1.519851  ...  1.228727  1.664989   \n",
       "\n",
       "                 468       469       470       471       472       473  \\\n",
       "285.433319  1.559971  1.683851  1.535468  1.621795  0.815585  1.684179   \n",
       "286.066681  1.561424  1.687474  1.536736  1.626845  0.815592  1.687886   \n",
       "297.233337  1.584132  1.747229  1.556445  1.716172  0.815669  1.749050   \n",
       "\n",
       "                 474       475  \n",
       "285.433319  0.519078  1.656341  \n",
       "286.066681  0.519078  1.661030  \n",
       "297.233337  0.519078  1.742174  \n",
       "\n",
       "[3 rows x 476 columns]"
      ]
     },
     "execution_count": 9,
     "metadata": {},
     "output_type": "execute_result"
    }
   ],
   "source": [
    "df_cum_hazards = model.predict_cumulative_hazard_function(X_train, X_test, y_train, y_test)\n",
    "df_cum_hazards.tail(3)"
   ]
  },
  {
   "attachments": {},
   "cell_type": "markdown",
   "metadata": {},
   "source": [
    "## Predict Survival Function"
   ]
  },
  {
   "cell_type": "code",
   "execution_count": 10,
   "metadata": {},
   "outputs": [
    {
     "name": "stdout",
     "output_type": "stream",
     "text": [
      "integration values 63701\n"
     ]
    },
    {
     "data": {
      "text/html": [
       "<div>\n",
       "<style scoped>\n",
       "    .dataframe tbody tr th:only-of-type {\n",
       "        vertical-align: middle;\n",
       "    }\n",
       "\n",
       "    .dataframe tbody tr th {\n",
       "        vertical-align: top;\n",
       "    }\n",
       "\n",
       "    .dataframe thead th {\n",
       "        text-align: right;\n",
       "    }\n",
       "</style>\n",
       "<table border=\"1\" class=\"dataframe\">\n",
       "  <thead>\n",
       "    <tr style=\"text-align: right;\">\n",
       "      <th></th>\n",
       "      <th>0</th>\n",
       "      <th>1</th>\n",
       "      <th>2</th>\n",
       "      <th>3</th>\n",
       "      <th>4</th>\n",
       "      <th>5</th>\n",
       "      <th>6</th>\n",
       "      <th>7</th>\n",
       "      <th>8</th>\n",
       "      <th>9</th>\n",
       "      <th>...</th>\n",
       "      <th>466</th>\n",
       "      <th>467</th>\n",
       "      <th>468</th>\n",
       "      <th>469</th>\n",
       "      <th>470</th>\n",
       "      <th>471</th>\n",
       "      <th>472</th>\n",
       "      <th>473</th>\n",
       "      <th>474</th>\n",
       "      <th>475</th>\n",
       "    </tr>\n",
       "  </thead>\n",
       "  <tbody>\n",
       "    <tr>\n",
       "      <th>285.433319</th>\n",
       "      <td>0.315635</td>\n",
       "      <td>0.427835</td>\n",
       "      <td>0.220170</td>\n",
       "      <td>0.202093</td>\n",
       "      <td>0.535277</td>\n",
       "      <td>0.388169</td>\n",
       "      <td>0.185931</td>\n",
       "      <td>0.302077</td>\n",
       "      <td>0.210080</td>\n",
       "      <td>0.222613</td>\n",
       "      <td>...</td>\n",
       "      <td>0.293652</td>\n",
       "      <td>0.196210</td>\n",
       "      <td>0.210142</td>\n",
       "      <td>0.185658</td>\n",
       "      <td>0.215355</td>\n",
       "      <td>0.197544</td>\n",
       "      <td>0.442380</td>\n",
       "      <td>0.185597</td>\n",
       "      <td>0.595069</td>\n",
       "      <td>0.190836</td>\n",
       "    </tr>\n",
       "    <tr>\n",
       "      <th>286.066681</th>\n",
       "      <td>0.314175</td>\n",
       "      <td>0.427832</td>\n",
       "      <td>0.219926</td>\n",
       "      <td>0.201737</td>\n",
       "      <td>0.535277</td>\n",
       "      <td>0.388160</td>\n",
       "      <td>0.185298</td>\n",
       "      <td>0.302025</td>\n",
       "      <td>0.208909</td>\n",
       "      <td>0.222370</td>\n",
       "      <td>...</td>\n",
       "      <td>0.293591</td>\n",
       "      <td>0.195825</td>\n",
       "      <td>0.209837</td>\n",
       "      <td>0.184986</td>\n",
       "      <td>0.215082</td>\n",
       "      <td>0.196549</td>\n",
       "      <td>0.442378</td>\n",
       "      <td>0.184910</td>\n",
       "      <td>0.595069</td>\n",
       "      <td>0.189943</td>\n",
       "    </tr>\n",
       "    <tr>\n",
       "      <th>297.233337</th>\n",
       "      <td>0.288890</td>\n",
       "      <td>0.427783</td>\n",
       "      <td>0.216118</td>\n",
       "      <td>0.196061</td>\n",
       "      <td>0.535275</td>\n",
       "      <td>0.388031</td>\n",
       "      <td>0.175085</td>\n",
       "      <td>0.301237</td>\n",
       "      <td>0.189569</td>\n",
       "      <td>0.218745</td>\n",
       "      <td>...</td>\n",
       "      <td>0.292665</td>\n",
       "      <td>0.189193</td>\n",
       "      <td>0.205126</td>\n",
       "      <td>0.174256</td>\n",
       "      <td>0.210884</td>\n",
       "      <td>0.179753</td>\n",
       "      <td>0.442343</td>\n",
       "      <td>0.173939</td>\n",
       "      <td>0.595069</td>\n",
       "      <td>0.175139</td>\n",
       "    </tr>\n",
       "  </tbody>\n",
       "</table>\n",
       "<p>3 rows × 476 columns</p>\n",
       "</div>"
      ],
      "text/plain": [
       "                 0         1         2         3         4         5    \\\n",
       "285.433319  0.315635  0.427835  0.220170  0.202093  0.535277  0.388169   \n",
       "286.066681  0.314175  0.427832  0.219926  0.201737  0.535277  0.388160   \n",
       "297.233337  0.288890  0.427783  0.216118  0.196061  0.535275  0.388031   \n",
       "\n",
       "                 6         7         8         9    ...       466       467  \\\n",
       "285.433319  0.185931  0.302077  0.210080  0.222613  ...  0.293652  0.196210   \n",
       "286.066681  0.185298  0.302025  0.208909  0.222370  ...  0.293591  0.195825   \n",
       "297.233337  0.175085  0.301237  0.189569  0.218745  ...  0.292665  0.189193   \n",
       "\n",
       "                 468       469       470       471       472       473  \\\n",
       "285.433319  0.210142  0.185658  0.215355  0.197544  0.442380  0.185597   \n",
       "286.066681  0.209837  0.184986  0.215082  0.196549  0.442378  0.184910   \n",
       "297.233337  0.205126  0.174256  0.210884  0.179753  0.442343  0.173939   \n",
       "\n",
       "                 474       475  \n",
       "285.433319  0.595069  0.190836  \n",
       "286.066681  0.595069  0.189943  \n",
       "297.233337  0.595069  0.175139  \n",
       "\n",
       "[3 rows x 476 columns]"
      ]
     },
     "execution_count": 10,
     "metadata": {},
     "output_type": "execute_result"
    }
   ],
   "source": [
    "df_survival_function = model.predict_survival_function(X_train, X_test, y_train, y_test)\n",
    "df_survival_function.tail(3)"
   ]
  },
  {
   "attachments": {},
   "cell_type": "markdown",
   "metadata": {},
   "source": [
    "### Visualize Predictions"
   ]
  },
  {
   "cell_type": "code",
   "execution_count": 11,
   "metadata": {},
   "outputs": [
    {
     "data": {
      "text/plain": [
       "Text(0.5, 1.0, 'Cumulative Hazard AH')"
      ]
     },
     "execution_count": 11,
     "metadata": {},
     "output_type": "execute_result"
    },
    {
     "data": {
      "image/png": "[encoded data removed]",
      "text/plain": [
       "<Figure size 640x480 with 1 Axes>"
      ]
     },
     "metadata": {},
     "output_type": "display_data"
    }
   ],
   "source": [
    "df_cum_hazards.iloc[:, :5].plot(drawstyle='steps-post')\n",
    "plt.ylabel('S(t | x)')\n",
    "_ = plt.xlabel('Time')\n",
    "plt.title(\"Cumulative Hazard AH\")"
   ]
  },
  {
   "cell_type": "code",
   "execution_count": 12,
   "metadata": {},
   "outputs": [
    {
     "data": {
      "text/plain": [
       "Text(0.5, 1.0, 'Survival Curve AH')"
      ]
     },
     "execution_count": 12,
     "metadata": {},
     "output_type": "execute_result"
    },
    {
     "data": {
      "image/png": "[encoded data removed]",
      "text/plain": [
       "<Figure size 640x480 with 1 Axes>"
      ]
     },
     "metadata": {},
     "output_type": "display_data"
    }
   ],
   "source": [
    "df_survival_function.iloc[:, :5].plot(drawstyle='steps-post')\n",
    "plt.ylabel('S(t | x)')\n",
    "_ = plt.xlabel('Time')\n",
    "plt.title(\"Survival Curve AH\")"
   ]
  },
  {
   "attachments": {},
   "cell_type": "markdown",
   "metadata": {},
   "source": [
    "## Evaluate"
   ]
  },
  {
   "attachments": {},
   "cell_type": "markdown",
   "metadata": {},
   "source": [
    "### Test"
   ]
  },
  {
   "cell_type": "code",
   "execution_count": 13,
   "metadata": {},
   "outputs": [
    {
     "name": "stdout",
     "output_type": "stream",
     "text": [
      "Concordance Index 0.4967258402823963\n"
     ]
    }
   ],
   "source": [
    "durations_test, events_test = transform_back(y_test)\n",
    "time_grid = np.linspace(durations_test.min(), durations_test.max(), 100)\n",
    "ev = EvalSurv(df_survival_function, durations_test, events_test, censor_surv='km')\n",
    "print('Concordance Index',ev.concordance_td('antolini'))"
   ]
  },
  {
   "cell_type": "code",
   "execution_count": 14,
   "metadata": {},
   "outputs": [
    {
     "name": "stdout",
     "output_type": "stream",
     "text": [
      "Integrated Brier Score: 0.1970837596439121\n"
     ]
    }
   ],
   "source": [
    "print('Integrated Brier Score:',ev.integrated_brier_score(time_grid))"
   ]
  },
  {
   "cell_type": "code",
   "execution_count": null,
   "metadata": {},
   "outputs": [],
   "source": []
  }
 ],
 "metadata": {
  "kernelspec": {
   "display_name": "xgbsurv",
   "language": "python",
   "name": "python3"
  },
  "language_info": {
   "codemirror_mode": {
    "name": "ipython",
    "version": 3
   },
   "file_extension": ".py",
   "mimetype": "text/x-python",
   "name": "python",
   "nbconvert_exporter": "python",
   "pygments_lexer": "ipython3",
   "version": "3.11.3"
  },
  "orig_nbformat": 4
 },
 "nbformat": 4,
 "nbformat_minor": 2
}
