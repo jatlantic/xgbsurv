{
 "cells": [
  {
   "attachments": {},
   "cell_type": "markdown",
   "metadata": {},
   "source": [
    "# Introduction to the xgbsurv package - AH\n",
    "\n",
    "This notebook introduces `xgbsurv` using a specific dataset. It structured by the following steps:\n",
    "\n",
    "- Load data\n",
    "- Load model\n",
    "- Fit model\n",
    "- Predict and evaluate model\n",
    "\n",
    "The syntax conveniently follows that of sklearn."
   ]
  },
  {
   "cell_type": "code",
   "execution_count": 1,
   "metadata": {},
   "outputs": [],
   "source": [
    "from xgbsurv.datasets import load_metabric\n",
    "from xgbsurv import XGBSurv\n",
    "from xgbsurv.models.utils import sort_X_y, transform_back\n",
    "from pycox.evaluation import EvalSurv\n",
    "from sklearn.model_selection import train_test_split\n",
    "import numpy as np\n",
    "import matplotlib.pyplot as plt\n",
    "import os\n",
    "current_path = os.getcwd() \n",
    "one_level_up = os.path.abspath(os.path.join(current_path,  \"..\"))"
   ]
  },
  {
   "attachments": {},
   "cell_type": "markdown",
   "metadata": {},
   "source": [
    "## Load Data"
   ]
  },
  {
   "cell_type": "code",
   "execution_count": 2,
   "metadata": {},
   "outputs": [
    {
     "name": "stdout",
     "output_type": "stream",
     "text": [
      "Values are being sorted!\n",
      "Values are being sorted!\n"
     ]
    }
   ],
   "source": [
    "data = load_metabric(path=one_level_up+\"/xgbsurv/datasets/data/\", as_frame=False)\n",
    "# stratify by event indicated by sign\n",
    "target_sign = np.sign(data.target)\n",
    "X_train, X_test, y_train, y_test = train_test_split(data.data, data.target, stratify=target_sign)\n",
    "# sort data\n",
    "X_train, y_train = sort_X_y(X_train, y_train)\n",
    "X_test, y_test = sort_X_y(X_test, y_test)"
   ]
  },
  {
   "attachments": {},
   "cell_type": "markdown",
   "metadata": {},
   "source": [
    "## Load Model"
   ]
  },
  {
   "cell_type": "code",
   "execution_count": 3,
   "metadata": {},
   "outputs": [
    {
     "data": {
      "text/html": [
       "<style>#sk-container-id-1 {color: black;background-color: white;}#sk-container-id-1 pre{padding: 0;}#sk-container-id-1 div.sk-toggleable {background-color: white;}#sk-container-id-1 label.sk-toggleable__label {cursor: pointer;display: block;width: 100%;margin-bottom: 0;padding: 0.3em;box-sizing: border-box;text-align: center;}#sk-container-id-1 label.sk-toggleable__label-arrow:before {content: \"▸\";float: left;margin-right: 0.25em;color: #696969;}#sk-container-id-1 label.sk-toggleable__label-arrow:hover:before {color: black;}#sk-container-id-1 div.sk-estimator:hover label.sk-toggleable__label-arrow:before {color: black;}#sk-container-id-1 div.sk-toggleable__content {max-height: 0;max-width: 0;overflow: hidden;text-align: left;background-color: #f0f8ff;}#sk-container-id-1 div.sk-toggleable__content pre {margin: 0.2em;color: black;border-radius: 0.25em;background-color: #f0f8ff;}#sk-container-id-1 input.sk-toggleable__control:checked~div.sk-toggleable__content {max-height: 200px;max-width: 100%;overflow: auto;}#sk-container-id-1 input.sk-toggleable__control:checked~label.sk-toggleable__label-arrow:before {content: \"▾\";}#sk-container-id-1 div.sk-estimator input.sk-toggleable__control:checked~label.sk-toggleable__label {background-color: #d4ebff;}#sk-container-id-1 div.sk-label input.sk-toggleable__control:checked~label.sk-toggleable__label {background-color: #d4ebff;}#sk-container-id-1 input.sk-hidden--visually {border: 0;clip: rect(1px 1px 1px 1px);clip: rect(1px, 1px, 1px, 1px);height: 1px;margin: -1px;overflow: hidden;padding: 0;position: absolute;width: 1px;}#sk-container-id-1 div.sk-estimator {font-family: monospace;background-color: #f0f8ff;border: 1px dotted black;border-radius: 0.25em;box-sizing: border-box;margin-bottom: 0.5em;}#sk-container-id-1 div.sk-estimator:hover {background-color: #d4ebff;}#sk-container-id-1 div.sk-parallel-item::after {content: \"\";width: 100%;border-bottom: 1px solid gray;flex-grow: 1;}#sk-container-id-1 div.sk-label:hover label.sk-toggleable__label {background-color: #d4ebff;}#sk-container-id-1 div.sk-serial::before {content: \"\";position: absolute;border-left: 1px solid gray;box-sizing: border-box;top: 0;bottom: 0;left: 50%;z-index: 0;}#sk-container-id-1 div.sk-serial {display: flex;flex-direction: column;align-items: center;background-color: white;padding-right: 0.2em;padding-left: 0.2em;position: relative;}#sk-container-id-1 div.sk-item {position: relative;z-index: 1;}#sk-container-id-1 div.sk-parallel {display: flex;align-items: stretch;justify-content: center;background-color: white;position: relative;}#sk-container-id-1 div.sk-item::before, #sk-container-id-1 div.sk-parallel-item::before {content: \"\";position: absolute;border-left: 1px solid gray;box-sizing: border-box;top: 0;bottom: 0;left: 50%;z-index: -1;}#sk-container-id-1 div.sk-parallel-item {display: flex;flex-direction: column;z-index: 1;position: relative;background-color: white;}#sk-container-id-1 div.sk-parallel-item:first-child::after {align-self: flex-end;width: 50%;}#sk-container-id-1 div.sk-parallel-item:last-child::after {align-self: flex-start;width: 50%;}#sk-container-id-1 div.sk-parallel-item:only-child::after {width: 0;}#sk-container-id-1 div.sk-dashed-wrapped {border: 1px dashed gray;margin: 0 0.4em 0.5em 0.4em;box-sizing: border-box;padding-bottom: 0.4em;background-color: white;}#sk-container-id-1 div.sk-label label {font-family: monospace;font-weight: bold;display: inline-block;line-height: 1.2em;}#sk-container-id-1 div.sk-label-container {text-align: center;}#sk-container-id-1 div.sk-container {/* jupyter's `normalize.less` sets `[hidden] { display: none; }` but bootstrap.min.css set `[hidden] { display: none !important; }` so we also need the `!important` here to be able to override the default hidden behavior on the sphinx rendered scikit-learn.org. See: https://github.com/scikit-learn/scikit-learn/issues/21755 */display: inline-block !important;position: relative;}#sk-container-id-1 div.sk-text-repr-fallback {display: none;}</style><div id=\"sk-container-id-1\" class=\"sk-top-container\"><div class=\"sk-text-repr-fallback\"><pre>XGBSurv(base_score=None, booster=None, callbacks=None, colsample_bylevel=None,\n",
       "        colsample_bynode=None, colsample_bytree=None,\n",
       "        disable_default_eval_metric=1, early_stopping_rounds=None,\n",
       "        enable_categorical=False,\n",
       "        eval_metric=CPUDispatcher(&lt;function ah_likelihood at 0x2867fd300&gt;),\n",
       "        feature_types=None, gamma=None, gpu_id=None, grow_policy=None,\n",
       "        importance_type=None, interaction_constraints=None, learning_rate=0.3,\n",
       "        max_bin=None, max_cat_threshold=None, max_cat_to_onehot=None,\n",
       "        max_delta_step=None, max_depth=None, max_leaves=None,\n",
       "        min_child_weight=None, missing=nan, monotone_constraints=None,\n",
       "        n_estimators=100, n_jobs=None, num_parallel_tree=None,\n",
       "        objective=CPUDispatcher(&lt;function ah_objective at 0x2867fd580&gt;), ...)</pre><b>In a Jupyter environment, please rerun this cell to show the HTML representation or trust the notebook. <br />On GitHub, the HTML representation is unable to render, please try loading this page with nbviewer.org.</b></div><div class=\"sk-container\" hidden><div class=\"sk-item\"><div class=\"sk-estimator sk-toggleable\"><input class=\"sk-toggleable__control sk-hidden--visually\" id=\"sk-estimator-id-1\" type=\"checkbox\" checked><label for=\"sk-estimator-id-1\" class=\"sk-toggleable__label sk-toggleable__label-arrow\">XGBSurv</label><div class=\"sk-toggleable__content\"><pre>XGBSurv(base_score=None, booster=None, callbacks=None, colsample_bylevel=None,\n",
       "        colsample_bynode=None, colsample_bytree=None,\n",
       "        disable_default_eval_metric=1, early_stopping_rounds=None,\n",
       "        enable_categorical=False,\n",
       "        eval_metric=CPUDispatcher(&lt;function ah_likelihood at 0x2867fd300&gt;),\n",
       "        feature_types=None, gamma=None, gpu_id=None, grow_policy=None,\n",
       "        importance_type=None, interaction_constraints=None, learning_rate=0.3,\n",
       "        max_bin=None, max_cat_threshold=None, max_cat_to_onehot=None,\n",
       "        max_delta_step=None, max_depth=None, max_leaves=None,\n",
       "        min_child_weight=None, missing=nan, monotone_constraints=None,\n",
       "        n_estimators=100, n_jobs=None, num_parallel_tree=None,\n",
       "        objective=CPUDispatcher(&lt;function ah_objective at 0x2867fd580&gt;), ...)</pre></div></div></div></div></div>"
      ],
      "text/plain": [
       "XGBSurv(base_score=None, booster=None, callbacks=None, colsample_bylevel=None,\n",
       "        colsample_bynode=None, colsample_bytree=None,\n",
       "        disable_default_eval_metric=1, early_stopping_rounds=None,\n",
       "        enable_categorical=False,\n",
       "        eval_metric=CPUDispatcher(<function ah_likelihood at 0x2867fd300>),\n",
       "        feature_types=None, gamma=None, gpu_id=None, grow_policy=None,\n",
       "        importance_type=None, interaction_constraints=None, learning_rate=0.3,\n",
       "        max_bin=None, max_cat_threshold=None, max_cat_to_onehot=None,\n",
       "        max_delta_step=None, max_depth=None, max_leaves=None,\n",
       "        min_child_weight=None, missing=nan, monotone_constraints=None,\n",
       "        n_estimators=100, n_jobs=None, num_parallel_tree=None,\n",
       "        objective=CPUDispatcher(<function ah_objective at 0x2867fd580>), ...)"
      ]
     },
     "execution_count": 3,
     "metadata": {},
     "output_type": "execute_result"
    }
   ],
   "source": [
    "model = XGBSurv(n_estimators=100, objective=\"ah_objective\",\n",
    "                                             eval_metric=\"ah_loss\",\n",
    "                                             learning_rate=0.3,\n",
    "                                             random_state=42, \n",
    "                                             disable_default_eval_metric=1,\n",
    "                                             )\n",
    "model"
   ]
  },
  {
   "attachments": {},
   "cell_type": "markdown",
   "metadata": {},
   "source": [
    "The options of loss and objective functions can be obtained like below:"
   ]
  },
  {
   "cell_type": "code",
   "execution_count": 4,
   "metadata": {},
   "outputs": [
    {
     "name": "stdout",
     "output_type": "stream",
     "text": [
      "dict_keys(['breslow_loss', 'efron_loss', 'cind_loss', 'deephit_loss', 'aft_loss', 'ah_loss', 'eh_loss'])\n",
      "dict_keys(['breslow_objective', 'efron_objective', 'cind_objective', 'deephit_objective', 'aft_objective', 'ah_objective', 'eh_objective'])\n"
     ]
    }
   ],
   "source": [
    "print(model.get_loss_functions().keys())\n",
    "print(model.get_objective_functions().keys())"
   ]
  },
  {
   "attachments": {},
   "cell_type": "markdown",
   "metadata": {},
   "source": [
    "## Fit Model"
   ]
  },
  {
   "cell_type": "code",
   "execution_count": 5,
   "metadata": {},
   "outputs": [],
   "source": [
    "eval_set = [(X_train, y_train)]"
   ]
  },
  {
   "cell_type": "code",
   "execution_count": 6,
   "metadata": {},
   "outputs": [
    {
     "name": "stdout",
     "output_type": "stream",
     "text": [
      "[0]\tvalidation_0-ah_likelihood:2576.27859\n",
      "[1]\tvalidation_0-ah_likelihood:2572.94430\n",
      "[2]\tvalidation_0-ah_likelihood:2569.67756\n",
      "[3]\tvalidation_0-ah_likelihood:2564.80940\n",
      "[4]\tvalidation_0-ah_likelihood:2560.92606\n",
      "[5]\tvalidation_0-ah_likelihood:2554.65782\n",
      "[6]\tvalidation_0-ah_likelihood:2546.88504\n",
      "[7]\tvalidation_0-ah_likelihood:2538.57670\n",
      "[8]\tvalidation_0-ah_likelihood:2530.89423\n",
      "[9]\tvalidation_0-ah_likelihood:2518.08691\n",
      "[10]\tvalidation_0-ah_likelihood:2507.98872\n",
      "[11]\tvalidation_0-ah_likelihood:2487.72933\n",
      "[12]\tvalidation_0-ah_likelihood:2469.70056\n",
      "[13]\tvalidation_0-ah_likelihood:2454.53184\n",
      "[14]\tvalidation_0-ah_likelihood:2447.57431\n",
      "[15]\tvalidation_0-ah_likelihood:2435.62162\n",
      "[16]\tvalidation_0-ah_likelihood:2426.42029\n",
      "[17]\tvalidation_0-ah_likelihood:2416.61256\n",
      "[18]\tvalidation_0-ah_likelihood:2407.97100\n",
      "[19]\tvalidation_0-ah_likelihood:2389.68604\n",
      "[20]\tvalidation_0-ah_likelihood:2380.12693\n",
      "[21]\tvalidation_0-ah_likelihood:2375.55975\n",
      "[22]\tvalidation_0-ah_likelihood:2370.30232\n",
      "[23]\tvalidation_0-ah_likelihood:2366.96350\n",
      "[24]\tvalidation_0-ah_likelihood:2362.78358\n",
      "[25]\tvalidation_0-ah_likelihood:2357.82923\n",
      "[26]\tvalidation_0-ah_likelihood:2354.75583\n",
      "[27]\tvalidation_0-ah_likelihood:2353.00826\n",
      "[28]\tvalidation_0-ah_likelihood:2349.93539\n",
      "[29]\tvalidation_0-ah_likelihood:2348.82019\n",
      "[30]\tvalidation_0-ah_likelihood:2348.23041\n",
      "[31]\tvalidation_0-ah_likelihood:2347.40375\n",
      "[32]\tvalidation_0-ah_likelihood:2347.99683\n",
      "[33]\tvalidation_0-ah_likelihood:2348.79048\n",
      "[34]\tvalidation_0-ah_likelihood:2348.86834\n",
      "[35]\tvalidation_0-ah_likelihood:2349.71771\n",
      "[36]\tvalidation_0-ah_likelihood:2348.86297\n",
      "[37]\tvalidation_0-ah_likelihood:2349.19243\n",
      "[38]\tvalidation_0-ah_likelihood:2347.38755\n",
      "[39]\tvalidation_0-ah_likelihood:2347.91446\n",
      "[40]\tvalidation_0-ah_likelihood:2348.05561\n",
      "[41]\tvalidation_0-ah_likelihood:2347.59567\n",
      "[42]\tvalidation_0-ah_likelihood:2346.07699\n",
      "[43]\tvalidation_0-ah_likelihood:2346.33633\n",
      "[44]\tvalidation_0-ah_likelihood:2345.45698\n",
      "[45]\tvalidation_0-ah_likelihood:2346.38572\n",
      "[46]\tvalidation_0-ah_likelihood:2346.22741\n",
      "[47]\tvalidation_0-ah_likelihood:2346.69364\n",
      "[48]\tvalidation_0-ah_likelihood:2346.74713\n",
      "[49]\tvalidation_0-ah_likelihood:2347.11591\n",
      "[50]\tvalidation_0-ah_likelihood:2346.80683\n",
      "[51]\tvalidation_0-ah_likelihood:2346.80511\n",
      "[52]\tvalidation_0-ah_likelihood:2347.37938\n",
      "[53]\tvalidation_0-ah_likelihood:2347.91638\n",
      "[54]\tvalidation_0-ah_likelihood:2348.22327\n",
      "[55]\tvalidation_0-ah_likelihood:2348.81064\n",
      "[56]\tvalidation_0-ah_likelihood:2348.58713\n",
      "[57]\tvalidation_0-ah_likelihood:2348.71467\n",
      "[58]\tvalidation_0-ah_likelihood:2348.71385\n",
      "[59]\tvalidation_0-ah_likelihood:2349.19806\n",
      "[60]\tvalidation_0-ah_likelihood:2348.57788\n",
      "[61]\tvalidation_0-ah_likelihood:2349.63360\n",
      "[62]\tvalidation_0-ah_likelihood:2348.80171\n",
      "[63]\tvalidation_0-ah_likelihood:2350.53105\n",
      "[64]\tvalidation_0-ah_likelihood:2349.89713\n",
      "[65]\tvalidation_0-ah_likelihood:2350.51801\n",
      "[66]\tvalidation_0-ah_likelihood:2349.74357\n",
      "[67]\tvalidation_0-ah_likelihood:2350.21653\n",
      "[68]\tvalidation_0-ah_likelihood:2349.01669\n",
      "[69]\tvalidation_0-ah_likelihood:2350.25567\n",
      "[70]\tvalidation_0-ah_likelihood:2349.49254\n",
      "[71]\tvalidation_0-ah_likelihood:2350.58507\n",
      "[72]\tvalidation_0-ah_likelihood:2349.95277\n",
      "[73]\tvalidation_0-ah_likelihood:2350.89937\n",
      "[74]\tvalidation_0-ah_likelihood:2350.20735\n",
      "[75]\tvalidation_0-ah_likelihood:2351.12996\n",
      "[76]\tvalidation_0-ah_likelihood:2350.08006\n",
      "[77]\tvalidation_0-ah_likelihood:2350.30305\n",
      "[78]\tvalidation_0-ah_likelihood:2349.37818\n",
      "[79]\tvalidation_0-ah_likelihood:2349.36530\n",
      "[80]\tvalidation_0-ah_likelihood:2348.17973\n",
      "[81]\tvalidation_0-ah_likelihood:2349.15511\n",
      "[82]\tvalidation_0-ah_likelihood:2347.26962\n",
      "[83]\tvalidation_0-ah_likelihood:2347.33366\n",
      "[84]\tvalidation_0-ah_likelihood:2345.90557\n",
      "[85]\tvalidation_0-ah_likelihood:2346.01282\n",
      "[86]\tvalidation_0-ah_likelihood:2344.44484\n",
      "[87]\tvalidation_0-ah_likelihood:2344.29185\n",
      "[88]\tvalidation_0-ah_likelihood:2342.02549\n",
      "[89]\tvalidation_0-ah_likelihood:2342.44158\n",
      "[90]\tvalidation_0-ah_likelihood:2340.75810\n",
      "[91]\tvalidation_0-ah_likelihood:2342.56170\n",
      "[92]\tvalidation_0-ah_likelihood:2340.06989\n",
      "[93]\tvalidation_0-ah_likelihood:2339.00592\n",
      "[94]\tvalidation_0-ah_likelihood:2339.06886\n",
      "[95]\tvalidation_0-ah_likelihood:2339.40047\n",
      "[96]\tvalidation_0-ah_likelihood:2339.29573\n",
      "[97]\tvalidation_0-ah_likelihood:2339.77071\n",
      "[98]\tvalidation_0-ah_likelihood:2337.97446\n",
      "[99]\tvalidation_0-ah_likelihood:2336.96445\n"
     ]
    },
    {
     "data": {
      "text/html": [
       "<style>#sk-container-id-2 {color: black;background-color: white;}#sk-container-id-2 pre{padding: 0;}#sk-container-id-2 div.sk-toggleable {background-color: white;}#sk-container-id-2 label.sk-toggleable__label {cursor: pointer;display: block;width: 100%;margin-bottom: 0;padding: 0.3em;box-sizing: border-box;text-align: center;}#sk-container-id-2 label.sk-toggleable__label-arrow:before {content: \"▸\";float: left;margin-right: 0.25em;color: #696969;}#sk-container-id-2 label.sk-toggleable__label-arrow:hover:before {color: black;}#sk-container-id-2 div.sk-estimator:hover label.sk-toggleable__label-arrow:before {color: black;}#sk-container-id-2 div.sk-toggleable__content {max-height: 0;max-width: 0;overflow: hidden;text-align: left;background-color: #f0f8ff;}#sk-container-id-2 div.sk-toggleable__content pre {margin: 0.2em;color: black;border-radius: 0.25em;background-color: #f0f8ff;}#sk-container-id-2 input.sk-toggleable__control:checked~div.sk-toggleable__content {max-height: 200px;max-width: 100%;overflow: auto;}#sk-container-id-2 input.sk-toggleable__control:checked~label.sk-toggleable__label-arrow:before {content: \"▾\";}#sk-container-id-2 div.sk-estimator input.sk-toggleable__control:checked~label.sk-toggleable__label {background-color: #d4ebff;}#sk-container-id-2 div.sk-label input.sk-toggleable__control:checked~label.sk-toggleable__label {background-color: #d4ebff;}#sk-container-id-2 input.sk-hidden--visually {border: 0;clip: rect(1px 1px 1px 1px);clip: rect(1px, 1px, 1px, 1px);height: 1px;margin: -1px;overflow: hidden;padding: 0;position: absolute;width: 1px;}#sk-container-id-2 div.sk-estimator {font-family: monospace;background-color: #f0f8ff;border: 1px dotted black;border-radius: 0.25em;box-sizing: border-box;margin-bottom: 0.5em;}#sk-container-id-2 div.sk-estimator:hover {background-color: #d4ebff;}#sk-container-id-2 div.sk-parallel-item::after {content: \"\";width: 100%;border-bottom: 1px solid gray;flex-grow: 1;}#sk-container-id-2 div.sk-label:hover label.sk-toggleable__label {background-color: #d4ebff;}#sk-container-id-2 div.sk-serial::before {content: \"\";position: absolute;border-left: 1px solid gray;box-sizing: border-box;top: 0;bottom: 0;left: 50%;z-index: 0;}#sk-container-id-2 div.sk-serial {display: flex;flex-direction: column;align-items: center;background-color: white;padding-right: 0.2em;padding-left: 0.2em;position: relative;}#sk-container-id-2 div.sk-item {position: relative;z-index: 1;}#sk-container-id-2 div.sk-parallel {display: flex;align-items: stretch;justify-content: center;background-color: white;position: relative;}#sk-container-id-2 div.sk-item::before, #sk-container-id-2 div.sk-parallel-item::before {content: \"\";position: absolute;border-left: 1px solid gray;box-sizing: border-box;top: 0;bottom: 0;left: 50%;z-index: -1;}#sk-container-id-2 div.sk-parallel-item {display: flex;flex-direction: column;z-index: 1;position: relative;background-color: white;}#sk-container-id-2 div.sk-parallel-item:first-child::after {align-self: flex-end;width: 50%;}#sk-container-id-2 div.sk-parallel-item:last-child::after {align-self: flex-start;width: 50%;}#sk-container-id-2 div.sk-parallel-item:only-child::after {width: 0;}#sk-container-id-2 div.sk-dashed-wrapped {border: 1px dashed gray;margin: 0 0.4em 0.5em 0.4em;box-sizing: border-box;padding-bottom: 0.4em;background-color: white;}#sk-container-id-2 div.sk-label label {font-family: monospace;font-weight: bold;display: inline-block;line-height: 1.2em;}#sk-container-id-2 div.sk-label-container {text-align: center;}#sk-container-id-2 div.sk-container {/* jupyter's `normalize.less` sets `[hidden] { display: none; }` but bootstrap.min.css set `[hidden] { display: none !important; }` so we also need the `!important` here to be able to override the default hidden behavior on the sphinx rendered scikit-learn.org. See: https://github.com/scikit-learn/scikit-learn/issues/21755 */display: inline-block !important;position: relative;}#sk-container-id-2 div.sk-text-repr-fallback {display: none;}</style><div id=\"sk-container-id-2\" class=\"sk-top-container\"><div class=\"sk-text-repr-fallback\"><pre>XGBSurv(base_score=None, booster=None, callbacks=None, colsample_bylevel=None,\n",
       "        colsample_bynode=None, colsample_bytree=None,\n",
       "        disable_default_eval_metric=1, early_stopping_rounds=None,\n",
       "        enable_categorical=False,\n",
       "        eval_metric=CPUDispatcher(&lt;function ah_likelihood at 0x2867fd300&gt;),\n",
       "        feature_types=None, gamma=None, gpu_id=None, grow_policy=None,\n",
       "        importance_type=None, interaction_constraints=None, learning_rate=0.3,\n",
       "        max_bin=None, max_cat_threshold=None, max_cat_to_onehot=None,\n",
       "        max_delta_step=None, max_depth=None, max_leaves=None,\n",
       "        min_child_weight=None, missing=nan, monotone_constraints=None,\n",
       "        n_estimators=100, n_jobs=None, num_parallel_tree=None,\n",
       "        objective=CPUDispatcher(&lt;function ah_objective at 0x2867fd580&gt;), ...)</pre><b>In a Jupyter environment, please rerun this cell to show the HTML representation or trust the notebook. <br />On GitHub, the HTML representation is unable to render, please try loading this page with nbviewer.org.</b></div><div class=\"sk-container\" hidden><div class=\"sk-item\"><div class=\"sk-estimator sk-toggleable\"><input class=\"sk-toggleable__control sk-hidden--visually\" id=\"sk-estimator-id-2\" type=\"checkbox\" checked><label for=\"sk-estimator-id-2\" class=\"sk-toggleable__label sk-toggleable__label-arrow\">XGBSurv</label><div class=\"sk-toggleable__content\"><pre>XGBSurv(base_score=None, booster=None, callbacks=None, colsample_bylevel=None,\n",
       "        colsample_bynode=None, colsample_bytree=None,\n",
       "        disable_default_eval_metric=1, early_stopping_rounds=None,\n",
       "        enable_categorical=False,\n",
       "        eval_metric=CPUDispatcher(&lt;function ah_likelihood at 0x2867fd300&gt;),\n",
       "        feature_types=None, gamma=None, gpu_id=None, grow_policy=None,\n",
       "        importance_type=None, interaction_constraints=None, learning_rate=0.3,\n",
       "        max_bin=None, max_cat_threshold=None, max_cat_to_onehot=None,\n",
       "        max_delta_step=None, max_depth=None, max_leaves=None,\n",
       "        min_child_weight=None, missing=nan, monotone_constraints=None,\n",
       "        n_estimators=100, n_jobs=None, num_parallel_tree=None,\n",
       "        objective=CPUDispatcher(&lt;function ah_objective at 0x2867fd580&gt;), ...)</pre></div></div></div></div></div>"
      ],
      "text/plain": [
       "XGBSurv(base_score=None, booster=None, callbacks=None, colsample_bylevel=None,\n",
       "        colsample_bynode=None, colsample_bytree=None,\n",
       "        disable_default_eval_metric=1, early_stopping_rounds=None,\n",
       "        enable_categorical=False,\n",
       "        eval_metric=CPUDispatcher(<function ah_likelihood at 0x2867fd300>),\n",
       "        feature_types=None, gamma=None, gpu_id=None, grow_policy=None,\n",
       "        importance_type=None, interaction_constraints=None, learning_rate=0.3,\n",
       "        max_bin=None, max_cat_threshold=None, max_cat_to_onehot=None,\n",
       "        max_delta_step=None, max_depth=None, max_leaves=None,\n",
       "        min_child_weight=None, missing=nan, monotone_constraints=None,\n",
       "        n_estimators=100, n_jobs=None, num_parallel_tree=None,\n",
       "        objective=CPUDispatcher(<function ah_objective at 0x2867fd580>), ...)"
      ]
     },
     "execution_count": 6,
     "metadata": {},
     "output_type": "execute_result"
    }
   ],
   "source": [
    "model.fit(X_train, y_train, eval_set=eval_set)"
   ]
  },
  {
   "attachments": {},
   "cell_type": "markdown",
   "metadata": {},
   "source": [
    "The model can be saved like below. Note that objective and eval_metric are not saved."
   ]
  },
  {
   "cell_type": "code",
   "execution_count": 7,
   "metadata": {},
   "outputs": [],
   "source": [
    "#model.save_model(\"introduction_model_breslow.json\")"
   ]
  },
  {
   "attachments": {},
   "cell_type": "markdown",
   "metadata": {},
   "source": [
    "## Predict"
   ]
  },
  {
   "cell_type": "code",
   "execution_count": 8,
   "metadata": {},
   "outputs": [],
   "source": [
    "preds_train = model.predict(X_train, output_margin=True)\n",
    "preds_test = model.predict(X_test, output_margin=True)"
   ]
  },
  {
   "attachments": {},
   "cell_type": "markdown",
   "metadata": {},
   "source": [
    "### Predict Cumulative Hazard"
   ]
  },
  {
   "cell_type": "code",
   "execution_count": 9,
   "metadata": {},
   "outputs": [
    {
     "name": "stdout",
     "output_type": "stream",
     "text": [
      "integration values 54750\n"
     ]
    },
    {
     "data": {
      "text/html": [
       "<div>\n",
       "<style scoped>\n",
       "    .dataframe tbody tr th:only-of-type {\n",
       "        vertical-align: middle;\n",
       "    }\n",
       "\n",
       "    .dataframe tbody tr th {\n",
       "        vertical-align: top;\n",
       "    }\n",
       "\n",
       "    .dataframe thead th {\n",
       "        text-align: right;\n",
       "    }\n",
       "</style>\n",
       "<table border=\"1\" class=\"dataframe\">\n",
       "  <thead>\n",
       "    <tr style=\"text-align: right;\">\n",
       "      <th></th>\n",
       "      <th>0</th>\n",
       "      <th>1</th>\n",
       "      <th>2</th>\n",
       "      <th>3</th>\n",
       "      <th>4</th>\n",
       "      <th>5</th>\n",
       "      <th>6</th>\n",
       "      <th>7</th>\n",
       "      <th>8</th>\n",
       "      <th>9</th>\n",
       "      <th>...</th>\n",
       "      <th>466</th>\n",
       "      <th>467</th>\n",
       "      <th>468</th>\n",
       "      <th>469</th>\n",
       "      <th>470</th>\n",
       "      <th>471</th>\n",
       "      <th>472</th>\n",
       "      <th>473</th>\n",
       "      <th>474</th>\n",
       "      <th>475</th>\n",
       "    </tr>\n",
       "  </thead>\n",
       "  <tbody>\n",
       "    <tr>\n",
       "      <th>300.700012</th>\n",
       "      <td>1.344522</td>\n",
       "      <td>1.610897</td>\n",
       "      <td>1.622838</td>\n",
       "      <td>1.187157</td>\n",
       "      <td>0.976591</td>\n",
       "      <td>1.569669</td>\n",
       "      <td>0.948065</td>\n",
       "      <td>0.787391</td>\n",
       "      <td>1.320135</td>\n",
       "      <td>1.595314</td>\n",
       "      <td>...</td>\n",
       "      <td>1.581538</td>\n",
       "      <td>1.378373</td>\n",
       "      <td>1.622184</td>\n",
       "      <td>1.528036</td>\n",
       "      <td>1.053178</td>\n",
       "      <td>1.583655</td>\n",
       "      <td>1.596113</td>\n",
       "      <td>1.610452</td>\n",
       "      <td>1.358050</td>\n",
       "      <td>0.875155</td>\n",
       "    </tr>\n",
       "    <tr>\n",
       "      <th>301.233337</th>\n",
       "      <td>1.345048</td>\n",
       "      <td>1.613126</td>\n",
       "      <td>1.625612</td>\n",
       "      <td>1.187348</td>\n",
       "      <td>0.976632</td>\n",
       "      <td>1.571335</td>\n",
       "      <td>0.948096</td>\n",
       "      <td>0.787397</td>\n",
       "      <td>1.320531</td>\n",
       "      <td>1.598923</td>\n",
       "      <td>...</td>\n",
       "      <td>1.585243</td>\n",
       "      <td>1.378957</td>\n",
       "      <td>1.625131</td>\n",
       "      <td>1.529264</td>\n",
       "      <td>1.053271</td>\n",
       "      <td>1.585502</td>\n",
       "      <td>1.598192</td>\n",
       "      <td>1.612744</td>\n",
       "      <td>1.358604</td>\n",
       "      <td>0.875170</td>\n",
       "    </tr>\n",
       "    <tr>\n",
       "      <th>322.833344</th>\n",
       "      <td>1.361669</td>\n",
       "      <td>1.697540</td>\n",
       "      <td>1.733607</td>\n",
       "      <td>1.193640</td>\n",
       "      <td>0.977868</td>\n",
       "      <td>1.631825</td>\n",
       "      <td>0.949032</td>\n",
       "      <td>0.787551</td>\n",
       "      <td>1.334971</td>\n",
       "      <td>1.736876</td>\n",
       "      <td>...</td>\n",
       "      <td>1.729375</td>\n",
       "      <td>1.399136</td>\n",
       "      <td>1.737027</td>\n",
       "      <td>1.575961</td>\n",
       "      <td>1.055622</td>\n",
       "      <td>1.652196</td>\n",
       "      <td>1.671532</td>\n",
       "      <td>1.696557</td>\n",
       "      <td>1.376554</td>\n",
       "      <td>0.875613</td>\n",
       "    </tr>\n",
       "  </tbody>\n",
       "</table>\n",
       "<p>3 rows × 476 columns</p>\n",
       "</div>"
      ],
      "text/plain": [
       "                 0         1         2         3         4         5    \\\n",
       "300.700012  1.344522  1.610897  1.622838  1.187157  0.976591  1.569669   \n",
       "301.233337  1.345048  1.613126  1.625612  1.187348  0.976632  1.571335   \n",
       "322.833344  1.361669  1.697540  1.733607  1.193640  0.977868  1.631825   \n",
       "\n",
       "                 6         7         8         9    ...       466       467  \\\n",
       "300.700012  0.948065  0.787391  1.320135  1.595314  ...  1.581538  1.378373   \n",
       "301.233337  0.948096  0.787397  1.320531  1.598923  ...  1.585243  1.378957   \n",
       "322.833344  0.949032  0.787551  1.334971  1.736876  ...  1.729375  1.399136   \n",
       "\n",
       "                 468       469       470       471       472       473  \\\n",
       "300.700012  1.622184  1.528036  1.053178  1.583655  1.596113  1.610452   \n",
       "301.233337  1.625131  1.529264  1.053271  1.585502  1.598192  1.612744   \n",
       "322.833344  1.737027  1.575961  1.055622  1.652196  1.671532  1.696557   \n",
       "\n",
       "                 474       475  \n",
       "300.700012  1.358050  0.875155  \n",
       "301.233337  1.358604  0.875170  \n",
       "322.833344  1.376554  0.875613  \n",
       "\n",
       "[3 rows x 476 columns]"
      ]
     },
     "execution_count": 9,
     "metadata": {},
     "output_type": "execute_result"
    }
   ],
   "source": [
    "df_cum_hazards = model.predict_cumulative_hazard_function(X_train, X_test, y_train, y_test)\n",
    "df_cum_hazards.tail(3)"
   ]
  },
  {
   "attachments": {},
   "cell_type": "markdown",
   "metadata": {},
   "source": [
    "## Predict Survival Function"
   ]
  },
  {
   "cell_type": "code",
   "execution_count": 10,
   "metadata": {},
   "outputs": [
    {
     "name": "stdout",
     "output_type": "stream",
     "text": [
      "integration values 54750\n"
     ]
    },
    {
     "data": {
      "text/html": [
       "<div>\n",
       "<style scoped>\n",
       "    .dataframe tbody tr th:only-of-type {\n",
       "        vertical-align: middle;\n",
       "    }\n",
       "\n",
       "    .dataframe tbody tr th {\n",
       "        vertical-align: top;\n",
       "    }\n",
       "\n",
       "    .dataframe thead th {\n",
       "        text-align: right;\n",
       "    }\n",
       "</style>\n",
       "<table border=\"1\" class=\"dataframe\">\n",
       "  <thead>\n",
       "    <tr style=\"text-align: right;\">\n",
       "      <th></th>\n",
       "      <th>0</th>\n",
       "      <th>1</th>\n",
       "      <th>2</th>\n",
       "      <th>3</th>\n",
       "      <th>4</th>\n",
       "      <th>5</th>\n",
       "      <th>6</th>\n",
       "      <th>7</th>\n",
       "      <th>8</th>\n",
       "      <th>9</th>\n",
       "      <th>...</th>\n",
       "      <th>466</th>\n",
       "      <th>467</th>\n",
       "      <th>468</th>\n",
       "      <th>469</th>\n",
       "      <th>470</th>\n",
       "      <th>471</th>\n",
       "      <th>472</th>\n",
       "      <th>473</th>\n",
       "      <th>474</th>\n",
       "      <th>475</th>\n",
       "    </tr>\n",
       "  </thead>\n",
       "  <tbody>\n",
       "    <tr>\n",
       "      <th>300.700012</th>\n",
       "      <td>0.260664</td>\n",
       "      <td>0.199708</td>\n",
       "      <td>0.197338</td>\n",
       "      <td>0.305087</td>\n",
       "      <td>0.376593</td>\n",
       "      <td>0.208114</td>\n",
       "      <td>0.387490</td>\n",
       "      <td>0.455030</td>\n",
       "      <td>0.267099</td>\n",
       "      <td>0.202845</td>\n",
       "      <td>...</td>\n",
       "      <td>0.205659</td>\n",
       "      <td>0.251988</td>\n",
       "      <td>0.197467</td>\n",
       "      <td>0.216961</td>\n",
       "      <td>0.348827</td>\n",
       "      <td>0.205224</td>\n",
       "      <td>0.202683</td>\n",
       "      <td>0.199797</td>\n",
       "      <td>0.257162</td>\n",
       "      <td>0.416797</td>\n",
       "    </tr>\n",
       "    <tr>\n",
       "      <th>301.233337</th>\n",
       "      <td>0.260527</td>\n",
       "      <td>0.199264</td>\n",
       "      <td>0.196791</td>\n",
       "      <td>0.305029</td>\n",
       "      <td>0.376577</td>\n",
       "      <td>0.207768</td>\n",
       "      <td>0.387478</td>\n",
       "      <td>0.455028</td>\n",
       "      <td>0.266994</td>\n",
       "      <td>0.202114</td>\n",
       "      <td>...</td>\n",
       "      <td>0.204898</td>\n",
       "      <td>0.251841</td>\n",
       "      <td>0.196886</td>\n",
       "      <td>0.216695</td>\n",
       "      <td>0.348795</td>\n",
       "      <td>0.204845</td>\n",
       "      <td>0.202262</td>\n",
       "      <td>0.199340</td>\n",
       "      <td>0.257019</td>\n",
       "      <td>0.416791</td>\n",
       "    </tr>\n",
       "    <tr>\n",
       "      <th>322.833344</th>\n",
       "      <td>0.256233</td>\n",
       "      <td>0.183134</td>\n",
       "      <td>0.176646</td>\n",
       "      <td>0.303116</td>\n",
       "      <td>0.376112</td>\n",
       "      <td>0.195572</td>\n",
       "      <td>0.387115</td>\n",
       "      <td>0.454958</td>\n",
       "      <td>0.263166</td>\n",
       "      <td>0.176070</td>\n",
       "      <td>...</td>\n",
       "      <td>0.177395</td>\n",
       "      <td>0.246810</td>\n",
       "      <td>0.176043</td>\n",
       "      <td>0.206809</td>\n",
       "      <td>0.347976</td>\n",
       "      <td>0.191629</td>\n",
       "      <td>0.187959</td>\n",
       "      <td>0.183314</td>\n",
       "      <td>0.252447</td>\n",
       "      <td>0.416607</td>\n",
       "    </tr>\n",
       "  </tbody>\n",
       "</table>\n",
       "<p>3 rows × 476 columns</p>\n",
       "</div>"
      ],
      "text/plain": [
       "                 0         1         2         3         4         5    \\\n",
       "300.700012  0.260664  0.199708  0.197338  0.305087  0.376593  0.208114   \n",
       "301.233337  0.260527  0.199264  0.196791  0.305029  0.376577  0.207768   \n",
       "322.833344  0.256233  0.183134  0.176646  0.303116  0.376112  0.195572   \n",
       "\n",
       "                 6         7         8         9    ...       466       467  \\\n",
       "300.700012  0.387490  0.455030  0.267099  0.202845  ...  0.205659  0.251988   \n",
       "301.233337  0.387478  0.455028  0.266994  0.202114  ...  0.204898  0.251841   \n",
       "322.833344  0.387115  0.454958  0.263166  0.176070  ...  0.177395  0.246810   \n",
       "\n",
       "                 468       469       470       471       472       473  \\\n",
       "300.700012  0.197467  0.216961  0.348827  0.205224  0.202683  0.199797   \n",
       "301.233337  0.196886  0.216695  0.348795  0.204845  0.202262  0.199340   \n",
       "322.833344  0.176043  0.206809  0.347976  0.191629  0.187959  0.183314   \n",
       "\n",
       "                 474       475  \n",
       "300.700012  0.257162  0.416797  \n",
       "301.233337  0.257019  0.416791  \n",
       "322.833344  0.252447  0.416607  \n",
       "\n",
       "[3 rows x 476 columns]"
      ]
     },
     "execution_count": 10,
     "metadata": {},
     "output_type": "execute_result"
    }
   ],
   "source": [
    "df_survival_function = model.predict_survival_function(X_train, X_test, y_train, y_test)\n",
    "df_survival_function.tail(3)"
   ]
  },
  {
   "attachments": {},
   "cell_type": "markdown",
   "metadata": {},
   "source": [
    "### Visualize Predictions"
   ]
  },
  {
   "cell_type": "code",
   "execution_count": 11,
   "metadata": {},
   "outputs": [
    {
     "data": {
      "text/plain": [
       "Text(0.5, 1.0, 'Cumulative Hazard Breslow')"
      ]
     },
     "execution_count": 11,
     "metadata": {},
     "output_type": "execute_result"
    },
    {
     "data": {
      "image/png": "[encoded data removed]",
      "text/plain": [
       "<Figure size 640x480 with 1 Axes>"
      ]
     },
     "metadata": {},
     "output_type": "display_data"
    }
   ],
   "source": [
    "df_cum_hazards.iloc[:, :5].plot(drawstyle='steps-post')\n",
    "plt.ylabel('S(t | x)')\n",
    "_ = plt.xlabel('Time')\n",
    "plt.title(\"Cumulative Hazard Breslow\")"
   ]
  },
  {
   "cell_type": "code",
   "execution_count": 12,
   "metadata": {},
   "outputs": [
    {
     "data": {
      "text/plain": [
       "Text(0.5, 1.0, 'Survival Curve Breslow')"
      ]
     },
     "execution_count": 12,
     "metadata": {},
     "output_type": "execute_result"
    },
    {
     "data": {
      "image/png": "[encoded data removed]",
      "text/plain": [
       "<Figure size 640x480 with 1 Axes>"
      ]
     },
     "metadata": {},
     "output_type": "display_data"
    }
   ],
   "source": [
    "df_survival_function.iloc[:, :5].plot(drawstyle='steps-post')\n",
    "plt.ylabel('S(t | x)')\n",
    "_ = plt.xlabel('Time')\n",
    "plt.title(\"Survival Curve Breslow\")"
   ]
  },
  {
   "attachments": {},
   "cell_type": "markdown",
   "metadata": {},
   "source": [
    "## Evaluate"
   ]
  },
  {
   "attachments": {},
   "cell_type": "markdown",
   "metadata": {},
   "source": [
    "### Test"
   ]
  },
  {
   "cell_type": "code",
   "execution_count": 13,
   "metadata": {},
   "outputs": [
    {
     "name": "stdout",
     "output_type": "stream",
     "text": [
      "Concordance Index 0.5238516694244558\n"
     ]
    }
   ],
   "source": [
    "durations_test, events_test = transform_back(y_test)\n",
    "time_grid = np.linspace(durations_test.min(), durations_test.max(), 100)\n",
    "ev = EvalSurv(df_survival_function, durations_test, events_test, censor_surv='km')\n",
    "print('Concordance Index',ev.concordance_td('antolini'))"
   ]
  },
  {
   "cell_type": "code",
   "execution_count": 14,
   "metadata": {},
   "outputs": [
    {
     "name": "stdout",
     "output_type": "stream",
     "text": [
      "Integrated Brier Score: 0.19217443278128904\n"
     ]
    }
   ],
   "source": [
    "print('Integrated Brier Score:',ev.integrated_brier_score(time_grid))"
   ]
  },
  {
   "cell_type": "code",
   "execution_count": null,
   "metadata": {},
   "outputs": [],
   "source": []
  }
 ],
 "metadata": {
  "kernelspec": {
   "display_name": "xgbsurv",
   "language": "python",
   "name": "python3"
  },
  "language_info": {
   "codemirror_mode": {
    "name": "ipython",
    "version": 3
   },
   "file_extension": ".py",
   "mimetype": "text/x-python",
   "name": "python",
   "nbconvert_exporter": "python",
   "pygments_lexer": "ipython3",
   "version": "3.11.3"
  },
  "orig_nbformat": 4
 },
 "nbformat": 4,
 "nbformat_minor": 2
}
