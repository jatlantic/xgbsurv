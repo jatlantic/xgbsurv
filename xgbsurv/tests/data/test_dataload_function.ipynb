{
 "cells": [
  {
   "cell_type": "code",
   "execution_count": 2,
   "metadata": {},
   "outputs": [],
   "source": [
    "from xgbsurv.datasets import load_metabric, load_flchain, load_rgbsg, load_support, load_tcga"
   ]
  },
  {
   "cell_type": "code",
   "execution_count": 4,
   "metadata": {},
   "outputs": [
    {
     "name": "stdout",
     "output_type": "stream",
     "text": [
      "dataset <function load_metabric at 0x16c6bdd00>\n",
      "data type MKI67                float32\n",
      "EGFR                 float32\n",
      "PGR                  float32\n",
      "ERBB2                float32\n",
      "hormone_treatment      uint8\n",
      "radiotherapy           uint8\n",
      "chemotherapy           uint8\n",
      "ER_positive            uint8\n",
      "age                  float32\n",
      "dtype: object\n",
      "target type <class 'pandas.core.series.Series'>\n",
      "dataset <function load_support at 0x16c6bde40>\n",
      "data type age                  float32\n",
      "sex                    uint8\n",
      "race                category\n",
      "n_comorbidities      float32\n",
      "diabetes               uint8\n",
      "dementia               uint8\n",
      "cancer              category\n",
      "blood_pressure       float32\n",
      "heart_rate           float32\n",
      "respiration_rate     float32\n",
      "temperature          float32\n",
      "white_blood_cell     float32\n",
      "serum_sodium         float32\n",
      "serum_creatinine     float32\n",
      "dtype: object\n",
      "target type <class 'pandas.core.series.Series'>\n",
      "dataset <function load_flchain at 0x16c6bdda0>\n",
      "data type age           float32\n",
      "sex             uint8\n",
      "sample_yr     float32\n",
      "kappa         float32\n",
      "lambda        float32\n",
      "flc_grp       float32\n",
      "creatinine    float32\n",
      "mgus            uint8\n",
      "dtype: object\n",
      "target type <class 'pandas.core.series.Series'>\n",
      "dataset <function load_rgbsg at 0x16c6bdee0>\n",
      "data type horm_treatment         uint8\n",
      "grade               category\n",
      "menopause              uint8\n",
      "age                  float32\n",
      "n_positive_nodes     float32\n",
      "progesterone         float32\n",
      "estrogene            float32\n",
      "dtype: object\n",
      "target type <class 'pandas.core.series.Series'>\n",
      "dataset <function load_support at 0x16c6bde40>\n",
      "data type age                  float32\n",
      "sex                    uint8\n",
      "race                category\n",
      "n_comorbidities      float32\n",
      "diabetes               uint8\n",
      "dementia               uint8\n",
      "cancer              category\n",
      "blood_pressure       float32\n",
      "heart_rate           float32\n",
      "respiration_rate     float32\n",
      "temperature          float32\n",
      "white_blood_cell     float32\n",
      "serum_sodium         float32\n",
      "serum_creatinine     float32\n",
      "dtype: object\n",
      "target type <class 'pandas.core.series.Series'>\n"
     ]
    }
   ],
   "source": [
    "data_set_fns = [load_metabric, load_support, load_flchain, load_rgbsg, load_support] #, load_tcga\n",
    "for dataset in data_set_fns:\n",
    "    # get name of current dataset\n",
    "    data = dataset(path=\"/Users/JUSC/Documents/xgbsurv/xgbsurv/datasets/data/\", as_frame=True)\n",
    "    print('dataset', str(dataset))\n",
    "    print('data type',data.data.dtypes)\n",
    "    data.data.dtypes.to_csv(str(dataset)+'basic_description.csv', index=True)\n",
    "    print('target type',type(data.target))"
   ]
  },
  {
   "cell_type": "code",
   "execution_count": null,
   "metadata": {},
   "outputs": [],
   "source": []
  },
  {
   "cell_type": "code",
   "execution_count": null,
   "metadata": {},
   "outputs": [],
   "source": []
  }
 ],
 "metadata": {
  "kernelspec": {
   "display_name": "xgbsurv",
   "language": "python",
   "name": "python3"
  },
  "language_info": {
   "codemirror_mode": {
    "name": "ipython",
    "version": 3
   },
   "file_extension": ".py",
   "mimetype": "text/x-python",
   "name": "python",
   "nbconvert_exporter": "python",
   "pygments_lexer": "ipython3",
   "version": "3.11.3"
  },
  "orig_nbformat": 4
 },
 "nbformat": 4,
 "nbformat_minor": 2
}
