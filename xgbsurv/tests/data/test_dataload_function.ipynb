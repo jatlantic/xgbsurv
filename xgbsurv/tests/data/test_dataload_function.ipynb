{
 "cells": [
  {
   "cell_type": "code",
   "execution_count": 1,
   "metadata": {},
   "outputs": [],
   "source": [
    "from xgbsurv.datasets import load_metabric, load_flchain, load_rgbsg, load_support, load_tcga"
   ]
  },
  {
   "cell_type": "code",
   "execution_count": 2,
   "metadata": {},
   "outputs": [
    {
     "name": "stdout",
     "output_type": "stream",
     "text": [
      "dataset <function load_metabric at 0x7f7f325571c0>\n",
      "data type MKI67                float32\n",
      "EGFR                 float32\n",
      "PGR                  float32\n",
      "ERBB2                float32\n",
      "hormone_treatment      uint8\n",
      "radiotherapy           uint8\n",
      "chemotherapy           uint8\n",
      "ER_positive            uint8\n",
      "age                  float32\n",
      "dtype: object\n",
      "target type <class 'pandas.core.series.Series'>\n",
      "dataset <function load_support at 0x7f7f325572e0>\n",
      "data type age                  float32\n",
      "sex                    uint8\n",
      "race                  object\n",
      "n_comorbidities      float32\n",
      "diabetes               uint8\n",
      "dementia               uint8\n",
      "cancer              category\n",
      "blood_pressure       float32\n",
      "heart_rate           float32\n",
      "respiration_rate     float32\n",
      "temperature          float32\n",
      "white_blood_cell     float32\n",
      "serum_sodium         float32\n",
      "serum_creatinine     float32\n",
      "dtype: object\n",
      "target type <class 'pandas.core.series.Series'>\n",
      "dataset <function load_flchain at 0x7f7f32557250>\n",
      "data type age           float32\n",
      "sex             uint8\n",
      "sample_yr     float32\n",
      "kappa         float32\n",
      "lambda        float32\n",
      "flc_grp       float32\n",
      "creatinine    float32\n",
      "mgus            uint8\n",
      "dtype: object\n",
      "target type <class 'pandas.core.series.Series'>\n",
      "dataset <function load_rgbsg at 0x7f7f32557370>\n",
      "data type horm_treatment         uint8\n",
      "grade               category\n",
      "menopause              uint8\n",
      "age                  float32\n",
      "n_positive_nodes     float32\n",
      "progesterone         float32\n",
      "estrogene            float32\n",
      "dtype: object\n",
      "target type <class 'pandas.core.series.Series'>\n",
      "dataset <function load_support at 0x7f7f325572e0>\n",
      "data type age                  float32\n",
      "sex                    uint8\n",
      "race                  object\n",
      "n_comorbidities      float32\n",
      "diabetes               uint8\n",
      "dementia               uint8\n",
      "cancer              category\n",
      "blood_pressure       float32\n",
      "heart_rate           float32\n",
      "respiration_rate     float32\n",
      "temperature          float32\n",
      "white_blood_cell     float32\n",
      "serum_sodium         float32\n",
      "serum_creatinine     float32\n",
      "dtype: object\n",
      "target type <class 'pandas.core.series.Series'>\n"
     ]
    }
   ],
   "source": [
    "data_set_fns = [load_metabric, load_support, load_flchain, load_rgbsg, load_support] #, load_tcga\n",
    "for dataset in data_set_fns:\n",
    "    # get name of current dataset\n",
    "    data = dataset(path=\"/Users/JUSC/Documents/xgbsurv/xgbsurv/datasets/data/\", as_frame=True)\n",
    "    print('dataset', str(dataset))\n",
    "    print('data type',data.data.dtypes)\n",
    "    print('target type',type(data.target))"
   ]
  },
  {
   "cell_type": "code",
   "execution_count": 11,
   "metadata": {},
   "outputs": [
    {
     "ename": "AttributeError",
     "evalue": "'DataFrame' object has no attribute 'race'",
     "output_type": "error",
     "traceback": [
      "\u001b[0;31m---------------------------------------------------------------------------\u001b[0m",
      "\u001b[0;31mAttributeError\u001b[0m                            Traceback (most recent call last)",
      "Cell \u001b[0;32mIn[11], line 1\u001b[0m\n\u001b[0;32m----> 1\u001b[0m data\u001b[39m.\u001b[39;49mdata\u001b[39m.\u001b[39;49mrace\u001b[39m.\u001b[39mvalue_counts()\n",
      "File \u001b[0;32m~/miniconda3/envs/xgbsurv/lib/python3.10/site-packages/pandas/core/generic.py:5902\u001b[0m, in \u001b[0;36mNDFrame.__getattr__\u001b[0;34m(self, name)\u001b[0m\n\u001b[1;32m   5895\u001b[0m \u001b[39mif\u001b[39;00m (\n\u001b[1;32m   5896\u001b[0m     name \u001b[39mnot\u001b[39;00m \u001b[39min\u001b[39;00m \u001b[39mself\u001b[39m\u001b[39m.\u001b[39m_internal_names_set\n\u001b[1;32m   5897\u001b[0m     \u001b[39mand\u001b[39;00m name \u001b[39mnot\u001b[39;00m \u001b[39min\u001b[39;00m \u001b[39mself\u001b[39m\u001b[39m.\u001b[39m_metadata\n\u001b[1;32m   5898\u001b[0m     \u001b[39mand\u001b[39;00m name \u001b[39mnot\u001b[39;00m \u001b[39min\u001b[39;00m \u001b[39mself\u001b[39m\u001b[39m.\u001b[39m_accessors\n\u001b[1;32m   5899\u001b[0m     \u001b[39mand\u001b[39;00m \u001b[39mself\u001b[39m\u001b[39m.\u001b[39m_info_axis\u001b[39m.\u001b[39m_can_hold_identifiers_and_holds_name(name)\n\u001b[1;32m   5900\u001b[0m ):\n\u001b[1;32m   5901\u001b[0m     \u001b[39mreturn\u001b[39;00m \u001b[39mself\u001b[39m[name]\n\u001b[0;32m-> 5902\u001b[0m \u001b[39mreturn\u001b[39;00m \u001b[39mobject\u001b[39;49m\u001b[39m.\u001b[39;49m\u001b[39m__getattribute__\u001b[39;49m(\u001b[39mself\u001b[39;49m, name)\n",
      "\u001b[0;31mAttributeError\u001b[0m: 'DataFrame' object has no attribute 'race'"
     ]
    }
   ],
   "source": [
    "data.data.race.value_counts()"
   ]
  },
  {
   "cell_type": "code",
   "execution_count": 14,
   "metadata": {},
   "outputs": [
    {
     "data": {
      "text/plain": [
       "0.0       381\n",
       "1.0        38\n",
       "4.0        38\n",
       "10.0       38\n",
       "2.0        37\n",
       "         ... \n",
       "1118.0      1\n",
       "422.0       1\n",
       "595.0       1\n",
       "478.0       1\n",
       "875.0       1\n",
       "Name: progesterone, Length: 513, dtype: int64"
      ]
     },
     "execution_count": 14,
     "metadata": {},
     "output_type": "execute_result"
    }
   ],
   "source": [
    "data.data.progesterone.value_counts()"
   ]
  },
  {
   "cell_type": "code",
   "execution_count": null,
   "metadata": {},
   "outputs": [],
   "source": []
  },
  {
   "cell_type": "code",
   "execution_count": 13,
   "metadata": {},
   "outputs": [
    {
     "name": "stdout",
     "output_type": "stream",
     "text": [
      "{'horm_treatment': CategoricalDtype(categories=[0.0, 1.0], ordered=False), 'grade': CategoricalDtype(categories=[0.0, 1.0, 2.0], ordered=False), 'menopause': CategoricalDtype(categories=[0.0, 1.0], ordered=False), 'age': dtype('float32'), 'n_positive_nodes': dtype('float32'), 'progesterone': dtype('float32'), 'estrogene': dtype('float32')}\n"
     ]
    }
   ],
   "source": [
    "print(dict(data.data.dtypes))"
   ]
  },
  {
   "cell_type": "code",
   "execution_count": null,
   "metadata": {},
   "outputs": [],
   "source": []
  }
 ],
 "metadata": {
  "kernelspec": {
   "display_name": "xgbsurv",
   "language": "python",
   "name": "python3"
  },
  "language_info": {
   "codemirror_mode": {
    "name": "ipython",
    "version": 3
   },
   "file_extension": ".py",
   "mimetype": "text/x-python",
   "name": "python",
   "nbconvert_exporter": "python",
   "pygments_lexer": "ipython3",
   "version": "3.10.10"
  },
  "orig_nbformat": 4
 },
 "nbformat": 4,
 "nbformat_minor": 2
}
