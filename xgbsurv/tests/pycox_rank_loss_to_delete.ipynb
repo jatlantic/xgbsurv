{
 "cells": [
  {
   "cell_type": "code",
   "execution_count": 2,
   "metadata": {},
   "outputs": [],
   "source": [
    "import numpy as np\n",
    "import jax.numpy as jnp"
   ]
  },
  {
   "cell_type": "code",
   "execution_count": 75,
   "metadata": {},
   "outputs": [],
   "source": [
    "def diff_rank_loss(phi, time, event):\n",
    "    # pycox style padding\n",
    "    n = phi.shape[0]\n",
    "    ones = np.ones((n,1)).reshape(-1, 1)\n",
    "    pad = np.zeros_like(phi[:,:1])\n",
    "    phi = np.concatenate((phi, pad),axis=1)\n",
    "    # todo: add softmax\n",
    "    y = np.zeros_like(phi)\n",
    "    bins = np.unique(time)\n",
    "    idx_durations = np.digitize(time, bins)-1\n",
    "    idx_durations = idx_durations.reshape(-1, 1)\n",
    "    phi_cum = np.cumsum(phi, axis=1)\n",
    "    np.put_along_axis(y, idx_durations, np.ones((len(idx_durations),1)),axis=1)\n",
    "    r = phi_cum@y.T\n",
    "    diag_r = np.diagonal(r).reshape(1, -1)\n",
    "    r = ones@diag_r -r\n",
    "    print(r)\n",
    "    return np.sum(r.T.sum())\n",
    "\n",
    "def deephit_loss2_pycox(time, event, phi, sigma=1.0)->float:\n",
    "    r = diff_rank_loss(phi, time, event)\n",
    "    l = np.exp(-r/sigma)\n",
    "    loss = np.mean(l, axis=1, keepdims=True)\n",
    "    # TODO: reduction function\n",
    "    return loss"
   ]
  },
  {
   "cell_type": "code",
   "execution_count": 76,
   "metadata": {},
   "outputs": [
    {
     "name": "stdout",
     "output_type": "stream",
     "text": [
      "[[ 0.  3.  0.]\n",
      " [-2.  0. -3.]\n",
      " [-1.  2.  0.]]\n"
     ]
    },
    {
     "data": {
      "text/plain": [
       "-1.0"
      ]
     },
     "execution_count": 76,
     "metadata": {},
     "output_type": "execute_result"
    }
   ],
   "source": [
    "phi = np.array([\n",
    "              [1.0, 2.0, 3.0],\n",
    "              [3.0, 3.0, 3.0],\n",
    "              [2.0, 2.0, 2.0]])\n",
    "time = np.array([5, 10, 15])\n",
    "event = np.array(([1, 1, 1]))\n",
    "diff_rank_loss(phi, time, event)"
   ]
  },
  {
   "cell_type": "code",
   "execution_count": 88,
   "metadata": {},
   "outputs": [
    {
     "data": {
      "text/plain": [
       "array([[0.],\n",
       "       [0.],\n",
       "       [0.]])"
      ]
     },
     "execution_count": 88,
     "metadata": {},
     "output_type": "execute_result"
    }
   ],
   "source": [
    "def deriv(x):\n",
    "    rows = x.shape[0]\n",
    "    columns = x.shape[1]\n",
    "    mat = np.zeros(x.shape)\n",
    "    for i in range(x.shape[0]):\n",
    "        for j in range(x.shape[1]):\n",
    "            if i!=j:\n",
    "                mat[i,j] = -len(mat[i,j:])\n",
    "\n",
    "            if i==j:\n",
    "                mat[i,j] = i\n",
    "    mat = np.triu(mat)\n",
    "    return mat\n",
    "\n",
    "x = np.array([[1.0, 2.0],\n",
    "              [3.0, 3.0],\n",
    "              [2.0, 2.0]])\n",
    "\n",
    "deriv(x[:,:-1])"
   ]
  },
  {
   "cell_type": "code",
   "execution_count": null,
   "metadata": {},
   "outputs": [],
   "source": []
  }
 ],
 "metadata": {
  "kernelspec": {
   "display_name": "experiments",
   "language": "python",
   "name": "python3"
  },
  "language_info": {
   "codemirror_mode": {
    "name": "ipython",
    "version": 3
   },
   "file_extension": ".py",
   "mimetype": "text/x-python",
   "name": "python",
   "nbconvert_exporter": "python",
   "pygments_lexer": "ipython3",
   "version": "3.10.10"
  },
  "orig_nbformat": 4
 },
 "nbformat": 4,
 "nbformat_minor": 2
}
