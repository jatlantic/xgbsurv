{
 "cells": [
  {
   "cell_type": "code",
   "execution_count": 9,
   "metadata": {},
   "outputs": [],
   "source": [
    "import pandas as pd\n",
    "import numpy as np"
   ]
  },
  {
   "cell_type": "code",
   "execution_count": 10,
   "metadata": {},
   "outputs": [],
   "source": [
    "df = pd.read_csv('/Users/JUSC/Documents/xgbsurv/xgbsurv/tests/simulation_data/survival_simulation_1000.csv')\n",
    "risks = pd.read_csv('/Users/JUSC/Documents/xgbsurv/xgbsurv/tests/simulation_data/survival_simulation_preds1000.csv')"
   ]
  },
  {
   "cell_type": "code",
   "execution_count": 11,
   "metadata": {},
   "outputs": [],
   "source": [
    "def breslow_estimator(log_hazard, time, event):\n",
    "    #time, event = transform_back(y)\n",
    "    risk_score = np.exp(log_hazard)\n",
    "\n",
    "    is_sorted = lambda a: np.all(a[:-1] <= a[1:])\n",
    "\n",
    "    if is_sorted(time) == False:\n",
    "        order = np.argsort(time, kind=\"mergesort\")\n",
    "        time = time[order]\n",
    "        event = event[order]\n",
    "        risk_score = risk_score[order]\n",
    "\n",
    "    uniq_times = np.unique(time)\n",
    "    idx = np.digitize(time, np.unique(time))\n",
    "    breaks = np.flatnonzero(np.concatenate(([1], np.diff(idx))))\n",
    "    # numpy diff nth discrete difference over index, add 1 at the beginning\n",
    "    # flatnonzero return indices that are nonzero in flattened version\n",
    "    n_events = np.add.reduceat(event, breaks, axis=0)\n",
    "\n",
    "    # consider removing zero rows, would this be the right approach?\n",
    "    risk_matrix = np.unique((np.outer(time,time)>=np.square(time)).astype(int).T, axis=0)\n",
    "    denominator = np.sum(risk_score[None,:]*risk_matrix,axis=1)[::-1]     \n",
    "\n",
    "    cum_hazard_baseline = np.cumsum(n_events / denominator)\n",
    "    baseline_survival = np.exp(-cum_hazard_baseline)\n",
    "    return uniq_times, cum_hazard_baseline, baseline_survival"
   ]
  },
  {
   "cell_type": "code",
   "execution_count": 54,
   "metadata": {},
   "outputs": [],
   "source": [
    "def breslow_estimator_loop(    predictor: np.array,\n",
    "    time: np.array,\n",
    "    event: np.array\n",
    "\n",
    "):\n",
    "    exp_predictor: np.array = np.exp(predictor)\n",
    "    local_risk_set: float = np.sum(exp_predictor)\n",
    "    event_mask: np.array = event.astype(np.bool_)\n",
    "    n_unique_events: int = np.unique(time[event_mask]).shape[0]\n",
    "    cumulative_baseline_hazards: np.array = np.zeros(n_unique_events)\n",
    "    n_events_counted: int = 0\n",
    "    local_death_set: int = 0\n",
    "    accumulated_risk_set: float = 0\n",
    "    previous_time: float = time[0]\n",
    "\n",
    "    for _ in range(len(time)):\n",
    "        sample_time: float = time[_]\n",
    "        sample_event: int = event[_]\n",
    "        sample_predictor: float = exp_predictor[_]\n",
    "\n",
    "        if sample_time > previous_time and local_death_set:\n",
    "            cumulative_baseline_hazards[n_events_counted] = local_death_set / (\n",
    "                local_risk_set\n",
    "            )\n",
    "\n",
    "            local_death_set = 0\n",
    "            local_risk_set -= accumulated_risk_set\n",
    "            accumulated_risk_set = 0\n",
    "            n_events_counted += 1\n",
    "\n",
    "        if sample_event:\n",
    "            local_death_set += 1\n",
    "        accumulated_risk_set += sample_predictor\n",
    "        previous_time = sample_time\n",
    "\n",
    "    cumulative_baseline_hazards[n_events_counted] = local_death_set / (\n",
    "        local_risk_set\n",
    "    )\n",
    "\n",
    "    return (\n",
    "        np.unique(time[event_mask]),\n",
    "        np.cumsum(cumulative_baseline_hazards),\n",
    "    )"
   ]
  },
  {
   "cell_type": "code",
   "execution_count": 55,
   "metadata": {},
   "outputs": [],
   "source": [
    "log_hazard, time, event = risks.to_numpy(), df.time.to_numpy(), df.event.to_numpy()"
   ]
  },
  {
   "cell_type": "code",
   "execution_count": 56,
   "metadata": {},
   "outputs": [],
   "source": [
    "res_loop = breslow_estimator_loop( log_hazard, time, event)\n",
    "res = breslow_estimator(log_hazard, time, event)\n"
   ]
  },
  {
   "cell_type": "code",
   "execution_count": 57,
   "metadata": {},
   "outputs": [
    {
     "name": "stdout",
     "output_type": "stream",
     "text": [
      "(370,)\n",
      "(1000,)\n"
     ]
    }
   ],
   "source": [
    "# times comparison\n",
    "times_loop = res_loop[0]\n",
    "print(times_loop.shape)\n",
    "times = res[0]\n",
    "print(times.shape)"
   ]
  },
  {
   "cell_type": "code",
   "execution_count": 58,
   "metadata": {},
   "outputs": [
    {
     "name": "stdout",
     "output_type": "stream",
     "text": [
      "(370,)\n",
      "(1000,)\n"
     ]
    }
   ],
   "source": [
    "# hazards comparison\n",
    "cum_hazard_loop = res_loop[1]\n",
    "print(cum_hazard_loop.shape)\n",
    "cum_hazard = res[1]\n",
    "print(cum_hazard.shape)"
   ]
  },
  {
   "cell_type": "code",
   "execution_count": null,
   "metadata": {},
   "outputs": [],
   "source": []
  },
  {
   "cell_type": "code",
   "execution_count": null,
   "metadata": {},
   "outputs": [],
   "source": []
  }
 ],
 "metadata": {
  "kernelspec": {
   "display_name": "xgbsurv",
   "language": "python",
   "name": "python3"
  },
  "language_info": {
   "codemirror_mode": {
    "name": "ipython",
    "version": 3
   },
   "file_extension": ".py",
   "mimetype": "text/x-python",
   "name": "python",
   "nbconvert_exporter": "python",
   "pygments_lexer": "ipython3",
   "version": "3.10.10"
  },
  "orig_nbformat": 4
 },
 "nbformat": 4,
 "nbformat_minor": 2
}
