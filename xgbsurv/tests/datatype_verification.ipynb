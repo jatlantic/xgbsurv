{
 "cells": [
  {
   "cell_type": "code",
   "execution_count": 1,
   "metadata": {},
   "outputs": [],
   "source": [
    "from xgbsurv.datasets import load_metabric, load_flchain, load_rgbsg, load_support\n",
    "import numpy as np\n",
    "import pandas as pd\n",
    "import os\n",
    "from sklearn.preprocessing import OrdinalEncoder\n",
    "from sklearn.preprocessing import LabelEncoder"
   ]
  },
  {
   "attachments": {},
   "cell_type": "markdown",
   "metadata": {},
   "source": [
    "## FLCHAIN"
   ]
  },
  {
   "cell_type": "code",
   "execution_count": 2,
   "metadata": {},
   "outputs": [
    {
     "data": {
      "text/plain": [
       "age           float32\n",
       "sex              bool\n",
       "sample_yr     float32\n",
       "kappa         float32\n",
       "lambda        float32\n",
       "flc_grp       float32\n",
       "creatinine    float32\n",
       "mgus          float32\n",
       "dtype: object"
      ]
     },
     "execution_count": 2,
     "metadata": {},
     "output_type": "execute_result"
    }
   ],
   "source": [
    "data = load_flchain(path=\"/Users/JUSC/Documents/xgbsurv/xgbsurv/datasets/data/\", as_frame=True)\n",
    "X  = data.data\n",
    "X.dtypes"
   ]
  },
  {
   "cell_type": "code",
   "execution_count": 3,
   "metadata": {},
   "outputs": [
    {
     "data": {
      "text/plain": [
       "dtype('float32')"
      ]
     },
     "execution_count": 3,
     "metadata": {},
     "output_type": "execute_result"
    }
   ],
   "source": [
    "y  = data.target\n",
    "y.dtypes"
   ]
  },
  {
   "cell_type": "code",
   "execution_count": 4,
   "metadata": {},
   "outputs": [
    {
     "data": {
      "text/plain": [
       "(7871,)"
      ]
     },
     "execution_count": 4,
     "metadata": {},
     "output_type": "execute_result"
    }
   ],
   "source": [
    "y.shape"
   ]
  },
  {
   "attachments": {},
   "cell_type": "markdown",
   "metadata": {},
   "source": [
    "## RGBSG"
   ]
  },
  {
   "cell_type": "code",
   "execution_count": 5,
   "metadata": {},
   "outputs": [],
   "source": [
    "\n",
    "def rgbsg_preprocess(path=\"add your path here\"):\n",
    "    filename=\"original_data/RGBSG_pycox_full.csv\"\n",
    "    df = pd.read_csv(path+filename)\n",
    "    # drop death cause column\n",
    "    # name columns\n",
    "    df.columns = [\n",
    "        \"horm_treatment\",\n",
    "        \"grade\",\n",
    "        \"menopause\",\n",
    "        \"age\",\n",
    "        \"n_positive_nodes\",\n",
    "        \"progesterone\",\n",
    "        \"estrogene\",\n",
    "        \"time\",\n",
    "        \"event\"\n",
    "        ]\n",
    "    # remove zero time observations\n",
    "    df = df[df.time!=0]\n",
    "    # sort data\n",
    "    df.sort_values(by='time', ascending=True, inplace=True)\n",
    "    # save data\n",
    "    df.to_csv(path+\"data/RGBSG_adapted.csv\", index=False)\n",
    "    return"
   ]
  },
  {
   "cell_type": "code",
   "execution_count": 6,
   "metadata": {},
   "outputs": [
    {
     "data": {
      "text/plain": [
       "horm_treatment         bool\n",
       "grade               float32\n",
       "menopause              bool\n",
       "age                 float32\n",
       "n_positive_nodes    float32\n",
       "progesterone        float32\n",
       "estrogene           float32\n",
       "dtype: object"
      ]
     },
     "execution_count": 6,
     "metadata": {},
     "output_type": "execute_result"
    }
   ],
   "source": [
    "rgbsg_preprocess(path=\"/Users/JUSC/Documents/xgbsurv/xgbsurv/datasets/\")\n",
    "data = load_rgbsg(path=\"/Users/JUSC/Documents/xgbsurv/xgbsurv/datasets/data/\", as_frame=True)\n",
    "X  = data.data\n",
    "X.dtypes\n"
   ]
  },
  {
   "cell_type": "code",
   "execution_count": 7,
   "metadata": {},
   "outputs": [
    {
     "data": {
      "text/plain": [
       "False    1647\n",
       "True      585\n",
       "Name: horm_treatment, dtype: int64"
      ]
     },
     "execution_count": 7,
     "metadata": {},
     "output_type": "execute_result"
    }
   ],
   "source": [
    "X.horm_treatment.value_counts()"
   ]
  },
  {
   "cell_type": "code",
   "execution_count": 8,
   "metadata": {},
   "outputs": [
    {
     "data": {
      "text/html": [
       "<div>\n",
       "<style scoped>\n",
       "    .dataframe tbody tr th:only-of-type {\n",
       "        vertical-align: middle;\n",
       "    }\n",
       "\n",
       "    .dataframe tbody tr th {\n",
       "        vertical-align: top;\n",
       "    }\n",
       "\n",
       "    .dataframe thead th {\n",
       "        text-align: right;\n",
       "    }\n",
       "</style>\n",
       "<table border=\"1\" class=\"dataframe\">\n",
       "  <thead>\n",
       "    <tr style=\"text-align: right;\">\n",
       "      <th></th>\n",
       "      <th>horm_treatment</th>\n",
       "      <th>grade</th>\n",
       "      <th>menopause</th>\n",
       "      <th>age</th>\n",
       "      <th>n_positive_nodes</th>\n",
       "      <th>progesterone</th>\n",
       "      <th>estrogene</th>\n",
       "    </tr>\n",
       "  </thead>\n",
       "  <tbody>\n",
       "    <tr>\n",
       "      <th>0</th>\n",
       "      <td>False</td>\n",
       "      <td>1.0</td>\n",
       "      <td>False</td>\n",
       "      <td>50.0</td>\n",
       "      <td>2.0</td>\n",
       "      <td>90.0</td>\n",
       "      <td>30.0</td>\n",
       "    </tr>\n",
       "    <tr>\n",
       "      <th>1</th>\n",
       "      <td>True</td>\n",
       "      <td>2.0</td>\n",
       "      <td>True</td>\n",
       "      <td>57.0</td>\n",
       "      <td>18.0</td>\n",
       "      <td>11.0</td>\n",
       "      <td>13.0</td>\n",
       "    </tr>\n",
       "    <tr>\n",
       "      <th>2</th>\n",
       "      <td>False</td>\n",
       "      <td>2.0</td>\n",
       "      <td>False</td>\n",
       "      <td>44.0</td>\n",
       "      <td>19.0</td>\n",
       "      <td>28.0</td>\n",
       "      <td>31.0</td>\n",
       "    </tr>\n",
       "    <tr>\n",
       "      <th>3</th>\n",
       "      <td>False</td>\n",
       "      <td>0.0</td>\n",
       "      <td>False</td>\n",
       "      <td>50.0</td>\n",
       "      <td>1.0</td>\n",
       "      <td>1.0</td>\n",
       "      <td>4.0</td>\n",
       "    </tr>\n",
       "    <tr>\n",
       "      <th>4</th>\n",
       "      <td>False</td>\n",
       "      <td>1.0</td>\n",
       "      <td>False</td>\n",
       "      <td>51.0</td>\n",
       "      <td>5.0</td>\n",
       "      <td>360.0</td>\n",
       "      <td>57.0</td>\n",
       "    </tr>\n",
       "    <tr>\n",
       "      <th>...</th>\n",
       "      <td>...</td>\n",
       "      <td>...</td>\n",
       "      <td>...</td>\n",
       "      <td>...</td>\n",
       "      <td>...</td>\n",
       "      <td>...</td>\n",
       "      <td>...</td>\n",
       "    </tr>\n",
       "    <tr>\n",
       "      <th>2227</th>\n",
       "      <td>False</td>\n",
       "      <td>1.0</td>\n",
       "      <td>True</td>\n",
       "      <td>80.0</td>\n",
       "      <td>1.0</td>\n",
       "      <td>875.0</td>\n",
       "      <td>534.0</td>\n",
       "    </tr>\n",
       "    <tr>\n",
       "      <th>2228</th>\n",
       "      <td>True</td>\n",
       "      <td>1.0</td>\n",
       "      <td>True</td>\n",
       "      <td>59.0</td>\n",
       "      <td>4.0</td>\n",
       "      <td>4.0</td>\n",
       "      <td>3.0</td>\n",
       "    </tr>\n",
       "    <tr>\n",
       "      <th>2229</th>\n",
       "      <td>False</td>\n",
       "      <td>1.0</td>\n",
       "      <td>False</td>\n",
       "      <td>43.0</td>\n",
       "      <td>1.0</td>\n",
       "      <td>22.0</td>\n",
       "      <td>0.0</td>\n",
       "    </tr>\n",
       "    <tr>\n",
       "      <th>2230</th>\n",
       "      <td>True</td>\n",
       "      <td>1.0</td>\n",
       "      <td>True</td>\n",
       "      <td>57.0</td>\n",
       "      <td>4.0</td>\n",
       "      <td>16.0</td>\n",
       "      <td>5.0</td>\n",
       "    </tr>\n",
       "    <tr>\n",
       "      <th>2231</th>\n",
       "      <td>True</td>\n",
       "      <td>1.0</td>\n",
       "      <td>True</td>\n",
       "      <td>62.0</td>\n",
       "      <td>1.0</td>\n",
       "      <td>263.0</td>\n",
       "      <td>34.0</td>\n",
       "    </tr>\n",
       "  </tbody>\n",
       "</table>\n",
       "<p>2232 rows × 7 columns</p>\n",
       "</div>"
      ],
      "text/plain": [
       "      horm_treatment  grade  menopause   age  n_positive_nodes  progesterone  \\\n",
       "0              False    1.0      False  50.0               2.0          90.0   \n",
       "1               True    2.0       True  57.0              18.0          11.0   \n",
       "2              False    2.0      False  44.0              19.0          28.0   \n",
       "3              False    0.0      False  50.0               1.0           1.0   \n",
       "4              False    1.0      False  51.0               5.0         360.0   \n",
       "...              ...    ...        ...   ...               ...           ...   \n",
       "2227           False    1.0       True  80.0               1.0         875.0   \n",
       "2228            True    1.0       True  59.0               4.0           4.0   \n",
       "2229           False    1.0      False  43.0               1.0          22.0   \n",
       "2230            True    1.0       True  57.0               4.0          16.0   \n",
       "2231            True    1.0       True  62.0               1.0         263.0   \n",
       "\n",
       "      estrogene  \n",
       "0          30.0  \n",
       "1          13.0  \n",
       "2          31.0  \n",
       "3           4.0  \n",
       "4          57.0  \n",
       "...         ...  \n",
       "2227      534.0  \n",
       "2228        3.0  \n",
       "2229        0.0  \n",
       "2230        5.0  \n",
       "2231       34.0  \n",
       "\n",
       "[2232 rows x 7 columns]"
      ]
     },
     "execution_count": 8,
     "metadata": {},
     "output_type": "execute_result"
    }
   ],
   "source": [
    "X"
   ]
  },
  {
   "attachments": {},
   "cell_type": "markdown",
   "metadata": {},
   "source": [
    "## Metabric"
   ]
  },
  {
   "attachments": {},
   "cell_type": "markdown",
   "metadata": {},
   "source": [
    "## SUPPORT"
   ]
  },
  {
   "cell_type": "code",
   "execution_count": 14,
   "metadata": {},
   "outputs": [
    {
     "data": {
      "text/plain": [
       "age                  float32\n",
       "sex                 category\n",
       "race                 float32\n",
       "n_comorbidities      float32\n",
       "diabetes            category\n",
       "dementia            category\n",
       "cancer              category\n",
       "blood_pressure       float32\n",
       "heart_rate           float32\n",
       "respiration_rate     float32\n",
       "temperature          float32\n",
       "white_blood_cell     float32\n",
       "serum_sodium         float32\n",
       "serum_creatinine     float32\n",
       "dtype: object"
      ]
     },
     "execution_count": 14,
     "metadata": {},
     "output_type": "execute_result"
    }
   ],
   "source": [
    "data = load_support(path=\"/Users/JUSC/Documents/xgbsurv/xgbsurv/datasets/data/\", as_frame=True)\n",
    "#/Users/JUSC/Documents/xgbsurv/xgbsurv/datasets/data/SUPPORT_adapted.csv\n",
    "X  = data.data\n",
    "X.dtypes"
   ]
  },
  {
   "cell_type": "code",
   "execution_count": 15,
   "metadata": {},
   "outputs": [
    {
     "data": {
      "text/plain": [
       "age                 0\n",
       "sex                 0\n",
       "race                0\n",
       "n_comorbidities     0\n",
       "diabetes            0\n",
       "dementia            0\n",
       "cancer              0\n",
       "blood_pressure      0\n",
       "heart_rate          0\n",
       "respiration_rate    0\n",
       "temperature         0\n",
       "white_blood_cell    0\n",
       "serum_sodium        0\n",
       "serum_creatinine    0\n",
       "dtype: int64"
      ]
     },
     "execution_count": 15,
     "metadata": {},
     "output_type": "execute_result"
    }
   ],
   "source": [
    "X.isnull().sum()"
   ]
  },
  {
   "cell_type": "code",
   "execution_count": 11,
   "metadata": {},
   "outputs": [
    {
     "data": {
      "text/plain": [
       "0.0    7150\n",
       "1.0    1723\n",
       "Name: diabetes, dtype: int64"
      ]
     },
     "execution_count": 11,
     "metadata": {},
     "output_type": "execute_result"
    }
   ],
   "source": [
    "X.diabetes.value_counts()"
   ]
  },
  {
   "cell_type": "code",
   "execution_count": 12,
   "metadata": {},
   "outputs": [
    {
     "data": {
      "text/plain": [
       "0.0    8586\n",
       "1.0     287\n",
       "Name: dementia, dtype: int64"
      ]
     },
     "execution_count": 12,
     "metadata": {},
     "output_type": "execute_result"
    }
   ],
   "source": [
    "X.dementia.value_counts()"
   ]
  },
  {
   "cell_type": "code",
   "execution_count": 13,
   "metadata": {},
   "outputs": [
    {
     "data": {
      "text/plain": [
       "1.0    5857\n",
       "0.0    1786\n",
       "2.0    1230\n",
       "Name: cancer, dtype: int64"
      ]
     },
     "execution_count": 13,
     "metadata": {},
     "output_type": "execute_result"
    }
   ],
   "source": [
    "X.cancer.value_counts()"
   ]
  },
  {
   "cell_type": "code",
   "execution_count": 26,
   "metadata": {},
   "outputs": [
    {
     "name": "stdout",
     "output_type": "stream",
     "text": [
      "  epoch    train_loss    valid_loss     dur\n",
      "-------  ------------  ------------  ------\n",
      "      1    \u001b[36m32074.7522\u001b[0m    \u001b[32m31853.7147\u001b[0m  0.0321\n",
      "      2    \u001b[36m32054.3299\u001b[0m    31856.0969  0.0092\n",
      "      3    32055.2980    \u001b[32m31851.9863\u001b[0m  0.0098\n",
      "      4    \u001b[36m32053.1770\u001b[0m    31852.8633  0.0096\n",
      "      5    32053.5234    \u001b[32m31851.8642\u001b[0m  0.0093\n",
      "      6    32053.3120    31852.2989  0.0093\n",
      "      7    \u001b[36m32052.7355\u001b[0m    \u001b[32m31851.8258\u001b[0m  0.0091\n",
      "      8    \u001b[36m32052.5515\u001b[0m    \u001b[32m31851.6427\u001b[0m  0.0101\n",
      "      9    \u001b[36m32052.1894\u001b[0m    \u001b[32m31851.6353\u001b[0m  0.0093\n",
      "     10    32052.3781    31851.6450  0.0086\n",
      "     11    \u001b[36m32052.1515\u001b[0m    31851.9789  0.0092\n",
      "     12    32053.4512    \u001b[32m31851.5747\u001b[0m  0.0089\n",
      "     13    \u001b[36m32051.5519\u001b[0m    31851.6219  0.0097\n",
      "     14    \u001b[36m32051.4684\u001b[0m    31851.6134  0.0093\n",
      "     15    32051.7034    \u001b[32m31851.5312\u001b[0m  0.0090\n",
      "     16    32051.7598    31851.5341  0.0099\n",
      "     17    32051.5032    31851.5541  0.0093\n",
      "     18    \u001b[36m32051.2989\u001b[0m    31851.5769  0.0087\n",
      "     19    32051.6006    31851.6828  0.0091\n",
      "     20    32052.0598    31851.6534  0.0085\n"
     ]
    },
    {
     "data": {
      "text/plain": [
       "<class 'skorch.regressor.NeuralNetRegressor'>[initialized](\n",
       "  module_=ClassifierModule(\n",
       "    (dense0): Linear(in_features=20, out_features=10, bias=True)\n",
       "    (dropout): Dropout(p=0.5, inplace=False)\n",
       "    (dense1): Linear(in_features=10, out_features=10, bias=True)\n",
       "    (output): Linear(in_features=10, out_features=2, bias=True)\n",
       "  ),\n",
       ")"
      ]
     },
     "execution_count": 26,
     "metadata": {},
     "output_type": "execute_result"
    }
   ],
   "source": [
    "import numpy as np\n",
    "from sklearn.datasets import make_regression\n",
    "import torch\n",
    "from torch import nn\n",
    "import torch.nn.functional as F\n",
    "\n",
    "\n",
    "# This is a toy dataset for binary classification, 1000 data points with 20 features each\n",
    "X, y = make_regression(1000, 20, n_informative=10, random_state=0, n_targets=2)\n",
    "X, y = X.astype(np.float32), y.astype(np.float32)\n",
    "\n",
    "class ClassifierModule(nn.Module):\n",
    "    def __init__(\n",
    "            self,\n",
    "            num_units=10,\n",
    "            nonlin=F.relu,\n",
    "            dropout=0.5,\n",
    "    ):\n",
    "        super(ClassifierModule, self).__init__()\n",
    "        self.num_units = num_units\n",
    "        self.nonlin = nonlin\n",
    "        self.dropout = dropout\n",
    "\n",
    "        self.dense0 = nn.Linear(20, num_units)\n",
    "        self.nonlin = nonlin\n",
    "        self.dropout = nn.Dropout(dropout)\n",
    "        self.dense1 = nn.Linear(num_units, 10)\n",
    "        self.output = nn.Linear(10, 2)\n",
    "\n",
    "    def forward(self, X, **kwargs):\n",
    "        X = self.nonlin(self.dense0(X))\n",
    "        X = self.dropout(X)\n",
    "        X = F.relu(self.dense1(X))\n",
    "        X = F.softmax(self.output(X), dim=-1)\n",
    "        return X\n",
    "    \n",
    "\n",
    "\n",
    "from skorch import NeuralNetRegressor\n",
    "\n",
    "net = NeuralNetRegressor(\n",
    "    ClassifierModule,\n",
    "    max_epochs=20,\n",
    "    lr=0.1,\n",
    "#     device='cuda',  # uncomment this to train with CUDA\n",
    ")\n",
    "\n",
    "\n",
    "\n",
    "# Training the network\n",
    "net.fit(X, y)\n",
    "\n",
    "\n",
    "\n",
    "\n"
   ]
  },
  {
   "cell_type": "code",
   "execution_count": 25,
   "metadata": {},
   "outputs": [
    {
     "data": {
      "text/plain": [
       "array([  57, -144,  -61,  -18,  -45,  -47,  307, -150,    1,  -20,  -15,\n",
       "        291, -105,  -14,  151,  156, -373,   67,   19,   -4,  128,    9,\n",
       "         42, -150,   91,   67,  173,   28,  135,  146,  151,  -94,  389,\n",
       "         27, -210,   21, -308, -241,   97, -311,  197,  -65,  -75,  -97,\n",
       "       -145,  399,   43,   -3,   61,    1,  324, -482,   86,   94,  -42,\n",
       "        194,   31, -261,  -31, -242,  337, -424, -196,  154,  -22,   28,\n",
       "       -150,  135,  -94,  246,  103,   23,   19, -300,  110,   80,  105,\n",
       "        129,  158,  134,  -86, -149, -160,   83,   44, -356,   62, -264,\n",
       "        578, -264,   22, -633,   28,  137,   97,   12,  231,   67,  -29,\n",
       "       -166,  187, -277,   35,  -12, -286,  120, -128, -151, -320,   75,\n",
       "       -308,   32, -157, -168, -336,  244,  190,  115, -108,   19,   47,\n",
       "        175,  286,  105, -293,  286,  137, -169, -384,  204,  172, -142,\n",
       "       -129,   16, -134,  279,  -56, -277,   -4,  238,  280,   66,  -60,\n",
       "       -460,  128,  131, -283,  615,  165,  -15,  -71, -272,  -82,  -74,\n",
       "        -62,  173, -192,  194,   -8,  -24,  -35,  -81,  168, -143,  273,\n",
       "       -261,  103,  -95,  453,   43,  -50,  -69,   17, -236,  151,   49,\n",
       "        270, -248, -149, -250, -351, -259,  -29, -273,  -36, -199,  269,\n",
       "        -31, -224,  368, -119,   -4, -112,   86, -148,  272,  -71,  477,\n",
       "         39,  192,   32,   87,  -34, -380, -271,  454,  188, -130, -143,\n",
       "       -249,  -33,   80,   68,   95, -145,  138, -282, -227, -142,  126,\n",
       "        273,  435,  277, -516,  369,  111,  -44, -208,  204,  131,  225,\n",
       "       -512, -133, -159,   68,    0, -206,  220,  -28, -280,   37,  139,\n",
       "       -138, -332,   22,   68,  407,  234,  -84,  240,  -26, -160,  -92,\n",
       "       -374,  185, -152, -167,   53,  308,   38,   98, -125,  257,  -87,\n",
       "       -325,   18, -356, -343, -401,  133, -649,  -24, -307,  -77, -366,\n",
       "        130,  124, -181,   -3,  -21,   61,  301,  398,  366,   57,  -36,\n",
       "        -66,    6, -133,   70, -394,  -18, -482,  -53, -363,  189, -214,\n",
       "         19,  102,   -1,  131, -414,    6,  271,  -11,  344,   20,  116,\n",
       "       -236,  196, -173, -145,   66,  163, -174,   20,  224,  -39, -238,\n",
       "         50, -212,   -7,   70,   73, -273,  -38,  334,  272,  -95, -504,\n",
       "         -2,  234, -119,   58, -131,    1, -197,  168,   29, -362,   46,\n",
       "        -58,  -36,  204,  -81,   22,   99,  168,  277,  -83,  191, -299,\n",
       "        302,   23,  -24,  -37,  125,  235,  153,   72,   36,  164,   51,\n",
       "        -39,  191,  153,  195,  285,  -90, -196,   99,  170,  195, -168,\n",
       "       -194, -603, -369,  -24,  330, -198,  -29,  457, -182,  182,  164,\n",
       "       -182,  -37,    1,  247, -528,   89,  117,   85,  154,   51,  465,\n",
       "        125, -232, -217, -117,   57,   93,  191, -108,   77,  133,  306,\n",
       "        448,  487, -126, -350, -436,   48,   60, -196, -214, -289,  179,\n",
       "        307, -147, -251, -177,  168,   16,   97,  171, -238,  -62, -330,\n",
       "       -171,  -38,  -46,  -14,  197,  211,  223,  139,  -53,   86,  153,\n",
       "       -331, -108,  149,  109, -258,  390,   45,  194,  -43,  -43,   13,\n",
       "       -433,  392,  165, -525,  223, -176,  -12,  266,  -68,    6, -358,\n",
       "        340,  192,   85,   29,  -18,  241, -289,  413,   -4,   37,   93,\n",
       "         70,  147, -273,  -53, -213, -186,   66, -420,  -42,  117, -370,\n",
       "       -291,  466,  144,    2,  183,   56,  328, -358,  146,  -83, -276,\n",
       "        223, -324, -118, -219,  246,  250,  239,  235,  -63,  -27, -291,\n",
       "        107,  -15, -123,  -71, -214,  219,   76,   87,   93,   62,  -54,\n",
       "        -23,  265,  278,  -14,  176,   86,  256,  160,  -60,  165,   83,\n",
       "        136, -467,   86,  325, -276, -246,  281,  207,  409,  -66, -297,\n",
       "        -40,   66,   26, -102,  347, -110,   90,  126,   -4, -146,    0,\n",
       "       -329,  226,  343,  111,  -83,    1, -202,  238,  163, -109,  556,\n",
       "        261,  -60,  276,  -90, -123, -185,  104,   56,  -85,   83, -148,\n",
       "        117,   44,  164, -197, -183,   66,   71, -124,  143, -141, -373,\n",
       "        360,  163, -253,   96,   69, -251, -302,  -26,  214,  -52, -197,\n",
       "        196, -121,  128,   35,   60,  134,  207,  -94,  167, -352, -279,\n",
       "        138,  -90,  306, -145, -137, -178,  -72,  -67,  122,  348,  101,\n",
       "         71,  -48, -120,   51,  288,  450,  -12, -165, -193, -242,  535,\n",
       "        145,   49,  107, -139, -590,  345,  268,  427,  137,  167, -113,\n",
       "        193,  -97, -106,  205, -101,  -75,    3,  189,  -64,  -83, -355,\n",
       "        447,  223,  154,  -12,   23, -138, -102,  110,  -30,  382,  -64,\n",
       "       -475,  348,   79, -283,  311,  -11, -192, -243,  -64,    1, -198,\n",
       "       -435,  128, -161,  -55,   94,   12,  -88,  -99,  -73, -158,   47,\n",
       "       -562,  174, -324, -296,  161,  316, -134, -116, -189,  384, -222,\n",
       "        229,   91, -149,   81,  350, -314, -324, -183,  218,  -18, -139,\n",
       "         47,   68, -249,  557, -225, -246,  129, -153,   44,  -10,  -80,\n",
       "       -500, -123,  100,  213,  459,  245, -193, -119, -280,  117,  201,\n",
       "        395, -118,   35,  -10, -117,   -7,  -35,  -83,  -21,  246,   -2,\n",
       "          5, -285,  407,  197,  -54, -195,  -90, -148, -180,  -72,  -95,\n",
       "       -149,   82, -162, -192,  251,  135,   85, -122,   56, -356,   59,\n",
       "       -245,  221,  273,  600,   76,  -74,  267,  579, -308,   58,  281,\n",
       "         38, -250, -331,   48,  -38,  148, -206,   27, -236,  -66, -131,\n",
       "        -88, -188, -297,  -23,  131,  316,  -44,  452,   29, -166,   77,\n",
       "       -172,  286,  -46,   -5,  162,   74,  258,  559,   18,  523, -198,\n",
       "        -55,  122,   43,  215,    0, -100, -105, -155,  178, -150,  170,\n",
       "       -168, -105,   -4, -112,  133,  127,  421, -136,  -92,  327, -405,\n",
       "       -138,  -88,   76, -240,  140,  465, -383,   73, -338,  448,   18,\n",
       "         73,  114,  127,  180,   31,   86,  196,  -64,  -50,  135, -171,\n",
       "        357,  198, -186,  -53,   50,  213,   90,  -88,  -97,  -26,    4,\n",
       "        219,  228,  122,  136,  171,  -78,  -94,   33,   -6,  104,  139,\n",
       "        114,  115,  170,  -96,  203,   98,  247,   15, -220,  196, -235,\n",
       "       -105,  583, -428,  190,   55,  132,  270,  -50, -228, -398,  138,\n",
       "       -466,  133, -191,   55,  170,  302, -204,  -83, -290,  -40,    7,\n",
       "         63, -413,  -69, -121,   -3,  179,  206, -221, -185,  346, -218,\n",
       "       -411, -289, -146,   51,    0,  241, -208,  144,  296,   54,  209,\n",
       "        -24,  442, -183,    9, -223, -241,  -35,   40, -284,  -67, -219,\n",
       "        382,   16,  145,   83,  -34,   78, -138,   76, -174,   45,  146,\n",
       "         72,    8, -268,  -22,  352,  -86, -101, -204, -140,   15,  -56,\n",
       "       -301,   38,  -23,  327, -254,  -74,  -73,  124,  -83,  413,  132,\n",
       "       -273,  201,  229, -190,  357, -155,  410,  172,   32,  131,  361,\n",
       "        -64,  367,  -38,  189,  363,   30,  -81, -184,  -73,  464, -163,\n",
       "       -188, -600,   95, -156,   -8, -120,  111,  124,  -14,   84])"
      ]
     },
     "execution_count": 25,
     "metadata": {},
     "output_type": "execute_result"
    }
   ],
   "source": [
    "y"
   ]
  },
  {
   "cell_type": "code",
   "execution_count": null,
   "metadata": {},
   "outputs": [],
   "source": []
  }
 ],
 "metadata": {
  "kernelspec": {
   "display_name": "xgbsurv",
   "language": "python",
   "name": "python3"
  },
  "language_info": {
   "codemirror_mode": {
    "name": "ipython",
    "version": 3
   },
   "file_extension": ".py",
   "mimetype": "text/x-python",
   "name": "python",
   "nbconvert_exporter": "python",
   "pygments_lexer": "ipython3",
   "version": "3.10.10"
  },
  "orig_nbformat": 4
 },
 "nbformat": 4,
 "nbformat_minor": 2
}
