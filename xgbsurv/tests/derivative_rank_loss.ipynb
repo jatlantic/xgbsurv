{
 "cells": [
  {
   "cell_type": "code",
   "execution_count": 1,
   "metadata": {},
   "outputs": [],
   "source": [
    "import torch\n",
    "import numpy as np"
   ]
  },
  {
   "cell_type": "code",
   "execution_count": 2,
   "metadata": {},
   "outputs": [
    {
     "name": "stdout",
     "output_type": "stream",
     "text": [
      "cumsum tensor([[1., 3., 6.],\n",
      "        [2., 4., 6.],\n",
      "        [3., 6., 9.]], grad_fn=<CumsumBackward0>)\n"
     ]
    }
   ],
   "source": [
    "a = torch.tensor([[1.0,2.0,3.0],\n",
    "              [2.0,2.0,2.0],\n",
    "              [3.0,3.0,3.0]], requires_grad=True)\n",
    "\n",
    "print('cumsum', a.cumsum(axis=1))\n",
    "\n",
    "def cs(a):\n",
    "    return a.cumsum(axis=1).sum()"
   ]
  },
  {
   "cell_type": "code",
   "execution_count": 3,
   "metadata": {},
   "outputs": [
    {
     "data": {
      "text/plain": [
       "tensor([[3., 2., 1.],\n",
       "        [3., 2., 1.],\n",
       "        [3., 2., 1.]])"
      ]
     },
     "execution_count": 3,
     "metadata": {},
     "output_type": "execute_result"
    }
   ],
   "source": [
    "f = cs(a)\n",
    "f.backward()\n",
    "a.grad"
   ]
  },
  {
   "cell_type": "code",
   "execution_count": 4,
   "metadata": {},
   "outputs": [
    {
     "name": "stdout",
     "output_type": "stream",
     "text": [
      "tensor([[1., 3., 6.],\n",
      "        [2., 4., 6.],\n",
      "        [3., 6., 9.]], grad_fn=<CumsumBackward0>)\n",
      "tensor([[1., 0., 0.],\n",
      "        [0., 1., 1.],\n",
      "        [0., 0., 0.]])\n"
     ]
    },
    {
     "data": {
      "text/plain": [
       "tensor([[1., 3., 3.],\n",
       "        [2., 4., 4.],\n",
       "        [3., 6., 6.]], grad_fn=<MmBackward0>)"
      ]
     },
     "execution_count": 4,
     "metadata": {},
     "output_type": "execute_result"
    }
   ],
   "source": [
    "y = torch.tensor([ # has to be fully dimensional for all scenarios\n",
    "        [1., 0., 0.],\n",
    "        [0., 1., 0.],\n",
    "        [0., 1., 0.]])\n",
    "\n",
    "b = torch.tensor([  [1.0,2.0,3.0],\n",
    "                    [2.0,2.0,2.0],\n",
    "                    [3.0,3.0,3.0]], requires_grad=True)\n",
    "c = b.cumsum(axis=1)\n",
    "print(c)\n",
    "print(y.transpose(0,1))\n",
    "c.matmul(y.transpose(0,1))"
   ]
  },
  {
   "cell_type": "code",
   "execution_count": 5,
   "metadata": {},
   "outputs": [
    {
     "data": {
      "text/plain": [
       "tensor([[3., 2., 0.],\n",
       "        [3., 2., 0.],\n",
       "        [3., 2., 0.]])"
      ]
     },
     "execution_count": 5,
     "metadata": {},
     "output_type": "execute_result"
    }
   ],
   "source": [
    "b = torch.tensor([  [1.0,2.0,3.0],\n",
    "                    [2.0,2.0,2.0],\n",
    "                    [3.0,3.0,3.0]], requires_grad=True)\n",
    "y = torch.tensor([ # has to be fully dimensional for all scenarios\n",
    "        [1., 0., 0.],\n",
    "        [0., 1., 0.],\n",
    "        [0., 1., 0.]])\n",
    "\n",
    "def cmatmul(b,y):\n",
    "    c = b.cumsum(axis=1)\n",
    "    return c.matmul(y.transpose(0,1)).sum()\n",
    "\n",
    "f = cmatmul(b,y)\n",
    "f.backward()\n",
    "b.grad"
   ]
  },
  {
   "cell_type": "code",
   "execution_count": 6,
   "metadata": {},
   "outputs": [
    {
     "data": {
      "text/plain": [
       "tensor([[1., 0., 0.],\n",
       "        [0., 1., 1.],\n",
       "        [0., 0., 0.]])"
      ]
     },
     "execution_count": 6,
     "metadata": {},
     "output_type": "execute_result"
    }
   ],
   "source": [
    "torch.tensor([[1., 0., 0.],\n",
    "        [0., 1., 1.],\n",
    "        [0., 0., 0.]])"
   ]
  },
  {
   "cell_type": "code",
   "execution_count": 8,
   "metadata": {},
   "outputs": [
    {
     "data": {
      "text/plain": [
       "tensor([[3., 2., 0.],\n",
       "        [3., 2., 0.],\n",
       "        [3., 2., 0.]])"
      ]
     },
     "execution_count": 8,
     "metadata": {},
     "output_type": "execute_result"
    }
   ],
   "source": [
    "b = torch.tensor([  [1.0,2.0,3.0],\n",
    "                    [2.0,2.0,2.0],\n",
    "                    [3.0,3.0,3.0]], requires_grad=True)\n",
    "y = torch.tensor([ # has to be fully dimensional for all scenarios\n",
    "        [1., 0., 0.],\n",
    "        [0., 1., 0.],\n",
    "        [0., 1., 0.]])\n",
    "\n",
    "def cmatmul(b,y):\n",
    "    c = b.cumsum(axis=1)\n",
    "    return c.matmul(y.transpose(0,1)).sum()\n",
    "\n",
    "var = cmatmul(b,y)\n",
    "var.backward()\n",
    "b.grad"
   ]
  },
  {
   "cell_type": "code",
   "execution_count": 9,
   "metadata": {},
   "outputs": [
    {
     "data": {
      "text/plain": [
       "array([[3., 2., 2.],\n",
       "       [3., 2., 2.],\n",
       "       [3., 2., 2.]])"
      ]
     },
     "execution_count": 9,
     "metadata": {},
     "output_type": "execute_result"
    }
   ],
   "source": [
    "a = np.array([[3., 2., 1.],\n",
    "        [3., 2., 1.],\n",
    "        [3., 2., 1.]])\n",
    "\n",
    "b = np.array([ # has to be fully dimensional for all scenarios\n",
    "        [1., 0., 0.],\n",
    "        [0., 1., 0.],\n",
    "        [0., 1., 0.]])\n",
    "\n",
    "a@b.T"
   ]
  },
  {
   "cell_type": "code",
   "execution_count": null,
   "metadata": {},
   "outputs": [
    {
     "data": {
      "text/plain": [
       "array([[0., 3., 6., 6.],\n",
       "       [2., 0., 6., 6.],\n",
       "       [3., 6., 0., 9.]])"
      ]
     },
     "execution_count": 28,
     "metadata": {},
     "output_type": "execute_result"
    }
   ],
   "source": [
    "b = np.array([  [1.0,2.0,3.0,0.0],\n",
    "                    [2.0,2.0,2.0, 0.0],\n",
    "                    [3.0,3.0,3.0,0.0]])\n",
    "\n",
    "c = b.cumsum(axis=1)\n",
    "f = np.zeros((b.shape[0],b.shape[1]))\n",
    "diag= []\n",
    "for i in range(b.shape[0]):\n",
    "    for j in range(b.shape[1]):\n",
    "        if i==j:\n",
    "            diag.append(c[i,j])\n",
    "        if i!=j:\n",
    "            f[i,j] = c[i,j]\n",
    "\n",
    "f"
   ]
  },
  {
   "cell_type": "code",
   "execution_count": null,
   "metadata": {},
   "outputs": [
    {
     "data": {
      "text/plain": [
       "[1.0, 4.0, 9.0]"
      ]
     },
     "execution_count": 29,
     "metadata": {},
     "output_type": "execute_result"
    }
   ],
   "source": [
    "diag"
   ]
  },
  {
   "cell_type": "code",
   "execution_count": null,
   "metadata": {},
   "outputs": [],
   "source": []
  }
 ],
 "metadata": {
  "kernelspec": {
   "display_name": "xgbsurv",
   "language": "python",
   "name": "python3"
  },
  "language_info": {
   "codemirror_mode": {
    "name": "ipython",
    "version": 3
   },
   "file_extension": ".py",
   "mimetype": "text/x-python",
   "name": "python",
   "nbconvert_exporter": "python",
   "pygments_lexer": "ipython3",
   "version": "3.11.3"
  },
  "orig_nbformat": 4
 },
 "nbformat": 4,
 "nbformat_minor": 2
}
