{
 "cells": [
  {
   "cell_type": "code",
   "execution_count": 63,
   "metadata": {},
   "outputs": [
    {
     "name": "stdout",
     "output_type": "stream",
     "text": [
      "(400,)\n",
      "(100,)\n",
      "(100, 2155)\n",
      "(2155,)\n",
      "Integrated Brier Score: 0.196\n"
     ]
    }
   ],
   "source": [
    "# import necessary libraries\n",
    "import numpy as np\n",
    "import pandas as pd\n",
    "from sksurv.datasets import load_whas500\n",
    "from sklearn.model_selection import train_test_split\n",
    "from sksurv.linear_model import CoxPHSurvivalAnalysis\n",
    "from sksurv.metrics import integrated_brier_score\n",
    "\n",
    "X, y = load_whas500()\n",
    "\n",
    "X = X.astype(float)\n",
    "\n",
    "# split dataset into training and testing sets\n",
    "X_train, X_test, y_train, y_test = train_test_split(X, y, test_size=0.2, random_state=1234)\n",
    "\n",
    "# fit Cox proportional hazards model on training data\n",
    "coxph = CoxPHSurvivalAnalysis()\n",
    "coxph.fit(X_train, y_train)\n",
    "\n",
    "#survival_train = coxph.predict_survival_function(X_train)\n",
    "test_times = y_test['lenfol']\n",
    "survs = coxph.predict_survival_function(X_test)\n",
    "times = np.arange(365, 1826)\n",
    "preds = np.asarray([[fn(t) for t in times] for fn in survs])\n",
    "times = np.arange(y_test['lenfol'].min(),y_test['lenfol'].max())\n",
    "preds = np.asarray([[fn(t) for t in times] for fn in survs])\n",
    "#preds = np.asarray([[fn(t) for t in test_times] for fn in survs])\n",
    "\n",
    "#integrated_brier_score(survival_train, survival_test, estimate, times)\n",
    "\n",
    "print(y_train.shape)\n",
    "print(y_test.shape)\n",
    "print(preds.shape)\n",
    "print(times.shape)\n",
    "# calculate the integrated Brier score\n",
    "ibs = integrated_brier_score(y_train,  y_test, preds, times)\n",
    "print(\"Integrated Brier Score: {:.3f}\".format(ibs))\n"
   ]
  },
  {
   "cell_type": "code",
   "execution_count": 64,
   "metadata": {},
   "outputs": [
    {
     "data": {
      "text/plain": [
       "array([1.000e+00, 2.000e+00, 3.000e+00, ..., 2.153e+03, 2.154e+03,\n",
       "       2.155e+03])"
      ]
     },
     "execution_count": 64,
     "metadata": {},
     "output_type": "execute_result"
    }
   ],
   "source": []
  },
  {
   "cell_type": "code",
   "execution_count": 62,
   "metadata": {},
   "outputs": [
    {
     "ename": "TypeError",
     "evalue": "float() argument must be a string or a real number, not 'StepFunction'",
     "output_type": "error",
     "traceback": [
      "\u001b[0;31m---------------------------------------------------------------------------\u001b[0m",
      "\u001b[0;31mTypeError\u001b[0m                                 Traceback (most recent call last)",
      "Cell \u001b[0;32mIn[62], line 26\u001b[0m\n\u001b[1;32m     23\u001b[0m survival_probabilities \u001b[39m=\u001b[39m estimator\u001b[39m.\u001b[39mpredict_survival_function(test_x)\n\u001b[1;32m     25\u001b[0m \u001b[39m# Compute the integrated Brier score for the test set\u001b[39;00m\n\u001b[0;32m---> 26\u001b[0m ibs \u001b[39m=\u001b[39m integrated_brier_score(train_y, test_y, survival_probabilities, np\u001b[39m.\u001b[39;49marange(\u001b[39m1\u001b[39;49m, \u001b[39m6\u001b[39;49m))\n\u001b[1;32m     28\u001b[0m \u001b[39mprint\u001b[39m(\u001b[39m\"\u001b[39m\u001b[39mIntegrated Brier score: \u001b[39m\u001b[39m{:.3f}\u001b[39;00m\u001b[39m\"\u001b[39m\u001b[39m.\u001b[39mformat(ibs))\n",
      "File \u001b[0;32m~/miniconda3/envs/xgbsurv/lib/python3.10/site-packages/sksurv/metrics.py:742\u001b[0m, in \u001b[0;36mintegrated_brier_score\u001b[0;34m(survival_train, survival_test, estimate, times)\u001b[0m\n\u001b[1;32m    648\u001b[0m \u001b[39m\u001b[39m\u001b[39m\"\"\"The Integrated Brier Score (IBS) provides an overall calculation of\u001b[39;00m\n\u001b[1;32m    649\u001b[0m \u001b[39mthe model performance at all available times :math:`t_1 \\\\leq t \\\\leq t_\\\\text{max}`.\u001b[39;00m\n\u001b[1;32m    650\u001b[0m \n\u001b[0;32m   (...)\u001b[0m\n\u001b[1;32m    739\u001b[0m \u001b[39m       Statistics in Medicine, vol. 18, no. 17-18, pp. 2529–2545, 1999.\u001b[39;00m\n\u001b[1;32m    740\u001b[0m \u001b[39m\"\"\"\u001b[39;00m\n\u001b[1;32m    741\u001b[0m \u001b[39m# Computing the brier scores\u001b[39;00m\n\u001b[0;32m--> 742\u001b[0m times, brier_scores \u001b[39m=\u001b[39m brier_score(survival_train, survival_test, estimate, times)\n\u001b[1;32m    744\u001b[0m \u001b[39mif\u001b[39;00m times\u001b[39m.\u001b[39mshape[\u001b[39m0\u001b[39m] \u001b[39m<\u001b[39m \u001b[39m2\u001b[39m:\n\u001b[1;32m    745\u001b[0m     \u001b[39mraise\u001b[39;00m \u001b[39mValueError\u001b[39;00m(\u001b[39m\"\u001b[39m\u001b[39mAt least two time points must be given\u001b[39m\u001b[39m\"\u001b[39m)\n",
      "File \u001b[0;32m~/miniconda3/envs/xgbsurv/lib/python3.10/site-packages/sksurv/metrics.py:617\u001b[0m, in \u001b[0;36mbrier_score\u001b[0;34m(survival_train, survival_test, estimate, times)\u001b[0m\n\u001b[1;32m    525\u001b[0m \u001b[39m\u001b[39m\u001b[39m\"\"\"Estimate the time-dependent Brier score for right censored data.\u001b[39;00m\n\u001b[1;32m    526\u001b[0m \n\u001b[1;32m    527\u001b[0m \u001b[39mThe time-dependent Brier score is the mean squared error at time point :math:`t`:\u001b[39;00m\n\u001b[0;32m   (...)\u001b[0m\n\u001b[1;32m    614\u001b[0m \u001b[39m       Statistics in Medicine, vol. 18, no. 17-18, pp. 2529–2545, 1999.\u001b[39;00m\n\u001b[1;32m    615\u001b[0m \u001b[39m\"\"\"\u001b[39;00m\n\u001b[1;32m    616\u001b[0m test_event, test_time \u001b[39m=\u001b[39m check_y_survival(survival_test)\n\u001b[0;32m--> 617\u001b[0m estimate, times \u001b[39m=\u001b[39m _check_estimate_2d(\n\u001b[1;32m    618\u001b[0m     estimate, test_time, times, estimator\u001b[39m=\u001b[39;49m\u001b[39m\"\u001b[39;49m\u001b[39mbrier_score\u001b[39;49m\u001b[39m\"\u001b[39;49m\n\u001b[1;32m    619\u001b[0m )\n\u001b[1;32m    620\u001b[0m \u001b[39mif\u001b[39;00m estimate\u001b[39m.\u001b[39mndim \u001b[39m==\u001b[39m \u001b[39m1\u001b[39m \u001b[39mand\u001b[39;00m times\u001b[39m.\u001b[39mshape[\u001b[39m0\u001b[39m] \u001b[39m==\u001b[39m \u001b[39m1\u001b[39m:\n\u001b[1;32m    621\u001b[0m     estimate \u001b[39m=\u001b[39m estimate\u001b[39m.\u001b[39mreshape(\u001b[39m-\u001b[39m\u001b[39m1\u001b[39m, \u001b[39m1\u001b[39m)\n",
      "File \u001b[0;32m~/miniconda3/envs/xgbsurv/lib/python3.10/site-packages/sksurv/metrics.py:78\u001b[0m, in \u001b[0;36m_check_estimate_2d\u001b[0;34m(estimate, test_time, time_points, estimator)\u001b[0m\n\u001b[1;32m     77\u001b[0m \u001b[39mdef\u001b[39;00m \u001b[39m_check_estimate_2d\u001b[39m(estimate, test_time, time_points, estimator):\n\u001b[0;32m---> 78\u001b[0m     estimate \u001b[39m=\u001b[39m check_array(estimate, ensure_2d\u001b[39m=\u001b[39;49m\u001b[39mFalse\u001b[39;49;00m, allow_nd\u001b[39m=\u001b[39;49m\u001b[39mFalse\u001b[39;49;00m, input_name\u001b[39m=\u001b[39;49m\u001b[39m\"\u001b[39;49m\u001b[39mestimate\u001b[39;49m\u001b[39m\"\u001b[39;49m, estimator\u001b[39m=\u001b[39;49mestimator)\n\u001b[1;32m     79\u001b[0m     time_points \u001b[39m=\u001b[39m _check_times(test_time, time_points)\n\u001b[1;32m     80\u001b[0m     check_consistent_length(test_time, estimate)\n",
      "File \u001b[0;32m~/miniconda3/envs/xgbsurv/lib/python3.10/site-packages/sklearn/utils/validation.py:879\u001b[0m, in \u001b[0;36mcheck_array\u001b[0;34m(array, accept_sparse, accept_large_sparse, dtype, order, copy, force_all_finite, ensure_2d, allow_nd, ensure_min_samples, ensure_min_features, estimator, input_name)\u001b[0m\n\u001b[1;32m    877\u001b[0m         array \u001b[39m=\u001b[39m xp\u001b[39m.\u001b[39mastype(array, dtype, copy\u001b[39m=\u001b[39m\u001b[39mFalse\u001b[39;00m)\n\u001b[1;32m    878\u001b[0m     \u001b[39melse\u001b[39;00m:\n\u001b[0;32m--> 879\u001b[0m         array \u001b[39m=\u001b[39m _asarray_with_order(array, order\u001b[39m=\u001b[39;49morder, dtype\u001b[39m=\u001b[39;49mdtype, xp\u001b[39m=\u001b[39;49mxp)\n\u001b[1;32m    880\u001b[0m \u001b[39mexcept\u001b[39;00m ComplexWarning \u001b[39mas\u001b[39;00m complex_warning:\n\u001b[1;32m    881\u001b[0m     \u001b[39mraise\u001b[39;00m \u001b[39mValueError\u001b[39;00m(\n\u001b[1;32m    882\u001b[0m         \u001b[39m\"\u001b[39m\u001b[39mComplex data not supported\u001b[39m\u001b[39m\\n\u001b[39;00m\u001b[39m{}\u001b[39;00m\u001b[39m\\n\u001b[39;00m\u001b[39m\"\u001b[39m\u001b[39m.\u001b[39mformat(array)\n\u001b[1;32m    883\u001b[0m     ) \u001b[39mfrom\u001b[39;00m \u001b[39mcomplex_warning\u001b[39;00m\n",
      "File \u001b[0;32m~/miniconda3/envs/xgbsurv/lib/python3.10/site-packages/sklearn/utils/_array_api.py:185\u001b[0m, in \u001b[0;36m_asarray_with_order\u001b[0;34m(array, dtype, order, copy, xp)\u001b[0m\n\u001b[1;32m    182\u001b[0m     xp, _ \u001b[39m=\u001b[39m get_namespace(array)\n\u001b[1;32m    183\u001b[0m \u001b[39mif\u001b[39;00m xp\u001b[39m.\u001b[39m\u001b[39m__name__\u001b[39m \u001b[39min\u001b[39;00m {\u001b[39m\"\u001b[39m\u001b[39mnumpy\u001b[39m\u001b[39m\"\u001b[39m, \u001b[39m\"\u001b[39m\u001b[39mnumpy.array_api\u001b[39m\u001b[39m\"\u001b[39m}:\n\u001b[1;32m    184\u001b[0m     \u001b[39m# Use NumPy API to support order\u001b[39;00m\n\u001b[0;32m--> 185\u001b[0m     array \u001b[39m=\u001b[39m numpy\u001b[39m.\u001b[39;49masarray(array, order\u001b[39m=\u001b[39;49morder, dtype\u001b[39m=\u001b[39;49mdtype)\n\u001b[1;32m    186\u001b[0m     \u001b[39mreturn\u001b[39;00m xp\u001b[39m.\u001b[39masarray(array, copy\u001b[39m=\u001b[39mcopy)\n\u001b[1;32m    187\u001b[0m \u001b[39melse\u001b[39;00m:\n",
      "\u001b[0;31mTypeError\u001b[0m: float() argument must be a string or a real number, not 'StepFunction'"
     ]
    }
   ],
   "source": [
    "# Import necessary libraries\n",
    "import numpy as np\n",
    "import pandas as pd\n",
    "from sksurv.datasets import load_whas500\n",
    "from sksurv.linear_model import CoxPHSurvivalAnalysis\n",
    "from sksurv.metrics import concordance_index_censored, brier_score, integrated_brier_score\n",
    "from sklearn.model_selection import train_test_split\n",
    "\n",
    "X, y = load_whas500()\n",
    "\n",
    "X = X.astype(float)\n",
    "\n",
    "\n",
    "\n",
    "# Split the data into train and test sets\n",
    "train_x, test_x, train_y, test_y = train_test_split(X, y, test_size=0.2, random_state=42)\n",
    "\n",
    "# Train the Cox proportional hazards model on the training set\n",
    "estimator = CoxPHSurvivalAnalysis()\n",
    "estimator.fit(train_x, train_y)\n",
    "\n",
    "# Predict the survival probabilities for the test set\n",
    "survival_probabilities = estimator.predict_survival_function(test_x)\n",
    "\n",
    "# Compute the integrated Brier score for the test set\n",
    "ibs = integrated_brier_score(train_y, test_y, survival_probabilities, np.arange(1, 6))\n",
    "\n",
    "print(\"Integrated Brier score: {:.3f}\".format(ibs))\n"
   ]
  },
  {
   "cell_type": "code",
   "execution_count": 53,
   "metadata": {},
   "outputs": [
    {
     "data": {
      "text/html": [
       "<div>\n",
       "<style scoped>\n",
       "    .dataframe tbody tr th:only-of-type {\n",
       "        vertical-align: middle;\n",
       "    }\n",
       "\n",
       "    .dataframe tbody tr th {\n",
       "        vertical-align: top;\n",
       "    }\n",
       "\n",
       "    .dataframe thead th {\n",
       "        text-align: right;\n",
       "    }\n",
       "</style>\n",
       "<table border=\"1\" class=\"dataframe\">\n",
       "  <thead>\n",
       "    <tr style=\"text-align: right;\">\n",
       "      <th></th>\n",
       "      <th>fstat</th>\n",
       "      <th>lenfol</th>\n",
       "    </tr>\n",
       "  </thead>\n",
       "  <tbody>\n",
       "    <tr>\n",
       "      <th>0</th>\n",
       "      <td>False</td>\n",
       "      <td>2178.0</td>\n",
       "    </tr>\n",
       "    <tr>\n",
       "      <th>1</th>\n",
       "      <td>False</td>\n",
       "      <td>2172.0</td>\n",
       "    </tr>\n",
       "    <tr>\n",
       "      <th>2</th>\n",
       "      <td>False</td>\n",
       "      <td>2190.0</td>\n",
       "    </tr>\n",
       "    <tr>\n",
       "      <th>3</th>\n",
       "      <td>True</td>\n",
       "      <td>297.0</td>\n",
       "    </tr>\n",
       "    <tr>\n",
       "      <th>4</th>\n",
       "      <td>False</td>\n",
       "      <td>2131.0</td>\n",
       "    </tr>\n",
       "    <tr>\n",
       "      <th>...</th>\n",
       "      <td>...</td>\n",
       "      <td>...</td>\n",
       "    </tr>\n",
       "    <tr>\n",
       "      <th>495</th>\n",
       "      <td>True</td>\n",
       "      <td>10.0</td>\n",
       "    </tr>\n",
       "    <tr>\n",
       "      <th>496</th>\n",
       "      <td>False</td>\n",
       "      <td>662.0</td>\n",
       "    </tr>\n",
       "    <tr>\n",
       "      <th>497</th>\n",
       "      <td>False</td>\n",
       "      <td>725.0</td>\n",
       "    </tr>\n",
       "    <tr>\n",
       "      <th>498</th>\n",
       "      <td>False</td>\n",
       "      <td>532.0</td>\n",
       "    </tr>\n",
       "    <tr>\n",
       "      <th>499</th>\n",
       "      <td>True</td>\n",
       "      <td>259.0</td>\n",
       "    </tr>\n",
       "  </tbody>\n",
       "</table>\n",
       "<p>500 rows × 2 columns</p>\n",
       "</div>"
      ],
      "text/plain": [
       "     fstat  lenfol\n",
       "0    False  2178.0\n",
       "1    False  2172.0\n",
       "2    False  2190.0\n",
       "3     True   297.0\n",
       "4    False  2131.0\n",
       "..     ...     ...\n",
       "495   True    10.0\n",
       "496  False   662.0\n",
       "497  False   725.0\n",
       "498  False   532.0\n",
       "499   True   259.0\n",
       "\n",
       "[500 rows x 2 columns]"
      ]
     },
     "execution_count": 53,
     "metadata": {},
     "output_type": "execute_result"
    }
   ],
   "source": [
    "pd.DataFrame.from_records(y)"
   ]
  },
  {
   "cell_type": "code",
   "execution_count": 28,
   "metadata": {},
   "outputs": [
    {
     "data": {
      "text/plain": [
       "(97,)"
      ]
     },
     "execution_count": 28,
     "metadata": {},
     "output_type": "execute_result"
    }
   ],
   "source": [
    "np.unique(test_times).shape"
   ]
  },
  {
   "cell_type": "code",
   "execution_count": 33,
   "metadata": {},
   "outputs": [
    {
     "data": {
      "text/plain": [
       "(100, 14)"
      ]
     },
     "execution_count": 33,
     "metadata": {},
     "output_type": "execute_result"
    }
   ],
   "source": [
    "X_test.shape"
   ]
  },
  {
   "cell_type": "code",
   "execution_count": null,
   "metadata": {},
   "outputs": [],
   "source": [
    "100 people, but it should be more times"
   ]
  }
 ],
 "metadata": {
  "kernelspec": {
   "display_name": "xgbsurv",
   "language": "python",
   "name": "python3"
  },
  "language_info": {
   "codemirror_mode": {
    "name": "ipython",
    "version": 3
   },
   "file_extension": ".py",
   "mimetype": "text/x-python",
   "name": "python",
   "nbconvert_exporter": "python",
   "pygments_lexer": "ipython3",
   "version": "3.10.10"
  },
  "orig_nbformat": 4
 },
 "nbformat": 4,
 "nbformat_minor": 2
}
